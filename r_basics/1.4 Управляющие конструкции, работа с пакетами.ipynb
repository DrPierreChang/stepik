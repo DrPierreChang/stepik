{
 "cells": [
  {
   "cell_type": "code",
   "execution_count": 13,
   "id": "432257e4",
   "metadata": {},
   "outputs": [],
   "source": [
    "a = 10"
   ]
  },
  {
   "cell_type": "code",
   "execution_count": 12,
   "id": "ca2bdcef",
   "metadata": {},
   "outputs": [
    {
     "name": "stdout",
     "output_type": "stream",
     "text": [
      "[1] \"True\"\n"
     ]
    }
   ],
   "source": [
    "# if / else\n",
    "if (sqrt(a) <= 4) {\n",
    "    print(\"True\")\n",
    "}else {\n",
    "    print(\"False\")\n",
    "}"
   ]
  },
  {
   "cell_type": "code",
   "execution_count": 18,
   "id": "02374339",
   "metadata": {},
   "outputs": [
    {
     "name": "stderr",
     "output_type": "stream",
     "text": [
      "Warning message in if (c(T, F)) {:\n",
      "“длина условия > 1, будет использован только первый элемент”"
     ]
    },
    {
     "name": "stdout",
     "output_type": "stream",
     "text": [
      "[1] \"Hmmm...\"\n"
     ]
    }
   ],
   "source": [
    "if (c(T, F)) {\n",
    "    print(\"Hmmm...\")\n",
    "}"
   ]
  },
  {
   "cell_type": "code",
   "execution_count": 21,
   "id": "308a3afd",
   "metadata": {},
   "outputs": [
    {
     "data": {
      "text/html": [
       "<ol class=list-inline>\n",
       "\t<li>'True'</li>\n",
       "\t<li>'False'</li>\n",
       "\t<li>'True'</li>\n",
       "\t<li>'True'</li>\n",
       "\t<li>'True'</li>\n",
       "\t<li>'False'</li>\n",
       "\t<li>'True'</li>\n",
       "\t<li>'False'</li>\n",
       "</ol>\n"
      ],
      "text/latex": [
       "\\begin{enumerate*}\n",
       "\\item 'True'\n",
       "\\item 'False'\n",
       "\\item 'True'\n",
       "\\item 'True'\n",
       "\\item 'True'\n",
       "\\item 'False'\n",
       "\\item 'True'\n",
       "\\item 'False'\n",
       "\\end{enumerate*}\n"
      ],
      "text/markdown": [
       "1. 'True'\n",
       "2. 'False'\n",
       "3. 'True'\n",
       "4. 'True'\n",
       "5. 'True'\n",
       "6. 'False'\n",
       "7. 'True'\n",
       "8. 'False'\n",
       "\n",
       "\n"
      ],
      "text/plain": [
       "[1] \"True\"  \"False\" \"True\"  \"True\"  \"True\"  \"False\" \"True\"  \"False\""
      ]
     },
     "metadata": {},
     "output_type": "display_data"
    }
   ],
   "source": [
    "# подбрасывание монетки\n",
    "ifelse (runif(8) > 0.5, \"True\", \"False\")"
   ]
  },
  {
   "cell_type": "code",
   "execution_count": 235,
   "id": "fe2cc17e",
   "metadata": {},
   "outputs": [],
   "source": [
    "# монополия\n",
    "dice_roll <- function(n) {\n",
    "    return(sample.int(6, size = n, replace = T))\n",
    "}"
   ]
  },
  {
   "cell_type": "code",
   "execution_count": 24,
   "id": "39a2c83c",
   "metadata": {},
   "outputs": [
    {
     "data": {
      "text/html": [
       "<ol class=list-inline>\n",
       "\t<li>'Бумага'</li>\n",
       "\t<li>'Бумага'</li>\n",
       "\t<li>'Ножницы'</li>\n",
       "\t<li>'Камень'</li>\n",
       "\t<li>'Камень'</li>\n",
       "\t<li>'Камень'</li>\n",
       "\t<li>'Бумага'</li>\n",
       "\t<li>'Камень'</li>\n",
       "</ol>\n"
      ],
      "text/latex": [
       "\\begin{enumerate*}\n",
       "\\item 'Бумага'\n",
       "\\item 'Бумага'\n",
       "\\item 'Ножницы'\n",
       "\\item 'Камень'\n",
       "\\item 'Камень'\n",
       "\\item 'Камень'\n",
       "\\item 'Бумага'\n",
       "\\item 'Камень'\n",
       "\\end{enumerate*}\n"
      ],
      "text/markdown": [
       "1. 'Бумага'\n",
       "2. 'Бумага'\n",
       "3. 'Ножницы'\n",
       "4. 'Камень'\n",
       "5. 'Камень'\n",
       "6. 'Камень'\n",
       "7. 'Бумага'\n",
       "8. 'Камень'\n",
       "\n",
       "\n"
      ],
      "text/plain": [
       "[1] \"Бумага\"  \"Бумага\"  \"Ножницы\" \"Камень\"  \"Камень\"  \"Камень\"  \"Бумага\" \n",
       "[8] \"Камень\" "
      ]
     },
     "metadata": {},
     "output_type": "display_data"
    }
   ],
   "source": [
    "# вложенные условия \n",
    "a <- runif(8)\n",
    "ifelse(a > 2/3, \"Камень\",\n",
    "      ifelse(a > 1/3, \"Ножницы\", \"Бумага\"))"
   ]
  },
  {
   "cell_type": "code",
   "execution_count": null,
   "id": "a52e0dec",
   "metadata": {},
   "outputs": [],
   "source": []
  },
  {
   "cell_type": "code",
   "execution_count": 34,
   "id": "ee502b9f",
   "metadata": {},
   "outputs": [
    {
     "data": {
      "text/html": [
       "<ol class=list-inline>\n",
       "\t<li>'Правда'</li>\n",
       "\t<li>'Ложь'</li>\n",
       "\t<li>'Правда'</li>\n",
       "\t<li>'Ложь'</li>\n",
       "\t<li>'Правда'</li>\n",
       "\t<li>'Ложь'</li>\n",
       "\t<li>'Правда'</li>\n",
       "\t<li>'Ложь'</li>\n",
       "\t<li>'Правда'</li>\n",
       "\t<li>'Ложь'</li>\n",
       "\t<li>'Правда'</li>\n",
       "\t<li>'Ложь'</li>\n",
       "\t<li>'Правда'</li>\n",
       "\t<li>'Ложь'</li>\n",
       "\t<li>'Правда'</li>\n",
       "\t<li>'Ложь'</li>\n",
       "\t<li>'Правда'</li>\n",
       "\t<li>'Ложь'</li>\n",
       "\t<li>'Правда'</li>\n",
       "\t<li>'Ложь'</li>\n",
       "</ol>\n"
      ],
      "text/latex": [
       "\\begin{enumerate*}\n",
       "\\item 'Правда'\n",
       "\\item 'Ложь'\n",
       "\\item 'Правда'\n",
       "\\item 'Ложь'\n",
       "\\item 'Правда'\n",
       "\\item 'Ложь'\n",
       "\\item 'Правда'\n",
       "\\item 'Ложь'\n",
       "\\item 'Правда'\n",
       "\\item 'Ложь'\n",
       "\\item 'Правда'\n",
       "\\item 'Ложь'\n",
       "\\item 'Правда'\n",
       "\\item 'Ложь'\n",
       "\\item 'Правда'\n",
       "\\item 'Ложь'\n",
       "\\item 'Правда'\n",
       "\\item 'Ложь'\n",
       "\\item 'Правда'\n",
       "\\item 'Ложь'\n",
       "\\end{enumerate*}\n"
      ],
      "text/markdown": [
       "1. 'Правда'\n",
       "2. 'Ложь'\n",
       "3. 'Правда'\n",
       "4. 'Ложь'\n",
       "5. 'Правда'\n",
       "6. 'Ложь'\n",
       "7. 'Правда'\n",
       "8. 'Ложь'\n",
       "9. 'Правда'\n",
       "10. 'Ложь'\n",
       "11. 'Правда'\n",
       "12. 'Ложь'\n",
       "13. 'Правда'\n",
       "14. 'Ложь'\n",
       "15. 'Правда'\n",
       "16. 'Ложь'\n",
       "17. 'Правда'\n",
       "18. 'Ложь'\n",
       "19. 'Правда'\n",
       "20. 'Ложь'\n",
       "\n",
       "\n"
      ],
      "text/plain": [
       " [1] \"Правда\" \"Ложь\"   \"Правда\" \"Ложь\"   \"Правда\" \"Ложь\"   \"Правда\" \"Ложь\"  \n",
       " [9] \"Правда\" \"Ложь\"   \"Правда\" \"Ложь\"   \"Правда\" \"Ложь\"   \"Правда\" \"Ложь\"  \n",
       "[17] \"Правда\" \"Ложь\"   \"Правда\" \"Ложь\"  "
      ]
     },
     "metadata": {},
     "output_type": "display_data"
    }
   ],
   "source": [
    "ifelse((rep(c(T, F), times = 10)) , \"Правда\", \"Ложь\")"
   ]
  },
  {
   "cell_type": "code",
   "execution_count": 73,
   "id": "e3c020a5",
   "metadata": {},
   "outputs": [],
   "source": [
    "f <- function(v) {\n",
    "    switch (v,\n",
    "    sum = 5 + 5,\n",
    "    product = 5 * 5,\n",
    "    factorial = factorial(5),\n",
    "    0)\n",
    "}\n"
   ]
  },
  {
   "cell_type": "code",
   "execution_count": 74,
   "id": "369de3f8",
   "metadata": {},
   "outputs": [
    {
     "data": {
      "text/html": [
       "10"
      ],
      "text/latex": [
       "10"
      ],
      "text/markdown": [
       "10"
      ],
      "text/plain": [
       "[1] 10"
      ]
     },
     "metadata": {},
     "output_type": "display_data"
    }
   ],
   "source": [
    "f('sum')"
   ]
  },
  {
   "cell_type": "code",
   "execution_count": 75,
   "id": "00c83f2e",
   "metadata": {},
   "outputs": [],
   "source": [
    "v = 'factorial'"
   ]
  },
  {
   "cell_type": "code",
   "execution_count": 76,
   "id": "14d4c602",
   "metadata": {},
   "outputs": [
    {
     "data": {
      "text/html": [
       "120"
      ],
      "text/latex": [
       "120"
      ],
      "text/markdown": [
       "120"
      ],
      "text/plain": [
       "[1] 120"
      ]
     },
     "metadata": {},
     "output_type": "display_data"
    }
   ],
   "source": [
    " switch (v,\n",
    "         sum = 5 + 5,\n",
    "         product = 5 * 5,\n",
    "         factorial = factorial(5),\n",
    "         0)"
   ]
  },
  {
   "cell_type": "code",
   "execution_count": 77,
   "id": "a588cf10",
   "metadata": {},
   "outputs": [],
   "source": [
    "# цикл repeat"
   ]
  },
  {
   "cell_type": "code",
   "execution_count": 78,
   "id": "3aba0511",
   "metadata": {},
   "outputs": [
    {
     "name": "stdout",
     "output_type": "stream",
     "text": [
      "[1] 0.109891\n",
      "[1] 0.2574684\n",
      "[1] 0.54332\n",
      "[1] 0.6512096\n",
      "[1] 1.329228\n",
      "[1] 1.579356\n",
      "[1] 1.700511\n",
      "[1] 1.816659\n",
      "[1] 2.506788\n",
      "[1] 2.986389\n",
      "[1] 3.879354\n",
      "[1] 4.120277\n",
      "[1] 4.658253\n",
      "[1] 4.697519\n",
      "[1] 5.475011\n"
     ]
    }
   ],
   "source": [
    "i <- 0\n",
    "repeat {\n",
    "    i <- i + runif(1)\n",
    "    print(i)\n",
    "    if (i > 5) {\n",
    "        break\n",
    "    }\n",
    "}"
   ]
  },
  {
   "cell_type": "code",
   "execution_count": 82,
   "id": "14f70869",
   "metadata": {},
   "outputs": [],
   "source": [
    "# цикл wile"
   ]
  },
  {
   "cell_type": "code",
   "execution_count": 80,
   "id": "1381f3bb",
   "metadata": {},
   "outputs": [],
   "source": [
    "i <- 0"
   ]
  },
  {
   "cell_type": "code",
   "execution_count": 81,
   "id": "4aa2f225",
   "metadata": {},
   "outputs": [
    {
     "name": "stdout",
     "output_type": "stream",
     "text": [
      "[1] 0.870429\n",
      "[1] 1.410335\n",
      "[1] 2.133486\n",
      "[1] 3.063663\n",
      "[1] 3.337315\n",
      "[1] 3.646008\n",
      "[1] 3.943574\n",
      "[1] 4.88163\n",
      "[1] 4.947799\n",
      "[1] 5.467908\n"
     ]
    }
   ],
   "source": [
    "while (i < 5) {\n",
    "    i <- i + runif(1)\n",
    "    print(i)\n",
    "}"
   ]
  },
  {
   "cell_type": "code",
   "execution_count": 83,
   "id": "68d3ad58",
   "metadata": {},
   "outputs": [
    {
     "name": "stdout",
     "output_type": "stream",
     "text": [
      "[1] 8192\n",
      "[1] 4096\n",
      "[1] 2048\n",
      "[1] 1024\n",
      "[1] 512\n"
     ]
    }
   ],
   "source": [
    "i <- 2 ^ 14\n",
    "while (i > 1000) {\n",
    "    i <- i/2\n",
    "    print(i)\n",
    "}"
   ]
  },
  {
   "cell_type": "code",
   "execution_count": 87,
   "id": "bc38f226",
   "metadata": {},
   "outputs": [
    {
     "name": "stdout",
     "output_type": "stream",
     "text": [
      "[1] 1\n",
      "[1] 2\n",
      "[1] 3\n",
      "[1] 4\n",
      "[1] 5\n",
      "[1] 6\n",
      "[1] 7\n",
      "[1] 8\n",
      "[1] 9\n",
      "[1] 10\n"
     ]
    }
   ],
   "source": [
    "# цикл for\n",
    "for (i in 1:10) {\n",
    "    print(i)\n",
    "}"
   ]
  },
  {
   "cell_type": "code",
   "execution_count": 144,
   "id": "5a63accc",
   "metadata": {},
   "outputs": [
    {
     "name": "stdout",
     "output_type": "stream",
     "text": [
      "[1] 2\n",
      "[1] 4\n",
      "[1] 6\n",
      "[1] 8\n"
     ]
    }
   ],
   "source": [
    "for (i in 1 : 8) {\n",
    "    if (i %% 2 == 0) {\n",
    "        print(i)\n",
    "    }\n",
    "}"
   ]
  },
  {
   "cell_type": "code",
   "execution_count": null,
   "id": "3262fa35",
   "metadata": {},
   "outputs": [],
   "source": []
  },
  {
   "cell_type": "code",
   "execution_count": 92,
   "id": "1735d261",
   "metadata": {},
   "outputs": [
    {
     "data": {
      "text/html": [
       "<ol class=list-inline>\n",
       "\t<li>'a'</li>\n",
       "\t<li>'b'</li>\n",
       "\t<li>'c'</li>\n",
       "\t<li>'d'</li>\n",
       "\t<li>'e'</li>\n",
       "\t<li>'f'</li>\n",
       "\t<li>'g'</li>\n",
       "\t<li>'h'</li>\n",
       "\t<li>'i'</li>\n",
       "\t<li>'j'</li>\n",
       "\t<li>'k'</li>\n",
       "\t<li>'l'</li>\n",
       "\t<li>'m'</li>\n",
       "\t<li>'n'</li>\n",
       "\t<li>'o'</li>\n",
       "\t<li>'p'</li>\n",
       "\t<li>'q'</li>\n",
       "\t<li>'r'</li>\n",
       "\t<li>'s'</li>\n",
       "\t<li>'t'</li>\n",
       "\t<li>'u'</li>\n",
       "\t<li>'v'</li>\n",
       "\t<li>'w'</li>\n",
       "\t<li>'x'</li>\n",
       "\t<li>'y'</li>\n",
       "\t<li>'z'</li>\n",
       "</ol>\n"
      ],
      "text/latex": [
       "\\begin{enumerate*}\n",
       "\\item 'a'\n",
       "\\item 'b'\n",
       "\\item 'c'\n",
       "\\item 'd'\n",
       "\\item 'e'\n",
       "\\item 'f'\n",
       "\\item 'g'\n",
       "\\item 'h'\n",
       "\\item 'i'\n",
       "\\item 'j'\n",
       "\\item 'k'\n",
       "\\item 'l'\n",
       "\\item 'm'\n",
       "\\item 'n'\n",
       "\\item 'o'\n",
       "\\item 'p'\n",
       "\\item 'q'\n",
       "\\item 'r'\n",
       "\\item 's'\n",
       "\\item 't'\n",
       "\\item 'u'\n",
       "\\item 'v'\n",
       "\\item 'w'\n",
       "\\item 'x'\n",
       "\\item 'y'\n",
       "\\item 'z'\n",
       "\\end{enumerate*}\n"
      ],
      "text/markdown": [
       "1. 'a'\n",
       "2. 'b'\n",
       "3. 'c'\n",
       "4. 'd'\n",
       "5. 'e'\n",
       "6. 'f'\n",
       "7. 'g'\n",
       "8. 'h'\n",
       "9. 'i'\n",
       "10. 'j'\n",
       "11. 'k'\n",
       "12. 'l'\n",
       "13. 'm'\n",
       "14. 'n'\n",
       "15. 'o'\n",
       "16. 'p'\n",
       "17. 'q'\n",
       "18. 'r'\n",
       "19. 's'\n",
       "20. 't'\n",
       "21. 'u'\n",
       "22. 'v'\n",
       "23. 'w'\n",
       "24. 'x'\n",
       "25. 'y'\n",
       "26. 'z'\n",
       "\n",
       "\n"
      ],
      "text/plain": [
       " [1] \"a\" \"b\" \"c\" \"d\" \"e\" \"f\" \"g\" \"h\" \"i\" \"j\" \"k\" \"l\" \"m\" \"n\" \"o\" \"p\" \"q\" \"r\" \"s\"\n",
       "[20] \"t\" \"u\" \"v\" \"w\" \"x\" \"y\" \"z\""
      ]
     },
     "metadata": {},
     "output_type": "display_data"
    }
   ],
   "source": [
    "# все буквы английского алфавита\n",
    "letters"
   ]
  },
  {
   "cell_type": "code",
   "execution_count": 93,
   "id": "ca210245",
   "metadata": {},
   "outputs": [
    {
     "name": "stdout",
     "output_type": "stream",
     "text": [
      "[1] \"a\"\n",
      "[1] \"c\"\n"
     ]
    }
   ],
   "source": [
    "for (i in letters) {\n",
    "    if (i == \"b\") next\n",
    "    if (i == \"d\") break\n",
    "    print(i)\n",
    "}"
   ]
  },
  {
   "cell_type": "code",
   "execution_count": 109,
   "id": "2fe6e0a5",
   "metadata": {},
   "outputs": [],
   "source": [
    "v <- 1:1e5"
   ]
  },
  {
   "cell_type": "code",
   "execution_count": 113,
   "id": "f56a3a6f",
   "metadata": {},
   "outputs": [
    {
     "data": {
      "text/plain": [
       "   user  system elapsed \n",
       "  0.022   0.000   0.022 "
      ]
     },
     "metadata": {},
     "output_type": "display_data"
    }
   ],
   "source": [
    "system.time({\n",
    "    x <- 0\n",
    "    for (i in v){\n",
    "        x[i] <- sqrt(v[i])\n",
    "    } \n",
    "        \n",
    "})"
   ]
  },
  {
   "cell_type": "code",
   "execution_count": 116,
   "id": "056fc4e7",
   "metadata": {},
   "outputs": [
    {
     "data": {
      "text/html": [
       "<ol class=list-inline>\n",
       "\t<li>1</li>\n",
       "\t<li>1.4142135623731</li>\n",
       "\t<li>1.73205080756888</li>\n",
       "\t<li>2</li>\n",
       "\t<li>2.23606797749979</li>\n",
       "\t<li>2.44948974278318</li>\n",
       "\t<li>2.64575131106459</li>\n",
       "\t<li>2.82842712474619</li>\n",
       "\t<li>3</li>\n",
       "\t<li>3.16227766016838</li>\n",
       "\t<li>3.3166247903554</li>\n",
       "\t<li>3.46410161513775</li>\n",
       "\t<li>3.60555127546399</li>\n",
       "\t<li>3.74165738677394</li>\n",
       "\t<li>3.87298334620742</li>\n",
       "\t<li>4</li>\n",
       "\t<li>4.12310562561766</li>\n",
       "\t<li>4.24264068711928</li>\n",
       "\t<li>4.35889894354067</li>\n",
       "\t<li>4.47213595499958</li>\n",
       "</ol>\n"
      ],
      "text/latex": [
       "\\begin{enumerate*}\n",
       "\\item 1\n",
       "\\item 1.4142135623731\n",
       "\\item 1.73205080756888\n",
       "\\item 2\n",
       "\\item 2.23606797749979\n",
       "\\item 2.44948974278318\n",
       "\\item 2.64575131106459\n",
       "\\item 2.82842712474619\n",
       "\\item 3\n",
       "\\item 3.16227766016838\n",
       "\\item 3.3166247903554\n",
       "\\item 3.46410161513775\n",
       "\\item 3.60555127546399\n",
       "\\item 3.74165738677394\n",
       "\\item 3.87298334620742\n",
       "\\item 4\n",
       "\\item 4.12310562561766\n",
       "\\item 4.24264068711928\n",
       "\\item 4.35889894354067\n",
       "\\item 4.47213595499958\n",
       "\\end{enumerate*}\n"
      ],
      "text/markdown": [
       "1. 1\n",
       "2. 1.4142135623731\n",
       "3. 1.73205080756888\n",
       "4. 2\n",
       "5. 2.23606797749979\n",
       "6. 2.44948974278318\n",
       "7. 2.64575131106459\n",
       "8. 2.82842712474619\n",
       "9. 3\n",
       "10. 3.16227766016838\n",
       "11. 3.3166247903554\n",
       "12. 3.46410161513775\n",
       "13. 3.60555127546399\n",
       "14. 3.74165738677394\n",
       "15. 3.87298334620742\n",
       "16. 4\n",
       "17. 4.12310562561766\n",
       "18. 4.24264068711928\n",
       "19. 4.35889894354067\n",
       "20. 4.47213595499958\n",
       "\n",
       "\n"
      ],
      "text/plain": [
       " [1] 1.000000 1.414214 1.732051 2.000000 2.236068 2.449490 2.645751 2.828427\n",
       " [9] 3.000000 3.162278 3.316625 3.464102 3.605551 3.741657 3.872983 4.000000\n",
       "[17] 4.123106 4.242641 4.358899 4.472136"
      ]
     },
     "metadata": {},
     "output_type": "display_data"
    }
   ],
   "source": [
    "head(x, n = 20)"
   ]
  },
  {
   "cell_type": "code",
   "execution_count": 117,
   "id": "61c96b21",
   "metadata": {},
   "outputs": [
    {
     "data": {
      "text/html": [
       "1.4142135623731"
      ],
      "text/latex": [
       "1.4142135623731"
      ],
      "text/markdown": [
       "1.4142135623731"
      ],
      "text/plain": [
       "[1] 1.414214"
      ]
     },
     "metadata": {},
     "output_type": "display_data"
    }
   ],
   "source": [
    "sqrt(2)"
   ]
  },
  {
   "cell_type": "code",
   "execution_count": 118,
   "id": "9abff6fa",
   "metadata": {},
   "outputs": [
    {
     "data": {
      "text/plain": [
       "   user  system elapsed \n",
       "  0.001   0.000   0.001 "
      ]
     },
     "metadata": {},
     "output_type": "display_data"
    }
   ],
   "source": [
    "v2 <- 1:1e5\n",
    "system.time(v2 <- sqrt(v2))"
   ]
  },
  {
   "cell_type": "code",
   "execution_count": 119,
   "id": "74cade4d",
   "metadata": {},
   "outputs": [
    {
     "data": {
      "text/html": [
       "<ol class=list-inline>\n",
       "\t<li>1</li>\n",
       "\t<li>1.4142135623731</li>\n",
       "\t<li>1.73205080756888</li>\n",
       "\t<li>2</li>\n",
       "\t<li>2.23606797749979</li>\n",
       "\t<li>2.44948974278318</li>\n",
       "\t<li>2.64575131106459</li>\n",
       "\t<li>2.82842712474619</li>\n",
       "\t<li>3</li>\n",
       "\t<li>3.16227766016838</li>\n",
       "\t<li>3.3166247903554</li>\n",
       "\t<li>3.46410161513775</li>\n",
       "\t<li>3.60555127546399</li>\n",
       "\t<li>3.74165738677394</li>\n",
       "\t<li>3.87298334620742</li>\n",
       "\t<li>4</li>\n",
       "\t<li>4.12310562561766</li>\n",
       "\t<li>4.24264068711928</li>\n",
       "\t<li>4.35889894354067</li>\n",
       "\t<li>4.47213595499958</li>\n",
       "</ol>\n"
      ],
      "text/latex": [
       "\\begin{enumerate*}\n",
       "\\item 1\n",
       "\\item 1.4142135623731\n",
       "\\item 1.73205080756888\n",
       "\\item 2\n",
       "\\item 2.23606797749979\n",
       "\\item 2.44948974278318\n",
       "\\item 2.64575131106459\n",
       "\\item 2.82842712474619\n",
       "\\item 3\n",
       "\\item 3.16227766016838\n",
       "\\item 3.3166247903554\n",
       "\\item 3.46410161513775\n",
       "\\item 3.60555127546399\n",
       "\\item 3.74165738677394\n",
       "\\item 3.87298334620742\n",
       "\\item 4\n",
       "\\item 4.12310562561766\n",
       "\\item 4.24264068711928\n",
       "\\item 4.35889894354067\n",
       "\\item 4.47213595499958\n",
       "\\end{enumerate*}\n"
      ],
      "text/markdown": [
       "1. 1\n",
       "2. 1.4142135623731\n",
       "3. 1.73205080756888\n",
       "4. 2\n",
       "5. 2.23606797749979\n",
       "6. 2.44948974278318\n",
       "7. 2.64575131106459\n",
       "8. 2.82842712474619\n",
       "9. 3\n",
       "10. 3.16227766016838\n",
       "11. 3.3166247903554\n",
       "12. 3.46410161513775\n",
       "13. 3.60555127546399\n",
       "14. 3.74165738677394\n",
       "15. 3.87298334620742\n",
       "16. 4\n",
       "17. 4.12310562561766\n",
       "18. 4.24264068711928\n",
       "19. 4.35889894354067\n",
       "20. 4.47213595499958\n",
       "\n",
       "\n"
      ],
      "text/plain": [
       " [1] 1.000000 1.414214 1.732051 2.000000 2.236068 2.449490 2.645751 2.828427\n",
       " [9] 3.000000 3.162278 3.316625 3.464102 3.605551 3.741657 3.872983 4.000000\n",
       "[17] 4.123106 4.242641 4.358899 4.472136"
      ]
     },
     "metadata": {},
     "output_type": "display_data"
    }
   ],
   "source": [
    "head(v2, n = 20)"
   ]
  },
  {
   "cell_type": "code",
   "execution_count": 123,
   "id": "3cfd847c",
   "metadata": {},
   "outputs": [
    {
     "data": {
      "text/html": [
       "TRUE"
      ],
      "text/latex": [
       "TRUE"
      ],
      "text/markdown": [
       "TRUE"
      ],
      "text/plain": [
       "[1] TRUE"
      ]
     },
     "metadata": {},
     "output_type": "display_data"
    }
   ],
   "source": [
    "identical(x, v2)"
   ]
  },
  {
   "cell_type": "code",
   "execution_count": 184,
   "id": "112816ce",
   "metadata": {},
   "outputs": [
    {
     "data": {
      "text/plain": [
       "   user  system elapsed \n",
       "  0.039   0.004   0.043 "
      ]
     },
     "metadata": {},
     "output_type": "display_data"
    }
   ],
   "source": [
    "system.time({\n",
    "    set.seed(1337)\n",
    "    x <- runif(1e6, min = -1, max = 1)\n",
    "    sum(x > -0.2 & x < 0.3 )})\n"
   ]
  },
  {
   "cell_type": "code",
   "execution_count": 185,
   "id": "fc7ff767",
   "metadata": {},
   "outputs": [
    {
     "data": {
      "text/plain": [
       "   user  system elapsed \n",
       "  0.043   0.000   0.043 "
      ]
     },
     "metadata": {},
     "output_type": "display_data"
    }
   ],
   "source": [
    "system.time({\n",
    "    set.seed(1337)\n",
    "    x <- runif(1e6, min = -1, max = 1)\n",
    "    length(x[x > -0.2 & x < 0.3])})"
   ]
  },
  {
   "cell_type": "code",
   "execution_count": 4,
   "id": "219eef53",
   "metadata": {},
   "outputs": [
    {
     "data": {
      "text/html": [
       "'/home/lavrentev/anaconda3/envs/withr/lib/R/library'"
      ],
      "text/latex": [
       "'/home/lavrentev/anaconda3/envs/withr/lib/R/library'"
      ],
      "text/markdown": [
       "'/home/lavrentev/anaconda3/envs/withr/lib/R/library'"
      ],
      "text/plain": [
       "[1] \"/home/lavrentev/anaconda3/envs/withr/lib/R/library\""
      ]
     },
     "metadata": {},
     "output_type": "display_data"
    }
   ],
   "source": [
    "# посмотреть список библиотек\n",
    ".libPaths()"
   ]
  },
  {
   "cell_type": "code",
   "execution_count": 6,
   "id": "2f11cb45",
   "metadata": {},
   "outputs": [],
   "source": [
    "# посмотреть установленные пакет\n",
    "#installed.packages()"
   ]
  },
  {
   "cell_type": "code",
   "execution_count": 8,
   "id": "fa98eeb7",
   "metadata": {},
   "outputs": [],
   "source": [
    "library(grid)"
   ]
  },
  {
   "cell_type": "code",
   "execution_count": 9,
   "id": "e2d02c8c",
   "metadata": {},
   "outputs": [],
   "source": [
    "grid.newpage()"
   ]
  },
  {
   "cell_type": "code",
   "execution_count": 10,
   "id": "ffb236fb",
   "metadata": {},
   "outputs": [
    {
     "data": {
      "image/png": "[encoded data removed]",
      "text/plain": [
       "plot without title"
      ]
     },
     "metadata": {},
     "output_type": "display_data"
    }
   ],
   "source": [
    "grid.lines()"
   ]
  },
  {
   "cell_type": "code",
   "execution_count": 11,
   "id": "afaa1f2a",
   "metadata": {},
   "outputs": [],
   "source": [
    "# require(pkgname) - аналог library(pkgname)"
   ]
  },
  {
   "cell_type": "code",
   "execution_count": 17,
   "id": "eac4e32e",
   "metadata": {},
   "outputs": [],
   "source": [
    "#install.packages(\"xts\", dependencies = T)"
   ]
  },
  {
   "cell_type": "code",
   "execution_count": 15,
   "id": "38d834c0",
   "metadata": {},
   "outputs": [],
   "source": [
    "# update.packages()"
   ]
  },
  {
   "cell_type": "code",
   "execution_count": 19,
   "id": "66bccc59",
   "metadata": {},
   "outputs": [
    {
     "data": {
      "text/plain": [
       "R version 3.6.1 (2019-07-05)\n",
       "Platform: x86_64-conda_cos6-linux-gnu (64-bit)\n",
       "Running under: Ubuntu 20.04.2 LTS\n",
       "\n",
       "Matrix products: default\n",
       "BLAS/LAPACK: /home/lavrentev/anaconda3/envs/withr/lib/R/lib/libRblas.so\n",
       "\n",
       "locale:\n",
       " [1] LC_CTYPE=ru_RU.UTF-8       LC_NUMERIC=C              \n",
       " [3] LC_TIME=ru_RU.UTF-8        LC_COLLATE=ru_RU.UTF-8    \n",
       " [5] LC_MONETARY=ru_RU.UTF-8    LC_MESSAGES=ru_RU.UTF-8   \n",
       " [7] LC_PAPER=ru_RU.UTF-8       LC_NAME=C                 \n",
       " [9] LC_ADDRESS=C               LC_TELEPHONE=C            \n",
       "[11] LC_MEASUREMENT=ru_RU.UTF-8 LC_IDENTIFICATION=C       \n",
       "\n",
       "attached base packages:\n",
       "[1] grid      stats     graphics  grDevices utils     datasets  methods  \n",
       "[8] base     \n",
       "\n",
       "other attached packages:\n",
       "[1] xts_0.12.1 zoo_1.8-6 \n",
       "\n",
       "loaded via a namespace (and not attached):\n",
       " [1] Rcpp_1.0.1      lattice_0.20-38 digest_0.6.18   crayon_1.3.4   \n",
       " [5] IRdisplay_0.7.0 repr_0.19.2     jsonlite_1.6    evaluate_0.13  \n",
       " [9] uuid_0.1-2      IRkernel_0.8.15 tools_3.6.1     compiler_3.6.1 \n",
       "[13] base64enc_0.1-3 htmltools_0.3.6 pbdZMQ_0.3-3   "
      ]
     },
     "metadata": {},
     "output_type": "display_data"
    }
   ],
   "source": [
    "# посмотреть подключенные в сессии пакете. Полезно в случае странного поведения пакетов.\n",
    "sessionInfo()"
   ]
  },
  {
   "cell_type": "code",
   "execution_count": 20,
   "id": "d3af0aa1",
   "metadata": {},
   "outputs": [
    {
     "data": {
      "text/html": [
       "'/home/lavrentev/anaconda3/envs/withr/lib/R/library'"
      ],
      "text/latex": [
       "'/home/lavrentev/anaconda3/envs/withr/lib/R/library'"
      ],
      "text/markdown": [
       "'/home/lavrentev/anaconda3/envs/withr/lib/R/library'"
      ],
      "text/plain": [
       "[1] \"/home/lavrentev/anaconda3/envs/withr/lib/R/library\""
      ]
     },
     "metadata": {},
     "output_type": "display_data"
    }
   ],
   "source": [
    ".libPaths()"
   ]
  },
  {
   "cell_type": "code",
   "execution_count": 23,
   "id": "9cf4bdf7",
   "metadata": {},
   "outputs": [
    {
     "name": "stderr",
     "output_type": "stream",
     "text": [
      "Loading required package: rngWELL\n",
      "This is randtoolbox. For an overview, type 'help(\"randtoolbox\")'.\n"
     ]
    }
   ],
   "source": [
    "library(\"randtoolbox\")"
   ]
  },
  {
   "cell_type": "code",
   "execution_count": 24,
   "id": "0f912a06",
   "metadata": {},
   "outputs": [
    {
     "data": {
      "text/plain": [
       "Documentation for package ‘xts’\n",
       "\n",
       "\n",
       "\t\tInformation on package ‘xts’\n",
       "\n",
       "Description:\n",
       "\n",
       "Package:            xts\n",
       "Type:               Package\n",
       "Title:              eXtensible Time Series\n",
       "Version:            0.12.1\n",
       "Authors@R:          c( person(given=c(\"Jeffrey\",\"A.\"), family=\"Ryan\",\n",
       "                    role=c(\"aut\",\"cph\")),\n",
       "                    person(given=c(\"Joshua\",\"M.\"), family=\"Ulrich\",\n",
       "                    role=c(\"cre\",\"aut\"),\n",
       "                    email=\"josh.m.ulrich@gmail.com\"),\n",
       "                    person(given=\"Ross\", family=\"Bennett\", role=\"ctb\"),\n",
       "                    person(given=\"Corwin\", family=\"Joy\", role=\"ctb\") )\n",
       "Depends:            zoo (>= 1.7-12)\n",
       "Imports:            methods\n",
       "LinkingTo:          zoo\n",
       "Suggests:           timeSeries, timeDate, tseries, chron, fts, tis,\n",
       "                    RUnit\n",
       "LazyLoad:           yes\n",
       "Description:        Provide for uniform handling of R's different\n",
       "                    time-based data classes by extending zoo,\n",
       "                    maximizing native format information preservation\n",
       "                    and allowing for user level customization and\n",
       "                    extension, while simplifying cross-class\n",
       "                    interoperability.\n",
       "License:            GPL (>= 2)\n",
       "URL:                https://github.com/joshuaulrich/xts\n",
       "BugReports:         https://github.com/joshuaulrich/xts/issues\n",
       "NeedsCompilation:   yes\n",
       "Packaged:           2020-09-09 15:35:31 UTC; josh\n",
       "Author:             Jeffrey A. Ryan [aut, cph], Joshua M. Ulrich [cre,\n",
       "                    aut], Ross Bennett [ctb], Corwin Joy [ctb]\n",
       "Maintainer:         Joshua M. Ulrich <josh.m.ulrich@gmail.com>\n",
       "Repository:         CRAN\n",
       "Date/Publication:   2020-09-09 16:40:03 UTC\n",
       "Built:              R 3.6.1; x86_64-conda_cos6-linux-gnu; 2021-04-07\n",
       "                    22:39:26 UTC; unix\n",
       "\n",
       "Index:\n",
       "\n",
       ".dimnames.xts           Internal Documentation\n",
       ".parseISO8601           Internal ISO 8601:2004(e) Time Parser\n",
       "CLASS                   Extract and Set .CLASS Attribute\n",
       "[.xts                   Extract Subsets of xts Objects\n",
       "addEventLines           Add vertical lines to an existing xts plot\n",
       "addLegend               Add Legend\n",
       "addPanel                Add a panel to an existing xts plot\n",
       "addPolygon              Add a polygon to an existing xts plot\n",
       "addSeries               Add a time series to an existing xts plot\n",
       "align.time              Align seconds, minutes, and hours to beginning\n",
       "                        of next period.\n",
       "apply.monthly           Apply Function over Calendar Periods\n",
       "as.environment.xts      Coerce an 'xts' Object to an Environment by\n",
       "                        Column\n",
       "as.xts                  Convert Object To And From Class xts\n",
       "as.xts.methods          Convert Object To And From Class xts\n",
       "axTicksByTime           Compute x-Axis Tickmark Locations by Time\n",
       "coredata.xts            Extract/Replace Core Data of an xts Object\n",
       "diff.xts                Lags and Differences of xts Objects\n",
       "dimnames.xts            Dimnames of an xts Object\n",
       "endpoints               Locate Endpoints by Time\n",
       "first                   Return First or Last n Elements of A Data\n",
       "                        Object\n",
       "firstof                 Create a POSIXct Object\n",
       "indexTZ                 Query the TimeZone of an xts object\n",
       "isOrdered               Check If A Vector Is Ordered\n",
       "make.index.unique       Force Time Values To Be Unique\n",
       "merge.xts               Merge xts Objects\n",
       "na.locf.xts             Last Observation Carried Forward\n",
       "ndays                   Number of Periods in Data\n",
       "period.apply            Apply Function Over Specified Interval\n",
       "period.max              Calculate Max By Period\n",
       "period.min              Calculate Min By Period\n",
       "period.prod             Calculate Product By Period\n",
       "period.sum              Calculate Sum By Period\n",
       "periodicity             Approximate Series Periodicity\n",
       "plot.xts                Plotting xts Objects\n",
       "rbind.xts               Concatenate Two or More xts Objects by Row\n",
       "sample_matrix           Sample Data Matrix For xts Example and Unit\n",
       "                        Testing\n",
       "split.xts               Divide into Groups by Time\n",
       "tclass                  Extracting/Replacing the Class of an xts Index\n",
       "timeBased               Check if Class is Time-Based\n",
       "timeBasedSeq            Create a Sequence or Range of Times\n",
       "to.period               Convert time series data to an OHLC series\n",
       "window.xts              Extract time windows from an 'xts' series\n",
       "xts                     Create Or Test For An xts Time-Series Object\n",
       "xts-package             xts: extensible time-series\n",
       "xtsAPI                  xts C API Documentation\n",
       "xtsAttributes           Extract and Replace xts Attributes\n",
       "\n",
       "Further information is available in the following vignettes in\n",
       "directory ‘/home/lavrentev/anaconda3/envs/withr/lib/R/library/xts/doc’:\n",
       "\n",
       "xts-faq: xts FAQ (source, pdf)\n",
       "xts: xts: Extensible Time Series (source, pdf)"
      ]
     },
     "metadata": {},
     "output_type": "display_data"
    }
   ],
   "source": [
    "# справка по пакету\n",
    "help(package = \"xts\")"
   ]
  },
  {
   "cell_type": "code",
   "execution_count": 26,
   "id": "877d7014",
   "metadata": {},
   "outputs": [
    {
     "data": {
      "text/plain": [
       "Documentation for package ‘quantmod’\n",
       "\n",
       "\n",
       "\t\tInformation on package ‘quantmod’\n",
       "\n",
       "Description:\n",
       "\n",
       "Package:            quantmod\n",
       "Type:               Package\n",
       "Title:              Quantitative Financial Modelling Framework\n",
       "Version:            0.4-14\n",
       "Authors@R:          c( person(given=c(\"Jeffrey\",\"A.\"), family=\"Ryan\",\n",
       "                    role=c(\"aut\",\"cph\")),\n",
       "                    person(given=c(\"Joshua\",\"M.\"), family=\"Ulrich\",\n",
       "                    role=c(\"cre\",\"aut\"),\n",
       "                    email=\"josh.m.ulrich@gmail.com\"),\n",
       "                    person(given=\"Wouter\", family=\"Thielen\",\n",
       "                    role=\"ctb\"), person(given=\"Paul\", family=\"Teetor\",\n",
       "                    role=\"ctb\"), person(given=\"Steve\",\n",
       "                    family=\"Bronder\", role=\"ctb\") )\n",
       "Depends:            R (>= 3.2.0), xts(>= 0.9-0), zoo, TTR(>= 0.2),\n",
       "                    methods\n",
       "Imports:            curl\n",
       "Suggests:           DBI,RMySQL,RSQLite,timeSeries,XML,downloader,jsonlite(>=\n",
       "                    1.1)\n",
       "Description:        Specify, build, trade, and analyse quantitative\n",
       "                    financial trading strategies.\n",
       "LazyLoad:           yes\n",
       "License:            GPL-3\n",
       "URL:                http://www.quantmod.com\n",
       "                    https://github.com/joshuaulrich/quantmod\n",
       "BugReports:         https://github.com/joshuaulrich/quantmod/issues\n",
       "NeedsCompilation:   no\n",
       "Packaged:           2019-03-23 14:44:57 UTC; josh\n",
       "Author:             Jeffrey A. Ryan [aut, cph], Joshua M. Ulrich [cre,\n",
       "                    aut], Wouter Thielen [ctb], Paul Teetor [ctb],\n",
       "                    Steve Bronder [ctb]\n",
       "Maintainer:         Joshua M. Ulrich <josh.m.ulrich@gmail.com>\n",
       "Repository:         CRAN\n",
       "Date/Publication:   2019-03-24 05:30:15 UTC\n",
       "Built:              R 3.6.0; ; 2019-05-16 10:01:52 UTC; windows\n",
       "\n",
       "Index:\n",
       "\n",
       ".quantmodEnv            Internal quantmod Objects\n",
       "Delt                    Calculate Percent Change\n",
       "Lag                     Lag a Time Series\n",
       "Next                    Advance a Time Series\n",
       "OHLC.Transformations    Extract and Transform OHLC Time-Series Columns\n",
       "TA                      Add Technical Indicator to Chart\n",
       "addADX                  Add Directional Movement Index\n",
       "addBBands               Add Bollinger Bands to Chart\n",
       "addCCI                  Add Commodity Channel Index\n",
       "addExpiry               Add Contract Expiration Bars to Chart\n",
       "addMA                   Add Moving Average to Chart\n",
       "addMACD                 Add Moving Average Convergence Divergence to\n",
       "                        Chart\n",
       "addROC                  Add Rate Of Change to Chart\n",
       "addRSI                  Add Relative Strength Index to Chart\n",
       "addSAR                  Add Parabolic Stop and Reversal to Chart\n",
       "addSMI                  Add Stochastic Momentum Indicator to Chart\n",
       "addVo                   Add Volume to Chart\n",
       "addWPR                  Add William's Percent R to Chart\n",
       "adjustOHLC              Adjust Open,High,Low,Close Prices For Splits\n",
       "                        and Dividends\n",
       "attachSymbols           Attach and Flush DDB\n",
       "buildData               Create Data Object for Modelling\n",
       "buildModel              Build quantmod model given specified fitting\n",
       "                        method\n",
       "chartSeries             Create Financial Charts\n",
       "chartTheme              Create A Chart Theme\n",
       "chart_Series            Experimental Charting Version 2\n",
       "chob-class              A Chart Object Class\n",
       "chobTA-class            A Technical Analysis Chart Object\n",
       "create.binding          Create DDB Bindings\n",
       "findPeaks               Find Peaks and Valleys In A Series\n",
       "fittedModel             quantmod Fitted Objects\n",
       "getDividends            Load Financial Dividend Data\n",
       "getFX                   Download Exchange Rates\n",
       "getFinancials           Download and View Financial Statements\n",
       "getMetals               Download Daily Metals Prices\n",
       "getModelData            Update model's dataset\n",
       "getOptionChain          Download Option Chains\n",
       "getQuote                Download Current Stock Quote\n",
       "getSplits               Load Financial Split Data\n",
       "getSymbols              Load and Manage Data from Multiple Sources\n",
       "getSymbols.FRED         Download Federal Reserve Economic Data -\n",
       "                        FRED(R)\n",
       "getSymbols.MySQL        Retrieve Data from MySQL Database\n",
       "getSymbols.SQLite       Retrieve Data from SQLite Database\n",
       "getSymbols.av           Download OHLC Data from Alpha Vantage\n",
       "getSymbols.csv          Load Data from csv File\n",
       "getSymbols.oanda        Download Currency and Metals Data from\n",
       "                        Oanda.com\n",
       "getSymbols.rda          Load Data from R Binary File\n",
       "getSymbols.tiingo       Download OHLC Data from Tiingo\n",
       "getSymbols.yahoo        Download OHLC Data From Yahoo Finance\n",
       "getSymbols.yahooj       Download OHLC Data From Yahoo! Japan Finance\n",
       "has.OHLC                Check For OHLC Data\n",
       "importDefaults          Manage Default Argument Values for quantmod\n",
       "                        Functions\n",
       "is.quantmod             Test If Object of Type quantmod\n",
       "modelData               Extract Dataset Created by specifyModel\n",
       "modelSignal             Extract Model Signal Object\n",
       "newTA                   Create A New TA Indicator For chartSeries\n",
       "options.expiry          Calculate Contract Expirations\n",
       "periodReturn            Calculate Periodic Returns\n",
       "quantmod-class          Class \"quantmod\"\n",
       "quantmod-package        Quantitative Financial Modelling Framework\n",
       "quantmod.OHLC           Create Open High Low Close Object\n",
       "saveChart               Save Chart to External File\n",
       "setSymbolLookup         Manage Symbol Lookup Table\n",
       "setTA                   Manage TA Argument Lists\n",
       "specifyModel            Specify Model Formula For quantmod Process\n",
       "tradeModel              Simulate Trading of Fitted quantmod Object\n",
       "zoomChart               Change Zoom Level Of Current Chart"
      ]
     },
     "metadata": {},
     "output_type": "display_data"
    }
   ],
   "source": [
    "help(package = \"quantmod\")"
   ]
  },
  {
   "cell_type": "code",
   "execution_count": 28,
   "id": "de7aa385",
   "metadata": {},
   "outputs": [
    {
     "data": {
      "text/plain": [
       "Documentation for package ‘zoo’\n",
       "\n",
       "\n",
       "\t\tInformation on package ‘zoo’\n",
       "\n",
       "Description:\n",
       "\n",
       "Package:            zoo\n",
       "Version:            1.8-6\n",
       "Date:               2019-05-27\n",
       "Title:              S3 Infrastructure for Regular and Irregular Time\n",
       "                    Series (Z's Ordered Observations)\n",
       "Authors@R:          c(person(given = \"Achim\", family = \"Zeileis\", role\n",
       "                    = c(\"aut\", \"cre\"), email =\n",
       "                    \"Achim.Zeileis@R-project.org\", comment = c(ORCID =\n",
       "                    \"0000-0003-0918-3766\")), person(given = \"Gabor\",\n",
       "                    family = \"Grothendieck\", role = \"aut\", email =\n",
       "                    \"ggrothendieck@gmail.com\"), person(given =\n",
       "                    c(\"Jeffrey\", \"A.\"), family = \"Ryan\", role = \"aut\",\n",
       "                    email = \"jeff.a.ryan@gmail.com\"), person(given =\n",
       "                    c(\"Joshua\", \"M.\"), family = \"Ulrich\", role = \"ctb\",\n",
       "                    email = \"josh.m.ulrich@gmail.com\"), person(given =\n",
       "                    \"Felix\", family = \"Andrews\", role = \"ctb\", email =\n",
       "                    \"felix@nfrac.org\"))\n",
       "Description:        An S3 class with methods for totally ordered\n",
       "                    indexed observations. It is particularly aimed at\n",
       "                    irregular time series of numeric vectors/matrices\n",
       "                    and factors. zoo's key design goals are\n",
       "                    independence of a particular index/date/time class\n",
       "                    and consistency with ts and base R by providing\n",
       "                    methods to extend standard generics.\n",
       "Depends:            R (>= 3.1.0), stats\n",
       "Suggests:           coda, chron, DAAG, fts, ggplot2, mondate, scales,\n",
       "                    strucchange, timeDate, timeSeries, tis, tseries,\n",
       "                    xts\n",
       "Imports:            utils, graphics, grDevices, lattice (>= 0.20-27)\n",
       "License:            GPL-2 | GPL-3\n",
       "URL:                http://zoo.R-Forge.R-project.org/\n",
       "NeedsCompilation:   yes\n",
       "Packaged:           2019-05-27 10:36:45 UTC; zeileis\n",
       "Author:             Achim Zeileis [aut, cre]\n",
       "                    (<https://orcid.org/0000-0003-0918-3766>), Gabor\n",
       "                    Grothendieck [aut], Jeffrey A. Ryan [aut], Joshua\n",
       "                    M. Ulrich [ctb], Felix Andrews [ctb]\n",
       "Maintainer:         Achim Zeileis <Achim.Zeileis@R-project.org>\n",
       "Repository:         CRAN\n",
       "Date/Publication:   2019-05-28 08:00:53 UTC\n",
       "Built:              R 3.6.1; x86_64-conda_cos6-linux-gnu; 2019-08-07\n",
       "                    15:57:30 UTC; unix\n",
       "\n",
       "Index:\n",
       "\n",
       "MATCH                   Value Matching\n",
       "ORDER                   Ordering Permutation\n",
       "aggregate.zoo           Compute Summary Statistics of zoo Objects\n",
       "as.zoo                  Coercion from and to zoo\n",
       "coredata                Extracting/Replacing the Core Data of Objects\n",
       "frequency<-             Replacing the Index of Objects\n",
       "ggplot2.zoo             Convenience Functions for Plotting zoo Objects\n",
       "                        with ggplot2\n",
       "index                   Extracting/Replacing the Index of Objects\n",
       "is.regular              Check Regularity of a Series\n",
       "lag.zoo                 Lags and Differences of zoo Objects\n",
       "make.par.list           Make a List from a Parameter Specification\n",
       "merge.zoo               Merge Two or More zoo Objects\n",
       "na.StructTS             Fill NA or specified positions.\n",
       "na.aggregate            Replace NA by Aggregation\n",
       "na.approx               Replace NA by Interpolation\n",
       "na.fill                 Fill NA or specified positions.\n",
       "na.locf                 Last Observation Carried Forward\n",
       "na.trim                 Trim Leading/Trailing Missing Observations\n",
       "plot.zoo                Plotting zoo Objects\n",
       "read.zoo                Reading and Writing zoo Series\n",
       "rollapply               Apply Rolling Functions\n",
       "rollmean                Rolling Means/Maximums/Medians/Sums\n",
       "window.zoo              Extract/Replacing the Time Windows of Objects\n",
       "xblocks                 Plot contiguous blocks along x axis.\n",
       "xyplot.zoo              Plot zoo Series with Lattice\n",
       "yearmon                 An Index Class for Monthly Data\n",
       "yearqtr                 An Index Class for Quarterly Data\n",
       "zoo                     Z's Ordered Observations\n",
       "zooreg                  Regular zoo Series\n",
       "\n",
       "Further information is available in the following vignettes in\n",
       "directory ‘/home/lavrentev/anaconda3/envs/withr/lib/R/library/zoo/doc’:\n",
       "\n",
       "zoo-design: zoo Design (source, pdf)\n",
       "zoo-faq: zoo FAQ (source, pdf)\n",
       "zoo-quickref: zoo Quick Reference (source, pdf)\n",
       "zoo-read: Reading Data in zoo (source, pdf)\n",
       "zoo: zoo: An S3 Class and Methods for Indexed Totally Ordered\n",
       "        Observations (source, pdf)"
      ]
     },
     "metadata": {},
     "output_type": "display_data"
    }
   ],
   "source": [
    "help(package = \"zoo\")"
   ]
  },
  {
   "cell_type": "code",
   "execution_count": 30,
   "id": "374bd8e6",
   "metadata": {},
   "outputs": [
    {
     "data": {
      "text/plain": [
       "R version 3.6.1 (2019-07-05)\n",
       "Platform: x86_64-conda_cos6-linux-gnu (64-bit)\n",
       "Running under: Ubuntu 20.04.2 LTS\n",
       "\n",
       "Matrix products: default\n",
       "BLAS/LAPACK: /home/lavrentev/anaconda3/envs/withr/lib/R/lib/libRblas.so\n",
       "\n",
       "locale:\n",
       " [1] LC_CTYPE=ru_RU.UTF-8       LC_NUMERIC=C              \n",
       " [3] LC_TIME=ru_RU.UTF-8        LC_COLLATE=ru_RU.UTF-8    \n",
       " [5] LC_MONETARY=ru_RU.UTF-8    LC_MESSAGES=ru_RU.UTF-8   \n",
       " [7] LC_PAPER=ru_RU.UTF-8       LC_NAME=C                 \n",
       " [9] LC_ADDRESS=C               LC_TELEPHONE=C            \n",
       "[11] LC_MEASUREMENT=ru_RU.UTF-8 LC_IDENTIFICATION=C       \n",
       "\n",
       "attached base packages:\n",
       "[1] grid      stats     graphics  grDevices utils     datasets  methods  \n",
       "[8] base     \n",
       "\n",
       "other attached packages:\n",
       "[1] randtoolbox_1.30.1 rngWELL_0.10-6     xts_0.12.1         zoo_1.8-6         \n",
       "\n",
       "loaded via a namespace (and not attached):\n",
       " [1] Rcpp_1.0.1      lattice_0.20-38 digest_0.6.18   crayon_1.3.4   \n",
       " [5] IRdisplay_0.7.0 repr_0.19.2     jsonlite_1.6    evaluate_0.13  \n",
       " [9] uuid_0.1-2      IRkernel_0.8.15 tools_3.6.1     compiler_3.6.1 \n",
       "[13] base64enc_0.1-3 htmltools_0.3.6 pbdZMQ_0.3-3   "
      ]
     },
     "metadata": {},
     "output_type": "display_data"
    }
   ],
   "source": [
    "sessionInfo()"
   ]
  },
  {
   "cell_type": "code",
   "execution_count": 31,
   "id": "d66d69e9",
   "metadata": {},
   "outputs": [],
   "source": [
    "# Общий глоссарий для этого урока:\n",
    "\n",
    "# ?if, ?ifelse, ?switch\n",
    "# ?Logic\n",
    "# ?repeat, ?while, ?for\n",
    "# ?installed.packages, ?library, ?require\n",
    "# ?install.packages, ?update.packages\n",
    "# ?sessionInfo"
   ]
  }
 ],
 "metadata": {
  "kernelspec": {
   "display_name": "R",
   "language": "R",
   "name": "ir"
  },
  "language_info": {
   "codemirror_mode": "r",
   "file_extension": ".r",
   "mimetype": "text/x-r-source",
   "name": "R",
   "pygments_lexer": "r",
   "version": "3.6.1"
  }
 },
 "nbformat": 4,
 "nbformat_minor": 5
}
