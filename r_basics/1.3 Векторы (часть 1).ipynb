{
 "cells": [
  {
   "cell_type": "code",
   "execution_count": 1,
   "id": "3ca38585",
   "metadata": {},
   "outputs": [],
   "source": [
    "# использование vector для создания вектора\n",
    "x <- vector(length = 2)"
   ]
  },
  {
   "cell_type": "code",
   "execution_count": 2,
   "id": "ffa82182",
   "metadata": {},
   "outputs": [
    {
     "data": {
      "text/html": [
       "<ol class=list-inline>\n",
       "\t<li>FALSE</li>\n",
       "\t<li>FALSE</li>\n",
       "</ol>\n"
      ],
      "text/latex": [
       "\\begin{enumerate*}\n",
       "\\item FALSE\n",
       "\\item FALSE\n",
       "\\end{enumerate*}\n"
      ],
      "text/markdown": [
       "1. FALSE\n",
       "2. FALSE\n",
       "\n",
       "\n"
      ],
      "text/plain": [
       "[1] FALSE FALSE"
      ]
     },
     "metadata": {},
     "output_type": "display_data"
    }
   ],
   "source": [
    "x"
   ]
  },
  {
   "cell_type": "code",
   "execution_count": 3,
   "id": "bd3e41cf",
   "metadata": {},
   "outputs": [],
   "source": [
    "x[1] <- 5\n",
    "x[2] <- 8"
   ]
  },
  {
   "cell_type": "code",
   "execution_count": 4,
   "id": "e1d6ccd1",
   "metadata": {},
   "outputs": [
    {
     "data": {
      "text/html": [
       "<ol class=list-inline>\n",
       "\t<li>5</li>\n",
       "\t<li>8</li>\n",
       "</ol>\n"
      ],
      "text/latex": [
       "\\begin{enumerate*}\n",
       "\\item 5\n",
       "\\item 8\n",
       "\\end{enumerate*}\n"
      ],
      "text/markdown": [
       "1. 5\n",
       "2. 8\n",
       "\n",
       "\n"
      ],
      "text/plain": [
       "[1] 5 8"
      ]
     },
     "metadata": {},
     "output_type": "display_data"
    }
   ],
   "source": [
    "x"
   ]
  },
  {
   "cell_type": "code",
   "execution_count": 5,
   "id": "849aac97",
   "metadata": {},
   "outputs": [],
   "source": [
    "x[3] <- 4"
   ]
  },
  {
   "cell_type": "code",
   "execution_count": 6,
   "id": "5a55e8c8",
   "metadata": {},
   "outputs": [
    {
     "data": {
      "text/html": [
       "<ol class=list-inline>\n",
       "\t<li>5</li>\n",
       "\t<li>8</li>\n",
       "\t<li>4</li>\n",
       "</ol>\n"
      ],
      "text/latex": [
       "\\begin{enumerate*}\n",
       "\\item 5\n",
       "\\item 8\n",
       "\\item 4\n",
       "\\end{enumerate*}\n"
      ],
      "text/markdown": [
       "1. 5\n",
       "2. 8\n",
       "3. 4\n",
       "\n",
       "\n"
      ],
      "text/plain": [
       "[1] 5 8 4"
      ]
     },
     "metadata": {},
     "output_type": "display_data"
    }
   ],
   "source": [
    "x"
   ]
  },
  {
   "cell_type": "code",
   "execution_count": 9,
   "id": "49457272",
   "metadata": {},
   "outputs": [
    {
     "data": {
      "text/html": [
       "<ol class=list-inline>\n",
       "\t<li>5</li>\n",
       "\t<li>6</li>\n",
       "\t<li>7</li>\n",
       "\t<li>8</li>\n",
       "\t<li>9</li>\n",
       "</ol>\n"
      ],
      "text/latex": [
       "\\begin{enumerate*}\n",
       "\\item 5\n",
       "\\item 6\n",
       "\\item 7\n",
       "\\item 8\n",
       "\\item 9\n",
       "\\end{enumerate*}\n"
      ],
      "text/markdown": [
       "1. 5\n",
       "2. 6\n",
       "3. 7\n",
       "4. 8\n",
       "5. 9\n",
       "\n",
       "\n"
      ],
      "text/plain": [
       "[1] 5 6 7 8 9"
      ]
     },
     "metadata": {},
     "output_type": "display_data"
    },
    {
     "data": {
      "text/html": [
       "<ol class=list-inline>\n",
       "\t<li>3</li>\n",
       "\t<li>2</li>\n",
       "\t<li>1</li>\n",
       "\t<li>0</li>\n",
       "\t<li>-1</li>\n",
       "</ol>\n"
      ],
      "text/latex": [
       "\\begin{enumerate*}\n",
       "\\item 3\n",
       "\\item 2\n",
       "\\item 1\n",
       "\\item 0\n",
       "\\item -1\n",
       "\\end{enumerate*}\n"
      ],
      "text/markdown": [
       "1. 3\n",
       "2. 2\n",
       "3. 1\n",
       "4. 0\n",
       "5. -1\n",
       "\n",
       "\n"
      ],
      "text/plain": [
       "[1]  3  2  1  0 -1"
      ]
     },
     "metadata": {},
     "output_type": "display_data"
    }
   ],
   "source": [
    "# создание последовательности с шагом 1\n",
    "5:9\n",
    "3:-1"
   ]
  },
  {
   "cell_type": "code",
   "execution_count": 11,
   "id": "45c0a5a9",
   "metadata": {},
   "outputs": [
    {
     "data": {
      "text/html": [
       "<ol class=list-inline>\n",
       "\t<li>5</li>\n",
       "\t<li>5.25</li>\n",
       "\t<li>5.5</li>\n",
       "\t<li>5.75</li>\n",
       "\t<li>6</li>\n",
       "\t<li>6.25</li>\n",
       "\t<li>6.5</li>\n",
       "\t<li>6.75</li>\n",
       "\t<li>7</li>\n",
       "\t<li>7.25</li>\n",
       "\t<li>7.5</li>\n",
       "\t<li>7.75</li>\n",
       "\t<li>8</li>\n",
       "\t<li>8.25</li>\n",
       "\t<li>8.5</li>\n",
       "\t<li>8.75</li>\n",
       "\t<li>9</li>\n",
       "</ol>\n"
      ],
      "text/latex": [
       "\\begin{enumerate*}\n",
       "\\item 5\n",
       "\\item 5.25\n",
       "\\item 5.5\n",
       "\\item 5.75\n",
       "\\item 6\n",
       "\\item 6.25\n",
       "\\item 6.5\n",
       "\\item 6.75\n",
       "\\item 7\n",
       "\\item 7.25\n",
       "\\item 7.5\n",
       "\\item 7.75\n",
       "\\item 8\n",
       "\\item 8.25\n",
       "\\item 8.5\n",
       "\\item 8.75\n",
       "\\item 9\n",
       "\\end{enumerate*}\n"
      ],
      "text/markdown": [
       "1. 5\n",
       "2. 5.25\n",
       "3. 5.5\n",
       "4. 5.75\n",
       "5. 6\n",
       "6. 6.25\n",
       "7. 6.5\n",
       "8. 6.75\n",
       "9. 7\n",
       "10. 7.25\n",
       "11. 7.5\n",
       "12. 7.75\n",
       "13. 8\n",
       "14. 8.25\n",
       "15. 8.5\n",
       "16. 8.75\n",
       "17. 9\n",
       "\n",
       "\n"
      ],
      "text/plain": [
       " [1] 5.00 5.25 5.50 5.75 6.00 6.25 6.50 6.75 7.00 7.25 7.50 7.75 8.00 8.25 8.50\n",
       "[16] 8.75 9.00"
      ]
     },
     "metadata": {},
     "output_type": "display_data"
    }
   ],
   "source": [
    "# последовательности с другим шагом\n",
    "seq(5,9, by = 0.25)"
   ]
  },
  {
   "cell_type": "code",
   "execution_count": 13,
   "id": "1b088818",
   "metadata": {},
   "outputs": [
    {
     "data": {
      "text/html": [
       "<ol class=list-inline>\n",
       "\t<li>5</li>\n",
       "\t<li>6.33333333333333</li>\n",
       "\t<li>7.66666666666667</li>\n",
       "\t<li>9</li>\n",
       "</ol>\n"
      ],
      "text/latex": [
       "\\begin{enumerate*}\n",
       "\\item 5\n",
       "\\item 6.33333333333333\n",
       "\\item 7.66666666666667\n",
       "\\item 9\n",
       "\\end{enumerate*}\n"
      ],
      "text/markdown": [
       "1. 5\n",
       "2. 6.33333333333333\n",
       "3. 7.66666666666667\n",
       "4. 9\n",
       "\n",
       "\n"
      ],
      "text/plain": [
       "[1] 5.000000 6.333333 7.666667 9.000000"
      ]
     },
     "metadata": {},
     "output_type": "display_data"
    }
   ],
   "source": [
    "# вектор с конкретной длиной. шаг определяется автоматически\n",
    "seq(5, 9, length.out = 4)"
   ]
  },
  {
   "cell_type": "code",
   "execution_count": 14,
   "id": "51ffc074",
   "metadata": {},
   "outputs": [
    {
     "data": {
      "text/html": [
       "<ol class=list-inline>\n",
       "\t<li>5</li>\n",
       "\t<li>6.33333333333333</li>\n",
       "\t<li>7.66666666666667</li>\n",
       "\t<li>9</li>\n",
       "</ol>\n"
      ],
      "text/latex": [
       "\\begin{enumerate*}\n",
       "\\item 5\n",
       "\\item 6.33333333333333\n",
       "\\item 7.66666666666667\n",
       "\\item 9\n",
       "\\end{enumerate*}\n"
      ],
      "text/markdown": [
       "1. 5\n",
       "2. 6.33333333333333\n",
       "3. 7.66666666666667\n",
       "4. 9\n",
       "\n",
       "\n"
      ],
      "text/plain": [
       "[1] 5.000000 6.333333 7.666667 9.000000"
      ]
     },
     "metadata": {},
     "output_type": "display_data"
    }
   ],
   "source": [
    " # не обязательно указывать имя аргумента целиком\n",
    "seq(5, 9, length = 4)"
   ]
  },
  {
   "cell_type": "code",
   "execution_count": 15,
   "id": "c2145c25",
   "metadata": {},
   "outputs": [
    {
     "data": {
      "text/html": [
       "<ol class=list-inline>\n",
       "\t<li>1</li>\n",
       "\t<li>2</li>\n",
       "\t<li>3</li>\n",
       "\t<li>1</li>\n",
       "\t<li>2</li>\n",
       "\t<li>3</li>\n",
       "\t<li>1</li>\n",
       "\t<li>2</li>\n",
       "\t<li>3</li>\n",
       "</ol>\n"
      ],
      "text/latex": [
       "\\begin{enumerate*}\n",
       "\\item 1\n",
       "\\item 2\n",
       "\\item 3\n",
       "\\item 1\n",
       "\\item 2\n",
       "\\item 3\n",
       "\\item 1\n",
       "\\item 2\n",
       "\\item 3\n",
       "\\end{enumerate*}\n"
      ],
      "text/markdown": [
       "1. 1\n",
       "2. 2\n",
       "3. 3\n",
       "4. 1\n",
       "5. 2\n",
       "6. 3\n",
       "7. 1\n",
       "8. 2\n",
       "9. 3\n",
       "\n",
       "\n"
      ],
      "text/plain": [
       "[1] 1 2 3 1 2 3 1 2 3"
      ]
     },
     "metadata": {},
     "output_type": "display_data"
    }
   ],
   "source": [
    "# повторение векторов\n",
    "rep(1:3, times = 3)"
   ]
  },
  {
   "cell_type": "code",
   "execution_count": 16,
   "id": "b52a9bb0",
   "metadata": {},
   "outputs": [
    {
     "data": {
      "text/html": [
       "<ol class=list-inline>\n",
       "\t<li>1</li>\n",
       "\t<li>1</li>\n",
       "\t<li>1</li>\n",
       "\t<li>1</li>\n",
       "\t<li>2</li>\n",
       "\t<li>2</li>\n",
       "\t<li>2</li>\n",
       "\t<li>2</li>\n",
       "\t<li>3</li>\n",
       "\t<li>3</li>\n",
       "\t<li>3</li>\n",
       "\t<li>3</li>\n",
       "</ol>\n"
      ],
      "text/latex": [
       "\\begin{enumerate*}\n",
       "\\item 1\n",
       "\\item 1\n",
       "\\item 1\n",
       "\\item 1\n",
       "\\item 2\n",
       "\\item 2\n",
       "\\item 2\n",
       "\\item 2\n",
       "\\item 3\n",
       "\\item 3\n",
       "\\item 3\n",
       "\\item 3\n",
       "\\end{enumerate*}\n"
      ],
      "text/markdown": [
       "1. 1\n",
       "2. 1\n",
       "3. 1\n",
       "4. 1\n",
       "5. 2\n",
       "6. 2\n",
       "7. 2\n",
       "8. 2\n",
       "9. 3\n",
       "10. 3\n",
       "11. 3\n",
       "12. 3\n",
       "\n",
       "\n"
      ],
      "text/plain": [
       " [1] 1 1 1 1 2 2 2 2 3 3 3 3"
      ]
     },
     "metadata": {},
     "output_type": "display_data"
    }
   ],
   "source": [
    "# повторение каждого элемента несколько раз\n",
    "rep(1:3, each = 4)"
   ]
  },
  {
   "cell_type": "code",
   "execution_count": 17,
   "id": "d12975bf",
   "metadata": {},
   "outputs": [
    {
     "data": {
      "text/html": [
       "<ol class=list-inline>\n",
       "\t<li>1</li>\n",
       "\t<li>2</li>\n",
       "\t<li>3</li>\n",
       "\t<li>1</li>\n",
       "\t<li>2</li>\n",
       "</ol>\n"
      ],
      "text/latex": [
       "\\begin{enumerate*}\n",
       "\\item 1\n",
       "\\item 2\n",
       "\\item 3\n",
       "\\item 1\n",
       "\\item 2\n",
       "\\end{enumerate*}\n"
      ],
      "text/markdown": [
       "1. 1\n",
       "2. 2\n",
       "3. 3\n",
       "4. 1\n",
       "5. 2\n",
       "\n",
       "\n"
      ],
      "text/plain": [
       "[1] 1 2 3 1 2"
      ]
     },
     "metadata": {},
     "output_type": "display_data"
    }
   ],
   "source": [
    "# повторение до необходимой длины\n",
    "rep(1:3, length.out = 5)"
   ]
  },
  {
   "cell_type": "code",
   "execution_count": 18,
   "id": "9788cae1",
   "metadata": {},
   "outputs": [
    {
     "data": {
      "text/html": [
       "<ol class=list-inline>\n",
       "\t<li>1</li>\n",
       "\t<li>2</li>\n",
       "\t<li>3</li>\n",
       "\t<li>1</li>\n",
       "\t<li>2</li>\n",
       "</ol>\n"
      ],
      "text/latex": [
       "\\begin{enumerate*}\n",
       "\\item 1\n",
       "\\item 2\n",
       "\\item 3\n",
       "\\item 1\n",
       "\\item 2\n",
       "\\end{enumerate*}\n"
      ],
      "text/markdown": [
       "1. 1\n",
       "2. 2\n",
       "3. 3\n",
       "4. 1\n",
       "5. 2\n",
       "\n",
       "\n"
      ],
      "text/plain": [
       "[1] 1 2 3 1 2"
      ]
     },
     "metadata": {},
     "output_type": "display_data"
    }
   ],
   "source": [
    "# также можно указывать неполное название\n",
    "rep(1:3, length = 5)"
   ]
  },
  {
   "cell_type": "code",
   "execution_count": 20,
   "id": "0bd19eda",
   "metadata": {},
   "outputs": [
    {
     "data": {
      "text/html": [
       "TRUE"
      ],
      "text/latex": [
       "TRUE"
      ],
      "text/markdown": [
       "TRUE"
      ],
      "text/plain": [
       "[1] TRUE"
      ]
     },
     "metadata": {},
     "output_type": "display_data"
    },
    {
     "data": {
      "text/html": [
       "FALSE"
      ],
      "text/latex": [
       "FALSE"
      ],
      "text/markdown": [
       "FALSE"
      ],
      "text/plain": [
       "[1] FALSE"
      ]
     },
     "metadata": {},
     "output_type": "display_data"
    }
   ],
   "source": [
    "# для сравнения double не подходит оператор сравнения \"==\"\n",
    "all.equal(0.1 + 0.05, 0.15)\n",
    "0.1 + 0.05 == 0.15"
   ]
  },
  {
   "cell_type": "code",
   "execution_count": 25,
   "id": "b3462fec",
   "metadata": {},
   "outputs": [],
   "source": [
    "# задача\n",
    "t <- seq(0, 1, 1/3)\n",
    "s <- seq(0, 1, 1/7)"
   ]
  },
  {
   "cell_type": "code",
   "execution_count": 26,
   "id": "914a5e3a",
   "metadata": {},
   "outputs": [
    {
     "data": {
      "text/html": [
       "<ol class=list-inline>\n",
       "\t<li>0</li>\n",
       "\t<li>0.333333333333333</li>\n",
       "\t<li>0.666666666666667</li>\n",
       "\t<li>1</li>\n",
       "</ol>\n"
      ],
      "text/latex": [
       "\\begin{enumerate*}\n",
       "\\item 0\n",
       "\\item 0.333333333333333\n",
       "\\item 0.666666666666667\n",
       "\\item 1\n",
       "\\end{enumerate*}\n"
      ],
      "text/markdown": [
       "1. 0\n",
       "2. 0.333333333333333\n",
       "3. 0.666666666666667\n",
       "4. 1\n",
       "\n",
       "\n"
      ],
      "text/plain": [
       "[1] 0.0000000 0.3333333 0.6666667 1.0000000"
      ]
     },
     "metadata": {},
     "output_type": "display_data"
    },
    {
     "data": {
      "text/html": [
       "<ol class=list-inline>\n",
       "\t<li>0</li>\n",
       "\t<li>0.142857142857143</li>\n",
       "\t<li>0.285714285714286</li>\n",
       "\t<li>0.428571428571429</li>\n",
       "\t<li>0.571428571428571</li>\n",
       "\t<li>0.714285714285714</li>\n",
       "\t<li>0.857142857142857</li>\n",
       "\t<li>1</li>\n",
       "</ol>\n"
      ],
      "text/latex": [
       "\\begin{enumerate*}\n",
       "\\item 0\n",
       "\\item 0.142857142857143\n",
       "\\item 0.285714285714286\n",
       "\\item 0.428571428571429\n",
       "\\item 0.571428571428571\n",
       "\\item 0.714285714285714\n",
       "\\item 0.857142857142857\n",
       "\\item 1\n",
       "\\end{enumerate*}\n"
      ],
      "text/markdown": [
       "1. 0\n",
       "2. 0.142857142857143\n",
       "3. 0.285714285714286\n",
       "4. 0.428571428571429\n",
       "5. 0.571428571428571\n",
       "6. 0.714285714285714\n",
       "7. 0.857142857142857\n",
       "8. 1\n",
       "\n",
       "\n"
      ],
      "text/plain": [
       "[1] 0.0000000 0.1428571 0.2857143 0.4285714 0.5714286 0.7142857 0.8571429\n",
       "[8] 1.0000000"
      ]
     },
     "metadata": {},
     "output_type": "display_data"
    }
   ],
   "source": [
    "t; s"
   ]
  },
  {
   "cell_type": "code",
   "execution_count": 29,
   "id": "4fe124cb",
   "metadata": {},
   "outputs": [
    {
     "data": {
      "text/html": [
       "<ol class=list-inline>\n",
       "\t<li>0</li>\n",
       "\t<li>0.142857142857143</li>\n",
       "\t<li>0.285714285714286</li>\n",
       "\t<li>0.333333333333333</li>\n",
       "\t<li>0.428571428571429</li>\n",
       "\t<li>0.571428571428571</li>\n",
       "\t<li>0.666666666666667</li>\n",
       "\t<li>0.714285714285714</li>\n",
       "\t<li>0.857142857142857</li>\n",
       "\t<li>1</li>\n",
       "</ol>\n"
      ],
      "text/latex": [
       "\\begin{enumerate*}\n",
       "\\item 0\n",
       "\\item 0.142857142857143\n",
       "\\item 0.285714285714286\n",
       "\\item 0.333333333333333\n",
       "\\item 0.428571428571429\n",
       "\\item 0.571428571428571\n",
       "\\item 0.666666666666667\n",
       "\\item 0.714285714285714\n",
       "\\item 0.857142857142857\n",
       "\\item 1\n",
       "\\end{enumerate*}\n"
      ],
      "text/markdown": [
       "1. 0\n",
       "2. 0.142857142857143\n",
       "3. 0.285714285714286\n",
       "4. 0.333333333333333\n",
       "5. 0.428571428571429\n",
       "6. 0.571428571428571\n",
       "7. 0.666666666666667\n",
       "8. 0.714285714285714\n",
       "9. 0.857142857142857\n",
       "10. 1\n",
       "\n",
       "\n"
      ],
      "text/plain": [
       " [1] 0.0000000 0.1428571 0.2857143 0.3333333 0.4285714 0.5714286 0.6666667\n",
       " [8] 0.7142857 0.8571429 1.0000000"
      ]
     },
     "metadata": {},
     "output_type": "display_data"
    }
   ],
   "source": [
    "unique(sort(c(t, s)))"
   ]
  },
  {
   "cell_type": "code",
   "execution_count": 36,
   "id": "2fd88cf1",
   "metadata": {},
   "outputs": [],
   "source": [
    "# задача\n",
    "get_fractions <- function(m, n) {\n",
    "    x <- seq(0, 1, by = 1/m)\n",
    "    y <- seq(0, 1, by = 1 / n)\n",
    "    v <- sort(unique(c(x, y)), decreasing = T)\n",
    "    return(v)\n",
    "\n",
    "}"
   ]
  },
  {
   "cell_type": "code",
   "execution_count": 37,
   "id": "032584a9",
   "metadata": {},
   "outputs": [
    {
     "data": {
      "text/html": [
       "<ol class=list-inline>\n",
       "\t<li>1</li>\n",
       "\t<li>0.857142857142857</li>\n",
       "\t<li>0.714285714285714</li>\n",
       "\t<li>0.666666666666667</li>\n",
       "\t<li>0.571428571428571</li>\n",
       "\t<li>0.428571428571429</li>\n",
       "\t<li>0.333333333333333</li>\n",
       "\t<li>0.285714285714286</li>\n",
       "\t<li>0.142857142857143</li>\n",
       "\t<li>0</li>\n",
       "</ol>\n"
      ],
      "text/latex": [
       "\\begin{enumerate*}\n",
       "\\item 1\n",
       "\\item 0.857142857142857\n",
       "\\item 0.714285714285714\n",
       "\\item 0.666666666666667\n",
       "\\item 0.571428571428571\n",
       "\\item 0.428571428571429\n",
       "\\item 0.333333333333333\n",
       "\\item 0.285714285714286\n",
       "\\item 0.142857142857143\n",
       "\\item 0\n",
       "\\end{enumerate*}\n"
      ],
      "text/markdown": [
       "1. 1\n",
       "2. 0.857142857142857\n",
       "3. 0.714285714285714\n",
       "4. 0.666666666666667\n",
       "5. 0.571428571428571\n",
       "6. 0.428571428571429\n",
       "7. 0.333333333333333\n",
       "8. 0.285714285714286\n",
       "9. 0.142857142857143\n",
       "10. 0\n",
       "\n",
       "\n"
      ],
      "text/plain": [
       " [1] 1.0000000 0.8571429 0.7142857 0.6666667 0.5714286 0.4285714 0.3333333\n",
       " [8] 0.2857143 0.1428571 0.0000000"
      ]
     },
     "metadata": {},
     "output_type": "display_data"
    }
   ],
   "source": [
    "get_fractions(3, 7)"
   ]
  },
  {
   "cell_type": "code",
   "execution_count": 41,
   "id": "eefb7568",
   "metadata": {},
   "outputs": [
    {
     "data": {
      "text/html": [
       "'character'"
      ],
      "text/latex": [
       "'character'"
      ],
      "text/markdown": [
       "'character'"
      ],
      "text/plain": [
       "[1] \"character\""
      ]
     },
     "metadata": {},
     "output_type": "display_data"
    }
   ],
   "source": [
    "# typeof проверка типа вектора\n",
    "typeof(c('a', 'b', 'c'))"
   ]
  },
  {
   "cell_type": "code",
   "execution_count": 43,
   "id": "961d7818",
   "metadata": {},
   "outputs": [
    {
     "data": {
      "text/html": [
       "FALSE"
      ],
      "text/latex": [
       "FALSE"
      ],
      "text/markdown": [
       "FALSE"
      ],
      "text/plain": [
       "[1] FALSE"
      ]
     },
     "metadata": {},
     "output_type": "display_data"
    }
   ],
   "source": [
    "is.character(c(1, 2, 3, 4))"
   ]
  },
  {
   "cell_type": "code",
   "execution_count": 44,
   "id": "9eb9206a",
   "metadata": {},
   "outputs": [
    {
     "data": {
      "text/html": [
       "'double'"
      ],
      "text/latex": [
       "'double'"
      ],
      "text/markdown": [
       "'double'"
      ],
      "text/plain": [
       "[1] \"double\""
      ]
     },
     "metadata": {},
     "output_type": "display_data"
    }
   ],
   "source": [
    "# приведение типов\n",
    "# logical -> integer -> double -> character\n",
    "b <- c(T, 1.5)\n",
    "typeof(b)"
   ]
  },
  {
   "cell_type": "code",
   "execution_count": 56,
   "id": "31c575fe",
   "metadata": {},
   "outputs": [],
   "source": [
    "c <- c(5, b, 'abc')"
   ]
  },
  {
   "cell_type": "code",
   "execution_count": 57,
   "id": "bffb0589",
   "metadata": {},
   "outputs": [
    {
     "data": {
      "text/html": [
       "'character'"
      ],
      "text/latex": [
       "'character'"
      ],
      "text/markdown": [
       "'character'"
      ],
      "text/plain": [
       "[1] \"character\""
      ]
     },
     "metadata": {},
     "output_type": "display_data"
    }
   ],
   "source": [
    "typeof(c)"
   ]
  },
  {
   "cell_type": "code",
   "execution_count": 58,
   "id": "c3bb7258",
   "metadata": {},
   "outputs": [
    {
     "data": {
      "text/html": [
       "<ol class=list-inline>\n",
       "\t<li>'5'</li>\n",
       "\t<li>'1'</li>\n",
       "\t<li>'1.5'</li>\n",
       "\t<li>'abc'</li>\n",
       "</ol>\n"
      ],
      "text/latex": [
       "\\begin{enumerate*}\n",
       "\\item '5'\n",
       "\\item '1'\n",
       "\\item '1.5'\n",
       "\\item 'abc'\n",
       "\\end{enumerate*}\n"
      ],
      "text/markdown": [
       "1. '5'\n",
       "2. '1'\n",
       "3. '1.5'\n",
       "4. 'abc'\n",
       "\n",
       "\n"
      ],
      "text/plain": [
       "[1] \"5\"   \"1\"   \"1.5\" \"abc\""
      ]
     },
     "metadata": {},
     "output_type": "display_data"
    }
   ],
   "source": [
    "# все элементы превратились в строки\n",
    "c"
   ]
  },
  {
   "cell_type": "code",
   "execution_count": 66,
   "id": "85e9ac9e",
   "metadata": {},
   "outputs": [
    {
     "name": "stderr",
     "output_type": "stream",
     "text": [
      "Warning message in eval(expr, envir, enclos):\n",
      "“в результате преобразования созданы NA”"
     ]
    },
    {
     "data": {
      "text/html": [
       "<ol class=list-inline>\n",
       "\t<li>5</li>\n",
       "\t<li>1</li>\n",
       "\t<li>1.5</li>\n",
       "\t<li>&lt;NA&gt;</li>\n",
       "</ol>\n"
      ],
      "text/latex": [
       "\\begin{enumerate*}\n",
       "\\item 5\n",
       "\\item 1\n",
       "\\item 1.5\n",
       "\\item <NA>\n",
       "\\end{enumerate*}\n"
      ],
      "text/markdown": [
       "1. 5\n",
       "2. 1\n",
       "3. 1.5\n",
       "4. &lt;NA&gt;\n",
       "\n",
       "\n"
      ],
      "text/plain": [
       "[1] 5.0 1.0 1.5  NA"
      ]
     },
     "metadata": {},
     "output_type": "display_data"
    }
   ],
   "source": [
    "# принудительное приведение типов\n",
    "as.numeric(c)"
   ]
  },
  {
   "cell_type": "code",
   "execution_count": 68,
   "id": "2973cb38",
   "metadata": {},
   "outputs": [],
   "source": [
    "# принудительное изменение длины вектора\n",
    "v <- 1:100\n",
    "length(v) <- 4"
   ]
  },
  {
   "cell_type": "code",
   "execution_count": 69,
   "id": "4395a50a",
   "metadata": {},
   "outputs": [
    {
     "data": {
      "text/html": [
       "<ol class=list-inline>\n",
       "\t<li>1</li>\n",
       "\t<li>2</li>\n",
       "\t<li>3</li>\n",
       "\t<li>4</li>\n",
       "</ol>\n"
      ],
      "text/latex": [
       "\\begin{enumerate*}\n",
       "\\item 1\n",
       "\\item 2\n",
       "\\item 3\n",
       "\\item 4\n",
       "\\end{enumerate*}\n"
      ],
      "text/markdown": [
       "1. 1\n",
       "2. 2\n",
       "3. 3\n",
       "4. 4\n",
       "\n",
       "\n"
      ],
      "text/plain": [
       "[1] 1 2 3 4"
      ]
     },
     "metadata": {},
     "output_type": "display_data"
    }
   ],
   "source": [
    "v"
   ]
  },
  {
   "cell_type": "code",
   "execution_count": 70,
   "id": "64a1e499",
   "metadata": {},
   "outputs": [
    {
     "data": {
      "text/html": [
       "<ol class=list-inline>\n",
       "\t<li>1</li>\n",
       "\t<li>2</li>\n",
       "\t<li>3</li>\n",
       "\t<li>4</li>\n",
       "\t<li>&lt;NA&gt;</li>\n",
       "\t<li>&lt;NA&gt;</li>\n",
       "\t<li>&lt;NA&gt;</li>\n",
       "</ol>\n"
      ],
      "text/latex": [
       "\\begin{enumerate*}\n",
       "\\item 1\n",
       "\\item 2\n",
       "\\item 3\n",
       "\\item 4\n",
       "\\item <NA>\n",
       "\\item <NA>\n",
       "\\item <NA>\n",
       "\\end{enumerate*}\n"
      ],
      "text/markdown": [
       "1. 1\n",
       "2. 2\n",
       "3. 3\n",
       "4. 4\n",
       "5. &lt;NA&gt;\n",
       "6. &lt;NA&gt;\n",
       "7. &lt;NA&gt;\n",
       "\n",
       "\n"
      ],
      "text/plain": [
       "[1]  1  2  3  4 NA NA NA"
      ]
     },
     "metadata": {},
     "output_type": "display_data"
    }
   ],
   "source": [
    "length(v) <- 7; v"
   ]
  },
  {
   "cell_type": "code",
   "execution_count": 72,
   "id": "d666e993",
   "metadata": {},
   "outputs": [
    {
     "data": {
      "text/html": [
       "<dl class=dl-horizontal>\n",
       "\t<dt>one</dt>\n",
       "\t\t<dd>1</dd>\n",
       "\t<dt>two</dt>\n",
       "\t\t<dd>2</dd>\n",
       "\t<dt>three</dt>\n",
       "\t\t<dd>3</dd>\n",
       "\t<dt>4</dt>\n",
       "\t\t<dd>4</dd>\n",
       "</dl>\n"
      ],
      "text/latex": [
       "\\begin{description*}\n",
       "\\item[one] 1\n",
       "\\item[two] 2\n",
       "\\item[three] 3\n",
       "\\item[4] 4\n",
       "\\end{description*}\n"
      ],
      "text/markdown": [
       "one\n",
       ":   1two\n",
       ":   2three\n",
       ":   34\n",
       ":   4\n",
       "\n"
      ],
      "text/plain": [
       "  one   two three       \n",
       "    1     2     3     4 "
      ]
     },
     "metadata": {},
     "output_type": "display_data"
    }
   ],
   "source": [
    "# именованные вектора\n",
    "a <- c(one = 1, two = 2, three = 3 ,4);a"
   ]
  },
  {
   "cell_type": "code",
   "execution_count": 73,
   "id": "ab026bab",
   "metadata": {},
   "outputs": [
    {
     "data": {
      "text/html": [
       "<ol class=list-inline>\n",
       "\t<li>'one'</li>\n",
       "\t<li>'two'</li>\n",
       "\t<li>'three'</li>\n",
       "\t<li>''</li>\n",
       "</ol>\n"
      ],
      "text/latex": [
       "\\begin{enumerate*}\n",
       "\\item 'one'\n",
       "\\item 'two'\n",
       "\\item 'three'\n",
       "\\item ''\n",
       "\\end{enumerate*}\n"
      ],
      "text/markdown": [
       "1. 'one'\n",
       "2. 'two'\n",
       "3. 'three'\n",
       "4. ''\n",
       "\n",
       "\n"
      ],
      "text/plain": [
       "[1] \"one\"   \"two\"   \"three\" \"\"     "
      ]
     },
     "metadata": {},
     "output_type": "display_data"
    }
   ],
   "source": [
    "names(a)"
   ]
  },
  {
   "cell_type": "code",
   "execution_count": 75,
   "id": "73c6a3a9",
   "metadata": {},
   "outputs": [
    {
     "data": {
      "text/html": [
       "<strong>one:</strong> 1"
      ],
      "text/latex": [
       "\\textbf{one:} 1"
      ],
      "text/markdown": [
       "**one:** 1"
      ],
      "text/plain": [
       "one \n",
       "  1 "
      ]
     },
     "metadata": {},
     "output_type": "display_data"
    }
   ],
   "source": [
    "a['one']"
   ]
  },
  {
   "cell_type": "code",
   "execution_count": 76,
   "id": "9963737c",
   "metadata": {},
   "outputs": [
    {
     "data": {
      "text/html": [
       "<strong>one:</strong> 1"
      ],
      "text/latex": [
       "\\textbf{one:} 1"
      ],
      "text/markdown": [
       "**one:** 1"
      ],
      "text/plain": [
       "one \n",
       "  1 "
      ]
     },
     "metadata": {},
     "output_type": "display_data"
    }
   ],
   "source": [
    "a[1]"
   ]
  },
  {
   "cell_type": "code",
   "execution_count": 77,
   "id": "ec9e3da6",
   "metadata": {},
   "outputs": [],
   "source": [
    "# переприсвоить имена вектора\n",
    "names(a) <- c(\"not one\", \"not two\", \"not three\", \"four\")"
   ]
  },
  {
   "cell_type": "code",
   "execution_count": 78,
   "id": "a470bfdb",
   "metadata": {},
   "outputs": [
    {
     "data": {
      "text/html": [
       "<dl class=dl-horizontal>\n",
       "\t<dt>not one</dt>\n",
       "\t\t<dd>1</dd>\n",
       "\t<dt>not two</dt>\n",
       "\t\t<dd>2</dd>\n",
       "\t<dt>not three</dt>\n",
       "\t\t<dd>3</dd>\n",
       "\t<dt>four</dt>\n",
       "\t\t<dd>4</dd>\n",
       "</dl>\n"
      ],
      "text/latex": [
       "\\begin{description*}\n",
       "\\item[not one] 1\n",
       "\\item[not two] 2\n",
       "\\item[not three] 3\n",
       "\\item[four] 4\n",
       "\\end{description*}\n"
      ],
      "text/markdown": [
       "not one\n",
       ":   1not two\n",
       ":   2not three\n",
       ":   3four\n",
       ":   4\n",
       "\n"
      ],
      "text/plain": [
       "  not one   not two not three      four \n",
       "        1         2         3         4 "
      ]
     },
     "metadata": {},
     "output_type": "display_data"
    }
   ],
   "source": [
    "a"
   ]
  },
  {
   "cell_type": "code",
   "execution_count": 79,
   "id": "4f37862e",
   "metadata": {},
   "outputs": [],
   "source": [
    "# избавиться от имен\n",
    "# names(a) <- NULL"
   ]
  },
  {
   "cell_type": "code",
   "execution_count": 80,
   "id": "c1a5c059",
   "metadata": {},
   "outputs": [
    {
     "data": {
      "text/html": [
       "<ol class=list-inline>\n",
       "\t<li>2</li>\n",
       "\t<li>4</li>\n",
       "\t<li>6</li>\n",
       "</ol>\n"
      ],
      "text/latex": [
       "\\begin{enumerate*}\n",
       "\\item 2\n",
       "\\item 4\n",
       "\\item 6\n",
       "\\end{enumerate*}\n"
      ],
      "text/markdown": [
       "1. 2\n",
       "2. 4\n",
       "3. 6\n",
       "\n",
       "\n"
      ],
      "text/plain": [
       "[1] 2 4 6"
      ]
     },
     "metadata": {},
     "output_type": "display_data"
    }
   ],
   "source": [
    "# векторная арифметика\n",
    "1:3 + c(1, 2, 3)"
   ]
  },
  {
   "cell_type": "code",
   "execution_count": 81,
   "id": "041619bb",
   "metadata": {},
   "outputs": [
    {
     "data": {
      "text/html": [
       "<ol class=list-inline>\n",
       "\t<li>1</li>\n",
       "\t<li>4</li>\n",
       "\t<li>9</li>\n",
       "</ol>\n"
      ],
      "text/latex": [
       "\\begin{enumerate*}\n",
       "\\item 1\n",
       "\\item 4\n",
       "\\item 9\n",
       "\\end{enumerate*}\n"
      ],
      "text/markdown": [
       "1. 1\n",
       "2. 4\n",
       "3. 9\n",
       "\n",
       "\n"
      ],
      "text/plain": [
       "[1] 1 4 9"
      ]
     },
     "metadata": {},
     "output_type": "display_data"
    }
   ],
   "source": [
    "1:3 * c(1, 2, 3)"
   ]
  },
  {
   "cell_type": "code",
   "execution_count": 83,
   "id": "4f21b0e0",
   "metadata": {},
   "outputs": [
    {
     "data": {
      "text/html": [
       "<ol class=list-inline>\n",
       "\t<li>FALSE</li>\n",
       "\t<li>TRUE</li>\n",
       "\t<li>TRUE</li>\n",
       "</ol>\n"
      ],
      "text/latex": [
       "\\begin{enumerate*}\n",
       "\\item FALSE\n",
       "\\item TRUE\n",
       "\\item TRUE\n",
       "\\end{enumerate*}\n"
      ],
      "text/markdown": [
       "1. FALSE\n",
       "2. TRUE\n",
       "3. TRUE\n",
       "\n",
       "\n"
      ],
      "text/plain": [
       "[1] FALSE  TRUE  TRUE"
      ]
     },
     "metadata": {},
     "output_type": "display_data"
    }
   ],
   "source": [
    "c(F, T, T) & c(1, 2, 3)"
   ]
  },
  {
   "cell_type": "code",
   "execution_count": 84,
   "id": "8c795e12",
   "metadata": {},
   "outputs": [
    {
     "data": {
      "text/html": [
       "<ol class=list-inline>\n",
       "\t<li>1</li>\n",
       "\t<li>1.4142135623731</li>\n",
       "\t<li>1.73205080756888</li>\n",
       "\t<li>2</li>\n",
       "</ol>\n"
      ],
      "text/latex": [
       "\\begin{enumerate*}\n",
       "\\item 1\n",
       "\\item 1.4142135623731\n",
       "\\item 1.73205080756888\n",
       "\\item 2\n",
       "\\end{enumerate*}\n"
      ],
      "text/markdown": [
       "1. 1\n",
       "2. 1.4142135623731\n",
       "3. 1.73205080756888\n",
       "4. 2\n",
       "\n",
       "\n"
      ],
      "text/plain": [
       "[1] 1.000000 1.414214 1.732051 2.000000"
      ]
     },
     "metadata": {},
     "output_type": "display_data"
    }
   ],
   "source": [
    "# функциональная векторизованность \n",
    "sqrt(1:4)"
   ]
  },
  {
   "cell_type": "code",
   "execution_count": 90,
   "id": "afecbcfd",
   "metadata": {},
   "outputs": [
    {
     "data": {
      "text/html": [
       "<ol class=list-inline>\n",
       "\t<li>0</li>\n",
       "\t<li>0</li>\n",
       "\t<li>0</li>\n",
       "\t<li>0</li>\n",
       "\t<li>1</li>\n",
       "\t<li>1</li>\n",
       "\t<li>1</li>\n",
       "\t<li>1</li>\n",
       "\t<li>2</li>\n",
       "\t<li>2</li>\n",
       "\t<li>2</li>\n",
       "\t<li>2</li>\n",
       "\t<li>3</li>\n",
       "</ol>\n"
      ],
      "text/latex": [
       "\\begin{enumerate*}\n",
       "\\item 0\n",
       "\\item 0\n",
       "\\item 0\n",
       "\\item 0\n",
       "\\item 1\n",
       "\\item 1\n",
       "\\item 1\n",
       "\\item 1\n",
       "\\item 2\n",
       "\\item 2\n",
       "\\item 2\n",
       "\\item 2\n",
       "\\item 3\n",
       "\\end{enumerate*}\n"
      ],
      "text/markdown": [
       "1. 0\n",
       "2. 0\n",
       "3. 0\n",
       "4. 0\n",
       "5. 1\n",
       "6. 1\n",
       "7. 1\n",
       "8. 1\n",
       "9. 2\n",
       "10. 2\n",
       "11. 2\n",
       "12. 2\n",
       "13. 3\n",
       "\n",
       "\n"
      ],
      "text/plain": [
       " [1] 0 0 0 0 1 1 1 1 2 2 2 2 3"
      ]
     },
     "metadata": {},
     "output_type": "display_data"
    }
   ],
   "source": [
    "# огругление вниз до ближайшего целого\n",
    "floor(seq(0,3, by = 0.25))"
   ]
  },
  {
   "cell_type": "code",
   "execution_count": 92,
   "id": "7d06148e",
   "metadata": {},
   "outputs": [
    {
     "data": {
      "text/html": [
       "65841128640"
      ],
      "text/latex": [
       "65841128640"
      ],
      "text/markdown": [
       "65841128640"
      ],
      "text/plain": [
       "[1] 65841128640"
      ]
     },
     "metadata": {},
     "output_type": "display_data"
    }
   ],
   "source": [
    "# не векторизованные функции\n",
    "sum(1:factorial(9))"
   ]
  },
  {
   "cell_type": "code",
   "execution_count": 104,
   "id": "d8ce2f5d",
   "metadata": {},
   "outputs": [],
   "source": [
    "# Общий глоссарий для этого урока:\n",
    "\n",
    "# ?c, ?\":\"\n",
    "# ?seq, ?rep\n",
    "# ?print\n",
    "# ?all.equal\n",
    "# ?typeof\n",
    "# ?is.logical, ?as.logical, etc.\n",
    "# ?length, ?names"
   ]
  }
 ],
 "metadata": {
  "kernelspec": {
   "display_name": "R",
   "language": "R",
   "name": "ir"
  },
  "language_info": {
   "codemirror_mode": "r",
   "file_extension": ".r",
   "mimetype": "text/x-r-source",
   "name": "R",
   "pygments_lexer": "r",
   "version": "3.6.1"
  }
 },
 "nbformat": 4,
 "nbformat_minor": 5
}
