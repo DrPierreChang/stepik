{
 "cells": [
  {
   "cell_type": "code",
   "execution_count": 26,
   "id": "bbc5606f",
   "metadata": {},
   "outputs": [],
   "source": [
    "library(tidyr)\n",
    "library(dplyr)\n",
    "library(stringr)"
   ]
  },
  {
   "cell_type": "code",
   "execution_count": 27,
   "id": "ab055b00",
   "metadata": {},
   "outputs": [],
   "source": [
    "options(stringsAsFactors = F)"
   ]
  },
  {
   "cell_type": "code",
   "execution_count": 1,
   "id": "1ea3bba1",
   "metadata": {},
   "outputs": [
    {
     "data": {
      "text/html": [
       "<table>\n",
       "<thead><tr><th scope=col>Name</th><th scope=col>DrugA_T1</th><th scope=col>DrugA_T2</th><th scope=col>DrugB_T1</th><th scope=col>DrugB_T2</th></tr></thead>\n",
       "<tbody>\n",
       "\t<tr><td>John    </td><td>35.07729</td><td>37.41580</td><td>36.17455</td><td>37.44987</td></tr>\n",
       "\t<tr><td>Peter   </td><td>35.01392</td><td>37.41355</td><td>36.00115</td><td>37.88969</td></tr>\n",
       "\t<tr><td>Mary    </td><td>35.67363</td><td>38.92508</td><td>36.49993</td><td>38.25544</td></tr>\n",
       "\t<tr><td>Caroline</td><td>35.14321</td><td>36.52195</td><td>36.05723</td><td>38.08802</td></tr>\n",
       "</tbody>\n",
       "</table>\n"
      ],
      "text/latex": [
       "\\begin{tabular}{r|lllll}\n",
       " Name & DrugA\\_T1 & DrugA\\_T2 & DrugB\\_T1 & DrugB\\_T2\\\\\n",
       "\\hline\n",
       "\t John     & 35.07729 & 37.41580 & 36.17455 & 37.44987\\\\\n",
       "\t Peter    & 35.01392 & 37.41355 & 36.00115 & 37.88969\\\\\n",
       "\t Mary     & 35.67363 & 38.92508 & 36.49993 & 38.25544\\\\\n",
       "\t Caroline & 35.14321 & 36.52195 & 36.05723 & 38.08802\\\\\n",
       "\\end{tabular}\n"
      ],
      "text/markdown": [
       "\n",
       "| Name | DrugA_T1 | DrugA_T2 | DrugB_T1 | DrugB_T2 |\n",
       "|---|---|---|---|---|\n",
       "| John     | 35.07729 | 37.41580 | 36.17455 | 37.44987 |\n",
       "| Peter    | 35.01392 | 37.41355 | 36.00115 | 37.88969 |\n",
       "| Mary     | 35.67363 | 38.92508 | 36.49993 | 38.25544 |\n",
       "| Caroline | 35.14321 | 36.52195 | 36.05723 | 38.08802 |\n",
       "\n"
      ],
      "text/plain": [
       "  Name     DrugA_T1 DrugA_T2 DrugB_T1 DrugB_T2\n",
       "1 John     35.07729 37.41580 36.17455 37.44987\n",
       "2 Peter    35.01392 37.41355 36.00115 37.88969\n",
       "3 Mary     35.67363 38.92508 36.49993 38.25544\n",
       "4 Caroline 35.14321 36.52195 36.05723 38.08802"
      ]
     },
     "metadata": {},
     "output_type": "display_data"
    }
   ],
   "source": [
    "set.seed(1122)\n",
    "df <- data.frame(Name = c(\"John\", \"Peter\", \"Mary\", \"Caroline\"),\n",
    "                DrugA_T1 = runif(4, 35,36),\n",
    "                DrugA_T2 = runif(4, 36, 39),\n",
    "                DrugB_T1 = runif(4, 36, 36.6),\n",
    "                DrugB_T2 = runif(4, 37, 38.5)\n",
    ");df"
   ]
  },
  {
   "cell_type": "code",
   "execution_count": 4,
   "id": "41e86453",
   "metadata": {},
   "outputs": [],
   "source": [
    "# \"из широкого в длинный формат\""
   ]
  },
  {
   "cell_type": "code",
   "execution_count": 6,
   "id": "3c8de153",
   "metadata": {},
   "outputs": [],
   "source": [
    "df <- gather(df, Variable, Temperature, -Name)"
   ]
  },
  {
   "cell_type": "code",
   "execution_count": null,
   "id": "11c94d73",
   "metadata": {},
   "outputs": [],
   "source": []
  },
  {
   "cell_type": "code",
   "execution_count": null,
   "id": "dfd6ff43",
   "metadata": {},
   "outputs": [],
   "source": []
  },
  {
   "cell_type": "code",
   "execution_count": null,
   "id": "2134ff53",
   "metadata": {},
   "outputs": [],
   "source": []
  },
  {
   "cell_type": "code",
   "execution_count": null,
   "id": "84ee4622",
   "metadata": {},
   "outputs": [],
   "source": []
  },
  {
   "cell_type": "code",
   "execution_count": null,
   "id": "ded153f1",
   "metadata": {},
   "outputs": [],
   "source": []
  },
  {
   "cell_type": "code",
   "execution_count": null,
   "id": "4e17ca0f",
   "metadata": {},
   "outputs": [],
   "source": []
  },
  {
   "cell_type": "code",
   "execution_count": null,
   "id": "c23632fe",
   "metadata": {},
   "outputs": [],
   "source": []
  },
  {
   "cell_type": "code",
   "execution_count": null,
   "id": "202d2709",
   "metadata": {},
   "outputs": [],
   "source": []
  },
  {
   "cell_type": "code",
   "execution_count": null,
   "id": "c665edbb",
   "metadata": {},
   "outputs": [],
   "source": []
  },
  {
   "cell_type": "code",
   "execution_count": 7,
   "id": "eddb0d32",
   "metadata": {},
   "outputs": [
    {
     "data": {
      "text/html": [
       "<table>\n",
       "<thead><tr><th scope=col>Name</th><th scope=col>Variable</th><th scope=col>Temperature</th></tr></thead>\n",
       "<tbody>\n",
       "\t<tr><td>John    </td><td>DrugA_T1</td><td>35.07729</td></tr>\n",
       "\t<tr><td>Peter   </td><td>DrugA_T1</td><td>35.01392</td></tr>\n",
       "\t<tr><td>Mary    </td><td>DrugA_T1</td><td>35.67363</td></tr>\n",
       "\t<tr><td>Caroline</td><td>DrugA_T1</td><td>35.14321</td></tr>\n",
       "\t<tr><td>John    </td><td>DrugA_T2</td><td>37.41580</td></tr>\n",
       "\t<tr><td>Peter   </td><td>DrugA_T2</td><td>37.41355</td></tr>\n",
       "\t<tr><td>Mary    </td><td>DrugA_T2</td><td>38.92508</td></tr>\n",
       "\t<tr><td>Caroline</td><td>DrugA_T2</td><td>36.52195</td></tr>\n",
       "\t<tr><td>John    </td><td>DrugB_T1</td><td>36.17455</td></tr>\n",
       "\t<tr><td>Peter   </td><td>DrugB_T1</td><td>36.00115</td></tr>\n",
       "\t<tr><td>Mary    </td><td>DrugB_T1</td><td>36.49993</td></tr>\n",
       "\t<tr><td>Caroline</td><td>DrugB_T1</td><td>36.05723</td></tr>\n",
       "\t<tr><td>John    </td><td>DrugB_T2</td><td>37.44987</td></tr>\n",
       "\t<tr><td>Peter   </td><td>DrugB_T2</td><td>37.88969</td></tr>\n",
       "\t<tr><td>Mary    </td><td>DrugB_T2</td><td>38.25544</td></tr>\n",
       "\t<tr><td>Caroline</td><td>DrugB_T2</td><td>38.08802</td></tr>\n",
       "</tbody>\n",
       "</table>\n"
      ],
      "text/latex": [
       "\\begin{tabular}{r|lll}\n",
       " Name & Variable & Temperature\\\\\n",
       "\\hline\n",
       "\t John       & DrugA\\_T1 & 35.07729  \\\\\n",
       "\t Peter      & DrugA\\_T1 & 35.01392  \\\\\n",
       "\t Mary       & DrugA\\_T1 & 35.67363  \\\\\n",
       "\t Caroline   & DrugA\\_T1 & 35.14321  \\\\\n",
       "\t John       & DrugA\\_T2 & 37.41580  \\\\\n",
       "\t Peter      & DrugA\\_T2 & 37.41355  \\\\\n",
       "\t Mary       & DrugA\\_T2 & 38.92508  \\\\\n",
       "\t Caroline   & DrugA\\_T2 & 36.52195  \\\\\n",
       "\t John       & DrugB\\_T1 & 36.17455  \\\\\n",
       "\t Peter      & DrugB\\_T1 & 36.00115  \\\\\n",
       "\t Mary       & DrugB\\_T1 & 36.49993  \\\\\n",
       "\t Caroline   & DrugB\\_T1 & 36.05723  \\\\\n",
       "\t John       & DrugB\\_T2 & 37.44987  \\\\\n",
       "\t Peter      & DrugB\\_T2 & 37.88969  \\\\\n",
       "\t Mary       & DrugB\\_T2 & 38.25544  \\\\\n",
       "\t Caroline   & DrugB\\_T2 & 38.08802  \\\\\n",
       "\\end{tabular}\n"
      ],
      "text/markdown": [
       "\n",
       "| Name | Variable | Temperature |\n",
       "|---|---|---|\n",
       "| John     | DrugA_T1 | 35.07729 |\n",
       "| Peter    | DrugA_T1 | 35.01392 |\n",
       "| Mary     | DrugA_T1 | 35.67363 |\n",
       "| Caroline | DrugA_T1 | 35.14321 |\n",
       "| John     | DrugA_T2 | 37.41580 |\n",
       "| Peter    | DrugA_T2 | 37.41355 |\n",
       "| Mary     | DrugA_T2 | 38.92508 |\n",
       "| Caroline | DrugA_T2 | 36.52195 |\n",
       "| John     | DrugB_T1 | 36.17455 |\n",
       "| Peter    | DrugB_T1 | 36.00115 |\n",
       "| Mary     | DrugB_T1 | 36.49993 |\n",
       "| Caroline | DrugB_T1 | 36.05723 |\n",
       "| John     | DrugB_T2 | 37.44987 |\n",
       "| Peter    | DrugB_T2 | 37.88969 |\n",
       "| Mary     | DrugB_T2 | 38.25544 |\n",
       "| Caroline | DrugB_T2 | 38.08802 |\n",
       "\n"
      ],
      "text/plain": [
       "   Name     Variable Temperature\n",
       "1  John     DrugA_T1 35.07729   \n",
       "2  Peter    DrugA_T1 35.01392   \n",
       "3  Mary     DrugA_T1 35.67363   \n",
       "4  Caroline DrugA_T1 35.14321   \n",
       "5  John     DrugA_T2 37.41580   \n",
       "6  Peter    DrugA_T2 37.41355   \n",
       "7  Mary     DrugA_T2 38.92508   \n",
       "8  Caroline DrugA_T2 36.52195   \n",
       "9  John     DrugB_T1 36.17455   \n",
       "10 Peter    DrugB_T1 36.00115   \n",
       "11 Mary     DrugB_T1 36.49993   \n",
       "12 Caroline DrugB_T1 36.05723   \n",
       "13 John     DrugB_T2 37.44987   \n",
       "14 Peter    DrugB_T2 37.88969   \n",
       "15 Mary     DrugB_T2 38.25544   \n",
       "16 Caroline DrugB_T2 38.08802   "
      ]
     },
     "metadata": {},
     "output_type": "display_data"
    }
   ],
   "source": [
    "df"
   ]
  },
  {
   "cell_type": "code",
   "execution_count": 8,
   "id": "7cd9d5cf",
   "metadata": {},
   "outputs": [
    {
     "data": {
      "text/html": [
       "<table>\n",
       "<thead><tr><th scope=col>Name</th><th scope=col>DrugType</th><th scope=col>Time</th><th scope=col>Temperature</th></tr></thead>\n",
       "<tbody>\n",
       "\t<tr><td>John    </td><td>DrugA   </td><td>T1      </td><td>35.07729</td></tr>\n",
       "\t<tr><td>Peter   </td><td>DrugA   </td><td>T1      </td><td>35.01392</td></tr>\n",
       "\t<tr><td>Mary    </td><td>DrugA   </td><td>T1      </td><td>35.67363</td></tr>\n",
       "\t<tr><td>Caroline</td><td>DrugA   </td><td>T1      </td><td>35.14321</td></tr>\n",
       "\t<tr><td>John    </td><td>DrugA   </td><td>T2      </td><td>37.41580</td></tr>\n",
       "\t<tr><td>Peter   </td><td>DrugA   </td><td>T2      </td><td>37.41355</td></tr>\n",
       "\t<tr><td>Mary    </td><td>DrugA   </td><td>T2      </td><td>38.92508</td></tr>\n",
       "\t<tr><td>Caroline</td><td>DrugA   </td><td>T2      </td><td>36.52195</td></tr>\n",
       "\t<tr><td>John    </td><td>DrugB   </td><td>T1      </td><td>36.17455</td></tr>\n",
       "\t<tr><td>Peter   </td><td>DrugB   </td><td>T1      </td><td>36.00115</td></tr>\n",
       "\t<tr><td>Mary    </td><td>DrugB   </td><td>T1      </td><td>36.49993</td></tr>\n",
       "\t<tr><td>Caroline</td><td>DrugB   </td><td>T1      </td><td>36.05723</td></tr>\n",
       "\t<tr><td>John    </td><td>DrugB   </td><td>T2      </td><td>37.44987</td></tr>\n",
       "\t<tr><td>Peter   </td><td>DrugB   </td><td>T2      </td><td>37.88969</td></tr>\n",
       "\t<tr><td>Mary    </td><td>DrugB   </td><td>T2      </td><td>38.25544</td></tr>\n",
       "\t<tr><td>Caroline</td><td>DrugB   </td><td>T2      </td><td>38.08802</td></tr>\n",
       "</tbody>\n",
       "</table>\n"
      ],
      "text/latex": [
       "\\begin{tabular}{r|llll}\n",
       " Name & DrugType & Time & Temperature\\\\\n",
       "\\hline\n",
       "\t John     & DrugA    & T1       & 35.07729\\\\\n",
       "\t Peter    & DrugA    & T1       & 35.01392\\\\\n",
       "\t Mary     & DrugA    & T1       & 35.67363\\\\\n",
       "\t Caroline & DrugA    & T1       & 35.14321\\\\\n",
       "\t John     & DrugA    & T2       & 37.41580\\\\\n",
       "\t Peter    & DrugA    & T2       & 37.41355\\\\\n",
       "\t Mary     & DrugA    & T2       & 38.92508\\\\\n",
       "\t Caroline & DrugA    & T2       & 36.52195\\\\\n",
       "\t John     & DrugB    & T1       & 36.17455\\\\\n",
       "\t Peter    & DrugB    & T1       & 36.00115\\\\\n",
       "\t Mary     & DrugB    & T1       & 36.49993\\\\\n",
       "\t Caroline & DrugB    & T1       & 36.05723\\\\\n",
       "\t John     & DrugB    & T2       & 37.44987\\\\\n",
       "\t Peter    & DrugB    & T2       & 37.88969\\\\\n",
       "\t Mary     & DrugB    & T2       & 38.25544\\\\\n",
       "\t Caroline & DrugB    & T2       & 38.08802\\\\\n",
       "\\end{tabular}\n"
      ],
      "text/markdown": [
       "\n",
       "| Name | DrugType | Time | Temperature |\n",
       "|---|---|---|---|\n",
       "| John     | DrugA    | T1       | 35.07729 |\n",
       "| Peter    | DrugA    | T1       | 35.01392 |\n",
       "| Mary     | DrugA    | T1       | 35.67363 |\n",
       "| Caroline | DrugA    | T1       | 35.14321 |\n",
       "| John     | DrugA    | T2       | 37.41580 |\n",
       "| Peter    | DrugA    | T2       | 37.41355 |\n",
       "| Mary     | DrugA    | T2       | 38.92508 |\n",
       "| Caroline | DrugA    | T2       | 36.52195 |\n",
       "| John     | DrugB    | T1       | 36.17455 |\n",
       "| Peter    | DrugB    | T1       | 36.00115 |\n",
       "| Mary     | DrugB    | T1       | 36.49993 |\n",
       "| Caroline | DrugB    | T1       | 36.05723 |\n",
       "| John     | DrugB    | T2       | 37.44987 |\n",
       "| Peter    | DrugB    | T2       | 37.88969 |\n",
       "| Mary     | DrugB    | T2       | 38.25544 |\n",
       "| Caroline | DrugB    | T2       | 38.08802 |\n",
       "\n"
      ],
      "text/plain": [
       "   Name     DrugType Time Temperature\n",
       "1  John     DrugA    T1   35.07729   \n",
       "2  Peter    DrugA    T1   35.01392   \n",
       "3  Mary     DrugA    T1   35.67363   \n",
       "4  Caroline DrugA    T1   35.14321   \n",
       "5  John     DrugA    T2   37.41580   \n",
       "6  Peter    DrugA    T2   37.41355   \n",
       "7  Mary     DrugA    T2   38.92508   \n",
       "8  Caroline DrugA    T2   36.52195   \n",
       "9  John     DrugB    T1   36.17455   \n",
       "10 Peter    DrugB    T1   36.00115   \n",
       "11 Mary     DrugB    T1   36.49993   \n",
       "12 Caroline DrugB    T1   36.05723   \n",
       "13 John     DrugB    T2   37.44987   \n",
       "14 Peter    DrugB    T2   37.88969   \n",
       "15 Mary     DrugB    T2   38.25544   \n",
       "16 Caroline DrugB    T2   38.08802   "
      ]
     },
     "metadata": {},
     "output_type": "display_data"
    }
   ],
   "source": [
    "df <- separate(df, Variable, c(\"DrugType\", \"Time\"), \"_\");df"
   ]
  },
  {
   "cell_type": "code",
   "execution_count": 15,
   "id": "49c0be70",
   "metadata": {},
   "outputs": [
    {
     "data": {
      "text/html": [
       "<table>\n",
       "<thead><tr><th scope=col>Time</th><th scope=col>Temperature</th></tr></thead>\n",
       "<tbody>\n",
       "\t<tr><td>T1      </td><td>35.07729</td></tr>\n",
       "\t<tr><td>T1      </td><td>35.01392</td></tr>\n",
       "\t<tr><td>T1      </td><td>35.67363</td></tr>\n",
       "\t<tr><td>T1      </td><td>35.14321</td></tr>\n",
       "\t<tr><td>T2      </td><td>37.41580</td></tr>\n",
       "\t<tr><td>T2      </td><td>37.41355</td></tr>\n",
       "\t<tr><td>T2      </td><td>38.92508</td></tr>\n",
       "\t<tr><td>T2      </td><td>36.52195</td></tr>\n",
       "\t<tr><td>T1      </td><td>36.17455</td></tr>\n",
       "\t<tr><td>T1      </td><td>36.00115</td></tr>\n",
       "\t<tr><td>T1      </td><td>36.49993</td></tr>\n",
       "\t<tr><td>T1      </td><td>36.05723</td></tr>\n",
       "\t<tr><td>T2      </td><td>37.44987</td></tr>\n",
       "\t<tr><td>T2      </td><td>37.88969</td></tr>\n",
       "\t<tr><td>T2      </td><td>38.25544</td></tr>\n",
       "\t<tr><td>T2      </td><td>38.08802</td></tr>\n",
       "</tbody>\n",
       "</table>\n"
      ],
      "text/latex": [
       "\\begin{tabular}{r|ll}\n",
       " Time & Temperature\\\\\n",
       "\\hline\n",
       "\t T1       & 35.07729\\\\\n",
       "\t T1       & 35.01392\\\\\n",
       "\t T1       & 35.67363\\\\\n",
       "\t T1       & 35.14321\\\\\n",
       "\t T2       & 37.41580\\\\\n",
       "\t T2       & 37.41355\\\\\n",
       "\t T2       & 38.92508\\\\\n",
       "\t T2       & 36.52195\\\\\n",
       "\t T1       & 36.17455\\\\\n",
       "\t T1       & 36.00115\\\\\n",
       "\t T1       & 36.49993\\\\\n",
       "\t T1       & 36.05723\\\\\n",
       "\t T2       & 37.44987\\\\\n",
       "\t T2       & 37.88969\\\\\n",
       "\t T2       & 38.25544\\\\\n",
       "\t T2       & 38.08802\\\\\n",
       "\\end{tabular}\n"
      ],
      "text/markdown": [
       "\n",
       "| Time | Temperature |\n",
       "|---|---|\n",
       "| T1       | 35.07729 |\n",
       "| T1       | 35.01392 |\n",
       "| T1       | 35.67363 |\n",
       "| T1       | 35.14321 |\n",
       "| T2       | 37.41580 |\n",
       "| T2       | 37.41355 |\n",
       "| T2       | 38.92508 |\n",
       "| T2       | 36.52195 |\n",
       "| T1       | 36.17455 |\n",
       "| T1       | 36.00115 |\n",
       "| T1       | 36.49993 |\n",
       "| T1       | 36.05723 |\n",
       "| T2       | 37.44987 |\n",
       "| T2       | 37.88969 |\n",
       "| T2       | 38.25544 |\n",
       "| T2       | 38.08802 |\n",
       "\n"
      ],
      "text/plain": [
       "   Time Temperature\n",
       "1  T1   35.07729   \n",
       "2  T1   35.01392   \n",
       "3  T1   35.67363   \n",
       "4  T1   35.14321   \n",
       "5  T2   37.41580   \n",
       "6  T2   37.41355   \n",
       "7  T2   38.92508   \n",
       "8  T2   36.52195   \n",
       "9  T1   36.17455   \n",
       "10 T1   36.00115   \n",
       "11 T1   36.49993   \n",
       "12 T1   36.05723   \n",
       "13 T2   37.44987   \n",
       "14 T2   37.88969   \n",
       "15 T2   38.25544   \n",
       "16 T2   38.08802   "
      ]
     },
     "metadata": {},
     "output_type": "display_data"
    }
   ],
   "source": [
    "select(df, Time, Temperature)"
   ]
  },
  {
   "cell_type": "code",
   "execution_count": 16,
   "id": "f894ee77",
   "metadata": {},
   "outputs": [
    {
     "data": {
      "text/html": [
       "<table>\n",
       "<thead><tr><th scope=col>Time</th><th scope=col>Temperature</th></tr></thead>\n",
       "<tbody>\n",
       "\t<tr><td>T1      </td><td>35.07729</td></tr>\n",
       "\t<tr><td>T1      </td><td>35.01392</td></tr>\n",
       "\t<tr><td>T1      </td><td>35.67363</td></tr>\n",
       "\t<tr><td>T1      </td><td>35.14321</td></tr>\n",
       "\t<tr><td>T2      </td><td>37.41580</td></tr>\n",
       "\t<tr><td>T2      </td><td>37.41355</td></tr>\n",
       "\t<tr><td>T2      </td><td>38.92508</td></tr>\n",
       "\t<tr><td>T2      </td><td>36.52195</td></tr>\n",
       "\t<tr><td>T1      </td><td>36.17455</td></tr>\n",
       "\t<tr><td>T1      </td><td>36.00115</td></tr>\n",
       "\t<tr><td>T1      </td><td>36.49993</td></tr>\n",
       "\t<tr><td>T1      </td><td>36.05723</td></tr>\n",
       "\t<tr><td>T2      </td><td>37.44987</td></tr>\n",
       "\t<tr><td>T2      </td><td>37.88969</td></tr>\n",
       "\t<tr><td>T2      </td><td>38.25544</td></tr>\n",
       "\t<tr><td>T2      </td><td>38.08802</td></tr>\n",
       "</tbody>\n",
       "</table>\n"
      ],
      "text/latex": [
       "\\begin{tabular}{r|ll}\n",
       " Time & Temperature\\\\\n",
       "\\hline\n",
       "\t T1       & 35.07729\\\\\n",
       "\t T1       & 35.01392\\\\\n",
       "\t T1       & 35.67363\\\\\n",
       "\t T1       & 35.14321\\\\\n",
       "\t T2       & 37.41580\\\\\n",
       "\t T2       & 37.41355\\\\\n",
       "\t T2       & 38.92508\\\\\n",
       "\t T2       & 36.52195\\\\\n",
       "\t T1       & 36.17455\\\\\n",
       "\t T1       & 36.00115\\\\\n",
       "\t T1       & 36.49993\\\\\n",
       "\t T1       & 36.05723\\\\\n",
       "\t T2       & 37.44987\\\\\n",
       "\t T2       & 37.88969\\\\\n",
       "\t T2       & 38.25544\\\\\n",
       "\t T2       & 38.08802\\\\\n",
       "\\end{tabular}\n"
      ],
      "text/markdown": [
       "\n",
       "| Time | Temperature |\n",
       "|---|---|\n",
       "| T1       | 35.07729 |\n",
       "| T1       | 35.01392 |\n",
       "| T1       | 35.67363 |\n",
       "| T1       | 35.14321 |\n",
       "| T2       | 37.41580 |\n",
       "| T2       | 37.41355 |\n",
       "| T2       | 38.92508 |\n",
       "| T2       | 36.52195 |\n",
       "| T1       | 36.17455 |\n",
       "| T1       | 36.00115 |\n",
       "| T1       | 36.49993 |\n",
       "| T1       | 36.05723 |\n",
       "| T2       | 37.44987 |\n",
       "| T2       | 37.88969 |\n",
       "| T2       | 38.25544 |\n",
       "| T2       | 38.08802 |\n",
       "\n"
      ],
      "text/plain": [
       "   Time Temperature\n",
       "1  T1   35.07729   \n",
       "2  T1   35.01392   \n",
       "3  T1   35.67363   \n",
       "4  T1   35.14321   \n",
       "5  T2   37.41580   \n",
       "6  T2   37.41355   \n",
       "7  T2   38.92508   \n",
       "8  T2   36.52195   \n",
       "9  T1   36.17455   \n",
       "10 T1   36.00115   \n",
       "11 T1   36.49993   \n",
       "12 T1   36.05723   \n",
       "13 T2   37.44987   \n",
       "14 T2   37.88969   \n",
       "15 T2   38.25544   \n",
       "16 T2   38.08802   "
      ]
     },
     "metadata": {},
     "output_type": "display_data"
    }
   ],
   "source": [
    "select(df, 3:4)"
   ]
  },
  {
   "cell_type": "code",
   "execution_count": 17,
   "id": "4a447c60",
   "metadata": {},
   "outputs": [
    {
     "data": {
      "text/html": [
       "<table>\n",
       "<thead><tr><th scope=col>Time</th><th scope=col>Temperature</th></tr></thead>\n",
       "<tbody>\n",
       "\t<tr><td>T1      </td><td>35.07729</td></tr>\n",
       "\t<tr><td>T1      </td><td>35.01392</td></tr>\n",
       "\t<tr><td>T1      </td><td>35.67363</td></tr>\n",
       "\t<tr><td>T1      </td><td>35.14321</td></tr>\n",
       "\t<tr><td>T2      </td><td>37.41580</td></tr>\n",
       "\t<tr><td>T2      </td><td>37.41355</td></tr>\n",
       "\t<tr><td>T2      </td><td>38.92508</td></tr>\n",
       "\t<tr><td>T2      </td><td>36.52195</td></tr>\n",
       "\t<tr><td>T1      </td><td>36.17455</td></tr>\n",
       "\t<tr><td>T1      </td><td>36.00115</td></tr>\n",
       "\t<tr><td>T1      </td><td>36.49993</td></tr>\n",
       "\t<tr><td>T1      </td><td>36.05723</td></tr>\n",
       "\t<tr><td>T2      </td><td>37.44987</td></tr>\n",
       "\t<tr><td>T2      </td><td>37.88969</td></tr>\n",
       "\t<tr><td>T2      </td><td>38.25544</td></tr>\n",
       "\t<tr><td>T2      </td><td>38.08802</td></tr>\n",
       "</tbody>\n",
       "</table>\n"
      ],
      "text/latex": [
       "\\begin{tabular}{r|ll}\n",
       " Time & Temperature\\\\\n",
       "\\hline\n",
       "\t T1       & 35.07729\\\\\n",
       "\t T1       & 35.01392\\\\\n",
       "\t T1       & 35.67363\\\\\n",
       "\t T1       & 35.14321\\\\\n",
       "\t T2       & 37.41580\\\\\n",
       "\t T2       & 37.41355\\\\\n",
       "\t T2       & 38.92508\\\\\n",
       "\t T2       & 36.52195\\\\\n",
       "\t T1       & 36.17455\\\\\n",
       "\t T1       & 36.00115\\\\\n",
       "\t T1       & 36.49993\\\\\n",
       "\t T1       & 36.05723\\\\\n",
       "\t T2       & 37.44987\\\\\n",
       "\t T2       & 37.88969\\\\\n",
       "\t T2       & 38.25544\\\\\n",
       "\t T2       & 38.08802\\\\\n",
       "\\end{tabular}\n"
      ],
      "text/markdown": [
       "\n",
       "| Time | Temperature |\n",
       "|---|---|\n",
       "| T1       | 35.07729 |\n",
       "| T1       | 35.01392 |\n",
       "| T1       | 35.67363 |\n",
       "| T1       | 35.14321 |\n",
       "| T2       | 37.41580 |\n",
       "| T2       | 37.41355 |\n",
       "| T2       | 38.92508 |\n",
       "| T2       | 36.52195 |\n",
       "| T1       | 36.17455 |\n",
       "| T1       | 36.00115 |\n",
       "| T1       | 36.49993 |\n",
       "| T1       | 36.05723 |\n",
       "| T2       | 37.44987 |\n",
       "| T2       | 37.88969 |\n",
       "| T2       | 38.25544 |\n",
       "| T2       | 38.08802 |\n",
       "\n"
      ],
      "text/plain": [
       "   Time Temperature\n",
       "1  T1   35.07729   \n",
       "2  T1   35.01392   \n",
       "3  T1   35.67363   \n",
       "4  T1   35.14321   \n",
       "5  T2   37.41580   \n",
       "6  T2   37.41355   \n",
       "7  T2   38.92508   \n",
       "8  T2   36.52195   \n",
       "9  T1   36.17455   \n",
       "10 T1   36.00115   \n",
       "11 T1   36.49993   \n",
       "12 T1   36.05723   \n",
       "13 T2   37.44987   \n",
       "14 T2   37.88969   \n",
       "15 T2   38.25544   \n",
       "16 T2   38.08802   "
      ]
     },
     "metadata": {},
     "output_type": "display_data"
    }
   ],
   "source": [
    "select(df, starts_with(\"T\"))"
   ]
  },
  {
   "cell_type": "code",
   "execution_count": 18,
   "id": "3f3c4419",
   "metadata": {},
   "outputs": [
    {
     "data": {
      "text/html": [
       "<table>\n",
       "<thead><tr><th scope=col>Time</th><th scope=col>Temperature</th></tr></thead>\n",
       "<tbody>\n",
       "\t<tr><td>T1      </td><td>35.07729</td></tr>\n",
       "\t<tr><td>T1      </td><td>35.01392</td></tr>\n",
       "\t<tr><td>T1      </td><td>35.67363</td></tr>\n",
       "\t<tr><td>T1      </td><td>35.14321</td></tr>\n",
       "\t<tr><td>T2      </td><td>37.41580</td></tr>\n",
       "\t<tr><td>T2      </td><td>37.41355</td></tr>\n",
       "\t<tr><td>T2      </td><td>38.92508</td></tr>\n",
       "\t<tr><td>T2      </td><td>36.52195</td></tr>\n",
       "\t<tr><td>T1      </td><td>36.17455</td></tr>\n",
       "\t<tr><td>T1      </td><td>36.00115</td></tr>\n",
       "\t<tr><td>T1      </td><td>36.49993</td></tr>\n",
       "\t<tr><td>T1      </td><td>36.05723</td></tr>\n",
       "\t<tr><td>T2      </td><td>37.44987</td></tr>\n",
       "\t<tr><td>T2      </td><td>37.88969</td></tr>\n",
       "\t<tr><td>T2      </td><td>38.25544</td></tr>\n",
       "\t<tr><td>T2      </td><td>38.08802</td></tr>\n",
       "</tbody>\n",
       "</table>\n"
      ],
      "text/latex": [
       "\\begin{tabular}{r|ll}\n",
       " Time & Temperature\\\\\n",
       "\\hline\n",
       "\t T1       & 35.07729\\\\\n",
       "\t T1       & 35.01392\\\\\n",
       "\t T1       & 35.67363\\\\\n",
       "\t T1       & 35.14321\\\\\n",
       "\t T2       & 37.41580\\\\\n",
       "\t T2       & 37.41355\\\\\n",
       "\t T2       & 38.92508\\\\\n",
       "\t T2       & 36.52195\\\\\n",
       "\t T1       & 36.17455\\\\\n",
       "\t T1       & 36.00115\\\\\n",
       "\t T1       & 36.49993\\\\\n",
       "\t T1       & 36.05723\\\\\n",
       "\t T2       & 37.44987\\\\\n",
       "\t T2       & 37.88969\\\\\n",
       "\t T2       & 38.25544\\\\\n",
       "\t T2       & 38.08802\\\\\n",
       "\\end{tabular}\n"
      ],
      "text/markdown": [
       "\n",
       "| Time | Temperature |\n",
       "|---|---|\n",
       "| T1       | 35.07729 |\n",
       "| T1       | 35.01392 |\n",
       "| T1       | 35.67363 |\n",
       "| T1       | 35.14321 |\n",
       "| T2       | 37.41580 |\n",
       "| T2       | 37.41355 |\n",
       "| T2       | 38.92508 |\n",
       "| T2       | 36.52195 |\n",
       "| T1       | 36.17455 |\n",
       "| T1       | 36.00115 |\n",
       "| T1       | 36.49993 |\n",
       "| T1       | 36.05723 |\n",
       "| T2       | 37.44987 |\n",
       "| T2       | 37.88969 |\n",
       "| T2       | 38.25544 |\n",
       "| T2       | 38.08802 |\n",
       "\n"
      ],
      "text/plain": [
       "   Time Temperature\n",
       "1  T1   35.07729   \n",
       "2  T1   35.01392   \n",
       "3  T1   35.67363   \n",
       "4  T1   35.14321   \n",
       "5  T2   37.41580   \n",
       "6  T2   37.41355   \n",
       "7  T2   38.92508   \n",
       "8  T2   36.52195   \n",
       "9  T1   36.17455   \n",
       "10 T1   36.00115   \n",
       "11 T1   36.49993   \n",
       "12 T1   36.05723   \n",
       "13 T2   37.44987   \n",
       "14 T2   37.88969   \n",
       "15 T2   38.25544   \n",
       "16 T2   38.08802   "
      ]
     },
     "metadata": {},
     "output_type": "display_data"
    }
   ],
   "source": [
    "select(df, -Name, -DrugType)"
   ]
  },
  {
   "cell_type": "code",
   "execution_count": 19,
   "id": "d7a058f6",
   "metadata": {},
   "outputs": [],
   "source": [
    "# filter действует по строкам, select действует по колонками"
   ]
  },
  {
   "cell_type": "code",
   "execution_count": 20,
   "id": "d14a90d1",
   "metadata": {},
   "outputs": [
    {
     "data": {
      "text/html": [
       "<table>\n",
       "<thead><tr><th scope=col>Name</th><th scope=col>DrugType</th><th scope=col>Time</th><th scope=col>Temperature</th></tr></thead>\n",
       "<tbody>\n",
       "\t<tr><td>John    </td><td>DrugA   </td><td>T2      </td><td>37.41580</td></tr>\n",
       "\t<tr><td>Mary    </td><td>DrugA   </td><td>T2      </td><td>38.92508</td></tr>\n",
       "\t<tr><td>John    </td><td>DrugB   </td><td>T2      </td><td>37.44987</td></tr>\n",
       "\t<tr><td>Mary    </td><td>DrugB   </td><td>T2      </td><td>38.25544</td></tr>\n",
       "</tbody>\n",
       "</table>\n"
      ],
      "text/latex": [
       "\\begin{tabular}{r|llll}\n",
       " Name & DrugType & Time & Temperature\\\\\n",
       "\\hline\n",
       "\t John     & DrugA    & T2       & 37.41580\\\\\n",
       "\t Mary     & DrugA    & T2       & 38.92508\\\\\n",
       "\t John     & DrugB    & T2       & 37.44987\\\\\n",
       "\t Mary     & DrugB    & T2       & 38.25544\\\\\n",
       "\\end{tabular}\n"
      ],
      "text/markdown": [
       "\n",
       "| Name | DrugType | Time | Temperature |\n",
       "|---|---|---|---|\n",
       "| John     | DrugA    | T2       | 37.41580 |\n",
       "| Mary     | DrugA    | T2       | 38.92508 |\n",
       "| John     | DrugB    | T2       | 37.44987 |\n",
       "| Mary     | DrugB    | T2       | 38.25544 |\n",
       "\n"
      ],
      "text/plain": [
       "  Name DrugType Time Temperature\n",
       "1 John DrugA    T2   37.41580   \n",
       "2 Mary DrugA    T2   38.92508   \n",
       "3 John DrugB    T2   37.44987   \n",
       "4 Mary DrugB    T2   38.25544   "
      ]
     },
     "metadata": {},
     "output_type": "display_data"
    }
   ],
   "source": [
    "filter(df, Temperature > 37, Name %in% c(\"John\", \"Mary\"))"
   ]
  },
  {
   "cell_type": "code",
   "execution_count": 22,
   "id": "788bb960",
   "metadata": {},
   "outputs": [],
   "source": [
    "# arrange сортировка df по нескольким переменным одновременно\n",
    "# - убывание"
   ]
  },
  {
   "cell_type": "code",
   "execution_count": 23,
   "id": "de822610",
   "metadata": {},
   "outputs": [
    {
     "data": {
      "text/html": [
       "<table>\n",
       "<thead><tr><th scope=col>Name</th><th scope=col>DrugType</th><th scope=col>Time</th><th scope=col>Temperature</th></tr></thead>\n",
       "<tbody>\n",
       "\t<tr><td>Caroline</td><td>DrugB   </td><td>T2      </td><td>38.08802</td></tr>\n",
       "\t<tr><td>Caroline</td><td>DrugA   </td><td>T2      </td><td>36.52195</td></tr>\n",
       "\t<tr><td>Caroline</td><td>DrugB   </td><td>T1      </td><td>36.05723</td></tr>\n",
       "\t<tr><td>Caroline</td><td>DrugA   </td><td>T1      </td><td>35.14321</td></tr>\n",
       "\t<tr><td>John    </td><td>DrugB   </td><td>T2      </td><td>37.44987</td></tr>\n",
       "\t<tr><td>John    </td><td>DrugA   </td><td>T2      </td><td>37.41580</td></tr>\n",
       "\t<tr><td>John    </td><td>DrugB   </td><td>T1      </td><td>36.17455</td></tr>\n",
       "\t<tr><td>John    </td><td>DrugA   </td><td>T1      </td><td>35.07729</td></tr>\n",
       "\t<tr><td>Mary    </td><td>DrugA   </td><td>T2      </td><td>38.92508</td></tr>\n",
       "\t<tr><td>Mary    </td><td>DrugB   </td><td>T2      </td><td>38.25544</td></tr>\n",
       "\t<tr><td>Mary    </td><td>DrugB   </td><td>T1      </td><td>36.49993</td></tr>\n",
       "\t<tr><td>Mary    </td><td>DrugA   </td><td>T1      </td><td>35.67363</td></tr>\n",
       "\t<tr><td>Peter   </td><td>DrugB   </td><td>T2      </td><td>37.88969</td></tr>\n",
       "\t<tr><td>Peter   </td><td>DrugA   </td><td>T2      </td><td>37.41355</td></tr>\n",
       "\t<tr><td>Peter   </td><td>DrugB   </td><td>T1      </td><td>36.00115</td></tr>\n",
       "\t<tr><td>Peter   </td><td>DrugA   </td><td>T1      </td><td>35.01392</td></tr>\n",
       "</tbody>\n",
       "</table>\n"
      ],
      "text/latex": [
       "\\begin{tabular}{r|llll}\n",
       " Name & DrugType & Time & Temperature\\\\\n",
       "\\hline\n",
       "\t Caroline & DrugB    & T2       & 38.08802\\\\\n",
       "\t Caroline & DrugA    & T2       & 36.52195\\\\\n",
       "\t Caroline & DrugB    & T1       & 36.05723\\\\\n",
       "\t Caroline & DrugA    & T1       & 35.14321\\\\\n",
       "\t John     & DrugB    & T2       & 37.44987\\\\\n",
       "\t John     & DrugA    & T2       & 37.41580\\\\\n",
       "\t John     & DrugB    & T1       & 36.17455\\\\\n",
       "\t John     & DrugA    & T1       & 35.07729\\\\\n",
       "\t Mary     & DrugA    & T2       & 38.92508\\\\\n",
       "\t Mary     & DrugB    & T2       & 38.25544\\\\\n",
       "\t Mary     & DrugB    & T1       & 36.49993\\\\\n",
       "\t Mary     & DrugA    & T1       & 35.67363\\\\\n",
       "\t Peter    & DrugB    & T2       & 37.88969\\\\\n",
       "\t Peter    & DrugA    & T2       & 37.41355\\\\\n",
       "\t Peter    & DrugB    & T1       & 36.00115\\\\\n",
       "\t Peter    & DrugA    & T1       & 35.01392\\\\\n",
       "\\end{tabular}\n"
      ],
      "text/markdown": [
       "\n",
       "| Name | DrugType | Time | Temperature |\n",
       "|---|---|---|---|\n",
       "| Caroline | DrugB    | T2       | 38.08802 |\n",
       "| Caroline | DrugA    | T2       | 36.52195 |\n",
       "| Caroline | DrugB    | T1       | 36.05723 |\n",
       "| Caroline | DrugA    | T1       | 35.14321 |\n",
       "| John     | DrugB    | T2       | 37.44987 |\n",
       "| John     | DrugA    | T2       | 37.41580 |\n",
       "| John     | DrugB    | T1       | 36.17455 |\n",
       "| John     | DrugA    | T1       | 35.07729 |\n",
       "| Mary     | DrugA    | T2       | 38.92508 |\n",
       "| Mary     | DrugB    | T2       | 38.25544 |\n",
       "| Mary     | DrugB    | T1       | 36.49993 |\n",
       "| Mary     | DrugA    | T1       | 35.67363 |\n",
       "| Peter    | DrugB    | T2       | 37.88969 |\n",
       "| Peter    | DrugA    | T2       | 37.41355 |\n",
       "| Peter    | DrugB    | T1       | 36.00115 |\n",
       "| Peter    | DrugA    | T1       | 35.01392 |\n",
       "\n"
      ],
      "text/plain": [
       "   Name     DrugType Time Temperature\n",
       "1  Caroline DrugB    T2   38.08802   \n",
       "2  Caroline DrugA    T2   36.52195   \n",
       "3  Caroline DrugB    T1   36.05723   \n",
       "4  Caroline DrugA    T1   35.14321   \n",
       "5  John     DrugB    T2   37.44987   \n",
       "6  John     DrugA    T2   37.41580   \n",
       "7  John     DrugB    T1   36.17455   \n",
       "8  John     DrugA    T1   35.07729   \n",
       "9  Mary     DrugA    T2   38.92508   \n",
       "10 Mary     DrugB    T2   38.25544   \n",
       "11 Mary     DrugB    T1   36.49993   \n",
       "12 Mary     DrugA    T1   35.67363   \n",
       "13 Peter    DrugB    T2   37.88969   \n",
       "14 Peter    DrugA    T2   37.41355   \n",
       "15 Peter    DrugB    T1   36.00115   \n",
       "16 Peter    DrugA    T1   35.01392   "
      ]
     },
     "metadata": {},
     "output_type": "display_data"
    }
   ],
   "source": [
    "arrange(df, Name, -Temperature)"
   ]
  },
  {
   "cell_type": "code",
   "execution_count": 24,
   "id": "0c628db0",
   "metadata": {},
   "outputs": [
    {
     "data": {
      "text/html": [
       "<table>\n",
       "<thead><tr><th scope=col>Name</th><th scope=col>DrugType</th><th scope=col>Time</th><th scope=col>Temperature</th></tr></thead>\n",
       "<tbody>\n",
       "\t<tr><td>Mary    </td><td>DrugA   </td><td>T2      </td><td>38.92508</td></tr>\n",
       "\t<tr><td>Mary    </td><td>DrugB   </td><td>T2      </td><td>38.25544</td></tr>\n",
       "\t<tr><td>Caroline</td><td>DrugB   </td><td>T2      </td><td>38.08802</td></tr>\n",
       "\t<tr><td>Peter   </td><td>DrugB   </td><td>T2      </td><td>37.88969</td></tr>\n",
       "\t<tr><td>John    </td><td>DrugB   </td><td>T2      </td><td>37.44987</td></tr>\n",
       "\t<tr><td>John    </td><td>DrugA   </td><td>T2      </td><td>37.41580</td></tr>\n",
       "\t<tr><td>Peter   </td><td>DrugA   </td><td>T2      </td><td>37.41355</td></tr>\n",
       "\t<tr><td>Caroline</td><td>DrugA   </td><td>T2      </td><td>36.52195</td></tr>\n",
       "\t<tr><td>Mary    </td><td>DrugB   </td><td>T1      </td><td>36.49993</td></tr>\n",
       "\t<tr><td>John    </td><td>DrugB   </td><td>T1      </td><td>36.17455</td></tr>\n",
       "\t<tr><td>Caroline</td><td>DrugB   </td><td>T1      </td><td>36.05723</td></tr>\n",
       "\t<tr><td>Peter   </td><td>DrugB   </td><td>T1      </td><td>36.00115</td></tr>\n",
       "\t<tr><td>Mary    </td><td>DrugA   </td><td>T1      </td><td>35.67363</td></tr>\n",
       "\t<tr><td>Caroline</td><td>DrugA   </td><td>T1      </td><td>35.14321</td></tr>\n",
       "\t<tr><td>John    </td><td>DrugA   </td><td>T1      </td><td>35.07729</td></tr>\n",
       "\t<tr><td>Peter   </td><td>DrugA   </td><td>T1      </td><td>35.01392</td></tr>\n",
       "</tbody>\n",
       "</table>\n"
      ],
      "text/latex": [
       "\\begin{tabular}{r|llll}\n",
       " Name & DrugType & Time & Temperature\\\\\n",
       "\\hline\n",
       "\t Mary     & DrugA    & T2       & 38.92508\\\\\n",
       "\t Mary     & DrugB    & T2       & 38.25544\\\\\n",
       "\t Caroline & DrugB    & T2       & 38.08802\\\\\n",
       "\t Peter    & DrugB    & T2       & 37.88969\\\\\n",
       "\t John     & DrugB    & T2       & 37.44987\\\\\n",
       "\t John     & DrugA    & T2       & 37.41580\\\\\n",
       "\t Peter    & DrugA    & T2       & 37.41355\\\\\n",
       "\t Caroline & DrugA    & T2       & 36.52195\\\\\n",
       "\t Mary     & DrugB    & T1       & 36.49993\\\\\n",
       "\t John     & DrugB    & T1       & 36.17455\\\\\n",
       "\t Caroline & DrugB    & T1       & 36.05723\\\\\n",
       "\t Peter    & DrugB    & T1       & 36.00115\\\\\n",
       "\t Mary     & DrugA    & T1       & 35.67363\\\\\n",
       "\t Caroline & DrugA    & T1       & 35.14321\\\\\n",
       "\t John     & DrugA    & T1       & 35.07729\\\\\n",
       "\t Peter    & DrugA    & T1       & 35.01392\\\\\n",
       "\\end{tabular}\n"
      ],
      "text/markdown": [
       "\n",
       "| Name | DrugType | Time | Temperature |\n",
       "|---|---|---|---|\n",
       "| Mary     | DrugA    | T2       | 38.92508 |\n",
       "| Mary     | DrugB    | T2       | 38.25544 |\n",
       "| Caroline | DrugB    | T2       | 38.08802 |\n",
       "| Peter    | DrugB    | T2       | 37.88969 |\n",
       "| John     | DrugB    | T2       | 37.44987 |\n",
       "| John     | DrugA    | T2       | 37.41580 |\n",
       "| Peter    | DrugA    | T2       | 37.41355 |\n",
       "| Caroline | DrugA    | T2       | 36.52195 |\n",
       "| Mary     | DrugB    | T1       | 36.49993 |\n",
       "| John     | DrugB    | T1       | 36.17455 |\n",
       "| Caroline | DrugB    | T1       | 36.05723 |\n",
       "| Peter    | DrugB    | T1       | 36.00115 |\n",
       "| Mary     | DrugA    | T1       | 35.67363 |\n",
       "| Caroline | DrugA    | T1       | 35.14321 |\n",
       "| John     | DrugA    | T1       | 35.07729 |\n",
       "| Peter    | DrugA    | T1       | 35.01392 |\n",
       "\n"
      ],
      "text/plain": [
       "   Name     DrugType Time Temperature\n",
       "1  Mary     DrugA    T2   38.92508   \n",
       "2  Mary     DrugB    T2   38.25544   \n",
       "3  Caroline DrugB    T2   38.08802   \n",
       "4  Peter    DrugB    T2   37.88969   \n",
       "5  John     DrugB    T2   37.44987   \n",
       "6  John     DrugA    T2   37.41580   \n",
       "7  Peter    DrugA    T2   37.41355   \n",
       "8  Caroline DrugA    T2   36.52195   \n",
       "9  Mary     DrugB    T1   36.49993   \n",
       "10 John     DrugB    T1   36.17455   \n",
       "11 Caroline DrugB    T1   36.05723   \n",
       "12 Peter    DrugB    T1   36.00115   \n",
       "13 Mary     DrugA    T1   35.67363   \n",
       "14 Caroline DrugA    T1   35.14321   \n",
       "15 John     DrugA    T1   35.07729   \n",
       "16 Peter    DrugA    T1   35.01392   "
      ]
     },
     "metadata": {},
     "output_type": "display_data"
    }
   ],
   "source": [
    "arrange(df, -Temperature)"
   ]
  },
  {
   "cell_type": "code",
   "execution_count": 25,
   "id": "3d813a3f",
   "metadata": {},
   "outputs": [],
   "source": [
    "# mutate - изменение переменной"
   ]
  },
  {
   "cell_type": "code",
   "execution_count": 26,
   "id": "d51885da",
   "metadata": {},
   "outputs": [
    {
     "data": {
      "text/html": [
       "<table>\n",
       "<thead><tr><th scope=col>Name</th><th scope=col>DrugType</th><th scope=col>Time</th><th scope=col>Temperature</th></tr></thead>\n",
       "<tbody>\n",
       "\t<tr><td>John    </td><td>A       </td><td>T1      </td><td>35.07729</td></tr>\n",
       "\t<tr><td>Peter   </td><td>A       </td><td>T1      </td><td>35.01392</td></tr>\n",
       "\t<tr><td>Mary    </td><td>A       </td><td>T1      </td><td>35.67363</td></tr>\n",
       "\t<tr><td>Caroline</td><td>A       </td><td>T1      </td><td>35.14321</td></tr>\n",
       "\t<tr><td>John    </td><td>A       </td><td>T2      </td><td>37.41580</td></tr>\n",
       "\t<tr><td>Peter   </td><td>A       </td><td>T2      </td><td>37.41355</td></tr>\n",
       "\t<tr><td>Mary    </td><td>A       </td><td>T2      </td><td>38.92508</td></tr>\n",
       "\t<tr><td>Caroline</td><td>A       </td><td>T2      </td><td>36.52195</td></tr>\n",
       "\t<tr><td>John    </td><td>B       </td><td>T1      </td><td>36.17455</td></tr>\n",
       "\t<tr><td>Peter   </td><td>B       </td><td>T1      </td><td>36.00115</td></tr>\n",
       "\t<tr><td>Mary    </td><td>B       </td><td>T1      </td><td>36.49993</td></tr>\n",
       "\t<tr><td>Caroline</td><td>B       </td><td>T1      </td><td>36.05723</td></tr>\n",
       "\t<tr><td>John    </td><td>B       </td><td>T2      </td><td>37.44987</td></tr>\n",
       "\t<tr><td>Peter   </td><td>B       </td><td>T2      </td><td>37.88969</td></tr>\n",
       "\t<tr><td>Mary    </td><td>B       </td><td>T2      </td><td>38.25544</td></tr>\n",
       "\t<tr><td>Caroline</td><td>B       </td><td>T2      </td><td>38.08802</td></tr>\n",
       "</tbody>\n",
       "</table>\n"
      ],
      "text/latex": [
       "\\begin{tabular}{r|llll}\n",
       " Name & DrugType & Time & Temperature\\\\\n",
       "\\hline\n",
       "\t John     & A        & T1       & 35.07729\\\\\n",
       "\t Peter    & A        & T1       & 35.01392\\\\\n",
       "\t Mary     & A        & T1       & 35.67363\\\\\n",
       "\t Caroline & A        & T1       & 35.14321\\\\\n",
       "\t John     & A        & T2       & 37.41580\\\\\n",
       "\t Peter    & A        & T2       & 37.41355\\\\\n",
       "\t Mary     & A        & T2       & 38.92508\\\\\n",
       "\t Caroline & A        & T2       & 36.52195\\\\\n",
       "\t John     & B        & T1       & 36.17455\\\\\n",
       "\t Peter    & B        & T1       & 36.00115\\\\\n",
       "\t Mary     & B        & T1       & 36.49993\\\\\n",
       "\t Caroline & B        & T1       & 36.05723\\\\\n",
       "\t John     & B        & T2       & 37.44987\\\\\n",
       "\t Peter    & B        & T2       & 37.88969\\\\\n",
       "\t Mary     & B        & T2       & 38.25544\\\\\n",
       "\t Caroline & B        & T2       & 38.08802\\\\\n",
       "\\end{tabular}\n"
      ],
      "text/markdown": [
       "\n",
       "| Name | DrugType | Time | Temperature |\n",
       "|---|---|---|---|\n",
       "| John     | A        | T1       | 35.07729 |\n",
       "| Peter    | A        | T1       | 35.01392 |\n",
       "| Mary     | A        | T1       | 35.67363 |\n",
       "| Caroline | A        | T1       | 35.14321 |\n",
       "| John     | A        | T2       | 37.41580 |\n",
       "| Peter    | A        | T2       | 37.41355 |\n",
       "| Mary     | A        | T2       | 38.92508 |\n",
       "| Caroline | A        | T2       | 36.52195 |\n",
       "| John     | B        | T1       | 36.17455 |\n",
       "| Peter    | B        | T1       | 36.00115 |\n",
       "| Mary     | B        | T1       | 36.49993 |\n",
       "| Caroline | B        | T1       | 36.05723 |\n",
       "| John     | B        | T2       | 37.44987 |\n",
       "| Peter    | B        | T2       | 37.88969 |\n",
       "| Mary     | B        | T2       | 38.25544 |\n",
       "| Caroline | B        | T2       | 38.08802 |\n",
       "\n"
      ],
      "text/plain": [
       "   Name     DrugType Time Temperature\n",
       "1  John     A        T1   35.07729   \n",
       "2  Peter    A        T1   35.01392   \n",
       "3  Mary     A        T1   35.67363   \n",
       "4  Caroline A        T1   35.14321   \n",
       "5  John     A        T2   37.41580   \n",
       "6  Peter    A        T2   37.41355   \n",
       "7  Mary     A        T2   38.92508   \n",
       "8  Caroline A        T2   36.52195   \n",
       "9  John     B        T1   36.17455   \n",
       "10 Peter    B        T1   36.00115   \n",
       "11 Mary     B        T1   36.49993   \n",
       "12 Caroline B        T1   36.05723   \n",
       "13 John     B        T2   37.44987   \n",
       "14 Peter    B        T2   37.88969   \n",
       "15 Mary     B        T2   38.25544   \n",
       "16 Caroline B        T2   38.08802   "
      ]
     },
     "metadata": {},
     "output_type": "display_data"
    }
   ],
   "source": [
    "mutate(df, DrugType = gsub(\"Drug\", \"\", DrugType))"
   ]
  },
  {
   "cell_type": "code",
   "execution_count": 27,
   "id": "476e9008",
   "metadata": {},
   "outputs": [],
   "source": [
    "# связка summarize and group by"
   ]
  },
  {
   "cell_type": "code",
   "execution_count": 28,
   "id": "2a35b325",
   "metadata": {},
   "outputs": [
    {
     "data": {
      "text/html": [
       "<table>\n",
       "<thead><tr><th scope=col>Time</th><th scope=col>AvgTemp</th></tr></thead>\n",
       "<tbody>\n",
       "\t<tr><td>T1      </td><td>35.70511</td></tr>\n",
       "\t<tr><td>T2      </td><td>37.74493</td></tr>\n",
       "</tbody>\n",
       "</table>\n"
      ],
      "text/latex": [
       "\\begin{tabular}{r|ll}\n",
       " Time & AvgTemp\\\\\n",
       "\\hline\n",
       "\t T1       & 35.70511\\\\\n",
       "\t T2       & 37.74493\\\\\n",
       "\\end{tabular}\n"
      ],
      "text/markdown": [
       "\n",
       "| Time | AvgTemp |\n",
       "|---|---|\n",
       "| T1       | 35.70511 |\n",
       "| T2       | 37.74493 |\n",
       "\n"
      ],
      "text/plain": [
       "  Time AvgTemp \n",
       "1 T1   35.70511\n",
       "2 T2   37.74493"
      ]
     },
     "metadata": {},
     "output_type": "display_data"
    }
   ],
   "source": [
    "summarize(group_by(df, Time),\n",
    "         AvgTemp = mean(Temperature))"
   ]
  },
  {
   "cell_type": "code",
   "execution_count": 29,
   "id": "9e9f0fa6",
   "metadata": {},
   "outputs": [
    {
     "data": {
      "text/html": [
       "<table>\n",
       "<thead><tr><th scope=col>Name</th><th scope=col>DrugType</th><th scope=col>Time</th><th scope=col>Temperature</th></tr></thead>\n",
       "<tbody>\n",
       "\t<tr><td>John    </td><td>DrugA   </td><td>T1      </td><td>35.07729</td></tr>\n",
       "\t<tr><td>Peter   </td><td>DrugA   </td><td>T1      </td><td>35.01392</td></tr>\n",
       "\t<tr><td>Mary    </td><td>DrugA   </td><td>T1      </td><td>35.67363</td></tr>\n",
       "\t<tr><td>Caroline</td><td>DrugA   </td><td>T1      </td><td>35.14321</td></tr>\n",
       "\t<tr><td>John    </td><td>DrugA   </td><td>T2      </td><td>37.41580</td></tr>\n",
       "\t<tr><td>Peter   </td><td>DrugA   </td><td>T2      </td><td>37.41355</td></tr>\n",
       "\t<tr><td>Mary    </td><td>DrugA   </td><td>T2      </td><td>38.92508</td></tr>\n",
       "\t<tr><td>Caroline</td><td>DrugA   </td><td>T2      </td><td>36.52195</td></tr>\n",
       "\t<tr><td>John    </td><td>DrugB   </td><td>T1      </td><td>36.17455</td></tr>\n",
       "\t<tr><td>Peter   </td><td>DrugB   </td><td>T1      </td><td>36.00115</td></tr>\n",
       "\t<tr><td>Mary    </td><td>DrugB   </td><td>T1      </td><td>36.49993</td></tr>\n",
       "\t<tr><td>Caroline</td><td>DrugB   </td><td>T1      </td><td>36.05723</td></tr>\n",
       "\t<tr><td>John    </td><td>DrugB   </td><td>T2      </td><td>37.44987</td></tr>\n",
       "\t<tr><td>Peter   </td><td>DrugB   </td><td>T2      </td><td>37.88969</td></tr>\n",
       "\t<tr><td>Mary    </td><td>DrugB   </td><td>T2      </td><td>38.25544</td></tr>\n",
       "\t<tr><td>Caroline</td><td>DrugB   </td><td>T2      </td><td>38.08802</td></tr>\n",
       "</tbody>\n",
       "</table>\n"
      ],
      "text/latex": [
       "\\begin{tabular}{r|llll}\n",
       " Name & DrugType & Time & Temperature\\\\\n",
       "\\hline\n",
       "\t John     & DrugA    & T1       & 35.07729\\\\\n",
       "\t Peter    & DrugA    & T1       & 35.01392\\\\\n",
       "\t Mary     & DrugA    & T1       & 35.67363\\\\\n",
       "\t Caroline & DrugA    & T1       & 35.14321\\\\\n",
       "\t John     & DrugA    & T2       & 37.41580\\\\\n",
       "\t Peter    & DrugA    & T2       & 37.41355\\\\\n",
       "\t Mary     & DrugA    & T2       & 38.92508\\\\\n",
       "\t Caroline & DrugA    & T2       & 36.52195\\\\\n",
       "\t John     & DrugB    & T1       & 36.17455\\\\\n",
       "\t Peter    & DrugB    & T1       & 36.00115\\\\\n",
       "\t Mary     & DrugB    & T1       & 36.49993\\\\\n",
       "\t Caroline & DrugB    & T1       & 36.05723\\\\\n",
       "\t John     & DrugB    & T2       & 37.44987\\\\\n",
       "\t Peter    & DrugB    & T2       & 37.88969\\\\\n",
       "\t Mary     & DrugB    & T2       & 38.25544\\\\\n",
       "\t Caroline & DrugB    & T2       & 38.08802\\\\\n",
       "\\end{tabular}\n"
      ],
      "text/markdown": [
       "\n",
       "| Name | DrugType | Time | Temperature |\n",
       "|---|---|---|---|\n",
       "| John     | DrugA    | T1       | 35.07729 |\n",
       "| Peter    | DrugA    | T1       | 35.01392 |\n",
       "| Mary     | DrugA    | T1       | 35.67363 |\n",
       "| Caroline | DrugA    | T1       | 35.14321 |\n",
       "| John     | DrugA    | T2       | 37.41580 |\n",
       "| Peter    | DrugA    | T2       | 37.41355 |\n",
       "| Mary     | DrugA    | T2       | 38.92508 |\n",
       "| Caroline | DrugA    | T2       | 36.52195 |\n",
       "| John     | DrugB    | T1       | 36.17455 |\n",
       "| Peter    | DrugB    | T1       | 36.00115 |\n",
       "| Mary     | DrugB    | T1       | 36.49993 |\n",
       "| Caroline | DrugB    | T1       | 36.05723 |\n",
       "| John     | DrugB    | T2       | 37.44987 |\n",
       "| Peter    | DrugB    | T2       | 37.88969 |\n",
       "| Mary     | DrugB    | T2       | 38.25544 |\n",
       "| Caroline | DrugB    | T2       | 38.08802 |\n",
       "\n"
      ],
      "text/plain": [
       "   Name     DrugType Time Temperature\n",
       "1  John     DrugA    T1   35.07729   \n",
       "2  Peter    DrugA    T1   35.01392   \n",
       "3  Mary     DrugA    T1   35.67363   \n",
       "4  Caroline DrugA    T1   35.14321   \n",
       "5  John     DrugA    T2   37.41580   \n",
       "6  Peter    DrugA    T2   37.41355   \n",
       "7  Mary     DrugA    T2   38.92508   \n",
       "8  Caroline DrugA    T2   36.52195   \n",
       "9  John     DrugB    T1   36.17455   \n",
       "10 Peter    DrugB    T1   36.00115   \n",
       "11 Mary     DrugB    T1   36.49993   \n",
       "12 Caroline DrugB    T1   36.05723   \n",
       "13 John     DrugB    T2   37.44987   \n",
       "14 Peter    DrugB    T2   37.88969   \n",
       "15 Mary     DrugB    T2   38.25544   \n",
       "16 Caroline DrugB    T2   38.08802   "
      ]
     },
     "metadata": {},
     "output_type": "display_data"
    }
   ],
   "source": [
    "group_by(df, Time)"
   ]
  },
  {
   "cell_type": "code",
   "execution_count": 31,
   "id": "c77acc25",
   "metadata": {},
   "outputs": [],
   "source": [
    "test_df <- data.frame(first_name = c(\"Anton\", \"Igor\"),\n",
    "                      last_name = c(\"Antonov\", \"Lavrentev\"),\n",
    "                      email_address = c(\"aaa.antonov@\", \"sdfasd@\"),\n",
    "                      postal_address = c(\"some9988\", \"sdkfjslfj989\"),\n",
    "                      date_added = c(\"2021-04-01\", \"2021-04-02\"))"
   ]
  },
  {
   "cell_type": "code",
   "execution_count": 34,
   "id": "7b77c548",
   "metadata": {},
   "outputs": [
    {
     "data": {
      "text/html": [
       "<table>\n",
       "<thead><tr><th scope=col>first_name</th><th scope=col>last_name</th><th scope=col>email_address</th><th scope=col>postal_address</th><th scope=col>date_added</th></tr></thead>\n",
       "<tbody>\n",
       "\t<tr><td>Anton       </td><td>Antonov     </td><td>aaa.antonov@</td><td>some9988    </td><td>2021-04-01  </td></tr>\n",
       "\t<tr><td>Igor        </td><td>Lavrentev   </td><td>sdfasd@     </td><td>sdkfjslfj989</td><td>2021-04-02  </td></tr>\n",
       "</tbody>\n",
       "</table>\n"
      ],
      "text/latex": [
       "\\begin{tabular}{r|lllll}\n",
       " first\\_name & last\\_name & email\\_address & postal\\_address & date\\_added\\\\\n",
       "\\hline\n",
       "\t Anton        & Antonov      & aaa.antonov@ & some9988     & 2021-04-01  \\\\\n",
       "\t Igor         & Lavrentev    & sdfasd@      & sdkfjslfj989 & 2021-04-02  \\\\\n",
       "\\end{tabular}\n"
      ],
      "text/markdown": [
       "\n",
       "| first_name | last_name | email_address | postal_address | date_added |\n",
       "|---|---|---|---|---|\n",
       "| Anton        | Antonov      | aaa.antonov@ | some9988     | 2021-04-01   |\n",
       "| Igor         | Lavrentev    | sdfasd@      | sdkfjslfj989 | 2021-04-02   |\n",
       "\n"
      ],
      "text/plain": [
       "  first_name last_name email_address postal_address date_added\n",
       "1 Anton      Antonov   aaa.antonov@  some9988       2021-04-01\n",
       "2 Igor       Lavrentev sdfasd@       sdkfjslfj989   2021-04-02"
      ]
     },
     "metadata": {},
     "output_type": "display_data"
    }
   ],
   "source": [
    "test_df"
   ]
  },
  {
   "cell_type": "code",
   "execution_count": 35,
   "id": "8eb8a950",
   "metadata": {},
   "outputs": [
    {
     "data": {
      "text/html": [
       "<table>\n",
       "<thead><tr><th scope=col>first_name</th><th scope=col>last_name</th><th scope=col>date_added</th></tr></thead>\n",
       "<tbody>\n",
       "\t<tr><td>Anton     </td><td>Antonov   </td><td>2021-04-01</td></tr>\n",
       "\t<tr><td>Igor      </td><td>Lavrentev </td><td>2021-04-02</td></tr>\n",
       "</tbody>\n",
       "</table>\n"
      ],
      "text/latex": [
       "\\begin{tabular}{r|lll}\n",
       " first\\_name & last\\_name & date\\_added\\\\\n",
       "\\hline\n",
       "\t Anton      & Antonov    & 2021-04-01\\\\\n",
       "\t Igor       & Lavrentev  & 2021-04-02\\\\\n",
       "\\end{tabular}\n"
      ],
      "text/markdown": [
       "\n",
       "| first_name | last_name | date_added |\n",
       "|---|---|---|\n",
       "| Anton      | Antonov    | 2021-04-01 |\n",
       "| Igor       | Lavrentev  | 2021-04-02 |\n",
       "\n"
      ],
      "text/plain": [
       "  first_name last_name date_added\n",
       "1 Anton      Antonov   2021-04-01\n",
       "2 Igor       Lavrentev 2021-04-02"
      ]
     },
     "metadata": {},
     "output_type": "display_data"
    }
   ],
   "source": [
    "select(test_df, contains(\"name\"), date_added)"
   ]
  },
  {
   "cell_type": "code",
   "execution_count": 37,
   "id": "b48b00b8",
   "metadata": {},
   "outputs": [
    {
     "data": {
      "text/html": [
       "<table>\n",
       "<thead><tr><th scope=col>first_name</th><th scope=col>last_name</th><th scope=col>date_added</th></tr></thead>\n",
       "<tbody>\n",
       "\t<tr><td>Anton     </td><td>Antonov   </td><td>2021-04-01</td></tr>\n",
       "\t<tr><td>Igor      </td><td>Lavrentev </td><td>2021-04-02</td></tr>\n",
       "</tbody>\n",
       "</table>\n"
      ],
      "text/latex": [
       "\\begin{tabular}{r|lll}\n",
       " first\\_name & last\\_name & date\\_added\\\\\n",
       "\\hline\n",
       "\t Anton      & Antonov    & 2021-04-01\\\\\n",
       "\t Igor       & Lavrentev  & 2021-04-02\\\\\n",
       "\\end{tabular}\n"
      ],
      "text/markdown": [
       "\n",
       "| first_name | last_name | date_added |\n",
       "|---|---|---|\n",
       "| Anton      | Antonov    | 2021-04-01 |\n",
       "| Igor       | Lavrentev  | 2021-04-02 |\n",
       "\n"
      ],
      "text/plain": [
       "  first_name last_name date_added\n",
       "1 Anton      Antonov   2021-04-01\n",
       "2 Igor       Lavrentev 2021-04-02"
      ]
     },
     "metadata": {},
     "output_type": "display_data"
    }
   ],
   "source": [
    "select(test_df, -3:-4)"
   ]
  },
  {
   "cell_type": "code",
   "execution_count": 38,
   "id": "75b6db08",
   "metadata": {},
   "outputs": [
    {
     "data": {
      "text/html": [
       "<table>\n",
       "<thead><tr><th scope=col>first_name</th><th scope=col>last_name</th></tr></thead>\n",
       "<tbody>\n",
       "\t<tr><td>Anton    </td><td>Antonov  </td></tr>\n",
       "\t<tr><td>Igor     </td><td>Lavrentev</td></tr>\n",
       "</tbody>\n",
       "</table>\n"
      ],
      "text/latex": [
       "\\begin{tabular}{r|ll}\n",
       " first\\_name & last\\_name\\\\\n",
       "\\hline\n",
       "\t Anton     & Antonov  \\\\\n",
       "\t Igor      & Lavrentev\\\\\n",
       "\\end{tabular}\n"
      ],
      "text/markdown": [
       "\n",
       "| first_name | last_name |\n",
       "|---|---|\n",
       "| Anton     | Antonov   |\n",
       "| Igor      | Lavrentev |\n",
       "\n"
      ],
      "text/plain": [
       "  first_name last_name\n",
       "1 Anton      Antonov  \n",
       "2 Igor       Lavrentev"
      ]
     },
     "metadata": {},
     "output_type": "display_data"
    }
   ],
   "source": [
    "select(test_df, -contains(\"_add\"))"
   ]
  },
  {
   "cell_type": "code",
   "execution_count": 39,
   "id": "b36b5fce",
   "metadata": {},
   "outputs": [
    {
     "data": {
      "text/html": [
       "<table>\n",
       "<thead><tr><th scope=col>first_name</th><th scope=col>last_name</th><th scope=col>date_added</th></tr></thead>\n",
       "<tbody>\n",
       "\t<tr><td>Anton     </td><td>Antonov   </td><td>2021-04-01</td></tr>\n",
       "\t<tr><td>Igor      </td><td>Lavrentev </td><td>2021-04-02</td></tr>\n",
       "</tbody>\n",
       "</table>\n"
      ],
      "text/latex": [
       "\\begin{tabular}{r|lll}\n",
       " first\\_name & last\\_name & date\\_added\\\\\n",
       "\\hline\n",
       "\t Anton      & Antonov    & 2021-04-01\\\\\n",
       "\t Igor       & Lavrentev  & 2021-04-02\\\\\n",
       "\\end{tabular}\n"
      ],
      "text/markdown": [
       "\n",
       "| first_name | last_name | date_added |\n",
       "|---|---|---|\n",
       "| Anton      | Antonov    | 2021-04-01 |\n",
       "| Igor       | Lavrentev  | 2021-04-02 |\n",
       "\n"
      ],
      "text/plain": [
       "  first_name last_name date_added\n",
       "1 Anton      Antonov   2021-04-01\n",
       "2 Igor       Lavrentev 2021-04-02"
      ]
     },
     "metadata": {},
     "output_type": "display_data"
    }
   ],
   "source": [
    "test_df %>% select(c(1:2, 5))"
   ]
  },
  {
   "cell_type": "code",
   "execution_count": 40,
   "id": "0b1d0fc9",
   "metadata": {},
   "outputs": [
    {
     "data": {
      "text/html": [
       "<table>\n",
       "<thead><tr><th scope=col>first_name</th><th scope=col>last_name</th><th scope=col>date_added</th></tr></thead>\n",
       "<tbody>\n",
       "\t<tr><td>Anton     </td><td>Antonov   </td><td>2021-04-01</td></tr>\n",
       "\t<tr><td>Igor      </td><td>Lavrentev </td><td>2021-04-02</td></tr>\n",
       "</tbody>\n",
       "</table>\n"
      ],
      "text/latex": [
       "\\begin{tabular}{r|lll}\n",
       " first\\_name & last\\_name & date\\_added\\\\\n",
       "\\hline\n",
       "\t Anton      & Antonov    & 2021-04-01\\\\\n",
       "\t Igor       & Lavrentev  & 2021-04-02\\\\\n",
       "\\end{tabular}\n"
      ],
      "text/markdown": [
       "\n",
       "| first_name | last_name | date_added |\n",
       "|---|---|---|\n",
       "| Anton      | Antonov    | 2021-04-01 |\n",
       "| Igor       | Lavrentev  | 2021-04-02 |\n",
       "\n"
      ],
      "text/plain": [
       "  first_name last_name date_added\n",
       "1 Anton      Antonov   2021-04-01\n",
       "2 Igor       Lavrentev 2021-04-02"
      ]
     },
     "metadata": {},
     "output_type": "display_data"
    }
   ],
   "source": [
    "select(test_df, first_name, last_name, date_added)"
   ]
  },
  {
   "cell_type": "code",
   "execution_count": 41,
   "id": "b88c8146",
   "metadata": {},
   "outputs": [
    {
     "data": {
      "text/html": [
       "<table>\n",
       "<thead><tr><th scope=col>first_name</th><th scope=col>last_name</th><th scope=col>date_added</th></tr></thead>\n",
       "<tbody>\n",
       "\t<tr><td>Anton     </td><td>Antonov   </td><td>2021-04-01</td></tr>\n",
       "\t<tr><td>Igor      </td><td>Lavrentev </td><td>2021-04-02</td></tr>\n",
       "</tbody>\n",
       "</table>\n"
      ],
      "text/latex": [
       "\\begin{tabular}{r|lll}\n",
       " first\\_name & last\\_name & date\\_added\\\\\n",
       "\\hline\n",
       "\t Anton      & Antonov    & 2021-04-01\\\\\n",
       "\t Igor       & Lavrentev  & 2021-04-02\\\\\n",
       "\\end{tabular}\n"
      ],
      "text/markdown": [
       "\n",
       "| first_name | last_name | date_added |\n",
       "|---|---|---|\n",
       "| Anton      | Antonov    | 2021-04-01 |\n",
       "| Igor       | Lavrentev  | 2021-04-02 |\n",
       "\n"
      ],
      "text/plain": [
       "  first_name last_name date_added\n",
       "1 Anton      Antonov   2021-04-01\n",
       "2 Igor       Lavrentev 2021-04-02"
      ]
     },
     "metadata": {},
     "output_type": "display_data"
    }
   ],
   "source": [
    "select(test_df, matches(\"_.{4,5}$\"))"
   ]
  },
  {
   "cell_type": "code",
   "execution_count": 1,
   "id": "9cb3db95",
   "metadata": {},
   "outputs": [],
   "source": [
    "# конвейеры: оператор %>%"
   ]
  },
  {
   "cell_type": "code",
   "execution_count": 13,
   "id": "59efd81c",
   "metadata": {},
   "outputs": [],
   "source": [
    "df <- data.frame(type = c(1,1,2,2,3,3), value = c(5, 10, 50, 100, 7,7))"
   ]
  },
  {
   "cell_type": "code",
   "execution_count": 3,
   "id": "67f89b55",
   "metadata": {},
   "outputs": [
    {
     "data": {
      "text/html": [
       "<table>\n",
       "<thead><tr><th scope=col>type</th><th scope=col>value</th></tr></thead>\n",
       "<tbody>\n",
       "\t<tr><td>1  </td><td>  5</td></tr>\n",
       "\t<tr><td>1  </td><td> 10</td></tr>\n",
       "\t<tr><td>2  </td><td> 50</td></tr>\n",
       "\t<tr><td>2  </td><td>100</td></tr>\n",
       "\t<tr><td>3  </td><td>  7</td></tr>\n",
       "\t<tr><td>3  </td><td>  7</td></tr>\n",
       "</tbody>\n",
       "</table>\n"
      ],
      "text/latex": [
       "\\begin{tabular}{r|ll}\n",
       " type & value\\\\\n",
       "\\hline\n",
       "\t 1   &   5\\\\\n",
       "\t 1   &  10\\\\\n",
       "\t 2   &  50\\\\\n",
       "\t 2   & 100\\\\\n",
       "\t 3   &   7\\\\\n",
       "\t 3   &   7\\\\\n",
       "\\end{tabular}\n"
      ],
      "text/markdown": [
       "\n",
       "| type | value |\n",
       "|---|---|\n",
       "| 1   |   5 |\n",
       "| 1   |  10 |\n",
       "| 2   |  50 |\n",
       "| 2   | 100 |\n",
       "| 3   |   7 |\n",
       "| 3   |   7 |\n",
       "\n"
      ],
      "text/plain": [
       "  type value\n",
       "1 1      5  \n",
       "2 1     10  \n",
       "3 2     50  \n",
       "4 2    100  \n",
       "5 3      7  \n",
       "6 3      7  "
      ]
     },
     "metadata": {},
     "output_type": "display_data"
    }
   ],
   "source": [
    "df"
   ]
  },
  {
   "cell_type": "code",
   "execution_count": 4,
   "id": "cdf01b3c",
   "metadata": {},
   "outputs": [],
   "source": [
    "# вложенные вызовы"
   ]
  },
  {
   "cell_type": "code",
   "execution_count": 14,
   "id": "da02e51b",
   "metadata": {},
   "outputs": [
    {
     "data": {
      "text/html": [
       "<table>\n",
       "<thead><tr><th scope=col>type</th><th scope=col>Total</th></tr></thead>\n",
       "<tbody>\n",
       "\t<tr><td>2  </td><td>150</td></tr>\n",
       "\t<tr><td>1  </td><td> 15</td></tr>\n",
       "\t<tr><td>3  </td><td> 14</td></tr>\n",
       "</tbody>\n",
       "</table>\n"
      ],
      "text/latex": [
       "\\begin{tabular}{r|ll}\n",
       " type & Total\\\\\n",
       "\\hline\n",
       "\t 2   & 150\\\\\n",
       "\t 1   &  15\\\\\n",
       "\t 3   &  14\\\\\n",
       "\\end{tabular}\n"
      ],
      "text/markdown": [
       "\n",
       "| type | Total |\n",
       "|---|---|\n",
       "| 2   | 150 |\n",
       "| 1   |  15 |\n",
       "| 3   |  14 |\n",
       "\n"
      ],
      "text/plain": [
       "  type Total\n",
       "1 2    150  \n",
       "2 1     15  \n",
       "3 3     14  "
      ]
     },
     "metadata": {},
     "output_type": "display_data"
    }
   ],
   "source": [
    "arrange(\n",
    "    summarize(\n",
    "    group_by(df, type),\n",
    "    Total = sum(value)\n",
    "    ),\n",
    "    -Total\n",
    ")"
   ]
  },
  {
   "cell_type": "code",
   "execution_count": 15,
   "id": "e0b64996",
   "metadata": {},
   "outputs": [],
   "source": [
    "a <- group_by(df, type)"
   ]
  },
  {
   "cell_type": "code",
   "execution_count": 16,
   "id": "beffd429",
   "metadata": {},
   "outputs": [],
   "source": [
    "b <- summarize(a, Total = sum(value))"
   ]
  },
  {
   "cell_type": "code",
   "execution_count": 17,
   "id": "5565dce4",
   "metadata": {},
   "outputs": [],
   "source": [
    "c <- arrange(b, -Total)"
   ]
  },
  {
   "cell_type": "code",
   "execution_count": 18,
   "id": "51eb2b34",
   "metadata": {},
   "outputs": [
    {
     "data": {
      "text/html": [
       "<table>\n",
       "<thead><tr><th scope=col>type</th><th scope=col>value</th></tr></thead>\n",
       "<tbody>\n",
       "\t<tr><td>1  </td><td>  5</td></tr>\n",
       "\t<tr><td>1  </td><td> 10</td></tr>\n",
       "\t<tr><td>2  </td><td> 50</td></tr>\n",
       "\t<tr><td>2  </td><td>100</td></tr>\n",
       "\t<tr><td>3  </td><td>  7</td></tr>\n",
       "\t<tr><td>3  </td><td>  7</td></tr>\n",
       "</tbody>\n",
       "</table>\n"
      ],
      "text/latex": [
       "\\begin{tabular}{r|ll}\n",
       " type & value\\\\\n",
       "\\hline\n",
       "\t 1   &   5\\\\\n",
       "\t 1   &  10\\\\\n",
       "\t 2   &  50\\\\\n",
       "\t 2   & 100\\\\\n",
       "\t 3   &   7\\\\\n",
       "\t 3   &   7\\\\\n",
       "\\end{tabular}\n"
      ],
      "text/markdown": [
       "\n",
       "| type | value |\n",
       "|---|---|\n",
       "| 1   |   5 |\n",
       "| 1   |  10 |\n",
       "| 2   |  50 |\n",
       "| 2   | 100 |\n",
       "| 3   |   7 |\n",
       "| 3   |   7 |\n",
       "\n"
      ],
      "text/plain": [
       "  type value\n",
       "1 1      5  \n",
       "2 1     10  \n",
       "3 2     50  \n",
       "4 2    100  \n",
       "5 3      7  \n",
       "6 3      7  "
      ]
     },
     "metadata": {},
     "output_type": "display_data"
    }
   ],
   "source": [
    "a"
   ]
  },
  {
   "cell_type": "code",
   "execution_count": 20,
   "id": "f8c463c9",
   "metadata": {},
   "outputs": [
    {
     "data": {
      "text/html": [
       "<table>\n",
       "<thead><tr><th scope=col>type</th><th scope=col>Total</th></tr></thead>\n",
       "<tbody>\n",
       "\t<tr><td>1  </td><td> 15</td></tr>\n",
       "\t<tr><td>2  </td><td>150</td></tr>\n",
       "\t<tr><td>3  </td><td> 14</td></tr>\n",
       "</tbody>\n",
       "</table>\n"
      ],
      "text/latex": [
       "\\begin{tabular}{r|ll}\n",
       " type & Total\\\\\n",
       "\\hline\n",
       "\t 1   &  15\\\\\n",
       "\t 2   & 150\\\\\n",
       "\t 3   &  14\\\\\n",
       "\\end{tabular}\n"
      ],
      "text/markdown": [
       "\n",
       "| type | Total |\n",
       "|---|---|\n",
       "| 1   |  15 |\n",
       "| 2   | 150 |\n",
       "| 3   |  14 |\n",
       "\n"
      ],
      "text/plain": [
       "  type Total\n",
       "1 1     15  \n",
       "2 2    150  \n",
       "3 3     14  "
      ]
     },
     "metadata": {},
     "output_type": "display_data"
    }
   ],
   "source": [
    "b"
   ]
  },
  {
   "cell_type": "code",
   "execution_count": 21,
   "id": "4bbf722b",
   "metadata": {},
   "outputs": [
    {
     "data": {
      "text/html": [
       "<table>\n",
       "<thead><tr><th scope=col>type</th><th scope=col>Total</th></tr></thead>\n",
       "<tbody>\n",
       "\t<tr><td>2  </td><td>150</td></tr>\n",
       "\t<tr><td>1  </td><td> 15</td></tr>\n",
       "\t<tr><td>3  </td><td> 14</td></tr>\n",
       "</tbody>\n",
       "</table>\n"
      ],
      "text/latex": [
       "\\begin{tabular}{r|ll}\n",
       " type & Total\\\\\n",
       "\\hline\n",
       "\t 2   & 150\\\\\n",
       "\t 1   &  15\\\\\n",
       "\t 3   &  14\\\\\n",
       "\\end{tabular}\n"
      ],
      "text/markdown": [
       "\n",
       "| type | Total |\n",
       "|---|---|\n",
       "| 2   | 150 |\n",
       "| 1   |  15 |\n",
       "| 3   |  14 |\n",
       "\n"
      ],
      "text/plain": [
       "  type Total\n",
       "1 2    150  \n",
       "2 1     15  \n",
       "3 3     14  "
      ]
     },
     "metadata": {},
     "output_type": "display_data"
    }
   ],
   "source": [
    "c"
   ]
  },
  {
   "cell_type": "code",
   "execution_count": 22,
   "id": "cd64b458",
   "metadata": {},
   "outputs": [],
   "source": [
    "# конвейер"
   ]
  },
  {
   "cell_type": "code",
   "execution_count": 24,
   "id": "4157cf90",
   "metadata": {},
   "outputs": [
    {
     "data": {
      "text/html": [
       "<table>\n",
       "<thead><tr><th scope=col>type</th><th scope=col>Total</th></tr></thead>\n",
       "<tbody>\n",
       "\t<tr><td>2  </td><td>150</td></tr>\n",
       "\t<tr><td>1  </td><td> 15</td></tr>\n",
       "\t<tr><td>3  </td><td> 14</td></tr>\n",
       "</tbody>\n",
       "</table>\n"
      ],
      "text/latex": [
       "\\begin{tabular}{r|ll}\n",
       " type & Total\\\\\n",
       "\\hline\n",
       "\t 2   & 150\\\\\n",
       "\t 1   &  15\\\\\n",
       "\t 3   &  14\\\\\n",
       "\\end{tabular}\n"
      ],
      "text/markdown": [
       "\n",
       "| type | Total |\n",
       "|---|---|\n",
       "| 2   | 150 |\n",
       "| 1   |  15 |\n",
       "| 3   |  14 |\n",
       "\n"
      ],
      "text/plain": [
       "  type Total\n",
       "1 2    150  \n",
       "2 1     15  \n",
       "3 3     14  "
      ]
     },
     "metadata": {},
     "output_type": "display_data"
    }
   ],
   "source": [
    "df %>%\n",
    "    group_by(type) %>%\n",
    "    summarise(Total = sum(value)) %>%\n",
    "    arrange(-Total)"
   ]
  },
  {
   "cell_type": "code",
   "execution_count": 29,
   "id": "53d84812",
   "metadata": {
    "tags": []
   },
   "outputs": [],
   "source": [
    "# 1-st approach"
   ]
  },
  {
   "cell_type": "code",
   "execution_count": 31,
   "id": "30f1c8bc",
   "metadata": {},
   "outputs": [],
   "source": [
    "avian <- read.csv('avianHabitat.csv')"
   ]
  },
  {
   "cell_type": "code",
   "execution_count": 33,
   "id": "0f756075",
   "metadata": {},
   "outputs": [],
   "source": [
    "avian <- subset(avian, PDB > 0 & DBHt > 0, c(\"Site\", \"Observer\", \"PDB\", \"DBHt\"))"
   ]
  },
  {
   "cell_type": "code",
   "execution_count": 35,
   "id": "0e606bda",
   "metadata": {},
   "outputs": [
    {
     "name": "stdout",
     "output_type": "stream",
     "text": [
      "'data.frame':\t492 obs. of  4 variables:\n",
      " $ Site    : chr  \"BunkerHill27\" \"BunkerHill27\" \"BunkerHill27\" \"BunkerHill27\" ...\n",
      " $ Observer: chr  \"RA\" \"RA\" \"RA\" \"RA\" ...\n",
      " $ PDB     : int  3 2 4 3 4 3 3 2 2 2 ...\n",
      " $ DBHt    : num  5.2 3.1 5.5 6.2 5.4 4 5.2 4.4 5.7 4.8 ...\n"
     ]
    }
   ],
   "source": [
    "str(avian)"
   ]
  },
  {
   "cell_type": "code",
   "execution_count": 37,
   "id": "ce9d53b7",
   "metadata": {},
   "outputs": [],
   "source": [
    "avian$Site <- factor(str_replace(avian$Site, \"[:digit:]+\", \"\"))"
   ]
  },
  {
   "cell_type": "code",
   "execution_count": 40,
   "id": "ab3ce3ed",
   "metadata": {},
   "outputs": [
    {
     "data": {
      "text/html": [
       "<table>\n",
       "<thead><tr><th></th><th scope=col>Site</th><th scope=col>Observer</th><th scope=col>x</th></tr></thead>\n",
       "<tbody>\n",
       "\t<tr><th scope=row>1</th><td>BunkerHill </td><td>JT         </td><td> 9.9       </td></tr>\n",
       "\t<tr><th scope=row>3</th><td>BunkerHill </td><td>RA         </td><td> 7.0       </td></tr>\n",
       "\t<tr><th scope=row>5</th><td>HortonCreek</td><td>RA         </td><td>10.0       </td></tr>\n",
       "\t<tr><th scope=row>7</th><td>McAdamCreek</td><td>RA         </td><td> 7.2       </td></tr>\n",
       "\t<tr><th scope=row>11</th><td>McAdamCreek</td><td>RR         </td><td> 5.0       </td></tr>\n",
       "</tbody>\n",
       "</table>\n"
      ],
      "text/latex": [
       "\\begin{tabular}{r|lll}\n",
       "  & Site & Observer & x\\\\\n",
       "\\hline\n",
       "\t1 & BunkerHill  & JT          &  9.9       \\\\\n",
       "\t3 & BunkerHill  & RA          &  7.0       \\\\\n",
       "\t5 & HortonCreek & RA          & 10.0       \\\\\n",
       "\t7 & McAdamCreek & RA          &  7.2       \\\\\n",
       "\t11 & McAdamCreek & RR          &  5.0       \\\\\n",
       "\\end{tabular}\n"
      ],
      "text/markdown": [
       "\n",
       "| <!--/--> | Site | Observer | x |\n",
       "|---|---|---|---|\n",
       "| 1 | BunkerHill  | JT          |  9.9        |\n",
       "| 3 | BunkerHill  | RA          |  7.0        |\n",
       "| 5 | HortonCreek | RA          | 10.0        |\n",
       "| 7 | McAdamCreek | RA          |  7.2        |\n",
       "| 11 | McAdamCreek | RR          |  5.0        |\n",
       "\n"
      ],
      "text/plain": [
       "   Site        Observer x   \n",
       "1  BunkerHill  JT        9.9\n",
       "3  BunkerHill  RA        7.0\n",
       "5  HortonCreek RA       10.0\n",
       "7  McAdamCreek RA        7.2\n",
       "11 McAdamCreek RR        5.0"
      ]
     },
     "metadata": {},
     "output_type": "display_data"
    }
   ],
   "source": [
    "subset(\n",
    "    aggregate(avian$DBHt, list(Site = avian$Site, Observer = avian$Observer), max),\n",
    "    x >= 5\n",
    ")"
   ]
  },
  {
   "cell_type": "code",
   "execution_count": 41,
   "id": "9280f361",
   "metadata": {},
   "outputs": [],
   "source": [
    "# 2-nd approach - using pipes"
   ]
  },
  {
   "cell_type": "code",
   "execution_count": 42,
   "id": "8b8eccb3",
   "metadata": {},
   "outputs": [],
   "source": [
    "avian <- read.csv('avianHabitat.csv')"
   ]
  },
  {
   "cell_type": "code",
   "execution_count": 43,
   "id": "ce95af2a",
   "metadata": {},
   "outputs": [],
   "source": [
    "avian <- \n",
    "    avian %>%\n",
    "    subset(PDB > 0 & DBHt > 0, c(\"Site\", \"Observer\", \"PDB\", \"DBHt\")) %>%\n",
    "    transform(Site = factor(str_replace(.$Site, \"[:digit:]+\", \"\")))"
   ]
  },
  {
   "cell_type": "code",
   "execution_count": 45,
   "id": "682494e3",
   "metadata": {},
   "outputs": [
    {
     "data": {
      "text/html": [
       "<table>\n",
       "<thead><tr><th></th><th scope=col>Site</th><th scope=col>Observer</th><th scope=col>x</th></tr></thead>\n",
       "<tbody>\n",
       "\t<tr><th scope=row>1</th><td>BunkerHill </td><td>JT         </td><td> 9.9       </td></tr>\n",
       "\t<tr><th scope=row>3</th><td>BunkerHill </td><td>RA         </td><td> 7.0       </td></tr>\n",
       "\t<tr><th scope=row>5</th><td>HortonCreek</td><td>RA         </td><td>10.0       </td></tr>\n",
       "\t<tr><th scope=row>7</th><td>McAdamCreek</td><td>RA         </td><td> 7.2       </td></tr>\n",
       "\t<tr><th scope=row>11</th><td>McAdamCreek</td><td>RR         </td><td> 5.0       </td></tr>\n",
       "</tbody>\n",
       "</table>\n"
      ],
      "text/latex": [
       "\\begin{tabular}{r|lll}\n",
       "  & Site & Observer & x\\\\\n",
       "\\hline\n",
       "\t1 & BunkerHill  & JT          &  9.9       \\\\\n",
       "\t3 & BunkerHill  & RA          &  7.0       \\\\\n",
       "\t5 & HortonCreek & RA          & 10.0       \\\\\n",
       "\t7 & McAdamCreek & RA          &  7.2       \\\\\n",
       "\t11 & McAdamCreek & RR          &  5.0       \\\\\n",
       "\\end{tabular}\n"
      ],
      "text/markdown": [
       "\n",
       "| <!--/--> | Site | Observer | x |\n",
       "|---|---|---|---|\n",
       "| 1 | BunkerHill  | JT          |  9.9        |\n",
       "| 3 | BunkerHill  | RA          |  7.0        |\n",
       "| 5 | HortonCreek | RA          | 10.0        |\n",
       "| 7 | McAdamCreek | RA          |  7.2        |\n",
       "| 11 | McAdamCreek | RR          |  5.0        |\n",
       "\n"
      ],
      "text/plain": [
       "   Site        Observer x   \n",
       "1  BunkerHill  JT        9.9\n",
       "3  BunkerHill  RA        7.0\n",
       "5  HortonCreek RA       10.0\n",
       "7  McAdamCreek RA        7.2\n",
       "11 McAdamCreek RR        5.0"
      ]
     },
     "metadata": {},
     "output_type": "display_data"
    }
   ],
   "source": [
    "aggregate(avian$DBHt, list(Site = avian$Site, Observer = avian$Observer), max) %>%\n",
    "    subset(x >= 5)"
   ]
  },
  {
   "cell_type": "code",
   "execution_count": 46,
   "id": "291298db",
   "metadata": {},
   "outputs": [],
   "source": [
    "# third appoach (using both pipes and dplyr)"
   ]
  },
  {
   "cell_type": "code",
   "execution_count": 263,
   "id": "53e4ce58",
   "metadata": {},
   "outputs": [],
   "source": [
    "avian <- read.csv('avianHabitat.csv')"
   ]
  },
  {
   "cell_type": "code",
   "execution_count": 116,
   "id": "8e4a35b7",
   "metadata": {},
   "outputs": [
    {
     "data": {
      "text/html": [
       "<table>\n",
       "<thead><tr><th scope=col>Site</th><th scope=col>Observer</th><th scope=col>MaxHt</th></tr></thead>\n",
       "<tbody>\n",
       "\t<tr><td>BunkerHill </td><td>JT         </td><td> 9.9       </td></tr>\n",
       "\t<tr><td>BunkerHill </td><td>RA         </td><td> 7.0       </td></tr>\n",
       "\t<tr><td>HortonCreek</td><td>RA         </td><td>10.0       </td></tr>\n",
       "\t<tr><td>McAdamCreek</td><td>RA         </td><td> 7.2       </td></tr>\n",
       "\t<tr><td>McAdamCreek</td><td>RR         </td><td> 5.0       </td></tr>\n",
       "</tbody>\n",
       "</table>\n"
      ],
      "text/latex": [
       "\\begin{tabular}{r|lll}\n",
       " Site & Observer & MaxHt\\\\\n",
       "\\hline\n",
       "\t BunkerHill  & JT          &  9.9       \\\\\n",
       "\t BunkerHill  & RA          &  7.0       \\\\\n",
       "\t HortonCreek & RA          & 10.0       \\\\\n",
       "\t McAdamCreek & RA          &  7.2       \\\\\n",
       "\t McAdamCreek & RR          &  5.0       \\\\\n",
       "\\end{tabular}\n"
      ],
      "text/markdown": [
       "\n",
       "| Site | Observer | MaxHt |\n",
       "|---|---|---|\n",
       "| BunkerHill  | JT          |  9.9        |\n",
       "| BunkerHill  | RA          |  7.0        |\n",
       "| HortonCreek | RA          | 10.0        |\n",
       "| McAdamCreek | RA          |  7.2        |\n",
       "| McAdamCreek | RR          |  5.0        |\n",
       "\n"
      ],
      "text/plain": [
       "  Site        Observer MaxHt\n",
       "1 BunkerHill  JT        9.9 \n",
       "2 BunkerHill  RA        7.0 \n",
       "3 HortonCreek RA       10.0 \n",
       "4 McAdamCreek RA        7.2 \n",
       "5 McAdamCreek RR        5.0 "
      ]
     },
     "metadata": {},
     "output_type": "display_data"
    }
   ],
   "source": [
    "avian %>%\n",
    "    filter(PDB > 0, DBHt > 0) %>%\n",
    "    select(Site, Observer, contains(\"DB\")) %>%\n",
    "    mutate(Site = factor(str_replace(Site, \"[:digit:]+\", \"\"))) %>%\n",
    "    group_by(Site, Observer) %>%\n",
    "    summarise(MaxHt = max(DBHt)) %>%\n",
    "    filter(MaxHt >= 5)"
   ]
  },
  {
   "cell_type": "code",
   "execution_count": 75,
   "id": "91936de2",
   "metadata": {},
   "outputs": [
    {
     "data": {
      "text/html": [
       "<table>\n",
       "<thead><tr><th scope=col>breaks</th><th scope=col>wool</th><th scope=col>tension</th></tr></thead>\n",
       "<tbody>\n",
       "\t<tr><td>26</td><td>A </td><td>L </td></tr>\n",
       "\t<tr><td>30</td><td>A </td><td>L </td></tr>\n",
       "\t<tr><td>54</td><td>A </td><td>L </td></tr>\n",
       "\t<tr><td>25</td><td>A </td><td>L </td></tr>\n",
       "\t<tr><td>70</td><td>A </td><td>L </td></tr>\n",
       "\t<tr><td>52</td><td>A </td><td>L </td></tr>\n",
       "</tbody>\n",
       "</table>\n"
      ],
      "text/latex": [
       "\\begin{tabular}{r|lll}\n",
       " breaks & wool & tension\\\\\n",
       "\\hline\n",
       "\t 26 & A  & L \\\\\n",
       "\t 30 & A  & L \\\\\n",
       "\t 54 & A  & L \\\\\n",
       "\t 25 & A  & L \\\\\n",
       "\t 70 & A  & L \\\\\n",
       "\t 52 & A  & L \\\\\n",
       "\\end{tabular}\n"
      ],
      "text/markdown": [
       "\n",
       "| breaks | wool | tension |\n",
       "|---|---|---|\n",
       "| 26 | A  | L  |\n",
       "| 30 | A  | L  |\n",
       "| 54 | A  | L  |\n",
       "| 25 | A  | L  |\n",
       "| 70 | A  | L  |\n",
       "| 52 | A  | L  |\n",
       "\n"
      ],
      "text/plain": [
       "  breaks wool tension\n",
       "1 26     A    L      \n",
       "2 30     A    L      \n",
       "3 54     A    L      \n",
       "4 25     A    L      \n",
       "5 70     A    L      \n",
       "6 52     A    L      "
      ]
     },
     "metadata": {},
     "output_type": "display_data"
    }
   ],
   "source": [
    "head(warpbreaks)"
   ]
  },
  {
   "cell_type": "code",
   "execution_count": 76,
   "id": "fb52dd15",
   "metadata": {},
   "outputs": [
    {
     "data": {
      "text/html": [
       "<table>\n",
       "<thead><tr><th scope=col>wool</th><th scope=col>tension</th><th scope=col>avg</th><th scope=col>max</th></tr></thead>\n",
       "<tbody>\n",
       "\t<tr><td>A       </td><td>L       </td><td>44.55556</td><td>70      </td></tr>\n",
       "\t<tr><td>A       </td><td>H       </td><td>24.55556</td><td>43      </td></tr>\n",
       "\t<tr><td>B       </td><td>L       </td><td>28.22222</td><td>44      </td></tr>\n",
       "\t<tr><td>B       </td><td>M       </td><td>28.77778</td><td>42      </td></tr>\n",
       "</tbody>\n",
       "</table>\n"
      ],
      "text/latex": [
       "\\begin{tabular}{r|llll}\n",
       " wool & tension & avg & max\\\\\n",
       "\\hline\n",
       "\t A        & L        & 44.55556 & 70      \\\\\n",
       "\t A        & H        & 24.55556 & 43      \\\\\n",
       "\t B        & L        & 28.22222 & 44      \\\\\n",
       "\t B        & M        & 28.77778 & 42      \\\\\n",
       "\\end{tabular}\n"
      ],
      "text/markdown": [
       "\n",
       "| wool | tension | avg | max |\n",
       "|---|---|---|---|\n",
       "| A        | L        | 44.55556 | 70       |\n",
       "| A        | H        | 24.55556 | 43       |\n",
       "| B        | L        | 28.22222 | 44       |\n",
       "| B        | M        | 28.77778 | 42       |\n",
       "\n"
      ],
      "text/plain": [
       "  wool tension avg      max\n",
       "1 A    L       44.55556 70 \n",
       "2 A    H       24.55556 43 \n",
       "3 B    L       28.22222 44 \n",
       "4 B    M       28.77778 42 "
      ]
     },
     "metadata": {},
     "output_type": "display_data"
    }
   ],
   "source": [
    "warpbreaks %>%\n",
    "    group_by(wool, tension) %>%\n",
    "    summarize(avg = mean(breaks), max = max(breaks)) %>%\n",
    "    filter(avg > 25 | max > 42)"
   ]
  },
  {
   "cell_type": "code",
   "execution_count": 275,
   "id": "9d5905d4",
   "metadata": {},
   "outputs": [],
   "source": [
    "avian <- read.csv('avianHabitat.csv')"
   ]
  },
  {
   "cell_type": "code",
   "execution_count": 277,
   "id": "8636e272",
   "metadata": {},
   "outputs": [
    {
     "data": {
      "text/html": [
       "<table>\n",
       "<thead><tr><th scope=col>Site</th><th scope=col>Observer</th><th scope=col>Plant</th><th scope=col>Ht</th></tr></thead>\n",
       "<tbody>\n",
       "\t<tr><td>McAdamCreek</td><td>RA         </td><td>LHt        </td><td>85         </td></tr>\n",
       "</tbody>\n",
       "</table>\n"
      ],
      "text/latex": [
       "\\begin{tabular}{r|llll}\n",
       " Site & Observer & Plant & Ht\\\\\n",
       "\\hline\n",
       "\t McAdamCreek & RA          & LHt         & 85         \\\\\n",
       "\\end{tabular}\n"
      ],
      "text/markdown": [
       "\n",
       "| Site | Observer | Plant | Ht |\n",
       "|---|---|---|---|\n",
       "| McAdamCreek | RA          | LHt         | 85          |\n",
       "\n"
      ],
      "text/plain": [
       "  Site        Observer Plant Ht\n",
       "1 McAdamCreek RA       LHt   85"
      ]
     },
     "metadata": {},
     "output_type": "display_data"
    },
    {
     "data": {
      "text/html": [
       "<table>\n",
       "<thead><tr><th scope=col>Site</th><th scope=col>Observer</th><th scope=col>Plant</th><th scope=col>Ht</th></tr></thead>\n",
       "<tbody>\n",
       "\t<tr><td>CreteCreek</td><td>RR        </td><td>HHt       </td><td>80        </td></tr>\n",
       "</tbody>\n",
       "</table>\n"
      ],
      "text/latex": [
       "\\begin{tabular}{r|llll}\n",
       " Site & Observer & Plant & Ht\\\\\n",
       "\\hline\n",
       "\t CreteCreek & RR         & HHt        & 80        \\\\\n",
       "\\end{tabular}\n"
      ],
      "text/markdown": [
       "\n",
       "| Site | Observer | Plant | Ht |\n",
       "|---|---|---|---|\n",
       "| CreteCreek | RR         | HHt        | 80         |\n",
       "\n"
      ],
      "text/plain": [
       "  Site       Observer Plant Ht\n",
       "1 CreteCreek RR       HHt   80"
      ]
     },
     "metadata": {},
     "output_type": "display_data"
    },
    {
     "data": {
      "text/html": [
       "<table>\n",
       "<thead><tr><th scope=col>Site</th><th scope=col>Observer</th><th scope=col>Plant</th><th scope=col>Ht</th></tr></thead>\n",
       "<tbody>\n",
       "\t<tr><td>LivingstonCreek</td><td>RR             </td><td>WHt            </td><td>115            </td></tr>\n",
       "</tbody>\n",
       "</table>\n"
      ],
      "text/latex": [
       "\\begin{tabular}{r|llll}\n",
       " Site & Observer & Plant & Ht\\\\\n",
       "\\hline\n",
       "\t LivingstonCreek & RR              & WHt             & 115            \\\\\n",
       "\\end{tabular}\n"
      ],
      "text/markdown": [
       "\n",
       "| Site | Observer | Plant | Ht |\n",
       "|---|---|---|---|\n",
       "| LivingstonCreek | RR              | WHt             | 115             |\n",
       "\n"
      ],
      "text/plain": [
       "  Site            Observer Plant Ht \n",
       "1 LivingstonCreek RR       WHt   115"
      ]
     },
     "metadata": {},
     "output_type": "display_data"
    },
    {
     "data": {
      "text/html": [
       "<table>\n",
       "<thead><tr><th scope=col>Site</th><th scope=col>Observer</th><th scope=col>Plant</th><th scope=col>Ht</th></tr></thead>\n",
       "<tbody>\n",
       "\t<tr><td>HortonCreek</td><td>RA         </td><td>EHt        </td><td>116        </td></tr>\n",
       "</tbody>\n",
       "</table>\n"
      ],
      "text/latex": [
       "\\begin{tabular}{r|llll}\n",
       " Site & Observer & Plant & Ht\\\\\n",
       "\\hline\n",
       "\t HortonCreek & RA          & EHt         & 116        \\\\\n",
       "\\end{tabular}\n"
      ],
      "text/markdown": [
       "\n",
       "| Site | Observer | Plant | Ht |\n",
       "|---|---|---|---|\n",
       "| HortonCreek | RA          | EHt         | 116         |\n",
       "\n"
      ],
      "text/plain": [
       "  Site        Observer Plant Ht \n",
       "1 HortonCreek RA       EHt   116"
      ]
     },
     "metadata": {},
     "output_type": "display_data"
    },
    {
     "data": {
      "text/html": [
       "<table>\n",
       "<thead><tr><th scope=col>Site</th><th scope=col>Observer</th><th scope=col>Plant</th><th scope=col>Ht</th></tr></thead>\n",
       "<tbody>\n",
       "\t<tr><td>CreteCreek</td><td>RR        </td><td>HHt       </td><td>80        </td></tr>\n",
       "</tbody>\n",
       "</table>\n"
      ],
      "text/latex": [
       "\\begin{tabular}{r|llll}\n",
       " Site & Observer & Plant & Ht\\\\\n",
       "\\hline\n",
       "\t CreteCreek & RR         & HHt        & 80        \\\\\n",
       "\\end{tabular}\n"
      ],
      "text/markdown": [
       "\n",
       "| Site | Observer | Plant | Ht |\n",
       "|---|---|---|---|\n",
       "| CreteCreek | RR         | HHt        | 80         |\n",
       "\n"
      ],
      "text/plain": [
       "  Site       Observer Plant Ht\n",
       "1 CreteCreek RR       HHt   80"
      ]
     },
     "metadata": {},
     "output_type": "display_data"
    },
    {
     "data": {
      "text/html": [
       "<table>\n",
       "<thead><tr><th scope=col>Site</th><th scope=col>Observer</th><th scope=col>Plant</th><th scope=col>Ht</th></tr></thead>\n",
       "<tbody>\n",
       "\t<tr><td>BunkerHill</td><td>JT        </td><td>DBHt      </td><td>53        </td></tr>\n",
       "</tbody>\n",
       "</table>\n"
      ],
      "text/latex": [
       "\\begin{tabular}{r|llll}\n",
       " Site & Observer & Plant & Ht\\\\\n",
       "\\hline\n",
       "\t BunkerHill & JT         & DBHt       & 53        \\\\\n",
       "\\end{tabular}\n"
      ],
      "text/markdown": [
       "\n",
       "| Site | Observer | Plant | Ht |\n",
       "|---|---|---|---|\n",
       "| BunkerHill | JT         | DBHt       | 53         |\n",
       "\n"
      ],
      "text/plain": [
       "  Site       Observer Plant Ht\n",
       "1 BunkerHill JT       DBHt  53"
      ]
     },
     "metadata": {},
     "output_type": "display_data"
    }
   ],
   "source": [
    "avian <- avian %>%\n",
    "    mutate(Site = factor(str_replace(Site, \"[:digit:]+\", \"\"))) %>%\n",
    "    select(Site, Observer, contains(\"Ht\")) %>%\n",
    "    gather(Plant, Ht, -Site, -Observer) %>%\n",
    "    filter(Ht > 0) %>%\n",
    "    group_by(Site, Observer, Plant) %>%\n",
    "    summarise_each(funs(length), Ht)\n",
    "\n",
    "    \n",
    "filter(avian, Site == 'McAdamCreek',Observer == 'RA', Plant== 'LHt')\n",
    "filter(avian, Site == 'CreteCreek',Observer == 'RR', Plant== 'HHt')\n",
    "filter(avian, Site == 'LivingstonCreek',Observer == 'RR', Plant== 'WHt')\n",
    "filter(avian, Site == 'HortonCreek',Observer == 'RA', Plant== 'EHt')\n",
    "filter(avian, Site == 'CreteCreek',Observer == 'RR', Plant== 'HHt')\n",
    "filter(avian, Site == 'BunkerHill',Observer == 'JT', Plant== 'DBHt')"
   ]
  },
  {
   "cell_type": "code",
   "execution_count": 278,
   "id": "f8440b96",
   "metadata": {},
   "outputs": [],
   "source": [
    "# Общий глоссарий для этого урока:\n",
    "\n",
    "# Tidy data\n",
    "# library(tidyr): ?gather, ?separate\n",
    "# library(dplyr):\n",
    "# ?select\n",
    "# ?filter\n",
    "# ?arrange\n",
    "# ?mutate\n",
    "# ?group_by, ?summarise\n",
    "# ?\"%>%\", piping operator"
   ]
  }
 ],
 "metadata": {
  "kernelspec": {
   "display_name": "R",
   "language": "R",
   "name": "ir"
  },
  "language_info": {
   "codemirror_mode": "r",
   "file_extension": ".r",
   "mimetype": "text/x-r-source",
   "name": "R",
   "pygments_lexer": "r",
   "version": "3.6.1"
  }
 },
 "nbformat": 4,
 "nbformat_minor": 5
}
