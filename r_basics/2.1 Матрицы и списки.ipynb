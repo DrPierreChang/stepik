{
 "cells": [
  {
   "cell_type": "code",
   "execution_count": 1,
   "id": "d4877ba2",
   "metadata": {},
   "outputs": [
    {
     "data": {
      "text/html": [
       "<table>\n",
       "<tbody>\n",
       "\t<tr><td>1</td><td>3</td><td>5</td></tr>\n",
       "\t<tr><td>2</td><td>4</td><td>6</td></tr>\n",
       "</tbody>\n",
       "</table>\n"
      ],
      "text/latex": [
       "\\begin{tabular}{lll}\n",
       "\t 1 & 3 & 5\\\\\n",
       "\t 2 & 4 & 6\\\\\n",
       "\\end{tabular}\n"
      ],
      "text/markdown": [
       "\n",
       "| 1 | 3 | 5 |\n",
       "| 2 | 4 | 6 |\n",
       "\n"
      ],
      "text/plain": [
       "     [,1] [,2] [,3]\n",
       "[1,] 1    3    5   \n",
       "[2,] 2    4    6   "
      ]
     },
     "metadata": {},
     "output_type": "display_data"
    }
   ],
   "source": [
    "# создание матриц\n",
    "matrix(1:6, nrow = 2, ncol = 3)"
   ]
  },
  {
   "cell_type": "code",
   "execution_count": 2,
   "id": "4c10b03a",
   "metadata": {},
   "outputs": [
    {
     "data": {
      "text/html": [
       "<table>\n",
       "<tbody>\n",
       "\t<tr><td>1</td><td>3</td><td>5</td></tr>\n",
       "\t<tr><td>2</td><td>4</td><td>6</td></tr>\n",
       "</tbody>\n",
       "</table>\n"
      ],
      "text/latex": [
       "\\begin{tabular}{lll}\n",
       "\t 1 & 3 & 5\\\\\n",
       "\t 2 & 4 & 6\\\\\n",
       "\\end{tabular}\n"
      ],
      "text/markdown": [
       "\n",
       "| 1 | 3 | 5 |\n",
       "| 2 | 4 | 6 |\n",
       "\n"
      ],
      "text/plain": [
       "     [,1] [,2] [,3]\n",
       "[1,] 1    3    5   \n",
       "[2,] 2    4    6   "
      ]
     },
     "metadata": {},
     "output_type": "display_data"
    }
   ],
   "source": [
    "# избавляемся от избыточности\n",
    "matrix(1:6, nrow = 2)"
   ]
  },
  {
   "cell_type": "code",
   "execution_count": 4,
   "id": "4a0643be",
   "metadata": {},
   "outputs": [
    {
     "data": {
      "text/html": [
       "<table>\n",
       "<tbody>\n",
       "\t<tr><td>1</td><td>2</td><td>3</td></tr>\n",
       "\t<tr><td>4</td><td>5</td><td>6</td></tr>\n",
       "</tbody>\n",
       "</table>\n"
      ],
      "text/latex": [
       "\\begin{tabular}{lll}\n",
       "\t 1 & 2 & 3\\\\\n",
       "\t 4 & 5 & 6\\\\\n",
       "\\end{tabular}\n"
      ],
      "text/markdown": [
       "\n",
       "| 1 | 2 | 3 |\n",
       "| 4 | 5 | 6 |\n",
       "\n"
      ],
      "text/plain": [
       "     [,1] [,2] [,3]\n",
       "[1,] 1    2    3   \n",
       "[2,] 4    5    6   "
      ]
     },
     "metadata": {},
     "output_type": "display_data"
    }
   ],
   "source": [
    "# упаковка по строкам\n",
    "matrix(1:6, nrow = 2, byrow = T)"
   ]
  },
  {
   "cell_type": "code",
   "execution_count": 6,
   "id": "d0755e5d",
   "metadata": {},
   "outputs": [
    {
     "data": {
      "text/html": [
       "<table>\n",
       "<tbody>\n",
       "\t<tr><td>7</td><td>7</td><td>7</td><td>7</td><td>7</td></tr>\n",
       "\t<tr><td>8</td><td>8</td><td>8</td><td>8</td><td>8</td></tr>\n",
       "</tbody>\n",
       "</table>\n"
      ],
      "text/latex": [
       "\\begin{tabular}{lllll}\n",
       "\t 7 & 7 & 7 & 7 & 7\\\\\n",
       "\t 8 & 8 & 8 & 8 & 8\\\\\n",
       "\\end{tabular}\n"
      ],
      "text/markdown": [
       "\n",
       "| 7 | 7 | 7 | 7 | 7 |\n",
       "| 8 | 8 | 8 | 8 | 8 |\n",
       "\n"
      ],
      "text/plain": [
       "     [,1] [,2] [,3] [,4] [,5]\n",
       "[1,] 7    7    7    7    7   \n",
       "[2,] 8    8    8    8    8   "
      ]
     },
     "metadata": {},
     "output_type": "display_data"
    }
   ],
   "source": [
    "# если вектор короче необходимого для размерности, то он будет переписан\n",
    "matrix(7:8, nrow = 2, ncol = 5)"
   ]
  },
  {
   "cell_type": "code",
   "execution_count": 7,
   "id": "0fb9b284",
   "metadata": {},
   "outputs": [],
   "source": [
    "# атрибут dim отвечает за размерность"
   ]
  },
  {
   "cell_type": "code",
   "execution_count": 8,
   "id": "7aeab946",
   "metadata": {},
   "outputs": [],
   "source": [
    "m <- matrix(1:6, nrow = 2, ncol = 3)"
   ]
  },
  {
   "cell_type": "code",
   "execution_count": 9,
   "id": "593fdeef",
   "metadata": {},
   "outputs": [
    {
     "data": {
      "text/html": [
       "<ol class=list-inline>\n",
       "\t<li>2</li>\n",
       "\t<li>3</li>\n",
       "</ol>\n"
      ],
      "text/latex": [
       "\\begin{enumerate*}\n",
       "\\item 2\n",
       "\\item 3\n",
       "\\end{enumerate*}\n"
      ],
      "text/markdown": [
       "1. 2\n",
       "2. 3\n",
       "\n",
       "\n"
      ],
      "text/plain": [
       "[1] 2 3"
      ]
     },
     "metadata": {},
     "output_type": "display_data"
    }
   ],
   "source": [
    "dim(m)"
   ]
  },
  {
   "cell_type": "code",
   "execution_count": 10,
   "id": "8e7a10ff",
   "metadata": {},
   "outputs": [
    {
     "data": {
      "text/html": [
       "<ol class=list-inline>\n",
       "\t<li>2</li>\n",
       "\t<li>3</li>\n",
       "</ol>\n"
      ],
      "text/latex": [
       "\\begin{enumerate*}\n",
       "\\item 2\n",
       "\\item 3\n",
       "\\end{enumerate*}\n"
      ],
      "text/markdown": [
       "1. 2\n",
       "2. 3\n",
       "\n",
       "\n"
      ],
      "text/plain": [
       "[1] 2 3"
      ]
     },
     "metadata": {},
     "output_type": "display_data"
    }
   ],
   "source": [
    "# или\n",
    "c(nrow(m), ncol(m))"
   ]
  },
  {
   "cell_type": "code",
   "execution_count": 11,
   "id": "a18d20b7",
   "metadata": {},
   "outputs": [
    {
     "data": {
      "text/html": [
       "<ol class=list-inline>\n",
       "\t<li>1</li>\n",
       "\t<li>2</li>\n",
       "\t<li>3</li>\n",
       "\t<li>4</li>\n",
       "\t<li>5</li>\n",
       "\t<li>6</li>\n",
       "</ol>\n"
      ],
      "text/latex": [
       "\\begin{enumerate*}\n",
       "\\item 1\n",
       "\\item 2\n",
       "\\item 3\n",
       "\\item 4\n",
       "\\item 5\n",
       "\\item 6\n",
       "\\end{enumerate*}\n"
      ],
      "text/markdown": [
       "1. 1\n",
       "2. 2\n",
       "3. 3\n",
       "4. 4\n",
       "5. 5\n",
       "6. 6\n",
       "\n",
       "\n"
      ],
      "text/plain": [
       "[1] 1 2 3 4 5 6"
      ]
     },
     "metadata": {},
     "output_type": "display_data"
    }
   ],
   "source": [
    "# превращаем матрицу в вектор, убирая атрибут dim\n",
    "dim(m) <- NULL;m"
   ]
  },
  {
   "cell_type": "code",
   "execution_count": 12,
   "id": "1fd8b138",
   "metadata": {},
   "outputs": [
    {
     "data": {
      "text/html": [
       "FALSE"
      ],
      "text/latex": [
       "FALSE"
      ],
      "text/markdown": [
       "FALSE"
      ],
      "text/plain": [
       "[1] FALSE"
      ]
     },
     "metadata": {},
     "output_type": "display_data"
    }
   ],
   "source": [
    "is.matrix(m)"
   ]
  },
  {
   "cell_type": "code",
   "execution_count": 13,
   "id": "ba6cf984",
   "metadata": {},
   "outputs": [
    {
     "data": {
      "text/html": [
       "TRUE"
      ],
      "text/latex": [
       "TRUE"
      ],
      "text/markdown": [
       "TRUE"
      ],
      "text/plain": [
       "[1] TRUE"
      ]
     },
     "metadata": {},
     "output_type": "display_data"
    }
   ],
   "source": [
    "is.vector(m)"
   ]
  },
  {
   "cell_type": "code",
   "execution_count": 14,
   "id": "326301ec",
   "metadata": {},
   "outputs": [],
   "source": [
    "# восстанавливаем атрибут\n",
    "dim(m) <- c(2, 3)"
   ]
  },
  {
   "cell_type": "code",
   "execution_count": 15,
   "id": "bbde21bb",
   "metadata": {},
   "outputs": [
    {
     "data": {
      "text/html": [
       "<table>\n",
       "<tbody>\n",
       "\t<tr><td>1</td><td>3</td><td>5</td></tr>\n",
       "\t<tr><td>2</td><td>4</td><td>6</td></tr>\n",
       "</tbody>\n",
       "</table>\n"
      ],
      "text/latex": [
       "\\begin{tabular}{lll}\n",
       "\t 1 & 3 & 5\\\\\n",
       "\t 2 & 4 & 6\\\\\n",
       "\\end{tabular}\n"
      ],
      "text/markdown": [
       "\n",
       "| 1 | 3 | 5 |\n",
       "| 2 | 4 | 6 |\n",
       "\n"
      ],
      "text/plain": [
       "     [,1] [,2] [,3]\n",
       "[1,] 1    3    5   \n",
       "[2,] 2    4    6   "
      ]
     },
     "metadata": {},
     "output_type": "display_data"
    }
   ],
   "source": [
    "m"
   ]
  },
  {
   "cell_type": "code",
   "execution_count": 17,
   "id": "443aed45",
   "metadata": {},
   "outputs": [
    {
     "data": {
      "text/html": [
       "TRUE"
      ],
      "text/latex": [
       "TRUE"
      ],
      "text/markdown": [
       "TRUE"
      ],
      "text/plain": [
       "[1] TRUE"
      ]
     },
     "metadata": {},
     "output_type": "display_data"
    }
   ],
   "source": [
    "is.matrix(m)"
   ]
  },
  {
   "cell_type": "code",
   "execution_count": 18,
   "id": "489b94c9",
   "metadata": {},
   "outputs": [
    {
     "data": {
      "text/html": [
       "FALSE"
      ],
      "text/latex": [
       "FALSE"
      ],
      "text/markdown": [
       "FALSE"
      ],
      "text/plain": [
       "[1] FALSE"
      ]
     },
     "metadata": {},
     "output_type": "display_data"
    }
   ],
   "source": [
    "is.vector(m)"
   ]
  },
  {
   "cell_type": "code",
   "execution_count": 19,
   "id": "3c01f21d",
   "metadata": {},
   "outputs": [],
   "source": [
    "# арифметические операции с матрицами"
   ]
  },
  {
   "cell_type": "code",
   "execution_count": 22,
   "id": "13d1569d",
   "metadata": {},
   "outputs": [],
   "source": [
    "m1 <- matrix(1:4, nrow = 2)\n",
    "m2 <- matrix(c(1, 2, 2, 3), nrow = 2)"
   ]
  },
  {
   "cell_type": "code",
   "execution_count": 23,
   "id": "802a9e63",
   "metadata": {},
   "outputs": [
    {
     "data": {
      "text/html": [
       "<table>\n",
       "<tbody>\n",
       "\t<tr><td>1</td><td>3</td></tr>\n",
       "\t<tr><td>2</td><td>4</td></tr>\n",
       "</tbody>\n",
       "</table>\n"
      ],
      "text/latex": [
       "\\begin{tabular}{ll}\n",
       "\t 1 & 3\\\\\n",
       "\t 2 & 4\\\\\n",
       "\\end{tabular}\n"
      ],
      "text/markdown": [
       "\n",
       "| 1 | 3 |\n",
       "| 2 | 4 |\n",
       "\n"
      ],
      "text/plain": [
       "     [,1] [,2]\n",
       "[1,] 1    3   \n",
       "[2,] 2    4   "
      ]
     },
     "metadata": {},
     "output_type": "display_data"
    },
    {
     "data": {
      "text/html": [
       "<table>\n",
       "<tbody>\n",
       "\t<tr><td>1</td><td>2</td></tr>\n",
       "\t<tr><td>2</td><td>3</td></tr>\n",
       "</tbody>\n",
       "</table>\n"
      ],
      "text/latex": [
       "\\begin{tabular}{ll}\n",
       "\t 1 & 2\\\\\n",
       "\t 2 & 3\\\\\n",
       "\\end{tabular}\n"
      ],
      "text/markdown": [
       "\n",
       "| 1 | 2 |\n",
       "| 2 | 3 |\n",
       "\n"
      ],
      "text/plain": [
       "     [,1] [,2]\n",
       "[1,] 1    2   \n",
       "[2,] 2    3   "
      ]
     },
     "metadata": {},
     "output_type": "display_data"
    }
   ],
   "source": [
    "m1; m2"
   ]
  },
  {
   "cell_type": "code",
   "execution_count": 24,
   "id": "e395d006",
   "metadata": {},
   "outputs": [
    {
     "data": {
      "text/html": [
       "<table>\n",
       "<tbody>\n",
       "\t<tr><td>2</td><td>5</td></tr>\n",
       "\t<tr><td>4</td><td>7</td></tr>\n",
       "</tbody>\n",
       "</table>\n"
      ],
      "text/latex": [
       "\\begin{tabular}{ll}\n",
       "\t 2 & 5\\\\\n",
       "\t 4 & 7\\\\\n",
       "\\end{tabular}\n"
      ],
      "text/markdown": [
       "\n",
       "| 2 | 5 |\n",
       "| 4 | 7 |\n",
       "\n"
      ],
      "text/plain": [
       "     [,1] [,2]\n",
       "[1,] 2    5   \n",
       "[2,] 4    7   "
      ]
     },
     "metadata": {},
     "output_type": "display_data"
    }
   ],
   "source": [
    "# поэлементное сложение матриц\n",
    "m1 + m2"
   ]
  },
  {
   "cell_type": "code",
   "execution_count": 25,
   "id": "cb2cbcbe",
   "metadata": {},
   "outputs": [
    {
     "data": {
      "text/html": [
       "<table>\n",
       "<tbody>\n",
       "\t<tr><td>6</td><td>8</td></tr>\n",
       "\t<tr><td>7</td><td>9</td></tr>\n",
       "</tbody>\n",
       "</table>\n"
      ],
      "text/latex": [
       "\\begin{tabular}{ll}\n",
       "\t 6 & 8\\\\\n",
       "\t 7 & 9\\\\\n",
       "\\end{tabular}\n"
      ],
      "text/markdown": [
       "\n",
       "| 6 | 8 |\n",
       "| 7 | 9 |\n",
       "\n"
      ],
      "text/plain": [
       "     [,1] [,2]\n",
       "[1,] 6    8   \n",
       "[2,] 7    9   "
      ]
     },
     "metadata": {},
     "output_type": "display_data"
    }
   ],
   "source": [
    "# добавляем к матрице число\n",
    "m1 + 5"
   ]
  },
  {
   "cell_type": "code",
   "execution_count": 26,
   "id": "f147165e",
   "metadata": {},
   "outputs": [
    {
     "data": {
      "text/html": [
       "<table>\n",
       "<tbody>\n",
       "\t<tr><td>1</td><td>3</td></tr>\n",
       "\t<tr><td>2</td><td>4</td></tr>\n",
       "</tbody>\n",
       "</table>\n"
      ],
      "text/latex": [
       "\\begin{tabular}{ll}\n",
       "\t 1 & 3\\\\\n",
       "\t 2 & 4\\\\\n",
       "\\end{tabular}\n"
      ],
      "text/markdown": [
       "\n",
       "| 1 | 3 |\n",
       "| 2 | 4 |\n",
       "\n"
      ],
      "text/plain": [
       "     [,1] [,2]\n",
       "[1,] 1    3   \n",
       "[2,] 2    4   "
      ]
     },
     "metadata": {},
     "output_type": "display_data"
    }
   ],
   "source": [
    "m1"
   ]
  },
  {
   "cell_type": "code",
   "execution_count": 27,
   "id": "bd291a35",
   "metadata": {},
   "outputs": [
    {
     "data": {
      "text/html": [
       "<table>\n",
       "<tbody>\n",
       "\t<tr><td> 5</td><td>15</td></tr>\n",
       "\t<tr><td>10</td><td>20</td></tr>\n",
       "</tbody>\n",
       "</table>\n"
      ],
      "text/latex": [
       "\\begin{tabular}{ll}\n",
       "\t  5 & 15\\\\\n",
       "\t 10 & 20\\\\\n",
       "\\end{tabular}\n"
      ],
      "text/markdown": [
       "\n",
       "|  5 | 15 |\n",
       "| 10 | 20 |\n",
       "\n"
      ],
      "text/plain": [
       "     [,1] [,2]\n",
       "[1,]  5   15  \n",
       "[2,] 10   20  "
      ]
     },
     "metadata": {},
     "output_type": "display_data"
    }
   ],
   "source": [
    "m1 * 5"
   ]
  },
  {
   "cell_type": "code",
   "execution_count": 28,
   "id": "17ad70f9",
   "metadata": {},
   "outputs": [
    {
     "data": {
      "text/html": [
       "<table>\n",
       "<tbody>\n",
       "\t<tr><td>1 </td><td> 6</td></tr>\n",
       "\t<tr><td>4 </td><td>12</td></tr>\n",
       "</tbody>\n",
       "</table>\n"
      ],
      "text/latex": [
       "\\begin{tabular}{ll}\n",
       "\t 1  &  6\\\\\n",
       "\t 4  & 12\\\\\n",
       "\\end{tabular}\n"
      ],
      "text/markdown": [
       "\n",
       "| 1  |  6 |\n",
       "| 4  | 12 |\n",
       "\n"
      ],
      "text/plain": [
       "     [,1] [,2]\n",
       "[1,] 1     6  \n",
       "[2,] 4    12  "
      ]
     },
     "metadata": {},
     "output_type": "display_data"
    }
   ],
   "source": [
    "m1 * m2"
   ]
  },
  {
   "cell_type": "code",
   "execution_count": 29,
   "id": "fde6dcdd",
   "metadata": {},
   "outputs": [],
   "source": [
    "# умножение в линейной алгебре"
   ]
  },
  {
   "cell_type": "code",
   "execution_count": 30,
   "id": "95ab7d4a",
   "metadata": {},
   "outputs": [
    {
     "data": {
      "text/html": [
       "<table>\n",
       "<tbody>\n",
       "\t<tr><td> 7</td><td>11</td></tr>\n",
       "\t<tr><td>10</td><td>16</td></tr>\n",
       "</tbody>\n",
       "</table>\n"
      ],
      "text/latex": [
       "\\begin{tabular}{ll}\n",
       "\t  7 & 11\\\\\n",
       "\t 10 & 16\\\\\n",
       "\\end{tabular}\n"
      ],
      "text/markdown": [
       "\n",
       "|  7 | 11 |\n",
       "| 10 | 16 |\n",
       "\n"
      ],
      "text/plain": [
       "     [,1] [,2]\n",
       "[1,]  7   11  \n",
       "[2,] 10   16  "
      ]
     },
     "metadata": {},
     "output_type": "display_data"
    }
   ],
   "source": [
    "m1 %*% m2"
   ]
  },
  {
   "cell_type": "code",
   "execution_count": 31,
   "id": "28f4881f",
   "metadata": {},
   "outputs": [
    {
     "data": {
      "text/html": [
       "<table>\n",
       "<tbody>\n",
       "\t<tr><td>1</td><td>3</td></tr>\n",
       "\t<tr><td>2</td><td>4</td></tr>\n",
       "</tbody>\n",
       "</table>\n"
      ],
      "text/latex": [
       "\\begin{tabular}{ll}\n",
       "\t 1 & 3\\\\\n",
       "\t 2 & 4\\\\\n",
       "\\end{tabular}\n"
      ],
      "text/markdown": [
       "\n",
       "| 1 | 3 |\n",
       "| 2 | 4 |\n",
       "\n"
      ],
      "text/plain": [
       "     [,1] [,2]\n",
       "[1,] 1    3   \n",
       "[2,] 2    4   "
      ]
     },
     "metadata": {},
     "output_type": "display_data"
    }
   ],
   "source": [
    "m1"
   ]
  },
  {
   "cell_type": "code",
   "execution_count": 32,
   "id": "56c779ca",
   "metadata": {},
   "outputs": [
    {
     "data": {
      "text/html": [
       "<table>\n",
       "<tbody>\n",
       "\t<tr><td>1</td><td>2</td></tr>\n",
       "\t<tr><td>2</td><td>3</td></tr>\n",
       "</tbody>\n",
       "</table>\n"
      ],
      "text/latex": [
       "\\begin{tabular}{ll}\n",
       "\t 1 & 2\\\\\n",
       "\t 2 & 3\\\\\n",
       "\\end{tabular}\n"
      ],
      "text/markdown": [
       "\n",
       "| 1 | 2 |\n",
       "| 2 | 3 |\n",
       "\n"
      ],
      "text/plain": [
       "     [,1] [,2]\n",
       "[1,] 1    2   \n",
       "[2,] 2    3   "
      ]
     },
     "metadata": {},
     "output_type": "display_data"
    }
   ],
   "source": [
    "m2"
   ]
  },
  {
   "cell_type": "code",
   "execution_count": 33,
   "id": "d9e503b8",
   "metadata": {},
   "outputs": [],
   "source": [
    "# индексирование матрци"
   ]
  },
  {
   "cell_type": "code",
   "execution_count": 38,
   "id": "a53b7d27",
   "metadata": {},
   "outputs": [
    {
     "data": {
      "text/html": [
       "<table>\n",
       "<tbody>\n",
       "\t<tr><td>1 </td><td>3 </td><td>5 </td><td>7 </td><td> 9</td></tr>\n",
       "\t<tr><td>2 </td><td>4 </td><td>6 </td><td>8 </td><td>10</td></tr>\n",
       "</tbody>\n",
       "</table>\n"
      ],
      "text/latex": [
       "\\begin{tabular}{lllll}\n",
       "\t 1  & 3  & 5  & 7  &  9\\\\\n",
       "\t 2  & 4  & 6  & 8  & 10\\\\\n",
       "\\end{tabular}\n"
      ],
      "text/markdown": [
       "\n",
       "| 1  | 3  | 5  | 7  |  9 |\n",
       "| 2  | 4  | 6  | 8  | 10 |\n",
       "\n"
      ],
      "text/plain": [
       "     [,1] [,2] [,3] [,4] [,5]\n",
       "[1,] 1    3    5    7     9  \n",
       "[2,] 2    4    6    8    10  "
      ]
     },
     "metadata": {},
     "output_type": "display_data"
    }
   ],
   "source": [
    "m <- matrix(1:10, ncol = 5); m"
   ]
  },
  {
   "cell_type": "code",
   "execution_count": 40,
   "id": "8c5d4cfc",
   "metadata": {},
   "outputs": [
    {
     "data": {
      "text/html": [
       "5"
      ],
      "text/latex": [
       "5"
      ],
      "text/markdown": [
       "5"
      ],
      "text/plain": [
       "[1] 5"
      ]
     },
     "metadata": {},
     "output_type": "display_data"
    }
   ],
   "source": [
    "m[1, 3]"
   ]
  },
  {
   "cell_type": "code",
   "execution_count": 41,
   "id": "4af5a283",
   "metadata": {},
   "outputs": [
    {
     "data": {
      "text/html": [
       "6"
      ],
      "text/latex": [
       "6"
      ],
      "text/markdown": [
       "6"
      ],
      "text/plain": [
       "[1] 6"
      ]
     },
     "metadata": {},
     "output_type": "display_data"
    }
   ],
   "source": [
    "m[2, 3]"
   ]
  },
  {
   "cell_type": "code",
   "execution_count": 43,
   "id": "3e966b58",
   "metadata": {},
   "outputs": [],
   "source": [
    "# доступ к всей строке или к всему столбцу"
   ]
  },
  {
   "cell_type": "code",
   "execution_count": 44,
   "id": "eca4ebb8",
   "metadata": {},
   "outputs": [
    {
     "data": {
      "text/html": [
       "<ol class=list-inline>\n",
       "\t<li>2</li>\n",
       "\t<li>4</li>\n",
       "\t<li>6</li>\n",
       "\t<li>8</li>\n",
       "\t<li>10</li>\n",
       "</ol>\n"
      ],
      "text/latex": [
       "\\begin{enumerate*}\n",
       "\\item 2\n",
       "\\item 4\n",
       "\\item 6\n",
       "\\item 8\n",
       "\\item 10\n",
       "\\end{enumerate*}\n"
      ],
      "text/markdown": [
       "1. 2\n",
       "2. 4\n",
       "3. 6\n",
       "4. 8\n",
       "5. 10\n",
       "\n",
       "\n"
      ],
      "text/plain": [
       "[1]  2  4  6  8 10"
      ]
     },
     "metadata": {},
     "output_type": "display_data"
    }
   ],
   "source": [
    "m[2,]"
   ]
  },
  {
   "cell_type": "code",
   "execution_count": 45,
   "id": "a8c3332f",
   "metadata": {},
   "outputs": [
    {
     "data": {
      "text/html": [
       "<ol class=list-inline>\n",
       "\t<li>3</li>\n",
       "\t<li>4</li>\n",
       "</ol>\n"
      ],
      "text/latex": [
       "\\begin{enumerate*}\n",
       "\\item 3\n",
       "\\item 4\n",
       "\\end{enumerate*}\n"
      ],
      "text/markdown": [
       "1. 3\n",
       "2. 4\n",
       "\n",
       "\n"
      ],
      "text/plain": [
       "[1] 3 4"
      ]
     },
     "metadata": {},
     "output_type": "display_data"
    }
   ],
   "source": [
    "m[,2]"
   ]
  },
  {
   "cell_type": "code",
   "execution_count": 46,
   "id": "897f5735",
   "metadata": {},
   "outputs": [],
   "source": [
    "# замена значений"
   ]
  },
  {
   "cell_type": "code",
   "execution_count": 48,
   "id": "3b8acd9c",
   "metadata": {},
   "outputs": [
    {
     "data": {
      "text/html": [
       "<table>\n",
       "<tbody>\n",
       "\t<tr><td>0 </td><td>0 </td><td>0 </td><td>0 </td><td> 0</td></tr>\n",
       "\t<tr><td>2 </td><td>4 </td><td>6 </td><td>8 </td><td>10</td></tr>\n",
       "</tbody>\n",
       "</table>\n"
      ],
      "text/latex": [
       "\\begin{tabular}{lllll}\n",
       "\t 0  & 0  & 0  & 0  &  0\\\\\n",
       "\t 2  & 4  & 6  & 8  & 10\\\\\n",
       "\\end{tabular}\n"
      ],
      "text/markdown": [
       "\n",
       "| 0  | 0  | 0  | 0  |  0 |\n",
       "| 2  | 4  | 6  | 8  | 10 |\n",
       "\n"
      ],
      "text/plain": [
       "     [,1] [,2] [,3] [,4] [,5]\n",
       "[1,] 0    0    0    0     0  \n",
       "[2,] 2    4    6    8    10  "
      ]
     },
     "metadata": {},
     "output_type": "display_data"
    }
   ],
   "source": [
    "m[1,] <- 0;m"
   ]
  },
  {
   "cell_type": "code",
   "execution_count": 49,
   "id": "3b9dd427",
   "metadata": {},
   "outputs": [
    {
     "data": {
      "text/html": [
       "<table>\n",
       "<tbody>\n",
       "\t<tr><td>11</td><td>13</td><td>15</td><td>17</td><td> 0</td></tr>\n",
       "\t<tr><td>12</td><td>14</td><td>16</td><td>18</td><td>10</td></tr>\n",
       "</tbody>\n",
       "</table>\n"
      ],
      "text/latex": [
       "\\begin{tabular}{lllll}\n",
       "\t 11 & 13 & 15 & 17 &  0\\\\\n",
       "\t 12 & 14 & 16 & 18 & 10\\\\\n",
       "\\end{tabular}\n"
      ],
      "text/markdown": [
       "\n",
       "| 11 | 13 | 15 | 17 |  0 |\n",
       "| 12 | 14 | 16 | 18 | 10 |\n",
       "\n"
      ],
      "text/plain": [
       "     [,1] [,2] [,3] [,4] [,5]\n",
       "[1,] 11   13   15   17    0  \n",
       "[2,] 12   14   16   18   10  "
      ]
     },
     "metadata": {},
     "output_type": "display_data"
    }
   ],
   "source": [
    "# перепривоить все столбцы кроме 5-го\n",
    "m[, -5] <- 11:18;m"
   ]
  },
  {
   "cell_type": "code",
   "execution_count": 50,
   "id": "d613585c",
   "metadata": {},
   "outputs": [],
   "source": [
    "# схлопывание марицы"
   ]
  },
  {
   "cell_type": "code",
   "execution_count": 53,
   "id": "f7ed2c2d",
   "metadata": {},
   "outputs": [
    {
     "data": {
      "text/html": [
       "<table>\n",
       "<tbody>\n",
       "\t<tr><td>1 </td><td>5 </td><td> 9</td></tr>\n",
       "\t<tr><td>2 </td><td>6 </td><td>10</td></tr>\n",
       "</tbody>\n",
       "</table>\n"
      ],
      "text/latex": [
       "\\begin{tabular}{lll}\n",
       "\t 1  & 5  &  9\\\\\n",
       "\t 2  & 6  & 10\\\\\n",
       "\\end{tabular}\n"
      ],
      "text/markdown": [
       "\n",
       "| 1  | 5  |  9 |\n",
       "| 2  | 6  | 10 |\n",
       "\n"
      ],
      "text/plain": [
       "     [,1] [,2] [,3]\n",
       "[1,] 1    5     9  \n",
       "[2,] 2    6    10  "
      ]
     },
     "metadata": {},
     "output_type": "display_data"
    }
   ],
   "source": [
    "m <- matrix(1:10, ncol = 5)\n",
    "ind <- c(1, 3, 5)\n",
    "m[,ind]"
   ]
  },
  {
   "cell_type": "code",
   "execution_count": 52,
   "id": "8b36c9d1",
   "metadata": {},
   "outputs": [
    {
     "data": {
      "text/html": [
       "<table>\n",
       "<tbody>\n",
       "\t<tr><td>1 </td><td>3 </td><td>5 </td><td>7 </td><td> 9</td></tr>\n",
       "\t<tr><td>2 </td><td>4 </td><td>6 </td><td>8 </td><td>10</td></tr>\n",
       "</tbody>\n",
       "</table>\n"
      ],
      "text/latex": [
       "\\begin{tabular}{lllll}\n",
       "\t 1  & 3  & 5  & 7  &  9\\\\\n",
       "\t 2  & 4  & 6  & 8  & 10\\\\\n",
       "\\end{tabular}\n"
      ],
      "text/markdown": [
       "\n",
       "| 1  | 3  | 5  | 7  |  9 |\n",
       "| 2  | 4  | 6  | 8  | 10 |\n",
       "\n"
      ],
      "text/plain": [
       "     [,1] [,2] [,3] [,4] [,5]\n",
       "[1,] 1    3    5    7     9  \n",
       "[2,] 2    4    6    8    10  "
      ]
     },
     "metadata": {},
     "output_type": "display_data"
    }
   ],
   "source": [
    "m"
   ]
  },
  {
   "cell_type": "code",
   "execution_count": 54,
   "id": "b00265bb",
   "metadata": {},
   "outputs": [],
   "source": [
    "ind <- 3"
   ]
  },
  {
   "cell_type": "code",
   "execution_count": 57,
   "id": "8607adf6",
   "metadata": {},
   "outputs": [
    {
     "data": {
      "text/html": [
       "<ol class=list-inline>\n",
       "\t<li>5</li>\n",
       "\t<li>6</li>\n",
       "</ol>\n"
      ],
      "text/latex": [
       "\\begin{enumerate*}\n",
       "\\item 5\n",
       "\\item 6\n",
       "\\end{enumerate*}\n"
      ],
      "text/markdown": [
       "1. 5\n",
       "2. 6\n",
       "\n",
       "\n"
      ],
      "text/plain": [
       "[1] 5 6"
      ]
     },
     "metadata": {},
     "output_type": "display_data"
    }
   ],
   "source": [
    "# размерность схлапывается и мы получаем вектор\n",
    "m[, ind]"
   ]
  },
  {
   "cell_type": "code",
   "execution_count": 56,
   "id": "7b700e89",
   "metadata": {},
   "outputs": [
    {
     "data": {
      "text/html": [
       "<table>\n",
       "<tbody>\n",
       "\t<tr><td>5</td></tr>\n",
       "\t<tr><td>6</td></tr>\n",
       "</tbody>\n",
       "</table>\n"
      ],
      "text/latex": [
       "\\begin{tabular}{l}\n",
       "\t 5\\\\\n",
       "\t 6\\\\\n",
       "\\end{tabular}\n"
      ],
      "text/markdown": [
       "\n",
       "| 5 |\n",
       "| 6 |\n",
       "\n"
      ],
      "text/plain": [
       "     [,1]\n",
       "[1,] 5   \n",
       "[2,] 6   "
      ]
     },
     "metadata": {},
     "output_type": "display_data"
    }
   ],
   "source": [
    "# чтобы получить именно матрицу, а не вектор\n",
    "m[, ind, drop = F]"
   ]
  },
  {
   "cell_type": "code",
   "execution_count": 58,
   "id": "368b2c7b",
   "metadata": {},
   "outputs": [],
   "source": [
    "# именованные матрицы"
   ]
  },
  {
   "cell_type": "code",
   "execution_count": 59,
   "id": "f571cb9b",
   "metadata": {},
   "outputs": [
    {
     "data": {
      "text/html": [
       "<table>\n",
       "<tbody>\n",
       "\t<tr><td>1 </td><td>3 </td><td>5 </td><td>7 </td><td> 9</td></tr>\n",
       "\t<tr><td>2 </td><td>4 </td><td>6 </td><td>8 </td><td>10</td></tr>\n",
       "</tbody>\n",
       "</table>\n"
      ],
      "text/latex": [
       "\\begin{tabular}{lllll}\n",
       "\t 1  & 3  & 5  & 7  &  9\\\\\n",
       "\t 2  & 4  & 6  & 8  & 10\\\\\n",
       "\\end{tabular}\n"
      ],
      "text/markdown": [
       "\n",
       "| 1  | 3  | 5  | 7  |  9 |\n",
       "| 2  | 4  | 6  | 8  | 10 |\n",
       "\n"
      ],
      "text/plain": [
       "     [,1] [,2] [,3] [,4] [,5]\n",
       "[1,] 1    3    5    7     9  \n",
       "[2,] 2    4    6    8    10  "
      ]
     },
     "metadata": {},
     "output_type": "display_data"
    }
   ],
   "source": [
    "m"
   ]
  },
  {
   "cell_type": "code",
   "execution_count": 61,
   "id": "17180599",
   "metadata": {},
   "outputs": [],
   "source": [
    "rownames(m) <- c(\"row1\", \"row2\")\n",
    "colnames(m) <- paste0('colum', 1:5)"
   ]
  },
  {
   "cell_type": "code",
   "execution_count": 62,
   "id": "df076222",
   "metadata": {},
   "outputs": [
    {
     "data": {
      "text/html": [
       "<table>\n",
       "<thead><tr><th></th><th scope=col>colum1</th><th scope=col>colum2</th><th scope=col>colum3</th><th scope=col>colum4</th><th scope=col>colum5</th></tr></thead>\n",
       "<tbody>\n",
       "\t<tr><th scope=row>row1</th><td>1 </td><td>3 </td><td>5 </td><td>7 </td><td> 9</td></tr>\n",
       "\t<tr><th scope=row>row2</th><td>2 </td><td>4 </td><td>6 </td><td>8 </td><td>10</td></tr>\n",
       "</tbody>\n",
       "</table>\n"
      ],
      "text/latex": [
       "\\begin{tabular}{r|lllll}\n",
       "  & colum1 & colum2 & colum3 & colum4 & colum5\\\\\n",
       "\\hline\n",
       "\trow1 & 1  & 3  & 5  & 7  &  9\\\\\n",
       "\trow2 & 2  & 4  & 6  & 8  & 10\\\\\n",
       "\\end{tabular}\n"
      ],
      "text/markdown": [
       "\n",
       "| <!--/--> | colum1 | colum2 | colum3 | colum4 | colum5 |\n",
       "|---|---|---|---|---|---|\n",
       "| row1 | 1  | 3  | 5  | 7  |  9 |\n",
       "| row2 | 2  | 4  | 6  | 8  | 10 |\n",
       "\n"
      ],
      "text/plain": [
       "     colum1 colum2 colum3 colum4 colum5\n",
       "row1 1      3      5      7       9    \n",
       "row2 2      4      6      8      10    "
      ]
     },
     "metadata": {},
     "output_type": "display_data"
    }
   ],
   "source": [
    "m"
   ]
  },
  {
   "cell_type": "code",
   "execution_count": 93,
   "id": "ea1f5039",
   "metadata": {},
   "outputs": [
    {
     "data": {
      "text/html": [
       "<table>\n",
       "<thead><tr><th></th><th scope=col>colum2</th><th scope=col>colum4</th></tr></thead>\n",
       "<tbody>\n",
       "\t<tr><th scope=row>row1</th><td>3</td><td>7</td></tr>\n",
       "</tbody>\n",
       "</table>\n"
      ],
      "text/latex": [
       "\\begin{tabular}{r|ll}\n",
       "  & colum2 & colum4\\\\\n",
       "\\hline\n",
       "\trow1 & 3 & 7\\\\\n",
       "\\end{tabular}\n"
      ],
      "text/markdown": [
       "\n",
       "| <!--/--> | colum2 | colum4 |\n",
       "|---|---|---|\n",
       "| row1 | 3 | 7 |\n",
       "\n"
      ],
      "text/plain": [
       "     colum2 colum4\n",
       "row1 3      7     "
      ]
     },
     "metadata": {},
     "output_type": "display_data"
    }
   ],
   "source": [
    "m[\"row1\", c(\"colum2\", \"colum4\"), drop = F]"
   ]
  },
  {
   "cell_type": "code",
   "execution_count": 94,
   "id": "5012a66e",
   "metadata": {},
   "outputs": [],
   "source": [
    "# присоединение матриц"
   ]
  },
  {
   "cell_type": "code",
   "execution_count": 101,
   "id": "425293b7",
   "metadata": {},
   "outputs": [
    {
     "data": {
      "text/html": [
       "<table>\n",
       "<thead><tr><th></th><th scope=col>colum1</th><th scope=col>colum2</th><th scope=col>colum3</th><th scope=col>colum4</th><th scope=col>colum5</th><th scope=col>colum1</th><th scope=col>colum2</th><th scope=col>colum3</th><th scope=col>colum4</th><th scope=col>colum5</th></tr></thead>\n",
       "<tbody>\n",
       "\t<tr><th scope=row>row1</th><td>1 </td><td>3 </td><td>5 </td><td>7 </td><td> 9</td><td>1 </td><td>3 </td><td>5 </td><td>7 </td><td> 9</td></tr>\n",
       "\t<tr><th scope=row>row2</th><td>2 </td><td>4 </td><td>6 </td><td>8 </td><td>10</td><td>2 </td><td>4 </td><td>6 </td><td>8 </td><td>10</td></tr>\n",
       "</tbody>\n",
       "</table>\n"
      ],
      "text/latex": [
       "\\begin{tabular}{r|llllllllll}\n",
       "  & colum1 & colum2 & colum3 & colum4 & colum5 & colum1 & colum2 & colum3 & colum4 & colum5\\\\\n",
       "\\hline\n",
       "\trow1 & 1  & 3  & 5  & 7  &  9 & 1  & 3  & 5  & 7  &  9\\\\\n",
       "\trow2 & 2  & 4  & 6  & 8  & 10 & 2  & 4  & 6  & 8  & 10\\\\\n",
       "\\end{tabular}\n"
      ],
      "text/markdown": [
       "\n",
       "| <!--/--> | colum1 | colum2 | colum3 | colum4 | colum5 | colum1 | colum2 | colum3 | colum4 | colum5 |\n",
       "|---|---|---|---|---|---|---|---|---|---|---|\n",
       "| row1 | 1  | 3  | 5  | 7  |  9 | 1  | 3  | 5  | 7  |  9 |\n",
       "| row2 | 2  | 4  | 6  | 8  | 10 | 2  | 4  | 6  | 8  | 10 |\n",
       "\n"
      ],
      "text/plain": [
       "     colum1 colum2 colum3 colum4 colum5 colum1 colum2 colum3 colum4 colum5\n",
       "row1 1      3      5      7       9     1      3      5      7       9    \n",
       "row2 2      4      6      8      10     2      4      6      8      10    "
      ]
     },
     "metadata": {},
     "output_type": "display_data"
    }
   ],
   "source": [
    "cbind(m, m_copy)"
   ]
  },
  {
   "cell_type": "code",
   "execution_count": 102,
   "id": "557be43e",
   "metadata": {},
   "outputs": [
    {
     "data": {
      "text/html": [
       "<table>\n",
       "<thead><tr><th></th><th scope=col>colum1</th><th scope=col>colum2</th><th scope=col>colum3</th><th scope=col>colum4</th><th scope=col>colum5</th></tr></thead>\n",
       "<tbody>\n",
       "\t<tr><th scope=row>row1</th><td>1 </td><td>3 </td><td>5 </td><td>7 </td><td> 9</td></tr>\n",
       "\t<tr><th scope=row>row2</th><td>2 </td><td>4 </td><td>6 </td><td>8 </td><td>10</td></tr>\n",
       "\t<tr><th scope=row>row1</th><td>1 </td><td>3 </td><td>5 </td><td>7 </td><td> 9</td></tr>\n",
       "\t<tr><th scope=row>row2</th><td>2 </td><td>4 </td><td>6 </td><td>8 </td><td>10</td></tr>\n",
       "</tbody>\n",
       "</table>\n"
      ],
      "text/latex": [
       "\\begin{tabular}{r|lllll}\n",
       "  & colum1 & colum2 & colum3 & colum4 & colum5\\\\\n",
       "\\hline\n",
       "\trow1 & 1  & 3  & 5  & 7  &  9\\\\\n",
       "\trow2 & 2  & 4  & 6  & 8  & 10\\\\\n",
       "\trow1 & 1  & 3  & 5  & 7  &  9\\\\\n",
       "\trow2 & 2  & 4  & 6  & 8  & 10\\\\\n",
       "\\end{tabular}\n"
      ],
      "text/markdown": [
       "\n",
       "| <!--/--> | colum1 | colum2 | colum3 | colum4 | colum5 |\n",
       "|---|---|---|---|---|---|\n",
       "| row1 | 1  | 3  | 5  | 7  |  9 |\n",
       "| row2 | 2  | 4  | 6  | 8  | 10 |\n",
       "| row1 | 1  | 3  | 5  | 7  |  9 |\n",
       "| row2 | 2  | 4  | 6  | 8  | 10 |\n",
       "\n"
      ],
      "text/plain": [
       "     colum1 colum2 colum3 colum4 colum5\n",
       "row1 1      3      5      7       9    \n",
       "row2 2      4      6      8      10    \n",
       "row1 1      3      5      7       9    \n",
       "row2 2      4      6      8      10    "
      ]
     },
     "metadata": {},
     "output_type": "display_data"
    }
   ],
   "source": [
    "rbind(m, m_copy)"
   ]
  },
  {
   "cell_type": "code",
   "execution_count": 106,
   "id": "8ba5db59",
   "metadata": {},
   "outputs": [],
   "source": [
    "# ...(ellipsis)"
   ]
  },
  {
   "cell_type": "code",
   "execution_count": 107,
   "id": "46de39ce",
   "metadata": {},
   "outputs": [],
   "source": [
    "# это значит, что в функцию можно передавать неограниченное число объектов"
   ]
  },
  {
   "cell_type": "code",
   "execution_count": 108,
   "id": "562f93a7",
   "metadata": {},
   "outputs": [
    {
     "data": {
      "text/html": [
       "<table>\n",
       "<thead><tr><th></th><th scope=col>colum1</th><th scope=col>colum2</th><th scope=col>colum3</th><th scope=col>colum4</th><th scope=col>colum5</th><th scope=col>colum1</th><th scope=col>colum2</th><th scope=col>colum3</th><th scope=col>colum4</th><th scope=col>colum5</th><th scope=col>...</th><th scope=col>colum1</th><th scope=col>colum2</th><th scope=col>colum3</th><th scope=col>colum4</th><th scope=col>colum5</th><th scope=col>colum1</th><th scope=col>colum2</th><th scope=col>colum3</th><th scope=col>colum4</th><th scope=col>colum5</th></tr></thead>\n",
       "<tbody>\n",
       "\t<tr><th scope=row>row1</th><td>1  </td><td>3  </td><td>5  </td><td>7  </td><td> 9 </td><td>1  </td><td>3  </td><td>5  </td><td>7  </td><td> 9 </td><td>...</td><td>1  </td><td>3  </td><td>5  </td><td>7  </td><td> 9 </td><td>1  </td><td>3  </td><td>5  </td><td>7  </td><td> 9 </td></tr>\n",
       "\t<tr><th scope=row>row2</th><td>2  </td><td>4  </td><td>6  </td><td>8  </td><td>10 </td><td>2  </td><td>4  </td><td>6  </td><td>8  </td><td>10 </td><td>...</td><td>2  </td><td>4  </td><td>6  </td><td>8  </td><td>10 </td><td>2  </td><td>4  </td><td>6  </td><td>8  </td><td>10 </td></tr>\n",
       "</tbody>\n",
       "</table>\n"
      ],
      "text/latex": [
       "\\begin{tabular}{r|llllllllllllllllllllllllllll}\n",
       "  & colum1 & colum2 & colum3 & colum4 & colum5 & colum1 & colum2 & colum3 & colum4 & colum5 & ... & colum1 & colum2 & colum3 & colum4 & colum5 & colum1 & colum2 & colum3 & colum4 & colum5\\\\\n",
       "\\hline\n",
       "\trow1 & 1   & 3   & 5   & 7   &  9  & 1   & 3   & 5   & 7   &  9  & ... & 1   & 3   & 5   & 7   &  9  & 1   & 3   & 5   & 7   &  9 \\\\\n",
       "\trow2 & 2   & 4   & 6   & 8   & 10  & 2   & 4   & 6   & 8   & 10  & ... & 2   & 4   & 6   & 8   & 10  & 2   & 4   & 6   & 8   & 10 \\\\\n",
       "\\end{tabular}\n"
      ],
      "text/markdown": [
       "\n",
       "| <!--/--> | colum1 | colum2 | colum3 | colum4 | colum5 | colum1 | colum2 | colum3 | colum4 | colum5 | ... | colum1 | colum2 | colum3 | colum4 | colum5 | colum1 | colum2 | colum3 | colum4 | colum5 |\n",
       "|---|---|---|---|---|---|---|---|---|---|---|---|---|---|---|---|---|---|---|---|---|---|\n",
       "| row1 | 1   | 3   | 5   | 7   |  9  | 1   | 3   | 5   | 7   |  9  | ... | 1   | 3   | 5   | 7   |  9  | 1   | 3   | 5   | 7   |  9  |\n",
       "| row2 | 2   | 4   | 6   | 8   | 10  | 2   | 4   | 6   | 8   | 10  | ... | 2   | 4   | 6   | 8   | 10  | 2   | 4   | 6   | 8   | 10  |\n",
       "\n"
      ],
      "text/plain": [
       "     colum1 colum2 colum3 colum4 colum5 colum1 colum2 colum3 colum4 colum5 ...\n",
       "row1 1      3      5      7       9     1      3      5      7       9     ...\n",
       "row2 2      4      6      8      10     2      4      6      8      10     ...\n",
       "     colum1 colum2 colum3 colum4 colum5 colum1 colum2 colum3 colum4 colum5\n",
       "row1 1      3      5      7       9     1      3      5      7       9    \n",
       "row2 2      4      6      8      10     2      4      6      8      10    "
      ]
     },
     "metadata": {},
     "output_type": "display_data"
    }
   ],
   "source": [
    "cbind(m, m_copy, 1:2, c(5, 3), m_copy[, 1], m * 3, cbind(m, m_copy))"
   ]
  },
  {
   "cell_type": "code",
   "execution_count": 109,
   "id": "6774634b",
   "metadata": {},
   "outputs": [],
   "source": [
    "# apply"
   ]
  },
  {
   "cell_type": "code",
   "execution_count": 110,
   "id": "4ec0eeb3",
   "metadata": {},
   "outputs": [],
   "source": [
    "f <- function(x) {\n",
    "    sum(x^2)\n",
    "}"
   ]
  },
  {
   "cell_type": "code",
   "execution_count": 112,
   "id": "e287148d",
   "metadata": {},
   "outputs": [],
   "source": [
    "m <- matrix(1:25, 5)"
   ]
  },
  {
   "cell_type": "code",
   "execution_count": 113,
   "id": "a3f40db5",
   "metadata": {},
   "outputs": [
    {
     "data": {
      "text/html": [
       "<table>\n",
       "<tbody>\n",
       "\t<tr><td>1 </td><td> 6</td><td>11</td><td>16</td><td>21</td></tr>\n",
       "\t<tr><td>2 </td><td> 7</td><td>12</td><td>17</td><td>22</td></tr>\n",
       "\t<tr><td>3 </td><td> 8</td><td>13</td><td>18</td><td>23</td></tr>\n",
       "\t<tr><td>4 </td><td> 9</td><td>14</td><td>19</td><td>24</td></tr>\n",
       "\t<tr><td>5 </td><td>10</td><td>15</td><td>20</td><td>25</td></tr>\n",
       "</tbody>\n",
       "</table>\n"
      ],
      "text/latex": [
       "\\begin{tabular}{lllll}\n",
       "\t 1  &  6 & 11 & 16 & 21\\\\\n",
       "\t 2  &  7 & 12 & 17 & 22\\\\\n",
       "\t 3  &  8 & 13 & 18 & 23\\\\\n",
       "\t 4  &  9 & 14 & 19 & 24\\\\\n",
       "\t 5  & 10 & 15 & 20 & 25\\\\\n",
       "\\end{tabular}\n"
      ],
      "text/markdown": [
       "\n",
       "| 1  |  6 | 11 | 16 | 21 |\n",
       "| 2  |  7 | 12 | 17 | 22 |\n",
       "| 3  |  8 | 13 | 18 | 23 |\n",
       "| 4  |  9 | 14 | 19 | 24 |\n",
       "| 5  | 10 | 15 | 20 | 25 |\n",
       "\n"
      ],
      "text/plain": [
       "     [,1] [,2] [,3] [,4] [,5]\n",
       "[1,] 1     6   11   16   21  \n",
       "[2,] 2     7   12   17   22  \n",
       "[3,] 3     8   13   18   23  \n",
       "[4,] 4     9   14   19   24  \n",
       "[5,] 5    10   15   20   25  "
      ]
     },
     "metadata": {},
     "output_type": "display_data"
    }
   ],
   "source": [
    "m"
   ]
  },
  {
   "cell_type": "code",
   "execution_count": 115,
   "id": "8af4dbd4",
   "metadata": {},
   "outputs": [
    {
     "data": {
      "text/html": [
       "<ol class=list-inline>\n",
       "\t<li>855</li>\n",
       "\t<li>970</li>\n",
       "\t<li>1095</li>\n",
       "\t<li>1230</li>\n",
       "\t<li>1375</li>\n",
       "</ol>\n"
      ],
      "text/latex": [
       "\\begin{enumerate*}\n",
       "\\item 855\n",
       "\\item 970\n",
       "\\item 1095\n",
       "\\item 1230\n",
       "\\item 1375\n",
       "\\end{enumerate*}\n"
      ],
      "text/markdown": [
       "1. 855\n",
       "2. 970\n",
       "3. 1095\n",
       "4. 1230\n",
       "5. 1375\n",
       "\n",
       "\n"
      ],
      "text/plain": [
       "[1]  855  970 1095 1230 1375"
      ]
     },
     "metadata": {},
     "output_type": "display_data"
    }
   ],
   "source": [
    "apply(m, 1, f)"
   ]
  },
  {
   "cell_type": "code",
   "execution_count": 117,
   "id": "a963cf03",
   "metadata": {},
   "outputs": [
    {
     "data": {
      "text/html": [
       "<ol class=list-inline>\n",
       "\t<li>55</li>\n",
       "\t<li>330</li>\n",
       "\t<li>855</li>\n",
       "\t<li>1630</li>\n",
       "\t<li>2655</li>\n",
       "</ol>\n"
      ],
      "text/latex": [
       "\\begin{enumerate*}\n",
       "\\item 55\n",
       "\\item 330\n",
       "\\item 855\n",
       "\\item 1630\n",
       "\\item 2655\n",
       "\\end{enumerate*}\n"
      ],
      "text/markdown": [
       "1. 55\n",
       "2. 330\n",
       "3. 855\n",
       "4. 1630\n",
       "5. 2655\n",
       "\n",
       "\n"
      ],
      "text/plain": [
       "[1]   55  330  855 1630 2655"
      ]
     },
     "metadata": {},
     "output_type": "display_data"
    }
   ],
   "source": [
    "apply(m, 2, f)"
   ]
  },
  {
   "cell_type": "code",
   "execution_count": 121,
   "id": "75175a10",
   "metadata": {},
   "outputs": [],
   "source": [
    "# применение функции к каждому элементу"
   ]
  },
  {
   "cell_type": "code",
   "execution_count": 122,
   "id": "32d1f005",
   "metadata": {},
   "outputs": [
    {
     "data": {
      "text/html": [
       "<table>\n",
       "<tbody>\n",
       "\t<tr><td> 1 </td><td> 36</td><td>121</td><td>256</td><td>441</td></tr>\n",
       "\t<tr><td> 4 </td><td> 49</td><td>144</td><td>289</td><td>484</td></tr>\n",
       "\t<tr><td> 9 </td><td> 64</td><td>169</td><td>324</td><td>529</td></tr>\n",
       "\t<tr><td>16 </td><td> 81</td><td>196</td><td>361</td><td>576</td></tr>\n",
       "\t<tr><td>25 </td><td>100</td><td>225</td><td>400</td><td>625</td></tr>\n",
       "</tbody>\n",
       "</table>\n"
      ],
      "text/latex": [
       "\\begin{tabular}{lllll}\n",
       "\t  1  &  36 & 121 & 256 & 441\\\\\n",
       "\t  4  &  49 & 144 & 289 & 484\\\\\n",
       "\t  9  &  64 & 169 & 324 & 529\\\\\n",
       "\t 16  &  81 & 196 & 361 & 576\\\\\n",
       "\t 25  & 100 & 225 & 400 & 625\\\\\n",
       "\\end{tabular}\n"
      ],
      "text/markdown": [
       "\n",
       "|  1  |  36 | 121 | 256 | 441 |\n",
       "|  4  |  49 | 144 | 289 | 484 |\n",
       "|  9  |  64 | 169 | 324 | 529 |\n",
       "| 16  |  81 | 196 | 361 | 576 |\n",
       "| 25  | 100 | 225 | 400 | 625 |\n",
       "\n"
      ],
      "text/plain": [
       "     [,1] [,2] [,3] [,4] [,5]\n",
       "[1,]  1    36  121  256  441 \n",
       "[2,]  4    49  144  289  484 \n",
       "[3,]  9    64  169  324  529 \n",
       "[4,] 16    81  196  361  576 \n",
       "[5,] 25   100  225  400  625 "
      ]
     },
     "metadata": {},
     "output_type": "display_data"
    }
   ],
   "source": [
    "apply(m, 1:2, f)"
   ]
  },
  {
   "cell_type": "code",
   "execution_count": 125,
   "id": "5a82fb2d",
   "metadata": {},
   "outputs": [
    {
     "data": {
      "text/html": [
       "<table>\n",
       "<tbody>\n",
       "\t<tr><td>13</td><td>13</td><td>13</td><td>16</td><td>21</td></tr>\n",
       "\t<tr><td>13</td><td>13</td><td>13</td><td>17</td><td>22</td></tr>\n",
       "\t<tr><td>13</td><td>13</td><td>13</td><td>18</td><td>23</td></tr>\n",
       "\t<tr><td>13</td><td>13</td><td>14</td><td>19</td><td>24</td></tr>\n",
       "\t<tr><td>13</td><td>13</td><td>15</td><td>20</td><td>25</td></tr>\n",
       "</tbody>\n",
       "</table>\n"
      ],
      "text/latex": [
       "\\begin{tabular}{lllll}\n",
       "\t 13 & 13 & 13 & 16 & 21\\\\\n",
       "\t 13 & 13 & 13 & 17 & 22\\\\\n",
       "\t 13 & 13 & 13 & 18 & 23\\\\\n",
       "\t 13 & 13 & 14 & 19 & 24\\\\\n",
       "\t 13 & 13 & 15 & 20 & 25\\\\\n",
       "\\end{tabular}\n"
      ],
      "text/markdown": [
       "\n",
       "| 13 | 13 | 13 | 16 | 21 |\n",
       "| 13 | 13 | 13 | 17 | 22 |\n",
       "| 13 | 13 | 13 | 18 | 23 |\n",
       "| 13 | 13 | 14 | 19 | 24 |\n",
       "| 13 | 13 | 15 | 20 | 25 |\n",
       "\n"
      ],
      "text/plain": [
       "     [,1] [,2] [,3] [,4] [,5]\n",
       "[1,] 13   13   13   16   21  \n",
       "[2,] 13   13   13   17   22  \n",
       "[3,] 13   13   13   18   23  \n",
       "[4,] 13   13   14   19   24  \n",
       "[5,] 13   13   15   20   25  "
      ]
     },
     "metadata": {},
     "output_type": "display_data"
    }
   ],
   "source": [
    "apply(m, 1:2, function(i) if (i > 13) i else 13)"
   ]
  },
  {
   "cell_type": "code",
   "execution_count": 127,
   "id": "796a9455",
   "metadata": {},
   "outputs": [
    {
     "data": {
      "text/html": [
       "<table>\n",
       "<tbody>\n",
       "\t<tr><td>13</td><td>13</td><td>13</td><td>16</td><td>21</td></tr>\n",
       "\t<tr><td>13</td><td>13</td><td>13</td><td>17</td><td>22</td></tr>\n",
       "\t<tr><td>13</td><td>13</td><td>13</td><td>18</td><td>23</td></tr>\n",
       "\t<tr><td>13</td><td>13</td><td>14</td><td>19</td><td>24</td></tr>\n",
       "\t<tr><td>13</td><td>13</td><td>15</td><td>20</td><td>25</td></tr>\n",
       "</tbody>\n",
       "</table>\n"
      ],
      "text/latex": [
       "\\begin{tabular}{lllll}\n",
       "\t 13 & 13 & 13 & 16 & 21\\\\\n",
       "\t 13 & 13 & 13 & 17 & 22\\\\\n",
       "\t 13 & 13 & 13 & 18 & 23\\\\\n",
       "\t 13 & 13 & 14 & 19 & 24\\\\\n",
       "\t 13 & 13 & 15 & 20 & 25\\\\\n",
       "\\end{tabular}\n"
      ],
      "text/markdown": [
       "\n",
       "| 13 | 13 | 13 | 16 | 21 |\n",
       "| 13 | 13 | 13 | 17 | 22 |\n",
       "| 13 | 13 | 13 | 18 | 23 |\n",
       "| 13 | 13 | 14 | 19 | 24 |\n",
       "| 13 | 13 | 15 | 20 | 25 |\n",
       "\n"
      ],
      "text/plain": [
       "     [,1] [,2] [,3] [,4] [,5]\n",
       "[1,] 13   13   13   16   21  \n",
       "[2,] 13   13   13   17   22  \n",
       "[3,] 13   13   13   18   23  \n",
       "[4,] 13   13   14   19   24  \n",
       "[5,] 13   13   15   20   25  "
      ]
     },
     "metadata": {},
     "output_type": "display_data"
    }
   ],
   "source": [
    "# то же самое при помощи логического индексирования\n",
    "m[m <= 13] <- 13;m"
   ]
  },
  {
   "cell_type": "code",
   "execution_count": 128,
   "id": "85892b21",
   "metadata": {},
   "outputs": [],
   "source": [
    "# наиболее частые операции"
   ]
  },
  {
   "cell_type": "code",
   "execution_count": 130,
   "id": "d8f5a6ae",
   "metadata": {},
   "outputs": [],
   "source": [
    "m <- matrix(1:25, 5)"
   ]
  },
  {
   "cell_type": "code",
   "execution_count": 131,
   "id": "17b75a31",
   "metadata": {},
   "outputs": [
    {
     "data": {
      "text/html": [
       "<table>\n",
       "<tbody>\n",
       "\t<tr><td>1 </td><td> 6</td><td>11</td><td>16</td><td>21</td></tr>\n",
       "\t<tr><td>2 </td><td> 7</td><td>12</td><td>17</td><td>22</td></tr>\n",
       "\t<tr><td>3 </td><td> 8</td><td>13</td><td>18</td><td>23</td></tr>\n",
       "\t<tr><td>4 </td><td> 9</td><td>14</td><td>19</td><td>24</td></tr>\n",
       "\t<tr><td>5 </td><td>10</td><td>15</td><td>20</td><td>25</td></tr>\n",
       "</tbody>\n",
       "</table>\n"
      ],
      "text/latex": [
       "\\begin{tabular}{lllll}\n",
       "\t 1  &  6 & 11 & 16 & 21\\\\\n",
       "\t 2  &  7 & 12 & 17 & 22\\\\\n",
       "\t 3  &  8 & 13 & 18 & 23\\\\\n",
       "\t 4  &  9 & 14 & 19 & 24\\\\\n",
       "\t 5  & 10 & 15 & 20 & 25\\\\\n",
       "\\end{tabular}\n"
      ],
      "text/markdown": [
       "\n",
       "| 1  |  6 | 11 | 16 | 21 |\n",
       "| 2  |  7 | 12 | 17 | 22 |\n",
       "| 3  |  8 | 13 | 18 | 23 |\n",
       "| 4  |  9 | 14 | 19 | 24 |\n",
       "| 5  | 10 | 15 | 20 | 25 |\n",
       "\n"
      ],
      "text/plain": [
       "     [,1] [,2] [,3] [,4] [,5]\n",
       "[1,] 1     6   11   16   21  \n",
       "[2,] 2     7   12   17   22  \n",
       "[3,] 3     8   13   18   23  \n",
       "[4,] 4     9   14   19   24  \n",
       "[5,] 5    10   15   20   25  "
      ]
     },
     "metadata": {},
     "output_type": "display_data"
    }
   ],
   "source": [
    "m"
   ]
  },
  {
   "cell_type": "code",
   "execution_count": 136,
   "id": "e6008227",
   "metadata": {},
   "outputs": [
    {
     "data": {
      "text/html": [
       "<ol class=list-inline>\n",
       "\t<li>55</li>\n",
       "\t<li>60</li>\n",
       "\t<li>65</li>\n",
       "\t<li>70</li>\n",
       "\t<li>75</li>\n",
       "</ol>\n"
      ],
      "text/latex": [
       "\\begin{enumerate*}\n",
       "\\item 55\n",
       "\\item 60\n",
       "\\item 65\n",
       "\\item 70\n",
       "\\item 75\n",
       "\\end{enumerate*}\n"
      ],
      "text/markdown": [
       "1. 55\n",
       "2. 60\n",
       "3. 65\n",
       "4. 70\n",
       "5. 75\n",
       "\n",
       "\n"
      ],
      "text/plain": [
       "[1] 55 60 65 70 75"
      ]
     },
     "metadata": {},
     "output_type": "display_data"
    }
   ],
   "source": [
    "rowSums(m)"
   ]
  },
  {
   "cell_type": "code",
   "execution_count": 137,
   "id": "9c9c3035",
   "metadata": {},
   "outputs": [
    {
     "data": {
      "text/html": [
       "<ol class=list-inline>\n",
       "\t<li>15</li>\n",
       "\t<li>40</li>\n",
       "\t<li>65</li>\n",
       "\t<li>90</li>\n",
       "\t<li>115</li>\n",
       "</ol>\n"
      ],
      "text/latex": [
       "\\begin{enumerate*}\n",
       "\\item 15\n",
       "\\item 40\n",
       "\\item 65\n",
       "\\item 90\n",
       "\\item 115\n",
       "\\end{enumerate*}\n"
      ],
      "text/markdown": [
       "1. 15\n",
       "2. 40\n",
       "3. 65\n",
       "4. 90\n",
       "5. 115\n",
       "\n",
       "\n"
      ],
      "text/plain": [
       "[1]  15  40  65  90 115"
      ]
     },
     "metadata": {},
     "output_type": "display_data"
    }
   ],
   "source": [
    "colSums(m)"
   ]
  },
  {
   "cell_type": "code",
   "execution_count": 138,
   "id": "e96f6917",
   "metadata": {},
   "outputs": [
    {
     "data": {
      "text/html": [
       "<ol class=list-inline>\n",
       "\t<li>11</li>\n",
       "\t<li>12</li>\n",
       "\t<li>13</li>\n",
       "\t<li>14</li>\n",
       "\t<li>15</li>\n",
       "</ol>\n"
      ],
      "text/latex": [
       "\\begin{enumerate*}\n",
       "\\item 11\n",
       "\\item 12\n",
       "\\item 13\n",
       "\\item 14\n",
       "\\item 15\n",
       "\\end{enumerate*}\n"
      ],
      "text/markdown": [
       "1. 11\n",
       "2. 12\n",
       "3. 13\n",
       "4. 14\n",
       "5. 15\n",
       "\n",
       "\n"
      ],
      "text/plain": [
       "[1] 11 12 13 14 15"
      ]
     },
     "metadata": {},
     "output_type": "display_data"
    }
   ],
   "source": [
    "rowMeans(m)"
   ]
  },
  {
   "cell_type": "code",
   "execution_count": 139,
   "id": "6beb7247",
   "metadata": {},
   "outputs": [
    {
     "data": {
      "text/html": [
       "TRUE"
      ],
      "text/latex": [
       "TRUE"
      ],
      "text/markdown": [
       "TRUE"
      ],
      "text/plain": [
       "[1] TRUE"
      ]
     },
     "metadata": {},
     "output_type": "display_data"
    }
   ],
   "source": [
    "all.equal(rowSums(m), apply(m, 1, sum))"
   ]
  },
  {
   "cell_type": "code",
   "execution_count": 141,
   "id": "6a0eed1e",
   "metadata": {},
   "outputs": [
    {
     "data": {
      "text/html": [
       "TRUE"
      ],
      "text/latex": [
       "TRUE"
      ],
      "text/markdown": [
       "TRUE"
      ],
      "text/plain": [
       "[1] TRUE"
      ]
     },
     "metadata": {},
     "output_type": "display_data"
    }
   ],
   "source": [
    "all.equal(rowMeans(m), apply(m, 1, mean))"
   ]
  },
  {
   "cell_type": "code",
   "execution_count": 146,
   "id": "d313994f",
   "metadata": {},
   "outputs": [
    {
     "data": {
      "text/html": [
       "25"
      ],
      "text/latex": [
       "25"
      ],
      "text/markdown": [
       "25"
      ],
      "text/plain": [
       "[1] 25"
      ]
     },
     "metadata": {},
     "output_type": "display_data"
    }
   ],
   "source": [
    "m[5, 5]"
   ]
  },
  {
   "cell_type": "code",
   "execution_count": 148,
   "id": "2ce8961c",
   "metadata": {},
   "outputs": [
    {
     "data": {
      "text/html": [
       "4"
      ],
      "text/latex": [
       "4"
      ],
      "text/markdown": [
       "4"
      ],
      "text/plain": [
       "[1] 4"
      ]
     },
     "metadata": {},
     "output_type": "display_data"
    }
   ],
   "source": [
    "m1[2, 2]"
   ]
  },
  {
   "cell_type": "code",
   "execution_count": 216,
   "id": "af09abd6",
   "metadata": {},
   "outputs": [],
   "source": [
    "find_closest <- function(v, n) {\n",
    "    x <- abs(v - n)\n",
    "    which(x == min(x))\n",
    "\n",
    "}"
   ]
  },
  {
   "cell_type": "code",
   "execution_count": 217,
   "id": "4e0590d9",
   "metadata": {},
   "outputs": [
    {
     "data": {
      "text/html": [
       "<ol class=list-inline>\n",
       "\t<li>1</li>\n",
       "\t<li>1</li>\n",
       "\t<li>1</li>\n",
       "\t<li>1</li>\n",
       "\t<li>2</li>\n",
       "\t<li>3</li>\n",
       "\t<li>4</li>\n",
       "\t<li>5</li>\n",
       "</ol>\n"
      ],
      "text/latex": [
       "\\begin{enumerate*}\n",
       "\\item 1\n",
       "\\item 1\n",
       "\\item 1\n",
       "\\item 1\n",
       "\\item 2\n",
       "\\item 3\n",
       "\\item 4\n",
       "\\item 5\n",
       "\\end{enumerate*}\n"
      ],
      "text/markdown": [
       "1. 1\n",
       "2. 1\n",
       "3. 1\n",
       "4. 1\n",
       "5. 2\n",
       "6. 3\n",
       "7. 4\n",
       "8. 5\n",
       "\n",
       "\n"
      ],
      "text/plain": [
       "[1] 1 1 1 1 2 3 4 5"
      ]
     },
     "metadata": {},
     "output_type": "display_data"
    }
   ],
   "source": [
    "v <- c(1, 1, 1, 1, 2, 3, 4, 5);v"
   ]
  },
  {
   "cell_type": "code",
   "execution_count": 218,
   "id": "d9520e10",
   "metadata": {},
   "outputs": [],
   "source": [
    "n <- 1"
   ]
  },
  {
   "cell_type": "code",
   "execution_count": 219,
   "id": "7377ac43",
   "metadata": {},
   "outputs": [
    {
     "data": {
      "text/html": [
       "<ol class=list-inline>\n",
       "\t<li>1</li>\n",
       "\t<li>2</li>\n",
       "\t<li>3</li>\n",
       "\t<li>4</li>\n",
       "</ol>\n"
      ],
      "text/latex": [
       "\\begin{enumerate*}\n",
       "\\item 1\n",
       "\\item 2\n",
       "\\item 3\n",
       "\\item 4\n",
       "\\end{enumerate*}\n"
      ],
      "text/markdown": [
       "1. 1\n",
       "2. 2\n",
       "3. 3\n",
       "4. 4\n",
       "\n",
       "\n"
      ],
      "text/plain": [
       "[1] 1 2 3 4"
      ]
     },
     "metadata": {},
     "output_type": "display_data"
    }
   ],
   "source": [
    "find_closest(v, n)"
   ]
  },
  {
   "cell_type": "code",
   "execution_count": 211,
   "id": "99021196",
   "metadata": {},
   "outputs": [
    {
     "data": {
      "text/html": [
       "0"
      ],
      "text/latex": [
       "0"
      ],
      "text/markdown": [
       "0"
      ],
      "text/plain": [
       "[1] 0"
      ]
     },
     "metadata": {},
     "output_type": "display_data"
    }
   ],
   "source": [
    "min(abs(v - 1))"
   ]
  },
  {
   "cell_type": "code",
   "execution_count": 205,
   "id": "1c5071de",
   "metadata": {},
   "outputs": [
    {
     "data": {
      "text/html": [
       "0"
      ],
      "text/latex": [
       "0"
      ],
      "text/markdown": [
       "0"
      ],
      "text/plain": [
       "[1] 0"
      ]
     },
     "metadata": {},
     "output_type": "display_data"
    }
   ],
   "source": [
    "min(abs(v -1))"
   ]
  },
  {
   "cell_type": "code",
   "execution_count": 215,
   "id": "4d12170d",
   "metadata": {},
   "outputs": [
    {
     "data": {
      "text/html": [
       "<ol class=list-inline>\n",
       "\t<li>1</li>\n",
       "\t<li>2</li>\n",
       "\t<li>3</li>\n",
       "\t<li>4</li>\n",
       "</ol>\n"
      ],
      "text/latex": [
       "\\begin{enumerate*}\n",
       "\\item 1\n",
       "\\item 2\n",
       "\\item 3\n",
       "\\item 4\n",
       "\\end{enumerate*}\n"
      ],
      "text/markdown": [
       "1. 1\n",
       "2. 2\n",
       "3. 3\n",
       "4. 4\n",
       "\n",
       "\n"
      ],
      "text/plain": [
       "[1] 1 2 3 4"
      ]
     },
     "metadata": {},
     "output_type": "display_data"
    }
   ],
   "source": [
    "which(v == min(v))"
   ]
  },
  {
   "cell_type": "code",
   "execution_count": 2,
   "id": "3c5ef971",
   "metadata": {},
   "outputs": [],
   "source": [
    "# bind matrices diagonally\n",
    "bind_diag <- function(m1, m2, fill) {\n",
    "    m3 <- matrix(fill, nrow = nrow(m1) + nrow(m2),\n",
    "                ncol = ncol(m1) + ncol(m2))\n",
    "    m3[1:nrow(m1), 1:ncol(m1)] <- m1\n",
    "    m3[nrow(m1) + 1:nrow(m2), ncol(m1) + 1:ncol(m2)] <- m2\n",
    "    m3\n",
    "}"
   ]
  },
  {
   "cell_type": "code",
   "execution_count": 3,
   "id": "1d1da2a8",
   "metadata": {},
   "outputs": [],
   "source": [
    "m1 <- matrix(1:12, nrow = 3)\n",
    "m2 <- matrix(10:15, ncol = 3)"
   ]
  },
  {
   "cell_type": "code",
   "execution_count": 4,
   "id": "82ae1a7d",
   "metadata": {},
   "outputs": [
    {
     "data": {
      "text/html": [
       "<table>\n",
       "<tbody>\n",
       "\t<tr><td>1 </td><td>4 </td><td>7 </td><td>10</td></tr>\n",
       "\t<tr><td>2 </td><td>5 </td><td>8 </td><td>11</td></tr>\n",
       "\t<tr><td>3 </td><td>6 </td><td>9 </td><td>12</td></tr>\n",
       "</tbody>\n",
       "</table>\n"
      ],
      "text/latex": [
       "\\begin{tabular}{llll}\n",
       "\t 1  & 4  & 7  & 10\\\\\n",
       "\t 2  & 5  & 8  & 11\\\\\n",
       "\t 3  & 6  & 9  & 12\\\\\n",
       "\\end{tabular}\n"
      ],
      "text/markdown": [
       "\n",
       "| 1  | 4  | 7  | 10 |\n",
       "| 2  | 5  | 8  | 11 |\n",
       "| 3  | 6  | 9  | 12 |\n",
       "\n"
      ],
      "text/plain": [
       "     [,1] [,2] [,3] [,4]\n",
       "[1,] 1    4    7    10  \n",
       "[2,] 2    5    8    11  \n",
       "[3,] 3    6    9    12  "
      ]
     },
     "metadata": {},
     "output_type": "display_data"
    }
   ],
   "source": [
    "m1"
   ]
  },
  {
   "cell_type": "code",
   "execution_count": 5,
   "id": "a2a42593",
   "metadata": {},
   "outputs": [
    {
     "data": {
      "text/html": [
       "<table>\n",
       "<tbody>\n",
       "\t<tr><td>10</td><td>12</td><td>14</td></tr>\n",
       "\t<tr><td>11</td><td>13</td><td>15</td></tr>\n",
       "</tbody>\n",
       "</table>\n"
      ],
      "text/latex": [
       "\\begin{tabular}{lll}\n",
       "\t 10 & 12 & 14\\\\\n",
       "\t 11 & 13 & 15\\\\\n",
       "\\end{tabular}\n"
      ],
      "text/markdown": [
       "\n",
       "| 10 | 12 | 14 |\n",
       "| 11 | 13 | 15 |\n",
       "\n"
      ],
      "text/plain": [
       "     [,1] [,2] [,3]\n",
       "[1,] 10   12   14  \n",
       "[2,] 11   13   15  "
      ]
     },
     "metadata": {},
     "output_type": "display_data"
    }
   ],
   "source": [
    "m2"
   ]
  },
  {
   "cell_type": "code",
   "execution_count": 27,
   "id": "e0a49333",
   "metadata": {},
   "outputs": [
    {
     "data": {
      "text/html": [
       "<table>\n",
       "<tbody>\n",
       "\t<tr><td> 1</td><td> 4</td><td> 7</td><td>10</td><td>NA</td><td>NA</td><td>NA</td></tr>\n",
       "\t<tr><td> 2</td><td> 5</td><td> 8</td><td>11</td><td>NA</td><td>NA</td><td>NA</td></tr>\n",
       "\t<tr><td> 3</td><td> 6</td><td> 9</td><td>12</td><td>NA</td><td>NA</td><td>NA</td></tr>\n",
       "\t<tr><td>NA</td><td>NA</td><td>NA</td><td>NA</td><td>10</td><td>12</td><td>14</td></tr>\n",
       "\t<tr><td>NA</td><td>NA</td><td>NA</td><td>NA</td><td>11</td><td>13</td><td>15</td></tr>\n",
       "</tbody>\n",
       "</table>\n"
      ],
      "text/latex": [
       "\\begin{tabular}{lllllll}\n",
       "\t  1 &  4 &  7 & 10 & NA & NA & NA\\\\\n",
       "\t  2 &  5 &  8 & 11 & NA & NA & NA\\\\\n",
       "\t  3 &  6 &  9 & 12 & NA & NA & NA\\\\\n",
       "\t NA & NA & NA & NA & 10 & 12 & 14\\\\\n",
       "\t NA & NA & NA & NA & 11 & 13 & 15\\\\\n",
       "\\end{tabular}\n"
      ],
      "text/markdown": [
       "\n",
       "|  1 |  4 |  7 | 10 | NA | NA | NA |\n",
       "|  2 |  5 |  8 | 11 | NA | NA | NA |\n",
       "|  3 |  6 |  9 | 12 | NA | NA | NA |\n",
       "| NA | NA | NA | NA | 10 | 12 | 14 |\n",
       "| NA | NA | NA | NA | 11 | 13 | 15 |\n",
       "\n"
      ],
      "text/plain": [
       "     [,1] [,2] [,3] [,4] [,5] [,6] [,7]\n",
       "[1,]  1    4    7   10   NA   NA   NA  \n",
       "[2,]  2    5    8   11   NA   NA   NA  \n",
       "[3,]  3    6    9   12   NA   NA   NA  \n",
       "[4,] NA   NA   NA   NA   10   12   14  \n",
       "[5,] NA   NA   NA   NA   11   13   15  "
      ]
     },
     "metadata": {},
     "output_type": "display_data"
    }
   ],
   "source": [
    "bind_diag(m1, m2, fill = NA)"
   ]
  },
  {
   "cell_type": "code",
   "execution_count": 209,
   "id": "274507cd",
   "metadata": {},
   "outputs": [],
   "source": [
    "build_ziggurat <- function(n) {\n",
    "    fill = 1\n",
    "    x <- matrix(fill, nrow = n + (n-1), ncol = n + (n - 1))\n",
    "    if (n > 1) {\n",
    "        for (i in 1:(n-1)) {\n",
    "            x[i:(nrow(x)-(i-1)), i:(ncol(x)-(i-1))] <- i\n",
    "            x[n,n] <- n\n",
    "        }\n",
    "    }else {\n",
    "        x\n",
    "    }\n",
    "    x\n",
    "}"
   ]
  },
  {
   "cell_type": "code",
   "execution_count": 212,
   "id": "5ab32cea",
   "metadata": {},
   "outputs": [
    {
     "data": {
      "text/plain": [
       "   user  system elapsed \n",
       " 10.222   0.835  11.058 "
      ]
     },
     "metadata": {},
     "output_type": "display_data"
    }
   ],
   "source": [
    "system.time(build_ziggurat(1000))"
   ]
  },
  {
   "cell_type": "code",
   "execution_count": 185,
   "id": "7d8584e6",
   "metadata": {},
   "outputs": [
    {
     "data": {
      "text/html": [
       "<table>\n",
       "<tbody>\n",
       "\t<tr><td>1</td><td>1</td><td>1</td><td>1</td><td>1</td><td>1</td><td>1</td></tr>\n",
       "\t<tr><td>1</td><td>2</td><td>2</td><td>2</td><td>2</td><td>2</td><td>1</td></tr>\n",
       "\t<tr><td>1</td><td>3</td><td>3</td><td>3</td><td>3</td><td>2</td><td>1</td></tr>\n",
       "\t<tr><td>1</td><td>3</td><td>3</td><td>4</td><td>3</td><td>2</td><td>1</td></tr>\n",
       "\t<tr><td>1</td><td>3</td><td>3</td><td>3</td><td>3</td><td>2</td><td>1</td></tr>\n",
       "\t<tr><td>1</td><td>2</td><td>2</td><td>2</td><td>2</td><td>2</td><td>1</td></tr>\n",
       "\t<tr><td>1</td><td>1</td><td>1</td><td>1</td><td>1</td><td>1</td><td>1</td></tr>\n",
       "</tbody>\n",
       "</table>\n"
      ],
      "text/latex": [
       "\\begin{tabular}{lllllll}\n",
       "\t 1 & 1 & 1 & 1 & 1 & 1 & 1\\\\\n",
       "\t 1 & 2 & 2 & 2 & 2 & 2 & 1\\\\\n",
       "\t 1 & 3 & 3 & 3 & 3 & 2 & 1\\\\\n",
       "\t 1 & 3 & 3 & 4 & 3 & 2 & 1\\\\\n",
       "\t 1 & 3 & 3 & 3 & 3 & 2 & 1\\\\\n",
       "\t 1 & 2 & 2 & 2 & 2 & 2 & 1\\\\\n",
       "\t 1 & 1 & 1 & 1 & 1 & 1 & 1\\\\\n",
       "\\end{tabular}\n"
      ],
      "text/markdown": [
       "\n",
       "| 1 | 1 | 1 | 1 | 1 | 1 | 1 |\n",
       "| 1 | 2 | 2 | 2 | 2 | 2 | 1 |\n",
       "| 1 | 3 | 3 | 3 | 3 | 2 | 1 |\n",
       "| 1 | 3 | 3 | 4 | 3 | 2 | 1 |\n",
       "| 1 | 3 | 3 | 3 | 3 | 2 | 1 |\n",
       "| 1 | 2 | 2 | 2 | 2 | 2 | 1 |\n",
       "| 1 | 1 | 1 | 1 | 1 | 1 | 1 |\n",
       "\n"
      ],
      "text/plain": [
       "     [,1] [,2] [,3] [,4] [,5] [,6] [,7]\n",
       "[1,] 1    1    1    1    1    1    1   \n",
       "[2,] 1    2    2    2    2    2    1   \n",
       "[3,] 1    3    3    3    3    2    1   \n",
       "[4,] 1    3    3    4    3    2    1   \n",
       "[5,] 1    3    3    3    3    2    1   \n",
       "[6,] 1    2    2    2    2    2    1   \n",
       "[7,] 1    1    1    1    1    1    1   "
      ]
     },
     "metadata": {},
     "output_type": "display_data"
    }
   ],
   "source": [
    "x"
   ]
  },
  {
   "cell_type": "code",
   "execution_count": 213,
   "id": "18af51a6",
   "metadata": {},
   "outputs": [
    {
     "data": {
      "text/html": [
       "6"
      ],
      "text/latex": [
       "6"
      ],
      "text/markdown": [
       "6"
      ],
      "text/plain": [
       "[1] 6"
      ]
     },
     "metadata": {},
     "output_type": "display_data"
    }
   ],
   "source": [
    "3 + 3"
   ]
  },
  {
   "cell_type": "code",
   "execution_count": 214,
   "id": "24a35e81",
   "metadata": {},
   "outputs": [],
   "source": [
    "# list"
   ]
  },
  {
   "cell_type": "code",
   "execution_count": 227,
   "id": "d76e03f7",
   "metadata": {},
   "outputs": [
    {
     "data": {
      "text/html": [
       "<ol>\n",
       "\t<li><ol class=list-inline>\n",
       "\t<li>1</li>\n",
       "\t<li>2</li>\n",
       "\t<li>3</li>\n",
       "\t<li>4</li>\n",
       "\t<li>5</li>\n",
       "</ol>\n",
       "</li>\n",
       "</ol>\n"
      ],
      "text/latex": [
       "\\begin{enumerate}\n",
       "\\item \\begin{enumerate*}\n",
       "\\item 1\n",
       "\\item 2\n",
       "\\item 3\n",
       "\\item 4\n",
       "\\item 5\n",
       "\\end{enumerate*}\n",
       "\n",
       "\\end{enumerate}\n"
      ],
      "text/markdown": [
       "1. 1. 1\n",
       "2. 2\n",
       "3. 3\n",
       "4. 4\n",
       "5. 5\n",
       "\n",
       "\n",
       "\n",
       "\n",
       "\n"
      ],
      "text/plain": [
       "[[1]]\n",
       "[1] 1 2 3 4 5\n"
      ]
     },
     "metadata": {},
     "output_type": "display_data"
    }
   ],
   "source": [
    "list(1:5, \"my date\", matrix(0, 2, 2))[1]"
   ]
  },
  {
   "cell_type": "code",
   "execution_count": 228,
   "id": "1ba2916c",
   "metadata": {},
   "outputs": [
    {
     "data": {
      "text/html": [
       "<dl>\n",
       "\t<dt>$a</dt>\n",
       "\t\t<dd>1</dd>\n",
       "\t<dt>$b</dt>\n",
       "\t\t<dd><ol class=list-inline>\n",
       "\t<li>1</li>\n",
       "\t<li>2</li>\n",
       "\t<li>3</li>\n",
       "</ol>\n",
       "</dd>\n",
       "\t<dt>$`1to5`</dt>\n",
       "\t\t<dd><ol class=list-inline>\n",
       "\t<li>1</li>\n",
       "\t<li>2</li>\n",
       "\t<li>3</li>\n",
       "\t<li>4</li>\n",
       "\t<li>5</li>\n",
       "</ol>\n",
       "</dd>\n",
       "\t<dt>[[4]]</dt>\n",
       "\t\t<dd>42</dd>\n",
       "</dl>\n"
      ],
      "text/latex": [
       "\\begin{description}\n",
       "\\item[\\$a] 1\n",
       "\\item[\\$b] \\begin{enumerate*}\n",
       "\\item 1\n",
       "\\item 2\n",
       "\\item 3\n",
       "\\end{enumerate*}\n",
       "\n",
       "\\item[\\$`1to5`] \\begin{enumerate*}\n",
       "\\item 1\n",
       "\\item 2\n",
       "\\item 3\n",
       "\\item 4\n",
       "\\item 5\n",
       "\\end{enumerate*}\n",
       "\n",
       "\\item[{[[4]]}] 42\n",
       "\\end{description}\n"
      ],
      "text/markdown": [
       "$a\n",
       ":   1\n",
       "$b\n",
       ":   1. 1\n",
       "2. 2\n",
       "3. 3\n",
       "\n",
       "\n",
       "\n",
       "$`1to5`\n",
       ":   1. 1\n",
       "2. 2\n",
       "3. 3\n",
       "4. 4\n",
       "5. 5\n",
       "\n",
       "\n",
       "\n",
       "[[4]]\n",
       ":   42\n",
       "\n",
       "\n"
      ],
      "text/plain": [
       "$a\n",
       "[1] 1\n",
       "\n",
       "$b\n",
       "[1] 1 2 3\n",
       "\n",
       "$`1to5`\n",
       "[1] 1 2 3 4 5\n",
       "\n",
       "[[4]]\n",
       "[1] 42\n"
      ]
     },
     "metadata": {},
     "output_type": "display_data"
    }
   ],
   "source": [
    "# список с именами\n",
    "list(a =1, b = 1:3, \"1to5\" = 1:5, 42)"
   ]
  },
  {
   "cell_type": "code",
   "execution_count": 229,
   "id": "1c9f8ebd",
   "metadata": {},
   "outputs": [
    {
     "data": {
      "text/html": [
       "<dl>\n",
       "\t<dt>$a</dt>\n",
       "\t\t<dd><ol>\n",
       "\t<li>1</li>\n",
       "\t<li>2</li>\n",
       "\t<li>3</li>\n",
       "</ol>\n",
       "</dd>\n",
       "\t<dt>$b</dt>\n",
       "\t\t<dd><ol>\n",
       "\t<li><ol>\n",
       "\t<li>4</li>\n",
       "</ol>\n",
       "</li>\n",
       "\t<li>5</li>\n",
       "\t<li>6</li>\n",
       "</ol>\n",
       "</dd>\n",
       "</dl>\n"
      ],
      "text/latex": [
       "\\begin{description}\n",
       "\\item[\\$a] \\begin{enumerate}\n",
       "\\item 1\n",
       "\\item 2\n",
       "\\item 3\n",
       "\\end{enumerate}\n",
       "\n",
       "\\item[\\$b] \\begin{enumerate}\n",
       "\\item \\begin{enumerate}\n",
       "\\item 4\n",
       "\\end{enumerate}\n",
       "\n",
       "\\item 5\n",
       "\\item 6\n",
       "\\end{enumerate}\n",
       "\n",
       "\\end{description}\n"
      ],
      "text/markdown": [
       "$a\n",
       ":   1. 1\n",
       "2. 2\n",
       "3. 3\n",
       "\n",
       "\n",
       "\n",
       "$b\n",
       ":   1. 1. 4\n",
       "\n",
       "\n",
       "\n",
       "2. 5\n",
       "3. 6\n",
       "\n",
       "\n",
       "\n",
       "\n",
       "\n"
      ],
      "text/plain": [
       "$a\n",
       "$a[[1]]\n",
       "[1] 1\n",
       "\n",
       "$a[[2]]\n",
       "[1] 2\n",
       "\n",
       "$a[[3]]\n",
       "[1] 3\n",
       "\n",
       "\n",
       "$b\n",
       "$b[[1]]\n",
       "$b[[1]][[1]]\n",
       "[1] 4\n",
       "\n",
       "\n",
       "$b[[2]]\n",
       "[1] 5\n",
       "\n",
       "$b[[3]]\n",
       "[1] 6\n",
       "\n"
      ]
     },
     "metadata": {},
     "output_type": "display_data"
    }
   ],
   "source": [
    "# элементом списка может быть список\n",
    "list(a = list(1, 2, 3), b = list(list(4), 5, 6))"
   ]
  },
  {
   "cell_type": "code",
   "execution_count": 230,
   "id": "b8b408ab",
   "metadata": {},
   "outputs": [],
   "source": [
    "# конкатенация списков\n",
    "l1 <- list(name = \"john\", salary = 1000)\n",
    "l2 <- list(has_car = T, car = \"lamborgini\")"
   ]
  },
  {
   "cell_type": "code",
   "execution_count": 231,
   "id": "5e8c9ee8",
   "metadata": {},
   "outputs": [
    {
     "data": {
      "text/html": [
       "<dl>\n",
       "\t<dt>$name</dt>\n",
       "\t\t<dd>'john'</dd>\n",
       "\t<dt>$salary</dt>\n",
       "\t\t<dd>1000</dd>\n",
       "</dl>\n"
      ],
      "text/latex": [
       "\\begin{description}\n",
       "\\item[\\$name] 'john'\n",
       "\\item[\\$salary] 1000\n",
       "\\end{description}\n"
      ],
      "text/markdown": [
       "$name\n",
       ":   'john'\n",
       "$salary\n",
       ":   1000\n",
       "\n",
       "\n"
      ],
      "text/plain": [
       "$name\n",
       "[1] \"john\"\n",
       "\n",
       "$salary\n",
       "[1] 1000\n"
      ]
     },
     "metadata": {},
     "output_type": "display_data"
    }
   ],
   "source": [
    "l1"
   ]
  },
  {
   "cell_type": "code",
   "execution_count": 232,
   "id": "6a75c188",
   "metadata": {},
   "outputs": [
    {
     "data": {
      "text/html": [
       "<dl>\n",
       "\t<dt>$has_car</dt>\n",
       "\t\t<dd>TRUE</dd>\n",
       "\t<dt>$car</dt>\n",
       "\t\t<dd>'lamborgini'</dd>\n",
       "</dl>\n"
      ],
      "text/latex": [
       "\\begin{description}\n",
       "\\item[\\$has\\_car] TRUE\n",
       "\\item[\\$car] 'lamborgini'\n",
       "\\end{description}\n"
      ],
      "text/markdown": [
       "$has_car\n",
       ":   TRUE\n",
       "$car\n",
       ":   'lamborgini'\n",
       "\n",
       "\n"
      ],
      "text/plain": [
       "$has_car\n",
       "[1] TRUE\n",
       "\n",
       "$car\n",
       "[1] \"lamborgini\"\n"
      ]
     },
     "metadata": {},
     "output_type": "display_data"
    }
   ],
   "source": [
    "l2"
   ]
  },
  {
   "cell_type": "code",
   "execution_count": 233,
   "id": "085e0e17",
   "metadata": {},
   "outputs": [],
   "source": [
    "# склеивание списков"
   ]
  },
  {
   "cell_type": "code",
   "execution_count": 234,
   "id": "302d20e4",
   "metadata": {},
   "outputs": [
    {
     "data": {
      "text/html": [
       "<dl>\n",
       "\t<dt>$name</dt>\n",
       "\t\t<dd>'john'</dd>\n",
       "\t<dt>$salary</dt>\n",
       "\t\t<dd>1000</dd>\n",
       "\t<dt>$has_car</dt>\n",
       "\t\t<dd>TRUE</dd>\n",
       "\t<dt>$car</dt>\n",
       "\t\t<dd>'lamborgini'</dd>\n",
       "</dl>\n"
      ],
      "text/latex": [
       "\\begin{description}\n",
       "\\item[\\$name] 'john'\n",
       "\\item[\\$salary] 1000\n",
       "\\item[\\$has\\_car] TRUE\n",
       "\\item[\\$car] 'lamborgini'\n",
       "\\end{description}\n"
      ],
      "text/markdown": [
       "$name\n",
       ":   'john'\n",
       "$salary\n",
       ":   1000\n",
       "$has_car\n",
       ":   TRUE\n",
       "$car\n",
       ":   'lamborgini'\n",
       "\n",
       "\n"
      ],
      "text/plain": [
       "$name\n",
       "[1] \"john\"\n",
       "\n",
       "$salary\n",
       "[1] 1000\n",
       "\n",
       "$has_car\n",
       "[1] TRUE\n",
       "\n",
       "$car\n",
       "[1] \"lamborgini\"\n"
      ]
     },
     "metadata": {},
     "output_type": "display_data"
    }
   ],
   "source": [
    "c(l1, l2)"
   ]
  },
  {
   "cell_type": "code",
   "execution_count": 242,
   "id": "6a30466d",
   "metadata": {},
   "outputs": [
    {
     "data": {
      "text/html": [
       "TRUE"
      ],
      "text/latex": [
       "TRUE"
      ],
      "text/markdown": [
       "TRUE"
      ],
      "text/plain": [
       "[1] TRUE"
      ]
     },
     "metadata": {},
     "output_type": "display_data"
    }
   ],
   "source": [
    "#вектор можно привести к списку\n",
    "v <- 1:7\n",
    "is.vector(list(v)[1])"
   ]
  },
  {
   "cell_type": "code",
   "execution_count": 244,
   "id": "7a4e4dde",
   "metadata": {},
   "outputs": [
    {
     "data": {
      "text/html": [
       "TRUE"
      ],
      "text/latex": [
       "TRUE"
      ],
      "text/markdown": [
       "TRUE"
      ],
      "text/plain": [
       "[1] TRUE"
      ]
     },
     "metadata": {},
     "output_type": "display_data"
    }
   ],
   "source": [
    "is.list(list(v))"
   ]
  },
  {
   "cell_type": "code",
   "execution_count": 245,
   "id": "8afdeb54",
   "metadata": {},
   "outputs": [],
   "source": [
    "# конверсия в обратную сторону осмысленна не вссегда "
   ]
  },
  {
   "cell_type": "code",
   "execution_count": 246,
   "id": "b221c1d9",
   "metadata": {},
   "outputs": [],
   "source": [
    "# но если она осмысленна, то есть unlist"
   ]
  },
  {
   "cell_type": "code",
   "execution_count": 256,
   "id": "2031c0ca",
   "metadata": {},
   "outputs": [],
   "source": [
    "l <- list(1:3, 4:5, last = 6)"
   ]
  },
  {
   "cell_type": "code",
   "execution_count": 249,
   "id": "a14741c4",
   "metadata": {},
   "outputs": [
    {
     "data": {
      "text/html": [
       "<dl class=dl-horizontal>\n",
       "\t<dt>1</dt>\n",
       "\t\t<dd>1</dd>\n",
       "\t<dt>2</dt>\n",
       "\t\t<dd>2</dd>\n",
       "\t<dt>3</dt>\n",
       "\t\t<dd>3</dd>\n",
       "\t<dt>4</dt>\n",
       "\t\t<dd>4</dd>\n",
       "\t<dt>5</dt>\n",
       "\t\t<dd>5</dd>\n",
       "\t<dt>last</dt>\n",
       "\t\t<dd>6</dd>\n",
       "</dl>\n"
      ],
      "text/latex": [
       "\\begin{description*}\n",
       "\\item[1] 1\n",
       "\\item[2] 2\n",
       "\\item[3] 3\n",
       "\\item[4] 4\n",
       "\\item[5] 5\n",
       "\\item[last] 6\n",
       "\\end{description*}\n"
      ],
      "text/markdown": [
       "1\n",
       ":   12\n",
       ":   23\n",
       ":   34\n",
       ":   45\n",
       ":   5last\n",
       ":   6\n",
       "\n"
      ],
      "text/plain": [
       "                         last \n",
       "   1    2    3    4    5    6 "
      ]
     },
     "metadata": {},
     "output_type": "display_data"
    }
   ],
   "source": [
    "unlist(l)"
   ]
  },
  {
   "cell_type": "code",
   "execution_count": 250,
   "id": "8d79b3d3",
   "metadata": {},
   "outputs": [
    {
     "data": {
      "text/html": [
       "TRUE"
      ],
      "text/latex": [
       "TRUE"
      ],
      "text/markdown": [
       "TRUE"
      ],
      "text/plain": [
       "[1] TRUE"
      ]
     },
     "metadata": {},
     "output_type": "display_data"
    }
   ],
   "source": [
    "is.vector(unlist(l))"
   ]
  },
  {
   "cell_type": "code",
   "execution_count": 251,
   "id": "145633ba",
   "metadata": {},
   "outputs": [
    {
     "data": {
      "text/html": [
       "TRUE"
      ],
      "text/latex": [
       "TRUE"
      ],
      "text/markdown": [
       "TRUE"
      ],
      "text/plain": [
       "[1] TRUE"
      ]
     },
     "metadata": {},
     "output_type": "display_data"
    }
   ],
   "source": [
    "is.list(l)"
   ]
  },
  {
   "cell_type": "code",
   "execution_count": 252,
   "id": "33d65e54",
   "metadata": {},
   "outputs": [],
   "source": [
    "# нужно помнить, что при приведении к ветору мы задействуем автоматическое приведение типов,\n",
    "# так как вектор содержит элементы только одного типа данных"
   ]
  },
  {
   "cell_type": "code",
   "execution_count": 253,
   "id": "487a3c6c",
   "metadata": {},
   "outputs": [
    {
     "data": {
      "text/html": [
       "<dl class=dl-horizontal>\n",
       "\t<dt>1</dt>\n",
       "\t\t<dd>'1'</dd>\n",
       "\t<dt>2</dt>\n",
       "\t\t<dd>'2'</dd>\n",
       "\t<dt>3</dt>\n",
       "\t\t<dd>'3'</dd>\n",
       "\t<dt>4</dt>\n",
       "\t\t<dd>'4'</dd>\n",
       "\t<dt>5</dt>\n",
       "\t\t<dd>'5'</dd>\n",
       "\t<dt>last</dt>\n",
       "\t\t<dd>'6'</dd>\n",
       "\t<dt>7</dt>\n",
       "\t\t<dd>'spy'</dd>\n",
       "</dl>\n"
      ],
      "text/latex": [
       "\\begin{description*}\n",
       "\\item[1] '1'\n",
       "\\item[2] '2'\n",
       "\\item[3] '3'\n",
       "\\item[4] '4'\n",
       "\\item[5] '5'\n",
       "\\item[last] '6'\n",
       "\\item[7] 'spy'\n",
       "\\end{description*}\n"
      ],
      "text/markdown": [
       "1\n",
       ":   '1'2\n",
       ":   '2'3\n",
       ":   '3'4\n",
       ":   '4'5\n",
       ":   '5'last\n",
       ":   '6'7\n",
       ":   'spy'\n",
       "\n"
      ],
      "text/plain": [
       "                               last       \n",
       "  \"1\"   \"2\"   \"3\"   \"4\"   \"5\"   \"6\" \"spy\" "
      ]
     },
     "metadata": {},
     "output_type": "display_data"
    }
   ],
   "source": [
    "unlist(c(l, \"spy\"))"
   ]
  },
  {
   "cell_type": "code",
   "execution_count": 254,
   "id": "96f7c8f6",
   "metadata": {},
   "outputs": [],
   "source": [
    "# доступ к элементам списка"
   ]
  },
  {
   "cell_type": "code",
   "execution_count": 257,
   "id": "2325df59",
   "metadata": {},
   "outputs": [
    {
     "data": {
      "text/html": [
       "<dl>\n",
       "\t<dt>[[1]]</dt>\n",
       "\t\t<dd><ol class=list-inline>\n",
       "\t<li>1</li>\n",
       "\t<li>2</li>\n",
       "\t<li>3</li>\n",
       "</ol>\n",
       "</dd>\n",
       "\t<dt>[[2]]</dt>\n",
       "\t\t<dd><ol class=list-inline>\n",
       "\t<li>4</li>\n",
       "\t<li>5</li>\n",
       "</ol>\n",
       "</dd>\n",
       "\t<dt>$last</dt>\n",
       "\t\t<dd>6</dd>\n",
       "</dl>\n"
      ],
      "text/latex": [
       "\\begin{description}\n",
       "\\item[{[[1]]}] \\begin{enumerate*}\n",
       "\\item 1\n",
       "\\item 2\n",
       "\\item 3\n",
       "\\end{enumerate*}\n",
       "\n",
       "\\item[{[[2]]}] \\begin{enumerate*}\n",
       "\\item 4\n",
       "\\item 5\n",
       "\\end{enumerate*}\n",
       "\n",
       "\\item[\\$last] 6\n",
       "\\end{description}\n"
      ],
      "text/markdown": [
       "[[1]]\n",
       ":   1. 1\n",
       "2. 2\n",
       "3. 3\n",
       "\n",
       "\n",
       "\n",
       "[[2]]\n",
       ":   1. 4\n",
       "2. 5\n",
       "\n",
       "\n",
       "\n",
       "$last\n",
       ":   6\n",
       "\n",
       "\n"
      ],
      "text/plain": [
       "[[1]]\n",
       "[1] 1 2 3\n",
       "\n",
       "[[2]]\n",
       "[1] 4 5\n",
       "\n",
       "$last\n",
       "[1] 6\n"
      ]
     },
     "metadata": {},
     "output_type": "display_data"
    }
   ],
   "source": [
    "l"
   ]
  },
  {
   "cell_type": "code",
   "execution_count": 258,
   "id": "ed4e6cf5",
   "metadata": {},
   "outputs": [
    {
     "data": {
      "text/html": [
       "<dl>\n",
       "\t<dt>$last</dt>\n",
       "\t\t<dd>6</dd>\n",
       "\t<dt>[[2]]</dt>\n",
       "\t\t<dd><ol class=list-inline>\n",
       "\t<li>4</li>\n",
       "\t<li>5</li>\n",
       "</ol>\n",
       "</dd>\n",
       "</dl>\n"
      ],
      "text/latex": [
       "\\begin{description}\n",
       "\\item[\\$last] 6\n",
       "\\item[{[[2]]}] \\begin{enumerate*}\n",
       "\\item 4\n",
       "\\item 5\n",
       "\\end{enumerate*}\n",
       "\n",
       "\\end{description}\n"
      ],
      "text/markdown": [
       "$last\n",
       ":   6\n",
       "[[2]]\n",
       ":   1. 4\n",
       "2. 5\n",
       "\n",
       "\n",
       "\n",
       "\n",
       "\n"
      ],
      "text/plain": [
       "$last\n",
       "[1] 6\n",
       "\n",
       "[[2]]\n",
       "[1] 4 5\n"
      ]
     },
     "metadata": {},
     "output_type": "display_data"
    }
   ],
   "source": [
    "l[3:2]"
   ]
  },
  {
   "cell_type": "code",
   "execution_count": 259,
   "id": "c879caf4",
   "metadata": {},
   "outputs": [
    {
     "data": {
      "text/html": [
       "<strong>$last</strong> = 6"
      ],
      "text/latex": [
       "\\textbf{\\$last} = 6"
      ],
      "text/markdown": [
       "**$last** = 6"
      ],
      "text/plain": [
       "$last\n",
       "[1] 6\n"
      ]
     },
     "metadata": {},
     "output_type": "display_data"
    }
   ],
   "source": [
    "l[-(1:2)]"
   ]
  },
  {
   "cell_type": "code",
   "execution_count": 260,
   "id": "0970a920",
   "metadata": {},
   "outputs": [
    {
     "data": {
      "text/html": [
       "<strong>$NA</strong> = <ol class=list-inline>\n",
       "\t<li>4</li>\n",
       "\t<li>5</li>\n",
       "</ol>\n"
      ],
      "text/latex": [
       "\\textbf{\\$NA} = \\begin{enumerate*}\n",
       "\\item 4\n",
       "\\item 5\n",
       "\\end{enumerate*}\n"
      ],
      "text/markdown": [
       "**$NA** = 1. 4\n",
       "2. 5\n",
       "\n",
       "\n"
      ],
      "text/plain": [
       "[[1]]\n",
       "[1] 4 5\n"
      ]
     },
     "metadata": {},
     "output_type": "display_data"
    }
   ],
   "source": [
    "l[c(F, T, F)]"
   ]
  },
  {
   "cell_type": "code",
   "execution_count": 261,
   "id": "0c217934",
   "metadata": {},
   "outputs": [
    {
     "data": {
      "text/html": [
       "<strong>$last</strong> = 6"
      ],
      "text/latex": [
       "\\textbf{\\$last} = 6"
      ],
      "text/markdown": [
       "**$last** = 6"
      ],
      "text/plain": [
       "$last\n",
       "[1] 6\n"
      ]
     },
     "metadata": {},
     "output_type": "display_data"
    }
   ],
   "source": [
    "l[\"last\"]"
   ]
  },
  {
   "cell_type": "code",
   "execution_count": 277,
   "id": "5b909e73",
   "metadata": {},
   "outputs": [],
   "source": [
    "# при обращении к единичному элементу получаем все равно список длины 1"
   ]
  },
  {
   "cell_type": "code",
   "execution_count": 263,
   "id": "a11226e3",
   "metadata": {},
   "outputs": [
    {
     "data": {
      "text/html": [
       "TRUE"
      ],
      "text/latex": [
       "TRUE"
      ],
      "text/markdown": [
       "TRUE"
      ],
      "text/plain": [
       "[1] TRUE"
      ]
     },
     "metadata": {},
     "output_type": "display_data"
    }
   ],
   "source": [
    "is.list(l[\"last\"])"
   ]
  },
  {
   "cell_type": "code",
   "execution_count": 265,
   "id": "5a6f92b5",
   "metadata": {},
   "outputs": [],
   "source": [
    "# обращение к конкретному элементу списка"
   ]
  },
  {
   "cell_type": "code",
   "execution_count": 274,
   "id": "5830005a",
   "metadata": {},
   "outputs": [
    {
     "data": {
      "text/html": [
       "<ol class=list-inline>\n",
       "\t<li>1</li>\n",
       "\t<li>2</li>\n",
       "\t<li>3</li>\n",
       "</ol>\n"
      ],
      "text/latex": [
       "\\begin{enumerate*}\n",
       "\\item 1\n",
       "\\item 2\n",
       "\\item 3\n",
       "\\end{enumerate*}\n"
      ],
      "text/markdown": [
       "1. 1\n",
       "2. 2\n",
       "3. 3\n",
       "\n",
       "\n"
      ],
      "text/plain": [
       "[1] 1 2 3"
      ]
     },
     "metadata": {},
     "output_type": "display_data"
    }
   ],
   "source": [
    "l[[1]]"
   ]
  },
  {
   "cell_type": "code",
   "execution_count": 275,
   "id": "2318492d",
   "metadata": {},
   "outputs": [
    {
     "data": {
      "text/html": [
       "TRUE"
      ],
      "text/latex": [
       "TRUE"
      ],
      "text/markdown": [
       "TRUE"
      ],
      "text/plain": [
       "[1] TRUE"
      ]
     },
     "metadata": {},
     "output_type": "display_data"
    }
   ],
   "source": [
    "is.vector(l[[1]])"
   ]
  },
  {
   "cell_type": "code",
   "execution_count": 276,
   "id": "daf94a77",
   "metadata": {},
   "outputs": [
    {
     "data": {
      "text/html": [
       "FALSE"
      ],
      "text/latex": [
       "FALSE"
      ],
      "text/markdown": [
       "FALSE"
      ],
      "text/plain": [
       "[1] FALSE"
      ]
     },
     "metadata": {},
     "output_type": "display_data"
    }
   ],
   "source": [
    "is.list(l[[1]])"
   ]
  },
  {
   "cell_type": "code",
   "execution_count": 278,
   "id": "79b86142",
   "metadata": {},
   "outputs": [],
   "source": [
    "# доступ по имени с частичным дополнением"
   ]
  },
  {
   "cell_type": "code",
   "execution_count": 284,
   "id": "2852b766",
   "metadata": {},
   "outputs": [],
   "source": [
    "# получим сам элемент, а не подсписок"
   ]
  },
  {
   "cell_type": "code",
   "execution_count": 286,
   "id": "3b65112d",
   "metadata": {},
   "outputs": [
    {
     "data": {
      "text/html": [
       "6"
      ],
      "text/latex": [
       "6"
      ],
      "text/markdown": [
       "6"
      ],
      "text/plain": [
       "[1] 6"
      ]
     },
     "metadata": {},
     "output_type": "display_data"
    }
   ],
   "source": [
    "l$last"
   ]
  },
  {
   "cell_type": "code",
   "execution_count": 285,
   "id": "18528db3",
   "metadata": {},
   "outputs": [
    {
     "data": {
      "text/html": [
       "TRUE"
      ],
      "text/latex": [
       "TRUE"
      ],
      "text/markdown": [
       "TRUE"
      ],
      "text/plain": [
       "[1] TRUE"
      ]
     },
     "metadata": {},
     "output_type": "display_data"
    }
   ],
   "source": [
    "is.vector(l$last)"
   ]
  },
  {
   "cell_type": "code",
   "execution_count": 287,
   "id": "4f406556",
   "metadata": {},
   "outputs": [],
   "source": [
    "# в этом способе не обязательно указывать полное имя"
   ]
  },
  {
   "cell_type": "code",
   "execution_count": 293,
   "id": "ecd491e4",
   "metadata": {},
   "outputs": [
    {
     "data": {
      "text/html": [
       "6"
      ],
      "text/latex": [
       "6"
      ],
      "text/markdown": [
       "6"
      ],
      "text/plain": [
       "[1] 6"
      ]
     },
     "metadata": {},
     "output_type": "display_data"
    }
   ],
   "source": [
    "l$las"
   ]
  },
  {
   "cell_type": "code",
   "execution_count": 294,
   "id": "a0f1e69a",
   "metadata": {},
   "outputs": [],
   "source": [
    "# замена и добавление элементов списка"
   ]
  },
  {
   "cell_type": "code",
   "execution_count": 303,
   "id": "eaccc2e0",
   "metadata": {},
   "outputs": [],
   "source": [
    "l <- list(1:3, 4:5, last = 6)"
   ]
  },
  {
   "cell_type": "code",
   "execution_count": 302,
   "id": "5a2d194c",
   "metadata": {},
   "outputs": [
    {
     "data": {
      "text/html": [
       "<dl>\n",
       "\t<dt>[[1]]</dt>\n",
       "\t\t<dd><ol class=list-inline>\n",
       "\t<li>1</li>\n",
       "\t<li>2</li>\n",
       "\t<li>3</li>\n",
       "</ol>\n",
       "</dd>\n",
       "\t<dt>[[2]]</dt>\n",
       "\t\t<dd><ol class=list-inline>\n",
       "\t<li>4</li>\n",
       "\t<li>5</li>\n",
       "</ol>\n",
       "</dd>\n",
       "</dl>\n"
      ],
      "text/latex": [
       "\\begin{description}\n",
       "\\item[{[[1]]}] \\begin{enumerate*}\n",
       "\\item 1\n",
       "\\item 2\n",
       "\\item 3\n",
       "\\end{enumerate*}\n",
       "\n",
       "\\item[{[[2]]}] \\begin{enumerate*}\n",
       "\\item 4\n",
       "\\item 5\n",
       "\\end{enumerate*}\n",
       "\n",
       "\\end{description}\n"
      ],
      "text/markdown": [
       "[[1]]\n",
       ":   1. 1\n",
       "2. 2\n",
       "3. 3\n",
       "\n",
       "\n",
       "\n",
       "[[2]]\n",
       ":   1. 4\n",
       "2. 5\n",
       "\n",
       "\n",
       "\n",
       "\n",
       "\n"
      ],
      "text/plain": [
       "[[1]]\n",
       "[1] 1 2 3\n",
       "\n",
       "[[2]]\n",
       "[1] 4 5\n"
      ]
     },
     "metadata": {},
     "output_type": "display_data"
    }
   ],
   "source": [
    "l"
   ]
  },
  {
   "cell_type": "code",
   "execution_count": 304,
   "id": "5aaeba0e",
   "metadata": {},
   "outputs": [
    {
     "data": {
      "text/html": [
       "<dl>\n",
       "\t<dt>[[1]]</dt>\n",
       "\t\t<dd><ol class=list-inline>\n",
       "\t<li>1</li>\n",
       "\t<li>2</li>\n",
       "\t<li>3</li>\n",
       "</ol>\n",
       "</dd>\n",
       "\t<dt>[[2]]</dt>\n",
       "\t\t<dd><ol class=list-inline>\n",
       "\t<li>4</li>\n",
       "\t<li>5</li>\n",
       "</ol>\n",
       "</dd>\n",
       "</dl>\n"
      ],
      "text/latex": [
       "\\begin{description}\n",
       "\\item[{[[1]]}] \\begin{enumerate*}\n",
       "\\item 1\n",
       "\\item 2\n",
       "\\item 3\n",
       "\\end{enumerate*}\n",
       "\n",
       "\\item[{[[2]]}] \\begin{enumerate*}\n",
       "\\item 4\n",
       "\\item 5\n",
       "\\end{enumerate*}\n",
       "\n",
       "\\end{description}\n"
      ],
      "text/markdown": [
       "[[1]]\n",
       ":   1. 1\n",
       "2. 2\n",
       "3. 3\n",
       "\n",
       "\n",
       "\n",
       "[[2]]\n",
       ":   1. 4\n",
       "2. 5\n",
       "\n",
       "\n",
       "\n",
       "\n",
       "\n"
      ],
      "text/plain": [
       "[[1]]\n",
       "[1] 1 2 3\n",
       "\n",
       "[[2]]\n",
       "[1] 4 5\n"
      ]
     },
     "metadata": {},
     "output_type": "display_data"
    }
   ],
   "source": [
    "l[[3]] <- NULL;l"
   ]
  },
  {
   "cell_type": "code",
   "execution_count": 305,
   "id": "c5a2b4b6",
   "metadata": {},
   "outputs": [
    {
     "data": {
      "text/html": [
       "<dl>\n",
       "\t<dt>[[1]]</dt>\n",
       "\t\t<dd><ol class=list-inline>\n",
       "\t<li>1</li>\n",
       "\t<li>2</li>\n",
       "\t<li>3</li>\n",
       "</ol>\n",
       "</dd>\n",
       "\t<dt>[[2]]</dt>\n",
       "\t\t<dd><ol class=list-inline>\n",
       "\t<li>4</li>\n",
       "\t<li>5</li>\n",
       "</ol>\n",
       "</dd>\n",
       "\t<dt>[[3]]</dt>\n",
       "\t\t<dd>NULL</dd>\n",
       "\t<dt>[[4]]</dt>\n",
       "\t\t<dd>99</dd>\n",
       "</dl>\n"
      ],
      "text/latex": [
       "\\begin{description}\n",
       "\\item[{[[1]]}] \\begin{enumerate*}\n",
       "\\item 1\n",
       "\\item 2\n",
       "\\item 3\n",
       "\\end{enumerate*}\n",
       "\n",
       "\\item[{[[2]]}] \\begin{enumerate*}\n",
       "\\item 4\n",
       "\\item 5\n",
       "\\end{enumerate*}\n",
       "\n",
       "\\item[{[[3]]}] NULL\n",
       "\\item[{[[4]]}] 99\n",
       "\\end{description}\n"
      ],
      "text/markdown": [
       "[[1]]\n",
       ":   1. 1\n",
       "2. 2\n",
       "3. 3\n",
       "\n",
       "\n",
       "\n",
       "[[2]]\n",
       ":   1. 4\n",
       "2. 5\n",
       "\n",
       "\n",
       "\n",
       "[[3]]\n",
       ":   NULL\n",
       "[[4]]\n",
       ":   99\n",
       "\n",
       "\n"
      ],
      "text/plain": [
       "[[1]]\n",
       "[1] 1 2 3\n",
       "\n",
       "[[2]]\n",
       "[1] 4 5\n",
       "\n",
       "[[3]]\n",
       "NULL\n",
       "\n",
       "[[4]]\n",
       "[1] 99\n"
      ]
     },
     "metadata": {},
     "output_type": "display_data"
    }
   ],
   "source": [
    "l[[4]] <- 99;l"
   ]
  },
  {
   "cell_type": "code",
   "execution_count": 306,
   "id": "23a90806",
   "metadata": {},
   "outputs": [
    {
     "data": {
      "text/html": [
       "<ol class=list-inline>\n",
       "\t<li>'vec'</li>\n",
       "\t<li>'fun'</li>\n",
       "</ol>\n"
      ],
      "text/latex": [
       "\\begin{enumerate*}\n",
       "\\item 'vec'\n",
       "\\item 'fun'\n",
       "\\end{enumerate*}\n"
      ],
      "text/markdown": [
       "1. 'vec'\n",
       "2. 'fun'\n",
       "\n",
       "\n"
      ],
      "text/plain": [
       "[1] \"vec\" \"fun\""
      ]
     },
     "metadata": {},
     "output_type": "display_data"
    }
   ],
   "source": [
    "l <- list(vec = 1:7, fun = sqrt) #l$fun(4)\n",
    "names(l)"
   ]
  },
  {
   "cell_type": "code",
   "execution_count": 307,
   "id": "68405f49",
   "metadata": {},
   "outputs": [
    {
     "data": {
      "text/html": [
       "<dl>\n",
       "\t<dt>$vec</dt>\n",
       "\t\t<dd><ol class=list-inline>\n",
       "\t<li>1</li>\n",
       "\t<li>2</li>\n",
       "\t<li>3</li>\n",
       "\t<li>4</li>\n",
       "\t<li>5</li>\n",
       "\t<li>6</li>\n",
       "\t<li>7</li>\n",
       "</ol>\n",
       "</dd>\n",
       "\t<dt>$fun</dt>\n",
       "\t\t<dd><pre class=language-r><code>.Primitive(\"sqrt\")</code></pre></dd>\n",
       "</dl>\n"
      ],
      "text/latex": [
       "\\begin{description}\n",
       "\\item[\\$vec] \\begin{enumerate*}\n",
       "\\item 1\n",
       "\\item 2\n",
       "\\item 3\n",
       "\\item 4\n",
       "\\item 5\n",
       "\\item 6\n",
       "\\item 7\n",
       "\\end{enumerate*}\n",
       "\n",
       "\\item[\\$fun] \\begin{minted}{r}\n",
       ".Primitive(\"sqrt\")\n",
       "\\end{minted}\n",
       "\\end{description}\n"
      ],
      "text/markdown": [
       "$vec\n",
       ":   1. 1\n",
       "2. 2\n",
       "3. 3\n",
       "4. 4\n",
       "5. 5\n",
       "6. 6\n",
       "7. 7\n",
       "\n",
       "\n",
       "\n",
       "$fun\n",
       ":   ```r\n",
       ".Primitive(\"sqrt\")\n",
       "```\n",
       "\n",
       "\n"
      ],
      "text/plain": [
       "$vec\n",
       "[1] 1 2 3 4 5 6 7\n",
       "\n",
       "$fun\n",
       "function (x)  .Primitive(\"sqrt\")\n"
      ]
     },
     "metadata": {},
     "output_type": "display_data"
    }
   ],
   "source": [
    "l"
   ]
  },
  {
   "cell_type": "code",
   "execution_count": 309,
   "id": "34f1a9b8",
   "metadata": {},
   "outputs": [
    {
     "data": {
      "text/html": [
       "4"
      ],
      "text/latex": [
       "4"
      ],
      "text/markdown": [
       "4"
      ],
      "text/plain": [
       "[1] 4"
      ]
     },
     "metadata": {},
     "output_type": "display_data"
    }
   ],
   "source": [
    "l$fun(16)"
   ]
  },
  {
   "cell_type": "code",
   "execution_count": 311,
   "id": "883436c5",
   "metadata": {},
   "outputs": [
    {
     "data": {
      "text/html": [
       "TRUE"
      ],
      "text/latex": [
       "TRUE"
      ],
      "text/markdown": [
       "TRUE"
      ],
      "text/plain": [
       "[1] TRUE"
      ]
     },
     "metadata": {},
     "output_type": "display_data"
    }
   ],
   "source": [
    "is.null(l$string)"
   ]
  },
  {
   "cell_type": "code",
   "execution_count": 312,
   "id": "296b4c5a",
   "metadata": {},
   "outputs": [],
   "source": [
    "l$string <- \"Citius, altius, fortius\""
   ]
  },
  {
   "cell_type": "code",
   "execution_count": 313,
   "id": "5705a3c7",
   "metadata": {},
   "outputs": [
    {
     "data": {
      "text/html": [
       "<dl>\n",
       "\t<dt>$vec</dt>\n",
       "\t\t<dd><ol class=list-inline>\n",
       "\t<li>1</li>\n",
       "\t<li>2</li>\n",
       "\t<li>3</li>\n",
       "\t<li>4</li>\n",
       "\t<li>5</li>\n",
       "\t<li>6</li>\n",
       "\t<li>7</li>\n",
       "</ol>\n",
       "</dd>\n",
       "\t<dt>$fun</dt>\n",
       "\t\t<dd><pre class=language-r><code>.Primitive(\"sqrt\")</code></pre></dd>\n",
       "\t<dt>$string</dt>\n",
       "\t\t<dd>'Citius, altius, fortius'</dd>\n",
       "</dl>\n"
      ],
      "text/latex": [
       "\\begin{description}\n",
       "\\item[\\$vec] \\begin{enumerate*}\n",
       "\\item 1\n",
       "\\item 2\n",
       "\\item 3\n",
       "\\item 4\n",
       "\\item 5\n",
       "\\item 6\n",
       "\\item 7\n",
       "\\end{enumerate*}\n",
       "\n",
       "\\item[\\$fun] \\begin{minted}{r}\n",
       ".Primitive(\"sqrt\")\n",
       "\\end{minted}\n",
       "\\item[\\$string] 'Citius, altius, fortius'\n",
       "\\end{description}\n"
      ],
      "text/markdown": [
       "$vec\n",
       ":   1. 1\n",
       "2. 2\n",
       "3. 3\n",
       "4. 4\n",
       "5. 5\n",
       "6. 6\n",
       "7. 7\n",
       "\n",
       "\n",
       "\n",
       "$fun\n",
       ":   ```r\n",
       ".Primitive(\"sqrt\")\n",
       "```\n",
       "$string\n",
       ":   'Citius, altius, fortius'\n",
       "\n",
       "\n"
      ],
      "text/plain": [
       "$vec\n",
       "[1] 1 2 3 4 5 6 7\n",
       "\n",
       "$fun\n",
       "function (x)  .Primitive(\"sqrt\")\n",
       "\n",
       "$string\n",
       "[1] \"Citius, altius, fortius\"\n"
      ]
     },
     "metadata": {},
     "output_type": "display_data"
    }
   ],
   "source": [
    "l"
   ]
  },
  {
   "cell_type": "code",
   "execution_count": 314,
   "id": "d05702dc",
   "metadata": {},
   "outputs": [
    {
     "data": {
      "text/html": [
       "FALSE"
      ],
      "text/latex": [
       "FALSE"
      ],
      "text/markdown": [
       "FALSE"
      ],
      "text/plain": [
       "[1] FALSE"
      ]
     },
     "metadata": {},
     "output_type": "display_data"
    }
   ],
   "source": [
    "is.null(l$string)"
   ]
  },
  {
   "cell_type": "code",
   "execution_count": 315,
   "id": "f8a91bff",
   "metadata": {},
   "outputs": [
    {
     "data": {
      "text/html": [
       "25"
      ],
      "text/latex": [
       "25"
      ],
      "text/markdown": [
       "25"
      ],
      "text/plain": [
       "[1] 25"
      ]
     },
     "metadata": {},
     "output_type": "display_data"
    }
   ],
   "source": [
    "l$fun(625)"
   ]
  },
  {
   "cell_type": "code",
   "execution_count": 316,
   "id": "222bf604",
   "metadata": {},
   "outputs": [],
   "source": [
    "# применеие функции к каждому элементу списка"
   ]
  },
  {
   "cell_type": "code",
   "execution_count": 317,
   "id": "260609fd",
   "metadata": {},
   "outputs": [],
   "source": [
    "l <- list(a = c(\"12\", \"34\"), b = LETTERS[5:10], c = 1:5)"
   ]
  },
  {
   "cell_type": "code",
   "execution_count": 318,
   "id": "8e318972",
   "metadata": {},
   "outputs": [
    {
     "data": {
      "text/html": [
       "<dl>\n",
       "\t<dt>$a</dt>\n",
       "\t\t<dd><ol class=list-inline>\n",
       "\t<li>'12'</li>\n",
       "\t<li>'34'</li>\n",
       "</ol>\n",
       "</dd>\n",
       "\t<dt>$b</dt>\n",
       "\t\t<dd><ol class=list-inline>\n",
       "\t<li>'E'</li>\n",
       "\t<li>'F'</li>\n",
       "\t<li>'G'</li>\n",
       "\t<li>'H'</li>\n",
       "\t<li>'I'</li>\n",
       "\t<li>'J'</li>\n",
       "</ol>\n",
       "</dd>\n",
       "\t<dt>$c</dt>\n",
       "\t\t<dd><ol class=list-inline>\n",
       "\t<li>1</li>\n",
       "\t<li>2</li>\n",
       "\t<li>3</li>\n",
       "\t<li>4</li>\n",
       "\t<li>5</li>\n",
       "</ol>\n",
       "</dd>\n",
       "</dl>\n"
      ],
      "text/latex": [
       "\\begin{description}\n",
       "\\item[\\$a] \\begin{enumerate*}\n",
       "\\item '12'\n",
       "\\item '34'\n",
       "\\end{enumerate*}\n",
       "\n",
       "\\item[\\$b] \\begin{enumerate*}\n",
       "\\item 'E'\n",
       "\\item 'F'\n",
       "\\item 'G'\n",
       "\\item 'H'\n",
       "\\item 'I'\n",
       "\\item 'J'\n",
       "\\end{enumerate*}\n",
       "\n",
       "\\item[\\$c] \\begin{enumerate*}\n",
       "\\item 1\n",
       "\\item 2\n",
       "\\item 3\n",
       "\\item 4\n",
       "\\item 5\n",
       "\\end{enumerate*}\n",
       "\n",
       "\\end{description}\n"
      ],
      "text/markdown": [
       "$a\n",
       ":   1. '12'\n",
       "2. '34'\n",
       "\n",
       "\n",
       "\n",
       "$b\n",
       ":   1. 'E'\n",
       "2. 'F'\n",
       "3. 'G'\n",
       "4. 'H'\n",
       "5. 'I'\n",
       "6. 'J'\n",
       "\n",
       "\n",
       "\n",
       "$c\n",
       ":   1. 1\n",
       "2. 2\n",
       "3. 3\n",
       "4. 4\n",
       "5. 5\n",
       "\n",
       "\n",
       "\n",
       "\n",
       "\n"
      ],
      "text/plain": [
       "$a\n",
       "[1] \"12\" \"34\"\n",
       "\n",
       "$b\n",
       "[1] \"E\" \"F\" \"G\" \"H\" \"I\" \"J\"\n",
       "\n",
       "$c\n",
       "[1] 1 2 3 4 5\n"
      ]
     },
     "metadata": {},
     "output_type": "display_data"
    }
   ],
   "source": [
    "l"
   ]
  },
  {
   "cell_type": "code",
   "execution_count": 319,
   "id": "3bd54b5a",
   "metadata": {},
   "outputs": [
    {
     "data": {
      "text/html": [
       "<dl>\n",
       "\t<dt>$a</dt>\n",
       "\t\t<dd>2</dd>\n",
       "\t<dt>$b</dt>\n",
       "\t\t<dd>6</dd>\n",
       "\t<dt>$c</dt>\n",
       "\t\t<dd>5</dd>\n",
       "</dl>\n"
      ],
      "text/latex": [
       "\\begin{description}\n",
       "\\item[\\$a] 2\n",
       "\\item[\\$b] 6\n",
       "\\item[\\$c] 5\n",
       "\\end{description}\n"
      ],
      "text/markdown": [
       "$a\n",
       ":   2\n",
       "$b\n",
       ":   6\n",
       "$c\n",
       ":   5\n",
       "\n",
       "\n"
      ],
      "text/plain": [
       "$a\n",
       "[1] 2\n",
       "\n",
       "$b\n",
       "[1] 6\n",
       "\n",
       "$c\n",
       "[1] 5\n"
      ]
     },
     "metadata": {},
     "output_type": "display_data"
    }
   ],
   "source": [
    "# узнать длину каждого элемента\n",
    "lapply(l, length)"
   ]
  },
  {
   "cell_type": "code",
   "execution_count": 326,
   "id": "f04a105c",
   "metadata": {},
   "outputs": [
    {
     "data": {
      "text/html": [
       "<dl>\n",
       "\t<dt>$a</dt>\n",
       "\t\t<dd><ol class=list-inline>\n",
       "\t<li>'12'</li>\n",
       "\t<li>'34'</li>\n",
       "</ol>\n",
       "</dd>\n",
       "\t<dt>$b</dt>\n",
       "\t\t<dd><ol class=list-inline>\n",
       "\t<li>'E'</li>\n",
       "\t<li>'F'</li>\n",
       "\t<li>'G'</li>\n",
       "\t<li>'H'</li>\n",
       "\t<li>'I'</li>\n",
       "\t<li>'J'</li>\n",
       "</ol>\n",
       "</dd>\n",
       "\t<dt>$c</dt>\n",
       "\t\t<dd><ol class=list-inline>\n",
       "\t<li>1</li>\n",
       "\t<li>2</li>\n",
       "\t<li>3</li>\n",
       "\t<li>4</li>\n",
       "\t<li>5</li>\n",
       "</ol>\n",
       "</dd>\n",
       "</dl>\n"
      ],
      "text/latex": [
       "\\begin{description}\n",
       "\\item[\\$a] \\begin{enumerate*}\n",
       "\\item '12'\n",
       "\\item '34'\n",
       "\\end{enumerate*}\n",
       "\n",
       "\\item[\\$b] \\begin{enumerate*}\n",
       "\\item 'E'\n",
       "\\item 'F'\n",
       "\\item 'G'\n",
       "\\item 'H'\n",
       "\\item 'I'\n",
       "\\item 'J'\n",
       "\\end{enumerate*}\n",
       "\n",
       "\\item[\\$c] \\begin{enumerate*}\n",
       "\\item 1\n",
       "\\item 2\n",
       "\\item 3\n",
       "\\item 4\n",
       "\\item 5\n",
       "\\end{enumerate*}\n",
       "\n",
       "\\end{description}\n"
      ],
      "text/markdown": [
       "$a\n",
       ":   1. '12'\n",
       "2. '34'\n",
       "\n",
       "\n",
       "\n",
       "$b\n",
       ":   1. 'E'\n",
       "2. 'F'\n",
       "3. 'G'\n",
       "4. 'H'\n",
       "5. 'I'\n",
       "6. 'J'\n",
       "\n",
       "\n",
       "\n",
       "$c\n",
       ":   1. 1\n",
       "2. 2\n",
       "3. 3\n",
       "4. 4\n",
       "5. 5\n",
       "\n",
       "\n",
       "\n",
       "\n",
       "\n"
      ],
      "text/plain": [
       "$a\n",
       "[1] \"12\" \"34\"\n",
       "\n",
       "$b\n",
       "[1] \"E\" \"F\" \"G\" \"H\" \"I\" \"J\"\n",
       "\n",
       "$c\n",
       "[1] 1 2 3 4 5\n"
      ]
     },
     "metadata": {},
     "output_type": "display_data"
    }
   ],
   "source": [
    "l"
   ]
  },
  {
   "cell_type": "code",
   "execution_count": 323,
   "id": "ed54ca09",
   "metadata": {},
   "outputs": [
    {
     "data": {
      "text/html": [
       "<dl>\n",
       "\t<dt>$a</dt>\n",
       "\t\t<dd>'12-34'</dd>\n",
       "\t<dt>$b</dt>\n",
       "\t\t<dd>'E-F-G-H-I-J'</dd>\n",
       "\t<dt>$c</dt>\n",
       "\t\t<dd>'1-2-3-4-5'</dd>\n",
       "</dl>\n"
      ],
      "text/latex": [
       "\\begin{description}\n",
       "\\item[\\$a] '12-34'\n",
       "\\item[\\$b] 'E-F-G-H-I-J'\n",
       "\\item[\\$c] '1-2-3-4-5'\n",
       "\\end{description}\n"
      ],
      "text/markdown": [
       "$a\n",
       ":   '12-34'\n",
       "$b\n",
       ":   'E-F-G-H-I-J'\n",
       "$c\n",
       ":   '1-2-3-4-5'\n",
       "\n",
       "\n"
      ],
      "text/plain": [
       "$a\n",
       "[1] \"12-34\"\n",
       "\n",
       "$b\n",
       "[1] \"E-F-G-H-I-J\"\n",
       "\n",
       "$c\n",
       "[1] \"1-2-3-4-5\"\n"
      ]
     },
     "metadata": {},
     "output_type": "display_data"
    }
   ],
   "source": [
    "# добавление аргумента в функцию\n",
    "lapply(l, paste, collapse = \"-\")"
   ]
  },
  {
   "cell_type": "code",
   "execution_count": 324,
   "id": "579e6b1b",
   "metadata": {},
   "outputs": [
    {
     "data": {
      "text/html": [
       "<dl>\n",
       "\t<dt>$a</dt>\n",
       "\t\t<dd>'12|34'</dd>\n",
       "\t<dt>$b</dt>\n",
       "\t\t<dd>'E|F|G|H|I|J'</dd>\n",
       "\t<dt>$c</dt>\n",
       "\t\t<dd>'1|2|3|4|5'</dd>\n",
       "</dl>\n"
      ],
      "text/latex": [
       "\\begin{description}\n",
       "\\item[\\$a] '12\\textbar{}34'\n",
       "\\item[\\$b] 'E\\textbar{}F\\textbar{}G\\textbar{}H\\textbar{}I\\textbar{}J'\n",
       "\\item[\\$c] '1\\textbar{}2\\textbar{}3\\textbar{}4\\textbar{}5'\n",
       "\\end{description}\n"
      ],
      "text/markdown": [
       "$a\n",
       ":   '12|34'\n",
       "$b\n",
       ":   'E|F|G|H|I|J'\n",
       "$c\n",
       ":   '1|2|3|4|5'\n",
       "\n",
       "\n"
      ],
      "text/plain": [
       "$a\n",
       "[1] \"12|34\"\n",
       "\n",
       "$b\n",
       "[1] \"E|F|G|H|I|J\"\n",
       "\n",
       "$c\n",
       "[1] \"1|2|3|4|5\"\n"
      ]
     },
     "metadata": {},
     "output_type": "display_data"
    }
   ],
   "source": [
    "# то же самое при помощи анонимной функции\n",
    "lapply(l, function(s) paste(s, collapse = \"|\"))"
   ]
  },
  {
   "cell_type": "code",
   "execution_count": 328,
   "id": "b9054200",
   "metadata": {},
   "outputs": [
    {
     "data": {
      "text/html": [
       "<dl class=dl-horizontal>\n",
       "\t<dt>a</dt>\n",
       "\t\t<dd>'12|34'</dd>\n",
       "\t<dt>b</dt>\n",
       "\t\t<dd>'E|F|G|H|I|J'</dd>\n",
       "\t<dt>c</dt>\n",
       "\t\t<dd>'1|2|3|4|5'</dd>\n",
       "</dl>\n"
      ],
      "text/latex": [
       "\\begin{description*}\n",
       "\\item[a] '12\\textbar{}34'\n",
       "\\item[b] 'E\\textbar{}F\\textbar{}G\\textbar{}H\\textbar{}I\\textbar{}J'\n",
       "\\item[c] '1\\textbar{}2\\textbar{}3\\textbar{}4\\textbar{}5'\n",
       "\\end{description*}\n"
      ],
      "text/markdown": [
       "a\n",
       ":   '12|34'b\n",
       ":   'E|F|G|H|I|J'c\n",
       ":   '1|2|3|4|5'\n",
       "\n"
      ],
      "text/plain": [
       "            a             b             c \n",
       "      \"12|34\" \"E|F|G|H|I|J\"   \"1|2|3|4|5\" "
      ]
     },
     "metadata": {},
     "output_type": "display_data"
    }
   ],
   "source": [
    "# дополнительное упрощение и получение вектора на выходе (sapply - simpify apply)\n",
    "sapply(l, paste, collapse = \"|\")"
   ]
  },
  {
   "cell_type": "code",
   "execution_count": 329,
   "id": "68179336",
   "metadata": {},
   "outputs": [
    {
     "data": {
      "text/html": [
       "<dl>\n",
       "\t<dt>$some_name</dt>\n",
       "\t\t<dd>1</dd>\n",
       "\t<dt>$incredibly_long_name</dt>\n",
       "\t\t<dd>2</dd>\n",
       "</dl>\n"
      ],
      "text/latex": [
       "\\begin{description}\n",
       "\\item[\\$some\\_name] 1\n",
       "\\item[\\$incredibly\\_long\\_name] 2\n",
       "\\end{description}\n"
      ],
      "text/markdown": [
       "$some_name\n",
       ":   1\n",
       "$incredibly_long_name\n",
       ":   2\n",
       "\n",
       "\n"
      ],
      "text/plain": [
       "$some_name\n",
       "[1] 1\n",
       "\n",
       "$incredibly_long_name\n",
       "[1] 2\n"
      ]
     },
     "metadata": {},
     "output_type": "display_data"
    }
   ],
   "source": [
    "l <- list(some_name = 1, incredibly_long_name = 2)\n",
    "l"
   ]
  },
  {
   "cell_type": "code",
   "execution_count": 332,
   "id": "26f49f27",
   "metadata": {},
   "outputs": [
    {
     "data": {
      "text/html": [
       "3"
      ],
      "text/latex": [
       "3"
      ],
      "text/markdown": [
       "3"
      ],
      "text/plain": [
       "[1] 3"
      ]
     },
     "metadata": {},
     "output_type": "display_data"
    }
   ],
   "source": [
    "l$inc + 1"
   ]
  },
  {
   "cell_type": "code",
   "execution_count": 336,
   "id": "115259a5",
   "metadata": {},
   "outputs": [],
   "source": [
    "# это удобно при длинных названиях"
   ]
  },
  {
   "cell_type": "code",
   "execution_count": 337,
   "id": "064f856b",
   "metadata": {},
   "outputs": [],
   "source": [
    "# для функций это тоже работает"
   ]
  },
  {
   "cell_type": "code",
   "execution_count": 338,
   "id": "c8134abe",
   "metadata": {},
   "outputs": [],
   "source": [
    "f <- function(x, ridiculously_long_arg) {\n",
    "    x + ridiculously_long_arg\n",
    "}"
   ]
  },
  {
   "cell_type": "code",
   "execution_count": 342,
   "id": "f2b38948",
   "metadata": {},
   "outputs": [
    {
     "data": {
      "text/html": [
       "13"
      ],
      "text/latex": [
       "13"
      ],
      "text/markdown": [
       "13"
      ],
      "text/plain": [
       "[1] 13"
      ]
     },
     "metadata": {},
     "output_type": "display_data"
    }
   ],
   "source": [
    "f(3, ridic = 10)"
   ]
  },
  {
   "cell_type": "code",
   "execution_count": 361,
   "id": "1631af6e",
   "metadata": {},
   "outputs": [],
   "source": [
    "# Глоссарий\n",
    "\n",
    "# ?matrix\n",
    "# ?dim, ?rownames, ?colnames\n",
    "# ?rbind, ?cbind, ?apply\n",
    "# ?rowSums, ?rowMeans, ?colSums, ?colMeans\n",
    "# ?list, ?unlist\n",
    "# ?\"[\" (?\"[[\", ?\"$\")\n",
    "# ?lapply, ?sapply \n",
    "# ?\"...\"(ellipsis)"
   ]
  },
  {
   "cell_type": "code",
   "execution_count": 362,
   "id": "4cae29f4",
   "metadata": {},
   "outputs": [],
   "source": [
    "# в R есть три похожих ключевых слова, NA, NaN и NULL. Они различаются по смысловой нагрузке. \n",
    "\n",
    "# NA -- это пропущенное значение (\"not available\").\n",
    "# Например, респондент не ответил на все вопросы предложенной анкеты,\n",
    "# или данные с метеостанции за определённый период потерялись из-за сбоя оборудования.\n",
    "# NA в этом случае обозначает, что эти данные существуют и имеют смысл, но их не удалось узнать.\n",
    "\n",
    "# NaN -- \"not-a-number\" -- результат недопустимой арифметической операции, например 0/0 или Inf - Inf.\n",
    "\n",
    "# NULL -- отсутствие объекта, \"пустота\".\n",
    "# Применяется в тех случаях, когда объект действительно не существует,\n",
    "# не может иметь осмысленного значения.\n",
    "\n",
    "# Для проверки значений есть три функции, is.na, is.nan и is.null, соответственно."
   ]
  },
  {
   "cell_type": "code",
   "execution_count": 379,
   "id": "b13de8d9",
   "metadata": {},
   "outputs": [
    {
     "data": {
      "text/html": [
       "<table>\n",
       "<tbody>\n",
       "\t<tr><td>2</td><td>2</td></tr>\n",
       "\t<tr><td>2</td><td>2</td></tr>\n",
       "</tbody>\n",
       "</table>\n"
      ],
      "text/latex": [
       "\\begin{tabular}{ll}\n",
       "\t 2 & 2\\\\\n",
       "\t 2 & 2\\\\\n",
       "\\end{tabular}\n"
      ],
      "text/markdown": [
       "\n",
       "| 2 | 2 |\n",
       "| 2 | 2 |\n",
       "\n"
      ],
      "text/plain": [
       "     [,1] [,2]\n",
       "[1,] 2    2   \n",
       "[2,] 2    2   "
      ]
     },
     "metadata": {},
     "output_type": "display_data"
    }
   ],
   "source": [
    "x <- matrix(2, 2, 2);x"
   ]
  },
  {
   "cell_type": "code",
   "execution_count": 386,
   "id": "f16bbe35",
   "metadata": {},
   "outputs": [
    {
     "data": {
      "text/html": [
       "<table>\n",
       "<tbody>\n",
       "\t<tr><td>1</td><td>0</td><td>0</td><td>0</td></tr>\n",
       "\t<tr><td>0</td><td>1</td><td>0</td><td>0</td></tr>\n",
       "\t<tr><td>0</td><td>0</td><td>1</td><td>0</td></tr>\n",
       "\t<tr><td>0</td><td>0</td><td>0</td><td>1</td></tr>\n",
       "</tbody>\n",
       "</table>\n"
      ],
      "text/latex": [
       "\\begin{tabular}{llll}\n",
       "\t 1 & 0 & 0 & 0\\\\\n",
       "\t 0 & 1 & 0 & 0\\\\\n",
       "\t 0 & 0 & 1 & 0\\\\\n",
       "\t 0 & 0 & 0 & 1\\\\\n",
       "\\end{tabular}\n"
      ],
      "text/markdown": [
       "\n",
       "| 1 | 0 | 0 | 0 |\n",
       "| 0 | 1 | 0 | 0 |\n",
       "| 0 | 0 | 1 | 0 |\n",
       "| 0 | 0 | 0 | 1 |\n",
       "\n"
      ],
      "text/plain": [
       "     [,1] [,2] [,3] [,4]\n",
       "[1,] 1    0    0    0   \n",
       "[2,] 0    1    0    0   \n",
       "[3,] 0    0    1    0   \n",
       "[4,] 0    0    0    1   "
      ]
     },
     "metadata": {},
     "output_type": "display_data"
    }
   ],
   "source": [
    "diag(4)"
   ]
  },
  {
   "cell_type": "code",
   "execution_count": 384,
   "id": "46bd7f55",
   "metadata": {},
   "outputs": [
    {
     "data": {
      "text/html": [
       "<table>\n",
       "<tbody>\n",
       "\t<tr><td>1</td><td>0</td><td>0</td></tr>\n",
       "\t<tr><td>0</td><td>2</td><td>0</td></tr>\n",
       "\t<tr><td>0</td><td>0</td><td>3</td></tr>\n",
       "</tbody>\n",
       "</table>\n"
      ],
      "text/latex": [
       "\\begin{tabular}{lll}\n",
       "\t 1 & 0 & 0\\\\\n",
       "\t 0 & 2 & 0\\\\\n",
       "\t 0 & 0 & 3\\\\\n",
       "\\end{tabular}\n"
      ],
      "text/markdown": [
       "\n",
       "| 1 | 0 | 0 |\n",
       "| 0 | 2 | 0 |\n",
       "| 0 | 0 | 3 |\n",
       "\n"
      ],
      "text/plain": [
       "     [,1] [,2] [,3]\n",
       "[1,] 1    0    0   \n",
       "[2,] 0    2    0   \n",
       "[3,] 0    0    3   "
      ]
     },
     "metadata": {},
     "output_type": "display_data"
    }
   ],
   "source": [
    "diag(c(1, 2, 3))"
   ]
  },
  {
   "cell_type": "code",
   "execution_count": 387,
   "id": "789e1c1a",
   "metadata": {},
   "outputs": [],
   "source": [
    "# get the longest element\n",
    "get_longest <- function(l) {\n",
    "    len <- sapply(l, length)\n",
    "    ind <- which.max(len)\n",
    "    list(number = ind, element = l[[ind]])\n",
    "}"
   ]
  },
  {
   "cell_type": "code",
   "execution_count": 391,
   "id": "22f287f5",
   "metadata": {},
   "outputs": [],
   "source": [
    "v1 <- c(1, 2, 3)\n",
    "v2 <- c(95, 96, 97, 98)\n",
    "l <- list(v1, v2)"
   ]
  },
  {
   "cell_type": "code",
   "execution_count": 390,
   "id": "fe957c83",
   "metadata": {},
   "outputs": [
    {
     "data": {
      "text/html": [
       "<dl>\n",
       "\t<dt>$number</dt>\n",
       "\t\t<dd>2</dd>\n",
       "\t<dt>$element</dt>\n",
       "\t\t<dd><ol class=list-inline>\n",
       "\t<li>95</li>\n",
       "\t<li>96</li>\n",
       "\t<li>97</li>\n",
       "\t<li>98</li>\n",
       "</ol>\n",
       "</dd>\n",
       "</dl>\n"
      ],
      "text/latex": [
       "\\begin{description}\n",
       "\\item[\\$number] 2\n",
       "\\item[\\$element] \\begin{enumerate*}\n",
       "\\item 95\n",
       "\\item 96\n",
       "\\item 97\n",
       "\\item 98\n",
       "\\end{enumerate*}\n",
       "\n",
       "\\end{description}\n"
      ],
      "text/markdown": [
       "$number\n",
       ":   2\n",
       "$element\n",
       ":   1. 95\n",
       "2. 96\n",
       "3. 97\n",
       "4. 98\n",
       "\n",
       "\n",
       "\n",
       "\n",
       "\n"
      ],
      "text/plain": [
       "$number\n",
       "[1] 2\n",
       "\n",
       "$element\n",
       "[1] 95 96 97 98\n"
      ]
     },
     "metadata": {},
     "output_type": "display_data"
    }
   ],
   "source": [
    "get_longest(list(v1, v2))"
   ]
  },
  {
   "cell_type": "code",
   "execution_count": 392,
   "id": "309f6823",
   "metadata": {},
   "outputs": [],
   "source": [
    "len <- sapply(l, length)"
   ]
  },
  {
   "cell_type": "code",
   "execution_count": 393,
   "id": "490ebad0",
   "metadata": {},
   "outputs": [
    {
     "data": {
      "text/html": [
       "<ol class=list-inline>\n",
       "\t<li>3</li>\n",
       "\t<li>4</li>\n",
       "</ol>\n"
      ],
      "text/latex": [
       "\\begin{enumerate*}\n",
       "\\item 3\n",
       "\\item 4\n",
       "\\end{enumerate*}\n"
      ],
      "text/markdown": [
       "1. 3\n",
       "2. 4\n",
       "\n",
       "\n"
      ],
      "text/plain": [
       "[1] 3 4"
      ]
     },
     "metadata": {},
     "output_type": "display_data"
    }
   ],
   "source": [
    "len"
   ]
  },
  {
   "cell_type": "code",
   "execution_count": 394,
   "id": "ebac9403",
   "metadata": {},
   "outputs": [
    {
     "data": {
      "text/html": [
       "2"
      ],
      "text/latex": [
       "2"
      ],
      "text/markdown": [
       "2"
      ],
      "text/plain": [
       "[1] 2"
      ]
     },
     "metadata": {},
     "output_type": "display_data"
    }
   ],
   "source": [
    "ind <- which.max(len);ind"
   ]
  },
  {
   "cell_type": "code",
   "execution_count": 443,
   "id": "0bd10f4f",
   "metadata": {},
   "outputs": [],
   "source": [
    "# generate list with random length and contents\n",
    "gen_list <- function (n_elements, max_len, seed = 111) {\n",
    "    set.seed(seed)\n",
    "    len <- sample(1:max_len, n_elements)\n",
    "    lapply(1:n_elements, function(i){\n",
    "        rnorm(len[i])\n",
    "    })\n",
    "}"
   ]
  },
  {
   "cell_type": "code",
   "execution_count": 446,
   "id": "4d78c505",
   "metadata": {},
   "outputs": [
    {
     "data": {
      "text/html": [
       "<ol>\n",
       "\t<li><ol class=list-inline>\n",
       "\t<li>-2.30234565842938</li>\n",
       "\t<li>-0.170876044613865</li>\n",
       "\t<li>0.140278225103231</li>\n",
       "\t<li>-1.49742665556512</li>\n",
       "</ol>\n",
       "</li>\n",
       "\t<li><ol class=list-inline>\n",
       "\t<li>-1.01018841905138</li>\n",
       "\t<li>-0.948475604952447</li>\n",
       "\t<li>-0.493962217235108</li>\n",
       "</ol>\n",
       "</li>\n",
       "\t<li><ol class=list-inline>\n",
       "\t<li>-0.17367412797058</li>\n",
       "\t<li>-0.406598780040652</li>\n",
       "\t<li>1.84563626380708</li>\n",
       "\t<li>0.394054109974501</li>\n",
       "\t<li>0.797528501261517</li>\n",
       "\t<li>-1.56666536018558</li>\n",
       "\t<li>-0.0858510088226062</li>\n",
       "</ol>\n",
       "</li>\n",
       "\t<li>-0.359139481237783</li>\n",
       "</ol>\n"
      ],
      "text/latex": [
       "\\begin{enumerate}\n",
       "\\item \\begin{enumerate*}\n",
       "\\item -2.30234565842938\n",
       "\\item -0.170876044613865\n",
       "\\item 0.140278225103231\n",
       "\\item -1.49742665556512\n",
       "\\end{enumerate*}\n",
       "\n",
       "\\item \\begin{enumerate*}\n",
       "\\item -1.01018841905138\n",
       "\\item -0.948475604952447\n",
       "\\item -0.493962217235108\n",
       "\\end{enumerate*}\n",
       "\n",
       "\\item \\begin{enumerate*}\n",
       "\\item -0.17367412797058\n",
       "\\item -0.406598780040652\n",
       "\\item 1.84563626380708\n",
       "\\item 0.394054109974501\n",
       "\\item 0.797528501261517\n",
       "\\item -1.56666536018558\n",
       "\\item -0.0858510088226062\n",
       "\\end{enumerate*}\n",
       "\n",
       "\\item -0.359139481237783\n",
       "\\end{enumerate}\n"
      ],
      "text/markdown": [
       "1. 1. -2.30234565842938\n",
       "2. -0.170876044613865\n",
       "3. 0.140278225103231\n",
       "4. -1.49742665556512\n",
       "\n",
       "\n",
       "\n",
       "2. 1. -1.01018841905138\n",
       "2. -0.948475604952447\n",
       "3. -0.493962217235108\n",
       "\n",
       "\n",
       "\n",
       "3. 1. -0.17367412797058\n",
       "2. -0.406598780040652\n",
       "3. 1.84563626380708\n",
       "4. 0.394054109974501\n",
       "5. 0.797528501261517\n",
       "6. -1.56666536018558\n",
       "7. -0.0858510088226062\n",
       "\n",
       "\n",
       "\n",
       "4. -0.359139481237783\n",
       "\n",
       "\n"
      ],
      "text/plain": [
       "[[1]]\n",
       "[1] -2.3023457 -0.1708760  0.1402782 -1.4974267\n",
       "\n",
       "[[2]]\n",
       "[1] -1.0101884 -0.9484756 -0.4939622\n",
       "\n",
       "[[3]]\n",
       "[1] -0.17367413 -0.40659878  1.84563626  0.39405411  0.79752850 -1.56666536\n",
       "[7] -0.08585101\n",
       "\n",
       "[[4]]\n",
       "[1] -0.3591395\n"
      ]
     },
     "metadata": {},
     "output_type": "display_data"
    }
   ],
   "source": [
    "l1 <- gen_list(4, 10);l1"
   ]
  },
  {
   "cell_type": "code",
   "execution_count": 448,
   "id": "4f0fd328",
   "metadata": {},
   "outputs": [
    {
     "data": {
      "text/html": [
       "<dl>\n",
       "\t<dt>$number</dt>\n",
       "\t\t<dd>3</dd>\n",
       "\t<dt>$element</dt>\n",
       "\t\t<dd><ol class=list-inline>\n",
       "\t<li>-0.17367412797058</li>\n",
       "\t<li>-0.406598780040652</li>\n",
       "\t<li>1.84563626380708</li>\n",
       "\t<li>0.394054109974501</li>\n",
       "\t<li>0.797528501261517</li>\n",
       "\t<li>-1.56666536018558</li>\n",
       "\t<li>-0.0858510088226062</li>\n",
       "</ol>\n",
       "</dd>\n",
       "</dl>\n"
      ],
      "text/latex": [
       "\\begin{description}\n",
       "\\item[\\$number] 3\n",
       "\\item[\\$element] \\begin{enumerate*}\n",
       "\\item -0.17367412797058\n",
       "\\item -0.406598780040652\n",
       "\\item 1.84563626380708\n",
       "\\item 0.394054109974501\n",
       "\\item 0.797528501261517\n",
       "\\item -1.56666536018558\n",
       "\\item -0.0858510088226062\n",
       "\\end{enumerate*}\n",
       "\n",
       "\\end{description}\n"
      ],
      "text/markdown": [
       "$number\n",
       ":   3\n",
       "$element\n",
       ":   1. -0.17367412797058\n",
       "2. -0.406598780040652\n",
       "3. 1.84563626380708\n",
       "4. 0.394054109974501\n",
       "5. 0.797528501261517\n",
       "6. -1.56666536018558\n",
       "7. -0.0858510088226062\n",
       "\n",
       "\n",
       "\n",
       "\n",
       "\n"
      ],
      "text/plain": [
       "$number\n",
       "[1] 3\n",
       "\n",
       "$element\n",
       "[1] -0.17367413 -0.40659878  1.84563626  0.39405411  0.79752850 -1.56666536\n",
       "[7] -0.08585101\n"
      ]
     },
     "metadata": {},
     "output_type": "display_data"
    }
   ],
   "source": [
    "gl1 <- get_longest(l1);gl1"
   ]
  },
  {
   "cell_type": "code",
   "execution_count": 449,
   "id": "3949fec0",
   "metadata": {},
   "outputs": [
    {
     "data": {
      "text/html": [
       "<ol>\n",
       "\t<li><ol class=list-inline>\n",
       "\t<li>0.510836321690603</li>\n",
       "\t<li>-0.398812053485175</li>\n",
       "\t<li>1.63868605878607</li>\n",
       "\t<li>0.621273969393756</li>\n",
       "\t<li>0.202704303988706</li>\n",
       "\t<li>1.10893778596448</li>\n",
       "\t<li>-0.206224754856176</li>\n",
       "\t<li>-0.378965036935805</li>\n",
       "</ol>\n",
       "</li>\n",
       "\t<li>-0.304261661548152</li>\n",
       "\t<li><ol class=list-inline>\n",
       "\t<li>0.0541623242599256</li>\n",
       "\t<li>-1.88093061733509</li>\n",
       "</ol>\n",
       "</li>\n",
       "\t<li><ol class=list-inline>\n",
       "\t<li>-0.0337564737409322</li>\n",
       "\t<li>2.31149476220224</li>\n",
       "\t<li>0.972340169191503</li>\n",
       "\t<li>0.964608041232885</li>\n",
       "</ol>\n",
       "</li>\n",
       "</ol>\n"
      ],
      "text/latex": [
       "\\begin{enumerate}\n",
       "\\item \\begin{enumerate*}\n",
       "\\item 0.510836321690603\n",
       "\\item -0.398812053485175\n",
       "\\item 1.63868605878607\n",
       "\\item 0.621273969393756\n",
       "\\item 0.202704303988706\n",
       "\\item 1.10893778596448\n",
       "\\item -0.206224754856176\n",
       "\\item -0.378965036935805\n",
       "\\end{enumerate*}\n",
       "\n",
       "\\item -0.304261661548152\n",
       "\\item \\begin{enumerate*}\n",
       "\\item 0.0541623242599256\n",
       "\\item -1.88093061733509\n",
       "\\end{enumerate*}\n",
       "\n",
       "\\item \\begin{enumerate*}\n",
       "\\item -0.0337564737409322\n",
       "\\item 2.31149476220224\n",
       "\\item 0.972340169191503\n",
       "\\item 0.964608041232885\n",
       "\\end{enumerate*}\n",
       "\n",
       "\\end{enumerate}\n"
      ],
      "text/markdown": [
       "1. 1. 0.510836321690603\n",
       "2. -0.398812053485175\n",
       "3. 1.63868605878607\n",
       "4. 0.621273969393756\n",
       "5. 0.202704303988706\n",
       "6. 1.10893778596448\n",
       "7. -0.206224754856176\n",
       "8. -0.378965036935805\n",
       "\n",
       "\n",
       "\n",
       "2. -0.304261661548152\n",
       "3. 1. 0.0541623242599256\n",
       "2. -1.88093061733509\n",
       "\n",
       "\n",
       "\n",
       "4. 1. -0.0337564737409322\n",
       "2. 2.31149476220224\n",
       "3. 0.972340169191503\n",
       "4. 0.964608041232885\n",
       "\n",
       "\n",
       "\n",
       "\n",
       "\n"
      ],
      "text/plain": [
       "[[1]]\n",
       "[1]  0.5108363 -0.3988121  1.6386861  0.6212740  0.2027043  1.1089378 -0.2062248\n",
       "[8] -0.3789650\n",
       "\n",
       "[[2]]\n",
       "[1] -0.3042617\n",
       "\n",
       "[[3]]\n",
       "[1]  0.05416232 -1.88093062\n",
       "\n",
       "[[4]]\n",
       "[1] -0.03375647  2.31149476  0.97234017  0.96460804\n"
      ]
     },
     "metadata": {},
     "output_type": "display_data"
    }
   ],
   "source": [
    "l2 <- gen_list(4, 10, 777);l2"
   ]
  },
  {
   "cell_type": "code",
   "execution_count": 450,
   "id": "f1b3416d",
   "metadata": {},
   "outputs": [
    {
     "data": {
      "text/html": [
       "<dl>\n",
       "\t<dt>$number</dt>\n",
       "\t\t<dd>1</dd>\n",
       "\t<dt>$element</dt>\n",
       "\t\t<dd><ol class=list-inline>\n",
       "\t<li>0.510836321690603</li>\n",
       "\t<li>-0.398812053485175</li>\n",
       "\t<li>1.63868605878607</li>\n",
       "\t<li>0.621273969393756</li>\n",
       "\t<li>0.202704303988706</li>\n",
       "\t<li>1.10893778596448</li>\n",
       "\t<li>-0.206224754856176</li>\n",
       "\t<li>-0.378965036935805</li>\n",
       "</ol>\n",
       "</dd>\n",
       "</dl>\n"
      ],
      "text/latex": [
       "\\begin{description}\n",
       "\\item[\\$number] 1\n",
       "\\item[\\$element] \\begin{enumerate*}\n",
       "\\item 0.510836321690603\n",
       "\\item -0.398812053485175\n",
       "\\item 1.63868605878607\n",
       "\\item 0.621273969393756\n",
       "\\item 0.202704303988706\n",
       "\\item 1.10893778596448\n",
       "\\item -0.206224754856176\n",
       "\\item -0.378965036935805\n",
       "\\end{enumerate*}\n",
       "\n",
       "\\end{description}\n"
      ],
      "text/markdown": [
       "$number\n",
       ":   1\n",
       "$element\n",
       ":   1. 0.510836321690603\n",
       "2. -0.398812053485175\n",
       "3. 1.63868605878607\n",
       "4. 0.621273969393756\n",
       "5. 0.202704303988706\n",
       "6. 1.10893778596448\n",
       "7. -0.206224754856176\n",
       "8. -0.378965036935805\n",
       "\n",
       "\n",
       "\n",
       "\n",
       "\n"
      ],
      "text/plain": [
       "$number\n",
       "[1] 1\n",
       "\n",
       "$element\n",
       "[1]  0.5108363 -0.3988121  1.6386861  0.6212740  0.2027043  1.1089378 -0.2062248\n",
       "[8] -0.3789650\n"
      ]
     },
     "metadata": {},
     "output_type": "display_data"
    }
   ],
   "source": [
    "get_longest(l2)"
   ]
  },
  {
   "cell_type": "code",
   "execution_count": 558,
   "id": "2bd8c969",
   "metadata": {},
   "outputs": [],
   "source": [
    "v <- c(5, 2, 7, 7, 7, 2, 0, 0)"
   ]
  },
  {
   "cell_type": "code",
   "execution_count": 559,
   "id": "debc8680",
   "metadata": {},
   "outputs": [],
   "source": [
    "t <- table(v)"
   ]
  },
  {
   "cell_type": "code",
   "execution_count": 560,
   "id": "3cc5bf82",
   "metadata": {},
   "outputs": [
    {
     "data": {
      "text/plain": [
       "v\n",
       "0 2 5 7 \n",
       "2 2 1 3 "
      ]
     },
     "metadata": {},
     "output_type": "display_data"
    }
   ],
   "source": [
    "t"
   ]
  },
  {
   "cell_type": "code",
   "execution_count": 561,
   "id": "c22cb535",
   "metadata": {},
   "outputs": [],
   "source": [
    "df <- data.frame(t)"
   ]
  },
  {
   "cell_type": "code",
   "execution_count": 562,
   "id": "9191b622",
   "metadata": {},
   "outputs": [
    {
     "data": {
      "text/html": [
       "<table>\n",
       "<thead><tr><th scope=col>v</th><th scope=col>Freq</th></tr></thead>\n",
       "<tbody>\n",
       "\t<tr><td>0</td><td>2</td></tr>\n",
       "\t<tr><td>2</td><td>2</td></tr>\n",
       "\t<tr><td>5</td><td>1</td></tr>\n",
       "\t<tr><td>7</td><td>3</td></tr>\n",
       "</tbody>\n",
       "</table>\n"
      ],
      "text/latex": [
       "\\begin{tabular}{r|ll}\n",
       " v & Freq\\\\\n",
       "\\hline\n",
       "\t 0 & 2\\\\\n",
       "\t 2 & 2\\\\\n",
       "\t 5 & 1\\\\\n",
       "\t 7 & 3\\\\\n",
       "\\end{tabular}\n"
      ],
      "text/markdown": [
       "\n",
       "| v | Freq |\n",
       "|---|---|\n",
       "| 0 | 2 |\n",
       "| 2 | 2 |\n",
       "| 5 | 1 |\n",
       "| 7 | 3 |\n",
       "\n"
      ],
      "text/plain": [
       "  v Freq\n",
       "1 0 2   \n",
       "2 2 2   \n",
       "3 5 1   \n",
       "4 7 3   "
      ]
     },
     "metadata": {},
     "output_type": "display_data"
    }
   ],
   "source": [
    "df"
   ]
  },
  {
   "cell_type": "code",
   "execution_count": 563,
   "id": "395ff1ae",
   "metadata": {},
   "outputs": [
    {
     "data": {
      "text/html": [
       "<table>\n",
       "<thead><tr><th scope=col>Freq</th></tr></thead>\n",
       "<tbody>\n",
       "\t<tr><td>2</td></tr>\n",
       "\t<tr><td>2</td></tr>\n",
       "\t<tr><td>1</td></tr>\n",
       "\t<tr><td>3</td></tr>\n",
       "</tbody>\n",
       "</table>\n"
      ],
      "text/latex": [
       "\\begin{tabular}{r|l}\n",
       " Freq\\\\\n",
       "\\hline\n",
       "\t 2\\\\\n",
       "\t 2\\\\\n",
       "\t 1\\\\\n",
       "\t 3\\\\\n",
       "\\end{tabular}\n"
      ],
      "text/markdown": [
       "\n",
       "| Freq |\n",
       "|---|\n",
       "| 2 |\n",
       "| 2 |\n",
       "| 1 |\n",
       "| 3 |\n",
       "\n"
      ],
      "text/plain": [
       "  Freq\n",
       "1 2   \n",
       "2 2   \n",
       "3 1   \n",
       "4 3   "
      ]
     },
     "metadata": {},
     "output_type": "display_data"
    }
   ],
   "source": [
    "df[2]"
   ]
  },
  {
   "cell_type": "code",
   "execution_count": 578,
   "id": "df238a6f",
   "metadata": {},
   "outputs": [],
   "source": [
    "v1 <- as.integer(as.vector(df$v))"
   ]
  },
  {
   "cell_type": "code",
   "execution_count": 579,
   "id": "3c2236d5",
   "metadata": {},
   "outputs": [
    {
     "data": {
      "text/html": [
       "<ol class=list-inline>\n",
       "\t<li>0</li>\n",
       "\t<li>2</li>\n",
       "\t<li>5</li>\n",
       "\t<li>7</li>\n",
       "</ol>\n"
      ],
      "text/latex": [
       "\\begin{enumerate*}\n",
       "\\item 0\n",
       "\\item 2\n",
       "\\item 5\n",
       "\\item 7\n",
       "\\end{enumerate*}\n"
      ],
      "text/markdown": [
       "1. 0\n",
       "2. 2\n",
       "3. 5\n",
       "4. 7\n",
       "\n",
       "\n"
      ],
      "text/plain": [
       "[1] 0 2 5 7"
      ]
     },
     "metadata": {},
     "output_type": "display_data"
    }
   ],
   "source": [
    "v1"
   ]
  },
  {
   "cell_type": "code",
   "execution_count": 556,
   "id": "c9849e51",
   "metadata": {},
   "outputs": [
    {
     "data": {
      "text/html": [
       "<ol class=list-inline>\n",
       "\t<li>3</li>\n",
       "\t<li>2</li>\n",
       "\t<li>2</li>\n",
       "\t<li>2</li>\n",
       "\t<li>2</li>\n",
       "</ol>\n"
      ],
      "text/latex": [
       "\\begin{enumerate*}\n",
       "\\item 3\n",
       "\\item 2\n",
       "\\item 2\n",
       "\\item 2\n",
       "\\item 2\n",
       "\\end{enumerate*}\n"
      ],
      "text/markdown": [
       "1. 3\n",
       "2. 2\n",
       "3. 2\n",
       "4. 2\n",
       "5. 2\n",
       "\n",
       "\n"
      ],
      "text/plain": [
       "[1] 3 2 2 2 2"
      ]
     },
     "metadata": {},
     "output_type": "display_data"
    }
   ],
   "source": [
    "v2 <- df$Freq;v2"
   ]
  },
  {
   "cell_type": "code",
   "execution_count": 557,
   "id": "beac1795",
   "metadata": {},
   "outputs": [
    {
     "data": {
      "text/html": [
       "<table>\n",
       "<tbody>\n",
       "\t<tr><td>1</td><td>2</td><td>3</td><td>4</td><td>5</td></tr>\n",
       "\t<tr><td>3</td><td>2</td><td>2</td><td>2</td><td>2</td></tr>\n",
       "</tbody>\n",
       "</table>\n"
      ],
      "text/latex": [
       "\\begin{tabular}{lllll}\n",
       "\t 1 & 2 & 3 & 4 & 5\\\\\n",
       "\t 3 & 2 & 2 & 2 & 2\\\\\n",
       "\\end{tabular}\n"
      ],
      "text/markdown": [
       "\n",
       "| 1 | 2 | 3 | 4 | 5 |\n",
       "| 3 | 2 | 2 | 2 | 2 |\n",
       "\n"
      ],
      "text/plain": [
       "     [,1] [,2] [,3] [,4] [,5]\n",
       "[1,] 1    2    3    4    5   \n",
       "[2,] 3    2    2    2    2   "
      ]
     },
     "metadata": {},
     "output_type": "display_data"
    }
   ],
   "source": [
    "matrix(c(v1, v2), byrow = T, nrow = 2)"
   ]
  },
  {
   "cell_type": "code",
   "execution_count": 585,
   "id": "e4673001",
   "metadata": {},
   "outputs": [],
   "source": [
    "count_elements <- function(x) {\n",
    "    df <- data.frame(table(x))\n",
    "    v1 <- as.vector((df$x))\n",
    "    v2 <- df$Freq\n",
    "    matrix(c(v1, v2), nrow = 2, byrow = T)\n",
    "\n",
    "}\n"
   ]
  },
  {
   "cell_type": "code",
   "execution_count": 596,
   "id": "2407bbf5",
   "metadata": {},
   "outputs": [
    {
     "data": {
      "text/html": [
       "<table>\n",
       "<tbody>\n",
       "\t<tr><td>0</td><td>2</td><td>5</td><td>7</td></tr>\n",
       "\t<tr><td>2</td><td>2</td><td>1</td><td>3</td></tr>\n",
       "</tbody>\n",
       "</table>\n"
      ],
      "text/latex": [
       "\\begin{tabular}{llll}\n",
       "\t 0 & 2 & 5 & 7\\\\\n",
       "\t 2 & 2 & 1 & 3\\\\\n",
       "\\end{tabular}\n"
      ],
      "text/markdown": [
       "\n",
       "| 0 | 2 | 5 | 7 |\n",
       "| 2 | 2 | 1 | 3 |\n",
       "\n"
      ],
      "text/plain": [
       "     [,1] [,2] [,3] [,4]\n",
       "[1,] 0    2    5    7   \n",
       "[2,] 2    2    1    3   "
      ]
     },
     "metadata": {},
     "output_type": "display_data"
    }
   ],
   "source": [
    "count_elements(v)"
   ]
  },
  {
   "cell_type": "code",
   "execution_count": 594,
   "id": "e1a8f898",
   "metadata": {},
   "outputs": [],
   "source": [
    "count_elements <- function(x) {\n",
    "    t <- table(x)\n",
    "    matrix(rbind(as.numeric(names(t)), t), nrow = 2)\n",
    "\n",
    "}\n"
   ]
  },
  {
   "cell_type": "code",
   "execution_count": 595,
   "id": "db447f28",
   "metadata": {},
   "outputs": [],
   "source": [
    "count_elements <- function(x) {\n",
    "rbind(sort(unique(x)), sapply(sort(unique(x)), function(i) length(x[x==i])))\n",
    "}"
   ]
  },
  {
   "cell_type": "code",
   "execution_count": 598,
   "id": "604d5eaf",
   "metadata": {},
   "outputs": [],
   "source": [
    "v <- rep(c(0, 1 ,2), each = 4)"
   ]
  },
  {
   "cell_type": "code",
   "execution_count": 600,
   "id": "30c9448d",
   "metadata": {},
   "outputs": [],
   "source": [
    "m <- matrix(v, 3, 4)"
   ]
  },
  {
   "cell_type": "code",
   "execution_count": 601,
   "id": "d1e1281d",
   "metadata": {},
   "outputs": [
    {
     "data": {
      "text/html": [
       "<table>\n",
       "<tbody>\n",
       "\t<tr><td>0</td><td>0</td><td>1</td><td>2</td></tr>\n",
       "\t<tr><td>0</td><td>1</td><td>1</td><td>2</td></tr>\n",
       "\t<tr><td>0</td><td>1</td><td>2</td><td>2</td></tr>\n",
       "</tbody>\n",
       "</table>\n"
      ],
      "text/latex": [
       "\\begin{tabular}{llll}\n",
       "\t 0 & 0 & 1 & 2\\\\\n",
       "\t 0 & 1 & 1 & 2\\\\\n",
       "\t 0 & 1 & 2 & 2\\\\\n",
       "\\end{tabular}\n"
      ],
      "text/markdown": [
       "\n",
       "| 0 | 0 | 1 | 2 |\n",
       "| 0 | 1 | 1 | 2 |\n",
       "| 0 | 1 | 2 | 2 |\n",
       "\n"
      ],
      "text/plain": [
       "     [,1] [,2] [,3] [,4]\n",
       "[1,] 0    0    1    2   \n",
       "[2,] 0    1    1    2   \n",
       "[3,] 0    1    2    2   "
      ]
     },
     "metadata": {},
     "output_type": "display_data"
    }
   ],
   "source": [
    "m"
   ]
  },
  {
   "cell_type": "code",
   "execution_count": 602,
   "id": "584d3d8a",
   "metadata": {},
   "outputs": [],
   "source": [
    "m[m== 0] <- NA"
   ]
  },
  {
   "cell_type": "code",
   "execution_count": 603,
   "id": "837754d4",
   "metadata": {},
   "outputs": [
    {
     "data": {
      "text/html": [
       "<table>\n",
       "<tbody>\n",
       "\t<tr><td>NA</td><td>NA</td><td>1 </td><td>2 </td></tr>\n",
       "\t<tr><td>NA</td><td> 1</td><td>1 </td><td>2 </td></tr>\n",
       "\t<tr><td>NA</td><td> 1</td><td>2 </td><td>2 </td></tr>\n",
       "</tbody>\n",
       "</table>\n"
      ],
      "text/latex": [
       "\\begin{tabular}{llll}\n",
       "\t NA & NA & 1  & 2 \\\\\n",
       "\t NA &  1 & 1  & 2 \\\\\n",
       "\t NA &  1 & 2  & 2 \\\\\n",
       "\\end{tabular}\n"
      ],
      "text/markdown": [
       "\n",
       "| NA | NA | 1  | 2  |\n",
       "| NA |  1 | 1  | 2  |\n",
       "| NA |  1 | 2  | 2  |\n",
       "\n"
      ],
      "text/plain": [
       "     [,1] [,2] [,3] [,4]\n",
       "[1,] NA   NA   1    2   \n",
       "[2,] NA    1   1    2   \n",
       "[3,] NA    1   2    2   "
      ]
     },
     "metadata": {},
     "output_type": "display_data"
    }
   ],
   "source": [
    "m"
   ]
  },
  {
   "cell_type": "code",
   "execution_count": 604,
   "id": "20d5cded",
   "metadata": {},
   "outputs": [],
   "source": [
    "set.seed(1789)\n",
    "bastille <- list(\n",
    "  \"La Chapelle Tower\" = rbinom(5, 10, 1/2), \n",
    "  \"Tresor Tower\" = rbinom(8, 12, 1/4), \n",
    "  \"Comte Tower\" = rbinom(14, 3, 1/5) + 1,\n",
    "  \"Baziniere Tower\" = rbinom(8, 4, 4/5), \n",
    "  \"Bertaudiere Tower\" = rbinom(4, 8, 2/3),\n",
    "  \"Liberte Tower\" = rbinom(1, 100, 0.1), \n",
    "  \"Puits Tower\" = rbinom(5, 5, 0.7),\n",
    "  \"Coin Tower\" = rbinom(3, 16, 0.4)\n",
    ")"
   ]
  },
  {
   "cell_type": "code",
   "execution_count": 635,
   "id": "9749814b",
   "metadata": {},
   "outputs": [
    {
     "data": {
      "text/html": [
       "<dl class=dl-horizontal>\n",
       "\t<dt>La Chapelle Tower</dt>\n",
       "\t\t<dd>28</dd>\n",
       "\t<dt>Tresor Tower</dt>\n",
       "\t\t<dd>30</dd>\n",
       "\t<dt>Comte Tower</dt>\n",
       "\t\t<dd>23</dd>\n",
       "\t<dt>Baziniere Tower</dt>\n",
       "\t\t<dd>24</dd>\n",
       "\t<dt>Bertaudiere Tower</dt>\n",
       "\t\t<dd>18</dd>\n",
       "\t<dt>Liberte Tower</dt>\n",
       "\t\t<dd>10</dd>\n",
       "\t<dt>Puits Tower</dt>\n",
       "\t\t<dd>20</dd>\n",
       "\t<dt>Coin Tower</dt>\n",
       "\t\t<dd>17</dd>\n",
       "</dl>\n"
      ],
      "text/latex": [
       "\\begin{description*}\n",
       "\\item[La Chapelle Tower] 28\n",
       "\\item[Tresor Tower] 30\n",
       "\\item[Comte Tower] 23\n",
       "\\item[Baziniere Tower] 24\n",
       "\\item[Bertaudiere Tower] 18\n",
       "\\item[Liberte Tower] 10\n",
       "\\item[Puits Tower] 20\n",
       "\\item[Coin Tower] 17\n",
       "\\end{description*}\n"
      ],
      "text/markdown": [
       "La Chapelle Tower\n",
       ":   28Tresor Tower\n",
       ":   30Comte Tower\n",
       ":   23Baziniere Tower\n",
       ":   24Bertaudiere Tower\n",
       ":   18Liberte Tower\n",
       ":   10Puits Tower\n",
       ":   20Coin Tower\n",
       ":   17\n",
       "\n"
      ],
      "text/plain": [
       "La Chapelle Tower      Tresor Tower       Comte Tower   Baziniere Tower \n",
       "               28                30                23                24 \n",
       "Bertaudiere Tower     Liberte Tower       Puits Tower        Coin Tower \n",
       "               18                10                20                17 "
      ]
     },
     "metadata": {},
     "output_type": "display_data"
    }
   ],
   "source": [
    "v1 <- sapply(bastille, sum); v1"
   ]
  },
  {
   "cell_type": "code",
   "execution_count": 658,
   "id": "11005dbc",
   "metadata": {},
   "outputs": [
    {
     "data": {
      "text/html": [
       "'Liberte Tower, 10, 170'"
      ],
      "text/latex": [
       "'Liberte Tower, 10, 170'"
      ],
      "text/markdown": [
       "'Liberte Tower, 10, 170'"
      ],
      "text/plain": [
       "[1] \"Liberte Tower, 10, 170\""
      ]
     },
     "metadata": {},
     "output_type": "display_data"
    }
   ],
   "source": [
    "paste(names(which.min(v1)), min(v1), sum(v1), sep = \", \")"
   ]
  },
  {
   "cell_type": "code",
   "execution_count": 659,
   "id": "5d7a3a50",
   "metadata": {},
   "outputs": [],
   "source": [
    "# Общий глоссарий для этого урока:\n",
    "\n",
    "# ?matrix\n",
    "# ?dim, ?rownames, ?colnames\n",
    "# ?rbind, ?cbind, ?apply\n",
    "# ?rowSums, ?rowMeans, ?colSums, ?colMeans\n",
    "# ?list, ?unlist\n",
    "# ?\"[\" (?\"[[\", ?\"$\")\n",
    "# ?lapply, ?sapply\n",
    "# Partial matching, ?\"...\" (ellipsis)\n",
    "# ?diag"
   ]
  }
 ],
 "metadata": {
  "kernelspec": {
   "display_name": "R",
   "language": "R",
   "name": "ir"
  },
  "language_info": {
   "codemirror_mode": "r",
   "file_extension": ".r",
   "mimetype": "text/x-r-source",
   "name": "R",
   "pygments_lexer": "r",
   "version": "3.6.1"
  }
 },
 "nbformat": 4,
 "nbformat_minor": 5
}
