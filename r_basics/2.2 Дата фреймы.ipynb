{
 "cells": [
  {
   "cell_type": "code",
   "execution_count": 1,
   "id": "780a6de1",
   "metadata": {},
   "outputs": [],
   "source": [
    "# создание датафрейма"
   ]
  },
  {
   "cell_type": "code",
   "execution_count": 5,
   "id": "161e1c5d",
   "metadata": {},
   "outputs": [
    {
     "data": {
      "text/html": [
       "<table>\n",
       "<thead><tr><th scope=col>x</th><th scope=col>y</th><th scope=col>z</th></tr></thead>\n",
       "<tbody>\n",
       "\t<tr><td>1    </td><td>A    </td><td> TRUE</td></tr>\n",
       "\t<tr><td>2    </td><td>B    </td><td>FALSE</td></tr>\n",
       "\t<tr><td>3    </td><td>C    </td><td> TRUE</td></tr>\n",
       "\t<tr><td>4    </td><td>D    </td><td>FALSE</td></tr>\n",
       "</tbody>\n",
       "</table>\n"
      ],
      "text/latex": [
       "\\begin{tabular}{r|lll}\n",
       " x & y & z\\\\\n",
       "\\hline\n",
       "\t 1     & A     &  TRUE\\\\\n",
       "\t 2     & B     & FALSE\\\\\n",
       "\t 3     & C     &  TRUE\\\\\n",
       "\t 4     & D     & FALSE\\\\\n",
       "\\end{tabular}\n"
      ],
      "text/markdown": [
       "\n",
       "| x | y | z |\n",
       "|---|---|---|\n",
       "| 1     | A     |  TRUE |\n",
       "| 2     | B     | FALSE |\n",
       "| 3     | C     |  TRUE |\n",
       "| 4     | D     | FALSE |\n",
       "\n"
      ],
      "text/plain": [
       "  x y z    \n",
       "1 1 A  TRUE\n",
       "2 2 B FALSE\n",
       "3 3 C  TRUE\n",
       "4 4 D FALSE"
      ]
     },
     "metadata": {},
     "output_type": "display_data"
    }
   ],
   "source": [
    "df <- data.frame(x = 1:4, y = LETTERS[1:4], z = c(T, F));df"
   ]
  },
  {
   "cell_type": "code",
   "execution_count": 6,
   "id": "7b7a3f03",
   "metadata": {},
   "outputs": [],
   "source": [
    "# сводка об объекте"
   ]
  },
  {
   "cell_type": "code",
   "execution_count": 7,
   "id": "e92db6c0",
   "metadata": {},
   "outputs": [
    {
     "name": "stdout",
     "output_type": "stream",
     "text": [
      "'data.frame':\t4 obs. of  3 variables:\n",
      " $ x: int  1 2 3 4\n",
      " $ y: Factor w/ 4 levels \"A\",\"B\",\"C\",\"D\": 1 2 3 4\n",
      " $ z: logi  TRUE FALSE TRUE FALSE\n"
     ]
    }
   ],
   "source": [
    "str(df)"
   ]
  },
  {
   "cell_type": "code",
   "execution_count": 9,
   "id": "69aca417",
   "metadata": {},
   "outputs": [],
   "source": [
    "# имена строк"
   ]
  },
  {
   "cell_type": "code",
   "execution_count": 10,
   "id": "003387e8",
   "metadata": {},
   "outputs": [
    {
     "data": {
      "text/html": [
       "<table>\n",
       "<thead><tr><th></th><th scope=col>x</th><th scope=col>y</th><th scope=col>z</th></tr></thead>\n",
       "<tbody>\n",
       "\t<tr><th scope=row>Alpha</th><td>1    </td><td>A    </td><td> TRUE</td></tr>\n",
       "\t<tr><th scope=row>Bravo</th><td>2    </td><td>B    </td><td>FALSE</td></tr>\n",
       "\t<tr><th scope=row>Charlie</th><td>3    </td><td>C    </td><td> TRUE</td></tr>\n",
       "\t<tr><th scope=row>Delta</th><td>4    </td><td>D    </td><td>FALSE</td></tr>\n",
       "</tbody>\n",
       "</table>\n"
      ],
      "text/latex": [
       "\\begin{tabular}{r|lll}\n",
       "  & x & y & z\\\\\n",
       "\\hline\n",
       "\tAlpha & 1     & A     &  TRUE\\\\\n",
       "\tBravo & 2     & B     & FALSE\\\\\n",
       "\tCharlie & 3     & C     &  TRUE\\\\\n",
       "\tDelta & 4     & D     & FALSE\\\\\n",
       "\\end{tabular}\n"
      ],
      "text/markdown": [
       "\n",
       "| <!--/--> | x | y | z |\n",
       "|---|---|---|---|\n",
       "| Alpha | 1     | A     |  TRUE |\n",
       "| Bravo | 2     | B     | FALSE |\n",
       "| Charlie | 3     | C     |  TRUE |\n",
       "| Delta | 4     | D     | FALSE |\n",
       "\n"
      ],
      "text/plain": [
       "        x y z    \n",
       "Alpha   1 A  TRUE\n",
       "Bravo   2 B FALSE\n",
       "Charlie 3 C  TRUE\n",
       "Delta   4 D FALSE"
      ]
     },
     "metadata": {},
     "output_type": "display_data"
    }
   ],
   "source": [
    "df <- data.frame(x = 1:4, y = LETTERS[1:4], z = c(T, F),\n",
    "                row.names = c(\"Alpha\", \"Bravo\", \"Charlie\", \"Delta\"));df"
   ]
  },
  {
   "cell_type": "code",
   "execution_count": 11,
   "id": "03db20f5",
   "metadata": {},
   "outputs": [
    {
     "data": {
      "text/html": [
       "<ol class=list-inline>\n",
       "\t<li>'Alpha'</li>\n",
       "\t<li>'Bravo'</li>\n",
       "\t<li>'Charlie'</li>\n",
       "\t<li>'Delta'</li>\n",
       "</ol>\n"
      ],
      "text/latex": [
       "\\begin{enumerate*}\n",
       "\\item 'Alpha'\n",
       "\\item 'Bravo'\n",
       "\\item 'Charlie'\n",
       "\\item 'Delta'\n",
       "\\end{enumerate*}\n"
      ],
      "text/markdown": [
       "1. 'Alpha'\n",
       "2. 'Bravo'\n",
       "3. 'Charlie'\n",
       "4. 'Delta'\n",
       "\n",
       "\n"
      ],
      "text/plain": [
       "[1] \"Alpha\"   \"Bravo\"   \"Charlie\" \"Delta\"  "
      ]
     },
     "metadata": {},
     "output_type": "display_data"
    }
   ],
   "source": [
    "rownames(df)"
   ]
  },
  {
   "cell_type": "code",
   "execution_count": 13,
   "id": "842dd857",
   "metadata": {},
   "outputs": [
    {
     "data": {
      "text/html": [
       "<ol class=list-inline>\n",
       "\t<li>'x'</li>\n",
       "\t<li>'y'</li>\n",
       "\t<li>'z'</li>\n",
       "</ol>\n"
      ],
      "text/latex": [
       "\\begin{enumerate*}\n",
       "\\item 'x'\n",
       "\\item 'y'\n",
       "\\item 'z'\n",
       "\\end{enumerate*}\n"
      ],
      "text/markdown": [
       "1. 'x'\n",
       "2. 'y'\n",
       "3. 'z'\n",
       "\n",
       "\n"
      ],
      "text/plain": [
       "[1] \"x\" \"y\" \"z\""
      ]
     },
     "metadata": {},
     "output_type": "display_data"
    }
   ],
   "source": [
    "colnames(df)"
   ]
  },
  {
   "cell_type": "code",
   "execution_count": 14,
   "id": "73a163f1",
   "metadata": {},
   "outputs": [
    {
     "data": {
      "text/html": [
       "<ol>\n",
       "\t<li><ol class=list-inline>\n",
       "\t<li>'Alpha'</li>\n",
       "\t<li>'Bravo'</li>\n",
       "\t<li>'Charlie'</li>\n",
       "\t<li>'Delta'</li>\n",
       "</ol>\n",
       "</li>\n",
       "\t<li><ol class=list-inline>\n",
       "\t<li>'x'</li>\n",
       "\t<li>'y'</li>\n",
       "\t<li>'z'</li>\n",
       "</ol>\n",
       "</li>\n",
       "</ol>\n"
      ],
      "text/latex": [
       "\\begin{enumerate}\n",
       "\\item \\begin{enumerate*}\n",
       "\\item 'Alpha'\n",
       "\\item 'Bravo'\n",
       "\\item 'Charlie'\n",
       "\\item 'Delta'\n",
       "\\end{enumerate*}\n",
       "\n",
       "\\item \\begin{enumerate*}\n",
       "\\item 'x'\n",
       "\\item 'y'\n",
       "\\item 'z'\n",
       "\\end{enumerate*}\n",
       "\n",
       "\\end{enumerate}\n"
      ],
      "text/markdown": [
       "1. 1. 'Alpha'\n",
       "2. 'Bravo'\n",
       "3. 'Charlie'\n",
       "4. 'Delta'\n",
       "\n",
       "\n",
       "\n",
       "2. 1. 'x'\n",
       "2. 'y'\n",
       "3. 'z'\n",
       "\n",
       "\n",
       "\n",
       "\n",
       "\n"
      ],
      "text/plain": [
       "[[1]]\n",
       "[1] \"Alpha\"   \"Bravo\"   \"Charlie\" \"Delta\"  \n",
       "\n",
       "[[2]]\n",
       "[1] \"x\" \"y\" \"z\"\n"
      ]
     },
     "metadata": {},
     "output_type": "display_data"
    }
   ],
   "source": [
    "dimnames(df)"
   ]
  },
  {
   "cell_type": "code",
   "execution_count": 15,
   "id": "1efd1492",
   "metadata": {},
   "outputs": [],
   "source": [
    "# проверить размерность"
   ]
  },
  {
   "cell_type": "code",
   "execution_count": 17,
   "id": "ca187aab",
   "metadata": {},
   "outputs": [
    {
     "data": {
      "text/html": [
       "4"
      ],
      "text/latex": [
       "4"
      ],
      "text/markdown": [
       "4"
      ],
      "text/plain": [
       "[1] 4"
      ]
     },
     "metadata": {},
     "output_type": "display_data"
    }
   ],
   "source": [
    "nrow(df)"
   ]
  },
  {
   "cell_type": "code",
   "execution_count": 19,
   "id": "252accb0",
   "metadata": {},
   "outputs": [
    {
     "data": {
      "text/html": [
       "3"
      ],
      "text/latex": [
       "3"
      ],
      "text/markdown": [
       "3"
      ],
      "text/plain": [
       "[1] 3"
      ]
     },
     "metadata": {},
     "output_type": "display_data"
    }
   ],
   "source": [
    "ncol(df)"
   ]
  },
  {
   "cell_type": "code",
   "execution_count": 20,
   "id": "b6505ed4",
   "metadata": {},
   "outputs": [
    {
     "data": {
      "text/html": [
       "<ol class=list-inline>\n",
       "\t<li>4</li>\n",
       "\t<li>3</li>\n",
       "</ol>\n"
      ],
      "text/latex": [
       "\\begin{enumerate*}\n",
       "\\item 4\n",
       "\\item 3\n",
       "\\end{enumerate*}\n"
      ],
      "text/markdown": [
       "1. 4\n",
       "2. 3\n",
       "\n",
       "\n"
      ],
      "text/plain": [
       "[1] 4 3"
      ]
     },
     "metadata": {},
     "output_type": "display_data"
    }
   ],
   "source": [
    "dim(df)"
   ]
  },
  {
   "cell_type": "code",
   "execution_count": 21,
   "id": "e68b5ea7",
   "metadata": {},
   "outputs": [],
   "source": [
    "# lenfth возврощает количество столбцов, так как дф это список уложенный по стобцам"
   ]
  },
  {
   "cell_type": "code",
   "execution_count": 22,
   "id": "869c397e",
   "metadata": {},
   "outputs": [
    {
     "data": {
      "text/html": [
       "3"
      ],
      "text/latex": [
       "3"
      ],
      "text/markdown": [
       "3"
      ],
      "text/plain": [
       "[1] 3"
      ]
     },
     "metadata": {},
     "output_type": "display_data"
    }
   ],
   "source": [
    "length(df)"
   ]
  },
  {
   "cell_type": "code",
   "execution_count": 23,
   "id": "413193a6",
   "metadata": {},
   "outputs": [],
   "source": [
    "# names возварощает имена столбцов "
   ]
  },
  {
   "cell_type": "code",
   "execution_count": 24,
   "id": "b580bddd",
   "metadata": {},
   "outputs": [
    {
     "data": {
      "text/html": [
       "<ol class=list-inline>\n",
       "\t<li>'x'</li>\n",
       "\t<li>'y'</li>\n",
       "\t<li>'z'</li>\n",
       "</ol>\n"
      ],
      "text/latex": [
       "\\begin{enumerate*}\n",
       "\\item 'x'\n",
       "\\item 'y'\n",
       "\\item 'z'\n",
       "\\end{enumerate*}\n"
      ],
      "text/markdown": [
       "1. 'x'\n",
       "2. 'y'\n",
       "3. 'z'\n",
       "\n",
       "\n"
      ],
      "text/plain": [
       "[1] \"x\" \"y\" \"z\""
      ]
     },
     "metadata": {},
     "output_type": "display_data"
    }
   ],
   "source": [
    "names(df)"
   ]
  },
  {
   "cell_type": "code",
   "execution_count": 25,
   "id": "01093459",
   "metadata": {},
   "outputs": [
    {
     "data": {
      "text/html": [
       "12"
      ],
      "text/latex": [
       "12"
      ],
      "text/markdown": [
       "12"
      ],
      "text/plain": [
       "[1] 12"
      ]
     },
     "metadata": {},
     "output_type": "display_data"
    }
   ],
   "source": [
    "# общее количество элементов в дф\n",
    "nrow(df) * ncol(df)"
   ]
  },
  {
   "cell_type": "code",
   "execution_count": 26,
   "id": "a9c8ccaf",
   "metadata": {},
   "outputs": [],
   "source": [
    "# индексация дф"
   ]
  },
  {
   "cell_type": "code",
   "execution_count": 28,
   "id": "dc61025e",
   "metadata": {},
   "outputs": [
    {
     "data": {
      "text/html": [
       "<table>\n",
       "<thead><tr><th></th><th scope=col>y</th><th scope=col>z</th></tr></thead>\n",
       "<tbody>\n",
       "\t<tr><th scope=row>Charlie</th><td>C    </td><td> TRUE</td></tr>\n",
       "\t<tr><th scope=row>Delta</th><td>D    </td><td>FALSE</td></tr>\n",
       "</tbody>\n",
       "</table>\n"
      ],
      "text/latex": [
       "\\begin{tabular}{r|ll}\n",
       "  & y & z\\\\\n",
       "\\hline\n",
       "\tCharlie & C     &  TRUE\\\\\n",
       "\tDelta & D     & FALSE\\\\\n",
       "\\end{tabular}\n"
      ],
      "text/markdown": [
       "\n",
       "| <!--/--> | y | z |\n",
       "|---|---|---|\n",
       "| Charlie | C     |  TRUE |\n",
       "| Delta | D     | FALSE |\n",
       "\n"
      ],
      "text/plain": [
       "        y z    \n",
       "Charlie C  TRUE\n",
       "Delta   D FALSE"
      ]
     },
     "metadata": {},
     "output_type": "display_data"
    }
   ],
   "source": [
    "df[3:4, -1]"
   ]
  },
  {
   "cell_type": "code",
   "execution_count": 29,
   "id": "e40c0a1d",
   "metadata": {},
   "outputs": [
    {
     "data": {
      "text/html": [
       "<table>\n",
       "<thead><tr><th></th><th scope=col>x</th><th scope=col>y</th><th scope=col>z</th></tr></thead>\n",
       "<tbody>\n",
       "\t<tr><th scope=row>Alpha</th><td>1    </td><td>A    </td><td> TRUE</td></tr>\n",
       "\t<tr><th scope=row>Bravo</th><td>2    </td><td>B    </td><td>FALSE</td></tr>\n",
       "\t<tr><th scope=row>Charlie</th><td>3    </td><td>C    </td><td> TRUE</td></tr>\n",
       "\t<tr><th scope=row>Delta</th><td>4    </td><td>D    </td><td>FALSE</td></tr>\n",
       "</tbody>\n",
       "</table>\n"
      ],
      "text/latex": [
       "\\begin{tabular}{r|lll}\n",
       "  & x & y & z\\\\\n",
       "\\hline\n",
       "\tAlpha & 1     & A     &  TRUE\\\\\n",
       "\tBravo & 2     & B     & FALSE\\\\\n",
       "\tCharlie & 3     & C     &  TRUE\\\\\n",
       "\tDelta & 4     & D     & FALSE\\\\\n",
       "\\end{tabular}\n"
      ],
      "text/markdown": [
       "\n",
       "| <!--/--> | x | y | z |\n",
       "|---|---|---|---|\n",
       "| Alpha | 1     | A     |  TRUE |\n",
       "| Bravo | 2     | B     | FALSE |\n",
       "| Charlie | 3     | C     |  TRUE |\n",
       "| Delta | 4     | D     | FALSE |\n",
       "\n"
      ],
      "text/plain": [
       "        x y z    \n",
       "Alpha   1 A  TRUE\n",
       "Bravo   2 B FALSE\n",
       "Charlie 3 C  TRUE\n",
       "Delta   4 D FALSE"
      ]
     },
     "metadata": {},
     "output_type": "display_data"
    }
   ],
   "source": [
    "df"
   ]
  },
  {
   "cell_type": "code",
   "execution_count": 30,
   "id": "442aafa8",
   "metadata": {},
   "outputs": [
    {
     "data": {
      "text/html": [
       "<table>\n",
       "<thead><tr><th></th><th scope=col>z</th><th scope=col>x</th></tr></thead>\n",
       "<tbody>\n",
       "\t<tr><th scope=row>Bravo</th><td>FALSE</td><td>2    </td></tr>\n",
       "\t<tr><th scope=row>Delta</th><td>FALSE</td><td>4    </td></tr>\n",
       "</tbody>\n",
       "</table>\n"
      ],
      "text/latex": [
       "\\begin{tabular}{r|ll}\n",
       "  & z & x\\\\\n",
       "\\hline\n",
       "\tBravo & FALSE & 2    \\\\\n",
       "\tDelta & FALSE & 4    \\\\\n",
       "\\end{tabular}\n"
      ],
      "text/markdown": [
       "\n",
       "| <!--/--> | z | x |\n",
       "|---|---|---|\n",
       "| Bravo | FALSE | 2     |\n",
       "| Delta | FALSE | 4     |\n",
       "\n"
      ],
      "text/plain": [
       "      z     x\n",
       "Bravo FALSE 2\n",
       "Delta FALSE 4"
      ]
     },
     "metadata": {},
     "output_type": "display_data"
    }
   ],
   "source": [
    "df[c(F, T), c(\"z\", \"x\")]"
   ]
  },
  {
   "cell_type": "code",
   "execution_count": 33,
   "id": "6b9741a4",
   "metadata": {},
   "outputs": [
    {
     "data": {
      "text/html": [
       "<ol class=list-inline>\n",
       "\t<li>1</li>\n",
       "\t<li>2</li>\n",
       "\t<li>3</li>\n",
       "\t<li>4</li>\n",
       "</ol>\n"
      ],
      "text/latex": [
       "\\begin{enumerate*}\n",
       "\\item 1\n",
       "\\item 2\n",
       "\\item 3\n",
       "\\item 4\n",
       "\\end{enumerate*}\n"
      ],
      "text/markdown": [
       "1. 1\n",
       "2. 2\n",
       "3. 3\n",
       "4. 4\n",
       "\n",
       "\n"
      ],
      "text/plain": [
       "[1] 1 2 3 4"
      ]
     },
     "metadata": {},
     "output_type": "display_data"
    }
   ],
   "source": [
    "# размерность схлопывается\n",
    "df[,1]"
   ]
  },
  {
   "cell_type": "code",
   "execution_count": 34,
   "id": "c0a06037",
   "metadata": {},
   "outputs": [
    {
     "data": {
      "text/html": [
       "<table>\n",
       "<thead><tr><th></th><th scope=col>x</th></tr></thead>\n",
       "<tbody>\n",
       "\t<tr><th scope=row>Alpha</th><td>1</td></tr>\n",
       "\t<tr><th scope=row>Bravo</th><td>2</td></tr>\n",
       "\t<tr><th scope=row>Charlie</th><td>3</td></tr>\n",
       "\t<tr><th scope=row>Delta</th><td>4</td></tr>\n",
       "</tbody>\n",
       "</table>\n"
      ],
      "text/latex": [
       "\\begin{tabular}{r|l}\n",
       "  & x\\\\\n",
       "\\hline\n",
       "\tAlpha & 1\\\\\n",
       "\tBravo & 2\\\\\n",
       "\tCharlie & 3\\\\\n",
       "\tDelta & 4\\\\\n",
       "\\end{tabular}\n"
      ],
      "text/markdown": [
       "\n",
       "| <!--/--> | x |\n",
       "|---|---|\n",
       "| Alpha | 1 |\n",
       "| Bravo | 2 |\n",
       "| Charlie | 3 |\n",
       "| Delta | 4 |\n",
       "\n"
      ],
      "text/plain": [
       "        x\n",
       "Alpha   1\n",
       "Bravo   2\n",
       "Charlie 3\n",
       "Delta   4"
      ]
     },
     "metadata": {},
     "output_type": "display_data"
    }
   ],
   "source": [
    "# размерность не схлопывается\n",
    "df[, 1, drop = F]"
   ]
  },
  {
   "cell_type": "code",
   "execution_count": 36,
   "id": "dea66ffc",
   "metadata": {},
   "outputs": [
    {
     "data": {
      "text/html": [
       "<ol class=list-inline>\n",
       "\t<li>TRUE</li>\n",
       "\t<li>FALSE</li>\n",
       "\t<li>TRUE</li>\n",
       "\t<li>FALSE</li>\n",
       "</ol>\n"
      ],
      "text/latex": [
       "\\begin{enumerate*}\n",
       "\\item TRUE\n",
       "\\item FALSE\n",
       "\\item TRUE\n",
       "\\item FALSE\n",
       "\\end{enumerate*}\n"
      ],
      "text/markdown": [
       "1. TRUE\n",
       "2. FALSE\n",
       "3. TRUE\n",
       "4. FALSE\n",
       "\n",
       "\n"
      ],
      "text/plain": [
       "[1]  TRUE FALSE  TRUE FALSE"
      ]
     },
     "metadata": {},
     "output_type": "display_data"
    }
   ],
   "source": [
    "df$z"
   ]
  },
  {
   "cell_type": "code",
   "execution_count": 38,
   "id": "e5c2cb70",
   "metadata": {},
   "outputs": [
    {
     "data": {
      "text/html": [
       "<ol class=list-inline>\n",
       "\t<li>TRUE</li>\n",
       "\t<li>FALSE</li>\n",
       "\t<li>TRUE</li>\n",
       "\t<li>FALSE</li>\n",
       "</ol>\n"
      ],
      "text/latex": [
       "\\begin{enumerate*}\n",
       "\\item TRUE\n",
       "\\item FALSE\n",
       "\\item TRUE\n",
       "\\item FALSE\n",
       "\\end{enumerate*}\n"
      ],
      "text/markdown": [
       "1. TRUE\n",
       "2. FALSE\n",
       "3. TRUE\n",
       "4. FALSE\n",
       "\n",
       "\n"
      ],
      "text/plain": [
       "[1]  TRUE FALSE  TRUE FALSE"
      ]
     },
     "metadata": {},
     "output_type": "display_data"
    }
   ],
   "source": [
    "df[[\"z\"]]"
   ]
  },
  {
   "cell_type": "code",
   "execution_count": 39,
   "id": "5f1a6c95",
   "metadata": {},
   "outputs": [
    {
     "data": {
      "text/html": [
       "<ol class=list-inline>\n",
       "\t<li>TRUE</li>\n",
       "\t<li>FALSE</li>\n",
       "\t<li>TRUE</li>\n",
       "\t<li>FALSE</li>\n",
       "</ol>\n"
      ],
      "text/latex": [
       "\\begin{enumerate*}\n",
       "\\item TRUE\n",
       "\\item FALSE\n",
       "\\item TRUE\n",
       "\\item FALSE\n",
       "\\end{enumerate*}\n"
      ],
      "text/markdown": [
       "1. TRUE\n",
       "2. FALSE\n",
       "3. TRUE\n",
       "4. FALSE\n",
       "\n",
       "\n"
      ],
      "text/plain": [
       "[1]  TRUE FALSE  TRUE FALSE"
      ]
     },
     "metadata": {},
     "output_type": "display_data"
    }
   ],
   "source": [
    "df[[3]]"
   ]
  },
  {
   "cell_type": "code",
   "execution_count": 40,
   "id": "e221e785",
   "metadata": {},
   "outputs": [
    {
     "data": {
      "text/html": [
       "<table>\n",
       "<thead><tr><th></th><th scope=col>x</th><th scope=col>y</th><th scope=col>z</th></tr></thead>\n",
       "<tbody>\n",
       "\t<tr><th scope=row>Charlie</th><td>3    </td><td>C    </td><td> TRUE</td></tr>\n",
       "\t<tr><th scope=row>Delta</th><td>4    </td><td>D    </td><td>FALSE</td></tr>\n",
       "</tbody>\n",
       "</table>\n"
      ],
      "text/latex": [
       "\\begin{tabular}{r|lll}\n",
       "  & x & y & z\\\\\n",
       "\\hline\n",
       "\tCharlie & 3     & C     &  TRUE\\\\\n",
       "\tDelta & 4     & D     & FALSE\\\\\n",
       "\\end{tabular}\n"
      ],
      "text/markdown": [
       "\n",
       "| <!--/--> | x | y | z |\n",
       "|---|---|---|---|\n",
       "| Charlie | 3     | C     |  TRUE |\n",
       "| Delta | 4     | D     | FALSE |\n",
       "\n"
      ],
      "text/plain": [
       "        x y z    \n",
       "Charlie 3 C  TRUE\n",
       "Delta   4 D FALSE"
      ]
     },
     "metadata": {},
     "output_type": "display_data"
    }
   ],
   "source": [
    "# фильтрация по условию\n",
    "df[df$x >2,]"
   ]
  },
  {
   "cell_type": "code",
   "execution_count": 41,
   "id": "089bb08c",
   "metadata": {},
   "outputs": [
    {
     "data": {
      "text/html": [
       "<table>\n",
       "<thead><tr><th></th><th scope=col>x</th><th scope=col>y</th><th scope=col>z</th></tr></thead>\n",
       "<tbody>\n",
       "\t<tr><th scope=row>Charlie</th><td>3    </td><td>C    </td><td> TRUE</td></tr>\n",
       "\t<tr><th scope=row>Delta</th><td>4    </td><td>D    </td><td>FALSE</td></tr>\n",
       "</tbody>\n",
       "</table>\n"
      ],
      "text/latex": [
       "\\begin{tabular}{r|lll}\n",
       "  & x & y & z\\\\\n",
       "\\hline\n",
       "\tCharlie & 3     & C     &  TRUE\\\\\n",
       "\tDelta & 4     & D     & FALSE\\\\\n",
       "\\end{tabular}\n"
      ],
      "text/markdown": [
       "\n",
       "| <!--/--> | x | y | z |\n",
       "|---|---|---|---|\n",
       "| Charlie | 3     | C     |  TRUE |\n",
       "| Delta | 4     | D     | FALSE |\n",
       "\n"
      ],
      "text/plain": [
       "        x y z    \n",
       "Charlie 3 C  TRUE\n",
       "Delta   4 D FALSE"
      ]
     },
     "metadata": {},
     "output_type": "display_data"
    }
   ],
   "source": [
    "subset(df, x > 2)"
   ]
  },
  {
   "cell_type": "code",
   "execution_count": 43,
   "id": "01f525f1",
   "metadata": {},
   "outputs": [
    {
     "data": {
      "text/html": [
       "<table>\n",
       "<thead><tr><th></th><th scope=col>x</th><th scope=col>z</th></tr></thead>\n",
       "<tbody>\n",
       "\t<tr><th scope=row>Charlie</th><td>3    </td><td> TRUE</td></tr>\n",
       "\t<tr><th scope=row>Delta</th><td>4    </td><td>FALSE</td></tr>\n",
       "</tbody>\n",
       "</table>\n"
      ],
      "text/latex": [
       "\\begin{tabular}{r|ll}\n",
       "  & x & z\\\\\n",
       "\\hline\n",
       "\tCharlie & 3     &  TRUE\\\\\n",
       "\tDelta & 4     & FALSE\\\\\n",
       "\\end{tabular}\n"
      ],
      "text/markdown": [
       "\n",
       "| <!--/--> | x | z |\n",
       "|---|---|---|\n",
       "| Charlie | 3     |  TRUE |\n",
       "| Delta | 4     | FALSE |\n",
       "\n"
      ],
      "text/plain": [
       "        x z    \n",
       "Charlie 3  TRUE\n",
       "Delta   4 FALSE"
      ]
     },
     "metadata": {},
     "output_type": "display_data"
    }
   ],
   "source": [
    "subset(df, x > 2, select = c(x, z))"
   ]
  },
  {
   "cell_type": "code",
   "execution_count": 44,
   "id": "b46a44cb",
   "metadata": {},
   "outputs": [],
   "source": [
    "# комбинирование дф"
   ]
  },
  {
   "cell_type": "code",
   "execution_count": 45,
   "id": "9ca402c3",
   "metadata": {},
   "outputs": [
    {
     "data": {
      "text/html": [
       "<table>\n",
       "<thead><tr><th></th><th scope=col>x</th><th scope=col>y</th><th scope=col>z</th></tr></thead>\n",
       "<tbody>\n",
       "\t<tr><th scope=row>Alpha</th><td>1    </td><td>A    </td><td> TRUE</td></tr>\n",
       "\t<tr><th scope=row>Bravo</th><td>2    </td><td>B    </td><td>FALSE</td></tr>\n",
       "\t<tr><th scope=row>Charlie</th><td>3    </td><td>C    </td><td> TRUE</td></tr>\n",
       "\t<tr><th scope=row>Delta</th><td>4    </td><td>D    </td><td>FALSE</td></tr>\n",
       "\t<tr><th scope=row>Kappa</th><td>5    </td><td>K    </td><td> TRUE</td></tr>\n",
       "\t<tr><th scope=row>Zulu</th><td>6    </td><td>Z    </td><td> TRUE</td></tr>\n",
       "</tbody>\n",
       "</table>\n"
      ],
      "text/latex": [
       "\\begin{tabular}{r|lll}\n",
       "  & x & y & z\\\\\n",
       "\\hline\n",
       "\tAlpha & 1     & A     &  TRUE\\\\\n",
       "\tBravo & 2     & B     & FALSE\\\\\n",
       "\tCharlie & 3     & C     &  TRUE\\\\\n",
       "\tDelta & 4     & D     & FALSE\\\\\n",
       "\tKappa & 5     & K     &  TRUE\\\\\n",
       "\tZulu & 6     & Z     &  TRUE\\\\\n",
       "\\end{tabular}\n"
      ],
      "text/markdown": [
       "\n",
       "| <!--/--> | x | y | z |\n",
       "|---|---|---|---|\n",
       "| Alpha | 1     | A     |  TRUE |\n",
       "| Bravo | 2     | B     | FALSE |\n",
       "| Charlie | 3     | C     |  TRUE |\n",
       "| Delta | 4     | D     | FALSE |\n",
       "| Kappa | 5     | K     |  TRUE |\n",
       "| Zulu | 6     | Z     |  TRUE |\n",
       "\n"
      ],
      "text/plain": [
       "        x y z    \n",
       "Alpha   1 A  TRUE\n",
       "Bravo   2 B FALSE\n",
       "Charlie 3 C  TRUE\n",
       "Delta   4 D FALSE\n",
       "Kappa   5 K  TRUE\n",
       "Zulu    6 Z  TRUE"
      ]
     },
     "metadata": {},
     "output_type": "display_data"
    }
   ],
   "source": [
    "rbind(df, data.frame(x = 5:6, y = c(\"K\", \"Z\"), z = T, row.names = c(\"Kappa\", \"Zulu\")))"
   ]
  },
  {
   "cell_type": "code",
   "execution_count": 46,
   "id": "d9d9b20a",
   "metadata": {},
   "outputs": [
    {
     "data": {
      "text/html": [
       "<table>\n",
       "<thead><tr><th></th><th scope=col>x</th><th scope=col>y</th><th scope=col>z</th><th scope=col>season</th><th scope=col>temp</th></tr></thead>\n",
       "<tbody>\n",
       "\t<tr><th scope=row>Alpha</th><td>1     </td><td>A     </td><td> TRUE </td><td>Summer</td><td> 20   </td></tr>\n",
       "\t<tr><th scope=row>Bravo</th><td>2     </td><td>B     </td><td>FALSE </td><td>Autumn</td><td>  5   </td></tr>\n",
       "\t<tr><th scope=row>Charlie</th><td>3     </td><td>C     </td><td> TRUE </td><td>Winter</td><td>-10   </td></tr>\n",
       "\t<tr><th scope=row>Delta</th><td>4     </td><td>D     </td><td>FALSE </td><td>Spring</td><td>  5   </td></tr>\n",
       "</tbody>\n",
       "</table>\n"
      ],
      "text/latex": [
       "\\begin{tabular}{r|lllll}\n",
       "  & x & y & z & season & temp\\\\\n",
       "\\hline\n",
       "\tAlpha & 1      & A      &  TRUE  & Summer &  20   \\\\\n",
       "\tBravo & 2      & B      & FALSE  & Autumn &   5   \\\\\n",
       "\tCharlie & 3      & C      &  TRUE  & Winter & -10   \\\\\n",
       "\tDelta & 4      & D      & FALSE  & Spring &   5   \\\\\n",
       "\\end{tabular}\n"
      ],
      "text/markdown": [
       "\n",
       "| <!--/--> | x | y | z | season | temp |\n",
       "|---|---|---|---|---|---|\n",
       "| Alpha | 1      | A      |  TRUE  | Summer |  20    |\n",
       "| Bravo | 2      | B      | FALSE  | Autumn |   5    |\n",
       "| Charlie | 3      | C      |  TRUE  | Winter | -10    |\n",
       "| Delta | 4      | D      | FALSE  | Spring |   5    |\n",
       "\n"
      ],
      "text/plain": [
       "        x y z     season temp\n",
       "Alpha   1 A  TRUE Summer  20 \n",
       "Bravo   2 B FALSE Autumn   5 \n",
       "Charlie 3 C  TRUE Winter -10 \n",
       "Delta   4 D FALSE Spring   5 "
      ]
     },
     "metadata": {},
     "output_type": "display_data"
    }
   ],
   "source": [
    "cbind(df, data.frame(season = c(\"Summer\", \"Autumn\", \"Winter\", \"Spring\"), temp = c(20, 5, -10,5)))"
   ]
  },
  {
   "cell_type": "code",
   "execution_count": 47,
   "id": "3ec4aa70",
   "metadata": {},
   "outputs": [],
   "source": [
    "# комбинирование по ключу: merge"
   ]
  },
  {
   "cell_type": "code",
   "execution_count": 48,
   "id": "ad3dbd2e",
   "metadata": {},
   "outputs": [
    {
     "data": {
      "text/html": [
       "<table>\n",
       "<thead><tr><th></th><th scope=col>x</th><th scope=col>y</th><th scope=col>z</th></tr></thead>\n",
       "<tbody>\n",
       "\t<tr><th scope=row>Alpha</th><td>1    </td><td>A    </td><td> TRUE</td></tr>\n",
       "\t<tr><th scope=row>Bravo</th><td>2    </td><td>B    </td><td>FALSE</td></tr>\n",
       "\t<tr><th scope=row>Charlie</th><td>3    </td><td>C    </td><td> TRUE</td></tr>\n",
       "\t<tr><th scope=row>Delta</th><td>4    </td><td>D    </td><td>FALSE</td></tr>\n",
       "</tbody>\n",
       "</table>\n"
      ],
      "text/latex": [
       "\\begin{tabular}{r|lll}\n",
       "  & x & y & z\\\\\n",
       "\\hline\n",
       "\tAlpha & 1     & A     &  TRUE\\\\\n",
       "\tBravo & 2     & B     & FALSE\\\\\n",
       "\tCharlie & 3     & C     &  TRUE\\\\\n",
       "\tDelta & 4     & D     & FALSE\\\\\n",
       "\\end{tabular}\n"
      ],
      "text/markdown": [
       "\n",
       "| <!--/--> | x | y | z |\n",
       "|---|---|---|---|\n",
       "| Alpha | 1     | A     |  TRUE |\n",
       "| Bravo | 2     | B     | FALSE |\n",
       "| Charlie | 3     | C     |  TRUE |\n",
       "| Delta | 4     | D     | FALSE |\n",
       "\n"
      ],
      "text/plain": [
       "        x y z    \n",
       "Alpha   1 A  TRUE\n",
       "Bravo   2 B FALSE\n",
       "Charlie 3 C  TRUE\n",
       "Delta   4 D FALSE"
      ]
     },
     "metadata": {},
     "output_type": "display_data"
    }
   ],
   "source": [
    "df"
   ]
  },
  {
   "cell_type": "code",
   "execution_count": 49,
   "id": "15c7650c",
   "metadata": {},
   "outputs": [
    {
     "data": {
      "text/html": [
       "<table>\n",
       "<thead><tr><th scope=col>x</th><th scope=col>salary</th></tr></thead>\n",
       "<tbody>\n",
       "\t<tr><td>3   </td><td> 100</td></tr>\n",
       "\t<tr><td>2   </td><td>1000</td></tr>\n",
       "\t<tr><td>6   </td><td> 300</td></tr>\n",
       "\t<tr><td>1   </td><td> 500</td></tr>\n",
       "</tbody>\n",
       "</table>\n"
      ],
      "text/latex": [
       "\\begin{tabular}{r|ll}\n",
       " x & salary\\\\\n",
       "\\hline\n",
       "\t 3    &  100\\\\\n",
       "\t 2    & 1000\\\\\n",
       "\t 6    &  300\\\\\n",
       "\t 1    &  500\\\\\n",
       "\\end{tabular}\n"
      ],
      "text/markdown": [
       "\n",
       "| x | salary |\n",
       "|---|---|\n",
       "| 3    |  100 |\n",
       "| 2    | 1000 |\n",
       "| 6    |  300 |\n",
       "| 1    |  500 |\n",
       "\n"
      ],
      "text/plain": [
       "  x salary\n",
       "1 3  100  \n",
       "2 2 1000  \n",
       "3 6  300  \n",
       "4 1  500  "
      ]
     },
     "metadata": {},
     "output_type": "display_data"
    }
   ],
   "source": [
    "df_salary <- data.frame(x = c(3, 2, 6, 1), salary = c(100, 1000, 300, 500));df_salary"
   ]
  },
  {
   "cell_type": "code",
   "execution_count": 50,
   "id": "0b9b2cfb",
   "metadata": {},
   "outputs": [
    {
     "data": {
      "text/html": [
       "<table>\n",
       "<thead><tr><th scope=col>x</th><th scope=col>y</th><th scope=col>z</th><th scope=col>salary</th></tr></thead>\n",
       "<tbody>\n",
       "\t<tr><td>1    </td><td>A    </td><td> TRUE</td><td> 500 </td></tr>\n",
       "\t<tr><td>2    </td><td>B    </td><td>FALSE</td><td>1000 </td></tr>\n",
       "\t<tr><td>3    </td><td>C    </td><td> TRUE</td><td> 100 </td></tr>\n",
       "</tbody>\n",
       "</table>\n"
      ],
      "text/latex": [
       "\\begin{tabular}{r|llll}\n",
       " x & y & z & salary\\\\\n",
       "\\hline\n",
       "\t 1     & A     &  TRUE &  500 \\\\\n",
       "\t 2     & B     & FALSE & 1000 \\\\\n",
       "\t 3     & C     &  TRUE &  100 \\\\\n",
       "\\end{tabular}\n"
      ],
      "text/markdown": [
       "\n",
       "| x | y | z | salary |\n",
       "|---|---|---|---|\n",
       "| 1     | A     |  TRUE |  500  |\n",
       "| 2     | B     | FALSE | 1000  |\n",
       "| 3     | C     |  TRUE |  100  |\n",
       "\n"
      ],
      "text/plain": [
       "  x y z     salary\n",
       "1 1 A  TRUE  500  \n",
       "2 2 B FALSE 1000  \n",
       "3 3 C  TRUE  100  "
      ]
     },
     "metadata": {},
     "output_type": "display_data"
    }
   ],
   "source": [
    "merge(df, df_salary, by = \"x\")"
   ]
  },
  {
   "cell_type": "code",
   "execution_count": 51,
   "id": "a6da57fd",
   "metadata": {},
   "outputs": [],
   "source": [
    "# глоссарий\n",
    "\n",
    "# ?data.frame\n",
    "# ?str\n",
    "# ?rownames, ?colnames, ?dimnames, ?nrow, ?ncol, ?dim\n",
    "# ?subset, ?rbind, ?cbind, ?merge"
   ]
  },
  {
   "cell_type": "code",
   "execution_count": 53,
   "id": "179e2223",
   "metadata": {},
   "outputs": [
    {
     "data": {
      "text/html": [
       "'list'"
      ],
      "text/latex": [
       "'list'"
      ],
      "text/markdown": [
       "'list'"
      ],
      "text/plain": [
       "[1] \"list\""
      ]
     },
     "metadata": {},
     "output_type": "display_data"
    }
   ],
   "source": [
    "typeof(df)"
   ]
  },
  {
   "cell_type": "code",
   "execution_count": 129,
   "id": "9b26b158",
   "metadata": {},
   "outputs": [
    {
     "data": {
      "text/html": [
       "<strong>29:</strong> 5"
      ],
      "text/latex": [
       "\\textbf{29:} 5"
      ],
      "text/markdown": [
       "**29:** 5"
      ],
      "text/plain": [
       "29 \n",
       " 5 "
      ]
     },
     "metadata": {},
     "output_type": "display_data"
    }
   ],
   "source": [
    "df_attit <- attitude[, c(\"learning\",  \"complaints\", \"raises\", \"advance\")]\n",
    "df_attit <- head(df_attit[order(df_attit[\"learning\"], decreasing = T),], n = 5)\n",
    "which.max(rowSums(df_attit[, c(\"complaints\", \"raises\", \"advance\")]))"
   ]
  },
  {
   "cell_type": "code",
   "execution_count": 164,
   "id": "cb34afa9",
   "metadata": {},
   "outputs": [],
   "source": [
    "test_table <- read.table(\"input.csv\", sep = \",\", header = F)"
   ]
  },
  {
   "cell_type": "code",
   "execution_count": 155,
   "id": "57d13136",
   "metadata": {},
   "outputs": [
    {
     "data": {
      "text/html": [
       "<ol class=list-inline>\n",
       "\t<li>'\"a\", \"b\", \"c\", \"1993-04-12\", NA'</li>\n",
       "\t<li>'\"d\", \"f\", \"g\", \"2021-04-18\", \"Missing\"'</li>\n",
       "\t<li>'\"a\", \"b\", \"c\", \"1993-04-12\", \"Not Missing\"'</li>\n",
       "\t<li>'\"d\", \"f\", \"g\", \"2021-04-18\", \"Not Missing\"'</li>\n",
       "</ol>\n"
      ],
      "text/latex": [
       "\\begin{enumerate*}\n",
       "\\item '\"a\", \"b\", \"c\", \"1993-04-12\", NA'\n",
       "\\item '\"d\", \"f\", \"g\", \"2021-04-18\", \"Missing\"'\n",
       "\\item '\"a\", \"b\", \"c\", \"1993-04-12\", \"Not Missing\"'\n",
       "\\item '\"d\", \"f\", \"g\", \"2021-04-18\", \"Not Missing\"'\n",
       "\\end{enumerate*}\n"
      ],
      "text/markdown": [
       "1. '\"a\", \"b\", \"c\", \"1993-04-12\", NA'\n",
       "2. '\"d\", \"f\", \"g\", \"2021-04-18\", \"Missing\"'\n",
       "3. '\"a\", \"b\", \"c\", \"1993-04-12\", \"Not Missing\"'\n",
       "4. '\"d\", \"f\", \"g\", \"2021-04-18\", \"Not Missing\"'\n",
       "\n",
       "\n"
      ],
      "text/plain": [
       "[1] \"\\\"a\\\", \\\"b\\\", \\\"c\\\", \\\"1993-04-12\\\", NA\"             \n",
       "[2] \"\\\"d\\\", \\\"f\\\", \\\"g\\\", \\\"2021-04-18\\\", \\\"Missing\\\"\"    \n",
       "[3] \"\\\"a\\\", \\\"b\\\", \\\"c\\\", \\\"1993-04-12\\\", \\\"Not Missing\\\"\"\n",
       "[4] \"\\\"d\\\", \\\"f\\\", \\\"g\\\", \\\"2021-04-18\\\", \\\"Not Missing\\\"\""
      ]
     },
     "metadata": {},
     "output_type": "display_data"
    }
   ],
   "source": [
    "readLines(\"input.csv\")"
   ]
  },
  {
   "cell_type": "code",
   "execution_count": 147,
   "id": "c0530d01",
   "metadata": {},
   "outputs": [
    {
     "data": {
      "text/html": [
       "<table>\n",
       "<thead><tr><th scope=col>V1</th><th scope=col>V2</th><th scope=col>V3</th><th scope=col>V4</th><th scope=col>V5</th></tr></thead>\n",
       "<tbody>\n",
       "\t<tr><td>a           </td><td> b          </td><td> c          </td><td> 1993-04-12 </td><td> NA         </td></tr>\n",
       "\t<tr><td>d           </td><td> f          </td><td> g          </td><td> 2021-04-18 </td><td> Missing    </td></tr>\n",
       "\t<tr><td>a           </td><td> b          </td><td> c          </td><td> 1993-04-12 </td><td> Not Missing</td></tr>\n",
       "\t<tr><td>d           </td><td> f          </td><td> g          </td><td> 2021-04-18 </td><td> Not Missing</td></tr>\n",
       "</tbody>\n",
       "</table>\n"
      ],
      "text/latex": [
       "\\begin{tabular}{r|lllll}\n",
       " V1 & V2 & V3 & V4 & V5\\\\\n",
       "\\hline\n",
       "\t a            &  b           &  c           &  1993-04-12  &  NA         \\\\\n",
       "\t d            &  f           &  g           &  2021-04-18  &  Missing    \\\\\n",
       "\t a            &  b           &  c           &  1993-04-12  &  Not Missing\\\\\n",
       "\t d            &  f           &  g           &  2021-04-18  &  Not Missing\\\\\n",
       "\\end{tabular}\n"
      ],
      "text/markdown": [
       "\n",
       "| V1 | V2 | V3 | V4 | V5 |\n",
       "|---|---|---|---|---|\n",
       "| a            |  b           |  c           |  1993-04-12  |  NA          |\n",
       "| d            |  f           |  g           |  2021-04-18  |  Missing     |\n",
       "| a            |  b           |  c           |  1993-04-12  |  Not Missing |\n",
       "| d            |  f           |  g           |  2021-04-18  |  Not Missing |\n",
       "\n"
      ],
      "text/plain": [
       "  V1 V2 V3 V4          V5          \n",
       "1 a   b  c  1993-04-12  NA         \n",
       "2 d   f  g  2021-04-18  Missing    \n",
       "3 a   b  c  1993-04-12  Not Missing\n",
       "4 d   f  g  2021-04-18  Not Missing"
      ]
     },
     "metadata": {},
     "output_type": "display_data"
    }
   ],
   "source": [
    "test_table"
   ]
  },
  {
   "cell_type": "code",
   "execution_count": 148,
   "id": "6dc4b4e8",
   "metadata": {},
   "outputs": [
    {
     "name": "stdout",
     "output_type": "stream",
     "text": [
      "'data.frame':\t4 obs. of  5 variables:\n",
      " $ V1: Factor w/ 2 levels \"a\",\"d\": 1 2 1 2\n",
      " $ V2: Factor w/ 2 levels \" b\",\" f\": 1 2 1 2\n",
      " $ V3: Factor w/ 2 levels \" c\",\" g\": 1 2 1 2\n",
      " $ V4: Factor w/ 2 levels \" 1993-04-12\",..: 1 2 1 2\n",
      " $ V5: Factor w/ 3 levels \" Missing\",\" NA\",..: 2 1 3 3\n"
     ]
    }
   ],
   "source": [
    "str(test_table)"
   ]
  },
  {
   "cell_type": "code",
   "execution_count": 149,
   "id": "67c7b446",
   "metadata": {},
   "outputs": [],
   "source": [
    "test_table$V4 <- as.Date(test_table$V4)"
   ]
  },
  {
   "cell_type": "code",
   "execution_count": 66,
   "id": "424862fa",
   "metadata": {},
   "outputs": [],
   "source": [
    "# удалить все наблюдения с пропущенными значениями"
   ]
  },
  {
   "cell_type": "code",
   "execution_count": 127,
   "id": "07e1842b",
   "metadata": {},
   "outputs": [],
   "source": [
    "test_table$V5 <- as.character(test_table$V5)"
   ]
  },
  {
   "cell_type": "code",
   "execution_count": 151,
   "id": "7e1fc882",
   "metadata": {},
   "outputs": [
    {
     "data": {
      "text/html": [
       "<table>\n",
       "<thead><tr><th scope=col>V1</th><th scope=col>V2</th><th scope=col>V3</th><th scope=col>V4</th><th scope=col>V5</th></tr></thead>\n",
       "<tbody>\n",
       "\t<tr><td>a           </td><td> b          </td><td> c          </td><td>1993-04-12  </td><td> NA         </td></tr>\n",
       "\t<tr><td>d           </td><td> f          </td><td> g          </td><td>2021-04-18  </td><td> Missing    </td></tr>\n",
       "\t<tr><td>a           </td><td> b          </td><td> c          </td><td>1993-04-12  </td><td> Not Missing</td></tr>\n",
       "\t<tr><td>d           </td><td> f          </td><td> g          </td><td>2021-04-18  </td><td> Not Missing</td></tr>\n",
       "</tbody>\n",
       "</table>\n"
      ],
      "text/latex": [
       "\\begin{tabular}{r|lllll}\n",
       " V1 & V2 & V3 & V4 & V5\\\\\n",
       "\\hline\n",
       "\t a            &  b           &  c           & 1993-04-12   &  NA         \\\\\n",
       "\t d            &  f           &  g           & 2021-04-18   &  Missing    \\\\\n",
       "\t a            &  b           &  c           & 1993-04-12   &  Not Missing\\\\\n",
       "\t d            &  f           &  g           & 2021-04-18   &  Not Missing\\\\\n",
       "\\end{tabular}\n"
      ],
      "text/markdown": [
       "\n",
       "| V1 | V2 | V3 | V4 | V5 |\n",
       "|---|---|---|---|---|\n",
       "| a            |  b           |  c           | 1993-04-12   |  NA          |\n",
       "| d            |  f           |  g           | 2021-04-18   |  Missing     |\n",
       "| a            |  b           |  c           | 1993-04-12   |  Not Missing |\n",
       "| d            |  f           |  g           | 2021-04-18   |  Not Missing |\n",
       "\n"
      ],
      "text/plain": [
       "  V1 V2 V3 V4         V5          \n",
       "1 a   b  c 1993-04-12  NA         \n",
       "2 d   f  g 2021-04-18  Missing    \n",
       "3 a   b  c 1993-04-12  Not Missing\n",
       "4 d   f  g 2021-04-18  Not Missing"
      ]
     },
     "metadata": {},
     "output_type": "display_data"
    }
   ],
   "source": [
    "na.omit(test_table)"
   ]
  },
  {
   "cell_type": "code",
   "execution_count": 152,
   "id": "d897aacb",
   "metadata": {},
   "outputs": [
    {
     "data": {
      "text/html": [
       "<table>\n",
       "<thead><tr><th scope=col>V1</th><th scope=col>V2</th><th scope=col>V3</th><th scope=col>V4</th><th scope=col>V5</th></tr></thead>\n",
       "<tbody>\n",
       "\t<tr><td>a           </td><td> b          </td><td> c          </td><td>1993-04-12  </td><td> NA         </td></tr>\n",
       "\t<tr><td>d           </td><td> f          </td><td> g          </td><td>2021-04-18  </td><td> Missing    </td></tr>\n",
       "\t<tr><td>a           </td><td> b          </td><td> c          </td><td>1993-04-12  </td><td> Not Missing</td></tr>\n",
       "\t<tr><td>d           </td><td> f          </td><td> g          </td><td>2021-04-18  </td><td> Not Missing</td></tr>\n",
       "</tbody>\n",
       "</table>\n"
      ],
      "text/latex": [
       "\\begin{tabular}{r|lllll}\n",
       " V1 & V2 & V3 & V4 & V5\\\\\n",
       "\\hline\n",
       "\t a            &  b           &  c           & 1993-04-12   &  NA         \\\\\n",
       "\t d            &  f           &  g           & 2021-04-18   &  Missing    \\\\\n",
       "\t a            &  b           &  c           & 1993-04-12   &  Not Missing\\\\\n",
       "\t d            &  f           &  g           & 2021-04-18   &  Not Missing\\\\\n",
       "\\end{tabular}\n"
      ],
      "text/markdown": [
       "\n",
       "| V1 | V2 | V3 | V4 | V5 |\n",
       "|---|---|---|---|---|\n",
       "| a            |  b           |  c           | 1993-04-12   |  NA          |\n",
       "| d            |  f           |  g           | 2021-04-18   |  Missing     |\n",
       "| a            |  b           |  c           | 1993-04-12   |  Not Missing |\n",
       "| d            |  f           |  g           | 2021-04-18   |  Not Missing |\n",
       "\n"
      ],
      "text/plain": [
       "  V1 V2 V3 V4         V5          \n",
       "1 a   b  c 1993-04-12  NA         \n",
       "2 d   f  g 2021-04-18  Missing    \n",
       "3 a   b  c 1993-04-12  Not Missing\n",
       "4 d   f  g 2021-04-18  Not Missing"
      ]
     },
     "metadata": {},
     "output_type": "display_data"
    }
   ],
   "source": [
    "test_table"
   ]
  },
  {
   "cell_type": "code",
   "execution_count": 124,
   "id": "9066f0bc",
   "metadata": {},
   "outputs": [
    {
     "data": {
      "text/html": [
       "<table>\n",
       "<thead><tr><th scope=col>V1</th><th scope=col>V2</th><th scope=col>V3</th><th scope=col>V4</th><th scope=col>V5</th></tr></thead>\n",
       "<tbody>\n",
       "\t<tr><td>a           </td><td> b          </td><td> c          </td><td> 1993-04-12 </td><td> NA         </td></tr>\n",
       "\t<tr><td>d           </td><td> f          </td><td> g          </td><td> 2021-04-18 </td><td> Missing    </td></tr>\n",
       "\t<tr><td>a           </td><td> b          </td><td> c          </td><td> 1993-04-12 </td><td> Not Missing</td></tr>\n",
       "\t<tr><td>d           </td><td> f          </td><td> g          </td><td> 2021-04-18 </td><td> Not Missing</td></tr>\n",
       "</tbody>\n",
       "</table>\n"
      ],
      "text/latex": [
       "\\begin{tabular}{r|lllll}\n",
       " V1 & V2 & V3 & V4 & V5\\\\\n",
       "\\hline\n",
       "\t a            &  b           &  c           &  1993-04-12  &  NA         \\\\\n",
       "\t d            &  f           &  g           &  2021-04-18  &  Missing    \\\\\n",
       "\t a            &  b           &  c           &  1993-04-12  &  Not Missing\\\\\n",
       "\t d            &  f           &  g           &  2021-04-18  &  Not Missing\\\\\n",
       "\\end{tabular}\n"
      ],
      "text/markdown": [
       "\n",
       "| V1 | V2 | V3 | V4 | V5 |\n",
       "|---|---|---|---|---|\n",
       "| a            |  b           |  c           |  1993-04-12  |  NA          |\n",
       "| d            |  f           |  g           |  2021-04-18  |  Missing     |\n",
       "| a            |  b           |  c           |  1993-04-12  |  Not Missing |\n",
       "| d            |  f           |  g           |  2021-04-18  |  Not Missing |\n",
       "\n"
      ],
      "text/plain": [
       "  V1 V2 V3 V4          V5          \n",
       "1 a   b  c  1993-04-12  NA         \n",
       "2 d   f  g  2021-04-18  Missing    \n",
       "3 a   b  c  1993-04-12  Not Missing\n",
       "4 d   f  g  2021-04-18  Not Missing"
      ]
     },
     "metadata": {},
     "output_type": "display_data"
    }
   ],
   "source": [
    "test_table[complete.cases(test_table),]"
   ]
  },
  {
   "cell_type": "code",
   "execution_count": 125,
   "id": "00758dd8",
   "metadata": {},
   "outputs": [
    {
     "data": {
      "text/html": [
       "<table>\n",
       "<thead><tr><th scope=col>V1</th><th scope=col>V2</th><th scope=col>V3</th><th scope=col>V4</th><th scope=col>V5</th></tr></thead>\n",
       "<tbody>\n",
       "\t<tr><td>a           </td><td> b          </td><td> c          </td><td> 1993-04-12 </td><td> NA         </td></tr>\n",
       "\t<tr><td>d           </td><td> f          </td><td> g          </td><td> 2021-04-18 </td><td> Missing    </td></tr>\n",
       "\t<tr><td>a           </td><td> b          </td><td> c          </td><td> 1993-04-12 </td><td> Not Missing</td></tr>\n",
       "\t<tr><td>d           </td><td> f          </td><td> g          </td><td> 2021-04-18 </td><td> Not Missing</td></tr>\n",
       "</tbody>\n",
       "</table>\n"
      ],
      "text/latex": [
       "\\begin{tabular}{r|lllll}\n",
       " V1 & V2 & V3 & V4 & V5\\\\\n",
       "\\hline\n",
       "\t a            &  b           &  c           &  1993-04-12  &  NA         \\\\\n",
       "\t d            &  f           &  g           &  2021-04-18  &  Missing    \\\\\n",
       "\t a            &  b           &  c           &  1993-04-12  &  Not Missing\\\\\n",
       "\t d            &  f           &  g           &  2021-04-18  &  Not Missing\\\\\n",
       "\\end{tabular}\n"
      ],
      "text/markdown": [
       "\n",
       "| V1 | V2 | V3 | V4 | V5 |\n",
       "|---|---|---|---|---|\n",
       "| a            |  b           |  c           |  1993-04-12  |  NA          |\n",
       "| d            |  f           |  g           |  2021-04-18  |  Missing     |\n",
       "| a            |  b           |  c           |  1993-04-12  |  Not Missing |\n",
       "| d            |  f           |  g           |  2021-04-18  |  Not Missing |\n",
       "\n"
      ],
      "text/plain": [
       "  V1 V2 V3 V4          V5          \n",
       "1 a   b  c  1993-04-12  NA         \n",
       "2 d   f  g  2021-04-18  Missing    \n",
       "3 a   b  c  1993-04-12  Not Missing\n",
       "4 d   f  g  2021-04-18  Not Missing"
      ]
     },
     "metadata": {},
     "output_type": "display_data"
    }
   ],
   "source": [
    "test_table"
   ]
  },
  {
   "cell_type": "code",
   "execution_count": 166,
   "id": "60b09b64",
   "metadata": {},
   "outputs": [],
   "source": [
    "test_table$V6 <- c(NA)"
   ]
  },
  {
   "cell_type": "code",
   "execution_count": 169,
   "id": "4729b94e",
   "metadata": {},
   "outputs": [
    {
     "data": {
      "text/html": [
       "<table>\n",
       "<thead><tr><th scope=col>V1</th><th scope=col>V2</th><th scope=col>V3</th><th scope=col>V4</th><th scope=col>V5</th><th scope=col>V6</th></tr></thead>\n",
       "<tbody>\n",
       "\t<tr><td>a           </td><td> b          </td><td> c          </td><td> 1993-04-12 </td><td> NA         </td><td>NA          </td></tr>\n",
       "\t<tr><td>d           </td><td> f          </td><td> g          </td><td> 2021-04-18 </td><td> Missing    </td><td>NA          </td></tr>\n",
       "\t<tr><td>a           </td><td> b          </td><td> c          </td><td> 1993-04-12 </td><td> Not Missing</td><td>NA          </td></tr>\n",
       "\t<tr><td>d           </td><td> f          </td><td> g          </td><td> 2021-04-18 </td><td> Not Missing</td><td>NA          </td></tr>\n",
       "</tbody>\n",
       "</table>\n"
      ],
      "text/latex": [
       "\\begin{tabular}{r|llllll}\n",
       " V1 & V2 & V3 & V4 & V5 & V6\\\\\n",
       "\\hline\n",
       "\t a            &  b           &  c           &  1993-04-12  &  NA          & NA          \\\\\n",
       "\t d            &  f           &  g           &  2021-04-18  &  Missing     & NA          \\\\\n",
       "\t a            &  b           &  c           &  1993-04-12  &  Not Missing & NA          \\\\\n",
       "\t d            &  f           &  g           &  2021-04-18  &  Not Missing & NA          \\\\\n",
       "\\end{tabular}\n"
      ],
      "text/markdown": [
       "\n",
       "| V1 | V2 | V3 | V4 | V5 | V6 |\n",
       "|---|---|---|---|---|---|\n",
       "| a            |  b           |  c           |  1993-04-12  |  NA          | NA           |\n",
       "| d            |  f           |  g           |  2021-04-18  |  Missing     | NA           |\n",
       "| a            |  b           |  c           |  1993-04-12  |  Not Missing | NA           |\n",
       "| d            |  f           |  g           |  2021-04-18  |  Not Missing | NA           |\n",
       "\n"
      ],
      "text/plain": [
       "  V1 V2 V3 V4          V5           V6\n",
       "1 a   b  c  1993-04-12  NA          NA\n",
       "2 d   f  g  2021-04-18  Missing     NA\n",
       "3 a   b  c  1993-04-12  Not Missing NA\n",
       "4 d   f  g  2021-04-18  Not Missing NA"
      ]
     },
     "metadata": {},
     "output_type": "display_data"
    }
   ],
   "source": [
    "test_table"
   ]
  },
  {
   "cell_type": "code",
   "execution_count": 168,
   "id": "86ef2eaa",
   "metadata": {},
   "outputs": [
    {
     "name": "stdout",
     "output_type": "stream",
     "text": [
      "'data.frame':\t4 obs. of  6 variables:\n",
      " $ V1: Factor w/ 2 levels \"a\",\"d\": 1 2 1 2\n",
      " $ V2: Factor w/ 2 levels \" b\",\" f\": 1 2 1 2\n",
      " $ V3: Factor w/ 2 levels \" c\",\" g\": 1 2 1 2\n",
      " $ V4: Factor w/ 2 levels \" 1993-04-12\",..: 1 2 1 2\n",
      " $ V5: Factor w/ 3 levels \" Missing\",\" NA\",..: 2 1 3 3\n",
      " $ V6: logi  NA NA NA NA\n"
     ]
    }
   ],
   "source": [
    "str(test_table)"
   ]
  },
  {
   "cell_type": "code",
   "execution_count": 178,
   "id": "5168277a",
   "metadata": {},
   "outputs": [
    {
     "data": {
      "text/html": [
       "<table>\n",
       "<thead><tr><th scope=col>V1</th><th scope=col>V2</th><th scope=col>V3</th><th scope=col>V4</th><th scope=col>V5</th><th scope=col>V6</th></tr></thead>\n",
       "<tbody>\n",
       "</tbody>\n",
       "</table>\n"
      ],
      "text/latex": [
       "\\begin{tabular}{r|llllll}\n",
       " V1 & V2 & V3 & V4 & V5 & V6\\\\\n",
       "\\hline\n",
       "\\end{tabular}\n"
      ],
      "text/markdown": [
       "\n",
       "| V1 | V2 | V3 | V4 | V5 | V6 |\n",
       "|---|---|---|---|---|---|\n",
       "\n"
      ],
      "text/plain": [
       "     V1 V2 V3 V4 V5 V6"
      ]
     },
     "metadata": {},
     "output_type": "display_data"
    }
   ],
   "source": [
    "na.omit(test_table)"
   ]
  },
  {
   "cell_type": "code",
   "execution_count": 186,
   "id": "89bee366",
   "metadata": {},
   "outputs": [
    {
     "data": {
      "text/html": [
       "<table>\n",
       "<thead><tr><th scope=col>V1</th><th scope=col>V2</th><th scope=col>V3</th><th scope=col>V4</th><th scope=col>V5</th><th scope=col>V6</th></tr></thead>\n",
       "<tbody>\n",
       "\t<tr><td>a           </td><td> b          </td><td> c          </td><td> 1993-04-12 </td><td> NA         </td><td>NA          </td></tr>\n",
       "\t<tr><td>d           </td><td> f          </td><td> g          </td><td> 2021-04-18 </td><td> Missing    </td><td>NA          </td></tr>\n",
       "\t<tr><td>a           </td><td> b          </td><td> c          </td><td> 1993-04-12 </td><td> Not Missing</td><td>NA          </td></tr>\n",
       "\t<tr><td>d           </td><td> f          </td><td> g          </td><td> 2021-04-18 </td><td> Not Missing</td><td>NA          </td></tr>\n",
       "</tbody>\n",
       "</table>\n"
      ],
      "text/latex": [
       "\\begin{tabular}{r|llllll}\n",
       " V1 & V2 & V3 & V4 & V5 & V6\\\\\n",
       "\\hline\n",
       "\t a            &  b           &  c           &  1993-04-12  &  NA          & NA          \\\\\n",
       "\t d            &  f           &  g           &  2021-04-18  &  Missing     & NA          \\\\\n",
       "\t a            &  b           &  c           &  1993-04-12  &  Not Missing & NA          \\\\\n",
       "\t d            &  f           &  g           &  2021-04-18  &  Not Missing & NA          \\\\\n",
       "\\end{tabular}\n"
      ],
      "text/markdown": [
       "\n",
       "| V1 | V2 | V3 | V4 | V5 | V6 |\n",
       "|---|---|---|---|---|---|\n",
       "| a            |  b           |  c           |  1993-04-12  |  NA          | NA           |\n",
       "| d            |  f           |  g           |  2021-04-18  |  Missing     | NA           |\n",
       "| a            |  b           |  c           |  1993-04-12  |  Not Missing | NA           |\n",
       "| d            |  f           |  g           |  2021-04-18  |  Not Missing | NA           |\n",
       "\n"
      ],
      "text/plain": [
       "  V1 V2 V3 V4          V5           V6\n",
       "1 a   b  c  1993-04-12  NA          NA\n",
       "2 d   f  g  2021-04-18  Missing     NA\n",
       "3 a   b  c  1993-04-12  Not Missing NA\n",
       "4 d   f  g  2021-04-18  Not Missing NA"
      ]
     },
     "metadata": {},
     "output_type": "display_data"
    }
   ],
   "source": [
    "test_table"
   ]
  },
  {
   "cell_type": "code",
   "execution_count": 180,
   "id": "d7367193",
   "metadata": {},
   "outputs": [],
   "source": [
    "# сохранить дф "
   ]
  },
  {
   "cell_type": "code",
   "execution_count": 188,
   "id": "0bf2c5d1",
   "metadata": {},
   "outputs": [],
   "source": [
    "write.csv(test_table, file = \"test.csv\")"
   ]
  },
  {
   "cell_type": "code",
   "execution_count": 189,
   "id": "c4b2ac80",
   "metadata": {},
   "outputs": [
    {
     "data": {
      "text/html": [
       "<table>\n",
       "<thead><tr><th scope=col>rating</th><th scope=col>complaints</th><th scope=col>privileges</th><th scope=col>learning</th><th scope=col>raises</th><th scope=col>critical</th><th scope=col>advance</th></tr></thead>\n",
       "<tbody>\n",
       "\t<tr><td>43</td><td>51</td><td>30</td><td>39</td><td>61</td><td>92</td><td>45</td></tr>\n",
       "\t<tr><td>63</td><td>64</td><td>51</td><td>54</td><td>63</td><td>73</td><td>47</td></tr>\n",
       "\t<tr><td>71</td><td>70</td><td>68</td><td>69</td><td>76</td><td>86</td><td>48</td></tr>\n",
       "\t<tr><td>61</td><td>63</td><td>45</td><td>47</td><td>54</td><td>84</td><td>35</td></tr>\n",
       "\t<tr><td>81</td><td>78</td><td>56</td><td>66</td><td>71</td><td>83</td><td>47</td></tr>\n",
       "\t<tr><td>43</td><td>55</td><td>49</td><td>44</td><td>54</td><td>49</td><td>34</td></tr>\n",
       "</tbody>\n",
       "</table>\n"
      ],
      "text/latex": [
       "\\begin{tabular}{r|lllllll}\n",
       " rating & complaints & privileges & learning & raises & critical & advance\\\\\n",
       "\\hline\n",
       "\t 43 & 51 & 30 & 39 & 61 & 92 & 45\\\\\n",
       "\t 63 & 64 & 51 & 54 & 63 & 73 & 47\\\\\n",
       "\t 71 & 70 & 68 & 69 & 76 & 86 & 48\\\\\n",
       "\t 61 & 63 & 45 & 47 & 54 & 84 & 35\\\\\n",
       "\t 81 & 78 & 56 & 66 & 71 & 83 & 47\\\\\n",
       "\t 43 & 55 & 49 & 44 & 54 & 49 & 34\\\\\n",
       "\\end{tabular}\n"
      ],
      "text/markdown": [
       "\n",
       "| rating | complaints | privileges | learning | raises | critical | advance |\n",
       "|---|---|---|---|---|---|---|\n",
       "| 43 | 51 | 30 | 39 | 61 | 92 | 45 |\n",
       "| 63 | 64 | 51 | 54 | 63 | 73 | 47 |\n",
       "| 71 | 70 | 68 | 69 | 76 | 86 | 48 |\n",
       "| 61 | 63 | 45 | 47 | 54 | 84 | 35 |\n",
       "| 81 | 78 | 56 | 66 | 71 | 83 | 47 |\n",
       "| 43 | 55 | 49 | 44 | 54 | 49 | 34 |\n",
       "\n"
      ],
      "text/plain": [
       "  rating complaints privileges learning raises critical advance\n",
       "1 43     51         30         39       61     92       45     \n",
       "2 63     64         51         54       63     73       47     \n",
       "3 71     70         68         69       76     86       48     \n",
       "4 61     63         45         47       54     84       35     \n",
       "5 81     78         56         66       71     83       47     \n",
       "6 43     55         49         44       54     49       34     "
      ]
     },
     "metadata": {},
     "output_type": "display_data"
    }
   ],
   "source": [
    "head(attitude)"
   ]
  },
  {
   "cell_type": "code",
   "execution_count": 192,
   "id": "741fe0dc",
   "metadata": {},
   "outputs": [],
   "source": [
    "df_at <- attitude"
   ]
  },
  {
   "cell_type": "code",
   "execution_count": 195,
   "id": "69258069",
   "metadata": {},
   "outputs": [
    {
     "data": {
      "text/html": [
       "<table>\n",
       "<thead><tr><th></th><th scope=col>complaints</th><th scope=col>privileges</th><th scope=col>learning</th><th scope=col>raises</th><th scope=col>critical</th><th scope=col>advance</th></tr></thead>\n",
       "<tbody>\n",
       "\t<tr><th scope=row>1</th><td>51</td><td>30</td><td>39</td><td>61</td><td>92</td><td>45</td></tr>\n",
       "\t<tr><th scope=row>6</th><td>55</td><td>49</td><td>44</td><td>54</td><td>49</td><td>34</td></tr>\n",
       "\t<tr><th scope=row>24</th><td>37</td><td>42</td><td>58</td><td>50</td><td>57</td><td>49</td></tr>\n",
       "\t<tr><th scope=row>28</th><td>57</td><td>44</td><td>45</td><td>51</td><td>83</td><td>38</td></tr>\n",
       "</tbody>\n",
       "</table>\n"
      ],
      "text/latex": [
       "\\begin{tabular}{r|llllll}\n",
       "  & complaints & privileges & learning & raises & critical & advance\\\\\n",
       "\\hline\n",
       "\t1 & 51 & 30 & 39 & 61 & 92 & 45\\\\\n",
       "\t6 & 55 & 49 & 44 & 54 & 49 & 34\\\\\n",
       "\t24 & 37 & 42 & 58 & 50 & 57 & 49\\\\\n",
       "\t28 & 57 & 44 & 45 & 51 & 83 & 38\\\\\n",
       "\\end{tabular}\n"
      ],
      "text/markdown": [
       "\n",
       "| <!--/--> | complaints | privileges | learning | raises | critical | advance |\n",
       "|---|---|---|---|---|---|---|\n",
       "| 1 | 51 | 30 | 39 | 61 | 92 | 45 |\n",
       "| 6 | 55 | 49 | 44 | 54 | 49 | 34 |\n",
       "| 24 | 37 | 42 | 58 | 50 | 57 | 49 |\n",
       "| 28 | 57 | 44 | 45 | 51 | 83 | 38 |\n",
       "\n"
      ],
      "text/plain": [
       "   complaints privileges learning raises critical advance\n",
       "1  51         30         39       61     92       45     \n",
       "6  55         49         44       54     49       34     \n",
       "24 37         42         58       50     57       49     \n",
       "28 57         44         45       51     83       38     "
      ]
     },
     "metadata": {},
     "output_type": "display_data"
    }
   ],
   "source": [
    "subset(sel = -rating, sub = rating < 50, df_at)"
   ]
  },
  {
   "cell_type": "code",
   "execution_count": 198,
   "id": "f507feb7",
   "metadata": {},
   "outputs": [
    {
     "data": {
      "text/html": [
       "<table>\n",
       "<thead><tr><th></th><th scope=col>complaints</th><th scope=col>privileges</th><th scope=col>learning</th><th scope=col>raises</th><th scope=col>critical</th><th scope=col>advance</th></tr></thead>\n",
       "<tbody>\n",
       "\t<tr><th scope=row>1</th><td>51</td><td>30</td><td>39</td><td>61</td><td>92</td><td>45</td></tr>\n",
       "\t<tr><th scope=row>6</th><td>55</td><td>49</td><td>44</td><td>54</td><td>49</td><td>34</td></tr>\n",
       "\t<tr><th scope=row>24</th><td>37</td><td>42</td><td>58</td><td>50</td><td>57</td><td>49</td></tr>\n",
       "\t<tr><th scope=row>28</th><td>57</td><td>44</td><td>45</td><td>51</td><td>83</td><td>38</td></tr>\n",
       "</tbody>\n",
       "</table>\n"
      ],
      "text/latex": [
       "\\begin{tabular}{r|llllll}\n",
       "  & complaints & privileges & learning & raises & critical & advance\\\\\n",
       "\\hline\n",
       "\t1 & 51 & 30 & 39 & 61 & 92 & 45\\\\\n",
       "\t6 & 55 & 49 & 44 & 54 & 49 & 34\\\\\n",
       "\t24 & 37 & 42 & 58 & 50 & 57 & 49\\\\\n",
       "\t28 & 57 & 44 & 45 & 51 & 83 & 38\\\\\n",
       "\\end{tabular}\n"
      ],
      "text/markdown": [
       "\n",
       "| <!--/--> | complaints | privileges | learning | raises | critical | advance |\n",
       "|---|---|---|---|---|---|---|\n",
       "| 1 | 51 | 30 | 39 | 61 | 92 | 45 |\n",
       "| 6 | 55 | 49 | 44 | 54 | 49 | 34 |\n",
       "| 24 | 37 | 42 | 58 | 50 | 57 | 49 |\n",
       "| 28 | 57 | 44 | 45 | 51 | 83 | 38 |\n",
       "\n"
      ],
      "text/plain": [
       "   complaints privileges learning raises critical advance\n",
       "1  51         30         39       61     92       45     \n",
       "6  55         49         44       54     49       34     \n",
       "24 37         42         58       50     57       49     \n",
       "28 57         44         45       51     83       38     "
      ]
     },
     "metadata": {},
     "output_type": "display_data"
    }
   ],
   "source": [
    "df_at[df_at$rating < 50, names(df_at) != \"rating\"]"
   ]
  },
  {
   "cell_type": "code",
   "execution_count": 199,
   "id": "0f452dfa",
   "metadata": {},
   "outputs": [
    {
     "data": {
      "text/html": [
       "<table>\n",
       "<thead><tr><th></th><th scope=col>complaints</th><th scope=col>privileges</th><th scope=col>learning</th><th scope=col>raises</th><th scope=col>critical</th><th scope=col>advance</th></tr></thead>\n",
       "<tbody>\n",
       "\t<tr><th scope=row>1</th><td>51</td><td>30</td><td>39</td><td>61</td><td>92</td><td>45</td></tr>\n",
       "\t<tr><th scope=row>6</th><td>55</td><td>49</td><td>44</td><td>54</td><td>49</td><td>34</td></tr>\n",
       "\t<tr><th scope=row>24</th><td>37</td><td>42</td><td>58</td><td>50</td><td>57</td><td>49</td></tr>\n",
       "\t<tr><th scope=row>28</th><td>57</td><td>44</td><td>45</td><td>51</td><td>83</td><td>38</td></tr>\n",
       "</tbody>\n",
       "</table>\n"
      ],
      "text/latex": [
       "\\begin{tabular}{r|llllll}\n",
       "  & complaints & privileges & learning & raises & critical & advance\\\\\n",
       "\\hline\n",
       "\t1 & 51 & 30 & 39 & 61 & 92 & 45\\\\\n",
       "\t6 & 55 & 49 & 44 & 54 & 49 & 34\\\\\n",
       "\t24 & 37 & 42 & 58 & 50 & 57 & 49\\\\\n",
       "\t28 & 57 & 44 & 45 & 51 & 83 & 38\\\\\n",
       "\\end{tabular}\n"
      ],
      "text/markdown": [
       "\n",
       "| <!--/--> | complaints | privileges | learning | raises | critical | advance |\n",
       "|---|---|---|---|---|---|---|\n",
       "| 1 | 51 | 30 | 39 | 61 | 92 | 45 |\n",
       "| 6 | 55 | 49 | 44 | 54 | 49 | 34 |\n",
       "| 24 | 37 | 42 | 58 | 50 | 57 | 49 |\n",
       "| 28 | 57 | 44 | 45 | 51 | 83 | 38 |\n",
       "\n"
      ],
      "text/plain": [
       "   complaints privileges learning raises critical advance\n",
       "1  51         30         39       61     92       45     \n",
       "6  55         49         44       54     49       34     \n",
       "24 37         42         58       50     57       49     \n",
       "28 57         44         45       51     83       38     "
      ]
     },
     "metadata": {},
     "output_type": "display_data"
    }
   ],
   "source": [
    "subset(df_at, rating < 50, -rating)"
   ]
  },
  {
   "cell_type": "code",
   "execution_count": 208,
   "id": "9dc2b5d6",
   "metadata": {},
   "outputs": [
    {
     "data": {
      "text/html": [
       "6.4"
      ],
      "text/latex": [
       "6.4"
      ],
      "text/markdown": [
       "6.4"
      ],
      "text/plain": [
       "[1] 6.4"
      ]
     },
     "metadata": {},
     "output_type": "display_data"
    }
   ],
   "source": [
    "max(quakes$mag)"
   ]
  },
  {
   "cell_type": "code",
   "execution_count": 209,
   "id": "937c8884",
   "metadata": {},
   "outputs": [
    {
     "data": {
      "text/plain": [
       "      lat              long           depth            mag      \n",
       " Min.   :-38.59   Min.   :165.7   Min.   : 40.0   Min.   :4.00  \n",
       " 1st Qu.:-23.47   1st Qu.:179.6   1st Qu.: 99.0   1st Qu.:4.30  \n",
       " Median :-20.30   Median :181.4   Median :247.0   Median :4.60  \n",
       " Mean   :-20.64   Mean   :179.5   Mean   :311.4   Mean   :4.62  \n",
       " 3rd Qu.:-17.64   3rd Qu.:183.2   3rd Qu.:543.0   3rd Qu.:4.90  \n",
       " Max.   :-10.72   Max.   :188.1   Max.   :680.0   Max.   :6.40  \n",
       "    stations     \n",
       " Min.   : 10.00  \n",
       " 1st Qu.: 18.00  \n",
       " Median : 27.00  \n",
       " Mean   : 33.42  \n",
       " 3rd Qu.: 42.00  \n",
       " Max.   :132.00  "
      ]
     },
     "metadata": {},
     "output_type": "display_data"
    }
   ],
   "source": [
    "summary(quakes)"
   ]
  },
  {
   "cell_type": "code",
   "execution_count": 457,
   "id": "9104492d",
   "metadata": {},
   "outputs": [
    {
     "data": {
      "text/html": [
       "<table>\n",
       "<thead><tr><th scope=col>Site</th><th scope=col>Observer</th><th scope=col>Subpoint</th><th scope=col>VOR</th><th scope=col>PDB</th><th scope=col>DBHt</th><th scope=col>PW</th><th scope=col>WHt</th><th scope=col>PE</th><th scope=col>EHt</th><th scope=col>PA</th><th scope=col>AHt</th><th scope=col>PH</th><th scope=col>HHt</th><th scope=col>PL</th><th scope=col>LHt</th><th scope=col>PB</th></tr></thead>\n",
       "<tbody>\n",
       "\t<tr><td>BunkerHill27</td><td>RA          </td><td>1           </td><td>6.0         </td><td>3           </td><td>5.2         </td><td>0           </td><td>0.0         </td><td>4           </td><td>2.9         </td><td>0           </td><td>0           </td><td>4           </td><td>3.0         </td><td>0           </td><td>0           </td><td>0           </td></tr>\n",
       "\t<tr><td>BunkerHill27</td><td>RA          </td><td>2           </td><td>4.5         </td><td>2           </td><td>3.1         </td><td>3           </td><td>4.7         </td><td>3           </td><td>4.1         </td><td>0           </td><td>0           </td><td>3           </td><td>3.5         </td><td>2           </td><td>1           </td><td>0           </td></tr>\n",
       "\t<tr><td>BunkerHill27</td><td>RA          </td><td>3           </td><td>2.0         </td><td>4           </td><td>5.5         </td><td>1           </td><td>5.8         </td><td>3           </td><td>3.9         </td><td>0           </td><td>0           </td><td>3           </td><td>7.5         </td><td>0           </td><td>0           </td><td>0           </td></tr>\n",
       "\t<tr><td>BunkerHill27</td><td>RA          </td><td>4           </td><td>2.5         </td><td>3           </td><td>6.2         </td><td>0           </td><td>0.0         </td><td>3           </td><td>4.0         </td><td>0           </td><td>0           </td><td>4           </td><td>5.0         </td><td>0           </td><td>0           </td><td>0           </td></tr>\n",
       "\t<tr><td>BunkerHill27</td><td>RA          </td><td>5           </td><td>4.0         </td><td>4           </td><td>5.4         </td><td>0           </td><td>0.0         </td><td>3           </td><td>3.5         </td><td>0           </td><td>0           </td><td>4           </td><td>3.7         </td><td>0           </td><td>0           </td><td>0           </td></tr>\n",
       "\t<tr><td>BunkerHill27</td><td>JT          </td><td>6           </td><td>2.0         </td><td>3           </td><td>4.0         </td><td>0           </td><td>0.0         </td><td>3           </td><td>4.1         </td><td>0           </td><td>0           </td><td>2           </td><td>3.5         </td><td>0           </td><td>0           </td><td>0           </td></tr>\n",
       "</tbody>\n",
       "</table>\n"
      ],
      "text/latex": [
       "\\begin{tabular}{r|lllllllllllllllll}\n",
       " Site & Observer & Subpoint & VOR & PDB & DBHt & PW & WHt & PE & EHt & PA & AHt & PH & HHt & PL & LHt & PB\\\\\n",
       "\\hline\n",
       "\t BunkerHill27 & RA           & 1            & 6.0          & 3            & 5.2          & 0            & 0.0          & 4            & 2.9          & 0            & 0            & 4            & 3.0          & 0            & 0            & 0           \\\\\n",
       "\t BunkerHill27 & RA           & 2            & 4.5          & 2            & 3.1          & 3            & 4.7          & 3            & 4.1          & 0            & 0            & 3            & 3.5          & 2            & 1            & 0           \\\\\n",
       "\t BunkerHill27 & RA           & 3            & 2.0          & 4            & 5.5          & 1            & 5.8          & 3            & 3.9          & 0            & 0            & 3            & 7.5          & 0            & 0            & 0           \\\\\n",
       "\t BunkerHill27 & RA           & 4            & 2.5          & 3            & 6.2          & 0            & 0.0          & 3            & 4.0          & 0            & 0            & 4            & 5.0          & 0            & 0            & 0           \\\\\n",
       "\t BunkerHill27 & RA           & 5            & 4.0          & 4            & 5.4          & 0            & 0.0          & 3            & 3.5          & 0            & 0            & 4            & 3.7          & 0            & 0            & 0           \\\\\n",
       "\t BunkerHill27 & JT           & 6            & 2.0          & 3            & 4.0          & 0            & 0.0          & 3            & 4.1          & 0            & 0            & 2            & 3.5          & 0            & 0            & 0           \\\\\n",
       "\\end{tabular}\n"
      ],
      "text/markdown": [
       "\n",
       "| Site | Observer | Subpoint | VOR | PDB | DBHt | PW | WHt | PE | EHt | PA | AHt | PH | HHt | PL | LHt | PB |\n",
       "|---|---|---|---|---|---|---|---|---|---|---|---|---|---|---|---|---|\n",
       "| BunkerHill27 | RA           | 1            | 6.0          | 3            | 5.2          | 0            | 0.0          | 4            | 2.9          | 0            | 0            | 4            | 3.0          | 0            | 0            | 0            |\n",
       "| BunkerHill27 | RA           | 2            | 4.5          | 2            | 3.1          | 3            | 4.7          | 3            | 4.1          | 0            | 0            | 3            | 3.5          | 2            | 1            | 0            |\n",
       "| BunkerHill27 | RA           | 3            | 2.0          | 4            | 5.5          | 1            | 5.8          | 3            | 3.9          | 0            | 0            | 3            | 7.5          | 0            | 0            | 0            |\n",
       "| BunkerHill27 | RA           | 4            | 2.5          | 3            | 6.2          | 0            | 0.0          | 3            | 4.0          | 0            | 0            | 4            | 5.0          | 0            | 0            | 0            |\n",
       "| BunkerHill27 | RA           | 5            | 4.0          | 4            | 5.4          | 0            | 0.0          | 3            | 3.5          | 0            | 0            | 4            | 3.7          | 0            | 0            | 0            |\n",
       "| BunkerHill27 | JT           | 6            | 2.0          | 3            | 4.0          | 0            | 0.0          | 3            | 4.1          | 0            | 0            | 2            | 3.5          | 0            | 0            | 0            |\n",
       "\n"
      ],
      "text/plain": [
       "  Site         Observer Subpoint VOR PDB DBHt PW WHt PE EHt PA AHt PH HHt PL\n",
       "1 BunkerHill27 RA       1        6.0 3   5.2  0  0.0 4  2.9 0  0   4  3.0 0 \n",
       "2 BunkerHill27 RA       2        4.5 2   3.1  3  4.7 3  4.1 0  0   3  3.5 2 \n",
       "3 BunkerHill27 RA       3        2.0 4   5.5  1  5.8 3  3.9 0  0   3  7.5 0 \n",
       "4 BunkerHill27 RA       4        2.5 3   6.2  0  0.0 3  4.0 0  0   4  5.0 0 \n",
       "5 BunkerHill27 RA       5        4.0 4   5.4  0  0.0 3  3.5 0  0   4  3.7 0 \n",
       "6 BunkerHill27 JT       6        2.0 3   4.0  0  0.0 3  4.1 0  0   2  3.5 0 \n",
       "  LHt PB\n",
       "1 0   0 \n",
       "2 1   0 \n",
       "3 0   0 \n",
       "4 0   0 \n",
       "5 0   0 \n",
       "6 0   0 "
      ]
     },
     "metadata": {},
     "output_type": "display_data"
    }
   ],
   "source": [
    "avian <- read.table(\"avianHabitat.csv\", header = T, dec = \".\", sep = \",\"); head(avian)"
   ]
  },
  {
   "cell_type": "code",
   "execution_count": 216,
   "id": "e48b252e",
   "metadata": {},
   "outputs": [
    {
     "name": "stdout",
     "output_type": "stream",
     "text": [
      "'data.frame':\t1070 obs. of  17 variables:\n",
      " $ Site    : Factor w/ 101 levels \"BunkerHill11\",..: 14 14 14 14 14 14 14 14 14 14 ...\n",
      " $ Observer: Factor w/ 3 levels \"JT\",\"RA\",\"RR\": 2 2 2 2 2 1 1 1 1 1 ...\n",
      " $ Subpoint: int  1 2 3 4 5 6 7 8 9 10 ...\n",
      " $ VOR     : num  6 4.5 2 2.5 4 2 5.5 4 3.5 3.5 ...\n",
      " $ PDB     : int  3 2 4 3 4 3 3 2 2 2 ...\n",
      " $ DBHt    : num  5.2 3.1 5.5 6.2 5.4 4 5.2 4.4 5.7 4.8 ...\n",
      " $ PW      : int  0 3 1 0 0 0 2 1 1 0 ...\n",
      " $ WHt     : num  0 4.7 5.8 0 0 0 6.3 4.1 5.7 0 ...\n",
      " $ PE      : int  4 3 3 3 3 3 2 2 2 1 ...\n",
      " $ EHt     : num  2.9 4.1 3.9 4 3.5 4.1 2.6 4.3 5.2 1.7 ...\n",
      " $ PA      : int  0 0 0 0 0 0 0 0 0 0 ...\n",
      " $ AHt     : num  0 0 0 0 0 0 0 0 0 0 ...\n",
      " $ PH      : int  4 3 3 4 4 2 4 5 4 5 ...\n",
      " $ HHt     : num  3 3.5 7.5 5 3.7 3.5 5.8 8.2 6.9 5.7 ...\n",
      " $ PL      : int  0 2 0 0 0 0 0 0 0 0 ...\n",
      " $ LHt     : num  0 1 0 0 0 0 0 0 0 0 ...\n",
      " $ PB      : int  0 0 0 0 0 0 0 0 0 0 ...\n"
     ]
    }
   ],
   "source": [
    "str(avian)"
   ]
  },
  {
   "cell_type": "code",
   "execution_count": 223,
   "id": "e38a500e",
   "metadata": {},
   "outputs": [
    {
     "data": {
      "text/plain": [
       "                Site     Observer    Subpoint           VOR        \n",
       " LivingstonCreek13: 15   JT:150   Min.   : 1.000   Min.   : 0.000  \n",
       " LivingstonCreek14: 15   RA:574   1st Qu.: 3.000   1st Qu.: 0.000  \n",
       " LivingstonCreek17: 15   RR:346   Median : 6.000   Median : 1.000  \n",
       " LivingstonCreek18: 15            Mean   : 5.921   Mean   : 1.203  \n",
       " McAdamCreek11    : 15            3rd Qu.: 8.000   3rd Qu.: 1.500  \n",
       " McAdamCreek12    : 15            Max.   :15.000   Max.   :19.000  \n",
       " (Other)          :980                                             \n",
       "      PDB              DBHt               PW             WHt        \n",
       " Min.   :0.0000   Min.   : 0.0000   Min.   :0.000   Min.   : 0.000  \n",
       " 1st Qu.:0.0000   1st Qu.: 0.0000   1st Qu.:0.000   1st Qu.: 0.000  \n",
       " Median :0.0000   Median : 0.0000   Median :1.000   Median : 0.400  \n",
       " Mean   :0.8682   Mean   : 0.7827   Mean   :1.151   Mean   : 1.027  \n",
       " 3rd Qu.:2.0000   3rd Qu.: 1.2000   3rd Qu.:2.000   3rd Qu.: 1.100  \n",
       " Max.   :5.0000   Max.   :10.0000   Max.   :6.000   Max.   :24.500  \n",
       "                                                                    \n",
       "       PE             EHt               PA               AHt        \n",
       " Min.   :0.000   Min.   :0.0000   Min.   :0.00000   Min.   : 0.000  \n",
       " 1st Qu.:1.000   1st Qu.:0.3000   1st Qu.:0.00000   1st Qu.: 0.000  \n",
       " Median :2.000   Median :0.8000   Median :0.00000   Median : 0.000  \n",
       " Mean   :2.239   Mean   :0.9659   Mean   :0.04206   Mean   : 0.186  \n",
       " 3rd Qu.:3.000   3rd Qu.:1.4000   3rd Qu.:0.00000   3rd Qu.: 0.000  \n",
       " Max.   :6.000   Max.   :5.3000   Max.   :6.00000   Max.   :31.500  \n",
       "                                                                    \n",
       "       PH             HHt              PL             LHt        \n",
       " Min.   :0.000   Min.   :0.000   Min.   :0.000   Min.   :0.0000  \n",
       " 1st Qu.:2.000   1st Qu.:1.400   1st Qu.:0.000   1st Qu.:0.0000  \n",
       " Median :3.000   Median :2.300   Median :1.000   Median :0.2000  \n",
       " Mean   :2.867   Mean   :2.321   Mean   :1.652   Mean   :0.2685  \n",
       " 3rd Qu.:4.000   3rd Qu.:3.100   3rd Qu.:3.000   3rd Qu.:0.5000  \n",
       " Max.   :6.000   Max.   :8.200   Max.   :6.000   Max.   :1.3000  \n",
       "                                                                 \n",
       "       PB        \n",
       " Min.   :0.0000  \n",
       " 1st Qu.:0.0000  \n",
       " Median :0.0000  \n",
       " Mean   :0.7318  \n",
       " 3rd Qu.:1.0000  \n",
       " Max.   :6.0000  \n",
       "                 "
      ]
     },
     "metadata": {},
     "output_type": "display_data"
    }
   ],
   "source": [
    "summary(avian)"
   ]
  },
  {
   "cell_type": "code",
   "execution_count": 224,
   "id": "4241d4cc",
   "metadata": {},
   "outputs": [],
   "source": [
    "# узнать, есть ли проаущенные данные"
   ]
  },
  {
   "cell_type": "code",
   "execution_count": 225,
   "id": "b7743bad",
   "metadata": {},
   "outputs": [
    {
     "data": {
      "text/html": [
       "FALSE"
      ],
      "text/latex": [
       "FALSE"
      ],
      "text/markdown": [
       "FALSE"
      ],
      "text/plain": [
       "[1] FALSE"
      ]
     },
     "metadata": {},
     "output_type": "display_data"
    }
   ],
   "source": [
    "any(!complete.cases(avian))"
   ]
  },
  {
   "cell_type": "code",
   "execution_count": 227,
   "id": "441da6fe",
   "metadata": {},
   "outputs": [],
   "source": [
    "# PDB содержит проценты, поэтому нужно сдлелать проверку на < 0"
   ]
  },
  {
   "cell_type": "code",
   "execution_count": 228,
   "id": "f0686886",
   "metadata": {},
   "outputs": [
    {
     "data": {
      "text/html": [
       "FALSE"
      ],
      "text/latex": [
       "FALSE"
      ],
      "text/markdown": [
       "FALSE"
      ],
      "text/plain": [
       "[1] FALSE"
      ]
     },
     "metadata": {},
     "output_type": "display_data"
    }
   ],
   "source": [
    "any(avian$PDB < 0)"
   ]
  },
  {
   "cell_type": "code",
   "execution_count": 229,
   "id": "7759314d",
   "metadata": {},
   "outputs": [
    {
     "data": {
      "text/html": [
       "FALSE"
      ],
      "text/latex": [
       "FALSE"
      ],
      "text/markdown": [
       "FALSE"
      ],
      "text/plain": [
       "[1] FALSE"
      ]
     },
     "metadata": {},
     "output_type": "display_data"
    }
   ],
   "source": [
    "any(avian$PDB > 100)"
   ]
  },
  {
   "cell_type": "code",
   "execution_count": 230,
   "id": "a2499ed4",
   "metadata": {},
   "outputs": [],
   "source": [
    "check_percent_range <- function(x) {\n",
    "    any(x < 0 | x > 100)\n",
    "}"
   ]
  },
  {
   "cell_type": "code",
   "execution_count": 231,
   "id": "c0f91009",
   "metadata": {},
   "outputs": [
    {
     "data": {
      "text/html": [
       "FALSE"
      ],
      "text/latex": [
       "FALSE"
      ],
      "text/markdown": [
       "FALSE"
      ],
      "text/plain": [
       "[1] FALSE"
      ]
     },
     "metadata": {},
     "output_type": "display_data"
    }
   ],
   "source": [
    "check_percent_range(avian$PDB)"
   ]
  },
  {
   "cell_type": "code",
   "execution_count": 234,
   "id": "b5086ba6",
   "metadata": {},
   "outputs": [
    {
     "data": {
      "text/html": [
       "FALSE"
      ],
      "text/latex": [
       "FALSE"
      ],
      "text/markdown": [
       "FALSE"
      ],
      "text/plain": [
       "[1] FALSE"
      ]
     },
     "metadata": {},
     "output_type": "display_data"
    }
   ],
   "source": [
    "check_percent_range(avian[c(\"PDB\", \"PW\", \"PE\")])"
   ]
  },
  {
   "cell_type": "code",
   "execution_count": 235,
   "id": "a4e363db",
   "metadata": {},
   "outputs": [
    {
     "data": {
      "text/html": [
       "<ol class=list-inline>\n",
       "\t<li>'Site'</li>\n",
       "\t<li>'Observer'</li>\n",
       "\t<li>'Subpoint'</li>\n",
       "\t<li>'VOR'</li>\n",
       "\t<li>'PDB'</li>\n",
       "\t<li>'DBHt'</li>\n",
       "\t<li>'PW'</li>\n",
       "\t<li>'WHt'</li>\n",
       "\t<li>'PE'</li>\n",
       "\t<li>'EHt'</li>\n",
       "\t<li>'PA'</li>\n",
       "\t<li>'AHt'</li>\n",
       "\t<li>'PH'</li>\n",
       "\t<li>'HHt'</li>\n",
       "\t<li>'PL'</li>\n",
       "\t<li>'LHt'</li>\n",
       "\t<li>'PB'</li>\n",
       "</ol>\n"
      ],
      "text/latex": [
       "\\begin{enumerate*}\n",
       "\\item 'Site'\n",
       "\\item 'Observer'\n",
       "\\item 'Subpoint'\n",
       "\\item 'VOR'\n",
       "\\item 'PDB'\n",
       "\\item 'DBHt'\n",
       "\\item 'PW'\n",
       "\\item 'WHt'\n",
       "\\item 'PE'\n",
       "\\item 'EHt'\n",
       "\\item 'PA'\n",
       "\\item 'AHt'\n",
       "\\item 'PH'\n",
       "\\item 'HHt'\n",
       "\\item 'PL'\n",
       "\\item 'LHt'\n",
       "\\item 'PB'\n",
       "\\end{enumerate*}\n"
      ],
      "text/markdown": [
       "1. 'Site'\n",
       "2. 'Observer'\n",
       "3. 'Subpoint'\n",
       "4. 'VOR'\n",
       "5. 'PDB'\n",
       "6. 'DBHt'\n",
       "7. 'PW'\n",
       "8. 'WHt'\n",
       "9. 'PE'\n",
       "10. 'EHt'\n",
       "11. 'PA'\n",
       "12. 'AHt'\n",
       "13. 'PH'\n",
       "14. 'HHt'\n",
       "15. 'PL'\n",
       "16. 'LHt'\n",
       "17. 'PB'\n",
       "\n",
       "\n"
      ],
      "text/plain": [
       " [1] \"Site\"     \"Observer\" \"Subpoint\" \"VOR\"      \"PDB\"      \"DBHt\"    \n",
       " [7] \"PW\"       \"WHt\"      \"PE\"       \"EHt\"      \"PA\"       \"AHt\"     \n",
       "[13] \"PH\"       \"HHt\"      \"PL\"       \"LHt\"      \"PB\"      "
      ]
     },
     "metadata": {},
     "output_type": "display_data"
    }
   ],
   "source": [
    "names(avian)"
   ]
  },
  {
   "cell_type": "code",
   "execution_count": 277,
   "id": "f27d8e21",
   "metadata": {},
   "outputs": [
    {
     "data": {
      "text/html": [
       "'Site, Observer, Subpoint, VOR, PDB, DBHt, PW, WHt, PE, EHt, PA, AHt, PH, HHt, PL, LHt, PB'"
      ],
      "text/latex": [
       "'Site, Observer, Subpoint, VOR, PDB, DBHt, PW, WHt, PE, EHt, PA, AHt, PH, HHt, PL, LHt, PB'"
      ],
      "text/markdown": [
       "'Site, Observer, Subpoint, VOR, PDB, DBHt, PW, WHt, PE, EHt, PA, AHt, PH, HHt, PL, LHt, PB'"
      ],
      "text/plain": [
       "[1] \"Site, Observer, Subpoint, VOR, PDB, DBHt, PW, WHt, PE, EHt, PA, AHt, PH, HHt, PL, LHt, PB\""
      ]
     },
     "metadata": {},
     "output_type": "display_data"
    }
   ],
   "source": [
    "test <- paste(names(avian), collapse = \", \");test"
   ]
  },
  {
   "cell_type": "code",
   "execution_count": 279,
   "id": "96a493c2",
   "metadata": {},
   "outputs": [
    {
     "data": {
      "text/html": [
       "<ol class=list-inline>\n",
       "\t<li>'PDB'</li>\n",
       "\t<li>'PW'</li>\n",
       "\t<li>'PE'</li>\n",
       "\t<li>'PA'</li>\n",
       "\t<li>'PH'</li>\n",
       "\t<li>'PL'</li>\n",
       "\t<li>'PB'</li>\n",
       "</ol>\n"
      ],
      "text/latex": [
       "\\begin{enumerate*}\n",
       "\\item 'PDB'\n",
       "\\item 'PW'\n",
       "\\item 'PE'\n",
       "\\item 'PA'\n",
       "\\item 'PH'\n",
       "\\item 'PL'\n",
       "\\item 'PB'\n",
       "\\end{enumerate*}\n"
      ],
      "text/markdown": [
       "1. 'PDB'\n",
       "2. 'PW'\n",
       "3. 'PE'\n",
       "4. 'PA'\n",
       "5. 'PH'\n",
       "6. 'PL'\n",
       "7. 'PB'\n",
       "\n",
       "\n"
      ],
      "text/plain": [
       "[1] \"PDB\" \"PW\"  \"PE\"  \"PA\"  \"PH\"  \"PL\"  \"PB\" "
      ]
     },
     "metadata": {},
     "output_type": "display_data"
    }
   ],
   "source": [
    "coverage_variables <- names(avian)[-c(1:4)][c(T, F)];coverage_variables"
   ]
  },
  {
   "cell_type": "code",
   "execution_count": 280,
   "id": "78f72198",
   "metadata": {},
   "outputs": [
    {
     "data": {
      "text/html": [
       "<table>\n",
       "<thead><tr><th scope=col>Site</th><th scope=col>Observer</th><th scope=col>Subpoint</th><th scope=col>VOR</th><th scope=col>PDB</th><th scope=col>DBHt</th><th scope=col>PW</th><th scope=col>WHt</th><th scope=col>PE</th><th scope=col>EHt</th><th scope=col>PA</th><th scope=col>AHt</th><th scope=col>PH</th><th scope=col>HHt</th><th scope=col>PL</th><th scope=col>LHt</th><th scope=col>PB</th><th scope=col>total_coverage</th></tr></thead>\n",
       "<tbody>\n",
       "\t<tr><td>BunkerHill27</td><td>RA          </td><td>1           </td><td>6.0         </td><td>3           </td><td>5.2         </td><td>0           </td><td>0.0         </td><td>4           </td><td>2.9         </td><td>0           </td><td>0           </td><td>4           </td><td>3.0         </td><td>0           </td><td>0           </td><td>0           </td><td>11          </td></tr>\n",
       "\t<tr><td>BunkerHill27</td><td>RA          </td><td>2           </td><td>4.5         </td><td>2           </td><td>3.1         </td><td>3           </td><td>4.7         </td><td>3           </td><td>4.1         </td><td>0           </td><td>0           </td><td>3           </td><td>3.5         </td><td>2           </td><td>1           </td><td>0           </td><td>13          </td></tr>\n",
       "\t<tr><td>BunkerHill27</td><td>RA          </td><td>3           </td><td>2.0         </td><td>4           </td><td>5.5         </td><td>1           </td><td>5.8         </td><td>3           </td><td>3.9         </td><td>0           </td><td>0           </td><td>3           </td><td>7.5         </td><td>0           </td><td>0           </td><td>0           </td><td>11          </td></tr>\n",
       "\t<tr><td>BunkerHill27</td><td>RA          </td><td>4           </td><td>2.5         </td><td>3           </td><td>6.2         </td><td>0           </td><td>0.0         </td><td>3           </td><td>4.0         </td><td>0           </td><td>0           </td><td>4           </td><td>5.0         </td><td>0           </td><td>0           </td><td>0           </td><td>10          </td></tr>\n",
       "\t<tr><td>BunkerHill27</td><td>RA          </td><td>5           </td><td>4.0         </td><td>4           </td><td>5.4         </td><td>0           </td><td>0.0         </td><td>3           </td><td>3.5         </td><td>0           </td><td>0           </td><td>4           </td><td>3.7         </td><td>0           </td><td>0           </td><td>0           </td><td>11          </td></tr>\n",
       "\t<tr><td>BunkerHill27</td><td>JT          </td><td>6           </td><td>2.0         </td><td>3           </td><td>4.0         </td><td>0           </td><td>0.0         </td><td>3           </td><td>4.1         </td><td>0           </td><td>0           </td><td>2           </td><td>3.5         </td><td>0           </td><td>0           </td><td>0           </td><td> 8          </td></tr>\n",
       "</tbody>\n",
       "</table>\n"
      ],
      "text/latex": [
       "\\begin{tabular}{r|llllllllllllllllll}\n",
       " Site & Observer & Subpoint & VOR & PDB & DBHt & PW & WHt & PE & EHt & PA & AHt & PH & HHt & PL & LHt & PB & total\\_coverage\\\\\n",
       "\\hline\n",
       "\t BunkerHill27 & RA           & 1            & 6.0          & 3            & 5.2          & 0            & 0.0          & 4            & 2.9          & 0            & 0            & 4            & 3.0          & 0            & 0            & 0            & 11          \\\\\n",
       "\t BunkerHill27 & RA           & 2            & 4.5          & 2            & 3.1          & 3            & 4.7          & 3            & 4.1          & 0            & 0            & 3            & 3.5          & 2            & 1            & 0            & 13          \\\\\n",
       "\t BunkerHill27 & RA           & 3            & 2.0          & 4            & 5.5          & 1            & 5.8          & 3            & 3.9          & 0            & 0            & 3            & 7.5          & 0            & 0            & 0            & 11          \\\\\n",
       "\t BunkerHill27 & RA           & 4            & 2.5          & 3            & 6.2          & 0            & 0.0          & 3            & 4.0          & 0            & 0            & 4            & 5.0          & 0            & 0            & 0            & 10          \\\\\n",
       "\t BunkerHill27 & RA           & 5            & 4.0          & 4            & 5.4          & 0            & 0.0          & 3            & 3.5          & 0            & 0            & 4            & 3.7          & 0            & 0            & 0            & 11          \\\\\n",
       "\t BunkerHill27 & JT           & 6            & 2.0          & 3            & 4.0          & 0            & 0.0          & 3            & 4.1          & 0            & 0            & 2            & 3.5          & 0            & 0            & 0            &  8          \\\\\n",
       "\\end{tabular}\n"
      ],
      "text/markdown": [
       "\n",
       "| Site | Observer | Subpoint | VOR | PDB | DBHt | PW | WHt | PE | EHt | PA | AHt | PH | HHt | PL | LHt | PB | total_coverage |\n",
       "|---|---|---|---|---|---|---|---|---|---|---|---|---|---|---|---|---|---|\n",
       "| BunkerHill27 | RA           | 1            | 6.0          | 3            | 5.2          | 0            | 0.0          | 4            | 2.9          | 0            | 0            | 4            | 3.0          | 0            | 0            | 0            | 11           |\n",
       "| BunkerHill27 | RA           | 2            | 4.5          | 2            | 3.1          | 3            | 4.7          | 3            | 4.1          | 0            | 0            | 3            | 3.5          | 2            | 1            | 0            | 13           |\n",
       "| BunkerHill27 | RA           | 3            | 2.0          | 4            | 5.5          | 1            | 5.8          | 3            | 3.9          | 0            | 0            | 3            | 7.5          | 0            | 0            | 0            | 11           |\n",
       "| BunkerHill27 | RA           | 4            | 2.5          | 3            | 6.2          | 0            | 0.0          | 3            | 4.0          | 0            | 0            | 4            | 5.0          | 0            | 0            | 0            | 10           |\n",
       "| BunkerHill27 | RA           | 5            | 4.0          | 4            | 5.4          | 0            | 0.0          | 3            | 3.5          | 0            | 0            | 4            | 3.7          | 0            | 0            | 0            | 11           |\n",
       "| BunkerHill27 | JT           | 6            | 2.0          | 3            | 4.0          | 0            | 0.0          | 3            | 4.1          | 0            | 0            | 2            | 3.5          | 0            | 0            | 0            |  8           |\n",
       "\n"
      ],
      "text/plain": [
       "  Site         Observer Subpoint VOR PDB DBHt PW WHt PE EHt PA AHt PH HHt PL\n",
       "1 BunkerHill27 RA       1        6.0 3   5.2  0  0.0 4  2.9 0  0   4  3.0 0 \n",
       "2 BunkerHill27 RA       2        4.5 2   3.1  3  4.7 3  4.1 0  0   3  3.5 2 \n",
       "3 BunkerHill27 RA       3        2.0 4   5.5  1  5.8 3  3.9 0  0   3  7.5 0 \n",
       "4 BunkerHill27 RA       4        2.5 3   6.2  0  0.0 3  4.0 0  0   4  5.0 0 \n",
       "5 BunkerHill27 RA       5        4.0 4   5.4  0  0.0 3  3.5 0  0   4  3.7 0 \n",
       "6 BunkerHill27 JT       6        2.0 3   4.0  0  0.0 3  4.1 0  0   2  3.5 0 \n",
       "  LHt PB total_coverage\n",
       "1 0   0  11            \n",
       "2 1   0  13            \n",
       "3 0   0  11            \n",
       "4 0   0  10            \n",
       "5 0   0  11            \n",
       "6 0   0   8            "
      ]
     },
     "metadata": {},
     "output_type": "display_data"
    }
   ],
   "source": [
    "avian$total_coverage <- rowSums(avian[, coverage_variables]);head(avian)"
   ]
  },
  {
   "cell_type": "code",
   "execution_count": 281,
   "id": "1ae4196c",
   "metadata": {},
   "outputs": [
    {
     "data": {
      "text/plain": [
       "   Min. 1st Qu.  Median    Mean 3rd Qu.    Max. \n",
       "  2.000   8.000  10.000   9.552  11.000  17.000 "
      ]
     },
     "metadata": {},
     "output_type": "display_data"
    }
   ],
   "source": [
    "summary(avian$total_coverage)"
   ]
  },
  {
   "cell_type": "code",
   "execution_count": 446,
   "id": "c9dc30df",
   "metadata": {},
   "outputs": [],
   "source": [
    "avian2 <- read.table(\"avianHabitat2.csv\", skip = 5, header = T, sep = \";\", dec = \".\",\n",
    "          comment.char = c(\"%\"), na.strings = \"Don't remember\", quote = \"\")"
   ]
  },
  {
   "cell_type": "code",
   "execution_count": 451,
   "id": "40f43b74",
   "metadata": {},
   "outputs": [
    {
     "data": {
      "text/html": [
       "<table>\n",
       "<thead><tr><th scope=col>Site</th><th scope=col>Subpoint</th><th scope=col>VOR</th><th scope=col>PDB</th><th scope=col>DBHt</th><th scope=col>PW</th><th scope=col>WHt</th><th scope=col>PE</th><th scope=col>EHt</th><th scope=col>PA</th><th scope=col>AHt</th><th scope=col>PH</th><th scope=col>HHt</th><th scope=col>PL</th><th scope=col>LHt</th><th scope=col>PB</th><th scope=col>Observer</th></tr></thead>\n",
       "<tbody>\n",
       "\t<tr><td>HortonCreek111</td><td> 1            </td><td>3.0           </td><td>0             </td><td>0.0           </td><td>0             </td><td> 0.0          </td><td>4             </td><td>3.5           </td><td>0             </td><td>0             </td><td>3             </td><td>5.0           </td><td>0             </td><td>0.0           </td><td>0             </td><td>KL            </td></tr>\n",
       "\t<tr><td>HortonCreek111</td><td> 2            </td><td>3.0           </td><td>0             </td><td>0.0           </td><td>4             </td><td>18.5          </td><td>0             </td><td>0.0           </td><td>0             </td><td>0             </td><td>4             </td><td>5.7           </td><td>0             </td><td>0.0           </td><td>0             </td><td>KL            </td></tr>\n",
       "\t<tr><td>HortonCreek111</td><td> 3            </td><td>2.0           </td><td>0             </td><td>0.0           </td><td>3             </td><td>11.3          </td><td>2             </td><td>3.0           </td><td>0             </td><td>0             </td><td>4             </td><td>4.9           </td><td>1             </td><td>0.2           </td><td>0             </td><td>KL            </td></tr>\n",
       "\t<tr><td>HortonCreek111</td><td> 4            </td><td>3.5           </td><td>0             </td><td>0.0           </td><td>4             </td><td>15.8          </td><td>0             </td><td>0.0           </td><td>0             </td><td>0             </td><td>3             </td><td>4.2           </td><td>0             </td><td>0.0           </td><td>0             </td><td>KL            </td></tr>\n",
       "\t<tr><td>HortonCreek111</td><td> 5            </td><td>0.0           </td><td>1             </td><td>0.3           </td><td>2             </td><td> 0.5          </td><td>4             </td><td>0.4           </td><td>0             </td><td>0             </td><td>2             </td><td>1.4           </td><td>5             </td><td>0.3           </td><td>0             </td><td>KL            </td></tr>\n",
       "\t<tr><td>HortonCreek111</td><td> 6            </td><td>0.0           </td><td>2             </td><td>0.7           </td><td>3             </td><td> 0.5          </td><td>4             </td><td>0.5           </td><td>0             </td><td>0             </td><td>1             </td><td>1.6           </td><td>3             </td><td>0.5           </td><td>1             </td><td>KL            </td></tr>\n",
       "\t<tr><td>HortonCreek111</td><td> 7            </td><td>0.0           </td><td>2             </td><td>0.3           </td><td>0             </td><td> 0.0          </td><td>5             </td><td>0.4           </td><td>0             </td><td>0             </td><td>2             </td><td>1.8           </td><td>5             </td><td>0.3           </td><td>0             </td><td>KL            </td></tr>\n",
       "\t<tr><td>HortonCreek111</td><td>NA            </td><td>0.0           </td><td>2             </td><td>0.7           </td><td>0             </td><td> 0.0          </td><td>5             </td><td>0.6           </td><td>0             </td><td>0             </td><td>1             </td><td>1.6           </td><td>4             </td><td>0.2           </td><td>1             </td><td>KL            </td></tr>\n",
       "\t<tr><td>HortonCreek111</td><td>NA            </td><td>0.0           </td><td>1             </td><td>0.4           </td><td>2             </td><td> 0.3          </td><td>3             </td><td>0.3           </td><td>0             </td><td>0             </td><td>2             </td><td>1.3           </td><td>5             </td><td>0.4           </td><td>0             </td><td>KL            </td></tr>\n",
       "\t<tr><td>HortonCreek112</td><td> 1            </td><td>0.0           </td><td>1             </td><td>0.8           </td><td>0             </td><td> 0.0          </td><td>3             </td><td>0.3           </td><td>0             </td><td>0             </td><td>1             </td><td>0.9           </td><td>4             </td><td>0.4           </td><td>1             </td><td>KL            </td></tr>\n",
       "\t<tr><td>HortonCreek112</td><td> 2            </td><td>0.0           </td><td>2             </td><td>0.5           </td><td>0             </td><td> 0.0          </td><td>3             </td><td>0.4           </td><td>0             </td><td>0             </td><td>2             </td><td>0.7           </td><td>3             </td><td>0.1           </td><td>1             </td><td>KL            </td></tr>\n",
       "\t<tr><td>HortonCreek112</td><td> 3            </td><td>0.0           </td><td>1             </td><td>0.1           </td><td>0             </td><td> 0.0          </td><td>3             </td><td>0.2           </td><td>0             </td><td>0             </td><td>1             </td><td>0.5           </td><td>4             </td><td>0.1           </td><td>2             </td><td>KL            </td></tr>\n",
       "\t<tr><td>HortonCreek112</td><td> 4            </td><td>0.0           </td><td>2             </td><td>0.3           </td><td>0             </td><td> 0.0          </td><td>3             </td><td>0.2           </td><td>0             </td><td>0             </td><td>1             </td><td>0.5           </td><td>4             </td><td>0.1           </td><td>1             </td><td>KL            </td></tr>\n",
       "\t<tr><td>HortonCreek112</td><td> 5            </td><td>0.0           </td><td>0             </td><td>0.0           </td><td>0             </td><td> 0.0          </td><td>4             </td><td>0.7           </td><td>0             </td><td>0             </td><td>1             </td><td>0.5           </td><td>2             </td><td>0.1           </td><td>2             </td><td>KL            </td></tr>\n",
       "\t<tr><td>HortonCreek112</td><td> 6            </td><td>0.0           </td><td>0             </td><td>0.0           </td><td>0             </td><td> 0.0          </td><td>2             </td><td>0.3           </td><td>0             </td><td>0             </td><td>2             </td><td>0.7           </td><td>3             </td><td>0.3           </td><td>3             </td><td>KL            </td></tr>\n",
       "\t<tr><td>HortonCreek112</td><td> 7            </td><td>0.0           </td><td>0             </td><td>0.0           </td><td>2             </td><td> 0.3          </td><td>3             </td><td>0.3           </td><td>0             </td><td>0             </td><td>2             </td><td>0.8           </td><td>4             </td><td>0.4           </td><td>2             </td><td>KL            </td></tr>\n",
       "\t<tr><td>HortonCreek112</td><td> 8            </td><td>0.0           </td><td>3             </td><td>0.7           </td><td>0             </td><td> 0.0          </td><td>0             </td><td>0.0           </td><td>0             </td><td>0             </td><td>1             </td><td>3.1           </td><td>5             </td><td>0.5           </td><td>0             </td><td>KL            </td></tr>\n",
       "\t<tr><td>HortonCreek112</td><td> 9            </td><td>0.0           </td><td>0             </td><td>0.0           </td><td>0             </td><td> 0.0          </td><td>2             </td><td>0.2           </td><td>0             </td><td>0             </td><td>2             </td><td>0.7           </td><td>1             </td><td>0.3           </td><td>4             </td><td>KL            </td></tr>\n",
       "</tbody>\n",
       "</table>\n"
      ],
      "text/latex": [
       "\\begin{tabular}{r|lllllllllllllllll}\n",
       " Site & Subpoint & VOR & PDB & DBHt & PW & WHt & PE & EHt & PA & AHt & PH & HHt & PL & LHt & PB & Observer\\\\\n",
       "\\hline\n",
       "\t HortonCreek111 &  1             & 3.0            & 0              & 0.0            & 0              &  0.0           & 4              & 3.5            & 0              & 0              & 3              & 5.0            & 0              & 0.0            & 0              & KL            \\\\\n",
       "\t HortonCreek111 &  2             & 3.0            & 0              & 0.0            & 4              & 18.5           & 0              & 0.0            & 0              & 0              & 4              & 5.7            & 0              & 0.0            & 0              & KL            \\\\\n",
       "\t HortonCreek111 &  3             & 2.0            & 0              & 0.0            & 3              & 11.3           & 2              & 3.0            & 0              & 0              & 4              & 4.9            & 1              & 0.2            & 0              & KL            \\\\\n",
       "\t HortonCreek111 &  4             & 3.5            & 0              & 0.0            & 4              & 15.8           & 0              & 0.0            & 0              & 0              & 3              & 4.2            & 0              & 0.0            & 0              & KL            \\\\\n",
       "\t HortonCreek111 &  5             & 0.0            & 1              & 0.3            & 2              &  0.5           & 4              & 0.4            & 0              & 0              & 2              & 1.4            & 5              & 0.3            & 0              & KL            \\\\\n",
       "\t HortonCreek111 &  6             & 0.0            & 2              & 0.7            & 3              &  0.5           & 4              & 0.5            & 0              & 0              & 1              & 1.6            & 3              & 0.5            & 1              & KL            \\\\\n",
       "\t HortonCreek111 &  7             & 0.0            & 2              & 0.3            & 0              &  0.0           & 5              & 0.4            & 0              & 0              & 2              & 1.8            & 5              & 0.3            & 0              & KL            \\\\\n",
       "\t HortonCreek111 & NA             & 0.0            & 2              & 0.7            & 0              &  0.0           & 5              & 0.6            & 0              & 0              & 1              & 1.6            & 4              & 0.2            & 1              & KL            \\\\\n",
       "\t HortonCreek111 & NA             & 0.0            & 1              & 0.4            & 2              &  0.3           & 3              & 0.3            & 0              & 0              & 2              & 1.3            & 5              & 0.4            & 0              & KL            \\\\\n",
       "\t HortonCreek112 &  1             & 0.0            & 1              & 0.8            & 0              &  0.0           & 3              & 0.3            & 0              & 0              & 1              & 0.9            & 4              & 0.4            & 1              & KL            \\\\\n",
       "\t HortonCreek112 &  2             & 0.0            & 2              & 0.5            & 0              &  0.0           & 3              & 0.4            & 0              & 0              & 2              & 0.7            & 3              & 0.1            & 1              & KL            \\\\\n",
       "\t HortonCreek112 &  3             & 0.0            & 1              & 0.1            & 0              &  0.0           & 3              & 0.2            & 0              & 0              & 1              & 0.5            & 4              & 0.1            & 2              & KL            \\\\\n",
       "\t HortonCreek112 &  4             & 0.0            & 2              & 0.3            & 0              &  0.0           & 3              & 0.2            & 0              & 0              & 1              & 0.5            & 4              & 0.1            & 1              & KL            \\\\\n",
       "\t HortonCreek112 &  5             & 0.0            & 0              & 0.0            & 0              &  0.0           & 4              & 0.7            & 0              & 0              & 1              & 0.5            & 2              & 0.1            & 2              & KL            \\\\\n",
       "\t HortonCreek112 &  6             & 0.0            & 0              & 0.0            & 0              &  0.0           & 2              & 0.3            & 0              & 0              & 2              & 0.7            & 3              & 0.3            & 3              & KL            \\\\\n",
       "\t HortonCreek112 &  7             & 0.0            & 0              & 0.0            & 2              &  0.3           & 3              & 0.3            & 0              & 0              & 2              & 0.8            & 4              & 0.4            & 2              & KL            \\\\\n",
       "\t HortonCreek112 &  8             & 0.0            & 3              & 0.7            & 0              &  0.0           & 0              & 0.0            & 0              & 0              & 1              & 3.1            & 5              & 0.5            & 0              & KL            \\\\\n",
       "\t HortonCreek112 &  9             & 0.0            & 0              & 0.0            & 0              &  0.0           & 2              & 0.2            & 0              & 0              & 2              & 0.7            & 1              & 0.3            & 4              & KL            \\\\\n",
       "\\end{tabular}\n"
      ],
      "text/markdown": [
       "\n",
       "| Site | Subpoint | VOR | PDB | DBHt | PW | WHt | PE | EHt | PA | AHt | PH | HHt | PL | LHt | PB | Observer |\n",
       "|---|---|---|---|---|---|---|---|---|---|---|---|---|---|---|---|---|\n",
       "| HortonCreek111 |  1             | 3.0            | 0              | 0.0            | 0              |  0.0           | 4              | 3.5            | 0              | 0              | 3              | 5.0            | 0              | 0.0            | 0              | KL             |\n",
       "| HortonCreek111 |  2             | 3.0            | 0              | 0.0            | 4              | 18.5           | 0              | 0.0            | 0              | 0              | 4              | 5.7            | 0              | 0.0            | 0              | KL             |\n",
       "| HortonCreek111 |  3             | 2.0            | 0              | 0.0            | 3              | 11.3           | 2              | 3.0            | 0              | 0              | 4              | 4.9            | 1              | 0.2            | 0              | KL             |\n",
       "| HortonCreek111 |  4             | 3.5            | 0              | 0.0            | 4              | 15.8           | 0              | 0.0            | 0              | 0              | 3              | 4.2            | 0              | 0.0            | 0              | KL             |\n",
       "| HortonCreek111 |  5             | 0.0            | 1              | 0.3            | 2              |  0.5           | 4              | 0.4            | 0              | 0              | 2              | 1.4            | 5              | 0.3            | 0              | KL             |\n",
       "| HortonCreek111 |  6             | 0.0            | 2              | 0.7            | 3              |  0.5           | 4              | 0.5            | 0              | 0              | 1              | 1.6            | 3              | 0.5            | 1              | KL             |\n",
       "| HortonCreek111 |  7             | 0.0            | 2              | 0.3            | 0              |  0.0           | 5              | 0.4            | 0              | 0              | 2              | 1.8            | 5              | 0.3            | 0              | KL             |\n",
       "| HortonCreek111 | NA             | 0.0            | 2              | 0.7            | 0              |  0.0           | 5              | 0.6            | 0              | 0              | 1              | 1.6            | 4              | 0.2            | 1              | KL             |\n",
       "| HortonCreek111 | NA             | 0.0            | 1              | 0.4            | 2              |  0.3           | 3              | 0.3            | 0              | 0              | 2              | 1.3            | 5              | 0.4            | 0              | KL             |\n",
       "| HortonCreek112 |  1             | 0.0            | 1              | 0.8            | 0              |  0.0           | 3              | 0.3            | 0              | 0              | 1              | 0.9            | 4              | 0.4            | 1              | KL             |\n",
       "| HortonCreek112 |  2             | 0.0            | 2              | 0.5            | 0              |  0.0           | 3              | 0.4            | 0              | 0              | 2              | 0.7            | 3              | 0.1            | 1              | KL             |\n",
       "| HortonCreek112 |  3             | 0.0            | 1              | 0.1            | 0              |  0.0           | 3              | 0.2            | 0              | 0              | 1              | 0.5            | 4              | 0.1            | 2              | KL             |\n",
       "| HortonCreek112 |  4             | 0.0            | 2              | 0.3            | 0              |  0.0           | 3              | 0.2            | 0              | 0              | 1              | 0.5            | 4              | 0.1            | 1              | KL             |\n",
       "| HortonCreek112 |  5             | 0.0            | 0              | 0.0            | 0              |  0.0           | 4              | 0.7            | 0              | 0              | 1              | 0.5            | 2              | 0.1            | 2              | KL             |\n",
       "| HortonCreek112 |  6             | 0.0            | 0              | 0.0            | 0              |  0.0           | 2              | 0.3            | 0              | 0              | 2              | 0.7            | 3              | 0.3            | 3              | KL             |\n",
       "| HortonCreek112 |  7             | 0.0            | 0              | 0.0            | 2              |  0.3           | 3              | 0.3            | 0              | 0              | 2              | 0.8            | 4              | 0.4            | 2              | KL             |\n",
       "| HortonCreek112 |  8             | 0.0            | 3              | 0.7            | 0              |  0.0           | 0              | 0.0            | 0              | 0              | 1              | 3.1            | 5              | 0.5            | 0              | KL             |\n",
       "| HortonCreek112 |  9             | 0.0            | 0              | 0.0            | 0              |  0.0           | 2              | 0.2            | 0              | 0              | 2              | 0.7            | 1              | 0.3            | 4              | KL             |\n",
       "\n"
      ],
      "text/plain": [
       "   Site           Subpoint VOR PDB DBHt PW WHt  PE EHt PA AHt PH HHt PL LHt PB\n",
       "1  HortonCreek111  1       3.0 0   0.0  0   0.0 4  3.5 0  0   3  5.0 0  0.0 0 \n",
       "2  HortonCreek111  2       3.0 0   0.0  4  18.5 0  0.0 0  0   4  5.7 0  0.0 0 \n",
       "3  HortonCreek111  3       2.0 0   0.0  3  11.3 2  3.0 0  0   4  4.9 1  0.2 0 \n",
       "4  HortonCreek111  4       3.5 0   0.0  4  15.8 0  0.0 0  0   3  4.2 0  0.0 0 \n",
       "5  HortonCreek111  5       0.0 1   0.3  2   0.5 4  0.4 0  0   2  1.4 5  0.3 0 \n",
       "6  HortonCreek111  6       0.0 2   0.7  3   0.5 4  0.5 0  0   1  1.6 3  0.5 1 \n",
       "7  HortonCreek111  7       0.0 2   0.3  0   0.0 5  0.4 0  0   2  1.8 5  0.3 0 \n",
       "8  HortonCreek111 NA       0.0 2   0.7  0   0.0 5  0.6 0  0   1  1.6 4  0.2 1 \n",
       "9  HortonCreek111 NA       0.0 1   0.4  2   0.3 3  0.3 0  0   2  1.3 5  0.4 0 \n",
       "10 HortonCreek112  1       0.0 1   0.8  0   0.0 3  0.3 0  0   1  0.9 4  0.4 1 \n",
       "11 HortonCreek112  2       0.0 2   0.5  0   0.0 3  0.4 0  0   2  0.7 3  0.1 1 \n",
       "12 HortonCreek112  3       0.0 1   0.1  0   0.0 3  0.2 0  0   1  0.5 4  0.1 2 \n",
       "13 HortonCreek112  4       0.0 2   0.3  0   0.0 3  0.2 0  0   1  0.5 4  0.1 1 \n",
       "14 HortonCreek112  5       0.0 0   0.0  0   0.0 4  0.7 0  0   1  0.5 2  0.1 2 \n",
       "15 HortonCreek112  6       0.0 0   0.0  0   0.0 2  0.3 0  0   2  0.7 3  0.3 3 \n",
       "16 HortonCreek112  7       0.0 0   0.0  2   0.3 3  0.3 0  0   2  0.8 4  0.4 2 \n",
       "17 HortonCreek112  8       0.0 3   0.7  0   0.0 0  0.0 0  0   1  3.1 5  0.5 0 \n",
       "18 HortonCreek112  9       0.0 0   0.0  0   0.0 2  0.2 0  0   2  0.7 1  0.3 4 \n",
       "   Observer\n",
       "1  KL      \n",
       "2  KL      \n",
       "3  KL      \n",
       "4  KL      \n",
       "5  KL      \n",
       "6  KL      \n",
       "7  KL      \n",
       "8  KL      \n",
       "9  KL      \n",
       "10 KL      \n",
       "11 KL      \n",
       "12 KL      \n",
       "13 KL      \n",
       "14 KL      \n",
       "15 KL      \n",
       "16 KL      \n",
       "17 KL      \n",
       "18 KL      "
      ]
     },
     "metadata": {},
     "output_type": "display_data"
    }
   ],
   "source": [
    "avian2"
   ]
  },
  {
   "cell_type": "code",
   "execution_count": 452,
   "id": "cb008f5b",
   "metadata": {},
   "outputs": [
    {
     "name": "stdout",
     "output_type": "stream",
     "text": [
      "'data.frame':\t18 obs. of  17 variables:\n",
      " $ Site    : Factor w/ 2 levels \"HortonCreek111\",..: 1 1 1 1 1 1 1 1 1 2 ...\n",
      " $ Subpoint: int  1 2 3 4 5 6 7 NA NA 1 ...\n",
      " $ VOR     : num  3 3 2 3.5 0 0 0 0 0 0 ...\n",
      " $ PDB     : int  0 0 0 0 1 2 2 2 1 1 ...\n",
      " $ DBHt    : num  0 0 0 0 0.3 0.7 0.3 0.7 0.4 0.8 ...\n",
      " $ PW      : int  0 4 3 4 2 3 0 0 2 0 ...\n",
      " $ WHt     : num  0 18.5 11.3 15.8 0.5 0.5 0 0 0.3 0 ...\n",
      " $ PE      : int  4 0 2 0 4 4 5 5 3 3 ...\n",
      " $ EHt     : num  3.5 0 3 0 0.4 0.5 0.4 0.6 0.3 0.3 ...\n",
      " $ PA      : int  0 0 0 0 0 0 0 0 0 0 ...\n",
      " $ AHt     : int  0 0 0 0 0 0 0 0 0 0 ...\n",
      " $ PH      : int  3 4 4 3 2 1 2 1 2 1 ...\n",
      " $ HHt     : num  5 5.7 4.9 4.2 1.4 1.6 1.8 1.6 1.3 0.9 ...\n",
      " $ PL      : int  0 0 1 0 5 3 5 4 5 4 ...\n",
      " $ LHt     : num  0 0 0.2 0 0.3 0.5 0.3 0.2 0.4 0.4 ...\n",
      " $ PB      : num  0 0 0 0 0 1 0 1 0 1 ...\n",
      " $ Observer: chr  \"KL\" \"KL\" \"KL\" \"KL\" ...\n"
     ]
    }
   ],
   "source": [
    "str(avian2)"
   ]
  },
  {
   "cell_type": "code",
   "execution_count": 453,
   "id": "85ae3090",
   "metadata": {},
   "outputs": [
    {
     "name": "stdout",
     "output_type": "stream",
     "text": [
      "'data.frame':\t1070 obs. of  18 variables:\n",
      " $ Site          : Factor w/ 101 levels \"BunkerHill11\",..: 14 14 14 14 14 14 14 14 14 14 ...\n",
      " $ Observer      : Factor w/ 3 levels \"JT\",\"RA\",\"RR\": 2 2 2 2 2 1 1 1 1 1 ...\n",
      " $ Subpoint      : int  1 2 3 4 5 6 7 8 9 10 ...\n",
      " $ VOR           : num  6 4.5 2 2.5 4 2 5.5 4 3.5 3.5 ...\n",
      " $ PDB           : int  3 2 4 3 4 3 3 2 2 2 ...\n",
      " $ DBHt          : num  5.2 3.1 5.5 6.2 5.4 4 5.2 4.4 5.7 4.8 ...\n",
      " $ PW            : int  0 3 1 0 0 0 2 1 1 0 ...\n",
      " $ WHt           : num  0 4.7 5.8 0 0 0 6.3 4.1 5.7 0 ...\n",
      " $ PE            : int  4 3 3 3 3 3 2 2 2 1 ...\n",
      " $ EHt           : num  2.9 4.1 3.9 4 3.5 4.1 2.6 4.3 5.2 1.7 ...\n",
      " $ PA            : int  0 0 0 0 0 0 0 0 0 0 ...\n",
      " $ AHt           : num  0 0 0 0 0 0 0 0 0 0 ...\n",
      " $ PH            : int  4 3 3 4 4 2 4 5 4 5 ...\n",
      " $ HHt           : num  3 3.5 7.5 5 3.7 3.5 5.8 8.2 6.9 5.7 ...\n",
      " $ PL            : int  0 2 0 0 0 0 0 0 0 0 ...\n",
      " $ LHt           : num  0 1 0 0 0 0 0 0 0 0 ...\n",
      " $ PB            : int  0 0 0 0 0 0 0 0 0 0 ...\n",
      " $ total_coverage: num  11 13 11 10 11 8 11 10 9 8 ...\n"
     ]
    }
   ],
   "source": [
    "str(avian)"
   ]
  },
  {
   "cell_type": "code",
   "execution_count": 456,
   "id": "314e98fb",
   "metadata": {},
   "outputs": [
    {
     "data": {
      "text/plain": [
       "             Site      Subpoint          VOR              PDB        \n",
       " HortonCreek111:9   Min.   :1.000   Min.   :0.0000   Min.   :0.0000  \n",
       " HortonCreek112:9   1st Qu.:2.750   1st Qu.:0.0000   1st Qu.:0.0000  \n",
       "                    Median :4.500   Median :0.0000   Median :1.0000  \n",
       "                    Mean   :4.562   Mean   :0.6389   Mean   :0.9444  \n",
       "                    3rd Qu.:6.250   3rd Qu.:0.0000   3rd Qu.:2.0000  \n",
       "                    Max.   :9.000   Max.   :3.5000   Max.   :3.0000  \n",
       "                    NA's   :2                                        \n",
       "      DBHt              PW             WHt               PE       \n",
       " Min.   :0.0000   Min.   :0.000   Min.   : 0.000   Min.   :0.000  \n",
       " 1st Qu.:0.0000   1st Qu.:0.000   1st Qu.: 0.000   1st Qu.:2.000  \n",
       " Median :0.2000   Median :0.000   Median : 0.000   Median :3.000  \n",
       " Mean   :0.2667   Mean   :1.111   Mean   : 2.622   Mean   :2.778  \n",
       " 3rd Qu.:0.4750   3rd Qu.:2.000   3rd Qu.: 0.450   3rd Qu.:4.000  \n",
       " Max.   :0.8000   Max.   :4.000   Max.   :18.500   Max.   :5.000  \n",
       "                                                                  \n",
       "      EHt               PA         AHt          PH             HHt       \n",
       " Min.   :0.0000   Min.   :0   Min.   :0   Min.   :1.000   Min.   :0.500  \n",
       " 1st Qu.:0.2000   1st Qu.:0   1st Qu.:0   1st Qu.:1.000   1st Qu.:0.700  \n",
       " Median :0.3000   Median :0   Median :0   Median :2.000   Median :1.350  \n",
       " Mean   :0.6278   Mean   :0   Mean   :0   Mean   :1.944   Mean   :1.994  \n",
       " 3rd Qu.:0.4750   3rd Qu.:0   3rd Qu.:0   3rd Qu.:2.000   3rd Qu.:2.775  \n",
       " Max.   :3.5000   Max.   :0   Max.   :0   Max.   :4.000   Max.   :5.700  \n",
       "                                                                         \n",
       "       PL             LHt               PB       Observer\n",
       " Min.   :0.000   Min.   :0.0000   Min.   :0.00   KL:18   \n",
       " 1st Qu.:1.250   1st Qu.:0.1000   1st Qu.:0.00           \n",
       " Median :3.500   Median :0.2500   Median :1.00           \n",
       " Mean   :2.944   Mean   :0.2333   Mean   :1.00           \n",
       " 3rd Qu.:4.000   3rd Qu.:0.3750   3rd Qu.:1.75           \n",
       " Max.   :5.000   Max.   :0.5000   Max.   :4.00           \n",
       "                                                         "
      ]
     },
     "metadata": {},
     "output_type": "display_data"
    }
   ],
   "source": [
    "summary(avian2)"
   ]
  },
  {
   "cell_type": "code",
   "execution_count": 455,
   "id": "1db62411",
   "metadata": {},
   "outputs": [],
   "source": [
    "avian2$Observer <- as.factor(\"KL\")"
   ]
  },
  {
   "cell_type": "code",
   "execution_count": 459,
   "id": "e0d33294",
   "metadata": {},
   "outputs": [],
   "source": [
    "bind_avian <- rbind(avian, avian2)"
   ]
  },
  {
   "cell_type": "code",
   "execution_count": 460,
   "id": "2348b605",
   "metadata": {},
   "outputs": [
    {
     "data": {
      "text/html": [
       "<table>\n",
       "<thead><tr><th scope=col>Site</th><th scope=col>Observer</th><th scope=col>Subpoint</th><th scope=col>VOR</th><th scope=col>PDB</th><th scope=col>DBHt</th><th scope=col>PW</th><th scope=col>WHt</th><th scope=col>PE</th><th scope=col>EHt</th><th scope=col>PA</th><th scope=col>AHt</th><th scope=col>PH</th><th scope=col>HHt</th><th scope=col>PL</th><th scope=col>LHt</th><th scope=col>PB</th></tr></thead>\n",
       "<tbody>\n",
       "\t<tr><td>BunkerHill27</td><td>RA          </td><td>1           </td><td>6.0         </td><td>3           </td><td>5.2         </td><td>0           </td><td>0.0         </td><td>4           </td><td>2.9         </td><td>0           </td><td>0           </td><td>4           </td><td>3.0         </td><td>0           </td><td>0           </td><td>0           </td></tr>\n",
       "\t<tr><td>BunkerHill27</td><td>RA          </td><td>2           </td><td>4.5         </td><td>2           </td><td>3.1         </td><td>3           </td><td>4.7         </td><td>3           </td><td>4.1         </td><td>0           </td><td>0           </td><td>3           </td><td>3.5         </td><td>2           </td><td>1           </td><td>0           </td></tr>\n",
       "\t<tr><td>BunkerHill27</td><td>RA          </td><td>3           </td><td>2.0         </td><td>4           </td><td>5.5         </td><td>1           </td><td>5.8         </td><td>3           </td><td>3.9         </td><td>0           </td><td>0           </td><td>3           </td><td>7.5         </td><td>0           </td><td>0           </td><td>0           </td></tr>\n",
       "\t<tr><td>BunkerHill27</td><td>RA          </td><td>4           </td><td>2.5         </td><td>3           </td><td>6.2         </td><td>0           </td><td>0.0         </td><td>3           </td><td>4.0         </td><td>0           </td><td>0           </td><td>4           </td><td>5.0         </td><td>0           </td><td>0           </td><td>0           </td></tr>\n",
       "\t<tr><td>BunkerHill27</td><td>RA          </td><td>5           </td><td>4.0         </td><td>4           </td><td>5.4         </td><td>0           </td><td>0.0         </td><td>3           </td><td>3.5         </td><td>0           </td><td>0           </td><td>4           </td><td>3.7         </td><td>0           </td><td>0           </td><td>0           </td></tr>\n",
       "\t<tr><td>BunkerHill27</td><td>JT          </td><td>6           </td><td>2.0         </td><td>3           </td><td>4.0         </td><td>0           </td><td>0.0         </td><td>3           </td><td>4.1         </td><td>0           </td><td>0           </td><td>2           </td><td>3.5         </td><td>0           </td><td>0           </td><td>0           </td></tr>\n",
       "</tbody>\n",
       "</table>\n"
      ],
      "text/latex": [
       "\\begin{tabular}{r|lllllllllllllllll}\n",
       " Site & Observer & Subpoint & VOR & PDB & DBHt & PW & WHt & PE & EHt & PA & AHt & PH & HHt & PL & LHt & PB\\\\\n",
       "\\hline\n",
       "\t BunkerHill27 & RA           & 1            & 6.0          & 3            & 5.2          & 0            & 0.0          & 4            & 2.9          & 0            & 0            & 4            & 3.0          & 0            & 0            & 0           \\\\\n",
       "\t BunkerHill27 & RA           & 2            & 4.5          & 2            & 3.1          & 3            & 4.7          & 3            & 4.1          & 0            & 0            & 3            & 3.5          & 2            & 1            & 0           \\\\\n",
       "\t BunkerHill27 & RA           & 3            & 2.0          & 4            & 5.5          & 1            & 5.8          & 3            & 3.9          & 0            & 0            & 3            & 7.5          & 0            & 0            & 0           \\\\\n",
       "\t BunkerHill27 & RA           & 4            & 2.5          & 3            & 6.2          & 0            & 0.0          & 3            & 4.0          & 0            & 0            & 4            & 5.0          & 0            & 0            & 0           \\\\\n",
       "\t BunkerHill27 & RA           & 5            & 4.0          & 4            & 5.4          & 0            & 0.0          & 3            & 3.5          & 0            & 0            & 4            & 3.7          & 0            & 0            & 0           \\\\\n",
       "\t BunkerHill27 & JT           & 6            & 2.0          & 3            & 4.0          & 0            & 0.0          & 3            & 4.1          & 0            & 0            & 2            & 3.5          & 0            & 0            & 0           \\\\\n",
       "\\end{tabular}\n"
      ],
      "text/markdown": [
       "\n",
       "| Site | Observer | Subpoint | VOR | PDB | DBHt | PW | WHt | PE | EHt | PA | AHt | PH | HHt | PL | LHt | PB |\n",
       "|---|---|---|---|---|---|---|---|---|---|---|---|---|---|---|---|---|\n",
       "| BunkerHill27 | RA           | 1            | 6.0          | 3            | 5.2          | 0            | 0.0          | 4            | 2.9          | 0            | 0            | 4            | 3.0          | 0            | 0            | 0            |\n",
       "| BunkerHill27 | RA           | 2            | 4.5          | 2            | 3.1          | 3            | 4.7          | 3            | 4.1          | 0            | 0            | 3            | 3.5          | 2            | 1            | 0            |\n",
       "| BunkerHill27 | RA           | 3            | 2.0          | 4            | 5.5          | 1            | 5.8          | 3            | 3.9          | 0            | 0            | 3            | 7.5          | 0            | 0            | 0            |\n",
       "| BunkerHill27 | RA           | 4            | 2.5          | 3            | 6.2          | 0            | 0.0          | 3            | 4.0          | 0            | 0            | 4            | 5.0          | 0            | 0            | 0            |\n",
       "| BunkerHill27 | RA           | 5            | 4.0          | 4            | 5.4          | 0            | 0.0          | 3            | 3.5          | 0            | 0            | 4            | 3.7          | 0            | 0            | 0            |\n",
       "| BunkerHill27 | JT           | 6            | 2.0          | 3            | 4.0          | 0            | 0.0          | 3            | 4.1          | 0            | 0            | 2            | 3.5          | 0            | 0            | 0            |\n",
       "\n"
      ],
      "text/plain": [
       "  Site         Observer Subpoint VOR PDB DBHt PW WHt PE EHt PA AHt PH HHt PL\n",
       "1 BunkerHill27 RA       1        6.0 3   5.2  0  0.0 4  2.9 0  0   4  3.0 0 \n",
       "2 BunkerHill27 RA       2        4.5 2   3.1  3  4.7 3  4.1 0  0   3  3.5 2 \n",
       "3 BunkerHill27 RA       3        2.0 4   5.5  1  5.8 3  3.9 0  0   3  7.5 0 \n",
       "4 BunkerHill27 RA       4        2.5 3   6.2  0  0.0 3  4.0 0  0   4  5.0 0 \n",
       "5 BunkerHill27 RA       5        4.0 4   5.4  0  0.0 3  3.5 0  0   4  3.7 0 \n",
       "6 BunkerHill27 JT       6        2.0 3   4.0  0  0.0 3  4.1 0  0   2  3.5 0 \n",
       "  LHt PB\n",
       "1 0   0 \n",
       "2 1   0 \n",
       "3 0   0 \n",
       "4 0   0 \n",
       "5 0   0 \n",
       "6 0   0 "
      ]
     },
     "metadata": {},
     "output_type": "display_data"
    }
   ],
   "source": [
    "head(bind_avian)"
   ]
  },
  {
   "cell_type": "code",
   "execution_count": 461,
   "id": "5f25203d",
   "metadata": {},
   "outputs": [
    {
     "data": {
      "text/html": [
       "<ol class=list-inline>\n",
       "\t<li>1088</li>\n",
       "\t<li>17</li>\n",
       "</ol>\n"
      ],
      "text/latex": [
       "\\begin{enumerate*}\n",
       "\\item 1088\n",
       "\\item 17\n",
       "\\end{enumerate*}\n"
      ],
      "text/markdown": [
       "1. 1088\n",
       "2. 17\n",
       "\n",
       "\n"
      ],
      "text/plain": [
       "[1] 1088   17"
      ]
     },
     "metadata": {},
     "output_type": "display_data"
    }
   ],
   "source": [
    "dim(bind_avian)"
   ]
  },
  {
   "cell_type": "code",
   "execution_count": 462,
   "id": "fd5a74f7",
   "metadata": {},
   "outputs": [
    {
     "data": {
      "text/html": [
       "<table>\n",
       "<thead><tr><th scope=col>Site</th><th scope=col>Observer</th><th scope=col>Subpoint</th><th scope=col>VOR</th><th scope=col>PDB</th><th scope=col>DBHt</th><th scope=col>PW</th><th scope=col>WHt</th><th scope=col>PE</th><th scope=col>EHt</th><th scope=col>PA</th><th scope=col>AHt</th><th scope=col>PH</th><th scope=col>HHt</th><th scope=col>PL</th><th scope=col>LHt</th><th scope=col>PB</th><th scope=col>total_coverage</th></tr></thead>\n",
       "<tbody>\n",
       "\t<tr><td>BunkerHill27</td><td>RA          </td><td>1           </td><td>6.0         </td><td>3           </td><td>5.2         </td><td>0           </td><td>0.0         </td><td>4           </td><td>2.9         </td><td>0           </td><td>0           </td><td>4           </td><td>3.0         </td><td>0           </td><td>0           </td><td>0           </td><td>11          </td></tr>\n",
       "\t<tr><td>BunkerHill27</td><td>RA          </td><td>2           </td><td>4.5         </td><td>2           </td><td>3.1         </td><td>3           </td><td>4.7         </td><td>3           </td><td>4.1         </td><td>0           </td><td>0           </td><td>3           </td><td>3.5         </td><td>2           </td><td>1           </td><td>0           </td><td>13          </td></tr>\n",
       "\t<tr><td>BunkerHill27</td><td>RA          </td><td>3           </td><td>2.0         </td><td>4           </td><td>5.5         </td><td>1           </td><td>5.8         </td><td>3           </td><td>3.9         </td><td>0           </td><td>0           </td><td>3           </td><td>7.5         </td><td>0           </td><td>0           </td><td>0           </td><td>11          </td></tr>\n",
       "\t<tr><td>BunkerHill27</td><td>RA          </td><td>4           </td><td>2.5         </td><td>3           </td><td>6.2         </td><td>0           </td><td>0.0         </td><td>3           </td><td>4.0         </td><td>0           </td><td>0           </td><td>4           </td><td>5.0         </td><td>0           </td><td>0           </td><td>0           </td><td>10          </td></tr>\n",
       "\t<tr><td>BunkerHill27</td><td>RA          </td><td>5           </td><td>4.0         </td><td>4           </td><td>5.4         </td><td>0           </td><td>0.0         </td><td>3           </td><td>3.5         </td><td>0           </td><td>0           </td><td>4           </td><td>3.7         </td><td>0           </td><td>0           </td><td>0           </td><td>11          </td></tr>\n",
       "\t<tr><td>BunkerHill27</td><td>JT          </td><td>6           </td><td>2.0         </td><td>3           </td><td>4.0         </td><td>0           </td><td>0.0         </td><td>3           </td><td>4.1         </td><td>0           </td><td>0           </td><td>2           </td><td>3.5         </td><td>0           </td><td>0           </td><td>0           </td><td> 8          </td></tr>\n",
       "</tbody>\n",
       "</table>\n"
      ],
      "text/latex": [
       "\\begin{tabular}{r|llllllllllllllllll}\n",
       " Site & Observer & Subpoint & VOR & PDB & DBHt & PW & WHt & PE & EHt & PA & AHt & PH & HHt & PL & LHt & PB & total\\_coverage\\\\\n",
       "\\hline\n",
       "\t BunkerHill27 & RA           & 1            & 6.0          & 3            & 5.2          & 0            & 0.0          & 4            & 2.9          & 0            & 0            & 4            & 3.0          & 0            & 0            & 0            & 11          \\\\\n",
       "\t BunkerHill27 & RA           & 2            & 4.5          & 2            & 3.1          & 3            & 4.7          & 3            & 4.1          & 0            & 0            & 3            & 3.5          & 2            & 1            & 0            & 13          \\\\\n",
       "\t BunkerHill27 & RA           & 3            & 2.0          & 4            & 5.5          & 1            & 5.8          & 3            & 3.9          & 0            & 0            & 3            & 7.5          & 0            & 0            & 0            & 11          \\\\\n",
       "\t BunkerHill27 & RA           & 4            & 2.5          & 3            & 6.2          & 0            & 0.0          & 3            & 4.0          & 0            & 0            & 4            & 5.0          & 0            & 0            & 0            & 10          \\\\\n",
       "\t BunkerHill27 & RA           & 5            & 4.0          & 4            & 5.4          & 0            & 0.0          & 3            & 3.5          & 0            & 0            & 4            & 3.7          & 0            & 0            & 0            & 11          \\\\\n",
       "\t BunkerHill27 & JT           & 6            & 2.0          & 3            & 4.0          & 0            & 0.0          & 3            & 4.1          & 0            & 0            & 2            & 3.5          & 0            & 0            & 0            &  8          \\\\\n",
       "\\end{tabular}\n"
      ],
      "text/markdown": [
       "\n",
       "| Site | Observer | Subpoint | VOR | PDB | DBHt | PW | WHt | PE | EHt | PA | AHt | PH | HHt | PL | LHt | PB | total_coverage |\n",
       "|---|---|---|---|---|---|---|---|---|---|---|---|---|---|---|---|---|---|\n",
       "| BunkerHill27 | RA           | 1            | 6.0          | 3            | 5.2          | 0            | 0.0          | 4            | 2.9          | 0            | 0            | 4            | 3.0          | 0            | 0            | 0            | 11           |\n",
       "| BunkerHill27 | RA           | 2            | 4.5          | 2            | 3.1          | 3            | 4.7          | 3            | 4.1          | 0            | 0            | 3            | 3.5          | 2            | 1            | 0            | 13           |\n",
       "| BunkerHill27 | RA           | 3            | 2.0          | 4            | 5.5          | 1            | 5.8          | 3            | 3.9          | 0            | 0            | 3            | 7.5          | 0            | 0            | 0            | 11           |\n",
       "| BunkerHill27 | RA           | 4            | 2.5          | 3            | 6.2          | 0            | 0.0          | 3            | 4.0          | 0            | 0            | 4            | 5.0          | 0            | 0            | 0            | 10           |\n",
       "| BunkerHill27 | RA           | 5            | 4.0          | 4            | 5.4          | 0            | 0.0          | 3            | 3.5          | 0            | 0            | 4            | 3.7          | 0            | 0            | 0            | 11           |\n",
       "| BunkerHill27 | JT           | 6            | 2.0          | 3            | 4.0          | 0            | 0.0          | 3            | 4.1          | 0            | 0            | 2            | 3.5          | 0            | 0            | 0            |  8           |\n",
       "\n"
      ],
      "text/plain": [
       "  Site         Observer Subpoint VOR PDB DBHt PW WHt PE EHt PA AHt PH HHt PL\n",
       "1 BunkerHill27 RA       1        6.0 3   5.2  0  0.0 4  2.9 0  0   4  3.0 0 \n",
       "2 BunkerHill27 RA       2        4.5 2   3.1  3  4.7 3  4.1 0  0   3  3.5 2 \n",
       "3 BunkerHill27 RA       3        2.0 4   5.5  1  5.8 3  3.9 0  0   3  7.5 0 \n",
       "4 BunkerHill27 RA       4        2.5 3   6.2  0  0.0 3  4.0 0  0   4  5.0 0 \n",
       "5 BunkerHill27 RA       5        4.0 4   5.4  0  0.0 3  3.5 0  0   4  3.7 0 \n",
       "6 BunkerHill27 JT       6        2.0 3   4.0  0  0.0 3  4.1 0  0   2  3.5 0 \n",
       "  LHt PB total_coverage\n",
       "1 0   0  11            \n",
       "2 1   0  13            \n",
       "3 0   0  11            \n",
       "4 0   0  10            \n",
       "5 0   0  11            \n",
       "6 0   0   8            "
      ]
     },
     "metadata": {},
     "output_type": "display_data"
    }
   ],
   "source": [
    "bind_avian$total_coverage <- rowSums(bind_avian[, coverage_variables]);head(bind_avian)"
   ]
  },
  {
   "cell_type": "code",
   "execution_count": 464,
   "id": "cdad7ed1",
   "metadata": {},
   "outputs": [
    {
     "data": {
      "text/html": [
       "9.57169117647059"
      ],
      "text/latex": [
       "9.57169117647059"
      ],
      "text/markdown": [
       "9.57169117647059"
      ],
      "text/plain": [
       "[1] 9.571691"
      ]
     },
     "metadata": {},
     "output_type": "display_data"
    }
   ],
   "source": [
    "mean(bind_avian$total_coverage)"
   ]
  },
  {
   "cell_type": "code",
   "execution_count": 465,
   "id": "75891ea2",
   "metadata": {},
   "outputs": [
    {
     "data": {
      "text/html": [
       "<table>\n",
       "<thead><tr><th scope=col>Site</th><th scope=col>Observer</th><th scope=col>Subpoint</th><th scope=col>VOR</th><th scope=col>PDB</th><th scope=col>DBHt</th><th scope=col>PW</th><th scope=col>WHt</th><th scope=col>PE</th><th scope=col>EHt</th><th scope=col>PA</th><th scope=col>AHt</th><th scope=col>PH</th><th scope=col>HHt</th><th scope=col>PL</th><th scope=col>LHt</th><th scope=col>PB</th></tr></thead>\n",
       "<tbody>\n",
       "\t<tr><td>BunkerHill27</td><td>RA          </td><td>1           </td><td>6.0         </td><td>3           </td><td>5.2         </td><td>0           </td><td>0.0         </td><td>4           </td><td>2.9         </td><td>0           </td><td>0           </td><td>4           </td><td>3.0         </td><td>0           </td><td>0           </td><td>0           </td></tr>\n",
       "\t<tr><td>BunkerHill27</td><td>RA          </td><td>2           </td><td>4.5         </td><td>2           </td><td>3.1         </td><td>3           </td><td>4.7         </td><td>3           </td><td>4.1         </td><td>0           </td><td>0           </td><td>3           </td><td>3.5         </td><td>2           </td><td>1           </td><td>0           </td></tr>\n",
       "\t<tr><td>BunkerHill27</td><td>RA          </td><td>3           </td><td>2.0         </td><td>4           </td><td>5.5         </td><td>1           </td><td>5.8         </td><td>3           </td><td>3.9         </td><td>0           </td><td>0           </td><td>3           </td><td>7.5         </td><td>0           </td><td>0           </td><td>0           </td></tr>\n",
       "\t<tr><td>BunkerHill27</td><td>RA          </td><td>4           </td><td>2.5         </td><td>3           </td><td>6.2         </td><td>0           </td><td>0.0         </td><td>3           </td><td>4.0         </td><td>0           </td><td>0           </td><td>4           </td><td>5.0         </td><td>0           </td><td>0           </td><td>0           </td></tr>\n",
       "\t<tr><td>BunkerHill27</td><td>RA          </td><td>5           </td><td>4.0         </td><td>4           </td><td>5.4         </td><td>0           </td><td>0.0         </td><td>3           </td><td>3.5         </td><td>0           </td><td>0           </td><td>4           </td><td>3.7         </td><td>0           </td><td>0           </td><td>0           </td></tr>\n",
       "\t<tr><td>BunkerHill27</td><td>JT          </td><td>6           </td><td>2.0         </td><td>3           </td><td>4.0         </td><td>0           </td><td>0.0         </td><td>3           </td><td>4.1         </td><td>0           </td><td>0           </td><td>2           </td><td>3.5         </td><td>0           </td><td>0           </td><td>0           </td></tr>\n",
       "</tbody>\n",
       "</table>\n"
      ],
      "text/latex": [
       "\\begin{tabular}{r|lllllllllllllllll}\n",
       " Site & Observer & Subpoint & VOR & PDB & DBHt & PW & WHt & PE & EHt & PA & AHt & PH & HHt & PL & LHt & PB\\\\\n",
       "\\hline\n",
       "\t BunkerHill27 & RA           & 1            & 6.0          & 3            & 5.2          & 0            & 0.0          & 4            & 2.9          & 0            & 0            & 4            & 3.0          & 0            & 0            & 0           \\\\\n",
       "\t BunkerHill27 & RA           & 2            & 4.5          & 2            & 3.1          & 3            & 4.7          & 3            & 4.1          & 0            & 0            & 3            & 3.5          & 2            & 1            & 0           \\\\\n",
       "\t BunkerHill27 & RA           & 3            & 2.0          & 4            & 5.5          & 1            & 5.8          & 3            & 3.9          & 0            & 0            & 3            & 7.5          & 0            & 0            & 0           \\\\\n",
       "\t BunkerHill27 & RA           & 4            & 2.5          & 3            & 6.2          & 0            & 0.0          & 3            & 4.0          & 0            & 0            & 4            & 5.0          & 0            & 0            & 0           \\\\\n",
       "\t BunkerHill27 & RA           & 5            & 4.0          & 4            & 5.4          & 0            & 0.0          & 3            & 3.5          & 0            & 0            & 4            & 3.7          & 0            & 0            & 0           \\\\\n",
       "\t BunkerHill27 & JT           & 6            & 2.0          & 3            & 4.0          & 0            & 0.0          & 3            & 4.1          & 0            & 0            & 2            & 3.5          & 0            & 0            & 0           \\\\\n",
       "\\end{tabular}\n"
      ],
      "text/markdown": [
       "\n",
       "| Site | Observer | Subpoint | VOR | PDB | DBHt | PW | WHt | PE | EHt | PA | AHt | PH | HHt | PL | LHt | PB |\n",
       "|---|---|---|---|---|---|---|---|---|---|---|---|---|---|---|---|---|\n",
       "| BunkerHill27 | RA           | 1            | 6.0          | 3            | 5.2          | 0            | 0.0          | 4            | 2.9          | 0            | 0            | 4            | 3.0          | 0            | 0            | 0            |\n",
       "| BunkerHill27 | RA           | 2            | 4.5          | 2            | 3.1          | 3            | 4.7          | 3            | 4.1          | 0            | 0            | 3            | 3.5          | 2            | 1            | 0            |\n",
       "| BunkerHill27 | RA           | 3            | 2.0          | 4            | 5.5          | 1            | 5.8          | 3            | 3.9          | 0            | 0            | 3            | 7.5          | 0            | 0            | 0            |\n",
       "| BunkerHill27 | RA           | 4            | 2.5          | 3            | 6.2          | 0            | 0.0          | 3            | 4.0          | 0            | 0            | 4            | 5.0          | 0            | 0            | 0            |\n",
       "| BunkerHill27 | RA           | 5            | 4.0          | 4            | 5.4          | 0            | 0.0          | 3            | 3.5          | 0            | 0            | 4            | 3.7          | 0            | 0            | 0            |\n",
       "| BunkerHill27 | JT           | 6            | 2.0          | 3            | 4.0          | 0            | 0.0          | 3            | 4.1          | 0            | 0            | 2            | 3.5          | 0            | 0            | 0            |\n",
       "\n"
      ],
      "text/plain": [
       "  Site         Observer Subpoint VOR PDB DBHt PW WHt PE EHt PA AHt PH HHt PL\n",
       "1 BunkerHill27 RA       1        6.0 3   5.2  0  0.0 4  2.9 0  0   4  3.0 0 \n",
       "2 BunkerHill27 RA       2        4.5 2   3.1  3  4.7 3  4.1 0  0   3  3.5 2 \n",
       "3 BunkerHill27 RA       3        2.0 4   5.5  1  5.8 3  3.9 0  0   3  7.5 0 \n",
       "4 BunkerHill27 RA       4        2.5 3   6.2  0  0.0 3  4.0 0  0   4  5.0 0 \n",
       "5 BunkerHill27 RA       5        4.0 4   5.4  0  0.0 3  3.5 0  0   4  3.7 0 \n",
       "6 BunkerHill27 JT       6        2.0 3   4.0  0  0.0 3  4.1 0  0   2  3.5 0 \n",
       "  LHt PB\n",
       "1 0   0 \n",
       "2 1   0 \n",
       "3 0   0 \n",
       "4 0   0 \n",
       "5 0   0 \n",
       "6 0   0 "
      ]
     },
     "metadata": {},
     "output_type": "display_data"
    }
   ],
   "source": [
    "head(avian)"
   ]
  },
  {
   "cell_type": "code",
   "execution_count": 469,
   "id": "8a989681",
   "metadata": {},
   "outputs": [
    {
     "data": {
      "text/html": [
       "<ol class=list-inline>\n",
       "\t<li>'DBHt'</li>\n",
       "\t<li>'WHt'</li>\n",
       "\t<li>'EHt'</li>\n",
       "\t<li>'AHt'</li>\n",
       "\t<li>'HHt'</li>\n",
       "\t<li>'LHt'</li>\n",
       "</ol>\n"
      ],
      "text/latex": [
       "\\begin{enumerate*}\n",
       "\\item 'DBHt'\n",
       "\\item 'WHt'\n",
       "\\item 'EHt'\n",
       "\\item 'AHt'\n",
       "\\item 'HHt'\n",
       "\\item 'LHt'\n",
       "\\end{enumerate*}\n"
      ],
      "text/markdown": [
       "1. 'DBHt'\n",
       "2. 'WHt'\n",
       "3. 'EHt'\n",
       "4. 'AHt'\n",
       "5. 'HHt'\n",
       "6. 'LHt'\n",
       "\n",
       "\n"
      ],
      "text/plain": [
       "[1] \"DBHt\" \"WHt\"  \"EHt\"  \"AHt\"  \"HHt\"  \"LHt\" "
      ]
     },
     "metadata": {},
     "output_type": "display_data"
    }
   ],
   "source": [
    "names(avian)[-c(1:5)][c(T, F)]"
   ]
  },
  {
   "cell_type": "code",
   "execution_count": 471,
   "id": "62b05ff2",
   "metadata": {},
   "outputs": [],
   "source": [
    "max_height <- function(x) {\n",
    "    max(x)\n",
    "}"
   ]
  },
  {
   "cell_type": "code",
   "execution_count": 472,
   "id": "0ed70e41",
   "metadata": {},
   "outputs": [
    {
     "data": {
      "text/html": [
       "31.5"
      ],
      "text/latex": [
       "31.5"
      ],
      "text/markdown": [
       "31.5"
      ],
      "text/plain": [
       "[1] 31.5"
      ]
     },
     "metadata": {},
     "output_type": "display_data"
    }
   ],
   "source": [
    "max_height(avian[names(avian)[-c(1:5)][c(T, F)]])"
   ]
  },
  {
   "cell_type": "code",
   "execution_count": 479,
   "id": "1d9ca2ff",
   "metadata": {},
   "outputs": [
    {
     "data": {
      "text/html": [
       "<ol class=list-inline>\n",
       "\t<li>20</li>\n",
       "\t<li>23</li>\n",
       "\t<li>29</li>\n",
       "\t<li>30</li>\n",
       "\t<li>31</li>\n",
       "\t<li>32</li>\n",
       "</ol>\n"
      ],
      "text/latex": [
       "\\begin{enumerate*}\n",
       "\\item 20\n",
       "\\item 23\n",
       "\\item 29\n",
       "\\item 30\n",
       "\\item 31\n",
       "\\item 32\n",
       "\\end{enumerate*}\n"
      ],
      "text/markdown": [
       "1. 20\n",
       "2. 23\n",
       "3. 29\n",
       "4. 30\n",
       "5. 31\n",
       "6. 32\n",
       "\n",
       "\n"
      ],
      "text/plain": [
       "[1] 20 23 29 30 31 32"
      ]
     },
     "metadata": {},
     "output_type": "display_data"
    }
   ],
   "source": [
    "head(order(avian[names(avian)[-c(1:5)][c(T, F)]], decreasing = F))"
   ]
  },
  {
   "cell_type": "code",
   "execution_count": 528,
   "id": "3ade0a11",
   "metadata": {},
   "outputs": [
    {
     "data": {
      "text/html": [
       "<dl class=dl-horizontal>\n",
       "\t<dt><span style=white-space:pre-wrap>     DBHt</span></dt>\n",
       "\t\t<dd><span style=white-space:pre-wrap>'Max.   :10.0000  '</span></dd>\n",
       "\t<dt><span style=white-space:pre-wrap>     WHt</span></dt>\n",
       "\t\t<dd><span style=white-space:pre-wrap>'Max.   :24.500  '</span></dd>\n",
       "\t<dt><span style=white-space:pre-wrap>     EHt</span></dt>\n",
       "\t\t<dd><span style=white-space:pre-wrap>'Max.   :5.3000  '</span></dd>\n",
       "\t<dt><span style=white-space:pre-wrap>     AHt</span></dt>\n",
       "\t\t<dd><span style=white-space:pre-wrap>'Max.   :31.500  '</span></dd>\n",
       "\t<dt><span style=white-space:pre-wrap>     HHt</span></dt>\n",
       "\t\t<dd><span style=white-space:pre-wrap>'Max.   :8.200  '</span></dd>\n",
       "\t<dt><span style=white-space:pre-wrap>     LHt</span></dt>\n",
       "\t\t<dd><span style=white-space:pre-wrap>'Max.   :1.3000  '</span></dd>\n",
       "</dl>\n"
      ],
      "text/latex": [
       "\\begin{description*}\n",
       "\\item[     DBHt] 'Max.   :10.0000  '\n",
       "\\item[     WHt] 'Max.   :24.500  '\n",
       "\\item[     EHt] 'Max.   :5.3000  '\n",
       "\\item[     AHt] 'Max.   :31.500  '\n",
       "\\item[     HHt] 'Max.   :8.200  '\n",
       "\\item[     LHt] 'Max.   :1.3000  '\n",
       "\\end{description*}\n"
      ],
      "text/markdown": [
       "<span style=white-space:pre-wrap>     DBHt</span>\n",
       ":   <span style=white-space:pre-wrap>'Max.   :10.0000  '</span><span style=white-space:pre-wrap>     WHt</span>\n",
       ":   <span style=white-space:pre-wrap>'Max.   :24.500  '</span><span style=white-space:pre-wrap>     EHt</span>\n",
       ":   <span style=white-space:pre-wrap>'Max.   :5.3000  '</span><span style=white-space:pre-wrap>     AHt</span>\n",
       ":   <span style=white-space:pre-wrap>'Max.   :31.500  '</span><span style=white-space:pre-wrap>     HHt</span>\n",
       ":   <span style=white-space:pre-wrap>'Max.   :8.200  '</span><span style=white-space:pre-wrap>     LHt</span>\n",
       ":   <span style=white-space:pre-wrap>'Max.   :1.3000  '</span>\n",
       "\n"
      ],
      "text/plain": [
       "               DBHt                 WHt                 EHt                 AHt \n",
       "\"Max.   :10.0000  \"  \"Max.   :24.500  \"  \"Max.   :5.3000  \"  \"Max.   :31.500  \" \n",
       "                HHt                 LHt \n",
       "  \"Max.   :8.200  \"  \"Max.   :1.3000  \" "
      ]
     },
     "metadata": {},
     "output_type": "display_data"
    }
   ],
   "source": [
    "summary(avian[names(avian)[-c(1:5)][c(T, F)]])[6,]"
   ]
  },
  {
   "cell_type": "code",
   "execution_count": 526,
   "id": "c261da30",
   "metadata": {},
   "outputs": [
    {
     "data": {
      "text/html": [
       "<dl class=dl-horizontal>\n",
       "\t<dt>AHt</dt>\n",
       "\t\t<dd>31.5</dd>\n",
       "\t<dt>WHt</dt>\n",
       "\t\t<dd>24.5</dd>\n",
       "\t<dt>DBHt</dt>\n",
       "\t\t<dd>10</dd>\n",
       "\t<dt>HHt</dt>\n",
       "\t\t<dd>8.2</dd>\n",
       "\t<dt>EHt</dt>\n",
       "\t\t<dd>5.3</dd>\n",
       "\t<dt>LHt</dt>\n",
       "\t\t<dd>1.3</dd>\n",
       "</dl>\n"
      ],
      "text/latex": [
       "\\begin{description*}\n",
       "\\item[AHt] 31.5\n",
       "\\item[WHt] 24.5\n",
       "\\item[DBHt] 10\n",
       "\\item[HHt] 8.2\n",
       "\\item[EHt] 5.3\n",
       "\\item[LHt] 1.3\n",
       "\\end{description*}\n"
      ],
      "text/markdown": [
       "AHt\n",
       ":   31.5WHt\n",
       ":   24.5DBHt\n",
       ":   10HHt\n",
       ":   8.2EHt\n",
       ":   5.3LHt\n",
       ":   1.3\n",
       "\n"
      ],
      "text/plain": [
       " AHt  WHt DBHt  HHt  EHt  LHt \n",
       "31.5 24.5 10.0  8.2  5.3  1.3 "
      ]
     },
     "metadata": {},
     "output_type": "display_data"
    }
   ],
   "source": [
    "height_variables <- names(avian)[-(1:5)][c(T, F)]\n",
    "sort(sapply(avian[height_variables], max), d = T)"
   ]
  },
  {
   "cell_type": "code",
   "execution_count": 527,
   "id": "1d0e54fd",
   "metadata": {},
   "outputs": [
    {
     "data": {
      "text/html": [
       "<dl class=dl-horizontal>\n",
       "\t<dt>AHt</dt>\n",
       "\t\t<dd>31.5</dd>\n",
       "\t<dt>WHt</dt>\n",
       "\t\t<dd>24.5</dd>\n",
       "\t<dt>DBHt</dt>\n",
       "\t\t<dd>10</dd>\n",
       "\t<dt>HHt</dt>\n",
       "\t\t<dd>8.2</dd>\n",
       "\t<dt>EHt</dt>\n",
       "\t\t<dd>5.3</dd>\n",
       "\t<dt>LHt</dt>\n",
       "\t\t<dd>1.3</dd>\n",
       "</dl>\n"
      ],
      "text/latex": [
       "\\begin{description*}\n",
       "\\item[AHt] 31.5\n",
       "\\item[WHt] 24.5\n",
       "\\item[DBHt] 10\n",
       "\\item[HHt] 8.2\n",
       "\\item[EHt] 5.3\n",
       "\\item[LHt] 1.3\n",
       "\\end{description*}\n"
      ],
      "text/markdown": [
       "AHt\n",
       ":   31.5WHt\n",
       ":   24.5DBHt\n",
       ":   10HHt\n",
       ":   8.2EHt\n",
       ":   5.3LHt\n",
       ":   1.3\n",
       "\n"
      ],
      "text/plain": [
       " AHt  WHt DBHt  HHt  EHt  LHt \n",
       "31.5 24.5 10.0  8.2  5.3  1.3 "
      ]
     },
     "metadata": {},
     "output_type": "display_data"
    }
   ],
   "source": [
    "sort(sapply(avian[names(avian)[-(1:5)][c(T, F)]], max), d = T)"
   ]
  },
  {
   "cell_type": "code",
   "execution_count": 529,
   "id": "d4029235",
   "metadata": {},
   "outputs": [
    {
     "data": {
      "text/html": [
       "<dl class=dl-horizontal>\n",
       "\t<dt><span style=white-space:pre-wrap>     LHt</span></dt>\n",
       "\t\t<dd><span style=white-space:pre-wrap>'Max.   :1.3000  '</span></dd>\n",
       "\t<dt><span style=white-space:pre-wrap>     DBHt</span></dt>\n",
       "\t\t<dd><span style=white-space:pre-wrap>'Max.   :10.0000  '</span></dd>\n",
       "\t<dt><span style=white-space:pre-wrap>     WHt</span></dt>\n",
       "\t\t<dd><span style=white-space:pre-wrap>'Max.   :24.500  '</span></dd>\n",
       "\t<dt><span style=white-space:pre-wrap>     AHt</span></dt>\n",
       "\t\t<dd><span style=white-space:pre-wrap>'Max.   :31.500  '</span></dd>\n",
       "\t<dt><span style=white-space:pre-wrap>     EHt</span></dt>\n",
       "\t\t<dd><span style=white-space:pre-wrap>'Max.   :5.3000  '</span></dd>\n",
       "\t<dt><span style=white-space:pre-wrap>     HHt</span></dt>\n",
       "\t\t<dd><span style=white-space:pre-wrap>'Max.   :8.200  '</span></dd>\n",
       "</dl>\n"
      ],
      "text/latex": [
       "\\begin{description*}\n",
       "\\item[     LHt] 'Max.   :1.3000  '\n",
       "\\item[     DBHt] 'Max.   :10.0000  '\n",
       "\\item[     WHt] 'Max.   :24.500  '\n",
       "\\item[     AHt] 'Max.   :31.500  '\n",
       "\\item[     EHt] 'Max.   :5.3000  '\n",
       "\\item[     HHt] 'Max.   :8.200  '\n",
       "\\end{description*}\n"
      ],
      "text/markdown": [
       "<span style=white-space:pre-wrap>     LHt</span>\n",
       ":   <span style=white-space:pre-wrap>'Max.   :1.3000  '</span><span style=white-space:pre-wrap>     DBHt</span>\n",
       ":   <span style=white-space:pre-wrap>'Max.   :10.0000  '</span><span style=white-space:pre-wrap>     WHt</span>\n",
       ":   <span style=white-space:pre-wrap>'Max.   :24.500  '</span><span style=white-space:pre-wrap>     AHt</span>\n",
       ":   <span style=white-space:pre-wrap>'Max.   :31.500  '</span><span style=white-space:pre-wrap>     EHt</span>\n",
       ":   <span style=white-space:pre-wrap>'Max.   :5.3000  '</span><span style=white-space:pre-wrap>     HHt</span>\n",
       ":   <span style=white-space:pre-wrap>'Max.   :8.200  '</span>\n",
       "\n"
      ],
      "text/plain": [
       "                LHt                DBHt                 WHt                 AHt \n",
       " \"Max.   :1.3000  \" \"Max.   :10.0000  \"  \"Max.   :24.500  \"  \"Max.   :31.500  \" \n",
       "                EHt                 HHt \n",
       " \"Max.   :5.3000  \"   \"Max.   :8.200  \" "
      ]
     },
     "metadata": {},
     "output_type": "display_data"
    }
   ],
   "source": [
    "a5 <- summary(avian[c(\"DBHt\", \"WHt\", \"EHt\", \"AHt\", \"HHt\", \"LHt\")])\n",
    "sort(a5[6, ])"
   ]
  },
  {
   "cell_type": "code",
   "execution_count": 530,
   "id": "5e33e489",
   "metadata": {},
   "outputs": [],
   "source": [
    "# Общий глоссарий для этого урока:\n",
    "\n",
    "# ?data.frame\n",
    "# ?str\n",
    "# ?rownames, ?colnames, ?dimnames, ?nrow, ?ncol, ?dim\n",
    "# ?subset, ?rbind, ?cbind, ?merge\n",
    "# ?read.table (?read.csv, ?read.delim)\n",
    "# ?write.table (?write.csv, ?write.delim)\n",
    "# ?complete.cases, ?na.omit\n",
    "# ?write.table (?write.csv)"
   ]
  }
 ],
 "metadata": {
  "kernelspec": {
   "display_name": "R",
   "language": "R",
   "name": "ir"
  },
  "language_info": {
   "codemirror_mode": "r",
   "file_extension": ".r",
   "mimetype": "text/x-r-source",
   "name": "R",
   "pygments_lexer": "r",
   "version": "3.6.1"
  }
 },
 "nbformat": 4,
 "nbformat_minor": 5
}
