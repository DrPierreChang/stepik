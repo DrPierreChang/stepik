{
 "cells": [
  {
   "cell_type": "code",
   "execution_count": 1,
   "id": "68ead6ef",
   "metadata": {},
   "outputs": [],
   "source": [
    "# переписывание (recycling)\n",
    "x1 <- c(1, 1, 1, 1)\n",
    "x2 <- c(2, 2)"
   ]
  },
  {
   "cell_type": "code",
   "execution_count": 2,
   "id": "c1a07b7e",
   "metadata": {},
   "outputs": [
    {
     "data": {
      "text/html": [
       "<ol class=list-inline>\n",
       "\t<li>3</li>\n",
       "\t<li>3</li>\n",
       "\t<li>3</li>\n",
       "\t<li>3</li>\n",
       "</ol>\n"
      ],
      "text/latex": [
       "\\begin{enumerate*}\n",
       "\\item 3\n",
       "\\item 3\n",
       "\\item 3\n",
       "\\item 3\n",
       "\\end{enumerate*}\n"
      ],
      "text/markdown": [
       "1. 3\n",
       "2. 3\n",
       "3. 3\n",
       "4. 3\n",
       "\n",
       "\n"
      ],
      "text/plain": [
       "[1] 3 3 3 3"
      ]
     },
     "metadata": {},
     "output_type": "display_data"
    }
   ],
   "source": [
    "x1 + x2"
   ]
  },
  {
   "cell_type": "code",
   "execution_count": 5,
   "id": "bbeea7b7",
   "metadata": {},
   "outputs": [],
   "source": [
    "# если длина большего вектора не делится на длину меньшего нацело, то выдается ошибка\n",
    "x1 <- c(1, 1, 1, 1)\n",
    "x2 <- c(1, 1, 1)"
   ]
  },
  {
   "cell_type": "code",
   "execution_count": 6,
   "id": "633dbe5f",
   "metadata": {},
   "outputs": [
    {
     "name": "stderr",
     "output_type": "stream",
     "text": [
      "Warning message in x1 + x2:\n",
      "“длина большего объекта не является произведением длины меньшего объекта”"
     ]
    },
    {
     "data": {
      "text/html": [
       "<ol class=list-inline>\n",
       "\t<li>2</li>\n",
       "\t<li>2</li>\n",
       "\t<li>2</li>\n",
       "\t<li>2</li>\n",
       "</ol>\n"
      ],
      "text/latex": [
       "\\begin{enumerate*}\n",
       "\\item 2\n",
       "\\item 2\n",
       "\\item 2\n",
       "\\item 2\n",
       "\\end{enumerate*}\n"
      ],
      "text/markdown": [
       "1. 2\n",
       "2. 2\n",
       "3. 2\n",
       "4. 2\n",
       "\n",
       "\n"
      ],
      "text/plain": [
       "[1] 2 2 2 2"
      ]
     },
     "metadata": {},
     "output_type": "display_data"
    }
   ],
   "source": [
    "x1 + x2"
   ]
  },
  {
   "cell_type": "code",
   "execution_count": 7,
   "id": "1d0fe8a4",
   "metadata": {},
   "outputs": [
    {
     "name": "stderr",
     "output_type": "stream",
     "text": [
      "Warning message in 1:5 + 0:1:\n",
      "“длина большего объекта не является произведением длины меньшего объекта”"
     ]
    },
    {
     "data": {
      "text/html": [
       "<ol class=list-inline>\n",
       "\t<li>1</li>\n",
       "\t<li>3</li>\n",
       "\t<li>3</li>\n",
       "\t<li>5</li>\n",
       "\t<li>5</li>\n",
       "</ol>\n"
      ],
      "text/latex": [
       "\\begin{enumerate*}\n",
       "\\item 1\n",
       "\\item 3\n",
       "\\item 3\n",
       "\\item 5\n",
       "\\item 5\n",
       "\\end{enumerate*}\n"
      ],
      "text/markdown": [
       "1. 1\n",
       "2. 3\n",
       "3. 3\n",
       "4. 5\n",
       "5. 5\n",
       "\n",
       "\n"
      ],
      "text/plain": [
       "[1] 1 3 3 5 5"
      ]
     },
     "metadata": {},
     "output_type": "display_data"
    }
   ],
   "source": [
    "1:5 + 0:1 "
   ]
  },
  {
   "cell_type": "code",
   "execution_count": 8,
   "id": "9e505f3a",
   "metadata": {},
   "outputs": [
    {
     "data": {
      "text/html": [
       "<ol class=list-inline>\n",
       "\t<li>3</li>\n",
       "\t<li>4</li>\n",
       "\t<li>5</li>\n",
       "\t<li>6</li>\n",
       "\t<li>7</li>\n",
       "\t<li>8</li>\n",
       "\t<li>9</li>\n",
       "\t<li>10</li>\n",
       "\t<li>11</li>\n",
       "\t<li>12</li>\n",
       "</ol>\n"
      ],
      "text/latex": [
       "\\begin{enumerate*}\n",
       "\\item 3\n",
       "\\item 4\n",
       "\\item 5\n",
       "\\item 6\n",
       "\\item 7\n",
       "\\item 8\n",
       "\\item 9\n",
       "\\item 10\n",
       "\\item 11\n",
       "\\item 12\n",
       "\\end{enumerate*}\n"
      ],
      "text/markdown": [
       "1. 3\n",
       "2. 4\n",
       "3. 5\n",
       "4. 6\n",
       "5. 7\n",
       "6. 8\n",
       "7. 9\n",
       "8. 10\n",
       "9. 11\n",
       "10. 12\n",
       "\n",
       "\n"
      ],
      "text/plain": [
       " [1]  3  4  5  6  7  8  9 10 11 12"
      ]
     },
     "metadata": {},
     "output_type": "display_data"
    }
   ],
   "source": [
    "# это нужно для складывание вектора со скаляром(в р это вектор длины 1)\n",
    "1:10 + 2"
   ]
  },
  {
   "cell_type": "code",
   "execution_count": 9,
   "id": "82edd3db",
   "metadata": {},
   "outputs": [
    {
     "data": {
      "text/html": [
       "<ol class=list-inline>\n",
       "\t<li>25</li>\n",
       "\t<li>36</li>\n",
       "\t<li>49</li>\n",
       "\t<li>64</li>\n",
       "</ol>\n"
      ],
      "text/latex": [
       "\\begin{enumerate*}\n",
       "\\item 25\n",
       "\\item 36\n",
       "\\item 49\n",
       "\\item 64\n",
       "\\end{enumerate*}\n"
      ],
      "text/markdown": [
       "1. 25\n",
       "2. 36\n",
       "3. 49\n",
       "4. 64\n",
       "\n",
       "\n"
      ],
      "text/plain": [
       "[1] 25 36 49 64"
      ]
     },
     "metadata": {},
     "output_type": "display_data"
    }
   ],
   "source": [
    "(5:8) ^ 2"
   ]
  },
  {
   "cell_type": "code",
   "execution_count": 10,
   "id": "18962666",
   "metadata": {},
   "outputs": [],
   "source": [
    "x1 <- c(1:10)"
   ]
  },
  {
   "cell_type": "code",
   "execution_count": 12,
   "id": "706246cd",
   "metadata": {},
   "outputs": [
    {
     "data": {
      "text/html": [
       "<ol class=list-inline>\n",
       "\t<li>5</li>\n",
       "\t<li>6</li>\n",
       "\t<li>7</li>\n",
       "\t<li>8</li>\n",
       "\t<li>9</li>\n",
       "\t<li>10</li>\n",
       "\t<li>11</li>\n",
       "</ol>\n"
      ],
      "text/latex": [
       "\\begin{enumerate*}\n",
       "\\item 5\n",
       "\\item 6\n",
       "\\item 7\n",
       "\\item 8\n",
       "\\item 9\n",
       "\\item 10\n",
       "\\item 11\n",
       "\\end{enumerate*}\n"
      ],
      "text/markdown": [
       "1. 5\n",
       "2. 6\n",
       "3. 7\n",
       "4. 8\n",
       "5. 9\n",
       "6. 10\n",
       "7. 11\n",
       "\n",
       "\n"
      ],
      "text/plain": [
       "[1]  5  6  7  8  9 10 11"
      ]
     },
     "metadata": {},
     "output_type": "display_data"
    }
   ],
   "source": [
    "x1[x1 >= 4] + 1"
   ]
  },
  {
   "cell_type": "code",
   "execution_count": 14,
   "id": "5150772e",
   "metadata": {},
   "outputs": [
    {
     "data": {
      "text/html": [
       "<ol class=list-inline>\n",
       "\t<li>FALSE</li>\n",
       "\t<li>FALSE</li>\n",
       "\t<li>TRUE</li>\n",
       "\t<li>TRUE</li>\n",
       "</ol>\n"
      ],
      "text/latex": [
       "\\begin{enumerate*}\n",
       "\\item FALSE\n",
       "\\item FALSE\n",
       "\\item TRUE\n",
       "\\item TRUE\n",
       "\\end{enumerate*}\n"
      ],
      "text/markdown": [
       "1. FALSE\n",
       "2. FALSE\n",
       "3. TRUE\n",
       "4. TRUE\n",
       "\n",
       "\n"
      ],
      "text/plain": [
       "[1] FALSE FALSE  TRUE  TRUE"
      ]
     },
     "metadata": {},
     "output_type": "display_data"
    }
   ],
   "source": [
    "1:4 >= 3"
   ]
  },
  {
   "cell_type": "code",
   "execution_count": 15,
   "id": "02b1574e",
   "metadata": {},
   "outputs": [],
   "source": [
    "# доступ к элементам вектора"
   ]
  },
  {
   "cell_type": "code",
   "execution_count": 32,
   "id": "3f45d9f6",
   "metadata": {},
   "outputs": [],
   "source": [
    "x <- seq(10, 100, by = 10)"
   ]
  },
  {
   "cell_type": "code",
   "execution_count": 33,
   "id": "e7d9795b",
   "metadata": {},
   "outputs": [
    {
     "data": {
      "text/html": [
       "<ol class=list-inline>\n",
       "\t<li>10</li>\n",
       "\t<li>20</li>\n",
       "\t<li>30</li>\n",
       "\t<li>40</li>\n",
       "\t<li>50</li>\n",
       "\t<li>60</li>\n",
       "\t<li>70</li>\n",
       "\t<li>80</li>\n",
       "\t<li>90</li>\n",
       "\t<li>100</li>\n",
       "</ol>\n"
      ],
      "text/latex": [
       "\\begin{enumerate*}\n",
       "\\item 10\n",
       "\\item 20\n",
       "\\item 30\n",
       "\\item 40\n",
       "\\item 50\n",
       "\\item 60\n",
       "\\item 70\n",
       "\\item 80\n",
       "\\item 90\n",
       "\\item 100\n",
       "\\end{enumerate*}\n"
      ],
      "text/markdown": [
       "1. 10\n",
       "2. 20\n",
       "3. 30\n",
       "4. 40\n",
       "5. 50\n",
       "6. 60\n",
       "7. 70\n",
       "8. 80\n",
       "9. 90\n",
       "10. 100\n",
       "\n",
       "\n"
      ],
      "text/plain": [
       " [1]  10  20  30  40  50  60  70  80  90 100"
      ]
     },
     "metadata": {},
     "output_type": "display_data"
    }
   ],
   "source": [
    "x"
   ]
  },
  {
   "cell_type": "code",
   "execution_count": 34,
   "id": "3f4d7c80",
   "metadata": {},
   "outputs": [
    {
     "data": {
      "text/html": [
       "100"
      ],
      "text/latex": [
       "100"
      ],
      "text/markdown": [
       "100"
      ],
      "text/plain": [
       "[1] 100"
      ]
     },
     "metadata": {},
     "output_type": "display_data"
    }
   ],
   "source": [
    "x[10]"
   ]
  },
  {
   "cell_type": "code",
   "execution_count": 35,
   "id": "da497060",
   "metadata": {},
   "outputs": [],
   "source": [
    "v <- x[10]"
   ]
  },
  {
   "cell_type": "code",
   "execution_count": 36,
   "id": "1d9e4429",
   "metadata": {},
   "outputs": [
    {
     "data": {
      "text/html": [
       "100"
      ],
      "text/latex": [
       "100"
      ],
      "text/markdown": [
       "100"
      ],
      "text/plain": [
       "[1] 100"
      ]
     },
     "metadata": {},
     "output_type": "display_data"
    }
   ],
   "source": [
    "v"
   ]
  },
  {
   "cell_type": "code",
   "execution_count": 37,
   "id": "0e61d8f9",
   "metadata": {},
   "outputs": [],
   "source": [
    "x[10] <- 200"
   ]
  },
  {
   "cell_type": "code",
   "execution_count": 38,
   "id": "34dfcb7c",
   "metadata": {},
   "outputs": [
    {
     "data": {
      "text/html": [
       "<ol class=list-inline>\n",
       "\t<li>10</li>\n",
       "\t<li>20</li>\n",
       "\t<li>30</li>\n",
       "\t<li>40</li>\n",
       "\t<li>50</li>\n",
       "\t<li>60</li>\n",
       "\t<li>70</li>\n",
       "\t<li>80</li>\n",
       "\t<li>90</li>\n",
       "\t<li>200</li>\n",
       "</ol>\n"
      ],
      "text/latex": [
       "\\begin{enumerate*}\n",
       "\\item 10\n",
       "\\item 20\n",
       "\\item 30\n",
       "\\item 40\n",
       "\\item 50\n",
       "\\item 60\n",
       "\\item 70\n",
       "\\item 80\n",
       "\\item 90\n",
       "\\item 200\n",
       "\\end{enumerate*}\n"
      ],
      "text/markdown": [
       "1. 10\n",
       "2. 20\n",
       "3. 30\n",
       "4. 40\n",
       "5. 50\n",
       "6. 60\n",
       "7. 70\n",
       "8. 80\n",
       "9. 90\n",
       "10. 200\n",
       "\n",
       "\n"
      ],
      "text/plain": [
       " [1]  10  20  30  40  50  60  70  80  90 200"
      ]
     },
     "metadata": {},
     "output_type": "display_data"
    }
   ],
   "source": [
    "x"
   ]
  },
  {
   "cell_type": "code",
   "execution_count": 39,
   "id": "af8353bb",
   "metadata": {},
   "outputs": [
    {
     "data": {
      "text/html": [
       "<ol class=list-inline>\n",
       "\t<li>30</li>\n",
       "\t<li>40</li>\n",
       "</ol>\n"
      ],
      "text/latex": [
       "\\begin{enumerate*}\n",
       "\\item 30\n",
       "\\item 40\n",
       "\\end{enumerate*}\n"
      ],
      "text/markdown": [
       "1. 30\n",
       "2. 40\n",
       "\n",
       "\n"
      ],
      "text/plain": [
       "[1] 30 40"
      ]
     },
     "metadata": {},
     "output_type": "display_data"
    }
   ],
   "source": [
    "x[3:4]"
   ]
  },
  {
   "cell_type": "code",
   "execution_count": 47,
   "id": "0c905cc2",
   "metadata": {},
   "outputs": [
    {
     "data": {
      "text/html": [
       "<ol class=list-inline>\n",
       "\t<li>60</li>\n",
       "\t<li>70</li>\n",
       "\t<li>80</li>\n",
       "\t<li>20</li>\n",
       "\t<li>30</li>\n",
       "\t<li>200</li>\n",
       "</ol>\n"
      ],
      "text/latex": [
       "\\begin{enumerate*}\n",
       "\\item 60\n",
       "\\item 70\n",
       "\\item 80\n",
       "\\item 20\n",
       "\\item 30\n",
       "\\item 200\n",
       "\\end{enumerate*}\n"
      ],
      "text/markdown": [
       "1. 60\n",
       "2. 70\n",
       "3. 80\n",
       "4. 20\n",
       "5. 30\n",
       "6. 200\n",
       "\n",
       "\n"
      ],
      "text/plain": [
       "[1]  60  70  80  20  30 200"
      ]
     },
     "metadata": {},
     "output_type": "display_data"
    }
   ],
   "source": [
    "x[c(6, 7, 8, 2:3, x[1])]"
   ]
  },
  {
   "cell_type": "code",
   "execution_count": 42,
   "id": "13ced539",
   "metadata": {},
   "outputs": [
    {
     "data": {
      "text/html": [
       "10"
      ],
      "text/latex": [
       "10"
      ],
      "text/markdown": [
       "10"
      ],
      "text/plain": [
       "[1] 10"
      ]
     },
     "metadata": {},
     "output_type": "display_data"
    }
   ],
   "source": [
    "x[1]"
   ]
  },
  {
   "cell_type": "code",
   "execution_count": 49,
   "id": "c662f41a",
   "metadata": {},
   "outputs": [],
   "source": [
    "# отрицательные индексы\n",
    "# возвращаются все элементы без указанного"
   ]
  },
  {
   "cell_type": "code",
   "execution_count": 52,
   "id": "65c7db67",
   "metadata": {},
   "outputs": [
    {
     "data": {
      "text/html": [
       "10"
      ],
      "text/latex": [
       "10"
      ],
      "text/markdown": [
       "10"
      ],
      "text/plain": [
       "[1] 10"
      ]
     },
     "metadata": {},
     "output_type": "display_data"
    }
   ],
   "source": [
    "x[1]"
   ]
  },
  {
   "cell_type": "code",
   "execution_count": 51,
   "id": "32ae65a5",
   "metadata": {},
   "outputs": [
    {
     "data": {
      "text/html": [
       "<ol class=list-inline>\n",
       "\t<li>20</li>\n",
       "\t<li>30</li>\n",
       "\t<li>40</li>\n",
       "\t<li>50</li>\n",
       "\t<li>60</li>\n",
       "\t<li>70</li>\n",
       "\t<li>80</li>\n",
       "\t<li>90</li>\n",
       "\t<li>200</li>\n",
       "</ol>\n"
      ],
      "text/latex": [
       "\\begin{enumerate*}\n",
       "\\item 20\n",
       "\\item 30\n",
       "\\item 40\n",
       "\\item 50\n",
       "\\item 60\n",
       "\\item 70\n",
       "\\item 80\n",
       "\\item 90\n",
       "\\item 200\n",
       "\\end{enumerate*}\n"
      ],
      "text/markdown": [
       "1. 20\n",
       "2. 30\n",
       "3. 40\n",
       "4. 50\n",
       "5. 60\n",
       "6. 70\n",
       "7. 80\n",
       "8. 90\n",
       "9. 200\n",
       "\n",
       "\n"
      ],
      "text/plain": [
       "[1]  20  30  40  50  60  70  80  90 200"
      ]
     },
     "metadata": {},
     "output_type": "display_data"
    }
   ],
   "source": [
    "x[-1]"
   ]
  },
  {
   "cell_type": "code",
   "execution_count": 60,
   "id": "1fd9fc34",
   "metadata": {},
   "outputs": [
    {
     "data": {
      "text/html": [
       "<ol class=list-inline>\n",
       "\t<li>50</li>\n",
       "\t<li>60</li>\n",
       "\t<li>70</li>\n",
       "\t<li>80</li>\n",
       "\t<li>90</li>\n",
       "\t<li>200</li>\n",
       "</ol>\n"
      ],
      "text/latex": [
       "\\begin{enumerate*}\n",
       "\\item 50\n",
       "\\item 60\n",
       "\\item 70\n",
       "\\item 80\n",
       "\\item 90\n",
       "\\item 200\n",
       "\\end{enumerate*}\n"
      ],
      "text/markdown": [
       "1. 50\n",
       "2. 60\n",
       "3. 70\n",
       "4. 80\n",
       "5. 90\n",
       "6. 200\n",
       "\n",
       "\n"
      ],
      "text/plain": [
       "[1]  50  60  70  80  90 200"
      ]
     },
     "metadata": {},
     "output_type": "display_data"
    }
   ],
   "source": [
    "x[-(1:4)]"
   ]
  },
  {
   "cell_type": "code",
   "execution_count": 62,
   "id": "3a5f68ae",
   "metadata": {},
   "outputs": [
    {
     "data": {
      "text/html": [
       "<ol class=list-inline>\n",
       "\t<li>10</li>\n",
       "\t<li>20</li>\n",
       "\t<li>30</li>\n",
       "\t<li>40</li>\n",
       "\t<li>50</li>\n",
       "\t<li>60</li>\n",
       "\t<li>70</li>\n",
       "\t<li>80</li>\n",
       "\t<li>90</li>\n",
       "</ol>\n"
      ],
      "text/latex": [
       "\\begin{enumerate*}\n",
       "\\item 10\n",
       "\\item 20\n",
       "\\item 30\n",
       "\\item 40\n",
       "\\item 50\n",
       "\\item 60\n",
       "\\item 70\n",
       "\\item 80\n",
       "\\item 90\n",
       "\\end{enumerate*}\n"
      ],
      "text/markdown": [
       "1. 10\n",
       "2. 20\n",
       "3. 30\n",
       "4. 40\n",
       "5. 50\n",
       "6. 60\n",
       "7. 70\n",
       "8. 80\n",
       "9. 90\n",
       "\n",
       "\n"
      ],
      "text/plain": [
       "[1] 10 20 30 40 50 60 70 80 90"
      ]
     },
     "metadata": {},
     "output_type": "display_data"
    }
   ],
   "source": [
    "# все элементы вектора кроме последнего\n",
    "x[-length(x)]"
   ]
  },
  {
   "cell_type": "code",
   "execution_count": 64,
   "id": "ea354747",
   "metadata": {},
   "outputs": [
    {
     "data": {
      "text/html": [
       "<ol class=list-inline>\n",
       "\t<li>50</li>\n",
       "\t<li>60</li>\n",
       "\t<li>70</li>\n",
       "\t<li>80</li>\n",
       "\t<li>90</li>\n",
       "</ol>\n"
      ],
      "text/latex": [
       "\\begin{enumerate*}\n",
       "\\item 50\n",
       "\\item 60\n",
       "\\item 70\n",
       "\\item 80\n",
       "\\item 90\n",
       "\\end{enumerate*}\n"
      ],
      "text/markdown": [
       "1. 50\n",
       "2. 60\n",
       "3. 70\n",
       "4. 80\n",
       "5. 90\n",
       "\n",
       "\n"
      ],
      "text/plain": [
       "[1] 50 60 70 80 90"
      ]
     },
     "metadata": {},
     "output_type": "display_data"
    }
   ],
   "source": [
    "x[c(-(1:4), -length(x))]"
   ]
  },
  {
   "cell_type": "code",
   "execution_count": 65,
   "id": "203c6939",
   "metadata": {},
   "outputs": [
    {
     "data": {
      "text/html": [
       "<ol class=list-inline>\n",
       "\t<li>10</li>\n",
       "\t<li>30</li>\n",
       "\t<li>50</li>\n",
       "\t<li>70</li>\n",
       "\t<li>90</li>\n",
       "</ol>\n"
      ],
      "text/latex": [
       "\\begin{enumerate*}\n",
       "\\item 10\n",
       "\\item 30\n",
       "\\item 50\n",
       "\\item 70\n",
       "\\item 90\n",
       "\\end{enumerate*}\n"
      ],
      "text/markdown": [
       "1. 10\n",
       "2. 30\n",
       "3. 50\n",
       "4. 70\n",
       "5. 90\n",
       "\n",
       "\n"
      ],
      "text/plain": [
       "[1] 10 30 50 70 90"
      ]
     },
     "metadata": {},
     "output_type": "display_data"
    }
   ],
   "source": [
    "x[rep(c(T, F), 5)]"
   ]
  },
  {
   "cell_type": "code",
   "execution_count": 66,
   "id": "e158ee59",
   "metadata": {},
   "outputs": [
    {
     "data": {
      "text/html": [
       "<ol class=list-inline>\n",
       "\t<li>TRUE</li>\n",
       "\t<li>FALSE</li>\n",
       "\t<li>TRUE</li>\n",
       "\t<li>FALSE</li>\n",
       "\t<li>TRUE</li>\n",
       "\t<li>FALSE</li>\n",
       "\t<li>TRUE</li>\n",
       "\t<li>FALSE</li>\n",
       "\t<li>TRUE</li>\n",
       "\t<li>FALSE</li>\n",
       "</ol>\n"
      ],
      "text/latex": [
       "\\begin{enumerate*}\n",
       "\\item TRUE\n",
       "\\item FALSE\n",
       "\\item TRUE\n",
       "\\item FALSE\n",
       "\\item TRUE\n",
       "\\item FALSE\n",
       "\\item TRUE\n",
       "\\item FALSE\n",
       "\\item TRUE\n",
       "\\item FALSE\n",
       "\\end{enumerate*}\n"
      ],
      "text/markdown": [
       "1. TRUE\n",
       "2. FALSE\n",
       "3. TRUE\n",
       "4. FALSE\n",
       "5. TRUE\n",
       "6. FALSE\n",
       "7. TRUE\n",
       "8. FALSE\n",
       "9. TRUE\n",
       "10. FALSE\n",
       "\n",
       "\n"
      ],
      "text/plain": [
       " [1]  TRUE FALSE  TRUE FALSE  TRUE FALSE  TRUE FALSE  TRUE FALSE"
      ]
     },
     "metadata": {},
     "output_type": "display_data"
    }
   ],
   "source": [
    "rep(c(T, F), 5)"
   ]
  },
  {
   "cell_type": "code",
   "execution_count": 67,
   "id": "0e3a3fcf",
   "metadata": {},
   "outputs": [
    {
     "data": {
      "text/html": [
       "<ol class=list-inline>\n",
       "\t<li>10</li>\n",
       "\t<li>30</li>\n",
       "\t<li>50</li>\n",
       "\t<li>70</li>\n",
       "\t<li>90</li>\n",
       "</ol>\n"
      ],
      "text/latex": [
       "\\begin{enumerate*}\n",
       "\\item 10\n",
       "\\item 30\n",
       "\\item 50\n",
       "\\item 70\n",
       "\\item 90\n",
       "\\end{enumerate*}\n"
      ],
      "text/markdown": [
       "1. 10\n",
       "2. 30\n",
       "3. 50\n",
       "4. 70\n",
       "5. 90\n",
       "\n",
       "\n"
      ],
      "text/plain": [
       "[1] 10 30 50 70 90"
      ]
     },
     "metadata": {},
     "output_type": "display_data"
    }
   ],
   "source": [
    "x[c(T, F)]"
   ]
  },
  {
   "cell_type": "code",
   "execution_count": 72,
   "id": "fc89da0e",
   "metadata": {},
   "outputs": [
    {
     "data": {
      "text/html": [
       "<ol class=list-inline>\n",
       "\t<li>80</li>\n",
       "\t<li>90</li>\n",
       "</ol>\n"
      ],
      "text/latex": [
       "\\begin{enumerate*}\n",
       "\\item 80\n",
       "\\item 90\n",
       "\\end{enumerate*}\n"
      ],
      "text/markdown": [
       "1. 80\n",
       "2. 90\n",
       "\n",
       "\n"
      ],
      "text/plain": [
       "[1] 80 90"
      ]
     },
     "metadata": {},
     "output_type": "display_data"
    }
   ],
   "source": [
    "x[x > 77 & x < 99]"
   ]
  },
  {
   "cell_type": "code",
   "execution_count": 74,
   "id": "d634a203",
   "metadata": {},
   "outputs": [],
   "source": [
    "names(x) <- c('ten', 'twenty', 'thirty', 'fourty', 'fifty', 'sixty', 'seventy', 'eighty', 'ninty', 'two_hundred')"
   ]
  },
  {
   "cell_type": "code",
   "execution_count": 75,
   "id": "4d372d26",
   "metadata": {},
   "outputs": [
    {
     "data": {
      "text/html": [
       "<dl class=dl-horizontal>\n",
       "\t<dt>ten</dt>\n",
       "\t\t<dd>10</dd>\n",
       "\t<dt>twenty</dt>\n",
       "\t\t<dd>20</dd>\n",
       "\t<dt>thirty</dt>\n",
       "\t\t<dd>30</dd>\n",
       "\t<dt>fourty</dt>\n",
       "\t\t<dd>40</dd>\n",
       "\t<dt>fifty</dt>\n",
       "\t\t<dd>50</dd>\n",
       "\t<dt>sixty</dt>\n",
       "\t\t<dd>60</dd>\n",
       "\t<dt>seventy</dt>\n",
       "\t\t<dd>70</dd>\n",
       "\t<dt>eighty</dt>\n",
       "\t\t<dd>80</dd>\n",
       "\t<dt>ninty</dt>\n",
       "\t\t<dd>90</dd>\n",
       "\t<dt>two_hundred</dt>\n",
       "\t\t<dd>200</dd>\n",
       "</dl>\n"
      ],
      "text/latex": [
       "\\begin{description*}\n",
       "\\item[ten] 10\n",
       "\\item[twenty] 20\n",
       "\\item[thirty] 30\n",
       "\\item[fourty] 40\n",
       "\\item[fifty] 50\n",
       "\\item[sixty] 60\n",
       "\\item[seventy] 70\n",
       "\\item[eighty] 80\n",
       "\\item[ninty] 90\n",
       "\\item[two\\textbackslash{}\\_hundred] 200\n",
       "\\end{description*}\n"
      ],
      "text/markdown": [
       "ten\n",
       ":   10twenty\n",
       ":   20thirty\n",
       ":   30fourty\n",
       ":   40fifty\n",
       ":   50sixty\n",
       ":   60seventy\n",
       ":   70eighty\n",
       ":   80ninty\n",
       ":   90two_hundred\n",
       ":   200\n",
       "\n"
      ],
      "text/plain": [
       "        ten      twenty      thirty      fourty       fifty       sixty \n",
       "         10          20          30          40          50          60 \n",
       "    seventy      eighty       ninty two_hundred \n",
       "         70          80          90         200 "
      ]
     },
     "metadata": {},
     "output_type": "display_data"
    }
   ],
   "source": [
    "x"
   ]
  },
  {
   "cell_type": "code",
   "execution_count": 77,
   "id": "8b82f7b9",
   "metadata": {},
   "outputs": [
    {
     "data": {
      "text/html": [
       "<strong>two_hundred:</strong> 200"
      ],
      "text/latex": [
       "\\textbf{two\\textbackslash{}\\_hundred:} 200"
      ],
      "text/markdown": [
       "**two_hundred:** 200"
      ],
      "text/plain": [
       "two_hundred \n",
       "        200 "
      ]
     },
     "metadata": {},
     "output_type": "display_data"
    }
   ],
   "source": [
    "x['two_hundred']"
   ]
  },
  {
   "cell_type": "code",
   "execution_count": 78,
   "id": "a2abd66a",
   "metadata": {},
   "outputs": [],
   "source": [
    "# функции all and any"
   ]
  },
  {
   "cell_type": "code",
   "execution_count": 80,
   "id": "79d8db8c",
   "metadata": {},
   "outputs": [
    {
     "data": {
      "text/html": [
       "TRUE"
      ],
      "text/latex": [
       "TRUE"
      ],
      "text/markdown": [
       "TRUE"
      ],
      "text/plain": [
       "[1] TRUE"
      ]
     },
     "metadata": {},
     "output_type": "display_data"
    }
   ],
   "source": [
    "all(x <= 200)"
   ]
  },
  {
   "cell_type": "code",
   "execution_count": 81,
   "id": "1d5ee24d",
   "metadata": {},
   "outputs": [
    {
     "data": {
      "text/html": [
       "FALSE"
      ],
      "text/latex": [
       "FALSE"
      ],
      "text/markdown": [
       "FALSE"
      ],
      "text/plain": [
       "[1] FALSE"
      ]
     },
     "metadata": {},
     "output_type": "display_data"
    }
   ],
   "source": [
    "any(x > 200)"
   ]
  },
  {
   "cell_type": "code",
   "execution_count": 82,
   "id": "29a3e212",
   "metadata": {},
   "outputs": [],
   "source": [
    "# функция which"
   ]
  },
  {
   "cell_type": "code",
   "execution_count": 83,
   "id": "9ec76d60",
   "metadata": {},
   "outputs": [
    {
     "data": {
      "text/html": [
       "<dl class=dl-horizontal>\n",
       "\t<dt>ninty</dt>\n",
       "\t\t<dd>9</dd>\n",
       "\t<dt>two_hundred</dt>\n",
       "\t\t<dd>10</dd>\n",
       "</dl>\n"
      ],
      "text/latex": [
       "\\begin{description*}\n",
       "\\item[ninty] 9\n",
       "\\item[two\\textbackslash{}\\_hundred] 10\n",
       "\\end{description*}\n"
      ],
      "text/markdown": [
       "ninty\n",
       ":   9two_hundred\n",
       ":   10\n",
       "\n"
      ],
      "text/plain": [
       "      ninty two_hundred \n",
       "          9          10 "
      ]
     },
     "metadata": {},
     "output_type": "display_data"
    }
   ],
   "source": [
    "which(x >= 90)"
   ]
  },
  {
   "cell_type": "code",
   "execution_count": 85,
   "id": "9689ec72",
   "metadata": {},
   "outputs": [
    {
     "data": {
      "text/html": [
       "<dl class=dl-horizontal>\n",
       "\t<dt>ninty</dt>\n",
       "\t\t<dd>90</dd>\n",
       "\t<dt>two_hundred</dt>\n",
       "\t\t<dd>200</dd>\n",
       "</dl>\n"
      ],
      "text/latex": [
       "\\begin{description*}\n",
       "\\item[ninty] 90\n",
       "\\item[two\\textbackslash{}\\_hundred] 200\n",
       "\\end{description*}\n"
      ],
      "text/markdown": [
       "ninty\n",
       ":   90two_hundred\n",
       ":   200\n",
       "\n"
      ],
      "text/plain": [
       "      ninty two_hundred \n",
       "         90         200 "
      ]
     },
     "metadata": {},
     "output_type": "display_data"
    }
   ],
   "source": [
    "x[c(9, 10)]"
   ]
  },
  {
   "cell_type": "code",
   "execution_count": 86,
   "id": "afd79d47",
   "metadata": {},
   "outputs": [
    {
     "data": {
      "text/html": [
       "<strong>ten:</strong> 1"
      ],
      "text/latex": [
       "\\textbf{ten:} 1"
      ],
      "text/markdown": [
       "**ten:** 1"
      ],
      "text/plain": [
       "ten \n",
       "  1 "
      ]
     },
     "metadata": {},
     "output_type": "display_data"
    }
   ],
   "source": [
    "which.min(x)"
   ]
  },
  {
   "cell_type": "code",
   "execution_count": 87,
   "id": "03eb16c8",
   "metadata": {},
   "outputs": [
    {
     "data": {
      "text/html": [
       "<strong>two_hundred:</strong> 10"
      ],
      "text/latex": [
       "\\textbf{two\\textbackslash{}\\_hundred:} 10"
      ],
      "text/markdown": [
       "**two_hundred:** 10"
      ],
      "text/plain": [
       "two_hundred \n",
       "         10 "
      ]
     },
     "metadata": {},
     "output_type": "display_data"
    }
   ],
   "source": [
    "which.max(x)"
   ]
  },
  {
   "cell_type": "code",
   "execution_count": 88,
   "id": "3b2cc27b",
   "metadata": {},
   "outputs": [],
   "source": [
    "# атрибуты объектов"
   ]
  },
  {
   "cell_type": "code",
   "execution_count": 89,
   "id": "86fdc471",
   "metadata": {},
   "outputs": [
    {
     "data": {
      "text/html": [
       "<pre class=language-r><code>.Primitive(\"attributes\")</code></pre>"
      ],
      "text/latex": [
       "\\begin{minted}{r}\n",
       ".Primitive(\"attributes\")\n",
       "\\end{minted}"
      ],
      "text/markdown": [
       "```r\n",
       ".Primitive(\"attributes\")\n",
       "```"
      ],
      "text/plain": [
       "function (x)  .Primitive(\"attributes\")"
      ]
     },
     "metadata": {},
     "output_type": "display_data"
    }
   ],
   "source": [
    "attr(x, 'author') <- 'Ceasar'"
   ]
  },
  {
   "cell_type": "code",
   "execution_count": 90,
   "id": "711d86a5",
   "metadata": {},
   "outputs": [
    {
     "data": {
      "text/html": [
       "<dl>\n",
       "\t<dt>$names</dt>\n",
       "\t\t<dd><ol class=list-inline>\n",
       "\t<li>'ten'</li>\n",
       "\t<li>'twenty'</li>\n",
       "\t<li>'thirty'</li>\n",
       "\t<li>'fourty'</li>\n",
       "\t<li>'fifty'</li>\n",
       "\t<li>'sixty'</li>\n",
       "\t<li>'seventy'</li>\n",
       "\t<li>'eighty'</li>\n",
       "\t<li>'ninty'</li>\n",
       "\t<li>'two_hundred'</li>\n",
       "</ol>\n",
       "</dd>\n",
       "\t<dt>$author</dt>\n",
       "\t\t<dd>'Ceasar'</dd>\n",
       "</dl>\n"
      ],
      "text/latex": [
       "\\begin{description}\n",
       "\\item[\\$names] \\begin{enumerate*}\n",
       "\\item 'ten'\n",
       "\\item 'twenty'\n",
       "\\item 'thirty'\n",
       "\\item 'fourty'\n",
       "\\item 'fifty'\n",
       "\\item 'sixty'\n",
       "\\item 'seventy'\n",
       "\\item 'eighty'\n",
       "\\item 'ninty'\n",
       "\\item 'two\\_hundred'\n",
       "\\end{enumerate*}\n",
       "\n",
       "\\item[\\$author] 'Ceasar'\n",
       "\\end{description}\n"
      ],
      "text/markdown": [
       "$names\n",
       ":   1. 'ten'\n",
       "2. 'twenty'\n",
       "3. 'thirty'\n",
       "4. 'fourty'\n",
       "5. 'fifty'\n",
       "6. 'sixty'\n",
       "7. 'seventy'\n",
       "8. 'eighty'\n",
       "9. 'ninty'\n",
       "10. 'two_hundred'\n",
       "\n",
       "\n",
       "\n",
       "$author\n",
       ":   'Ceasar'\n",
       "\n",
       "\n"
      ],
      "text/plain": [
       "$names\n",
       " [1] \"ten\"         \"twenty\"      \"thirty\"      \"fourty\"      \"fifty\"      \n",
       " [6] \"sixty\"       \"seventy\"     \"eighty\"      \"ninty\"       \"two_hundred\"\n",
       "\n",
       "$author\n",
       "[1] \"Ceasar\"\n"
      ]
     },
     "metadata": {},
     "output_type": "display_data"
    }
   ],
   "source": [
    "attributes(x)"
   ]
  },
  {
   "cell_type": "code",
   "execution_count": 92,
   "id": "2a0716b5",
   "metadata": {},
   "outputs": [],
   "source": [
    "attributes(x) <- NULL"
   ]
  },
  {
   "cell_type": "code",
   "execution_count": 93,
   "id": "817fd3b8",
   "metadata": {},
   "outputs": [
    {
     "data": {
      "text/html": [
       "<ol class=list-inline>\n",
       "\t<li>10</li>\n",
       "\t<li>20</li>\n",
       "\t<li>30</li>\n",
       "\t<li>40</li>\n",
       "\t<li>50</li>\n",
       "\t<li>60</li>\n",
       "\t<li>70</li>\n",
       "\t<li>80</li>\n",
       "\t<li>90</li>\n",
       "\t<li>200</li>\n",
       "</ol>\n"
      ],
      "text/latex": [
       "\\begin{enumerate*}\n",
       "\\item 10\n",
       "\\item 20\n",
       "\\item 30\n",
       "\\item 40\n",
       "\\item 50\n",
       "\\item 60\n",
       "\\item 70\n",
       "\\item 80\n",
       "\\item 90\n",
       "\\item 200\n",
       "\\end{enumerate*}\n"
      ],
      "text/markdown": [
       "1. 10\n",
       "2. 20\n",
       "3. 30\n",
       "4. 40\n",
       "5. 50\n",
       "6. 60\n",
       "7. 70\n",
       "8. 80\n",
       "9. 90\n",
       "10. 200\n",
       "\n",
       "\n"
      ],
      "text/plain": [
       " [1]  10  20  30  40  50  60  70  80  90 200"
      ]
     },
     "metadata": {},
     "output_type": "display_data"
    }
   ],
   "source": [
    "x"
   ]
  },
  {
   "cell_type": "code",
   "execution_count": 94,
   "id": "d735059e",
   "metadata": {},
   "outputs": [],
   "source": [
    "# Глоссарий\n",
    "\n",
    "# ?c, ?':', ?seq, ?rep\n",
    "# typeof, ?is.logical, ?as.logical\n",
    "# ?length, ?names, recycling\n",
    "# ?\"+\" (?Arithmetic), ?\"[\"\n",
    "# ?all, ?any\n",
    "# which, ?which.min, ?which.max\n",
    "# attributes"
   ]
  },
  {
   "cell_type": "code",
   "execution_count": 32,
   "id": "16331e06",
   "metadata": {},
   "outputs": [],
   "source": [
    "# Получить вектор без каждого седьмого элемента\n",
    "v <- c(0:21)"
   ]
  },
  {
   "cell_type": "code",
   "execution_count": 51,
   "id": "b2e98a8d",
   "metadata": {},
   "outputs": [
    {
     "data": {
      "text/html": [
       "<ol class=list-inline>\n",
       "\t<li>7</li>\n",
       "\t<li>14</li>\n",
       "\t<li>21</li>\n",
       "</ol>\n"
      ],
      "text/latex": [
       "\\begin{enumerate*}\n",
       "\\item 7\n",
       "\\item 14\n",
       "\\item 21\n",
       "\\end{enumerate*}\n"
      ],
      "text/markdown": [
       "1. 7\n",
       "2. 14\n",
       "3. 21\n",
       "\n",
       "\n"
      ],
      "text/plain": [
       "[1]  7 14 21"
      ]
     },
     "metadata": {},
     "output_type": "display_data"
    }
   ],
   "source": [
    "seq(7, 21, by = 7)"
   ]
  },
  {
   "cell_type": "raw",
   "id": "1c2db837",
   "metadata": {
    "tags": []
   },
   "source": [
    "Кто не понял, попытаюсь объяснить. За основу возьму вектор x равный 11:20 (11 12 13 14 15 16 17 18 19 20)\n",
    "\n",
    "1)x[1:length(x) %% 7 != 0]\n",
    "\n",
    "1. 1:length(x)сначала создаётся вектор от 1 до length(x) (величина длины вектора). В нашем случае длина вектора равна 10, то есть получился вектор 1:10 (1 2 3 4 5 6 7 8 9 10).\n",
    "\n",
    "2. Далее проверяем каждый элемент получившегося вектора на условие %% 7 != 0  , которое расшифровывается так — остаток от деления на 7, не равен 0.\n",
    "\n",
    "Проверяя вектор 1:10 на условие %% 7 != 0 получаем\n",
    "\n",
    "(    1    ,    2    ,     3    ,    4    ,    5     ,    6    ,     7     ,    8    ,    9    ,    10    )\n",
    "\n",
    "(TRUE, TRUE, TRUE, TRUE, TRUE, TRUE, FALSE, TRUE, TRUE, TRUE) \n",
    "\n",
    "Следовательно вернётся вектор без элемента с индексом 7.\n",
    "\n",
    "(11 12 13 14 15 16 17 18 19 20) —> (11 12 13 14 15 16 18 19 20)\n",
    "\n",
    " \n",
    "\n",
    "2)x[c(rep(T, 6), F)] (T —TRUE, F — FALSE) \n",
    "\n",
    "1. rep(T, 6)создаёт вектор в котором 6 раз повторяется T (T T T T T T)\n",
    "\n",
    "2. c(rep(T, 6), F) создаёт вектор, склеивая вектор (T T T T T T) и  F, получается (T T T T T T F)\n",
    "\n",
    "3. Так как наш исходный вектор (11 12 13 14 15 16 17 18 19 20) длиннее чем вектор (T T T T T T F), для вектора(T T T T T T F) применяются правила переписывания. Получается вектор (T T T T T T F T T T).\n",
    "\n",
    "   1   2   3   4   5    6   7    8   9  10\n",
    "\n",
    "(  T   T   T   T   T   T   F    T   T   T )\n",
    "\n",
    "Следовательно вернётся вектор без элемента с индексом 7\n",
    "\n",
    "(11 12 13 14 15 16 17 18 19 20) —> (11 12 13 14 15 16 18 19 20)\n",
    "\n",
    " \n",
    "\n",
    "3)x[-(1:floor(length(x)/7) * 7)]\n",
    "\n",
    "1. floor(length(x)/7) функция floor возвращает самое большое целое число не превышающее аргумент. В нашем случае аргумент length(x)/7 и он равен 1.43, следовательно floor(1.43) - > 1\n",
    "\n",
    "2. 1:floor(length(x)/7)создаётся вектор 1:1 (1) т.к. floor(1.43) - > 1\n",
    "\n",
    "3. 1:floor(length(x)/7) * 7 каждый элемент вектора умножается на 7. В нашем случае вектор единичный (1) умножаем на 7 получается (7)\n",
    "\n",
    "4. -(1:floor(length(x)/7) * 7) минус делает все элементы вектора (7) отрицательными индексами, а значит исключает их.\n",
    "\n",
    "  1    2   3    4   5   6   7    8   9  10\n",
    "\n",
    "(11 12 13 14 15 16 17 18 19 20)\n",
    "\n",
    "Следовательно вернётся вектор без элемента с индексом 7.\n",
    "\n",
    "(11 12 13 14 15 16 17 18 19 20) —> (11 12 13 14 15 16 18 19 20)\n",
    "\n",
    " \n",
    "\n",
    "4) x[-(seq(7, length(x), by = 7))]\n",
    "\n",
    "1. seq(7, length(x), by = 7) создаётся числовая последовательность которая начинается с 7 и заканчивается 10 (length(x)) с шагом 7 (by = 7). В нашем случае получается единичный вектор (7).\n",
    "\n",
    "2. -(seq(7, length(x), by = 7)) минус делает все элементы вектора (7) отрицательными индексами, а значит исключает их.\n",
    "\n",
    "1    2   3    4   5   6   7    8   9  10\n",
    "\n",
    "(11 12 13 14 15 16 17 18 19 20)\n",
    "\n",
    "Следовательно вернётся вектор без элемента с индексом 7.\n",
    "\n",
    "(11 12 13 14 15 16 17 18 19 20) —> (11 12 13 14 15 16 18 19 20)\n",
    "\n",
    " \n",
    "\n",
    "5) x[1:length(x) %% 7 > 0]\n",
    "\n",
    "1. 1:length(x)сначала создаётся вектор от 1 до length(x) (величина длины вектора). В нашем случае длина вектора равна 10, то есть получился вектор 1:10 (1 2 3 4 5 6 7 8 9 10).\n",
    "\n",
    "2. Далее проверяем каждый элемент получившегося вектора на условие %% 7 > 0  , которое расшифровывается так — остаток от деления на 7, больше 0.\n",
    "\n",
    "Проверяя вектор 1:10 на условие %% 7 > 0 получаем\n",
    "\n",
    "(    1    ,    2    ,     3    ,    4    ,    5     ,    6    ,     7     ,    8    ,    9    ,    10    )\n",
    "\n",
    "(TRUE, TRUE, TRUE, TRUE, TRUE, TRUE, FALSE, TRUE, TRUE, TRUE) \n",
    "\n",
    "Следовательно вернётся вектор без элемента с индексом 7.\n",
    "\n",
    "(11 12 13 14 15 16 17 18 19 20) —> (11 12 13 14 15 16 18 19 20)"
   ]
  },
  {
   "cell_type": "code",
   "execution_count": 5,
   "id": "e1479462",
   "metadata": {},
   "outputs": [
    {
     "data": {
      "text/html": [
       "'integer'"
      ],
      "text/latex": [
       "'integer'"
      ],
      "text/markdown": [
       "'integer'"
      ],
      "text/plain": [
       "[1] \"integer\""
      ]
     },
     "metadata": {},
     "output_type": "display_data"
    }
   ],
   "source": [
    "typeof((which.max(c('1', '2'))))"
   ]
  },
  {
   "cell_type": "code",
   "execution_count": 6,
   "id": "fba4adc0",
   "metadata": {},
   "outputs": [],
   "source": [
    "# fizz-buzz, imperative style\n",
    "y <- vector(mode = 'character', length = 100)"
   ]
  },
  {
   "cell_type": "code",
   "execution_count": 8,
   "id": "2a4a4583",
   "metadata": {},
   "outputs": [],
   "source": [
    "# короткий вариант\n",
    "y <- character(100)"
   ]
  },
  {
   "cell_type": "code",
   "execution_count": 9,
   "id": "4c333943",
   "metadata": {},
   "outputs": [],
   "source": [
    "for (i in 1:100) {\n",
    "    if (i %% 15 == 0) {\n",
    "        y[i] = \"fizz buzz\"\n",
    "    }else if (i %% 3 == 0) {\n",
    "        y[i] = \"fizz\"\n",
    "    }else if (i %% 5 == 0){\n",
    "        y[i] = \"buzz\"\n",
    "    }else {\n",
    "        y[i] = i\n",
    "    }\n",
    "}"
   ]
  },
  {
   "cell_type": "code",
   "execution_count": 13,
   "id": "210e7717",
   "metadata": {},
   "outputs": [
    {
     "data": {
      "text/html": [
       "<ol class=list-inline>\n",
       "\t<li>'1'</li>\n",
       "\t<li>'2'</li>\n",
       "\t<li>'fizz'</li>\n",
       "\t<li>'4'</li>\n",
       "\t<li>'buzz'</li>\n",
       "\t<li>'fizz'</li>\n",
       "\t<li>'7'</li>\n",
       "\t<li>'8'</li>\n",
       "\t<li>'fizz'</li>\n",
       "\t<li>'buzz'</li>\n",
       "\t<li>'11'</li>\n",
       "\t<li>'fizz'</li>\n",
       "\t<li>'13'</li>\n",
       "\t<li>'14'</li>\n",
       "\t<li>'fizz buzz'</li>\n",
       "</ol>\n"
      ],
      "text/latex": [
       "\\begin{enumerate*}\n",
       "\\item '1'\n",
       "\\item '2'\n",
       "\\item 'fizz'\n",
       "\\item '4'\n",
       "\\item 'buzz'\n",
       "\\item 'fizz'\n",
       "\\item '7'\n",
       "\\item '8'\n",
       "\\item 'fizz'\n",
       "\\item 'buzz'\n",
       "\\item '11'\n",
       "\\item 'fizz'\n",
       "\\item '13'\n",
       "\\item '14'\n",
       "\\item 'fizz buzz'\n",
       "\\end{enumerate*}\n"
      ],
      "text/markdown": [
       "1. '1'\n",
       "2. '2'\n",
       "3. 'fizz'\n",
       "4. '4'\n",
       "5. 'buzz'\n",
       "6. 'fizz'\n",
       "7. '7'\n",
       "8. '8'\n",
       "9. 'fizz'\n",
       "10. 'buzz'\n",
       "11. '11'\n",
       "12. 'fizz'\n",
       "13. '13'\n",
       "14. '14'\n",
       "15. 'fizz buzz'\n",
       "\n",
       "\n"
      ],
      "text/plain": [
       " [1] \"1\"         \"2\"         \"fizz\"      \"4\"         \"buzz\"      \"fizz\"     \n",
       " [7] \"7\"         \"8\"         \"fizz\"      \"buzz\"      \"11\"        \"fizz\"     \n",
       "[13] \"13\"        \"14\"        \"fizz buzz\""
      ]
     },
     "metadata": {},
     "output_type": "display_data"
    }
   ],
   "source": [
    "head(y, n = 15)"
   ]
  },
  {
   "cell_type": "code",
   "execution_count": 15,
   "id": "b68a8a53",
   "metadata": {},
   "outputs": [],
   "source": [
    "# fizz buzz, vector oriented style"
   ]
  },
  {
   "cell_type": "code",
   "execution_count": 16,
   "id": "688ffb73",
   "metadata": {},
   "outputs": [],
   "source": [
    "# вектор для конечного результата\n",
    "x <- 1:100\n",
    "\n",
    "# вектор для индексирования \n",
    "z <- 1:100"
   ]
  },
  {
   "cell_type": "code",
   "execution_count": 17,
   "id": "782b4380",
   "metadata": {
    "collapsed": true,
    "jupyter": {
     "outputs_hidden": true
    },
    "tags": []
   },
   "outputs": [
    {
     "data": {
      "text/html": [
       "<ol class=list-inline>\n",
       "\t<li>1</li>\n",
       "\t<li>2</li>\n",
       "\t<li>3</li>\n",
       "\t<li>4</li>\n",
       "\t<li>0</li>\n",
       "\t<li>1</li>\n",
       "\t<li>2</li>\n",
       "\t<li>3</li>\n",
       "\t<li>4</li>\n",
       "\t<li>0</li>\n",
       "\t<li>1</li>\n",
       "\t<li>2</li>\n",
       "\t<li>3</li>\n",
       "\t<li>4</li>\n",
       "\t<li>0</li>\n",
       "\t<li>1</li>\n",
       "\t<li>2</li>\n",
       "\t<li>3</li>\n",
       "\t<li>4</li>\n",
       "\t<li>0</li>\n",
       "\t<li>1</li>\n",
       "\t<li>2</li>\n",
       "\t<li>3</li>\n",
       "\t<li>4</li>\n",
       "\t<li>0</li>\n",
       "\t<li>1</li>\n",
       "\t<li>2</li>\n",
       "\t<li>3</li>\n",
       "\t<li>4</li>\n",
       "\t<li>0</li>\n",
       "\t<li>1</li>\n",
       "\t<li>2</li>\n",
       "\t<li>3</li>\n",
       "\t<li>4</li>\n",
       "\t<li>0</li>\n",
       "\t<li>1</li>\n",
       "\t<li>2</li>\n",
       "\t<li>3</li>\n",
       "\t<li>4</li>\n",
       "\t<li>0</li>\n",
       "\t<li>1</li>\n",
       "\t<li>2</li>\n",
       "\t<li>3</li>\n",
       "\t<li>4</li>\n",
       "\t<li>0</li>\n",
       "\t<li>1</li>\n",
       "\t<li>2</li>\n",
       "\t<li>3</li>\n",
       "\t<li>4</li>\n",
       "\t<li>0</li>\n",
       "\t<li>1</li>\n",
       "\t<li>2</li>\n",
       "\t<li>3</li>\n",
       "\t<li>4</li>\n",
       "\t<li>0</li>\n",
       "\t<li>1</li>\n",
       "\t<li>2</li>\n",
       "\t<li>3</li>\n",
       "\t<li>4</li>\n",
       "\t<li>0</li>\n",
       "\t<li>1</li>\n",
       "\t<li>2</li>\n",
       "\t<li>3</li>\n",
       "\t<li>4</li>\n",
       "\t<li>0</li>\n",
       "\t<li>1</li>\n",
       "\t<li>2</li>\n",
       "\t<li>3</li>\n",
       "\t<li>4</li>\n",
       "\t<li>0</li>\n",
       "\t<li>1</li>\n",
       "\t<li>2</li>\n",
       "\t<li>3</li>\n",
       "\t<li>4</li>\n",
       "\t<li>0</li>\n",
       "\t<li>1</li>\n",
       "\t<li>2</li>\n",
       "\t<li>3</li>\n",
       "\t<li>4</li>\n",
       "\t<li>0</li>\n",
       "\t<li>1</li>\n",
       "\t<li>2</li>\n",
       "\t<li>3</li>\n",
       "\t<li>4</li>\n",
       "\t<li>0</li>\n",
       "\t<li>1</li>\n",
       "\t<li>2</li>\n",
       "\t<li>3</li>\n",
       "\t<li>4</li>\n",
       "\t<li>0</li>\n",
       "\t<li>1</li>\n",
       "\t<li>2</li>\n",
       "\t<li>3</li>\n",
       "\t<li>4</li>\n",
       "\t<li>0</li>\n",
       "\t<li>1</li>\n",
       "\t<li>2</li>\n",
       "\t<li>3</li>\n",
       "\t<li>4</li>\n",
       "\t<li>0</li>\n",
       "</ol>\n"
      ],
      "text/latex": [
       "\\begin{enumerate*}\n",
       "\\item 1\n",
       "\\item 2\n",
       "\\item 3\n",
       "\\item 4\n",
       "\\item 0\n",
       "\\item 1\n",
       "\\item 2\n",
       "\\item 3\n",
       "\\item 4\n",
       "\\item 0\n",
       "\\item 1\n",
       "\\item 2\n",
       "\\item 3\n",
       "\\item 4\n",
       "\\item 0\n",
       "\\item 1\n",
       "\\item 2\n",
       "\\item 3\n",
       "\\item 4\n",
       "\\item 0\n",
       "\\item 1\n",
       "\\item 2\n",
       "\\item 3\n",
       "\\item 4\n",
       "\\item 0\n",
       "\\item 1\n",
       "\\item 2\n",
       "\\item 3\n",
       "\\item 4\n",
       "\\item 0\n",
       "\\item 1\n",
       "\\item 2\n",
       "\\item 3\n",
       "\\item 4\n",
       "\\item 0\n",
       "\\item 1\n",
       "\\item 2\n",
       "\\item 3\n",
       "\\item 4\n",
       "\\item 0\n",
       "\\item 1\n",
       "\\item 2\n",
       "\\item 3\n",
       "\\item 4\n",
       "\\item 0\n",
       "\\item 1\n",
       "\\item 2\n",
       "\\item 3\n",
       "\\item 4\n",
       "\\item 0\n",
       "\\item 1\n",
       "\\item 2\n",
       "\\item 3\n",
       "\\item 4\n",
       "\\item 0\n",
       "\\item 1\n",
       "\\item 2\n",
       "\\item 3\n",
       "\\item 4\n",
       "\\item 0\n",
       "\\item 1\n",
       "\\item 2\n",
       "\\item 3\n",
       "\\item 4\n",
       "\\item 0\n",
       "\\item 1\n",
       "\\item 2\n",
       "\\item 3\n",
       "\\item 4\n",
       "\\item 0\n",
       "\\item 1\n",
       "\\item 2\n",
       "\\item 3\n",
       "\\item 4\n",
       "\\item 0\n",
       "\\item 1\n",
       "\\item 2\n",
       "\\item 3\n",
       "\\item 4\n",
       "\\item 0\n",
       "\\item 1\n",
       "\\item 2\n",
       "\\item 3\n",
       "\\item 4\n",
       "\\item 0\n",
       "\\item 1\n",
       "\\item 2\n",
       "\\item 3\n",
       "\\item 4\n",
       "\\item 0\n",
       "\\item 1\n",
       "\\item 2\n",
       "\\item 3\n",
       "\\item 4\n",
       "\\item 0\n",
       "\\item 1\n",
       "\\item 2\n",
       "\\item 3\n",
       "\\item 4\n",
       "\\item 0\n",
       "\\end{enumerate*}\n"
      ],
      "text/markdown": [
       "1. 1\n",
       "2. 2\n",
       "3. 3\n",
       "4. 4\n",
       "5. 0\n",
       "6. 1\n",
       "7. 2\n",
       "8. 3\n",
       "9. 4\n",
       "10. 0\n",
       "11. 1\n",
       "12. 2\n",
       "13. 3\n",
       "14. 4\n",
       "15. 0\n",
       "16. 1\n",
       "17. 2\n",
       "18. 3\n",
       "19. 4\n",
       "20. 0\n",
       "21. 1\n",
       "22. 2\n",
       "23. 3\n",
       "24. 4\n",
       "25. 0\n",
       "26. 1\n",
       "27. 2\n",
       "28. 3\n",
       "29. 4\n",
       "30. 0\n",
       "31. 1\n",
       "32. 2\n",
       "33. 3\n",
       "34. 4\n",
       "35. 0\n",
       "36. 1\n",
       "37. 2\n",
       "38. 3\n",
       "39. 4\n",
       "40. 0\n",
       "41. 1\n",
       "42. 2\n",
       "43. 3\n",
       "44. 4\n",
       "45. 0\n",
       "46. 1\n",
       "47. 2\n",
       "48. 3\n",
       "49. 4\n",
       "50. 0\n",
       "51. 1\n",
       "52. 2\n",
       "53. 3\n",
       "54. 4\n",
       "55. 0\n",
       "56. 1\n",
       "57. 2\n",
       "58. 3\n",
       "59. 4\n",
       "60. 0\n",
       "61. 1\n",
       "62. 2\n",
       "63. 3\n",
       "64. 4\n",
       "65. 0\n",
       "66. 1\n",
       "67. 2\n",
       "68. 3\n",
       "69. 4\n",
       "70. 0\n",
       "71. 1\n",
       "72. 2\n",
       "73. 3\n",
       "74. 4\n",
       "75. 0\n",
       "76. 1\n",
       "77. 2\n",
       "78. 3\n",
       "79. 4\n",
       "80. 0\n",
       "81. 1\n",
       "82. 2\n",
       "83. 3\n",
       "84. 4\n",
       "85. 0\n",
       "86. 1\n",
       "87. 2\n",
       "88. 3\n",
       "89. 4\n",
       "90. 0\n",
       "91. 1\n",
       "92. 2\n",
       "93. 3\n",
       "94. 4\n",
       "95. 0\n",
       "96. 1\n",
       "97. 2\n",
       "98. 3\n",
       "99. 4\n",
       "100. 0\n",
       "\n",
       "\n"
      ],
      "text/plain": [
       "  [1] 1 2 3 4 0 1 2 3 4 0 1 2 3 4 0 1 2 3 4 0 1 2 3 4 0 1 2 3 4 0 1 2 3 4 0 1 2\n",
       " [38] 3 4 0 1 2 3 4 0 1 2 3 4 0 1 2 3 4 0 1 2 3 4 0 1 2 3 4 0 1 2 3 4 0 1 2 3 4\n",
       " [75] 0 1 2 3 4 0 1 2 3 4 0 1 2 3 4 0 1 2 3 4 0 1 2 3 4 0"
      ]
     },
     "metadata": {},
     "output_type": "display_data"
    }
   ],
   "source": [
    "x %% 5"
   ]
  },
  {
   "cell_type": "code",
   "execution_count": 18,
   "id": "7fd85e5f",
   "metadata": {
    "collapsed": true,
    "jupyter": {
     "outputs_hidden": true
    },
    "tags": []
   },
   "outputs": [
    {
     "data": {
      "text/html": [
       "<ol class=list-inline>\n",
       "\t<li>FALSE</li>\n",
       "\t<li>FALSE</li>\n",
       "\t<li>FALSE</li>\n",
       "\t<li>FALSE</li>\n",
       "\t<li>TRUE</li>\n",
       "\t<li>FALSE</li>\n",
       "\t<li>FALSE</li>\n",
       "\t<li>FALSE</li>\n",
       "\t<li>FALSE</li>\n",
       "\t<li>TRUE</li>\n",
       "\t<li>FALSE</li>\n",
       "\t<li>FALSE</li>\n",
       "\t<li>FALSE</li>\n",
       "\t<li>FALSE</li>\n",
       "\t<li>TRUE</li>\n",
       "\t<li>FALSE</li>\n",
       "\t<li>FALSE</li>\n",
       "\t<li>FALSE</li>\n",
       "\t<li>FALSE</li>\n",
       "\t<li>TRUE</li>\n",
       "\t<li>FALSE</li>\n",
       "\t<li>FALSE</li>\n",
       "\t<li>FALSE</li>\n",
       "\t<li>FALSE</li>\n",
       "\t<li>TRUE</li>\n",
       "\t<li>FALSE</li>\n",
       "\t<li>FALSE</li>\n",
       "\t<li>FALSE</li>\n",
       "\t<li>FALSE</li>\n",
       "\t<li>TRUE</li>\n",
       "\t<li>FALSE</li>\n",
       "\t<li>FALSE</li>\n",
       "\t<li>FALSE</li>\n",
       "\t<li>FALSE</li>\n",
       "\t<li>TRUE</li>\n",
       "\t<li>FALSE</li>\n",
       "\t<li>FALSE</li>\n",
       "\t<li>FALSE</li>\n",
       "\t<li>FALSE</li>\n",
       "\t<li>TRUE</li>\n",
       "\t<li>FALSE</li>\n",
       "\t<li>FALSE</li>\n",
       "\t<li>FALSE</li>\n",
       "\t<li>FALSE</li>\n",
       "\t<li>TRUE</li>\n",
       "\t<li>FALSE</li>\n",
       "\t<li>FALSE</li>\n",
       "\t<li>FALSE</li>\n",
       "\t<li>FALSE</li>\n",
       "\t<li>TRUE</li>\n",
       "\t<li>FALSE</li>\n",
       "\t<li>FALSE</li>\n",
       "\t<li>FALSE</li>\n",
       "\t<li>FALSE</li>\n",
       "\t<li>TRUE</li>\n",
       "\t<li>FALSE</li>\n",
       "\t<li>FALSE</li>\n",
       "\t<li>FALSE</li>\n",
       "\t<li>FALSE</li>\n",
       "\t<li>TRUE</li>\n",
       "\t<li>FALSE</li>\n",
       "\t<li>FALSE</li>\n",
       "\t<li>FALSE</li>\n",
       "\t<li>FALSE</li>\n",
       "\t<li>TRUE</li>\n",
       "\t<li>FALSE</li>\n",
       "\t<li>FALSE</li>\n",
       "\t<li>FALSE</li>\n",
       "\t<li>FALSE</li>\n",
       "\t<li>TRUE</li>\n",
       "\t<li>FALSE</li>\n",
       "\t<li>FALSE</li>\n",
       "\t<li>FALSE</li>\n",
       "\t<li>FALSE</li>\n",
       "\t<li>TRUE</li>\n",
       "\t<li>FALSE</li>\n",
       "\t<li>FALSE</li>\n",
       "\t<li>FALSE</li>\n",
       "\t<li>FALSE</li>\n",
       "\t<li>TRUE</li>\n",
       "\t<li>FALSE</li>\n",
       "\t<li>FALSE</li>\n",
       "\t<li>FALSE</li>\n",
       "\t<li>FALSE</li>\n",
       "\t<li>TRUE</li>\n",
       "\t<li>FALSE</li>\n",
       "\t<li>FALSE</li>\n",
       "\t<li>FALSE</li>\n",
       "\t<li>FALSE</li>\n",
       "\t<li>TRUE</li>\n",
       "\t<li>FALSE</li>\n",
       "\t<li>FALSE</li>\n",
       "\t<li>FALSE</li>\n",
       "\t<li>FALSE</li>\n",
       "\t<li>TRUE</li>\n",
       "\t<li>FALSE</li>\n",
       "\t<li>FALSE</li>\n",
       "\t<li>FALSE</li>\n",
       "\t<li>FALSE</li>\n",
       "\t<li>TRUE</li>\n",
       "</ol>\n"
      ],
      "text/latex": [
       "\\begin{enumerate*}\n",
       "\\item FALSE\n",
       "\\item FALSE\n",
       "\\item FALSE\n",
       "\\item FALSE\n",
       "\\item TRUE\n",
       "\\item FALSE\n",
       "\\item FALSE\n",
       "\\item FALSE\n",
       "\\item FALSE\n",
       "\\item TRUE\n",
       "\\item FALSE\n",
       "\\item FALSE\n",
       "\\item FALSE\n",
       "\\item FALSE\n",
       "\\item TRUE\n",
       "\\item FALSE\n",
       "\\item FALSE\n",
       "\\item FALSE\n",
       "\\item FALSE\n",
       "\\item TRUE\n",
       "\\item FALSE\n",
       "\\item FALSE\n",
       "\\item FALSE\n",
       "\\item FALSE\n",
       "\\item TRUE\n",
       "\\item FALSE\n",
       "\\item FALSE\n",
       "\\item FALSE\n",
       "\\item FALSE\n",
       "\\item TRUE\n",
       "\\item FALSE\n",
       "\\item FALSE\n",
       "\\item FALSE\n",
       "\\item FALSE\n",
       "\\item TRUE\n",
       "\\item FALSE\n",
       "\\item FALSE\n",
       "\\item FALSE\n",
       "\\item FALSE\n",
       "\\item TRUE\n",
       "\\item FALSE\n",
       "\\item FALSE\n",
       "\\item FALSE\n",
       "\\item FALSE\n",
       "\\item TRUE\n",
       "\\item FALSE\n",
       "\\item FALSE\n",
       "\\item FALSE\n",
       "\\item FALSE\n",
       "\\item TRUE\n",
       "\\item FALSE\n",
       "\\item FALSE\n",
       "\\item FALSE\n",
       "\\item FALSE\n",
       "\\item TRUE\n",
       "\\item FALSE\n",
       "\\item FALSE\n",
       "\\item FALSE\n",
       "\\item FALSE\n",
       "\\item TRUE\n",
       "\\item FALSE\n",
       "\\item FALSE\n",
       "\\item FALSE\n",
       "\\item FALSE\n",
       "\\item TRUE\n",
       "\\item FALSE\n",
       "\\item FALSE\n",
       "\\item FALSE\n",
       "\\item FALSE\n",
       "\\item TRUE\n",
       "\\item FALSE\n",
       "\\item FALSE\n",
       "\\item FALSE\n",
       "\\item FALSE\n",
       "\\item TRUE\n",
       "\\item FALSE\n",
       "\\item FALSE\n",
       "\\item FALSE\n",
       "\\item FALSE\n",
       "\\item TRUE\n",
       "\\item FALSE\n",
       "\\item FALSE\n",
       "\\item FALSE\n",
       "\\item FALSE\n",
       "\\item TRUE\n",
       "\\item FALSE\n",
       "\\item FALSE\n",
       "\\item FALSE\n",
       "\\item FALSE\n",
       "\\item TRUE\n",
       "\\item FALSE\n",
       "\\item FALSE\n",
       "\\item FALSE\n",
       "\\item FALSE\n",
       "\\item TRUE\n",
       "\\item FALSE\n",
       "\\item FALSE\n",
       "\\item FALSE\n",
       "\\item FALSE\n",
       "\\item TRUE\n",
       "\\end{enumerate*}\n"
      ],
      "text/markdown": [
       "1. FALSE\n",
       "2. FALSE\n",
       "3. FALSE\n",
       "4. FALSE\n",
       "5. TRUE\n",
       "6. FALSE\n",
       "7. FALSE\n",
       "8. FALSE\n",
       "9. FALSE\n",
       "10. TRUE\n",
       "11. FALSE\n",
       "12. FALSE\n",
       "13. FALSE\n",
       "14. FALSE\n",
       "15. TRUE\n",
       "16. FALSE\n",
       "17. FALSE\n",
       "18. FALSE\n",
       "19. FALSE\n",
       "20. TRUE\n",
       "21. FALSE\n",
       "22. FALSE\n",
       "23. FALSE\n",
       "24. FALSE\n",
       "25. TRUE\n",
       "26. FALSE\n",
       "27. FALSE\n",
       "28. FALSE\n",
       "29. FALSE\n",
       "30. TRUE\n",
       "31. FALSE\n",
       "32. FALSE\n",
       "33. FALSE\n",
       "34. FALSE\n",
       "35. TRUE\n",
       "36. FALSE\n",
       "37. FALSE\n",
       "38. FALSE\n",
       "39. FALSE\n",
       "40. TRUE\n",
       "41. FALSE\n",
       "42. FALSE\n",
       "43. FALSE\n",
       "44. FALSE\n",
       "45. TRUE\n",
       "46. FALSE\n",
       "47. FALSE\n",
       "48. FALSE\n",
       "49. FALSE\n",
       "50. TRUE\n",
       "51. FALSE\n",
       "52. FALSE\n",
       "53. FALSE\n",
       "54. FALSE\n",
       "55. TRUE\n",
       "56. FALSE\n",
       "57. FALSE\n",
       "58. FALSE\n",
       "59. FALSE\n",
       "60. TRUE\n",
       "61. FALSE\n",
       "62. FALSE\n",
       "63. FALSE\n",
       "64. FALSE\n",
       "65. TRUE\n",
       "66. FALSE\n",
       "67. FALSE\n",
       "68. FALSE\n",
       "69. FALSE\n",
       "70. TRUE\n",
       "71. FALSE\n",
       "72. FALSE\n",
       "73. FALSE\n",
       "74. FALSE\n",
       "75. TRUE\n",
       "76. FALSE\n",
       "77. FALSE\n",
       "78. FALSE\n",
       "79. FALSE\n",
       "80. TRUE\n",
       "81. FALSE\n",
       "82. FALSE\n",
       "83. FALSE\n",
       "84. FALSE\n",
       "85. TRUE\n",
       "86. FALSE\n",
       "87. FALSE\n",
       "88. FALSE\n",
       "89. FALSE\n",
       "90. TRUE\n",
       "91. FALSE\n",
       "92. FALSE\n",
       "93. FALSE\n",
       "94. FALSE\n",
       "95. TRUE\n",
       "96. FALSE\n",
       "97. FALSE\n",
       "98. FALSE\n",
       "99. FALSE\n",
       "100. TRUE\n",
       "\n",
       "\n"
      ],
      "text/plain": [
       "  [1] FALSE FALSE FALSE FALSE  TRUE FALSE FALSE FALSE FALSE  TRUE FALSE FALSE\n",
       " [13] FALSE FALSE  TRUE FALSE FALSE FALSE FALSE  TRUE FALSE FALSE FALSE FALSE\n",
       " [25]  TRUE FALSE FALSE FALSE FALSE  TRUE FALSE FALSE FALSE FALSE  TRUE FALSE\n",
       " [37] FALSE FALSE FALSE  TRUE FALSE FALSE FALSE FALSE  TRUE FALSE FALSE FALSE\n",
       " [49] FALSE  TRUE FALSE FALSE FALSE FALSE  TRUE FALSE FALSE FALSE FALSE  TRUE\n",
       " [61] FALSE FALSE FALSE FALSE  TRUE FALSE FALSE FALSE FALSE  TRUE FALSE FALSE\n",
       " [73] FALSE FALSE  TRUE FALSE FALSE FALSE FALSE  TRUE FALSE FALSE FALSE FALSE\n",
       " [85]  TRUE FALSE FALSE FALSE FALSE  TRUE FALSE FALSE FALSE FALSE  TRUE FALSE\n",
       " [97] FALSE FALSE FALSE  TRUE"
      ]
     },
     "metadata": {},
     "output_type": "display_data"
    }
   ],
   "source": [
    "x %% 5 == 0"
   ]
  },
  {
   "cell_type": "code",
   "execution_count": 19,
   "id": "04e6f7cf",
   "metadata": {},
   "outputs": [],
   "source": [
    "z[x %% 5 == 0] = \"buzz\""
   ]
  },
  {
   "cell_type": "code",
   "execution_count": 20,
   "id": "0c45bc9c",
   "metadata": {
    "collapsed": true,
    "jupyter": {
     "outputs_hidden": true
    },
    "tags": []
   },
   "outputs": [
    {
     "data": {
      "text/html": [
       "<ol class=list-inline>\n",
       "\t<li>'1'</li>\n",
       "\t<li>'2'</li>\n",
       "\t<li>'3'</li>\n",
       "\t<li>'4'</li>\n",
       "\t<li>'buzz'</li>\n",
       "\t<li>'6'</li>\n",
       "\t<li>'7'</li>\n",
       "\t<li>'8'</li>\n",
       "\t<li>'9'</li>\n",
       "\t<li>'buzz'</li>\n",
       "\t<li>'11'</li>\n",
       "\t<li>'12'</li>\n",
       "\t<li>'13'</li>\n",
       "\t<li>'14'</li>\n",
       "\t<li>'buzz'</li>\n",
       "\t<li>'16'</li>\n",
       "\t<li>'17'</li>\n",
       "\t<li>'18'</li>\n",
       "\t<li>'19'</li>\n",
       "\t<li>'buzz'</li>\n",
       "\t<li>'21'</li>\n",
       "\t<li>'22'</li>\n",
       "\t<li>'23'</li>\n",
       "\t<li>'24'</li>\n",
       "\t<li>'buzz'</li>\n",
       "\t<li>'26'</li>\n",
       "\t<li>'27'</li>\n",
       "\t<li>'28'</li>\n",
       "\t<li>'29'</li>\n",
       "\t<li>'buzz'</li>\n",
       "\t<li>'31'</li>\n",
       "\t<li>'32'</li>\n",
       "\t<li>'33'</li>\n",
       "\t<li>'34'</li>\n",
       "\t<li>'buzz'</li>\n",
       "\t<li>'36'</li>\n",
       "\t<li>'37'</li>\n",
       "\t<li>'38'</li>\n",
       "\t<li>'39'</li>\n",
       "\t<li>'buzz'</li>\n",
       "\t<li>'41'</li>\n",
       "\t<li>'42'</li>\n",
       "\t<li>'43'</li>\n",
       "\t<li>'44'</li>\n",
       "\t<li>'buzz'</li>\n",
       "\t<li>'46'</li>\n",
       "\t<li>'47'</li>\n",
       "\t<li>'48'</li>\n",
       "\t<li>'49'</li>\n",
       "\t<li>'buzz'</li>\n",
       "\t<li>'51'</li>\n",
       "\t<li>'52'</li>\n",
       "\t<li>'53'</li>\n",
       "\t<li>'54'</li>\n",
       "\t<li>'buzz'</li>\n",
       "\t<li>'56'</li>\n",
       "\t<li>'57'</li>\n",
       "\t<li>'58'</li>\n",
       "\t<li>'59'</li>\n",
       "\t<li>'buzz'</li>\n",
       "\t<li>'61'</li>\n",
       "\t<li>'62'</li>\n",
       "\t<li>'63'</li>\n",
       "\t<li>'64'</li>\n",
       "\t<li>'buzz'</li>\n",
       "\t<li>'66'</li>\n",
       "\t<li>'67'</li>\n",
       "\t<li>'68'</li>\n",
       "\t<li>'69'</li>\n",
       "\t<li>'buzz'</li>\n",
       "\t<li>'71'</li>\n",
       "\t<li>'72'</li>\n",
       "\t<li>'73'</li>\n",
       "\t<li>'74'</li>\n",
       "\t<li>'buzz'</li>\n",
       "\t<li>'76'</li>\n",
       "\t<li>'77'</li>\n",
       "\t<li>'78'</li>\n",
       "\t<li>'79'</li>\n",
       "\t<li>'buzz'</li>\n",
       "\t<li>'81'</li>\n",
       "\t<li>'82'</li>\n",
       "\t<li>'83'</li>\n",
       "\t<li>'84'</li>\n",
       "\t<li>'buzz'</li>\n",
       "\t<li>'86'</li>\n",
       "\t<li>'87'</li>\n",
       "\t<li>'88'</li>\n",
       "\t<li>'89'</li>\n",
       "\t<li>'buzz'</li>\n",
       "\t<li>'91'</li>\n",
       "\t<li>'92'</li>\n",
       "\t<li>'93'</li>\n",
       "\t<li>'94'</li>\n",
       "\t<li>'buzz'</li>\n",
       "\t<li>'96'</li>\n",
       "\t<li>'97'</li>\n",
       "\t<li>'98'</li>\n",
       "\t<li>'99'</li>\n",
       "\t<li>'buzz'</li>\n",
       "</ol>\n"
      ],
      "text/latex": [
       "\\begin{enumerate*}\n",
       "\\item '1'\n",
       "\\item '2'\n",
       "\\item '3'\n",
       "\\item '4'\n",
       "\\item 'buzz'\n",
       "\\item '6'\n",
       "\\item '7'\n",
       "\\item '8'\n",
       "\\item '9'\n",
       "\\item 'buzz'\n",
       "\\item '11'\n",
       "\\item '12'\n",
       "\\item '13'\n",
       "\\item '14'\n",
       "\\item 'buzz'\n",
       "\\item '16'\n",
       "\\item '17'\n",
       "\\item '18'\n",
       "\\item '19'\n",
       "\\item 'buzz'\n",
       "\\item '21'\n",
       "\\item '22'\n",
       "\\item '23'\n",
       "\\item '24'\n",
       "\\item 'buzz'\n",
       "\\item '26'\n",
       "\\item '27'\n",
       "\\item '28'\n",
       "\\item '29'\n",
       "\\item 'buzz'\n",
       "\\item '31'\n",
       "\\item '32'\n",
       "\\item '33'\n",
       "\\item '34'\n",
       "\\item 'buzz'\n",
       "\\item '36'\n",
       "\\item '37'\n",
       "\\item '38'\n",
       "\\item '39'\n",
       "\\item 'buzz'\n",
       "\\item '41'\n",
       "\\item '42'\n",
       "\\item '43'\n",
       "\\item '44'\n",
       "\\item 'buzz'\n",
       "\\item '46'\n",
       "\\item '47'\n",
       "\\item '48'\n",
       "\\item '49'\n",
       "\\item 'buzz'\n",
       "\\item '51'\n",
       "\\item '52'\n",
       "\\item '53'\n",
       "\\item '54'\n",
       "\\item 'buzz'\n",
       "\\item '56'\n",
       "\\item '57'\n",
       "\\item '58'\n",
       "\\item '59'\n",
       "\\item 'buzz'\n",
       "\\item '61'\n",
       "\\item '62'\n",
       "\\item '63'\n",
       "\\item '64'\n",
       "\\item 'buzz'\n",
       "\\item '66'\n",
       "\\item '67'\n",
       "\\item '68'\n",
       "\\item '69'\n",
       "\\item 'buzz'\n",
       "\\item '71'\n",
       "\\item '72'\n",
       "\\item '73'\n",
       "\\item '74'\n",
       "\\item 'buzz'\n",
       "\\item '76'\n",
       "\\item '77'\n",
       "\\item '78'\n",
       "\\item '79'\n",
       "\\item 'buzz'\n",
       "\\item '81'\n",
       "\\item '82'\n",
       "\\item '83'\n",
       "\\item '84'\n",
       "\\item 'buzz'\n",
       "\\item '86'\n",
       "\\item '87'\n",
       "\\item '88'\n",
       "\\item '89'\n",
       "\\item 'buzz'\n",
       "\\item '91'\n",
       "\\item '92'\n",
       "\\item '93'\n",
       "\\item '94'\n",
       "\\item 'buzz'\n",
       "\\item '96'\n",
       "\\item '97'\n",
       "\\item '98'\n",
       "\\item '99'\n",
       "\\item 'buzz'\n",
       "\\end{enumerate*}\n"
      ],
      "text/markdown": [
       "1. '1'\n",
       "2. '2'\n",
       "3. '3'\n",
       "4. '4'\n",
       "5. 'buzz'\n",
       "6. '6'\n",
       "7. '7'\n",
       "8. '8'\n",
       "9. '9'\n",
       "10. 'buzz'\n",
       "11. '11'\n",
       "12. '12'\n",
       "13. '13'\n",
       "14. '14'\n",
       "15. 'buzz'\n",
       "16. '16'\n",
       "17. '17'\n",
       "18. '18'\n",
       "19. '19'\n",
       "20. 'buzz'\n",
       "21. '21'\n",
       "22. '22'\n",
       "23. '23'\n",
       "24. '24'\n",
       "25. 'buzz'\n",
       "26. '26'\n",
       "27. '27'\n",
       "28. '28'\n",
       "29. '29'\n",
       "30. 'buzz'\n",
       "31. '31'\n",
       "32. '32'\n",
       "33. '33'\n",
       "34. '34'\n",
       "35. 'buzz'\n",
       "36. '36'\n",
       "37. '37'\n",
       "38. '38'\n",
       "39. '39'\n",
       "40. 'buzz'\n",
       "41. '41'\n",
       "42. '42'\n",
       "43. '43'\n",
       "44. '44'\n",
       "45. 'buzz'\n",
       "46. '46'\n",
       "47. '47'\n",
       "48. '48'\n",
       "49. '49'\n",
       "50. 'buzz'\n",
       "51. '51'\n",
       "52. '52'\n",
       "53. '53'\n",
       "54. '54'\n",
       "55. 'buzz'\n",
       "56. '56'\n",
       "57. '57'\n",
       "58. '58'\n",
       "59. '59'\n",
       "60. 'buzz'\n",
       "61. '61'\n",
       "62. '62'\n",
       "63. '63'\n",
       "64. '64'\n",
       "65. 'buzz'\n",
       "66. '66'\n",
       "67. '67'\n",
       "68. '68'\n",
       "69. '69'\n",
       "70. 'buzz'\n",
       "71. '71'\n",
       "72. '72'\n",
       "73. '73'\n",
       "74. '74'\n",
       "75. 'buzz'\n",
       "76. '76'\n",
       "77. '77'\n",
       "78. '78'\n",
       "79. '79'\n",
       "80. 'buzz'\n",
       "81. '81'\n",
       "82. '82'\n",
       "83. '83'\n",
       "84. '84'\n",
       "85. 'buzz'\n",
       "86. '86'\n",
       "87. '87'\n",
       "88. '88'\n",
       "89. '89'\n",
       "90. 'buzz'\n",
       "91. '91'\n",
       "92. '92'\n",
       "93. '93'\n",
       "94. '94'\n",
       "95. 'buzz'\n",
       "96. '96'\n",
       "97. '97'\n",
       "98. '98'\n",
       "99. '99'\n",
       "100. 'buzz'\n",
       "\n",
       "\n"
      ],
      "text/plain": [
       "  [1] \"1\"    \"2\"    \"3\"    \"4\"    \"buzz\" \"6\"    \"7\"    \"8\"    \"9\"    \"buzz\"\n",
       " [11] \"11\"   \"12\"   \"13\"   \"14\"   \"buzz\" \"16\"   \"17\"   \"18\"   \"19\"   \"buzz\"\n",
       " [21] \"21\"   \"22\"   \"23\"   \"24\"   \"buzz\" \"26\"   \"27\"   \"28\"   \"29\"   \"buzz\"\n",
       " [31] \"31\"   \"32\"   \"33\"   \"34\"   \"buzz\" \"36\"   \"37\"   \"38\"   \"39\"   \"buzz\"\n",
       " [41] \"41\"   \"42\"   \"43\"   \"44\"   \"buzz\" \"46\"   \"47\"   \"48\"   \"49\"   \"buzz\"\n",
       " [51] \"51\"   \"52\"   \"53\"   \"54\"   \"buzz\" \"56\"   \"57\"   \"58\"   \"59\"   \"buzz\"\n",
       " [61] \"61\"   \"62\"   \"63\"   \"64\"   \"buzz\" \"66\"   \"67\"   \"68\"   \"69\"   \"buzz\"\n",
       " [71] \"71\"   \"72\"   \"73\"   \"74\"   \"buzz\" \"76\"   \"77\"   \"78\"   \"79\"   \"buzz\"\n",
       " [81] \"81\"   \"82\"   \"83\"   \"84\"   \"buzz\" \"86\"   \"87\"   \"88\"   \"89\"   \"buzz\"\n",
       " [91] \"91\"   \"92\"   \"93\"   \"94\"   \"buzz\" \"96\"   \"97\"   \"98\"   \"99\"   \"buzz\""
      ]
     },
     "metadata": {},
     "output_type": "display_data"
    }
   ],
   "source": [
    "z"
   ]
  },
  {
   "cell_type": "code",
   "execution_count": 21,
   "id": "3d533aee",
   "metadata": {},
   "outputs": [],
   "source": [
    "z[x %% 3 == 0] = \"fizz\""
   ]
  },
  {
   "cell_type": "code",
   "execution_count": 22,
   "id": "a68fe1f4",
   "metadata": {
    "collapsed": true,
    "jupyter": {
     "outputs_hidden": true
    },
    "tags": []
   },
   "outputs": [
    {
     "data": {
      "text/html": [
       "<ol class=list-inline>\n",
       "\t<li>'1'</li>\n",
       "\t<li>'2'</li>\n",
       "\t<li>'fizz'</li>\n",
       "\t<li>'4'</li>\n",
       "\t<li>'buzz'</li>\n",
       "\t<li>'fizz'</li>\n",
       "\t<li>'7'</li>\n",
       "\t<li>'8'</li>\n",
       "\t<li>'fizz'</li>\n",
       "\t<li>'buzz'</li>\n",
       "\t<li>'11'</li>\n",
       "\t<li>'fizz'</li>\n",
       "\t<li>'13'</li>\n",
       "\t<li>'14'</li>\n",
       "\t<li>'fizz'</li>\n",
       "\t<li>'16'</li>\n",
       "\t<li>'17'</li>\n",
       "\t<li>'fizz'</li>\n",
       "\t<li>'19'</li>\n",
       "\t<li>'buzz'</li>\n",
       "\t<li>'fizz'</li>\n",
       "\t<li>'22'</li>\n",
       "\t<li>'23'</li>\n",
       "\t<li>'fizz'</li>\n",
       "\t<li>'buzz'</li>\n",
       "\t<li>'26'</li>\n",
       "\t<li>'fizz'</li>\n",
       "\t<li>'28'</li>\n",
       "\t<li>'29'</li>\n",
       "\t<li>'fizz'</li>\n",
       "\t<li>'31'</li>\n",
       "\t<li>'32'</li>\n",
       "\t<li>'fizz'</li>\n",
       "\t<li>'34'</li>\n",
       "\t<li>'buzz'</li>\n",
       "\t<li>'fizz'</li>\n",
       "\t<li>'37'</li>\n",
       "\t<li>'38'</li>\n",
       "\t<li>'fizz'</li>\n",
       "\t<li>'buzz'</li>\n",
       "\t<li>'41'</li>\n",
       "\t<li>'fizz'</li>\n",
       "\t<li>'43'</li>\n",
       "\t<li>'44'</li>\n",
       "\t<li>'fizz'</li>\n",
       "\t<li>'46'</li>\n",
       "\t<li>'47'</li>\n",
       "\t<li>'fizz'</li>\n",
       "\t<li>'49'</li>\n",
       "\t<li>'buzz'</li>\n",
       "\t<li>'fizz'</li>\n",
       "\t<li>'52'</li>\n",
       "\t<li>'53'</li>\n",
       "\t<li>'fizz'</li>\n",
       "\t<li>'buzz'</li>\n",
       "\t<li>'56'</li>\n",
       "\t<li>'fizz'</li>\n",
       "\t<li>'58'</li>\n",
       "\t<li>'59'</li>\n",
       "\t<li>'fizz'</li>\n",
       "\t<li>'61'</li>\n",
       "\t<li>'62'</li>\n",
       "\t<li>'fizz'</li>\n",
       "\t<li>'64'</li>\n",
       "\t<li>'buzz'</li>\n",
       "\t<li>'fizz'</li>\n",
       "\t<li>'67'</li>\n",
       "\t<li>'68'</li>\n",
       "\t<li>'fizz'</li>\n",
       "\t<li>'buzz'</li>\n",
       "\t<li>'71'</li>\n",
       "\t<li>'fizz'</li>\n",
       "\t<li>'73'</li>\n",
       "\t<li>'74'</li>\n",
       "\t<li>'fizz'</li>\n",
       "\t<li>'76'</li>\n",
       "\t<li>'77'</li>\n",
       "\t<li>'fizz'</li>\n",
       "\t<li>'79'</li>\n",
       "\t<li>'buzz'</li>\n",
       "\t<li>'fizz'</li>\n",
       "\t<li>'82'</li>\n",
       "\t<li>'83'</li>\n",
       "\t<li>'fizz'</li>\n",
       "\t<li>'buzz'</li>\n",
       "\t<li>'86'</li>\n",
       "\t<li>'fizz'</li>\n",
       "\t<li>'88'</li>\n",
       "\t<li>'89'</li>\n",
       "\t<li>'fizz'</li>\n",
       "\t<li>'91'</li>\n",
       "\t<li>'92'</li>\n",
       "\t<li>'fizz'</li>\n",
       "\t<li>'94'</li>\n",
       "\t<li>'buzz'</li>\n",
       "\t<li>'fizz'</li>\n",
       "\t<li>'97'</li>\n",
       "\t<li>'98'</li>\n",
       "\t<li>'fizz'</li>\n",
       "\t<li>'buzz'</li>\n",
       "</ol>\n"
      ],
      "text/latex": [
       "\\begin{enumerate*}\n",
       "\\item '1'\n",
       "\\item '2'\n",
       "\\item 'fizz'\n",
       "\\item '4'\n",
       "\\item 'buzz'\n",
       "\\item 'fizz'\n",
       "\\item '7'\n",
       "\\item '8'\n",
       "\\item 'fizz'\n",
       "\\item 'buzz'\n",
       "\\item '11'\n",
       "\\item 'fizz'\n",
       "\\item '13'\n",
       "\\item '14'\n",
       "\\item 'fizz'\n",
       "\\item '16'\n",
       "\\item '17'\n",
       "\\item 'fizz'\n",
       "\\item '19'\n",
       "\\item 'buzz'\n",
       "\\item 'fizz'\n",
       "\\item '22'\n",
       "\\item '23'\n",
       "\\item 'fizz'\n",
       "\\item 'buzz'\n",
       "\\item '26'\n",
       "\\item 'fizz'\n",
       "\\item '28'\n",
       "\\item '29'\n",
       "\\item 'fizz'\n",
       "\\item '31'\n",
       "\\item '32'\n",
       "\\item 'fizz'\n",
       "\\item '34'\n",
       "\\item 'buzz'\n",
       "\\item 'fizz'\n",
       "\\item '37'\n",
       "\\item '38'\n",
       "\\item 'fizz'\n",
       "\\item 'buzz'\n",
       "\\item '41'\n",
       "\\item 'fizz'\n",
       "\\item '43'\n",
       "\\item '44'\n",
       "\\item 'fizz'\n",
       "\\item '46'\n",
       "\\item '47'\n",
       "\\item 'fizz'\n",
       "\\item '49'\n",
       "\\item 'buzz'\n",
       "\\item 'fizz'\n",
       "\\item '52'\n",
       "\\item '53'\n",
       "\\item 'fizz'\n",
       "\\item 'buzz'\n",
       "\\item '56'\n",
       "\\item 'fizz'\n",
       "\\item '58'\n",
       "\\item '59'\n",
       "\\item 'fizz'\n",
       "\\item '61'\n",
       "\\item '62'\n",
       "\\item 'fizz'\n",
       "\\item '64'\n",
       "\\item 'buzz'\n",
       "\\item 'fizz'\n",
       "\\item '67'\n",
       "\\item '68'\n",
       "\\item 'fizz'\n",
       "\\item 'buzz'\n",
       "\\item '71'\n",
       "\\item 'fizz'\n",
       "\\item '73'\n",
       "\\item '74'\n",
       "\\item 'fizz'\n",
       "\\item '76'\n",
       "\\item '77'\n",
       "\\item 'fizz'\n",
       "\\item '79'\n",
       "\\item 'buzz'\n",
       "\\item 'fizz'\n",
       "\\item '82'\n",
       "\\item '83'\n",
       "\\item 'fizz'\n",
       "\\item 'buzz'\n",
       "\\item '86'\n",
       "\\item 'fizz'\n",
       "\\item '88'\n",
       "\\item '89'\n",
       "\\item 'fizz'\n",
       "\\item '91'\n",
       "\\item '92'\n",
       "\\item 'fizz'\n",
       "\\item '94'\n",
       "\\item 'buzz'\n",
       "\\item 'fizz'\n",
       "\\item '97'\n",
       "\\item '98'\n",
       "\\item 'fizz'\n",
       "\\item 'buzz'\n",
       "\\end{enumerate*}\n"
      ],
      "text/markdown": [
       "1. '1'\n",
       "2. '2'\n",
       "3. 'fizz'\n",
       "4. '4'\n",
       "5. 'buzz'\n",
       "6. 'fizz'\n",
       "7. '7'\n",
       "8. '8'\n",
       "9. 'fizz'\n",
       "10. 'buzz'\n",
       "11. '11'\n",
       "12. 'fizz'\n",
       "13. '13'\n",
       "14. '14'\n",
       "15. 'fizz'\n",
       "16. '16'\n",
       "17. '17'\n",
       "18. 'fizz'\n",
       "19. '19'\n",
       "20. 'buzz'\n",
       "21. 'fizz'\n",
       "22. '22'\n",
       "23. '23'\n",
       "24. 'fizz'\n",
       "25. 'buzz'\n",
       "26. '26'\n",
       "27. 'fizz'\n",
       "28. '28'\n",
       "29. '29'\n",
       "30. 'fizz'\n",
       "31. '31'\n",
       "32. '32'\n",
       "33. 'fizz'\n",
       "34. '34'\n",
       "35. 'buzz'\n",
       "36. 'fizz'\n",
       "37. '37'\n",
       "38. '38'\n",
       "39. 'fizz'\n",
       "40. 'buzz'\n",
       "41. '41'\n",
       "42. 'fizz'\n",
       "43. '43'\n",
       "44. '44'\n",
       "45. 'fizz'\n",
       "46. '46'\n",
       "47. '47'\n",
       "48. 'fizz'\n",
       "49. '49'\n",
       "50. 'buzz'\n",
       "51. 'fizz'\n",
       "52. '52'\n",
       "53. '53'\n",
       "54. 'fizz'\n",
       "55. 'buzz'\n",
       "56. '56'\n",
       "57. 'fizz'\n",
       "58. '58'\n",
       "59. '59'\n",
       "60. 'fizz'\n",
       "61. '61'\n",
       "62. '62'\n",
       "63. 'fizz'\n",
       "64. '64'\n",
       "65. 'buzz'\n",
       "66. 'fizz'\n",
       "67. '67'\n",
       "68. '68'\n",
       "69. 'fizz'\n",
       "70. 'buzz'\n",
       "71. '71'\n",
       "72. 'fizz'\n",
       "73. '73'\n",
       "74. '74'\n",
       "75. 'fizz'\n",
       "76. '76'\n",
       "77. '77'\n",
       "78. 'fizz'\n",
       "79. '79'\n",
       "80. 'buzz'\n",
       "81. 'fizz'\n",
       "82. '82'\n",
       "83. '83'\n",
       "84. 'fizz'\n",
       "85. 'buzz'\n",
       "86. '86'\n",
       "87. 'fizz'\n",
       "88. '88'\n",
       "89. '89'\n",
       "90. 'fizz'\n",
       "91. '91'\n",
       "92. '92'\n",
       "93. 'fizz'\n",
       "94. '94'\n",
       "95. 'buzz'\n",
       "96. 'fizz'\n",
       "97. '97'\n",
       "98. '98'\n",
       "99. 'fizz'\n",
       "100. 'buzz'\n",
       "\n",
       "\n"
      ],
      "text/plain": [
       "  [1] \"1\"    \"2\"    \"fizz\" \"4\"    \"buzz\" \"fizz\" \"7\"    \"8\"    \"fizz\" \"buzz\"\n",
       " [11] \"11\"   \"fizz\" \"13\"   \"14\"   \"fizz\" \"16\"   \"17\"   \"fizz\" \"19\"   \"buzz\"\n",
       " [21] \"fizz\" \"22\"   \"23\"   \"fizz\" \"buzz\" \"26\"   \"fizz\" \"28\"   \"29\"   \"fizz\"\n",
       " [31] \"31\"   \"32\"   \"fizz\" \"34\"   \"buzz\" \"fizz\" \"37\"   \"38\"   \"fizz\" \"buzz\"\n",
       " [41] \"41\"   \"fizz\" \"43\"   \"44\"   \"fizz\" \"46\"   \"47\"   \"fizz\" \"49\"   \"buzz\"\n",
       " [51] \"fizz\" \"52\"   \"53\"   \"fizz\" \"buzz\" \"56\"   \"fizz\" \"58\"   \"59\"   \"fizz\"\n",
       " [61] \"61\"   \"62\"   \"fizz\" \"64\"   \"buzz\" \"fizz\" \"67\"   \"68\"   \"fizz\" \"buzz\"\n",
       " [71] \"71\"   \"fizz\" \"73\"   \"74\"   \"fizz\" \"76\"   \"77\"   \"fizz\" \"79\"   \"buzz\"\n",
       " [81] \"fizz\" \"82\"   \"83\"   \"fizz\" \"buzz\" \"86\"   \"fizz\" \"88\"   \"89\"   \"fizz\"\n",
       " [91] \"91\"   \"92\"   \"fizz\" \"94\"   \"buzz\" \"fizz\" \"97\"   \"98\"   \"fizz\" \"buzz\""
      ]
     },
     "metadata": {},
     "output_type": "display_data"
    }
   ],
   "source": [
    "z"
   ]
  },
  {
   "cell_type": "code",
   "execution_count": 23,
   "id": "79838469",
   "metadata": {},
   "outputs": [],
   "source": [
    "z[x %% 15 == 0] = \"fizz buzz\""
   ]
  },
  {
   "cell_type": "code",
   "execution_count": 24,
   "id": "c2a71e00",
   "metadata": {},
   "outputs": [
    {
     "data": {
      "text/html": [
       "TRUE"
      ],
      "text/latex": [
       "TRUE"
      ],
      "text/markdown": [
       "TRUE"
      ],
      "text/plain": [
       "[1] TRUE"
      ]
     },
     "metadata": {},
     "output_type": "display_data"
    }
   ],
   "source": [
    "all(y == z)"
   ]
  },
  {
   "cell_type": "code",
   "execution_count": 34,
   "id": "b7822d8e",
   "metadata": {},
   "outputs": [
    {
     "data": {
      "text/html": [
       "<ol class=list-inline>\n",
       "\t<li>1</li>\n",
       "\t<li>2</li>\n",
       "\t<li>4</li>\n",
       "\t<li>8</li>\n",
       "\t<li>16</li>\n",
       "\t<li>32</li>\n",
       "\t<li>64</li>\n",
       "\t<li>128</li>\n",
       "\t<li>256</li>\n",
       "\t<li>512</li>\n",
       "\t<li>1024</li>\n",
       "</ol>\n"
      ],
      "text/latex": [
       "\\begin{enumerate*}\n",
       "\\item 1\n",
       "\\item 2\n",
       "\\item 4\n",
       "\\item 8\n",
       "\\item 16\n",
       "\\item 32\n",
       "\\item 64\n",
       "\\item 128\n",
       "\\item 256\n",
       "\\item 512\n",
       "\\item 1024\n",
       "\\end{enumerate*}\n"
      ],
      "text/markdown": [
       "1. 1\n",
       "2. 2\n",
       "3. 4\n",
       "4. 8\n",
       "5. 16\n",
       "6. 32\n",
       "7. 64\n",
       "8. 128\n",
       "9. 256\n",
       "10. 512\n",
       "11. 1024\n",
       "\n",
       "\n"
      ],
      "text/plain": [
       " [1]    1    2    4    8   16   32   64  128  256  512 1024"
      ]
     },
     "metadata": {},
     "output_type": "display_data"
    }
   ],
   "source": [
    "# получаем степени двойки\n",
    "x <- 2^ (0:10); x"
   ]
  },
  {
   "cell_type": "code",
   "execution_count": 35,
   "id": "b04156da",
   "metadata": {},
   "outputs": [
    {
     "data": {
      "text/html": [
       "<ol class=list-inline>\n",
       "\t<li>0</li>\n",
       "\t<li>1</li>\n",
       "\t<li>2</li>\n",
       "\t<li>3</li>\n",
       "\t<li>4</li>\n",
       "\t<li>5</li>\n",
       "\t<li>6</li>\n",
       "\t<li>7</li>\n",
       "\t<li>8</li>\n",
       "\t<li>9</li>\n",
       "\t<li>10</li>\n",
       "</ol>\n"
      ],
      "text/latex": [
       "\\begin{enumerate*}\n",
       "\\item 0\n",
       "\\item 1\n",
       "\\item 2\n",
       "\\item 3\n",
       "\\item 4\n",
       "\\item 5\n",
       "\\item 6\n",
       "\\item 7\n",
       "\\item 8\n",
       "\\item 9\n",
       "\\item 10\n",
       "\\end{enumerate*}\n"
      ],
      "text/markdown": [
       "1. 0\n",
       "2. 1\n",
       "3. 2\n",
       "4. 3\n",
       "5. 4\n",
       "6. 5\n",
       "7. 6\n",
       "8. 7\n",
       "9. 8\n",
       "10. 9\n",
       "11. 10\n",
       "\n",
       "\n"
      ],
      "text/plain": [
       " [1]  0  1  2  3  4  5  6  7  8  9 10"
      ]
     },
     "metadata": {},
     "output_type": "display_data"
    }
   ],
   "source": [
    "# обратное преобразование\n",
    "log2(x)"
   ]
  },
  {
   "cell_type": "code",
   "execution_count": 36,
   "id": "cee274c9",
   "metadata": {},
   "outputs": [],
   "source": [
    "# фиксируем значение сида случайного генератора\n",
    "set.seed(42)"
   ]
  },
  {
   "cell_type": "code",
   "execution_count": 37,
   "id": "19bbac22",
   "metadata": {},
   "outputs": [
    {
     "data": {
      "text/html": [
       "<ol class=list-inline>\n",
       "\t<li>49</li>\n",
       "\t<li>65</li>\n",
       "\t<li>25</li>\n",
       "\t<li>74</li>\n",
       "\t<li>18</li>\n",
       "\t<li>100</li>\n",
       "</ol>\n"
      ],
      "text/latex": [
       "\\begin{enumerate*}\n",
       "\\item 49\n",
       "\\item 65\n",
       "\\item 25\n",
       "\\item 74\n",
       "\\item 18\n",
       "\\item 100\n",
       "\\end{enumerate*}\n"
      ],
      "text/markdown": [
       "1. 49\n",
       "2. 65\n",
       "3. 25\n",
       "4. 74\n",
       "5. 18\n",
       "6. 100\n",
       "\n",
       "\n"
      ],
      "text/plain": [
       "[1]  49  65  25  74  18 100"
      ]
     },
     "metadata": {},
     "output_type": "display_data"
    }
   ],
   "source": [
    "x <- sample(1:100, 50); head(x)"
   ]
  },
  {
   "cell_type": "code",
   "execution_count": 38,
   "id": "84209bd1",
   "metadata": {},
   "outputs": [],
   "source": [
    "# найти два соседних числа, которые отличаются на максимальную величину"
   ]
  },
  {
   "cell_type": "code",
   "execution_count": 39,
   "id": "95a409c1",
   "metadata": {},
   "outputs": [],
   "source": [
    "# нужно создать вектор содержащий попарные разницы и выбраить из него максимумм"
   ]
  },
  {
   "cell_type": "code",
   "execution_count": 40,
   "id": "169acc5f",
   "metadata": {
    "collapsed": true,
    "jupyter": {
     "outputs_hidden": true
    },
    "tags": []
   },
   "outputs": [
    {
     "data": {
      "text/html": [
       "<ol class=list-inline>\n",
       "\t<li>65</li>\n",
       "\t<li>25</li>\n",
       "\t<li>74</li>\n",
       "\t<li>18</li>\n",
       "\t<li>100</li>\n",
       "\t<li>47</li>\n",
       "\t<li>24</li>\n",
       "\t<li>71</li>\n",
       "\t<li>89</li>\n",
       "\t<li>37</li>\n",
       "\t<li>20</li>\n",
       "\t<li>26</li>\n",
       "\t<li>3</li>\n",
       "\t<li>41</li>\n",
       "\t<li>27</li>\n",
       "\t<li>36</li>\n",
       "\t<li>5</li>\n",
       "\t<li>34</li>\n",
       "\t<li>87</li>\n",
       "\t<li>58</li>\n",
       "\t<li>42</li>\n",
       "\t<li>93</li>\n",
       "\t<li>30</li>\n",
       "\t<li>43</li>\n",
       "\t<li>15</li>\n",
       "\t<li>22</li>\n",
       "\t<li>80</li>\n",
       "\t<li>8</li>\n",
       "\t<li>84</li>\n",
       "\t<li>68</li>\n",
       "\t<li>96</li>\n",
       "\t<li>4</li>\n",
       "\t<li>50</li>\n",
       "\t<li>95</li>\n",
       "\t<li>88</li>\n",
       "\t<li>67</li>\n",
       "\t<li>6</li>\n",
       "\t<li>63</li>\n",
       "\t<li>2</li>\n",
       "\t<li>52</li>\n",
       "\t<li>81</li>\n",
       "\t<li>54</li>\n",
       "\t<li>21</li>\n",
       "\t<li>61</li>\n",
       "\t<li>55</li>\n",
       "\t<li>38</li>\n",
       "\t<li>10</li>\n",
       "\t<li>40</li>\n",
       "\t<li>83</li>\n",
       "</ol>\n"
      ],
      "text/latex": [
       "\\begin{enumerate*}\n",
       "\\item 65\n",
       "\\item 25\n",
       "\\item 74\n",
       "\\item 18\n",
       "\\item 100\n",
       "\\item 47\n",
       "\\item 24\n",
       "\\item 71\n",
       "\\item 89\n",
       "\\item 37\n",
       "\\item 20\n",
       "\\item 26\n",
       "\\item 3\n",
       "\\item 41\n",
       "\\item 27\n",
       "\\item 36\n",
       "\\item 5\n",
       "\\item 34\n",
       "\\item 87\n",
       "\\item 58\n",
       "\\item 42\n",
       "\\item 93\n",
       "\\item 30\n",
       "\\item 43\n",
       "\\item 15\n",
       "\\item 22\n",
       "\\item 80\n",
       "\\item 8\n",
       "\\item 84\n",
       "\\item 68\n",
       "\\item 96\n",
       "\\item 4\n",
       "\\item 50\n",
       "\\item 95\n",
       "\\item 88\n",
       "\\item 67\n",
       "\\item 6\n",
       "\\item 63\n",
       "\\item 2\n",
       "\\item 52\n",
       "\\item 81\n",
       "\\item 54\n",
       "\\item 21\n",
       "\\item 61\n",
       "\\item 55\n",
       "\\item 38\n",
       "\\item 10\n",
       "\\item 40\n",
       "\\item 83\n",
       "\\end{enumerate*}\n"
      ],
      "text/markdown": [
       "1. 65\n",
       "2. 25\n",
       "3. 74\n",
       "4. 18\n",
       "5. 100\n",
       "6. 47\n",
       "7. 24\n",
       "8. 71\n",
       "9. 89\n",
       "10. 37\n",
       "11. 20\n",
       "12. 26\n",
       "13. 3\n",
       "14. 41\n",
       "15. 27\n",
       "16. 36\n",
       "17. 5\n",
       "18. 34\n",
       "19. 87\n",
       "20. 58\n",
       "21. 42\n",
       "22. 93\n",
       "23. 30\n",
       "24. 43\n",
       "25. 15\n",
       "26. 22\n",
       "27. 80\n",
       "28. 8\n",
       "29. 84\n",
       "30. 68\n",
       "31. 96\n",
       "32. 4\n",
       "33. 50\n",
       "34. 95\n",
       "35. 88\n",
       "36. 67\n",
       "37. 6\n",
       "38. 63\n",
       "39. 2\n",
       "40. 52\n",
       "41. 81\n",
       "42. 54\n",
       "43. 21\n",
       "44. 61\n",
       "45. 55\n",
       "46. 38\n",
       "47. 10\n",
       "48. 40\n",
       "49. 83\n",
       "\n",
       "\n"
      ],
      "text/plain": [
       " [1]  65  25  74  18 100  47  24  71  89  37  20  26   3  41  27  36   5  34  87\n",
       "[20]  58  42  93  30  43  15  22  80   8  84  68  96   4  50  95  88  67   6  63\n",
       "[39]   2  52  81  54  21  61  55  38  10  40  83"
      ]
     },
     "metadata": {},
     "output_type": "display_data"
    }
   ],
   "source": [
    "# вектор без первого элемента\n",
    "x[-1]"
   ]
  },
  {
   "cell_type": "code",
   "execution_count": 41,
   "id": "6e987c26",
   "metadata": {
    "collapsed": true,
    "jupyter": {
     "outputs_hidden": true
    },
    "tags": []
   },
   "outputs": [
    {
     "data": {
      "text/html": [
       "<ol class=list-inline>\n",
       "\t<li>49</li>\n",
       "\t<li>65</li>\n",
       "\t<li>25</li>\n",
       "\t<li>74</li>\n",
       "\t<li>18</li>\n",
       "\t<li>100</li>\n",
       "\t<li>47</li>\n",
       "\t<li>24</li>\n",
       "\t<li>71</li>\n",
       "\t<li>89</li>\n",
       "\t<li>37</li>\n",
       "\t<li>20</li>\n",
       "\t<li>26</li>\n",
       "\t<li>3</li>\n",
       "\t<li>41</li>\n",
       "\t<li>27</li>\n",
       "\t<li>36</li>\n",
       "\t<li>5</li>\n",
       "\t<li>34</li>\n",
       "\t<li>87</li>\n",
       "\t<li>58</li>\n",
       "\t<li>42</li>\n",
       "\t<li>93</li>\n",
       "\t<li>30</li>\n",
       "\t<li>43</li>\n",
       "\t<li>15</li>\n",
       "\t<li>22</li>\n",
       "\t<li>80</li>\n",
       "\t<li>8</li>\n",
       "\t<li>84</li>\n",
       "\t<li>68</li>\n",
       "\t<li>96</li>\n",
       "\t<li>4</li>\n",
       "\t<li>50</li>\n",
       "\t<li>95</li>\n",
       "\t<li>88</li>\n",
       "\t<li>67</li>\n",
       "\t<li>6</li>\n",
       "\t<li>63</li>\n",
       "\t<li>2</li>\n",
       "\t<li>52</li>\n",
       "\t<li>81</li>\n",
       "\t<li>54</li>\n",
       "\t<li>21</li>\n",
       "\t<li>61</li>\n",
       "\t<li>55</li>\n",
       "\t<li>38</li>\n",
       "\t<li>10</li>\n",
       "\t<li>40</li>\n",
       "</ol>\n"
      ],
      "text/latex": [
       "\\begin{enumerate*}\n",
       "\\item 49\n",
       "\\item 65\n",
       "\\item 25\n",
       "\\item 74\n",
       "\\item 18\n",
       "\\item 100\n",
       "\\item 47\n",
       "\\item 24\n",
       "\\item 71\n",
       "\\item 89\n",
       "\\item 37\n",
       "\\item 20\n",
       "\\item 26\n",
       "\\item 3\n",
       "\\item 41\n",
       "\\item 27\n",
       "\\item 36\n",
       "\\item 5\n",
       "\\item 34\n",
       "\\item 87\n",
       "\\item 58\n",
       "\\item 42\n",
       "\\item 93\n",
       "\\item 30\n",
       "\\item 43\n",
       "\\item 15\n",
       "\\item 22\n",
       "\\item 80\n",
       "\\item 8\n",
       "\\item 84\n",
       "\\item 68\n",
       "\\item 96\n",
       "\\item 4\n",
       "\\item 50\n",
       "\\item 95\n",
       "\\item 88\n",
       "\\item 67\n",
       "\\item 6\n",
       "\\item 63\n",
       "\\item 2\n",
       "\\item 52\n",
       "\\item 81\n",
       "\\item 54\n",
       "\\item 21\n",
       "\\item 61\n",
       "\\item 55\n",
       "\\item 38\n",
       "\\item 10\n",
       "\\item 40\n",
       "\\end{enumerate*}\n"
      ],
      "text/markdown": [
       "1. 49\n",
       "2. 65\n",
       "3. 25\n",
       "4. 74\n",
       "5. 18\n",
       "6. 100\n",
       "7. 47\n",
       "8. 24\n",
       "9. 71\n",
       "10. 89\n",
       "11. 37\n",
       "12. 20\n",
       "13. 26\n",
       "14. 3\n",
       "15. 41\n",
       "16. 27\n",
       "17. 36\n",
       "18. 5\n",
       "19. 34\n",
       "20. 87\n",
       "21. 58\n",
       "22. 42\n",
       "23. 93\n",
       "24. 30\n",
       "25. 43\n",
       "26. 15\n",
       "27. 22\n",
       "28. 80\n",
       "29. 8\n",
       "30. 84\n",
       "31. 68\n",
       "32. 96\n",
       "33. 4\n",
       "34. 50\n",
       "35. 95\n",
       "36. 88\n",
       "37. 67\n",
       "38. 6\n",
       "39. 63\n",
       "40. 2\n",
       "41. 52\n",
       "42. 81\n",
       "43. 54\n",
       "44. 21\n",
       "45. 61\n",
       "46. 55\n",
       "47. 38\n",
       "48. 10\n",
       "49. 40\n",
       "\n",
       "\n"
      ],
      "text/plain": [
       " [1]  49  65  25  74  18 100  47  24  71  89  37  20  26   3  41  27  36   5  34\n",
       "[20]  87  58  42  93  30  43  15  22  80   8  84  68  96   4  50  95  88  67   6\n",
       "[39]  63   2  52  81  54  21  61  55  38  10  40"
      ]
     },
     "metadata": {},
     "output_type": "display_data"
    }
   ],
   "source": [
    "# вектор без последнего элемента\n",
    "x[-length(x)]"
   ]
  },
  {
   "cell_type": "code",
   "execution_count": 42,
   "id": "ce235ab8",
   "metadata": {
    "collapsed": true,
    "jupyter": {
     "outputs_hidden": true
    },
    "tags": []
   },
   "outputs": [
    {
     "data": {
      "text/html": [
       "<ol class=list-inline>\n",
       "\t<li>16</li>\n",
       "\t<li>-40</li>\n",
       "\t<li>49</li>\n",
       "\t<li>-56</li>\n",
       "\t<li>82</li>\n",
       "\t<li>-53</li>\n",
       "\t<li>-23</li>\n",
       "\t<li>47</li>\n",
       "\t<li>18</li>\n",
       "\t<li>-52</li>\n",
       "\t<li>-17</li>\n",
       "\t<li>6</li>\n",
       "\t<li>-23</li>\n",
       "\t<li>38</li>\n",
       "\t<li>-14</li>\n",
       "\t<li>9</li>\n",
       "\t<li>-31</li>\n",
       "\t<li>29</li>\n",
       "\t<li>53</li>\n",
       "\t<li>-29</li>\n",
       "\t<li>-16</li>\n",
       "\t<li>51</li>\n",
       "\t<li>-63</li>\n",
       "\t<li>13</li>\n",
       "\t<li>-28</li>\n",
       "\t<li>7</li>\n",
       "\t<li>58</li>\n",
       "\t<li>-72</li>\n",
       "\t<li>76</li>\n",
       "\t<li>-16</li>\n",
       "\t<li>28</li>\n",
       "\t<li>-92</li>\n",
       "\t<li>46</li>\n",
       "\t<li>45</li>\n",
       "\t<li>-7</li>\n",
       "\t<li>-21</li>\n",
       "\t<li>-61</li>\n",
       "\t<li>57</li>\n",
       "\t<li>-61</li>\n",
       "\t<li>50</li>\n",
       "\t<li>29</li>\n",
       "\t<li>-27</li>\n",
       "\t<li>-33</li>\n",
       "\t<li>40</li>\n",
       "\t<li>-6</li>\n",
       "\t<li>-17</li>\n",
       "\t<li>-28</li>\n",
       "\t<li>30</li>\n",
       "\t<li>43</li>\n",
       "</ol>\n"
      ],
      "text/latex": [
       "\\begin{enumerate*}\n",
       "\\item 16\n",
       "\\item -40\n",
       "\\item 49\n",
       "\\item -56\n",
       "\\item 82\n",
       "\\item -53\n",
       "\\item -23\n",
       "\\item 47\n",
       "\\item 18\n",
       "\\item -52\n",
       "\\item -17\n",
       "\\item 6\n",
       "\\item -23\n",
       "\\item 38\n",
       "\\item -14\n",
       "\\item 9\n",
       "\\item -31\n",
       "\\item 29\n",
       "\\item 53\n",
       "\\item -29\n",
       "\\item -16\n",
       "\\item 51\n",
       "\\item -63\n",
       "\\item 13\n",
       "\\item -28\n",
       "\\item 7\n",
       "\\item 58\n",
       "\\item -72\n",
       "\\item 76\n",
       "\\item -16\n",
       "\\item 28\n",
       "\\item -92\n",
       "\\item 46\n",
       "\\item 45\n",
       "\\item -7\n",
       "\\item -21\n",
       "\\item -61\n",
       "\\item 57\n",
       "\\item -61\n",
       "\\item 50\n",
       "\\item 29\n",
       "\\item -27\n",
       "\\item -33\n",
       "\\item 40\n",
       "\\item -6\n",
       "\\item -17\n",
       "\\item -28\n",
       "\\item 30\n",
       "\\item 43\n",
       "\\end{enumerate*}\n"
      ],
      "text/markdown": [
       "1. 16\n",
       "2. -40\n",
       "3. 49\n",
       "4. -56\n",
       "5. 82\n",
       "6. -53\n",
       "7. -23\n",
       "8. 47\n",
       "9. 18\n",
       "10. -52\n",
       "11. -17\n",
       "12. 6\n",
       "13. -23\n",
       "14. 38\n",
       "15. -14\n",
       "16. 9\n",
       "17. -31\n",
       "18. 29\n",
       "19. 53\n",
       "20. -29\n",
       "21. -16\n",
       "22. 51\n",
       "23. -63\n",
       "24. 13\n",
       "25. -28\n",
       "26. 7\n",
       "27. 58\n",
       "28. -72\n",
       "29. 76\n",
       "30. -16\n",
       "31. 28\n",
       "32. -92\n",
       "33. 46\n",
       "34. 45\n",
       "35. -7\n",
       "36. -21\n",
       "37. -61\n",
       "38. 57\n",
       "39. -61\n",
       "40. 50\n",
       "41. 29\n",
       "42. -27\n",
       "43. -33\n",
       "44. 40\n",
       "45. -6\n",
       "46. -17\n",
       "47. -28\n",
       "48. 30\n",
       "49. 43\n",
       "\n",
       "\n"
      ],
      "text/plain": [
       " [1]  16 -40  49 -56  82 -53 -23  47  18 -52 -17   6 -23  38 -14   9 -31  29  53\n",
       "[20] -29 -16  51 -63  13 -28   7  58 -72  76 -16  28 -92  46  45  -7 -21 -61  57\n",
       "[39] -61  50  29 -27 -33  40  -6 -17 -28  30  43"
      ]
     },
     "metadata": {},
     "output_type": "display_data"
    }
   ],
   "source": [
    "# получение поарных разниц\n",
    "x[-1] - x[-length(x)]"
   ]
  },
  {
   "cell_type": "code",
   "execution_count": 44,
   "id": "2d97bec9",
   "metadata": {},
   "outputs": [
    {
     "data": {
      "text/html": [
       "<ol class=list-inline>\n",
       "\t<li>96</li>\n",
       "\t<li>4</li>\n",
       "</ol>\n"
      ],
      "text/latex": [
       "\\begin{enumerate*}\n",
       "\\item 96\n",
       "\\item 4\n",
       "\\end{enumerate*}\n"
      ],
      "text/markdown": [
       "1. 96\n",
       "2. 4\n",
       "\n",
       "\n"
      ],
      "text/plain": [
       "[1] 96  4"
      ]
     },
     "metadata": {},
     "output_type": "display_data"
    }
   ],
   "source": [
    "# находим индексы максимума в векторе разниц\n",
    "m <- which.max(abs(x[-1] - x[-length(x)]))\n",
    "# находим два числа в исходном векторе\n",
    "x[c(m, m + 1)]"
   ]
  },
  {
   "cell_type": "code",
   "execution_count": 137,
   "id": "769bcd53",
   "metadata": {},
   "outputs": [
    {
     "data": {
      "text/html": [
       "2"
      ],
      "text/latex": [
       "2"
      ],
      "text/markdown": [
       "2"
      ],
      "text/plain": [
       "[1] 2"
      ]
     },
     "metadata": {},
     "output_type": "display_data"
    },
    {
     "data": {
      "text/html": [
       "16"
      ],
      "text/latex": [
       "16"
      ],
      "text/markdown": [
       "16"
      ],
      "text/plain": [
       "[1] 16"
      ]
     },
     "metadata": {},
     "output_type": "display_data"
    },
    {
     "data": {
      "text/html": [
       "<ol class=list-inline>\n",
       "\t<li>16</li>\n",
       "\t<li>36</li>\n",
       "</ol>\n"
      ],
      "text/latex": [
       "\\begin{enumerate*}\n",
       "\\item 16\n",
       "\\item 36\n",
       "\\end{enumerate*}\n"
      ],
      "text/markdown": [
       "1. 16\n",
       "2. 36\n",
       "\n",
       "\n"
      ],
      "text/plain": [
       "[1] 16 36"
      ]
     },
     "metadata": {},
     "output_type": "display_data"
    }
   ],
   "source": [
    "# выборка с повторениясми значениями\n",
    "x <- sample(1:100, 50, replace = T)\n",
    "min(x)\n",
    "which.min(x)\n",
    "which(x == min(x))"
   ]
  },
  {
   "cell_type": "code",
   "execution_count": 155,
   "id": "84f50335",
   "metadata": {},
   "outputs": [],
   "source": [
    "maxdiff <- function(x) {\n",
    "    y <- abs(x[-1] - x[-length(x)])\n",
    "    k <- which(y == max(y))\n",
    "    print(\"First neighbor(s):\")\n",
    "    print(x[k])\n",
    "    print(\"Second neighbor(s):\")\n",
    "    print(x[k + 1])\n",
    "    print(\"Maximum absolute diff is:\")\n",
    "    print(max(y))\n",
    "}"
   ]
  },
  {
   "cell_type": "code",
   "execution_count": 159,
   "id": "4c884cc0",
   "metadata": {},
   "outputs": [],
   "source": [
    "x2 <- sample(1:100, 1e4, replace = T)"
   ]
  },
  {
   "cell_type": "code",
   "execution_count": 160,
   "id": "7147729d",
   "metadata": {},
   "outputs": [
    {
     "name": "stdout",
     "output_type": "stream",
     "text": [
      "[1] \"First neighbor(s):\"\n",
      "[1]  99   2 100   2 100   1 100   2\n",
      "[1] \"Second neighbor(s):\"\n",
      "[1]   1 100   2 100   2  99   2 100\n",
      "[1] \"Maximum absolute diff is:\"\n",
      "[1] 98\n"
     ]
    }
   ],
   "source": [
    "maxdiff(x)"
   ]
  },
  {
   "cell_type": "code",
   "execution_count": 205,
   "id": "8e4b4752",
   "metadata": {},
   "outputs": [],
   "source": [
    "x <- c(0, 0, 3)\n",
    "x2 <- rev(x)\n",
    "x3 <- c(0, -1, 3, 4, 4, 8)\n",
    "x4 <- rev(x3)"
   ]
  },
  {
   "cell_type": "code",
   "execution_count": 164,
   "id": "619bc5fe",
   "metadata": {},
   "outputs": [],
   "source": [
    "is_monotone <- function(x) {\n",
    "    y <- (x[-1]-x[-length(x)])\n",
    "    if (all(y >= 0) || all(y <= 0)) {\n",
    "        return(TRUE)\n",
    "    }else {\n",
    "        return(FALSE)\n",
    "    }\n",
    "}"
   ]
  },
  {
   "cell_type": "code",
   "execution_count": 174,
   "id": "f2d108d5",
   "metadata": {},
   "outputs": [
    {
     "data": {
      "text/html": [
       "FALSE"
      ],
      "text/latex": [
       "FALSE"
      ],
      "text/markdown": [
       "FALSE"
      ],
      "text/plain": [
       "[1] FALSE"
      ]
     },
     "metadata": {},
     "output_type": "display_data"
    }
   ],
   "source": [
    "is_monotone(x4)"
   ]
  },
  {
   "cell_type": "code",
   "execution_count": 196,
   "id": "cad8cbea",
   "metadata": {},
   "outputs": [],
   "source": [
    "names(x) <- c('1', '2', '3')"
   ]
  },
  {
   "cell_type": "code",
   "execution_count": 197,
   "id": "d57ed744",
   "metadata": {},
   "outputs": [
    {
     "data": {
      "text/html": [
       "<dl class=dl-horizontal>\n",
       "\t<dt>1</dt>\n",
       "\t\t<dd>0</dd>\n",
       "\t<dt>2</dt>\n",
       "\t\t<dd>0</dd>\n",
       "\t<dt>3</dt>\n",
       "\t\t<dd>3</dd>\n",
       "</dl>\n"
      ],
      "text/latex": [
       "\\begin{description*}\n",
       "\\item[1] 0\n",
       "\\item[2] 0\n",
       "\\item[3] 3\n",
       "\\end{description*}\n"
      ],
      "text/markdown": [
       "1\n",
       ":   02\n",
       ":   03\n",
       ":   3\n",
       "\n"
      ],
      "text/plain": [
       "1 2 3 \n",
       "0 0 3 "
      ]
     },
     "metadata": {},
     "output_type": "display_data"
    }
   ],
   "source": [
    "x"
   ]
  },
  {
   "cell_type": "code",
   "execution_count": 199,
   "id": "a1f649e1",
   "metadata": {},
   "outputs": [
    {
     "data": {
      "text/html": [
       "<dl class=dl-horizontal>\n",
       "\t<dt>1</dt>\n",
       "\t\t<dd>0</dd>\n",
       "\t<dt>2</dt>\n",
       "\t\t<dd>0</dd>\n",
       "\t<dt>3</dt>\n",
       "\t\t<dd>3</dd>\n",
       "\t<dt>4</dt>\n",
       "\t\t<dd>&lt;NA&gt;</dd>\n",
       "</dl>\n"
      ],
      "text/latex": [
       "\\begin{description*}\n",
       "\\item[1] 0\n",
       "\\item[2] 0\n",
       "\\item[3] 3\n",
       "\\item[4] <NA>\n",
       "\\end{description*}\n"
      ],
      "text/markdown": [
       "1\n",
       ":   02\n",
       ":   03\n",
       ":   34\n",
       ":   &lt;NA&gt;\n",
       "\n"
      ],
      "text/plain": [
       "   1    2    3 <NA> \n",
       "   0    0    3   NA "
      ]
     },
     "metadata": {},
     "output_type": "display_data"
    }
   ],
   "source": [
    "x[c('1', '2', '3', '4')]"
   ]
  },
  {
   "cell_type": "code",
   "execution_count": 188,
   "id": "7e528130",
   "metadata": {},
   "outputs": [
    {
     "data": {
      "text/html": [
       "<dl class=dl-horizontal>\n",
       "\t<dt>1</dt>\n",
       "\t\t<dd>0</dd>\n",
       "\t<dt>2</dt>\n",
       "\t\t<dd>0</dd>\n",
       "\t<dt>3</dt>\n",
       "\t\t<dd>3</dd>\n",
       "\t<dt>4</dt>\n",
       "\t\t<dd>&lt;NA&gt;</dd>\n",
       "\t<dt>5</dt>\n",
       "\t\t<dd>&lt;NA&gt;</dd>\n",
       "\t<dt>6</dt>\n",
       "\t\t<dd>&lt;NA&gt;</dd>\n",
       "\t<dt>7</dt>\n",
       "\t\t<dd>&lt;NA&gt;</dd>\n",
       "\t<dt>8</dt>\n",
       "\t\t<dd>&lt;NA&gt;</dd>\n",
       "</dl>\n"
      ],
      "text/latex": [
       "\\begin{description*}\n",
       "\\item[1] 0\n",
       "\\item[2] 0\n",
       "\\item[3] 3\n",
       "\\item[4] <NA>\n",
       "\\item[5] <NA>\n",
       "\\item[6] <NA>\n",
       "\\item[7] <NA>\n",
       "\\item[8] <NA>\n",
       "\\end{description*}\n"
      ],
      "text/markdown": [
       "1\n",
       ":   02\n",
       ":   03\n",
       ":   34\n",
       ":   &lt;NA&gt;5\n",
       ":   &lt;NA&gt;6\n",
       ":   &lt;NA&gt;7\n",
       ":   &lt;NA&gt;8\n",
       ":   &lt;NA&gt;\n",
       "\n"
      ],
      "text/plain": [
       "   1    2    3 <NA> <NA> <NA> <NA> <NA> \n",
       "   0    0    3   NA   NA   NA   NA   NA "
      ]
     },
     "metadata": {},
     "output_type": "display_data"
    }
   ],
   "source": [
    "x[c(1,2,3,4,5,6,7,8)]"
   ]
  },
  {
   "cell_type": "code",
   "execution_count": 203,
   "id": "29072da9",
   "metadata": {},
   "outputs": [
    {
     "data": {
      "text/html": [
       "<dl class=dl-horizontal>\n",
       "\t<dt>1</dt>\n",
       "\t\t<dd>0</dd>\n",
       "\t<dt>2</dt>\n",
       "\t\t<dd>0</dd>\n",
       "\t<dt>3</dt>\n",
       "\t\t<dd>3</dd>\n",
       "</dl>\n"
      ],
      "text/latex": [
       "\\begin{description*}\n",
       "\\item[1] 0\n",
       "\\item[2] 0\n",
       "\\item[3] 3\n",
       "\\end{description*}\n"
      ],
      "text/markdown": [
       "1\n",
       ":   02\n",
       ":   03\n",
       ":   3\n",
       "\n"
      ],
      "text/plain": [
       "1 2 3 \n",
       "0 0 3 "
      ]
     },
     "metadata": {},
     "output_type": "display_data"
    }
   ],
   "source": [
    "x[c(T)]"
   ]
  },
  {
   "cell_type": "code",
   "execution_count": 182,
   "id": "0587ca3d",
   "metadata": {},
   "outputs": [
    {
     "data": {
      "text/html": [
       "<strong>NA:</strong> &lt;NA&gt;"
      ],
      "text/latex": [
       "\\textbf{NA:} <NA>"
      ],
      "text/markdown": [
       "**NA:** &lt;NA&gt;"
      ],
      "text/plain": [
       "<NA> \n",
       "  NA "
      ]
     },
     "metadata": {},
     "output_type": "display_data"
    }
   ],
   "source": [
    "x[10]"
   ]
  },
  {
   "cell_type": "code",
   "execution_count": 214,
   "id": "210c98e2",
   "metadata": {},
   "outputs": [
    {
     "data": {
      "text/html": [
       "TRUE"
      ],
      "text/latex": [
       "TRUE"
      ],
      "text/markdown": [
       "TRUE"
      ],
      "text/plain": [
       "[1] TRUE"
      ]
     },
     "metadata": {},
     "output_type": "display_data"
    }
   ],
   "source": [
    "FALSE == FALSE"
   ]
  },
  {
   "cell_type": "code",
   "execution_count": 226,
   "id": "d14ee139",
   "metadata": {},
   "outputs": [],
   "source": [
    "combin_count <- function(n, k, with_repretitions = FALSE) {\n",
    "    if (with_repretitions == FALSE) {\n",
    "        return(factorial(n)/(factorial(k) * factorial(n - k)))\n",
    "    }else if (with_repretitions == TRUE) {\n",
    "        return(factorial(n+k-1)/(factorial(k)*factorial(n-1)))\n",
    "    }\n",
    "\n",
    "}"
   ]
  },
  {
   "cell_type": "code",
   "execution_count": 228,
   "id": "e0716c56",
   "metadata": {},
   "outputs": [
    {
     "data": {
      "text/html": [
       "10"
      ],
      "text/latex": [
       "10"
      ],
      "text/markdown": [
       "10"
      ],
      "text/plain": [
       "[1] 10"
      ]
     },
     "metadata": {},
     "output_type": "display_data"
    }
   ],
   "source": [
    "combin_count(5, 3)"
   ]
  },
  {
   "cell_type": "raw",
   "id": "073c7059",
   "metadata": {},
   "source": [
    "Общий глоссарий для этого урока:\n",
    "\n",
    "Recycling rules\n",
    "?\"+\", ?Arithmetic, ?\"[\"\n",
    "?all, ?any\n",
    "?which, ?which.min, ?which.max\n",
    "?attributes\n",
    "?sample, ?runif"
   ]
  }
 ],
 "metadata": {
  "kernelspec": {
   "display_name": "R",
   "language": "R",
   "name": "ir"
  },
  "language_info": {
   "codemirror_mode": "r",
   "file_extension": ".r",
   "mimetype": "text/x-r-source",
   "name": "R",
   "pygments_lexer": "r",
   "version": "3.6.1"
  }
 },
 "nbformat": 4,
 "nbformat_minor": 5
}
