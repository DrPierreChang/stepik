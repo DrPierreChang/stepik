{
 "cells": [
  {
   "cell_type": "code",
   "execution_count": 3,
   "id": "9474aaf9",
   "metadata": {},
   "outputs": [],
   "source": [
    "# вызов справки по конкретной функции\n",
    "#help(\"sin\")"
   ]
  },
  {
   "cell_type": "code",
   "execution_count": 5,
   "id": "2111b426",
   "metadata": {},
   "outputs": [],
   "source": [
    "# одинарные и двойные кавычки равнозначны\n",
    "#help('sin')"
   ]
  },
  {
   "cell_type": "code",
   "execution_count": 7,
   "id": "5e20a565",
   "metadata": {},
   "outputs": [],
   "source": [
    "# для некоторых функций можно не указывать имя в кавычках\n",
    "#help(sin)"
   ]
  },
  {
   "cell_type": "code",
   "execution_count": 9,
   "id": "35cf0695",
   "metadata": {},
   "outputs": [],
   "source": [
    "# можно использовать \"?\"\n",
    "#?sin"
   ]
  },
  {
   "cell_type": "code",
   "execution_count": 12,
   "id": "2b19874c",
   "metadata": {},
   "outputs": [],
   "source": [
    "# справку по ключевым словам нужно всегда указывать в кавычках\n",
    "#?'for'"
   ]
  },
  {
   "cell_type": "code",
   "execution_count": 14,
   "id": "1b57b082",
   "metadata": {},
   "outputs": [],
   "source": [
    "# справка по использованию справки\n",
    "#?'?'"
   ]
  },
  {
   "cell_type": "code",
   "execution_count": null,
   "id": "4997d1d9",
   "metadata": {},
   "outputs": [],
   "source": [
    "## вместо help.search(''something) можно использовать ??'something'"
   ]
  },
  {
   "cell_type": "code",
   "execution_count": 29,
   "id": "7e8b900b",
   "metadata": {},
   "outputs": [
    {
     "data": {
      "text/html": [
       "0.5"
      ],
      "text/latex": [
       "0.5"
      ],
      "text/markdown": [
       "0.5"
      ],
      "text/plain": [
       "[1] 0.5"
      ]
     },
     "metadata": {},
     "output_type": "display_data"
    }
   ],
   "source": [
    "sin(pi/6)"
   ]
  },
  {
   "cell_type": "code",
   "execution_count": 32,
   "id": "f0e4378d",
   "metadata": {},
   "outputs": [
    {
     "data": {
      "text/html": [
       "<ol class=list-inline>\n",
       "\t<li>'cats'</li>\n",
       "\t<li>'dogs'</li>\n",
       "\t<li>'pets'</li>\n",
       "</ol>\n"
      ],
      "text/latex": [
       "\\begin{enumerate*}\n",
       "\\item 'cats'\n",
       "\\item 'dogs'\n",
       "\\item 'pets'\n",
       "\\end{enumerate*}\n"
      ],
      "text/markdown": [
       "1. 'cats'\n",
       "2. 'dogs'\n",
       "3. 'pets'\n",
       "\n",
       "\n"
      ],
      "text/plain": [
       "[1] \"cats\" \"dogs\" \"pets\""
      ]
     },
     "metadata": {},
     "output_type": "display_data"
    }
   ],
   "source": [
    "# посмотреть переменные глобального окружения\n",
    "cats <- 5\n",
    "dogs <- 2\n",
    "pets <- cats + dogs\n",
    "ls()"
   ]
  },
  {
   "cell_type": "code",
   "execution_count": 36,
   "id": "aa2849fb",
   "metadata": {},
   "outputs": [
    {
     "data": {
      "text/html": [
       "<ol class=list-inline>\n",
       "\t<li>0.9655377881886</li>\n",
       "\t<li>-0.207873062082001</li>\n",
       "\t<li>-0.783862196692015</li>\n",
       "\t<li>-0.844091133262596</li>\n",
       "\t<li>-0.778403381798316</li>\n",
       "\t<li>-0.263277879330258</li>\n",
       "\t<li>-0.0861189524451706</li>\n",
       "\t<li>0.149348218341779</li>\n",
       "\t<li>-0.649160663533857</li>\n",
       "\t<li>0.219021595893357</li>\n",
       "\t<li>1.70975770209111</li>\n",
       "\t<li>-0.983131177957034</li>\n",
       "\t<li>0.162654938258938</li>\n",
       "\t<li>1.23584958610898</li>\n",
       "\t<li>-0.182362849324866</li>\n",
       "</ol>\n"
      ],
      "text/latex": [
       "\\begin{enumerate*}\n",
       "\\item 0.9655377881886\n",
       "\\item -0.207873062082001\n",
       "\\item -0.783862196692015\n",
       "\\item -0.844091133262596\n",
       "\\item -0.778403381798316\n",
       "\\item -0.263277879330258\n",
       "\\item -0.0861189524451706\n",
       "\\item 0.149348218341779\n",
       "\\item -0.649160663533857\n",
       "\\item 0.219021595893357\n",
       "\\item 1.70975770209111\n",
       "\\item -0.983131177957034\n",
       "\\item 0.162654938258938\n",
       "\\item 1.23584958610898\n",
       "\\item -0.182362849324866\n",
       "\\end{enumerate*}\n"
      ],
      "text/markdown": [
       "1. 0.9655377881886\n",
       "2. -0.207873062082001\n",
       "3. -0.783862196692015\n",
       "4. -0.844091133262596\n",
       "5. -0.778403381798316\n",
       "6. -0.263277879330258\n",
       "7. -0.0861189524451706\n",
       "8. 0.149348218341779\n",
       "9. -0.649160663533857\n",
       "10. 0.219021595893357\n",
       "11. 1.70975770209111\n",
       "12. -0.983131177957034\n",
       "13. 0.162654938258938\n",
       "14. 1.23584958610898\n",
       "15. -0.182362849324866\n",
       "\n",
       "\n"
      ],
      "text/plain": [
       " [1]  0.96553779 -0.20787306 -0.78386220 -0.84409113 -0.77840338 -0.26327788\n",
       " [7] -0.08611895  0.14934822 -0.64916066  0.21902160  1.70975770 -0.98313118\n",
       "[13]  0.16265494  1.23584959 -0.18236285"
      ]
     },
     "metadata": {},
     "output_type": "display_data"
    }
   ],
   "source": [
    "# генерация случайных чисел из нормального распределения\n",
    "rnorm(15)"
   ]
  },
  {
   "cell_type": "code",
   "execution_count": 38,
   "id": "fc0c848a",
   "metadata": {},
   "outputs": [
    {
     "data": {
      "text/html": [
       "<ol class=list-inline>\n",
       "\t<li>-0.457432402430092</li>\n",
       "\t<li>0.844597445989441</li>\n",
       "\t<li>-1.08613573336672</li>\n",
       "\t<li>7.7616940201809</li>\n",
       "\t<li>6.64076683457426</li>\n",
       "\t<li>3.83786740296413</li>\n",
       "\t<li>7.03607425835184</li>\n",
       "\t<li>5.36314926800197</li>\n",
       "\t<li>3.61352077077488</li>\n",
       "\t<li>5.46285071199641</li>\n",
       "\t<li>5.58958325831886</li>\n",
       "\t<li>6.31465415572929</li>\n",
       "\t<li>5.34922553649224</li>\n",
       "\t<li>-0.0774836061273732</li>\n",
       "\t<li>4.25352107143598</li>\n",
       "</ol>\n"
      ],
      "text/latex": [
       "\\begin{enumerate*}\n",
       "\\item -0.457432402430092\n",
       "\\item 0.844597445989441\n",
       "\\item -1.08613573336672\n",
       "\\item 7.7616940201809\n",
       "\\item 6.64076683457426\n",
       "\\item 3.83786740296413\n",
       "\\item 7.03607425835184\n",
       "\\item 5.36314926800197\n",
       "\\item 3.61352077077488\n",
       "\\item 5.46285071199641\n",
       "\\item 5.58958325831886\n",
       "\\item 6.31465415572929\n",
       "\\item 5.34922553649224\n",
       "\\item -0.0774836061273732\n",
       "\\item 4.25352107143598\n",
       "\\end{enumerate*}\n"
      ],
      "text/markdown": [
       "1. -0.457432402430092\n",
       "2. 0.844597445989441\n",
       "3. -1.08613573336672\n",
       "4. 7.7616940201809\n",
       "5. 6.64076683457426\n",
       "6. 3.83786740296413\n",
       "7. 7.03607425835184\n",
       "8. 5.36314926800197\n",
       "9. 3.61352077077488\n",
       "10. 5.46285071199641\n",
       "11. 5.58958325831886\n",
       "12. 6.31465415572929\n",
       "13. 5.34922553649224\n",
       "14. -0.0774836061273732\n",
       "15. 4.25352107143598\n",
       "\n",
       "\n"
      ],
      "text/plain": [
       " [1] -0.45743240  0.84459745 -1.08613573  7.76169402  6.64076683  3.83786740\n",
       " [7]  7.03607426  5.36314927  3.61352077  5.46285071  5.58958326  6.31465416\n",
       "[13]  5.34922554 -0.07748361  4.25352107"
      ]
     },
     "metadata": {},
     "output_type": "display_data"
    }
   ],
   "source": [
    "# можно уквзать вргументы\n",
    "rnorm(15, mean = 5, sd = 3)"
   ]
  },
  {
   "cell_type": "code",
   "execution_count": 52,
   "id": "e2e4d432",
   "metadata": {},
   "outputs": [],
   "source": [
    "# создание собственной функции\n",
    "returntwo <- function(x) {\n",
    "    x <- x  * 2\n",
    "    return(x)\n",
    "}"
   ]
  },
  {
   "cell_type": "code",
   "execution_count": 53,
   "id": "85fb9dc9",
   "metadata": {},
   "outputs": [
    {
     "data": {
      "text/html": [
       "24"
      ],
      "text/latex": [
       "24"
      ],
      "text/markdown": [
       "24"
      ],
      "text/plain": [
       "[1] 24"
      ]
     },
     "metadata": {},
     "output_type": "display_data"
    }
   ],
   "source": [
    "returntwo(12)"
   ]
  },
  {
   "cell_type": "code",
   "execution_count": 74,
   "id": "3db127f2",
   "metadata": {},
   "outputs": [],
   "source": [
    "# оператор глобального присваивания\n",
    "dogs = 5\n",
    "addten <- function(dogs) {\n",
    "    moredogs <<- dogs + 10\n",
    "}"
   ]
  },
  {
   "cell_type": "code",
   "execution_count": 55,
   "id": "f62f4075",
   "metadata": {},
   "outputs": [],
   "source": [
    "addten(dogs)"
   ]
  },
  {
   "cell_type": "code",
   "execution_count": 56,
   "id": "e11a35a3",
   "metadata": {},
   "outputs": [
    {
     "data": {
      "text/html": [
       "15"
      ],
      "text/latex": [
       "15"
      ],
      "text/markdown": [
       "15"
      ],
      "text/plain": [
       "[1] 15"
      ]
     },
     "metadata": {},
     "output_type": "display_data"
    }
   ],
   "source": [
    "moredogs"
   ]
  },
  {
   "cell_type": "code",
   "execution_count": 57,
   "id": "d3584c5b",
   "metadata": {},
   "outputs": [
    {
     "data": {
      "text/html": [
       "<ol class=list-inline>\n",
       "\t<li>'addten'</li>\n",
       "\t<li>'cats'</li>\n",
       "\t<li>'dogs'</li>\n",
       "\t<li>'moredogs'</li>\n",
       "\t<li>'pets'</li>\n",
       "\t<li>'returntwo'</li>\n",
       "</ol>\n"
      ],
      "text/latex": [
       "\\begin{enumerate*}\n",
       "\\item 'addten'\n",
       "\\item 'cats'\n",
       "\\item 'dogs'\n",
       "\\item 'moredogs'\n",
       "\\item 'pets'\n",
       "\\item 'returntwo'\n",
       "\\end{enumerate*}\n"
      ],
      "text/markdown": [
       "1. 'addten'\n",
       "2. 'cats'\n",
       "3. 'dogs'\n",
       "4. 'moredogs'\n",
       "5. 'pets'\n",
       "6. 'returntwo'\n",
       "\n",
       "\n"
      ],
      "text/plain": [
       "[1] \"addten\"    \"cats\"      \"dogs\"      \"moredogs\"  \"pets\"      \"returntwo\""
      ]
     },
     "metadata": {},
     "output_type": "display_data"
    }
   ],
   "source": [
    "# снова проверим состояние глобального окружения\n",
    "ls()"
   ]
  },
  {
   "cell_type": "code",
   "execution_count": 62,
   "id": "77fd15c7",
   "metadata": {},
   "outputs": [],
   "source": [
    "# удаление ненужных переменных\n",
    "rm(moredogs)"
   ]
  },
  {
   "cell_type": "code",
   "execution_count": 81,
   "id": "3a112674",
   "metadata": {},
   "outputs": [
    {
     "data": {
      "text/html": [
       "<ol class=list-inline>\n",
       "\t<li>'addten'</li>\n",
       "\t<li>'dogs'</li>\n",
       "\t<li>'moredogs'</li>\n",
       "</ol>\n"
      ],
      "text/latex": [
       "\\begin{enumerate*}\n",
       "\\item 'addten'\n",
       "\\item 'dogs'\n",
       "\\item 'moredogs'\n",
       "\\end{enumerate*}\n"
      ],
      "text/markdown": [
       "1. 'addten'\n",
       "2. 'dogs'\n",
       "3. 'moredogs'\n",
       "\n",
       "\n"
      ],
      "text/plain": [
       "[1] \"addten\"   \"dogs\"     \"moredogs\""
      ]
     },
     "metadata": {},
     "output_type": "display_data"
    }
   ],
   "source": [
    "ls()"
   ]
  },
  {
   "cell_type": "code",
   "execution_count": 82,
   "id": "9e66a8fb",
   "metadata": {},
   "outputs": [],
   "source": [
    "# можно сразу избавиться от всех переменных в глобальном окржении\n",
    "rm(list = ls())"
   ]
  },
  {
   "cell_type": "code",
   "execution_count": 83,
   "id": "9e5d4696",
   "metadata": {},
   "outputs": [
    {
     "data": {
      "text/html": [],
      "text/latex": [],
      "text/markdown": [],
      "text/plain": [
       "character(0)"
      ]
     },
     "metadata": {},
     "output_type": "display_data"
    }
   ],
   "source": [
    "ls()"
   ]
  },
  {
   "cell_type": "code",
   "execution_count": 103,
   "id": "9d25b26a",
   "metadata": {},
   "outputs": [],
   "source": [
    "# глоссарий\n",
    "\n",
    "# ?help\n",
    "# ?help.search\n",
    "# ?'function'\n",
    "# ?rm\n",
    "# ?rmorm"
   ]
  },
  {
   "cell_type": "code",
   "execution_count": 102,
   "id": "914951f1",
   "metadata": {},
   "outputs": [
    {
     "data": {
      "text/html": [
       "-1"
      ],
      "text/latex": [
       "-1"
      ],
      "text/markdown": [
       "-1"
      ],
      "text/plain": [
       "[1] -1"
      ]
     },
     "metadata": {},
     "output_type": "display_data"
    }
   ],
   "source": [
    "# двоичного логарифма от квадрата синуса арктангенса единицы\n",
    "log2(sin(atan(1))^2)"
   ]
  },
  {
   "cell_type": "code",
   "execution_count": null,
   "id": "45d637c0",
   "metadata": {},
   "outputs": [],
   "source": []
  }
 ],
 "metadata": {
  "kernelspec": {
   "display_name": "R",
   "language": "R",
   "name": "ir"
  },
  "language_info": {
   "codemirror_mode": "r",
   "file_extension": ".r",
   "mimetype": "text/x-r-source",
   "name": "R",
   "pygments_lexer": "r",
   "version": "3.6.1"
  }
 },
 "nbformat": 4,
 "nbformat_minor": 5
}
