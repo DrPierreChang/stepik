{
 "cells": [
  {
   "cell_type": "code",
   "execution_count": 49,
   "id": "3d5f530b",
   "metadata": {},
   "outputs": [],
   "source": [
    "# generic функции"
   ]
  },
  {
   "cell_type": "code",
   "execution_count": 2,
   "id": "7b6dd2c1",
   "metadata": {},
   "outputs": [
    {
     "data": {
      "text/html": [
       "194"
      ],
      "text/latex": [
       "194"
      ],
      "text/markdown": [
       "194"
      ],
      "text/plain": [
       "[1] 194"
      ]
     },
     "metadata": {},
     "output_type": "display_data"
    }
   ],
   "source": [
    "length(methods(print))"
   ]
  },
  {
   "cell_type": "code",
   "execution_count": 11,
   "id": "26c7fc8b",
   "metadata": {},
   "outputs": [],
   "source": [
    "# функции без сторонних эффектов"
   ]
  },
  {
   "cell_type": "code",
   "execution_count": 4,
   "id": "ab056c2d",
   "metadata": {},
   "outputs": [],
   "source": [
    "f <- function(k) {\n",
    "    k <- k + 1\n",
    "    a <- a + k^2\n",
    "    a\n",
    "}"
   ]
  },
  {
   "cell_type": "code",
   "execution_count": 5,
   "id": "4a04921b",
   "metadata": {},
   "outputs": [],
   "source": [
    "k <- 5"
   ]
  },
  {
   "cell_type": "code",
   "execution_count": 6,
   "id": "12f66942",
   "metadata": {},
   "outputs": [
    {
     "ename": "ERROR",
     "evalue": "Error in f(k): объект 'a' не найден\n",
     "output_type": "error",
     "traceback": [
      "Error in f(k): объект 'a' не найден\nTraceback:\n",
      "1. f(k)"
     ]
    }
   ],
   "source": [
    "f(k)"
   ]
  },
  {
   "cell_type": "code",
   "execution_count": 7,
   "id": "cdbdfa6a",
   "metadata": {},
   "outputs": [],
   "source": [
    "a <- 10"
   ]
  },
  {
   "cell_type": "code",
   "execution_count": 8,
   "id": "6f35ec9f",
   "metadata": {},
   "outputs": [
    {
     "data": {
      "text/html": [
       "46"
      ],
      "text/latex": [
       "46"
      ],
      "text/markdown": [
       "46"
      ],
      "text/plain": [
       "[1] 46"
      ]
     },
     "metadata": {},
     "output_type": "display_data"
    }
   ],
   "source": [
    "f(k)"
   ]
  },
  {
   "cell_type": "code",
   "execution_count": 9,
   "id": "16aae19b",
   "metadata": {},
   "outputs": [
    {
     "data": {
      "text/html": [
       "10"
      ],
      "text/latex": [
       "10"
      ],
      "text/markdown": [
       "10"
      ],
      "text/plain": [
       "[1] 10"
      ]
     },
     "metadata": {},
     "output_type": "display_data"
    }
   ],
   "source": [
    "a"
   ]
  },
  {
   "cell_type": "code",
   "execution_count": 10,
   "id": "2c96752e",
   "metadata": {},
   "outputs": [
    {
     "data": {
      "text/html": [
       "5"
      ],
      "text/latex": [
       "5"
      ],
      "text/markdown": [
       "5"
      ],
      "text/plain": [
       "[1] 5"
      ]
     },
     "metadata": {},
     "output_type": "display_data"
    }
   ],
   "source": [
    "k"
   ]
  },
  {
   "cell_type": "code",
   "execution_count": 12,
   "id": "d2b03bbf",
   "metadata": {},
   "outputs": [],
   "source": [
    "# replicate"
   ]
  },
  {
   "cell_type": "code",
   "execution_count": 13,
   "id": "6bf9b0d6",
   "metadata": {},
   "outputs": [],
   "source": [
    "get_status <- function(n, p = 0.1) {\n",
    "    x <- rbinom(n, 1, p)\n",
    "    sum(x)\n",
    "}"
   ]
  },
  {
   "cell_type": "code",
   "execution_count": 43,
   "id": "7211a38f",
   "metadata": {},
   "outputs": [
    {
     "data": {
      "text/html": [
       "<ol class=list-inline>\n",
       "\t<li>11</li>\n",
       "\t<li>13</li>\n",
       "\t<li>10</li>\n",
       "\t<li>4</li>\n",
       "\t<li>15</li>\n",
       "</ol>\n"
      ],
      "text/latex": [
       "\\begin{enumerate*}\n",
       "\\item 11\n",
       "\\item 13\n",
       "\\item 10\n",
       "\\item 4\n",
       "\\item 15\n",
       "\\end{enumerate*}\n"
      ],
      "text/markdown": [
       "1. 11\n",
       "2. 13\n",
       "3. 10\n",
       "4. 4\n",
       "5. 15\n",
       "\n",
       "\n"
      ],
      "text/plain": [
       "[1] 11 13 10  4 15"
      ]
     },
     "metadata": {},
     "output_type": "display_data"
    }
   ],
   "source": [
    "replicate(5, get_status(100))"
   ]
  },
  {
   "cell_type": "code",
   "execution_count": 44,
   "id": "7eccb700",
   "metadata": {},
   "outputs": [],
   "source": [
    "# mapply"
   ]
  },
  {
   "cell_type": "code",
   "execution_count": 45,
   "id": "a8ff296c",
   "metadata": {},
   "outputs": [],
   "source": [
    "# многомерная версия sapply"
   ]
  },
  {
   "cell_type": "code",
   "execution_count": 46,
   "id": "3dc77713",
   "metadata": {},
   "outputs": [
    {
     "data": {
      "text/html": [
       "<ol>\n",
       "\t<li><ol class=list-inline>\n",
       "\t<li>1</li>\n",
       "\t<li>1.5</li>\n",
       "\t<li>2</li>\n",
       "</ol>\n",
       "</li>\n",
       "\t<li><ol class=list-inline>\n",
       "\t<li>2</li>\n",
       "\t<li>2.33333333333333</li>\n",
       "\t<li>2.66666666666667</li>\n",
       "\t<li>3</li>\n",
       "</ol>\n",
       "</li>\n",
       "\t<li><ol class=list-inline>\n",
       "\t<li>3</li>\n",
       "\t<li>3.25</li>\n",
       "\t<li>3.5</li>\n",
       "\t<li>3.75</li>\n",
       "\t<li>4</li>\n",
       "</ol>\n",
       "</li>\n",
       "\t<li><ol class=list-inline>\n",
       "\t<li>4</li>\n",
       "\t<li>4.2</li>\n",
       "\t<li>4.4</li>\n",
       "\t<li>4.6</li>\n",
       "\t<li>4.8</li>\n",
       "\t<li>5</li>\n",
       "</ol>\n",
       "</li>\n",
       "</ol>\n"
      ],
      "text/latex": [
       "\\begin{enumerate}\n",
       "\\item \\begin{enumerate*}\n",
       "\\item 1\n",
       "\\item 1.5\n",
       "\\item 2\n",
       "\\end{enumerate*}\n",
       "\n",
       "\\item \\begin{enumerate*}\n",
       "\\item 2\n",
       "\\item 2.33333333333333\n",
       "\\item 2.66666666666667\n",
       "\\item 3\n",
       "\\end{enumerate*}\n",
       "\n",
       "\\item \\begin{enumerate*}\n",
       "\\item 3\n",
       "\\item 3.25\n",
       "\\item 3.5\n",
       "\\item 3.75\n",
       "\\item 4\n",
       "\\end{enumerate*}\n",
       "\n",
       "\\item \\begin{enumerate*}\n",
       "\\item 4\n",
       "\\item 4.2\n",
       "\\item 4.4\n",
       "\\item 4.6\n",
       "\\item 4.8\n",
       "\\item 5\n",
       "\\end{enumerate*}\n",
       "\n",
       "\\end{enumerate}\n"
      ],
      "text/markdown": [
       "1. 1. 1\n",
       "2. 1.5\n",
       "3. 2\n",
       "\n",
       "\n",
       "\n",
       "2. 1. 2\n",
       "2. 2.33333333333333\n",
       "3. 2.66666666666667\n",
       "4. 3\n",
       "\n",
       "\n",
       "\n",
       "3. 1. 3\n",
       "2. 3.25\n",
       "3. 3.5\n",
       "4. 3.75\n",
       "5. 4\n",
       "\n",
       "\n",
       "\n",
       "4. 1. 4\n",
       "2. 4.2\n",
       "3. 4.4\n",
       "4. 4.6\n",
       "5. 4.8\n",
       "6. 5\n",
       "\n",
       "\n",
       "\n",
       "\n",
       "\n"
      ],
      "text/plain": [
       "[[1]]\n",
       "[1] 1.0 1.5 2.0\n",
       "\n",
       "[[2]]\n",
       "[1] 2.000000 2.333333 2.666667 3.000000\n",
       "\n",
       "[[3]]\n",
       "[1] 3.00 3.25 3.50 3.75 4.00\n",
       "\n",
       "[[4]]\n",
       "[1] 4.0 4.2 4.4 4.6 4.8 5.0\n"
      ]
     },
     "metadata": {},
     "output_type": "display_data"
    }
   ],
   "source": [
    "mapply(seq, from = 1:4, to = 2:5, by = 1/(1+1:4))"
   ]
  },
  {
   "cell_type": "code",
   "execution_count": 47,
   "id": "c5518bb3",
   "metadata": {},
   "outputs": [
    {
     "data": {
      "text/html": [
       "<ol>\n",
       "\t<li><ol class=list-inline>\n",
       "\t<li>1</li>\n",
       "\t<li>1.5</li>\n",
       "\t<li>2</li>\n",
       "</ol>\n",
       "</li>\n",
       "\t<li><ol class=list-inline>\n",
       "\t<li>2</li>\n",
       "\t<li>2.33333333333333</li>\n",
       "\t<li>2.66666666666667</li>\n",
       "\t<li>3</li>\n",
       "</ol>\n",
       "</li>\n",
       "\t<li><ol class=list-inline>\n",
       "\t<li>3</li>\n",
       "\t<li>3.25</li>\n",
       "\t<li>3.5</li>\n",
       "\t<li>3.75</li>\n",
       "\t<li>4</li>\n",
       "</ol>\n",
       "</li>\n",
       "\t<li><ol class=list-inline>\n",
       "\t<li>4</li>\n",
       "\t<li>4.2</li>\n",
       "\t<li>4.4</li>\n",
       "\t<li>4.6</li>\n",
       "\t<li>4.8</li>\n",
       "\t<li>5</li>\n",
       "</ol>\n",
       "</li>\n",
       "</ol>\n"
      ],
      "text/latex": [
       "\\begin{enumerate}\n",
       "\\item \\begin{enumerate*}\n",
       "\\item 1\n",
       "\\item 1.5\n",
       "\\item 2\n",
       "\\end{enumerate*}\n",
       "\n",
       "\\item \\begin{enumerate*}\n",
       "\\item 2\n",
       "\\item 2.33333333333333\n",
       "\\item 2.66666666666667\n",
       "\\item 3\n",
       "\\end{enumerate*}\n",
       "\n",
       "\\item \\begin{enumerate*}\n",
       "\\item 3\n",
       "\\item 3.25\n",
       "\\item 3.5\n",
       "\\item 3.75\n",
       "\\item 4\n",
       "\\end{enumerate*}\n",
       "\n",
       "\\item \\begin{enumerate*}\n",
       "\\item 4\n",
       "\\item 4.2\n",
       "\\item 4.4\n",
       "\\item 4.6\n",
       "\\item 4.8\n",
       "\\item 5\n",
       "\\end{enumerate*}\n",
       "\n",
       "\\end{enumerate}\n"
      ],
      "text/markdown": [
       "1. 1. 1\n",
       "2. 1.5\n",
       "3. 2\n",
       "\n",
       "\n",
       "\n",
       "2. 1. 2\n",
       "2. 2.33333333333333\n",
       "3. 2.66666666666667\n",
       "4. 3\n",
       "\n",
       "\n",
       "\n",
       "3. 1. 3\n",
       "2. 3.25\n",
       "3. 3.5\n",
       "4. 3.75\n",
       "5. 4\n",
       "\n",
       "\n",
       "\n",
       "4. 1. 4\n",
       "2. 4.2\n",
       "3. 4.4\n",
       "4. 4.6\n",
       "5. 4.8\n",
       "6. 5\n",
       "\n",
       "\n",
       "\n",
       "\n",
       "\n"
      ],
      "text/plain": [
       "[[1]]\n",
       "[1] 1.0 1.5 2.0\n",
       "\n",
       "[[2]]\n",
       "[1] 2.000000 2.333333 2.666667 3.000000\n",
       "\n",
       "[[3]]\n",
       "[1] 3.00 3.25 3.50 3.75 4.00\n",
       "\n",
       "[[4]]\n",
       "[1] 4.0 4.2 4.4 4.6 4.8 5.0\n"
      ]
     },
     "metadata": {},
     "output_type": "display_data"
    }
   ],
   "source": [
    "list(seq(1,2, 1/2), seq(2, 3, 1/3),\n",
    "    seq(3, 4, 1/4), seq(4, 5, 1/5))"
   ]
  },
  {
   "cell_type": "code",
   "execution_count": 50,
   "id": "b41eb2d5",
   "metadata": {},
   "outputs": [],
   "source": [
    "# outer"
   ]
  },
  {
   "cell_type": "code",
   "execution_count": 51,
   "id": "f97595c4",
   "metadata": {},
   "outputs": [],
   "source": [
    "m <- outer(letters, LETTERS, paste0)"
   ]
  },
  {
   "cell_type": "code",
   "execution_count": 53,
   "id": "291dffbb",
   "metadata": {},
   "outputs": [
    {
     "data": {
      "text/html": [
       "<ol class=list-inline>\n",
       "\t<li>26</li>\n",
       "\t<li>26</li>\n",
       "</ol>\n"
      ],
      "text/latex": [
       "\\begin{enumerate*}\n",
       "\\item 26\n",
       "\\item 26\n",
       "\\end{enumerate*}\n"
      ],
      "text/markdown": [
       "1. 26\n",
       "2. 26\n",
       "\n",
       "\n"
      ],
      "text/plain": [
       "[1] 26 26"
      ]
     },
     "metadata": {},
     "output_type": "display_data"
    }
   ],
   "source": [
    "dim(m)"
   ]
  },
  {
   "cell_type": "code",
   "execution_count": 57,
   "id": "d28179ca",
   "metadata": {},
   "outputs": [
    {
     "name": "stdout",
     "output_type": "stream",
     "text": [
      " [1] \"aA\" \"bB\" \"cC\" \"dD\" \"eE\" \"fF\" \"gG\" \"hH\" \"iI\" \"jJ\" \"kK\" \"lL\" \"mM\" \"nN\" \"oO\"\n",
      "[16] \"pP\" \"qQ\" \"rR\" \"sS\" \"tT\" \"uU\" \"vV\" \"wW\" \"xX\" \"yY\" \"zZ\"\n"
     ]
    }
   ],
   "source": [
    "print(diag(m))"
   ]
  },
  {
   "cell_type": "code",
   "execution_count": 58,
   "id": "3751ada1",
   "metadata": {},
   "outputs": [
    {
     "data": {
      "text/html": [
       "<table>\n",
       "<tbody>\n",
       "\t<tr><td>aA</td><td>aB</td><td>aC</td><td>aD</td><td>aE</td></tr>\n",
       "\t<tr><td>bA</td><td>bB</td><td>bC</td><td>bD</td><td>bE</td></tr>\n",
       "\t<tr><td>cA</td><td>cB</td><td>cC</td><td>cD</td><td>cE</td></tr>\n",
       "\t<tr><td>dA</td><td>dB</td><td>dC</td><td>dD</td><td>dE</td></tr>\n",
       "\t<tr><td>eA</td><td>eB</td><td>eC</td><td>eD</td><td>eE</td></tr>\n",
       "</tbody>\n",
       "</table>\n"
      ],
      "text/latex": [
       "\\begin{tabular}{lllll}\n",
       "\t aA & aB & aC & aD & aE\\\\\n",
       "\t bA & bB & bC & bD & bE\\\\\n",
       "\t cA & cB & cC & cD & cE\\\\\n",
       "\t dA & dB & dC & dD & dE\\\\\n",
       "\t eA & eB & eC & eD & eE\\\\\n",
       "\\end{tabular}\n"
      ],
      "text/markdown": [
       "\n",
       "| aA | aB | aC | aD | aE |\n",
       "| bA | bB | bC | bD | bE |\n",
       "| cA | cB | cC | cD | cE |\n",
       "| dA | dB | dC | dD | dE |\n",
       "| eA | eB | eC | eD | eE |\n",
       "\n"
      ],
      "text/plain": [
       "     [,1] [,2] [,3] [,4] [,5]\n",
       "[1,] aA   aB   aC   aD   aE  \n",
       "[2,] bA   bB   bC   bD   bE  \n",
       "[3,] cA   cB   cC   cD   cE  \n",
       "[4,] dA   dB   dC   dD   dE  \n",
       "[5,] eA   eB   eC   eD   eE  "
      ]
     },
     "metadata": {},
     "output_type": "display_data"
    }
   ],
   "source": [
    "m[1:5, 1:5]"
   ]
  },
  {
   "cell_type": "code",
   "execution_count": 59,
   "id": "f0e53ac6",
   "metadata": {},
   "outputs": [],
   "source": [
    "# Vectorize"
   ]
  },
  {
   "cell_type": "code",
   "execution_count": 60,
   "id": "b13ee9b7",
   "metadata": {},
   "outputs": [],
   "source": [
    "lp_norm <- function (x, p = 2) {\n",
    "    if (p >= 1) sum(abs(x)^p)^(1/p) else NaN\n",
    "}"
   ]
  },
  {
   "cell_type": "code",
   "execution_count": 61,
   "id": "41497242",
   "metadata": {},
   "outputs": [
    {
     "name": "stderr",
     "output_type": "stream",
     "text": [
      "Warning message in if (p >= 1) sum(abs(x)^p)^(1/p) else NaN:\n",
      "“длина условия > 1, будет использован только первый элемент”"
     ]
    },
    {
     "data": {
      "text/html": [
       "NaN"
      ],
      "text/latex": [
       "NaN"
      ],
      "text/markdown": [
       "NaN"
      ],
      "text/plain": [
       "[1] NaN"
      ]
     },
     "metadata": {},
     "output_type": "display_data"
    }
   ],
   "source": [
    "lp_norm(1:10, -1:4)"
   ]
  },
  {
   "cell_type": "code",
   "execution_count": 62,
   "id": "8c53bc3d",
   "metadata": {},
   "outputs": [],
   "source": [
    "lp_norm <- Vectorize(lp_norm, \"p\")"
   ]
  },
  {
   "cell_type": "code",
   "execution_count": 63,
   "id": "ecf9d4bc",
   "metadata": {},
   "outputs": [
    {
     "data": {
      "text/html": [
       "<ol class=list-inline>\n",
       "\t<li>NaN</li>\n",
       "\t<li>NaN</li>\n",
       "\t<li>55</li>\n",
       "\t<li>19.6214168703486</li>\n",
       "\t<li>14.4624474188111</li>\n",
       "\t<li>12.6159992871207</li>\n",
       "</ol>\n"
      ],
      "text/latex": [
       "\\begin{enumerate*}\n",
       "\\item NaN\n",
       "\\item NaN\n",
       "\\item 55\n",
       "\\item 19.6214168703486\n",
       "\\item 14.4624474188111\n",
       "\\item 12.6159992871207\n",
       "\\end{enumerate*}\n"
      ],
      "text/markdown": [
       "1. NaN\n",
       "2. NaN\n",
       "3. 55\n",
       "4. 19.6214168703486\n",
       "5. 14.4624474188111\n",
       "6. 12.6159992871207\n",
       "\n",
       "\n"
      ],
      "text/plain": [
       "[1]      NaN      NaN 55.00000 19.62142 14.46245 12.61600"
      ]
     },
     "metadata": {},
     "output_type": "display_data"
    }
   ],
   "source": [
    "lp_norm(1:10, -1:4)"
   ]
  },
  {
   "cell_type": "code",
   "execution_count": 64,
   "id": "dd449f59",
   "metadata": {},
   "outputs": [],
   "source": [
    "# do.call"
   ]
  },
  {
   "cell_type": "code",
   "execution_count": 65,
   "id": "fd2bcaaa",
   "metadata": {},
   "outputs": [
    {
     "data": {
      "text/html": [
       "<table>\n",
       "<thead><tr><th scope=col>id</th><th scope=col>value</th></tr></thead>\n",
       "<tbody>\n",
       "\t<tr><td>  1        </td><td>-0.03547824</td></tr>\n",
       "\t<tr><td>  2        </td><td> 0.68178996</td></tr>\n",
       "\t<tr><td>  3        </td><td> 0.85484528</td></tr>\n",
       "\t<tr><td>  4        </td><td> 0.98649906</td></tr>\n",
       "\t<tr><td>222        </td><td> 7.00000000</td></tr>\n",
       "</tbody>\n",
       "</table>\n"
      ],
      "text/latex": [
       "\\begin{tabular}{r|ll}\n",
       " id & value\\\\\n",
       "\\hline\n",
       "\t   1         & -0.03547824\\\\\n",
       "\t   2         &  0.68178996\\\\\n",
       "\t   3         &  0.85484528\\\\\n",
       "\t   4         &  0.98649906\\\\\n",
       "\t 222         &  7.00000000\\\\\n",
       "\\end{tabular}\n"
      ],
      "text/markdown": [
       "\n",
       "| id | value |\n",
       "|---|---|\n",
       "|   1         | -0.03547824 |\n",
       "|   2         |  0.68178996 |\n",
       "|   3         |  0.85484528 |\n",
       "|   4         |  0.98649906 |\n",
       "| 222         |  7.00000000 |\n",
       "\n"
      ],
      "text/plain": [
       "  id  value      \n",
       "1   1 -0.03547824\n",
       "2   2  0.68178996\n",
       "3   3  0.85484528\n",
       "4   4  0.98649906\n",
       "5 222  7.00000000"
      ]
     },
     "metadata": {},
     "output_type": "display_data"
    }
   ],
   "source": [
    "df1 <- data.frame(id = 1:2, value = rnorm(2))\n",
    "df2 <- data.frame(id = 3:4, value = runif(2))\n",
    "df3 <- data.frame(id = 222, value = 7)\n",
    "do.call(rbind, list(df1, df2, df3)) #rbind(df1,df2, df3)"
   ]
  },
  {
   "cell_type": "code",
   "execution_count": 66,
   "id": "1e42eba1",
   "metadata": {},
   "outputs": [],
   "source": [
    "# do.call(rbind, lapply(list.files(), function(file) read.csv(file)))"
   ]
  },
  {
   "cell_type": "code",
   "execution_count": 67,
   "id": "2040ca6e",
   "metadata": {},
   "outputs": [],
   "source": [
    "# Глоссарий\n",
    "# s3, s4, reference classes \n",
    "# Generic function\n",
    "# Copy-on-modify semantics\n",
    "# ?replicate\n",
    "# ?mapply\n",
    "# ?outer\n",
    "# ?Vectirize\n",
    "# ?do.call"
   ]
  },
  {
   "cell_type": "code",
   "execution_count": 191,
   "id": "dc33a7eb",
   "metadata": {},
   "outputs": [],
   "source": [
    "cat_temper <- c(\"задиристый\", \"игривый\", \"спокойный\", \"ленивый\")\n",
    "cat_color <- c(\"белый\", \"серый\", \"чёрный\", \"рыжий\")\n",
    "cat_age <- c(\"кот\", \"котёнок\")\n",
    "cat_trait <- c(\"с умными глазами\", \"с острыми когтями\", \"с длинными усами\")"
   ]
  },
  {
   "cell_type": "code",
   "execution_count": 192,
   "id": "31a86db4",
   "metadata": {},
   "outputs": [],
   "source": [
    "cat_df <- expand.grid(cat_temper, cat_color, cat_age, cat_trait,\n",
    "                     stringsAsFactors=FALSE)"
   ]
  },
  {
   "cell_type": "code",
   "execution_count": 223,
   "id": "9f2624e8",
   "metadata": {},
   "outputs": [
    {
     "data": {
      "text/html": [
       "4"
      ],
      "text/latex": [
       "4"
      ],
      "text/markdown": [
       "4"
      ],
      "text/plain": [
       "[1] 4"
      ]
     },
     "metadata": {},
     "output_type": "display_data"
    }
   ],
   "source": [
    "ncol(cat_df)"
   ]
  },
  {
   "cell_type": "code",
   "execution_count": 222,
   "id": "c403c2cc",
   "metadata": {},
   "outputs": [
    {
     "data": {
      "text/html": [
       "'игривый серый котёнок с умными глазами'"
      ],
      "text/latex": [
       "'игривый серый котёнок с умными глазами'"
      ],
      "text/markdown": [
       "'игривый серый котёнок с умными глазами'"
      ],
      "text/plain": [
       "[1] \"игривый серый котёнок с умными глазами\""
      ]
     },
     "metadata": {},
     "output_type": "display_data"
    }
   ],
   "source": [
    "sort(as.vector(mapply(paste, cat_df$Var1, cat_df$Var2, cat_df$Var3, cat_df$Var4)))[42]"
   ]
  },
  {
   "cell_type": "code",
   "execution_count": 226,
   "id": "02536a83",
   "metadata": {},
   "outputs": [
    {
     "data": {
      "text/html": [
       "'игривый серый котёнок с умными глазами'"
      ],
      "text/latex": [
       "'игривый серый котёнок с умными глазами'"
      ],
      "text/markdown": [
       "'игривый серый котёнок с умными глазами'"
      ],
      "text/plain": [
       "[1] \"игривый серый котёнок с умными глазами\""
      ]
     },
     "metadata": {},
     "output_type": "display_data"
    }
   ],
   "source": [
    "sort(apply(cat_df, 1, paste, collapse = \" \"))[42]"
   ]
  },
  {
   "cell_type": "code",
   "execution_count": 230,
   "id": "a4dd4fad",
   "metadata": {},
   "outputs": [],
   "source": [
    "simulate_walk <- function(lower = -10, upper = 10, n_max = 200, p = 1e-3) {\n",
    "    current_position <- (lower + upper)/2\n",
    "    for (i in 1:n_max) {\n",
    "        is_absorbed <- rbinom(1, 1, p)\n",
    "        if (is_absorbed) return (list(status= \"Absorbed\",\n",
    "                                     position = current_position,\n",
    "                                     steps = i))\n",
    "        current_position <- current_position + rnorm(1)\n",
    "        if (current_position < lower) return (list(status = \"Left breach\",\n",
    "                                                  position = current_position,\n",
    "                                                  steps = i))\n",
    "        if (current_position > upper) return (list(status = \"Right breach\",\n",
    "                                                  position = current_position,\n",
    "                                                  steps = i))\n",
    "    }\n",
    "    return(list(status = \"Max steps reached\",\n",
    "               position = current_position,\n",
    "               steps = n_max))\n",
    "}"
   ]
  },
  {
   "cell_type": "code",
   "execution_count": 231,
   "id": "98c586fa",
   "metadata": {},
   "outputs": [],
   "source": [
    "result <- replicate(1000, simulate_walk(), simplify = F)"
   ]
  },
  {
   "cell_type": "code",
   "execution_count": 233,
   "id": "9528517b",
   "metadata": {},
   "outputs": [],
   "source": [
    "result <- data.frame(\n",
    "status = sapply(result, function(x) x$status),\n",
    "                position = sapply(result, function(x) x$position),\n",
    "                steps = sapply(result, function(x) x$steps))"
   ]
  },
  {
   "cell_type": "code",
   "execution_count": 236,
   "id": "fae1fbe6",
   "metadata": {},
   "outputs": [
    {
     "data": {
      "text/html": [
       "<table>\n",
       "<thead><tr><th scope=col>status</th><th scope=col>position</th><th scope=col>steps</th></tr></thead>\n",
       "<tbody>\n",
       "\t<tr><td>Max steps reached</td><td> -6.64294        </td><td>200              </td></tr>\n",
       "\t<tr><td>Right breach     </td><td> 10.83053        </td><td> 82              </td></tr>\n",
       "\t<tr><td>Right breach     </td><td> 10.56579        </td><td> 70              </td></tr>\n",
       "\t<tr><td>Left breach      </td><td>-10.46484        </td><td> 53              </td></tr>\n",
       "\t<tr><td>Right breach     </td><td> 10.93152        </td><td>162              </td></tr>\n",
       "\t<tr><td>Left breach      </td><td>-10.34654        </td><td>115              </td></tr>\n",
       "</tbody>\n",
       "</table>\n"
      ],
      "text/latex": [
       "\\begin{tabular}{r|lll}\n",
       " status & position & steps\\\\\n",
       "\\hline\n",
       "\t Max steps reached &  -6.64294         & 200              \\\\\n",
       "\t Right breach      &  10.83053         &  82              \\\\\n",
       "\t Right breach      &  10.56579         &  70              \\\\\n",
       "\t Left breach       & -10.46484         &  53              \\\\\n",
       "\t Right breach      &  10.93152         & 162              \\\\\n",
       "\t Left breach       & -10.34654         & 115              \\\\\n",
       "\\end{tabular}\n"
      ],
      "text/markdown": [
       "\n",
       "| status | position | steps |\n",
       "|---|---|---|\n",
       "| Max steps reached |  -6.64294         | 200               |\n",
       "| Right breach      |  10.83053         |  82               |\n",
       "| Right breach      |  10.56579         |  70               |\n",
       "| Left breach       | -10.46484         |  53               |\n",
       "| Right breach      |  10.93152         | 162               |\n",
       "| Left breach       | -10.34654         | 115               |\n",
       "\n"
      ],
      "text/plain": [
       "  status            position  steps\n",
       "1 Max steps reached  -6.64294 200  \n",
       "2 Right breach       10.83053  82  \n",
       "3 Right breach       10.56579  70  \n",
       "4 Left breach       -10.46484  53  \n",
       "5 Right breach       10.93152 162  \n",
       "6 Left breach       -10.34654 115  "
      ]
     },
     "metadata": {},
     "output_type": "display_data"
    }
   ],
   "source": [
    "head(result)"
   ]
  },
  {
   "cell_type": "code",
   "execution_count": 238,
   "id": "ad24c718",
   "metadata": {},
   "outputs": [
    {
     "name": "stdout",
     "output_type": "stream",
     "text": [
      "'data.frame':\t1000 obs. of  3 variables:\n",
      " $ status  : Factor w/ 4 levels \"Absorbed\",\"Left breach\",..: 3 4 4 2 4 2 4 4 3 2 ...\n",
      " $ position: num  -6.64 10.83 10.57 -10.46 10.93 ...\n",
      " $ steps   : num  200 82 70 53 162 115 49 64 200 197 ...\n"
     ]
    }
   ],
   "source": [
    "str(result)"
   ]
  },
  {
   "cell_type": "code",
   "execution_count": 239,
   "id": "df08eb8a",
   "metadata": {},
   "outputs": [
    {
     "data": {
      "text/html": [
       "<dl class=dl-horizontal>\n",
       "\t<dt>Absorbed</dt>\n",
       "\t\t<dd>81</dd>\n",
       "\t<dt>Left breach</dt>\n",
       "\t\t<dd>413</dd>\n",
       "\t<dt>Max steps reached</dt>\n",
       "\t\t<dd>109</dd>\n",
       "\t<dt>Right breach</dt>\n",
       "\t\t<dd>397</dd>\n",
       "</dl>\n"
      ],
      "text/latex": [
       "\\begin{description*}\n",
       "\\item[Absorbed] 81\n",
       "\\item[Left breach] 413\n",
       "\\item[Max steps reached] 109\n",
       "\\item[Right breach] 397\n",
       "\\end{description*}\n"
      ],
      "text/markdown": [
       "Absorbed\n",
       ":   81Left breach\n",
       ":   413Max steps reached\n",
       ":   109Right breach\n",
       ":   397\n",
       "\n"
      ],
      "text/plain": [
       "         Absorbed       Left breach Max steps reached      Right breach \n",
       "               81               413               109               397 "
      ]
     },
     "metadata": {},
     "output_type": "display_data"
    }
   ],
   "source": [
    "tapply(result$position, result$status, length)"
   ]
  },
  {
   "cell_type": "code",
   "execution_count": 240,
   "id": "f902b009",
   "metadata": {},
   "outputs": [
    {
     "data": {
      "text/html": [
       "<dl class=dl-horizontal>\n",
       "\t<dt>Absorbed</dt>\n",
       "\t\t<dd>68.320987654321</dd>\n",
       "\t<dt>Left breach</dt>\n",
       "\t\t<dd>81.6900726392252</dd>\n",
       "\t<dt>Max steps reached</dt>\n",
       "\t\t<dd>200</dd>\n",
       "\t<dt>Right breach</dt>\n",
       "\t\t<dd>77.4282115869018</dd>\n",
       "</dl>\n"
      ],
      "text/latex": [
       "\\begin{description*}\n",
       "\\item[Absorbed] 68.320987654321\n",
       "\\item[Left breach] 81.6900726392252\n",
       "\\item[Max steps reached] 200\n",
       "\\item[Right breach] 77.4282115869018\n",
       "\\end{description*}\n"
      ],
      "text/markdown": [
       "Absorbed\n",
       ":   68.320987654321Left breach\n",
       ":   81.6900726392252Max steps reached\n",
       ":   200Right breach\n",
       ":   77.4282115869018\n",
       "\n"
      ],
      "text/plain": [
       "         Absorbed       Left breach Max steps reached      Right breach \n",
       "         68.32099          81.69007         200.00000          77.42821 "
      ]
     },
     "metadata": {},
     "output_type": "display_data"
    }
   ],
   "source": [
    "tapply(result$steps, result$status, mean)"
   ]
  },
  {
   "cell_type": "code",
   "execution_count": 242,
   "id": "01890595",
   "metadata": {},
   "outputs": [
    {
     "name": "stdout",
     "output_type": "stream",
     "text": [
      "[1] 81067\n"
     ]
    }
   ],
   "source": [
    "simulate_walk <- function(radius = 6, n_max = 100, p = 1e-2) {\n",
    "  current_position <- c(0, 0)\n",
    "  for (i in 1:n_max) {\n",
    "    is_absorbed <- rbinom(1, 1, p)\n",
    "    if (is_absorbed) return(list(status = \"Absorbed\", \n",
    "                                 position = current_position, \n",
    "                                 steps = i))\n",
    "    current_position <- c(current_position[1] + rnorm(1), current_position[2] + rnorm(1))\n",
    "    if (sqrt(sum(current_position^2)) > radius) return(list(status = \"breach\", \n",
    "                                                      position = current_position, \n",
    "                                                      steps = i))\n",
    "  }\n",
    "  return(list(status = \"Max steps reached\", \n",
    "              position = current_position,\n",
    "              steps = n_max))\n",
    "}\n",
    "\n",
    "result <- replicate(100000, simulate_walk(), simplify = FALSE)\n",
    "result <- data.frame(\n",
    "  status = sapply(result, function(x) x$status),\n",
    "  position_x = sapply(result, function(x) x$position[1]),\n",
    "  position_y = sapply(result, function(x) x$position[2]),\n",
    "  steps = sapply(result, function(x) x$steps)\n",
    ")\n",
    "\n",
    "print(sum(result$status == \"breach\"))"
   ]
  },
  {
   "cell_type": "code",
   "execution_count": 254,
   "id": "8f7f85af",
   "metadata": {},
   "outputs": [
    {
     "data": {
      "text/plain": [
       " [1] plot.acf*           plot.data.frame*    plot.decomposed.ts*\n",
       " [4] plot.default        plot.dendrogram*    plot.density*      \n",
       " [7] plot.ecdf           plot.factor*        plot.formula*      \n",
       "[10] plot.function       plot.hclust*        plot.histogram*    \n",
       "[13] plot.HoltWinters*   plot.isoreg*        plot.lm*           \n",
       "[16] plot.medpolish*     plot.mlm*           plot.ppr*          \n",
       "[19] plot.prcomp*        plot.princomp*      plot.profile.nls*  \n",
       "[22] plot.raster*        plot.spec*          plot.stepfun       \n",
       "[25] plot.stl*           plot.table*         plot.ts            \n",
       "[28] plot.tskernel*      plot.TukeyHSD*     \n",
       "see '?methods' for accessing help and source code"
      ]
     },
     "metadata": {},
     "output_type": "display_data"
    }
   ],
   "source": [
    "methods(plot)"
   ]
  },
  {
   "cell_type": "code",
   "execution_count": 255,
   "id": "5c703de7",
   "metadata": {},
   "outputs": [
    {
     "data": {
      "text/html": [
       "20"
      ],
      "text/latex": [
       "20"
      ],
      "text/markdown": [
       "20"
      ],
      "text/plain": [
       "[1] 20"
      ]
     },
     "metadata": {},
     "output_type": "display_data"
    },
    {
     "data": {
      "text/html": [
       "11"
      ],
      "text/latex": [
       "11"
      ],
      "text/markdown": [
       "11"
      ],
      "text/plain": [
       "[1] 11"
      ]
     },
     "metadata": {},
     "output_type": "display_data"
    },
    {
     "data": {
      "text/html": [
       "10"
      ],
      "text/latex": [
       "10"
      ],
      "text/markdown": [
       "10"
      ],
      "text/plain": [
       "[1] 10"
      ]
     },
     "metadata": {},
     "output_type": "display_data"
    },
    {
     "data": {
      "text/html": [
       "1"
      ],
      "text/latex": [
       "1"
      ],
      "text/markdown": [
       "1"
      ],
      "text/plain": [
       "[1] 1"
      ]
     },
     "metadata": {},
     "output_type": "display_data"
    },
    {
     "data": {
      "text/html": [
       "10"
      ],
      "text/latex": [
       "10"
      ],
      "text/markdown": [
       "10"
      ],
      "text/plain": [
       "[1] 10"
      ]
     },
     "metadata": {},
     "output_type": "display_data"
    },
    {
     "data": {
      "text/html": [
       "1"
      ],
      "text/latex": [
       "1"
      ],
      "text/markdown": [
       "1"
      ],
      "text/plain": [
       "[1] 1"
      ]
     },
     "metadata": {},
     "output_type": "display_data"
    }
   ],
   "source": [
    "f <- function(y) {\n",
    "  y <- x + y\n",
    "  y\n",
    "}\n",
    "\n",
    "g <- function(x) {\n",
    "  y <- f(x)\n",
    "  f <- function(x) {\n",
    "    y - x\n",
    "  }\n",
    "  y - f(x)\n",
    "}\n",
    "\n",
    "x <- 10\n",
    "y <- 1\n",
    "f(x); f(y)\n",
    "g(x); g(y)\n",
    "x; y"
   ]
  },
  {
   "cell_type": "code",
   "execution_count": 262,
   "id": "11d65455",
   "metadata": {},
   "outputs": [
    {
     "data": {
      "text/plain": [
       "   user  system elapsed \n",
       "   0.01    0.00    0.01 "
      ]
     },
     "metadata": {},
     "output_type": "display_data"
    }
   ],
   "source": [
    "system.time(\n",
    "m1(x, y)\n",
    ")"
   ]
  },
  {
   "cell_type": "code",
   "execution_count": 268,
   "id": "e14cfeb5",
   "metadata": {},
   "outputs": [
    {
     "data": {
      "text/plain": [
       "[[1]]\n",
       "   user  system elapsed \n",
       "  0.011   0.000   0.011 \n",
       "\n",
       "[[2]]\n",
       "   user  system elapsed \n",
       "  0.001   0.000   0.001 \n",
       "\n",
       "[[3]]\n",
       "   user  system elapsed \n",
       "      0       0       0 \n"
      ]
     },
     "metadata": {},
     "output_type": "display_data"
    }
   ],
   "source": [
    "list(system.time(m1(x, y)), system.time(m2(x, y)), system.time(m3(x, y)))"
   ]
  },
  {
   "cell_type": "code",
   "execution_count": null,
   "id": "8c1bea9c",
   "metadata": {},
   "outputs": [],
   "source": []
  },
  {
   "cell_type": "code",
   "execution_count": 270,
   "id": "e683b45f",
   "metadata": {},
   "outputs": [
    {
     "data": {
      "text/html": [
       "TRUE"
      ],
      "text/latex": [
       "TRUE"
      ],
      "text/markdown": [
       "TRUE"
      ],
      "text/plain": [
       "[1] TRUE"
      ]
     },
     "metadata": {},
     "output_type": "display_data"
    },
    {
     "data": {
      "text/html": [
       "TRUE"
      ],
      "text/latex": [
       "TRUE"
      ],
      "text/markdown": [
       "TRUE"
      ],
      "text/plain": [
       "[1] TRUE"
      ]
     },
     "metadata": {},
     "output_type": "display_data"
    },
    {
     "data": {
      "text/html": [
       "<table>\n",
       "<thead><tr><th scope=col>expr</th><th scope=col>time</th></tr></thead>\n",
       "<tbody>\n",
       "\t<tr><td>m2(x, y)</td><td> 668420 </td></tr>\n",
       "\t<tr><td>m3(x, y)</td><td> 978018 </td></tr>\n",
       "\t<tr><td>m2(x, y)</td><td> 544733 </td></tr>\n",
       "\t<tr><td>m1(x, y)</td><td>7559007 </td></tr>\n",
       "\t<tr><td>m1(x, y)</td><td>7530144 </td></tr>\n",
       "\t<tr><td>m1(x, y)</td><td>7521839 </td></tr>\n",
       "\t<tr><td>m3(x, y)</td><td>  79243 </td></tr>\n",
       "\t<tr><td>m1(x, y)</td><td>7523972 </td></tr>\n",
       "\t<tr><td>m3(x, y)</td><td>  72156 </td></tr>\n",
       "\t<tr><td>m1(x, y)</td><td>7508999 </td></tr>\n",
       "\t<tr><td>m3(x, y)</td><td>  69478 </td></tr>\n",
       "\t<tr><td>m2(x, y)</td><td> 528079 </td></tr>\n",
       "\t<tr><td>m2(x, y)</td><td> 521975 </td></tr>\n",
       "\t<tr><td>m2(x, y)</td><td> 512712 </td></tr>\n",
       "\t<tr><td>m1(x, y)</td><td>7684872 </td></tr>\n",
       "\t<tr><td>m1(x, y)</td><td>7561526 </td></tr>\n",
       "\t<tr><td>m2(x, y)</td><td> 520700 </td></tr>\n",
       "\t<tr><td>m1(x, y)</td><td>7627770 </td></tr>\n",
       "\t<tr><td>m1(x, y)</td><td>7493080 </td></tr>\n",
       "\t<tr><td>m1(x, y)</td><td>7483474 </td></tr>\n",
       "\t<tr><td>m1(x, y)</td><td>7652948 </td></tr>\n",
       "\t<tr><td>m1(x, y)</td><td>9346413 </td></tr>\n",
       "\t<tr><td>m1(x, y)</td><td>7435432 </td></tr>\n",
       "\t<tr><td>m2(x, y)</td><td> 520136 </td></tr>\n",
       "\t<tr><td>m2(x, y)</td><td> 500770 </td></tr>\n",
       "\t<tr><td>m3(x, y)</td><td>  72965 </td></tr>\n",
       "\t<tr><td>m2(x, y)</td><td> 502172 </td></tr>\n",
       "\t<tr><td>m3(x, y)</td><td>  63917 </td></tr>\n",
       "\t<tr><td>m3(x, y)</td><td>  61405 </td></tr>\n",
       "\t<tr><td>m2(x, y)</td><td> 497893 </td></tr>\n",
       "\t<tr><td>...</td><td>...</td></tr>\n",
       "\t<tr><td>m1(x, y)</td><td>7499896 </td></tr>\n",
       "\t<tr><td>m2(x, y)</td><td> 502488 </td></tr>\n",
       "\t<tr><td>m1(x, y)</td><td>7482840 </td></tr>\n",
       "\t<tr><td>m3(x, y)</td><td>  68681 </td></tr>\n",
       "\t<tr><td>m2(x, y)</td><td> 551745 </td></tr>\n",
       "\t<tr><td>m2(x, y)</td><td> 497618 </td></tr>\n",
       "\t<tr><td>m1(x, y)</td><td>7438102 </td></tr>\n",
       "\t<tr><td>m3(x, y)</td><td>  64861 </td></tr>\n",
       "\t<tr><td>m2(x, y)</td><td> 504944 </td></tr>\n",
       "\t<tr><td>m3(x, y)</td><td>  61658 </td></tr>\n",
       "\t<tr><td>m3(x, y)</td><td>  61118 </td></tr>\n",
       "\t<tr><td>m2(x, y)</td><td> 497439 </td></tr>\n",
       "\t<tr><td>m1(x, y)</td><td>7465438 </td></tr>\n",
       "\t<tr><td>m2(x, y)</td><td> 507788 </td></tr>\n",
       "\t<tr><td>m2(x, y)</td><td> 509956 </td></tr>\n",
       "\t<tr><td>m2(x, y)</td><td> 525264 </td></tr>\n",
       "\t<tr><td>m2(x, y)</td><td> 498003 </td></tr>\n",
       "\t<tr><td>m1(x, y)</td><td>7577745 </td></tr>\n",
       "\t<tr><td>m2(x, y)</td><td> 496160 </td></tr>\n",
       "\t<tr><td>m1(x, y)</td><td>7582313 </td></tr>\n",
       "\t<tr><td>m2(x, y)</td><td> 516918 </td></tr>\n",
       "\t<tr><td>m3(x, y)</td><td>  80253 </td></tr>\n",
       "\t<tr><td>m3(x, y)</td><td>  60497 </td></tr>\n",
       "\t<tr><td>m1(x, y)</td><td>7403524 </td></tr>\n",
       "\t<tr><td>m3(x, y)</td><td>  62210 </td></tr>\n",
       "\t<tr><td>m1(x, y)</td><td>7458530 </td></tr>\n",
       "\t<tr><td>m3(x, y)</td><td>  67088 </td></tr>\n",
       "\t<tr><td>m3(x, y)</td><td>  62737 </td></tr>\n",
       "\t<tr><td>m1(x, y)</td><td>7520909 </td></tr>\n",
       "\t<tr><td>m1(x, y)</td><td>7572343 </td></tr>\n",
       "</tbody>\n",
       "</table>\n"
      ],
      "text/latex": [
       "\\begin{tabular}{r|ll}\n",
       " expr & time\\\\\n",
       "\\hline\n",
       "\t m2(x, y) &  668420 \\\\\n",
       "\t m3(x, y) &  978018 \\\\\n",
       "\t m2(x, y) &  544733 \\\\\n",
       "\t m1(x, y) & 7559007 \\\\\n",
       "\t m1(x, y) & 7530144 \\\\\n",
       "\t m1(x, y) & 7521839 \\\\\n",
       "\t m3(x, y) &   79243 \\\\\n",
       "\t m1(x, y) & 7523972 \\\\\n",
       "\t m3(x, y) &   72156 \\\\\n",
       "\t m1(x, y) & 7508999 \\\\\n",
       "\t m3(x, y) &   69478 \\\\\n",
       "\t m2(x, y) &  528079 \\\\\n",
       "\t m2(x, y) &  521975 \\\\\n",
       "\t m2(x, y) &  512712 \\\\\n",
       "\t m1(x, y) & 7684872 \\\\\n",
       "\t m1(x, y) & 7561526 \\\\\n",
       "\t m2(x, y) &  520700 \\\\\n",
       "\t m1(x, y) & 7627770 \\\\\n",
       "\t m1(x, y) & 7493080 \\\\\n",
       "\t m1(x, y) & 7483474 \\\\\n",
       "\t m1(x, y) & 7652948 \\\\\n",
       "\t m1(x, y) & 9346413 \\\\\n",
       "\t m1(x, y) & 7435432 \\\\\n",
       "\t m2(x, y) &  520136 \\\\\n",
       "\t m2(x, y) &  500770 \\\\\n",
       "\t m3(x, y) &   72965 \\\\\n",
       "\t m2(x, y) &  502172 \\\\\n",
       "\t m3(x, y) &   63917 \\\\\n",
       "\t m3(x, y) &   61405 \\\\\n",
       "\t m2(x, y) &  497893 \\\\\n",
       "\t ... & ...\\\\\n",
       "\t m1(x, y) & 7499896 \\\\\n",
       "\t m2(x, y) &  502488 \\\\\n",
       "\t m1(x, y) & 7482840 \\\\\n",
       "\t m3(x, y) &   68681 \\\\\n",
       "\t m2(x, y) &  551745 \\\\\n",
       "\t m2(x, y) &  497618 \\\\\n",
       "\t m1(x, y) & 7438102 \\\\\n",
       "\t m3(x, y) &   64861 \\\\\n",
       "\t m2(x, y) &  504944 \\\\\n",
       "\t m3(x, y) &   61658 \\\\\n",
       "\t m3(x, y) &   61118 \\\\\n",
       "\t m2(x, y) &  497439 \\\\\n",
       "\t m1(x, y) & 7465438 \\\\\n",
       "\t m2(x, y) &  507788 \\\\\n",
       "\t m2(x, y) &  509956 \\\\\n",
       "\t m2(x, y) &  525264 \\\\\n",
       "\t m2(x, y) &  498003 \\\\\n",
       "\t m1(x, y) & 7577745 \\\\\n",
       "\t m2(x, y) &  496160 \\\\\n",
       "\t m1(x, y) & 7582313 \\\\\n",
       "\t m2(x, y) &  516918 \\\\\n",
       "\t m3(x, y) &   80253 \\\\\n",
       "\t m3(x, y) &   60497 \\\\\n",
       "\t m1(x, y) & 7403524 \\\\\n",
       "\t m3(x, y) &   62210 \\\\\n",
       "\t m1(x, y) & 7458530 \\\\\n",
       "\t m3(x, y) &   67088 \\\\\n",
       "\t m3(x, y) &   62737 \\\\\n",
       "\t m1(x, y) & 7520909 \\\\\n",
       "\t m1(x, y) & 7572343 \\\\\n",
       "\\end{tabular}\n"
      ],
      "text/markdown": [
       "\n",
       "| expr | time |\n",
       "|---|---|\n",
       "| m2(x, y) |  668420  |\n",
       "| m3(x, y) |  978018  |\n",
       "| m2(x, y) |  544733  |\n",
       "| m1(x, y) | 7559007  |\n",
       "| m1(x, y) | 7530144  |\n",
       "| m1(x, y) | 7521839  |\n",
       "| m3(x, y) |   79243  |\n",
       "| m1(x, y) | 7523972  |\n",
       "| m3(x, y) |   72156  |\n",
       "| m1(x, y) | 7508999  |\n",
       "| m3(x, y) |   69478  |\n",
       "| m2(x, y) |  528079  |\n",
       "| m2(x, y) |  521975  |\n",
       "| m2(x, y) |  512712  |\n",
       "| m1(x, y) | 7684872  |\n",
       "| m1(x, y) | 7561526  |\n",
       "| m2(x, y) |  520700  |\n",
       "| m1(x, y) | 7627770  |\n",
       "| m1(x, y) | 7493080  |\n",
       "| m1(x, y) | 7483474  |\n",
       "| m1(x, y) | 7652948  |\n",
       "| m1(x, y) | 9346413  |\n",
       "| m1(x, y) | 7435432  |\n",
       "| m2(x, y) |  520136  |\n",
       "| m2(x, y) |  500770  |\n",
       "| m3(x, y) |   72965  |\n",
       "| m2(x, y) |  502172  |\n",
       "| m3(x, y) |   63917  |\n",
       "| m3(x, y) |   61405  |\n",
       "| m2(x, y) |  497893  |\n",
       "| ... | ... |\n",
       "| m1(x, y) | 7499896  |\n",
       "| m2(x, y) |  502488  |\n",
       "| m1(x, y) | 7482840  |\n",
       "| m3(x, y) |   68681  |\n",
       "| m2(x, y) |  551745  |\n",
       "| m2(x, y) |  497618  |\n",
       "| m1(x, y) | 7438102  |\n",
       "| m3(x, y) |   64861  |\n",
       "| m2(x, y) |  504944  |\n",
       "| m3(x, y) |   61658  |\n",
       "| m3(x, y) |   61118  |\n",
       "| m2(x, y) |  497439  |\n",
       "| m1(x, y) | 7465438  |\n",
       "| m2(x, y) |  507788  |\n",
       "| m2(x, y) |  509956  |\n",
       "| m2(x, y) |  525264  |\n",
       "| m2(x, y) |  498003  |\n",
       "| m1(x, y) | 7577745  |\n",
       "| m2(x, y) |  496160  |\n",
       "| m1(x, y) | 7582313  |\n",
       "| m2(x, y) |  516918  |\n",
       "| m3(x, y) |   80253  |\n",
       "| m3(x, y) |   60497  |\n",
       "| m1(x, y) | 7403524  |\n",
       "| m3(x, y) |   62210  |\n",
       "| m1(x, y) | 7458530  |\n",
       "| m3(x, y) |   67088  |\n",
       "| m3(x, y) |   62737  |\n",
       "| m1(x, y) | 7520909  |\n",
       "| m1(x, y) | 7572343  |\n",
       "\n"
      ],
      "text/plain": [
       "    expr     time   \n",
       "1   m2(x, y)  668420\n",
       "2   m3(x, y)  978018\n",
       "3   m2(x, y)  544733\n",
       "4   m1(x, y) 7559007\n",
       "5   m1(x, y) 7530144\n",
       "6   m1(x, y) 7521839\n",
       "7   m3(x, y)   79243\n",
       "8   m1(x, y) 7523972\n",
       "9   m3(x, y)   72156\n",
       "10  m1(x, y) 7508999\n",
       "11  m3(x, y)   69478\n",
       "12  m2(x, y)  528079\n",
       "13  m2(x, y)  521975\n",
       "14  m2(x, y)  512712\n",
       "15  m1(x, y) 7684872\n",
       "16  m1(x, y) 7561526\n",
       "17  m2(x, y)  520700\n",
       "18  m1(x, y) 7627770\n",
       "19  m1(x, y) 7493080\n",
       "20  m1(x, y) 7483474\n",
       "21  m1(x, y) 7652948\n",
       "22  m1(x, y) 9346413\n",
       "23  m1(x, y) 7435432\n",
       "24  m2(x, y)  520136\n",
       "25  m2(x, y)  500770\n",
       "26  m3(x, y)   72965\n",
       "27  m2(x, y)  502172\n",
       "28  m3(x, y)   63917\n",
       "29  m3(x, y)   61405\n",
       "30  m2(x, y)  497893\n",
       "... ...      ...    \n",
       "271 m1(x, y) 7499896\n",
       "272 m2(x, y)  502488\n",
       "273 m1(x, y) 7482840\n",
       "274 m3(x, y)   68681\n",
       "275 m2(x, y)  551745\n",
       "276 m2(x, y)  497618\n",
       "277 m1(x, y) 7438102\n",
       "278 m3(x, y)   64861\n",
       "279 m2(x, y)  504944\n",
       "280 m3(x, y)   61658\n",
       "281 m3(x, y)   61118\n",
       "282 m2(x, y)  497439\n",
       "283 m1(x, y) 7465438\n",
       "284 m2(x, y)  507788\n",
       "285 m2(x, y)  509956\n",
       "286 m2(x, y)  525264\n",
       "287 m2(x, y)  498003\n",
       "288 m1(x, y) 7577745\n",
       "289 m2(x, y)  496160\n",
       "290 m1(x, y) 7582313\n",
       "291 m2(x, y)  516918\n",
       "292 m3(x, y)   80253\n",
       "293 m3(x, y)   60497\n",
       "294 m1(x, y) 7403524\n",
       "295 m3(x, y)   62210\n",
       "296 m1(x, y) 7458530\n",
       "297 m3(x, y)   67088\n",
       "298 m3(x, y)   62737\n",
       "299 m1(x, y) 7520909\n",
       "300 m1(x, y) 7572343"
      ]
     },
     "metadata": {},
     "output_type": "display_data"
    }
   ],
   "source": [
    "m1 <- function(x, y) {\n",
    "  m <- matrix(0, length(x), length(y))\n",
    "  for (i in 1:length(x)) \n",
    "    for (j in 1:length(y)) {\n",
    "      m[i, j] = x[i] * y[j]\n",
    "    }\n",
    "  m\n",
    "}\n",
    "\n",
    "m2 <- function(x, y) {\n",
    "  vapply(y, function(i) i * x, numeric(length(x)))\n",
    "}\n",
    "\n",
    "m3 <- function(x, y) x %o% y\n",
    "\n",
    "x <- rnorm(100)\n",
    "y <- runif(1000)\n",
    "all.equal(m1(x, y), m2(x, y))\n",
    "all.equal(m2(x, y), m3(x, y))\n",
    "\n",
    "library(microbenchmark)\n",
    "microbenchmark(m1(x, y), m2(x, y), m3(x, y))"
   ]
  },
  {
   "cell_type": "code",
   "execution_count": 271,
   "id": "18814038",
   "metadata": {},
   "outputs": [],
   "source": [
    "# Общий глоссарий для этого урока:\n",
    "\n",
    "# S3, S4, reference classes\n",
    "# Generic function\n",
    "# Copy-on-modify semantics\n",
    "# ?replicate\n",
    "# ?mapply\n",
    "# ?outer\n",
    "# ?Vectorize\n",
    "# ?do.call"
   ]
  }
 ],
 "metadata": {
  "kernelspec": {
   "display_name": "R",
   "language": "R",
   "name": "ir"
  },
  "language_info": {
   "codemirror_mode": "r",
   "file_extension": ".r",
   "mimetype": "text/x-r-source",
   "name": "R",
   "pygments_lexer": "r",
   "version": "3.6.1"
  }
 },
 "nbformat": 4,
 "nbformat_minor": 5
}
