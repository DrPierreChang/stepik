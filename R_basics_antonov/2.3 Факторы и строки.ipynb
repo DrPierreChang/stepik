{
 "cells": [
  {
   "cell_type": "code",
   "execution_count": 2,
   "id": "ea58c227",
   "metadata": {},
   "outputs": [
    {
     "data": {
      "text/html": [
       "<ol class=list-inline>\n",
       "\t<li>'Терпение и труд всё перетрут'</li>\n",
       "\t<li>'Кончил дело - гуляй смело'</li>\n",
       "\t<li>'Без труда не вытащишь и рыбку из пруда'</li>\n",
       "\t<li>'Работа не волк, в лес не убежит'</li>\n",
       "</ol>\n"
      ],
      "text/latex": [
       "\\begin{enumerate*}\n",
       "\\item 'Терпение и труд всё перетрут'\n",
       "\\item 'Кончил дело - гуляй смело'\n",
       "\\item 'Без труда не вытащишь и рыбку из пруда'\n",
       "\\item 'Работа не волк, в лес не убежит'\n",
       "\\end{enumerate*}\n"
      ],
      "text/markdown": [
       "1. 'Терпение и труд всё перетрут'\n",
       "2. 'Кончил дело - гуляй смело'\n",
       "3. 'Без труда не вытащишь и рыбку из пруда'\n",
       "4. 'Работа не волк, в лес не убежит'\n",
       "\n",
       "\n"
      ],
      "text/plain": [
       "[1] \"Терпение и труд всё перетрут\"          \n",
       "[2] \"Кончил дело - гуляй смело\"             \n",
       "[3] \"Без труда не вытащишь и рыбку из пруда\"\n",
       "[4] \"Работа не волк, в лес не убежит\"       "
      ]
     },
     "metadata": {},
     "output_type": "display_data"
    }
   ],
   "source": [
    "str_vec <- c(\"Терпение и труд всё перетрут\",\n",
    "            \"Кончил дело - гуляй смело\",\n",
    "            \"Без труда не вытащишь и рыбку из пруда\",\n",
    "            \"Работа не волк, в лес не убежит\");str_vec          "
   ]
  },
  {
   "cell_type": "code",
   "execution_count": 3,
   "id": "ae4e82e0",
   "metadata": {},
   "outputs": [
    {
     "data": {
      "text/html": [
       "'Операция \"ы\"'"
      ],
      "text/latex": [
       "'Операция \"ы\"'"
      ],
      "text/markdown": [
       "'Операция \"ы\"'"
      ],
      "text/plain": [
       "[1] \"Операция \\\"ы\\\"\""
      ]
     },
     "metadata": {},
     "output_type": "display_data"
    }
   ],
   "source": [
    "# если внутри используются кавычки\n",
    "'Операция \"ы\"'"
   ]
  },
  {
   "cell_type": "code",
   "execution_count": 4,
   "id": "0ad95c9d",
   "metadata": {},
   "outputs": [],
   "source": [
    "# paste/paste0"
   ]
  },
  {
   "cell_type": "code",
   "execution_count": 5,
   "id": "cdb7304a",
   "metadata": {},
   "outputs": [],
   "source": [
    "# sep - разделитель между элементами"
   ]
  },
  {
   "cell_type": "code",
   "execution_count": 6,
   "id": "f6b237cc",
   "metadata": {},
   "outputs": [],
   "source": [
    "# collapse - схлопывает вектор в одну строчку"
   ]
  },
  {
   "cell_type": "code",
   "execution_count": 7,
   "id": "83a1a62c",
   "metadata": {},
   "outputs": [
    {
     "data": {
      "text/html": [
       "<ol class=list-inline>\n",
       "\t<li>'Углекислый газ'</li>\n",
       "\t<li>'Веселящий газ'</li>\n",
       "</ol>\n"
      ],
      "text/latex": [
       "\\begin{enumerate*}\n",
       "\\item 'Углекислый газ'\n",
       "\\item 'Веселящий газ'\n",
       "\\end{enumerate*}\n"
      ],
      "text/markdown": [
       "1. 'Углекислый газ'\n",
       "2. 'Веселящий газ'\n",
       "\n",
       "\n"
      ],
      "text/plain": [
       "[1] \"Углекислый газ\" \"Веселящий газ\" "
      ]
     },
     "metadata": {},
     "output_type": "display_data"
    }
   ],
   "source": [
    "paste(c(\"Углекислый\", \"Веселящий\"), \"газ\")"
   ]
  },
  {
   "cell_type": "code",
   "execution_count": 8,
   "id": "ed4a79cc",
   "metadata": {},
   "outputs": [
    {
     "data": {
      "text/html": [
       "<ol class=list-inline>\n",
       "\t<li>'Углекислый_газ'</li>\n",
       "\t<li>'Веселящий_газ'</li>\n",
       "</ol>\n"
      ],
      "text/latex": [
       "\\begin{enumerate*}\n",
       "\\item 'Углекислый\\_газ'\n",
       "\\item 'Веселящий\\_газ'\n",
       "\\end{enumerate*}\n"
      ],
      "text/markdown": [
       "1. 'Углекислый_газ'\n",
       "2. 'Веселящий_газ'\n",
       "\n",
       "\n"
      ],
      "text/plain": [
       "[1] \"Углекислый_газ\" \"Веселящий_газ\" "
      ]
     },
     "metadata": {},
     "output_type": "display_data"
    }
   ],
   "source": [
    "paste(c(\"Углекислый\", \"Веселящий\"), \"газ\", sep = '_')"
   ]
  },
  {
   "cell_type": "code",
   "execution_count": 10,
   "id": "4e351dce",
   "metadata": {},
   "outputs": [
    {
     "data": {
      "text/html": [
       "'Углекислый газ, а также Веселящий газ'"
      ],
      "text/latex": [
       "'Углекислый газ, а также Веселящий газ'"
      ],
      "text/markdown": [
       "'Углекислый газ, а также Веселящий газ'"
      ],
      "text/plain": [
       "[1] \"Углекислый газ, а также Веселящий газ\""
      ]
     },
     "metadata": {},
     "output_type": "display_data"
    }
   ],
   "source": [
    "paste(c(\"Углекислый\", \"Веселящий\"), \"газ\", collapse = \", а также \")"
   ]
  },
  {
   "cell_type": "code",
   "execution_count": 11,
   "id": "7dcfdb83",
   "metadata": {},
   "outputs": [],
   "source": [
    "# обратное действие strsplit"
   ]
  },
  {
   "cell_type": "code",
   "execution_count": 25,
   "id": "4c6c7995",
   "metadata": {},
   "outputs": [
    {
     "data": {
      "text/html": [
       "<ol>\n",
       "\t<li><ol class=list-inline>\n",
       "\t<li>'Терпение'</li>\n",
       "\t<li>'труд всё перетрут'</li>\n",
       "</ol>\n",
       "</li>\n",
       "\t<li>'Кончил дело - гуляй смело'</li>\n",
       "\t<li><ol class=list-inline>\n",
       "\t<li>'Без труда не вытащишь'</li>\n",
       "\t<li>'рыбку из пруда'</li>\n",
       "</ol>\n",
       "</li>\n",
       "\t<li>'Работа не волк, в лес не убежит'</li>\n",
       "</ol>\n"
      ],
      "text/latex": [
       "\\begin{enumerate}\n",
       "\\item \\begin{enumerate*}\n",
       "\\item 'Терпение'\n",
       "\\item 'труд всё перетрут'\n",
       "\\end{enumerate*}\n",
       "\n",
       "\\item 'Кончил дело - гуляй смело'\n",
       "\\item \\begin{enumerate*}\n",
       "\\item 'Без труда не вытащишь'\n",
       "\\item 'рыбку из пруда'\n",
       "\\end{enumerate*}\n",
       "\n",
       "\\item 'Работа не волк, в лес не убежит'\n",
       "\\end{enumerate}\n"
      ],
      "text/markdown": [
       "1. 1. 'Терпение'\n",
       "2. 'труд всё перетрут'\n",
       "\n",
       "\n",
       "\n",
       "2. 'Кончил дело - гуляй смело'\n",
       "3. 1. 'Без труда не вытащишь'\n",
       "2. 'рыбку из пруда'\n",
       "\n",
       "\n",
       "\n",
       "4. 'Работа не волк, в лес не убежит'\n",
       "\n",
       "\n"
      ],
      "text/plain": [
       "[[1]]\n",
       "[1] \"Терпение\"          \"труд всё перетрут\"\n",
       "\n",
       "[[2]]\n",
       "[1] \"Кончил дело - гуляй смело\"\n",
       "\n",
       "[[3]]\n",
       "[1] \"Без труда не вытащишь\" \"рыбку из пруда\"       \n",
       "\n",
       "[[4]]\n",
       "[1] \"Работа не волк, в лес не убежит\"\n"
      ]
     },
     "metadata": {},
     "output_type": "display_data"
    }
   ],
   "source": [
    "strsplit(str_vec, split = \" и \", fixed = T)"
   ]
  },
  {
   "cell_type": "code",
   "execution_count": 26,
   "id": "c6c011f5",
   "metadata": {},
   "outputs": [],
   "source": [
    "# если не указыать Fixed, то по умолчанию он False, и сплит\n",
    "# рассматривается как регулярное выражение"
   ]
  },
  {
   "cell_type": "code",
   "execution_count": 27,
   "id": "ab5e3457",
   "metadata": {},
   "outputs": [
    {
     "data": {
      "text/html": [
       "<ol>\n",
       "\t<li>'Терпение и труд всё перетрут'</li>\n",
       "\t<li><ol class=list-inline>\n",
       "\t<li>'Кончил дело '</li>\n",
       "\t<li>' гуляй смело'</li>\n",
       "</ol>\n",
       "</li>\n",
       "\t<li>'Без труда не вытащишь и рыбку из пруда'</li>\n",
       "\t<li><ol class=list-inline>\n",
       "\t<li>'Работа не волк'</li>\n",
       "\t<li>' в лес не убежит'</li>\n",
       "</ol>\n",
       "</li>\n",
       "</ol>\n"
      ],
      "text/latex": [
       "\\begin{enumerate}\n",
       "\\item 'Терпение и труд всё перетрут'\n",
       "\\item \\begin{enumerate*}\n",
       "\\item 'Кончил дело '\n",
       "\\item ' гуляй смело'\n",
       "\\end{enumerate*}\n",
       "\n",
       "\\item 'Без труда не вытащишь и рыбку из пруда'\n",
       "\\item \\begin{enumerate*}\n",
       "\\item 'Работа не волк'\n",
       "\\item ' в лес не убежит'\n",
       "\\end{enumerate*}\n",
       "\n",
       "\\end{enumerate}\n"
      ],
      "text/markdown": [
       "1. 'Терпение и труд всё перетрут'\n",
       "2. 1. 'Кончил дело '\n",
       "2. ' гуляй смело'\n",
       "\n",
       "\n",
       "\n",
       "3. 'Без труда не вытащишь и рыбку из пруда'\n",
       "4. 1. 'Работа не волк'\n",
       "2. ' в лес не убежит'\n",
       "\n",
       "\n",
       "\n",
       "\n",
       "\n"
      ],
      "text/plain": [
       "[[1]]\n",
       "[1] \"Терпение и труд всё перетрут\"\n",
       "\n",
       "[[2]]\n",
       "[1] \"Кончил дело \" \" гуляй смело\"\n",
       "\n",
       "[[3]]\n",
       "[1] \"Без труда не вытащишь и рыбку из пруда\"\n",
       "\n",
       "[[4]]\n",
       "[1] \"Работа не волк\"   \" в лес не убежит\"\n"
      ]
     },
     "metadata": {},
     "output_type": "display_data"
    }
   ],
   "source": [
    "strsplit(str_vec, \"[[:punct:]]\")"
   ]
  },
  {
   "cell_type": "code",
   "execution_count": 41,
   "id": "874bea2d",
   "metadata": {},
   "outputs": [
    {
     "data": {
      "text/html": [
       "<ol class=list-inline>\n",
       "\t<li>1</li>\n",
       "\t<li>3</li>\n",
       "</ol>\n"
      ],
      "text/latex": [
       "\\begin{enumerate*}\n",
       "\\item 1\n",
       "\\item 3\n",
       "\\end{enumerate*}\n"
      ],
      "text/markdown": [
       "1. 1\n",
       "2. 3\n",
       "\n",
       "\n"
      ],
      "text/plain": [
       "[1] 1 3"
      ]
     },
     "metadata": {},
     "output_type": "display_data"
    }
   ],
   "source": [
    "# в какие элементы вектора входит слово \"труд\"\n",
    "grep(\"труд\", str_vec)"
   ]
  },
  {
   "cell_type": "code",
   "execution_count": 42,
   "id": "824817e9",
   "metadata": {},
   "outputs": [
    {
     "data": {
      "text/html": [
       "<ol class=list-inline>\n",
       "\t<li>TRUE</li>\n",
       "\t<li>FALSE</li>\n",
       "\t<li>TRUE</li>\n",
       "\t<li>FALSE</li>\n",
       "</ol>\n"
      ],
      "text/latex": [
       "\\begin{enumerate*}\n",
       "\\item TRUE\n",
       "\\item FALSE\n",
       "\\item TRUE\n",
       "\\item FALSE\n",
       "\\end{enumerate*}\n"
      ],
      "text/markdown": [
       "1. TRUE\n",
       "2. FALSE\n",
       "3. TRUE\n",
       "4. FALSE\n",
       "\n",
       "\n"
      ],
      "text/plain": [
       "[1]  TRUE FALSE  TRUE FALSE"
      ]
     },
     "metadata": {},
     "output_type": "display_data"
    }
   ],
   "source": [
    "# grep logical\n",
    "grepl(\"труд\", str_vec)"
   ]
  },
  {
   "cell_type": "code",
   "execution_count": 34,
   "id": "9e385a8b",
   "metadata": {},
   "outputs": [
    {
     "data": {
      "text/html": [
       "<ol class=list-inline>\n",
       "\t<li>'Терпение и труд всё перетрут'</li>\n",
       "\t<li>'Без труда не вытащишь и рыбку из пруда'</li>\n",
       "</ol>\n"
      ],
      "text/latex": [
       "\\begin{enumerate*}\n",
       "\\item 'Терпение и труд всё перетрут'\n",
       "\\item 'Без труда не вытащишь и рыбку из пруда'\n",
       "\\end{enumerate*}\n"
      ],
      "text/markdown": [
       "1. 'Терпение и труд всё перетрут'\n",
       "2. 'Без труда не вытащишь и рыбку из пруда'\n",
       "\n",
       "\n"
      ],
      "text/plain": [
       "[1] \"Терпение и труд всё перетрут\"          \n",
       "[2] \"Без труда не вытащишь и рыбку из пруда\""
      ]
     },
     "metadata": {},
     "output_type": "display_data"
    }
   ],
   "source": [
    "str_vec[grepl(\"труд\", str_vec)]"
   ]
  },
  {
   "cell_type": "code",
   "execution_count": 47,
   "id": "cc87addf",
   "metadata": {},
   "outputs": [
    {
     "data": {
      "text/html": [
       "<ol class=list-inline>\n",
       "\t<li><span style=white-space:pre-wrap>'Терпение и  missing  всё перетрут'</span></li>\n",
       "\t<li><span style=white-space:pre-wrap>'Кончил  missing  -  missing   missing '</span></li>\n",
       "\t<li><span style=white-space:pre-wrap>'Без  missing  не вытащишь и  missing  из  missing '</span></li>\n",
       "\t<li><span style=white-space:pre-wrap>'Работа не  missing , в лес не убежит'</span></li>\n",
       "</ol>\n"
      ],
      "text/latex": [
       "\\begin{enumerate*}\n",
       "\\item 'Терпение и  missing  всё перетрут'\n",
       "\\item 'Кончил  missing  -  missing   missing '\n",
       "\\item 'Без  missing  не вытащишь и  missing  из  missing '\n",
       "\\item 'Работа не  missing , в лес не убежит'\n",
       "\\end{enumerate*}\n"
      ],
      "text/markdown": [
       "1. <span style=white-space:pre-wrap>'Терпение и  missing  всё перетрут'</span>\n",
       "2. <span style=white-space:pre-wrap>'Кончил  missing  -  missing   missing '</span>\n",
       "3. <span style=white-space:pre-wrap>'Без  missing  не вытащишь и  missing  из  missing '</span>\n",
       "4. <span style=white-space:pre-wrap>'Работа не  missing , в лес не убежит'</span>\n",
       "\n",
       "\n"
      ],
      "text/plain": [
       "[1] \"Терпение и  missing  всё перетрут\"                 \n",
       "[2] \"Кончил  missing  -  missing   missing \"            \n",
       "[3] \"Без  missing  не вытащишь и  missing  из  missing \"\n",
       "[4] \"Работа не  missing , в лес не убежит\"              "
      ]
     },
     "metadata": {},
     "output_type": "display_data"
    }
   ],
   "source": [
    "gsub(\"\\\\b[[:alpha:]]{4,5}\\\\b\", \" missing \", str_vec)"
   ]
  },
  {
   "cell_type": "code",
   "execution_count": 48,
   "id": "f74ab9e3",
   "metadata": {},
   "outputs": [],
   "source": [
    "# пакет для работы со сроками stringr\n",
    "# install.packages(\"stringr\")"
   ]
  },
  {
   "cell_type": "code",
   "execution_count": 49,
   "id": "c8569f1d",
   "metadata": {},
   "outputs": [],
   "source": [
    "library(stringr)"
   ]
  },
  {
   "cell_type": "code",
   "execution_count": 50,
   "id": "62781fd4",
   "metadata": {},
   "outputs": [
    {
     "data": {
      "text/html": [
       "<ol class=list-inline>\n",
       "\t<li>'ни'</li>\n",
       "\t<li>'нч'</li>\n",
       "\t<li>'не'</li>\n",
       "\t<li>'не'</li>\n",
       "</ol>\n"
      ],
      "text/latex": [
       "\\begin{enumerate*}\n",
       "\\item 'ни'\n",
       "\\item 'нч'\n",
       "\\item 'не'\n",
       "\\item 'не'\n",
       "\\end{enumerate*}\n"
      ],
      "text/markdown": [
       "1. 'ни'\n",
       "2. 'нч'\n",
       "3. 'не'\n",
       "4. 'не'\n",
       "\n",
       "\n"
      ],
      "text/plain": [
       "[1] \"ни\" \"нч\" \"не\" \"не\""
      ]
     },
     "metadata": {},
     "output_type": "display_data"
    }
   ],
   "source": [
    "str_extract(str_vec, \"н.\")"
   ]
  },
  {
   "cell_type": "code",
   "execution_count": 53,
   "id": "feb9e984",
   "metadata": {},
   "outputs": [
    {
     "data": {
      "text/html": [
       "<ol class=list-inline>\n",
       "\t<li>'Терпен...е и труд всё перетрут'</li>\n",
       "\t<li>'Конч...л дело - гуляй смело'</li>\n",
       "\t<li>'Без труд... не вытащишь и рыбку из пруда'</li>\n",
       "\t<li>'Р...бота не волк, в лес не убежит'</li>\n",
       "</ol>\n"
      ],
      "text/latex": [
       "\\begin{enumerate*}\n",
       "\\item 'Терпен...е и труд всё перетрут'\n",
       "\\item 'Конч...л дело - гуляй смело'\n",
       "\\item 'Без труд... не вытащишь и рыбку из пруда'\n",
       "\\item 'Р...бота не волк, в лес не убежит'\n",
       "\\end{enumerate*}\n"
      ],
      "text/markdown": [
       "1. 'Терпен...е и труд всё перетрут'\n",
       "2. 'Конч...л дело - гуляй смело'\n",
       "3. 'Без труд... не вытащишь и рыбку из пруда'\n",
       "4. 'Р...бота не волк, в лес не убежит'\n",
       "\n",
       "\n"
      ],
      "text/plain": [
       "[1] \"Терпен...е и труд всё перетрут\"          \n",
       "[2] \"Конч...л дело - гуляй смело\"             \n",
       "[3] \"Без труд... не вытащишь и рыбку из пруда\"\n",
       "[4] \"Р...бота не волк, в лес не убежит\"       "
      ]
     },
     "metadata": {},
     "output_type": "display_data"
    }
   ],
   "source": [
    "str_replace(str_vec, \"[иа]\", \"...\")"
   ]
  },
  {
   "cell_type": "code",
   "execution_count": 57,
   "id": "d3224203",
   "metadata": {},
   "outputs": [
    {
     "data": {
      "text/html": [
       "<ol>\n",
       "\t<li>'ни'</li>\n",
       "\t<li>'нч'</li>\n",
       "\t<li>'не'</li>\n",
       "\t<li><ol class=list-inline>\n",
       "\t<li>'не'</li>\n",
       "\t<li>'не'</li>\n",
       "</ol>\n",
       "</li>\n",
       "</ol>\n"
      ],
      "text/latex": [
       "\\begin{enumerate}\n",
       "\\item 'ни'\n",
       "\\item 'нч'\n",
       "\\item 'не'\n",
       "\\item \\begin{enumerate*}\n",
       "\\item 'не'\n",
       "\\item 'не'\n",
       "\\end{enumerate*}\n",
       "\n",
       "\\end{enumerate}\n"
      ],
      "text/markdown": [
       "1. 'ни'\n",
       "2. 'нч'\n",
       "3. 'не'\n",
       "4. 1. 'не'\n",
       "2. 'не'\n",
       "\n",
       "\n",
       "\n",
       "\n",
       "\n"
      ],
      "text/plain": [
       "[[1]]\n",
       "[1] \"ни\"\n",
       "\n",
       "[[2]]\n",
       "[1] \"нч\"\n",
       "\n",
       "[[3]]\n",
       "[1] \"не\"\n",
       "\n",
       "[[4]]\n",
       "[1] \"не\" \"не\"\n"
      ]
     },
     "metadata": {},
     "output_type": "display_data"
    }
   ],
   "source": [
    "# для всех вхождений, а не только для первого\n",
    "str_extract_all(str_vec, \"н.\")"
   ]
  },
  {
   "cell_type": "code",
   "execution_count": 58,
   "id": "9cb73046",
   "metadata": {},
   "outputs": [
    {
     "data": {
      "text/html": [
       "<ol class=list-inline>\n",
       "\t<li>'Терпен...е ... труд всё перетрут'</li>\n",
       "\t<li>'Конч...л дело - гуляй смело'</li>\n",
       "\t<li>'Без труд... не выт...щ...шь ... рыбку ...з пруд...'</li>\n",
       "\t<li>'Р...бот... не волк, в лес не убеж...т'</li>\n",
       "</ol>\n"
      ],
      "text/latex": [
       "\\begin{enumerate*}\n",
       "\\item 'Терпен...е ... труд всё перетрут'\n",
       "\\item 'Конч...л дело - гуляй смело'\n",
       "\\item 'Без труд... не выт...щ...шь ... рыбку ...з пруд...'\n",
       "\\item 'Р...бот... не волк, в лес не убеж...т'\n",
       "\\end{enumerate*}\n"
      ],
      "text/markdown": [
       "1. 'Терпен...е ... труд всё перетрут'\n",
       "2. 'Конч...л дело - гуляй смело'\n",
       "3. 'Без труд... не выт...щ...шь ... рыбку ...з пруд...'\n",
       "4. 'Р...бот... не волк, в лес не убеж...т'\n",
       "\n",
       "\n"
      ],
      "text/plain": [
       "[1] \"Терпен...е ... труд всё перетрут\"                  \n",
       "[2] \"Конч...л дело - гуляй смело\"                       \n",
       "[3] \"Без труд... не выт...щ...шь ... рыбку ...з пруд...\"\n",
       "[4] \"Р...бот... не волк, в лес не убеж...т\"             "
      ]
     },
     "metadata": {},
     "output_type": "display_data"
    }
   ],
   "source": [
    "str_replace_all(str_vec, \"[иа]\", \"...\")"
   ]
  },
  {
   "cell_type": "code",
   "execution_count": 59,
   "id": "c420e056",
   "metadata": {},
   "outputs": [
    {
     "data": {
      "text/html": [
       "<ol class=list-inline>\n",
       "\t<li>'Т?рп?н?? ? труд всё п?р?трут'</li>\n",
       "\t<li>'Конч?л д?ло - гуляй см?ло'</li>\n",
       "\t<li>'Б?з труд? н? выт?щ?шь ? рыбку ?з пруд?'</li>\n",
       "\t<li>'Р?бот? н? волк, в л?с н? уб?ж?т'</li>\n",
       "</ol>\n"
      ],
      "text/latex": [
       "\\begin{enumerate*}\n",
       "\\item 'Т?рп?н?? ? труд всё п?р?трут'\n",
       "\\item 'Конч?л д?ло - гуляй см?ло'\n",
       "\\item 'Б?з труд? н? выт?щ?шь ? рыбку ?з пруд?'\n",
       "\\item 'Р?бот? н? волк, в л?с н? уб?ж?т'\n",
       "\\end{enumerate*}\n"
      ],
      "text/markdown": [
       "1. 'Т?рп?н?? ? труд всё п?р?трут'\n",
       "2. 'Конч?л д?ло - гуляй см?ло'\n",
       "3. 'Б?з труд? н? выт?щ?шь ? рыбку ?з пруд?'\n",
       "4. 'Р?бот? н? волк, в л?с н? уб?ж?т'\n",
       "\n",
       "\n"
      ],
      "text/plain": [
       "[1] \"Т?рп?н?? ? труд всё п?р?трут\"          \n",
       "[2] \"Конч?л д?ло - гуляй см?ло\"             \n",
       "[3] \"Б?з труд? н? выт?щ?шь ? рыбку ?з пруд?\"\n",
       "[4] \"Р?бот? н? волк, в л?с н? уб?ж?т\"       "
      ]
     },
     "metadata": {},
     "output_type": "display_data"
    }
   ],
   "source": [
    "str_replace_all(str_vec, \"[иае]\", \"?\")"
   ]
  },
  {
   "cell_type": "code",
   "execution_count": 60,
   "id": "ca326433",
   "metadata": {},
   "outputs": [],
   "source": [
    "# манипулирование регистром"
   ]
  },
  {
   "cell_type": "code",
   "execution_count": 62,
   "id": "4e38671d",
   "metadata": {},
   "outputs": [
    {
     "data": {
      "text/html": [
       "<ol class=list-inline>\n",
       "\t<li>'january'</li>\n",
       "\t<li>'february'</li>\n",
       "\t<li>'march'</li>\n",
       "\t<li>'april'</li>\n",
       "\t<li>'may'</li>\n",
       "\t<li>'june'</li>\n",
       "\t<li>'july'</li>\n",
       "\t<li>'august'</li>\n",
       "\t<li>'september'</li>\n",
       "\t<li>'october'</li>\n",
       "\t<li>'november'</li>\n",
       "\t<li>'december'</li>\n",
       "</ol>\n"
      ],
      "text/latex": [
       "\\begin{enumerate*}\n",
       "\\item 'january'\n",
       "\\item 'february'\n",
       "\\item 'march'\n",
       "\\item 'april'\n",
       "\\item 'may'\n",
       "\\item 'june'\n",
       "\\item 'july'\n",
       "\\item 'august'\n",
       "\\item 'september'\n",
       "\\item 'october'\n",
       "\\item 'november'\n",
       "\\item 'december'\n",
       "\\end{enumerate*}\n"
      ],
      "text/markdown": [
       "1. 'january'\n",
       "2. 'february'\n",
       "3. 'march'\n",
       "4. 'april'\n",
       "5. 'may'\n",
       "6. 'june'\n",
       "7. 'july'\n",
       "8. 'august'\n",
       "9. 'september'\n",
       "10. 'october'\n",
       "11. 'november'\n",
       "12. 'december'\n",
       "\n",
       "\n"
      ],
      "text/plain": [
       " [1] \"january\"   \"february\"  \"march\"     \"april\"     \"may\"       \"june\"     \n",
       " [7] \"july\"      \"august\"    \"september\" \"october\"   \"november\"  \"december\" "
      ]
     },
     "metadata": {},
     "output_type": "display_data"
    }
   ],
   "source": [
    "tolower(month.name)"
   ]
  },
  {
   "cell_type": "code",
   "execution_count": 63,
   "id": "3cc67e87",
   "metadata": {},
   "outputs": [
    {
     "data": {
      "text/html": [
       "<ol class=list-inline>\n",
       "\t<li>'ТЕРПЕНИЕ И ТРУД ВСЁ ПЕРЕТРУТ'</li>\n",
       "\t<li>'КОНЧИЛ ДЕЛО - ГУЛЯЙ СМЕЛО'</li>\n",
       "\t<li>'БЕЗ ТРУДА НЕ ВЫТАЩИШЬ И РЫБКУ ИЗ ПРУДА'</li>\n",
       "\t<li>'РАБОТА НЕ ВОЛК, В ЛЕС НЕ УБЕЖИТ'</li>\n",
       "</ol>\n"
      ],
      "text/latex": [
       "\\begin{enumerate*}\n",
       "\\item 'ТЕРПЕНИЕ И ТРУД ВСЁ ПЕРЕТРУТ'\n",
       "\\item 'КОНЧИЛ ДЕЛО - ГУЛЯЙ СМЕЛО'\n",
       "\\item 'БЕЗ ТРУДА НЕ ВЫТАЩИШЬ И РЫБКУ ИЗ ПРУДА'\n",
       "\\item 'РАБОТА НЕ ВОЛК, В ЛЕС НЕ УБЕЖИТ'\n",
       "\\end{enumerate*}\n"
      ],
      "text/markdown": [
       "1. 'ТЕРПЕНИЕ И ТРУД ВСЁ ПЕРЕТРУТ'\n",
       "2. 'КОНЧИЛ ДЕЛО - ГУЛЯЙ СМЕЛО'\n",
       "3. 'БЕЗ ТРУДА НЕ ВЫТАЩИШЬ И РЫБКУ ИЗ ПРУДА'\n",
       "4. 'РАБОТА НЕ ВОЛК, В ЛЕС НЕ УБЕЖИТ'\n",
       "\n",
       "\n"
      ],
      "text/plain": [
       "[1] \"ТЕРПЕНИЕ И ТРУД ВСЁ ПЕРЕТРУТ\"          \n",
       "[2] \"КОНЧИЛ ДЕЛО - ГУЛЯЙ СМЕЛО\"             \n",
       "[3] \"БЕЗ ТРУДА НЕ ВЫТАЩИШЬ И РЫБКУ ИЗ ПРУДА\"\n",
       "[4] \"РАБОТА НЕ ВОЛК, В ЛЕС НЕ УБЕЖИТ\"       "
      ]
     },
     "metadata": {},
     "output_type": "display_data"
    }
   ],
   "source": [
    "toupper(str_vec)"
   ]
  },
  {
   "cell_type": "code",
   "execution_count": 67,
   "id": "4cee8461",
   "metadata": {},
   "outputs": [
    {
     "data": {
      "text/html": [
       "<ol class=list-inline>\n",
       "\t<li>'JAN'</li>\n",
       "\t<li>'FEB'</li>\n",
       "\t<li>'MAR'</li>\n",
       "\t<li>'APR'</li>\n",
       "\t<li>'MAY'</li>\n",
       "\t<li>'JUN'</li>\n",
       "\t<li>'JUL'</li>\n",
       "\t<li>'AUG'</li>\n",
       "\t<li>'SEP'</li>\n",
       "\t<li>'OCT'</li>\n",
       "\t<li>'NOV'</li>\n",
       "\t<li>'DEC'</li>\n",
       "</ol>\n"
      ],
      "text/latex": [
       "\\begin{enumerate*}\n",
       "\\item 'JAN'\n",
       "\\item 'FEB'\n",
       "\\item 'MAR'\n",
       "\\item 'APR'\n",
       "\\item 'MAY'\n",
       "\\item 'JUN'\n",
       "\\item 'JUL'\n",
       "\\item 'AUG'\n",
       "\\item 'SEP'\n",
       "\\item 'OCT'\n",
       "\\item 'NOV'\n",
       "\\item 'DEC'\n",
       "\\end{enumerate*}\n"
      ],
      "text/markdown": [
       "1. 'JAN'\n",
       "2. 'FEB'\n",
       "3. 'MAR'\n",
       "4. 'APR'\n",
       "5. 'MAY'\n",
       "6. 'JUN'\n",
       "7. 'JUL'\n",
       "8. 'AUG'\n",
       "9. 'SEP'\n",
       "10. 'OCT'\n",
       "11. 'NOV'\n",
       "12. 'DEC'\n",
       "\n",
       "\n"
      ],
      "text/plain": [
       " [1] \"JAN\" \"FEB\" \"MAR\" \"APR\" \"MAY\" \"JUN\" \"JUL\" \"AUG\" \"SEP\" \"OCT\" \"NOV\" \"DEC\""
      ]
     },
     "metadata": {},
     "output_type": "display_data"
    }
   ],
   "source": [
    "toupper(month.abb)"
   ]
  },
  {
   "cell_type": "code",
   "execution_count": 1,
   "id": "b0845a10",
   "metadata": {},
   "outputs": [
    {
     "data": {
      "text/html": [
       "'/home/lavrentev/jup_bioinformatics/r_basics_course'"
      ],
      "text/latex": [
       "'/home/lavrentev/jup\\_bioinformatics/r\\_basics\\_course'"
      ],
      "text/markdown": [
       "'/home/lavrentev/jup_bioinformatics/r_basics_course'"
      ],
      "text/plain": [
       "[1] \"/home/lavrentev/jup_bioinformatics/r_basics_course\""
      ]
     },
     "metadata": {},
     "output_type": "display_data"
    }
   ],
   "source": [
    "# рабочая директори\n",
    "getwd()"
   ]
  },
  {
   "cell_type": "code",
   "execution_count": 2,
   "id": "10de9b25",
   "metadata": {},
   "outputs": [
    {
     "data": {
      "text/html": [
       "<ol class=list-inline>\n",
       "\t<li>'1.2 Переменные, глобальное окружение, справка.ipynb'</li>\n",
       "\t<li>'1.3 Векторы (часть 1).ipynb'</li>\n",
       "\t<li>'1.4 Управляющие конструкции, работа с пакетами.ipynb'</li>\n",
       "\t<li>'1.5 Векторы (часть 2).ipynb'</li>\n",
       "\t<li>'2.1 Матрицы и списки.ipynb'</li>\n",
       "\t<li>'2.2 Дата фреймы.ipynb'</li>\n",
       "\t<li>'2.3 Факторы и строки.ipynb'</li>\n",
       "\t<li>'avianHabitat.csv'</li>\n",
       "\t<li>'avianHabitat2.csv'</li>\n",
       "\t<li>'help.ipynb'</li>\n",
       "\t<li>'input.csv'</li>\n",
       "\t<li>'test.csv'</li>\n",
       "</ol>\n"
      ],
      "text/latex": [
       "\\begin{enumerate*}\n",
       "\\item '1.2 Переменные, глобальное окружение, справка.ipynb'\n",
       "\\item '1.3 Векторы (часть 1).ipynb'\n",
       "\\item '1.4 Управляющие конструкции, работа с пакетами.ipynb'\n",
       "\\item '1.5 Векторы (часть 2).ipynb'\n",
       "\\item '2.1 Матрицы и списки.ipynb'\n",
       "\\item '2.2 Дата фреймы.ipynb'\n",
       "\\item '2.3 Факторы и строки.ipynb'\n",
       "\\item 'avianHabitat.csv'\n",
       "\\item 'avianHabitat2.csv'\n",
       "\\item 'help.ipynb'\n",
       "\\item 'input.csv'\n",
       "\\item 'test.csv'\n",
       "\\end{enumerate*}\n"
      ],
      "text/markdown": [
       "1. '1.2 Переменные, глобальное окружение, справка.ipynb'\n",
       "2. '1.3 Векторы (часть 1).ipynb'\n",
       "3. '1.4 Управляющие конструкции, работа с пакетами.ipynb'\n",
       "4. '1.5 Векторы (часть 2).ipynb'\n",
       "5. '2.1 Матрицы и списки.ipynb'\n",
       "6. '2.2 Дата фреймы.ipynb'\n",
       "7. '2.3 Факторы и строки.ipynb'\n",
       "8. 'avianHabitat.csv'\n",
       "9. 'avianHabitat2.csv'\n",
       "10. 'help.ipynb'\n",
       "11. 'input.csv'\n",
       "12. 'test.csv'\n",
       "\n",
       "\n"
      ],
      "text/plain": [
       " [1] \"1.2 Переменные, глобальное окружение, справка.ipynb\" \n",
       " [2] \"1.3 Векторы (часть 1).ipynb\"                         \n",
       " [3] \"1.4 Управляющие конструкции, работа с пакетами.ipynb\"\n",
       " [4] \"1.5 Векторы (часть 2).ipynb\"                         \n",
       " [5] \"2.1 Матрицы и списки.ipynb\"                          \n",
       " [6] \"2.2 Дата фреймы.ipynb\"                               \n",
       " [7] \"2.3 Факторы и строки.ipynb\"                          \n",
       " [8] \"avianHabitat.csv\"                                    \n",
       " [9] \"avianHabitat2.csv\"                                   \n",
       "[10] \"help.ipynb\"                                          \n",
       "[11] \"input.csv\"                                           \n",
       "[12] \"test.csv\"                                            "
      ]
     },
     "metadata": {},
     "output_type": "display_data"
    }
   ],
   "source": [
    "list.files()"
   ]
  },
  {
   "cell_type": "code",
   "execution_count": 3,
   "id": "165715f2",
   "metadata": {},
   "outputs": [
    {
     "data": {
      "text/html": [
       "<ol class=list-inline>\n",
       "\t<li>'1.2 Переменные, глобальное окружение, справка.ipynb'</li>\n",
       "\t<li>'1.3 Векторы (часть 1).ipynb'</li>\n",
       "\t<li>'1.4 Управляющие конструкции, работа с пакетами.ipynb'</li>\n",
       "\t<li>'1.5 Векторы (часть 2).ipynb'</li>\n",
       "\t<li>'2.1 Матрицы и списки.ipynb'</li>\n",
       "\t<li>'2.2 Дата фреймы.ipynb'</li>\n",
       "</ol>\n"
      ],
      "text/latex": [
       "\\begin{enumerate*}\n",
       "\\item '1.2 Переменные, глобальное окружение, справка.ipynb'\n",
       "\\item '1.3 Векторы (часть 1).ipynb'\n",
       "\\item '1.4 Управляющие конструкции, работа с пакетами.ipynb'\n",
       "\\item '1.5 Векторы (часть 2).ipynb'\n",
       "\\item '2.1 Матрицы и списки.ipynb'\n",
       "\\item '2.2 Дата фреймы.ipynb'\n",
       "\\end{enumerate*}\n"
      ],
      "text/markdown": [
       "1. '1.2 Переменные, глобальное окружение, справка.ipynb'\n",
       "2. '1.3 Векторы (часть 1).ipynb'\n",
       "3. '1.4 Управляющие конструкции, работа с пакетами.ipynb'\n",
       "4. '1.5 Векторы (часть 2).ipynb'\n",
       "5. '2.1 Матрицы и списки.ipynb'\n",
       "6. '2.2 Дата фреймы.ipynb'\n",
       "\n",
       "\n"
      ],
      "text/plain": [
       "[1] \"1.2 Переменные, глобальное окружение, справка.ipynb\" \n",
       "[2] \"1.3 Векторы (часть 1).ipynb\"                         \n",
       "[3] \"1.4 Управляющие конструкции, работа с пакетами.ipynb\"\n",
       "[4] \"1.5 Векторы (часть 2).ipynb\"                         \n",
       "[5] \"2.1 Матрицы и списки.ipynb\"                          \n",
       "[6] \"2.2 Дата фреймы.ipynb\"                               "
      ]
     },
     "metadata": {},
     "output_type": "display_data"
    }
   ],
   "source": [
    "head(list.files())"
   ]
  },
  {
   "cell_type": "code",
   "execution_count": 8,
   "id": "1f57012e",
   "metadata": {},
   "outputs": [
    {
     "data": {
      "text/html": [
       "<ol class=list-inline>\n",
       "\t<li>'../.ipynb_checkpoints'</li>\n",
       "\t<li>'../bioinform'</li>\n",
       "\t<li>'../biostatistics'</li>\n",
       "\t<li>'../r_basics_course'</li>\n",
       "\t<li>'../RegExp'</li>\n",
       "</ol>\n"
      ],
      "text/latex": [
       "\\begin{enumerate*}\n",
       "\\item '../.ipynb\\_checkpoints'\n",
       "\\item '../bioinform'\n",
       "\\item '../biostatistics'\n",
       "\\item '../r\\_basics\\_course'\n",
       "\\item '../RegExp'\n",
       "\\end{enumerate*}\n"
      ],
      "text/markdown": [
       "1. '../.ipynb_checkpoints'\n",
       "2. '../bioinform'\n",
       "3. '../biostatistics'\n",
       "4. '../r_basics_course'\n",
       "5. '../RegExp'\n",
       "\n",
       "\n"
      ],
      "text/plain": [
       "[1] \"../.ipynb_checkpoints\" \"../bioinform\"          \"../biostatistics\"     \n",
       "[4] \"../r_basics_course\"    \"../RegExp\"            "
      ]
     },
     "metadata": {},
     "output_type": "display_data"
    }
   ],
   "source": [
    "list.dirs(\"..\", recursive = F)"
   ]
  },
  {
   "cell_type": "code",
   "execution_count": 9,
   "id": "4124baf8",
   "metadata": {},
   "outputs": [],
   "source": [
    "# поменять рабочую директорию\n",
    "# setwd()"
   ]
  },
  {
   "cell_type": "code",
   "execution_count": 10,
   "id": "01c03800",
   "metadata": {},
   "outputs": [],
   "source": [
    "# форматирование вывода"
   ]
  },
  {
   "cell_type": "code",
   "execution_count": 12,
   "id": "f934e137",
   "metadata": {},
   "outputs": [
    {
     "data": {
      "text/html": [
       "<ol class=list-inline>\n",
       "\t<li>3.14159265358979</li>\n",
       "\t<li>23.1406926327793</li>\n",
       "</ol>\n"
      ],
      "text/latex": [
       "\\begin{enumerate*}\n",
       "\\item 3.14159265358979\n",
       "\\item 23.1406926327793\n",
       "\\end{enumerate*}\n"
      ],
      "text/markdown": [
       "1. 3.14159265358979\n",
       "2. 23.1406926327793\n",
       "\n",
       "\n"
      ],
      "text/plain": [
       "[1]  3.141593 23.140693"
      ]
     },
     "metadata": {},
     "output_type": "display_data"
    }
   ],
   "source": [
    "c(pi, exp(pi))"
   ]
  },
  {
   "cell_type": "code",
   "execution_count": 23,
   "id": "40f4f91a",
   "metadata": {},
   "outputs": [
    {
     "data": {
      "text/html": [
       "<ol class=list-inline>\n",
       "\t<li>'3.14'</li>\n",
       "\t<li>'23.1'</li>\n",
       "</ol>\n"
      ],
      "text/latex": [
       "\\begin{enumerate*}\n",
       "\\item '3.14'\n",
       "\\item '23.1'\n",
       "\\end{enumerate*}\n"
      ],
      "text/markdown": [
       "1. '3.14'\n",
       "2. '23.1'\n",
       "\n",
       "\n"
      ],
      "text/plain": [
       "[1] \"3.14\" \"23.1\""
      ]
     },
     "metadata": {},
     "output_type": "display_data"
    }
   ],
   "source": [
    "formatC(c(pi, exp(pi)), digits = 3)"
   ]
  },
  {
   "cell_type": "code",
   "execution_count": 24,
   "id": "e22e3730",
   "metadata": {},
   "outputs": [
    {
     "data": {
      "text/html": [
       "<ol class=list-inline>\n",
       "\t<li>'3.142e+00'</li>\n",
       "\t<li>'2.314e+01'</li>\n",
       "</ol>\n"
      ],
      "text/latex": [
       "\\begin{enumerate*}\n",
       "\\item '3.142e+00'\n",
       "\\item '2.314e+01'\n",
       "\\end{enumerate*}\n"
      ],
      "text/markdown": [
       "1. '3.142e+00'\n",
       "2. '2.314e+01'\n",
       "\n",
       "\n"
      ],
      "text/plain": [
       "[1] \"3.142e+00\" \"2.314e+01\""
      ]
     },
     "metadata": {},
     "output_type": "display_data"
    }
   ],
   "source": [
    "formatC(c(pi, exp(pi)), digits = 3, format = \"e\")"
   ]
  },
  {
   "cell_type": "code",
   "execution_count": 25,
   "id": "30da86f6",
   "metadata": {},
   "outputs": [
    {
     "name": "stdout",
     "output_type": "stream",
     "text": [
      "[1] \"Операция \\\"Ы\\\"\"\n"
     ]
    }
   ],
   "source": [
    "print('Операция \"Ы\"')"
   ]
  },
  {
   "cell_type": "code",
   "execution_count": 26,
   "id": "d4028c32",
   "metadata": {},
   "outputs": [
    {
     "name": "stdout",
     "output_type": "stream",
     "text": [
      "Операция \"Ы\""
     ]
    }
   ],
   "source": [
    "# вывод как есть, без нумерации, экранирования и кавычек\n",
    "cat('Операция \"Ы\"')"
   ]
  },
  {
   "cell_type": "code",
   "execution_count": 27,
   "id": "b63cac3a",
   "metadata": {},
   "outputs": [
    {
     "name": "stdout",
     "output_type": "stream",
     "text": [
      "[1] \"Трус\\tБалбес\\nБывалый\"\n"
     ]
    }
   ],
   "source": [
    "print(\"Трус\\tБалбес\\nБывалый\")"
   ]
  },
  {
   "cell_type": "code",
   "execution_count": 40,
   "id": "a2903817",
   "metadata": {},
   "outputs": [
    {
     "name": "stdout",
     "output_type": "stream",
     "text": [
      "Трус\n",
      "\tБалбес\n",
      "\t\tБывалый"
     ]
    }
   ],
   "source": [
    "# cat распознает esq последовательнсти \n",
    "cat(\"Трус\\n\\tБалбес\\n\\t\\tБывалый\")"
   ]
  },
  {
   "cell_type": "code",
   "execution_count": 38,
   "id": "94d1433a",
   "metadata": {},
   "outputs": [],
   "source": [
    "# глосарий\n",
    "\n",
    "# ?paste, ?paste, ?strsplit\n",
    "# ?grep, ?grepl, ?gsub\n",
    "# library(stringr): ?str_extract, ?strreplace, +_all\n",
    "# ?tolower, ?toupper\n",
    "# ?getwd(), setwd(), ?list.dirs, ?list.files\n",
    "# ?formatC, ?cat"
   ]
  },
  {
   "cell_type": "code",
   "execution_count": 41,
   "id": "3730dcab",
   "metadata": {},
   "outputs": [],
   "source": [
    "library(stringr)"
   ]
  },
  {
   "cell_type": "code",
   "execution_count": 49,
   "id": "679dcd56",
   "metadata": {},
   "outputs": [],
   "source": [
    "hamlet <- \"To be, or not to be: that is the question:\n",
    "Whether 'tis nobler in the mind to suffer\n",
    "The slings and arrows of outrageous fortune,\n",
    "Or to take arms against a sea of troubles,\n",
    "And by opposing end them?\""
   ]
  },
  {
   "cell_type": "code",
   "execution_count": 50,
   "id": "2a446412",
   "metadata": {},
   "outputs": [
    {
     "name": "stdout",
     "output_type": "stream",
     "text": [
      "To be, or not to be: that is the question:\n",
      "Whether 'tis nobler in the mind to suffer\n",
      "The slings and arrows of outrageous fortune,\n",
      "Or to take arms against a sea of troubles,\n",
      "And by opposing end them?"
     ]
    }
   ],
   "source": [
    "cat(hamlet)"
   ]
  },
  {
   "cell_type": "code",
   "execution_count": 52,
   "id": "a1e8c580",
   "metadata": {},
   "outputs": [],
   "source": [
    "hamlet <- str_replace_all(hamlet, \"[:punct:]\", \"\")"
   ]
  },
  {
   "cell_type": "code",
   "execution_count": 53,
   "id": "e9dd3481",
   "metadata": {},
   "outputs": [
    {
     "name": "stdout",
     "output_type": "stream",
     "text": [
      "To be or not to be that is the question\n",
      "Whether tis nobler in the mind to suffer\n",
      "The slings and arrows of outrageous fortune\n",
      "Or to take arms against a sea of troubles\n",
      "And by opposing end them"
     ]
    }
   ],
   "source": [
    "cat(hamlet)"
   ]
  },
  {
   "cell_type": "code",
   "execution_count": 54,
   "id": "5e572901",
   "metadata": {},
   "outputs": [],
   "source": [
    "hamlet <- tolower(unlist(str_split(hamlet, \"[:space:]\")))"
   ]
  },
  {
   "cell_type": "code",
   "execution_count": 56,
   "id": "78bf28fd",
   "metadata": {},
   "outputs": [
    {
     "name": "stdout",
     "output_type": "stream",
     "text": [
      " [1] \"to\"         \"be\"         \"or\"         \"not\"        \"to\"        \n",
      " [6] \"be\"         \"that\"       \"is\"         \"the\"        \"question\"  \n",
      "[11] \"whether\"    \"tis\"        \"nobler\"     \"in\"         \"the\"       \n",
      "[16] \"mind\"       \"to\"         \"suffer\"     \"the\"        \"slings\"    \n",
      "[21] \"and\"        \"arrows\"     \"of\"         \"outrageous\" \"fortune\"   \n",
      "[26] \"or\"         \"to\"         \"take\"       \"arms\"       \"against\"   \n",
      "[31] \"a\"          \"sea\"        \"of\"         \"troubles\"   \"and\"       \n",
      "[36] \"by\"         \"opposing\"   \"end\"        \"them\"      \n"
     ]
    }
   ],
   "source": [
    "print(hamlet)"
   ]
  },
  {
   "cell_type": "code",
   "execution_count": 76,
   "id": "154361bf",
   "metadata": {},
   "outputs": [
    {
     "data": {
      "text/plain": [
       "\n",
       "to \n",
       " 4 "
      ]
     },
     "metadata": {},
     "output_type": "display_data"
    }
   ],
   "source": [
    "# Количество слов \"to\"\n",
    "table(str_extract(hamlet, \"(to)\"))"
   ]
  },
  {
   "cell_type": "code",
   "execution_count": 75,
   "id": "2c077ad4",
   "metadata": {},
   "outputs": [
    {
     "data": {
      "text/plain": [
       "\n",
       "f q w \n",
       "4 1 2 "
      ]
     },
     "metadata": {},
     "output_type": "display_data"
    }
   ],
   "source": [
    "# Количество слов, содержащих любую букву из \"f\", \"q\" и \"w\"\n",
    "table(str_extract(hamlet, \"[fqw]\"))"
   ]
  },
  {
   "cell_type": "code",
   "execution_count": 74,
   "id": "418af4af",
   "metadata": {},
   "outputs": [
    {
     "data": {
      "text/plain": [
       "\n",
       "be bl by \n",
       " 2  2  1 "
      ]
     },
     "metadata": {},
     "output_type": "display_data"
    }
   ],
   "source": [
    "# Количество слов, содержащих букву \"b\", после которой -- любой другой символ\n",
    "table(str_extract(hamlet, \"b.\"))"
   ]
  },
  {
   "cell_type": "code",
   "execution_count": 73,
   "id": "634ff4dc",
   "metadata": {},
   "outputs": [
    {
     "data": {
      "text/plain": [
       "\n",
       "against fortune whether \n",
       "      1       1       1 "
      ]
     },
     "metadata": {},
     "output_type": "display_data"
    }
   ],
   "source": [
    "# количество слов ровно из 7 букв\n",
    "table(str_extract(hamlet, \"\\\\b[[:alpha:]]{7}\\\\b\"))"
   ]
  },
  {
   "cell_type": "code",
   "execution_count": 77,
   "id": "ba8e5a6e",
   "metadata": {},
   "outputs": [
    {
     "data": {
      "text/html": [
       "4"
      ],
      "text/latex": [
       "4"
      ],
      "text/markdown": [
       "4"
      ],
      "text/plain": [
       "[1] 4"
      ]
     },
     "metadata": {},
     "output_type": "display_data"
    },
    {
     "data": {
      "text/html": [
       "7"
      ],
      "text/latex": [
       "7"
      ],
      "text/markdown": [
       "7"
      ],
      "text/plain": [
       "[1] 7"
      ]
     },
     "metadata": {},
     "output_type": "display_data"
    },
    {
     "data": {
      "text/html": [
       "5"
      ],
      "text/latex": [
       "5"
      ],
      "text/markdown": [
       "5"
      ],
      "text/plain": [
       "[1] 5"
      ]
     },
     "metadata": {},
     "output_type": "display_data"
    },
    {
     "data": {
      "text/html": [
       "3"
      ],
      "text/latex": [
       "3"
      ],
      "text/markdown": [
       "3"
      ],
      "text/plain": [
       "[1] 3"
      ]
     },
     "metadata": {},
     "output_type": "display_data"
    }
   ],
   "source": [
    "sum(hamlet==\"to\")\n",
    "sum(grepl(\"[fqw]\", hamlet))\n",
    "sum(grepl(\"b.\", hamlet))\n",
    "sum(nchar(hamlet)==7)"
   ]
  },
  {
   "cell_type": "code",
   "execution_count": 82,
   "id": "10610181",
   "metadata": {},
   "outputs": [
    {
     "data": {
      "text/html": [
       "4"
      ],
      "text/latex": [
       "4"
      ],
      "text/markdown": [
       "4"
      ],
      "text/plain": [
       "[1] 4"
      ]
     },
     "metadata": {},
     "output_type": "display_data"
    },
    {
     "data": {
      "text/html": [
       "7"
      ],
      "text/latex": [
       "7"
      ],
      "text/markdown": [
       "7"
      ],
      "text/plain": [
       "[1] 7"
      ]
     },
     "metadata": {},
     "output_type": "display_data"
    },
    {
     "data": {
      "text/html": [
       "5"
      ],
      "text/latex": [
       "5"
      ],
      "text/markdown": [
       "5"
      ],
      "text/plain": [
       "[1] 5"
      ]
     },
     "metadata": {},
     "output_type": "display_data"
    },
    {
     "data": {
      "text/html": [
       "3"
      ],
      "text/latex": [
       "3"
      ],
      "text/markdown": [
       "3"
      ],
      "text/plain": [
       "[1] 3"
      ]
     },
     "metadata": {},
     "output_type": "display_data"
    }
   ],
   "source": [
    "sum(hamlet == 'to')\n",
    "length(grep(\"[fqw]\", hamlet))\n",
    "sum(str_detect(hamlet, \"b.\"))\n",
    "sum(str_length(hamlet)==7)"
   ]
  },
  {
   "cell_type": "code",
   "execution_count": 85,
   "id": "7561f87f",
   "metadata": {},
   "outputs": [
    {
     "data": {
      "text/html": [
       "0.02"
      ],
      "text/latex": [
       "0.02"
      ],
      "text/markdown": [
       "0.02"
      ],
      "text/plain": [
       "[1] 0.02"
      ]
     },
     "metadata": {},
     "output_type": "display_data"
    }
   ],
   "source": [
    "0.2 * 0.1"
   ]
  },
  {
   "cell_type": "code",
   "execution_count": 1,
   "id": "383429ac",
   "metadata": {},
   "outputs": [],
   "source": [
    "# факторы"
   ]
  },
  {
   "cell_type": "code",
   "execution_count": 93,
   "id": "5e23271e",
   "metadata": {},
   "outputs": [
    {
     "name": "stdout",
     "output_type": "stream",
     "text": [
      " [1] J S R Q P R X X S D E N I Y V O R C P X G I L E Y V D N H S\n",
      "Levels: C D E G H I J L N O P Q R S V X Y\n"
     ]
    }
   ],
   "source": [
    "set.seed(1337)\n",
    "f <- factor(sample(LETTERS, 30, replace = T))\n",
    "print(f)"
   ]
  },
  {
   "cell_type": "code",
   "execution_count": 94,
   "id": "37e0e2cb",
   "metadata": {},
   "outputs": [
    {
     "name": "stdout",
     "output_type": "stream",
     "text": [
      " Factor w/ 17 levels \"C\",\"D\",\"E\",\"G\",..: 7 14 13 12 11 13 16 16 14 2 ...\n"
     ]
    }
   ],
   "source": [
    "str(f)"
   ]
  },
  {
   "cell_type": "code",
   "execution_count": 95,
   "id": "4051fa65",
   "metadata": {},
   "outputs": [
    {
     "name": "stdout",
     "output_type": "stream",
     "text": [
      "7 14 13 12 11 13 16 16 14 2 3 9 6 17 15 10 13 1 11 16 4 6 8 3 17 15 2 9 5 14"
     ]
    }
   ],
   "source": [
    "cat(as.numeric(f))"
   ]
  },
  {
   "cell_type": "code",
   "execution_count": 96,
   "id": "d3189e60",
   "metadata": {},
   "outputs": [
    {
     "name": "stdout",
     "output_type": "stream",
     "text": [
      "J S R Q P R X X S D E N I Y V O R C P X G I L E Y V D N H S"
     ]
    }
   ],
   "source": [
    "cat(as.character(f))"
   ]
  },
  {
   "cell_type": "code",
   "execution_count": 97,
   "id": "9dc4edd5",
   "metadata": {},
   "outputs": [
    {
     "name": "stdout",
     "output_type": "stream",
     "text": [
      "C D E G H I J L N O P Q R S V X Y"
     ]
    }
   ],
   "source": [
    "# посмотреть уникальные уровни фактора\n",
    "cat(levels(f))"
   ]
  },
  {
   "cell_type": "code",
   "execution_count": 81,
   "id": "5a56ad25",
   "metadata": {},
   "outputs": [
    {
     "data": {
      "text/html": [
       "17"
      ],
      "text/latex": [
       "17"
      ],
      "text/markdown": [
       "17"
      ],
      "text/plain": [
       "[1] 17"
      ]
     },
     "metadata": {},
     "output_type": "display_data"
    }
   ],
   "source": [
    "nlevels(f)"
   ]
  },
  {
   "cell_type": "code",
   "execution_count": 82,
   "id": "139ae9e7",
   "metadata": {},
   "outputs": [
    {
     "data": {
      "text/html": [
       "17"
      ],
      "text/latex": [
       "17"
      ],
      "text/markdown": [
       "17"
      ],
      "text/plain": [
       "[1] 17"
      ]
     },
     "metadata": {},
     "output_type": "display_data"
    }
   ],
   "source": [
    "length(levels(f))"
   ]
  },
  {
   "cell_type": "code",
   "execution_count": 32,
   "id": "281d882d",
   "metadata": {},
   "outputs": [],
   "source": [
    "# индексированиек факторов"
   ]
  },
  {
   "cell_type": "code",
   "execution_count": 98,
   "id": "c186f3b0",
   "metadata": {},
   "outputs": [
    {
     "name": "stdout",
     "output_type": "stream",
     "text": [
      " [1] J S R Q P R X X S D E N I Y V O R C P X G I L E Y V D N H S\n",
      "Levels: C D E G H I J L N O P Q R S V X Y\n"
     ]
    }
   ],
   "source": [
    "print(f)"
   ]
  },
  {
   "cell_type": "code",
   "execution_count": 99,
   "id": "5575958e",
   "metadata": {},
   "outputs": [
    {
     "name": "stdout",
     "output_type": "stream",
     "text": [
      "[1] X X X\n",
      "Levels: C D E G H I J L N O P Q R S V X Y\n"
     ]
    }
   ],
   "source": [
    "print(f[f == \"X\"])"
   ]
  },
  {
   "cell_type": "code",
   "execution_count": 100,
   "id": "6cdbce51",
   "metadata": {},
   "outputs": [],
   "source": [
    "f[f == \"X\"] <- \"Y\""
   ]
  },
  {
   "cell_type": "code",
   "execution_count": 101,
   "id": "6d629845",
   "metadata": {},
   "outputs": [
    {
     "name": "stdout",
     "output_type": "stream",
     "text": [
      " [1] J S R Q P R Y Y S D E N I Y V O R C P Y G I L E Y V D N H S\n",
      "Levels: C D E G H I J L N O P Q R S V X Y\n"
     ]
    }
   ],
   "source": [
    "print(f)"
   ]
  },
  {
   "cell_type": "code",
   "execution_count": 105,
   "id": "5d4cd357",
   "metadata": {},
   "outputs": [],
   "source": [
    "# удаление пустого уровня"
   ]
  },
  {
   "cell_type": "code",
   "execution_count": 110,
   "id": "57c02aa2",
   "metadata": {},
   "outputs": [],
   "source": [
    "# (f <- droplevels(f))  присвоение в скобках - рузезультат присвоения выводится \n",
    "f <- droplevels(f)"
   ]
  },
  {
   "cell_type": "code",
   "execution_count": 111,
   "id": "d023aa96",
   "metadata": {},
   "outputs": [
    {
     "data": {
      "text/html": [
       "16"
      ],
      "text/latex": [
       "16"
      ],
      "text/markdown": [
       "16"
      ],
      "text/plain": [
       "[1] 16"
      ]
     },
     "metadata": {},
     "output_type": "display_data"
    }
   ],
   "source": [
    "nlevels(f)"
   ]
  },
  {
   "cell_type": "code",
   "execution_count": 112,
   "id": "e15be7ef",
   "metadata": {},
   "outputs": [],
   "source": [
    "# манипулирование градациями"
   ]
  },
  {
   "cell_type": "code",
   "execution_count": 114,
   "id": "0057d732",
   "metadata": {},
   "outputs": [
    {
     "name": "stdout",
     "output_type": "stream",
     "text": [
      "c d e g h i j l n o p q r s v y"
     ]
    }
   ],
   "source": [
    "levels(f) <- tolower(levels(f));cat(levels(f))"
   ]
  },
  {
   "cell_type": "code",
   "execution_count": 115,
   "id": "bcd7d92e",
   "metadata": {},
   "outputs": [
    {
     "name": "stdout",
     "output_type": "stream",
     "text": [
      " [1] j s r q p r y y s d e n i y v o r c p y g i l e y v d n h s\n",
      "Levels: c d e g h i j l n o p q r s v y\n"
     ]
    }
   ],
   "source": [
    "print(f)"
   ]
  },
  {
   "cell_type": "code",
   "execution_count": 131,
   "id": "369738c4",
   "metadata": {},
   "outputs": [
    {
     "name": "stdout",
     "output_type": "stream",
     "text": [
      "C D E G H I J L N O P Q R S V Y"
     ]
    }
   ],
   "source": [
    "# второй способ\n",
    "levels(f) <- LETTERS[letters %in% levels(f)];cat(levels(f))"
   ]
  },
  {
   "cell_type": "code",
   "execution_count": 132,
   "id": "d2b0123c",
   "metadata": {},
   "outputs": [
    {
     "name": "stdout",
     "output_type": "stream",
     "text": [
      " [1] J   S   R   Q   P   R   Y   Y   S   D   E   N   I   Y   V   O   R   bbb P  \n",
      "[20] Y   G   I   L   E   Y   V   D   N   H   S  \n",
      "Levels: bbb D E G H I J L N O P Q R S V Y\n"
     ]
    }
   ],
   "source": [
    "# заменить первый уровень\n",
    "levels(f)[1] <- \"bbb\";print(f)"
   ]
  },
  {
   "cell_type": "code",
   "execution_count": 138,
   "id": "1ecf6cf6",
   "metadata": {},
   "outputs": [
    {
     "name": "stdout",
     "output_type": "stream",
     "text": [
      " [1] hot           freezing cold comfortable   comfortable   hot          \n",
      " [6] burning hot   cold          comfortable   comfortable   cold         \n",
      "[11] comfortable   cold          burning hot   freezing cold\n",
      "Levels: freezing cold < cold < comfortable < hot < burning hot\n"
     ]
    }
   ],
   "source": [
    "# ordered factor\n",
    "temp <- c(\"freezing cold\", \"cold\", \"comfortable\", \"hot\", \"burning hot\")\n",
    "ft <- ordered(sample(temp, 14, replace = T), temp)\n",
    "print(ft)"
   ]
  },
  {
   "cell_type": "code",
   "execution_count": 140,
   "id": "b60086b9",
   "metadata": {},
   "outputs": [
    {
     "data": {
      "text/html": [
       "<ol class=list-inline>\n",
       "\t<li>burning hot</li>\n",
       "\t<li>burning hot</li>\n",
       "</ol>\n",
       "\n",
       "<details>\n",
       "\t<summary style=display:list-item;cursor:pointer>\n",
       "\t\t<strong>Levels</strong>:\n",
       "\t</summary>\n",
       "\t<ol class=list-inline>\n",
       "\t\t<li>'freezing cold'</li>\n",
       "\t\t<li>'cold'</li>\n",
       "\t\t<li>'comfortable'</li>\n",
       "\t\t<li>'hot'</li>\n",
       "\t\t<li>'burning hot'</li>\n",
       "\t</ol>\n",
       "</details>"
      ],
      "text/latex": [
       "\\begin{enumerate*}\n",
       "\\item burning hot\n",
       "\\item burning hot\n",
       "\\end{enumerate*}\n",
       "\n",
       "\\emph{Levels}: \\begin{enumerate*}\n",
       "\\item 'freezing cold'\n",
       "\\item 'cold'\n",
       "\\item 'comfortable'\n",
       "\\item 'hot'\n",
       "\\item 'burning hot'\n",
       "\\end{enumerate*}\n"
      ],
      "text/markdown": [
       "1. burning hot\n",
       "2. burning hot\n",
       "\n",
       "\n",
       "\n",
       "**Levels**: 1. 'freezing cold'\n",
       "2. 'cold'\n",
       "3. 'comfortable'\n",
       "4. 'hot'\n",
       "5. 'burning hot'\n",
       "\n",
       "\n"
      ],
      "text/plain": [
       "[1] burning hot burning hot\n",
       "Levels: freezing cold < cold < comfortable < hot < burning hot"
      ]
     },
     "metadata": {},
     "output_type": "display_data"
    }
   ],
   "source": [
    "ft[ft > \"hot\"]"
   ]
  },
  {
   "cell_type": "code",
   "execution_count": 141,
   "id": "a83882ca",
   "metadata": {},
   "outputs": [],
   "source": [
    "# разбиение"
   ]
  },
  {
   "cell_type": "code",
   "execution_count": 144,
   "id": "ebb8d6ae",
   "metadata": {},
   "outputs": [
    {
     "name": "stdout",
     "output_type": "stream",
     "text": [
      " [1] (-1,0] (-1,0] (-1,0] (0,1]  (0,1]  (-1,0] (-1,0] (-1,0] (-1,0] (1,2] \n",
      "10 Levels: (-5,-4] (-4,-3] (-3,-2] (-2,-1] (-1,0] (0,1] (1,2] (2,3] ... (4,5]\n"
     ]
    }
   ],
   "source": [
    "print(cut(rnorm(10), -5:5))"
   ]
  },
  {
   "cell_type": "code",
   "execution_count": 153,
   "id": "72829580",
   "metadata": {},
   "outputs": [
    {
     "data": {
      "text/plain": [
       "\n",
       "(-5,-4] (-4,-3] (-3,-2] (-2,-1]  (-1,0]   (0,1]   (1,2]   (2,3]   (3,4]   (4,5] \n",
       "      0       0       0       0       5       5       0       0       0       0 "
      ]
     },
     "metadata": {},
     "output_type": "display_data"
    }
   ],
   "source": [
    "table(cut(rnorm(10), breaks = -5:5))"
   ]
  },
  {
   "cell_type": "code",
   "execution_count": 157,
   "id": "3098293f",
   "metadata": {},
   "outputs": [
    {
     "data": {
      "image/png": "[encoded data removed]",
      "text/plain": [
       "plot without title"
      ]
     },
     "metadata": {},
     "output_type": "display_data"
    }
   ],
   "source": [
    "barplot(table(cut(rnorm(1000000),-5:5)))"
   ]
  },
  {
   "cell_type": "code",
   "execution_count": 158,
   "id": "74351808",
   "metadata": {},
   "outputs": [],
   "source": [
    "# ?optins"
   ]
  },
  {
   "cell_type": "code",
   "execution_count": 162,
   "id": "02d05928",
   "metadata": {},
   "outputs": [],
   "source": [
    "# по умолчанию все строки становятся факторами. Отменить такое поведение можно\n",
    "# перед загрузкой данных указать\n",
    "options(stringsAsFactors = F)"
   ]
  },
  {
   "cell_type": "code",
   "execution_count": 163,
   "id": "854ea1ea",
   "metadata": {},
   "outputs": [],
   "source": [
    "# apply для факторов tapply"
   ]
  },
  {
   "cell_type": "code",
   "execution_count": 164,
   "id": "25d07f5f",
   "metadata": {},
   "outputs": [
    {
     "name": "stdout",
     "output_type": "stream",
     "text": [
      "'data.frame':\t54 obs. of  3 variables:\n",
      " $ breaks : num  26 30 54 25 70 52 51 26 67 18 ...\n",
      " $ wool   : Factor w/ 2 levels \"A\",\"B\": 1 1 1 1 1 1 1 1 1 1 ...\n",
      " $ tension: Factor w/ 3 levels \"L\",\"M\",\"H\": 1 1 1 1 1 1 1 1 1 2 ...\n"
     ]
    }
   ],
   "source": [
    "str(warpbreaks)"
   ]
  },
  {
   "cell_type": "code",
   "execution_count": 167,
   "id": "9716a5d5",
   "metadata": {},
   "outputs": [
    {
     "data": {
      "text/html": [
       "<table>\n",
       "<thead><tr><th scope=col>breaks</th><th scope=col>wool</th><th scope=col>tension</th></tr></thead>\n",
       "<tbody>\n",
       "\t<tr><td>26</td><td>A </td><td>L </td></tr>\n",
       "\t<tr><td>30</td><td>A </td><td>L </td></tr>\n",
       "\t<tr><td>54</td><td>A </td><td>L </td></tr>\n",
       "\t<tr><td>25</td><td>A </td><td>L </td></tr>\n",
       "\t<tr><td>70</td><td>A </td><td>L </td></tr>\n",
       "\t<tr><td>52</td><td>A </td><td>L </td></tr>\n",
       "</tbody>\n",
       "</table>\n"
      ],
      "text/latex": [
       "\\begin{tabular}{r|lll}\n",
       " breaks & wool & tension\\\\\n",
       "\\hline\n",
       "\t 26 & A  & L \\\\\n",
       "\t 30 & A  & L \\\\\n",
       "\t 54 & A  & L \\\\\n",
       "\t 25 & A  & L \\\\\n",
       "\t 70 & A  & L \\\\\n",
       "\t 52 & A  & L \\\\\n",
       "\\end{tabular}\n"
      ],
      "text/markdown": [
       "\n",
       "| breaks | wool | tension |\n",
       "|---|---|---|\n",
       "| 26 | A  | L  |\n",
       "| 30 | A  | L  |\n",
       "| 54 | A  | L  |\n",
       "| 25 | A  | L  |\n",
       "| 70 | A  | L  |\n",
       "| 52 | A  | L  |\n",
       "\n"
      ],
      "text/plain": [
       "  breaks wool tension\n",
       "1 26     A    L      \n",
       "2 30     A    L      \n",
       "3 54     A    L      \n",
       "4 25     A    L      \n",
       "5 70     A    L      \n",
       "6 52     A    L      "
      ]
     },
     "metadata": {},
     "output_type": "display_data"
    }
   ],
   "source": [
    "head(warpbreaks)"
   ]
  },
  {
   "cell_type": "code",
   "execution_count": 166,
   "id": "8015f23c",
   "metadata": {},
   "outputs": [],
   "source": [
    "# какой тип шерсти приводит к максимальном числу поломок"
   ]
  },
  {
   "cell_type": "code",
   "execution_count": 181,
   "id": "6227b7f8",
   "metadata": {},
   "outputs": [
    {
     "data": {
      "text/html": [
       "<dl class=dl-horizontal>\n",
       "\t<dt>A</dt>\n",
       "\t\t<dd>70</dd>\n",
       "\t<dt>B</dt>\n",
       "\t\t<dd>44</dd>\n",
       "</dl>\n"
      ],
      "text/latex": [
       "\\begin{description*}\n",
       "\\item[A] 70\n",
       "\\item[B] 44\n",
       "\\end{description*}\n"
      ],
      "text/markdown": [
       "A\n",
       ":   70B\n",
       ":   44\n",
       "\n"
      ],
      "text/plain": [
       " A  B \n",
       "70 44 "
      ]
     },
     "metadata": {},
     "output_type": "display_data"
    }
   ],
   "source": [
    "tapply(warpbreaks$breaks, warpbreaks$wool, max)"
   ]
  },
  {
   "cell_type": "code",
   "execution_count": 182,
   "id": "c82f1936",
   "metadata": {},
   "outputs": [],
   "source": [
    "# Глоссарий\n",
    "\n",
    "# ?factor\n",
    "# ?levels, ?nlevels, ?droplevels\n",
    "# ?ordered\n",
    "# ?cut, ?table\n",
    "# ?options\n",
    "# ?tapply"
   ]
  },
  {
   "cell_type": "code",
   "execution_count": 183,
   "id": "86473d55",
   "metadata": {},
   "outputs": [
    {
     "data": {
      "text/html": [
       "<table>\n",
       "<thead><tr><th scope=col>lat</th><th scope=col>long</th><th scope=col>depth</th><th scope=col>mag</th><th scope=col>stations</th></tr></thead>\n",
       "<tbody>\n",
       "\t<tr><td>-20.42</td><td>181.62</td><td>562   </td><td>4.8   </td><td>41    </td></tr>\n",
       "\t<tr><td>-20.62</td><td>181.03</td><td>650   </td><td>4.2   </td><td>15    </td></tr>\n",
       "\t<tr><td>-26.00</td><td>184.10</td><td> 42   </td><td>5.4   </td><td>43    </td></tr>\n",
       "\t<tr><td>-17.97</td><td>181.66</td><td>626   </td><td>4.1   </td><td>19    </td></tr>\n",
       "\t<tr><td>-20.42</td><td>181.96</td><td>649   </td><td>4.0   </td><td>11    </td></tr>\n",
       "\t<tr><td>-19.68</td><td>184.31</td><td>195   </td><td>4.0   </td><td>12    </td></tr>\n",
       "</tbody>\n",
       "</table>\n"
      ],
      "text/latex": [
       "\\begin{tabular}{r|lllll}\n",
       " lat & long & depth & mag & stations\\\\\n",
       "\\hline\n",
       "\t -20.42 & 181.62 & 562    & 4.8    & 41    \\\\\n",
       "\t -20.62 & 181.03 & 650    & 4.2    & 15    \\\\\n",
       "\t -26.00 & 184.10 &  42    & 5.4    & 43    \\\\\n",
       "\t -17.97 & 181.66 & 626    & 4.1    & 19    \\\\\n",
       "\t -20.42 & 181.96 & 649    & 4.0    & 11    \\\\\n",
       "\t -19.68 & 184.31 & 195    & 4.0    & 12    \\\\\n",
       "\\end{tabular}\n"
      ],
      "text/markdown": [
       "\n",
       "| lat | long | depth | mag | stations |\n",
       "|---|---|---|---|---|\n",
       "| -20.42 | 181.62 | 562    | 4.8    | 41     |\n",
       "| -20.62 | 181.03 | 650    | 4.2    | 15     |\n",
       "| -26.00 | 184.10 |  42    | 5.4    | 43     |\n",
       "| -17.97 | 181.66 | 626    | 4.1    | 19     |\n",
       "| -20.42 | 181.96 | 649    | 4.0    | 11     |\n",
       "| -19.68 | 184.31 | 195    | 4.0    | 12     |\n",
       "\n"
      ],
      "text/plain": [
       "  lat    long   depth mag stations\n",
       "1 -20.42 181.62 562   4.8 41      \n",
       "2 -20.62 181.03 650   4.2 15      \n",
       "3 -26.00 184.10  42   5.4 43      \n",
       "4 -17.97 181.66 626   4.1 19      \n",
       "5 -20.42 181.96 649   4.0 11      \n",
       "6 -19.68 184.31 195   4.0 12      "
      ]
     },
     "metadata": {},
     "output_type": "display_data"
    }
   ],
   "source": [
    "head(quakes)"
   ]
  },
  {
   "cell_type": "code",
   "execution_count": 184,
   "id": "018eaeaf",
   "metadata": {},
   "outputs": [
    {
     "name": "stdout",
     "output_type": "stream",
     "text": [
      "'data.frame':\t1000 obs. of  5 variables:\n",
      " $ lat     : num  -20.4 -20.6 -26 -18 -20.4 ...\n",
      " $ long    : num  182 181 184 182 182 ...\n",
      " $ depth   : int  562 650 42 626 649 195 82 194 211 622 ...\n",
      " $ mag     : num  4.8 4.2 5.4 4.1 4 4 4.8 4.4 4.7 4.3 ...\n",
      " $ stations: int  41 15 43 19 11 12 43 15 35 19 ...\n"
     ]
    }
   ],
   "source": [
    "str(quakes)"
   ]
  },
  {
   "cell_type": "code",
   "execution_count": 185,
   "id": "575bf2d1",
   "metadata": {},
   "outputs": [
    {
     "data": {
      "text/plain": [
       "   Min. 1st Qu.  Median    Mean 3rd Qu.    Max. \n",
       "   4.00    4.30    4.60    4.62    4.90    6.40 "
      ]
     },
     "metadata": {},
     "output_type": "display_data"
    }
   ],
   "source": [
    "summary(quakes$mag)"
   ]
  },
  {
   "cell_type": "code",
   "execution_count": 246,
   "id": "a418b3f0",
   "metadata": {},
   "outputs": [
    {
     "data": {
      "text/html": [
       "<ol class=list-inline>\n",
       "\t<li>4</li>\n",
       "\t<li>4.5</li>\n",
       "\t<li>5</li>\n",
       "\t<li>5.5</li>\n",
       "\t<li>6</li>\n",
       "\t<li>6.5</li>\n",
       "</ol>\n"
      ],
      "text/latex": [
       "\\begin{enumerate*}\n",
       "\\item 4\n",
       "\\item 4.5\n",
       "\\item 5\n",
       "\\item 5.5\n",
       "\\item 6\n",
       "\\item 6.5\n",
       "\\end{enumerate*}\n"
      ],
      "text/markdown": [
       "1. 4\n",
       "2. 4.5\n",
       "3. 5\n",
       "4. 5.5\n",
       "5. 6\n",
       "6. 6.5\n",
       "\n",
       "\n"
      ],
      "text/plain": [
       "[1] 4.0 4.5 5.0 5.5 6.0 6.5"
      ]
     },
     "metadata": {},
     "output_type": "display_data"
    }
   ],
   "source": [
    "b_vec <- seq(4, 6.5, 0.5);b_vec"
   ]
  },
  {
   "cell_type": "code",
   "execution_count": 265,
   "id": "09987d6b",
   "metadata": {},
   "outputs": [
    {
     "data": {
      "text/plain": [
       "\n",
       "[4.5,5) [4,4.5) [5,5.5) [5.5,6) [6,6.5) \n",
       "    425     377     160      33       5 "
      ]
     },
     "metadata": {},
     "output_type": "display_data"
    }
   ],
   "source": [
    "sort(table(cut(quakes$mag, breaks = b_vec, right = F)), d = T)"
   ]
  },
  {
   "cell_type": "code",
   "execution_count": 23,
   "id": "319f38ff",
   "metadata": {},
   "outputs": [],
   "source": [
    "options(stringsAsFactors = F)\n",
    "avian <- read.table('avianHabitat.csv', sep = \",\", header = T, dec = \".\")"
   ]
  },
  {
   "cell_type": "code",
   "execution_count": 9,
   "id": "7a0d01c2",
   "metadata": {},
   "outputs": [
    {
     "data": {
      "text/html": [
       "<table>\n",
       "<thead><tr><th scope=col>Site</th><th scope=col>Observer</th><th scope=col>Subpoint</th><th scope=col>VOR</th><th scope=col>PDB</th><th scope=col>DBHt</th><th scope=col>PW</th><th scope=col>WHt</th><th scope=col>PE</th><th scope=col>EHt</th><th scope=col>PA</th><th scope=col>AHt</th><th scope=col>PH</th><th scope=col>HHt</th><th scope=col>PL</th><th scope=col>LHt</th><th scope=col>PB</th></tr></thead>\n",
       "<tbody>\n",
       "\t<tr><td>BunkerHill27</td><td>RA          </td><td>1           </td><td>6.0         </td><td>3           </td><td>5.2         </td><td>0           </td><td>0.0         </td><td>4           </td><td>2.9         </td><td>0           </td><td>0           </td><td>4           </td><td>3.0         </td><td>0           </td><td>0           </td><td>0           </td></tr>\n",
       "\t<tr><td>BunkerHill27</td><td>RA          </td><td>2           </td><td>4.5         </td><td>2           </td><td>3.1         </td><td>3           </td><td>4.7         </td><td>3           </td><td>4.1         </td><td>0           </td><td>0           </td><td>3           </td><td>3.5         </td><td>2           </td><td>1           </td><td>0           </td></tr>\n",
       "\t<tr><td>BunkerHill27</td><td>RA          </td><td>3           </td><td>2.0         </td><td>4           </td><td>5.5         </td><td>1           </td><td>5.8         </td><td>3           </td><td>3.9         </td><td>0           </td><td>0           </td><td>3           </td><td>7.5         </td><td>0           </td><td>0           </td><td>0           </td></tr>\n",
       "\t<tr><td>BunkerHill27</td><td>RA          </td><td>4           </td><td>2.5         </td><td>3           </td><td>6.2         </td><td>0           </td><td>0.0         </td><td>3           </td><td>4.0         </td><td>0           </td><td>0           </td><td>4           </td><td>5.0         </td><td>0           </td><td>0           </td><td>0           </td></tr>\n",
       "\t<tr><td>BunkerHill27</td><td>RA          </td><td>5           </td><td>4.0         </td><td>4           </td><td>5.4         </td><td>0           </td><td>0.0         </td><td>3           </td><td>3.5         </td><td>0           </td><td>0           </td><td>4           </td><td>3.7         </td><td>0           </td><td>0           </td><td>0           </td></tr>\n",
       "\t<tr><td>BunkerHill27</td><td>JT          </td><td>6           </td><td>2.0         </td><td>3           </td><td>4.0         </td><td>0           </td><td>0.0         </td><td>3           </td><td>4.1         </td><td>0           </td><td>0           </td><td>2           </td><td>3.5         </td><td>0           </td><td>0           </td><td>0           </td></tr>\n",
       "</tbody>\n",
       "</table>\n"
      ],
      "text/latex": [
       "\\begin{tabular}{r|lllllllllllllllll}\n",
       " Site & Observer & Subpoint & VOR & PDB & DBHt & PW & WHt & PE & EHt & PA & AHt & PH & HHt & PL & LHt & PB\\\\\n",
       "\\hline\n",
       "\t BunkerHill27 & RA           & 1            & 6.0          & 3            & 5.2          & 0            & 0.0          & 4            & 2.9          & 0            & 0            & 4            & 3.0          & 0            & 0            & 0           \\\\\n",
       "\t BunkerHill27 & RA           & 2            & 4.5          & 2            & 3.1          & 3            & 4.7          & 3            & 4.1          & 0            & 0            & 3            & 3.5          & 2            & 1            & 0           \\\\\n",
       "\t BunkerHill27 & RA           & 3            & 2.0          & 4            & 5.5          & 1            & 5.8          & 3            & 3.9          & 0            & 0            & 3            & 7.5          & 0            & 0            & 0           \\\\\n",
       "\t BunkerHill27 & RA           & 4            & 2.5          & 3            & 6.2          & 0            & 0.0          & 3            & 4.0          & 0            & 0            & 4            & 5.0          & 0            & 0            & 0           \\\\\n",
       "\t BunkerHill27 & RA           & 5            & 4.0          & 4            & 5.4          & 0            & 0.0          & 3            & 3.5          & 0            & 0            & 4            & 3.7          & 0            & 0            & 0           \\\\\n",
       "\t BunkerHill27 & JT           & 6            & 2.0          & 3            & 4.0          & 0            & 0.0          & 3            & 4.1          & 0            & 0            & 2            & 3.5          & 0            & 0            & 0           \\\\\n",
       "\\end{tabular}\n"
      ],
      "text/markdown": [
       "\n",
       "| Site | Observer | Subpoint | VOR | PDB | DBHt | PW | WHt | PE | EHt | PA | AHt | PH | HHt | PL | LHt | PB |\n",
       "|---|---|---|---|---|---|---|---|---|---|---|---|---|---|---|---|---|\n",
       "| BunkerHill27 | RA           | 1            | 6.0          | 3            | 5.2          | 0            | 0.0          | 4            | 2.9          | 0            | 0            | 4            | 3.0          | 0            | 0            | 0            |\n",
       "| BunkerHill27 | RA           | 2            | 4.5          | 2            | 3.1          | 3            | 4.7          | 3            | 4.1          | 0            | 0            | 3            | 3.5          | 2            | 1            | 0            |\n",
       "| BunkerHill27 | RA           | 3            | 2.0          | 4            | 5.5          | 1            | 5.8          | 3            | 3.9          | 0            | 0            | 3            | 7.5          | 0            | 0            | 0            |\n",
       "| BunkerHill27 | RA           | 4            | 2.5          | 3            | 6.2          | 0            | 0.0          | 3            | 4.0          | 0            | 0            | 4            | 5.0          | 0            | 0            | 0            |\n",
       "| BunkerHill27 | RA           | 5            | 4.0          | 4            | 5.4          | 0            | 0.0          | 3            | 3.5          | 0            | 0            | 4            | 3.7          | 0            | 0            | 0            |\n",
       "| BunkerHill27 | JT           | 6            | 2.0          | 3            | 4.0          | 0            | 0.0          | 3            | 4.1          | 0            | 0            | 2            | 3.5          | 0            | 0            | 0            |\n",
       "\n"
      ],
      "text/plain": [
       "  Site         Observer Subpoint VOR PDB DBHt PW WHt PE EHt PA AHt PH HHt PL\n",
       "1 BunkerHill27 RA       1        6.0 3   5.2  0  0.0 4  2.9 0  0   4  3.0 0 \n",
       "2 BunkerHill27 RA       2        4.5 2   3.1  3  4.7 3  4.1 0  0   3  3.5 2 \n",
       "3 BunkerHill27 RA       3        2.0 4   5.5  1  5.8 3  3.9 0  0   3  7.5 0 \n",
       "4 BunkerHill27 RA       4        2.5 3   6.2  0  0.0 3  4.0 0  0   4  5.0 0 \n",
       "5 BunkerHill27 RA       5        4.0 4   5.4  0  0.0 3  3.5 0  0   4  3.7 0 \n",
       "6 BunkerHill27 JT       6        2.0 3   4.0  0  0.0 3  4.1 0  0   2  3.5 0 \n",
       "  LHt PB\n",
       "1 0   0 \n",
       "2 1   0 \n",
       "3 0   0 \n",
       "4 0   0 \n",
       "5 0   0 \n",
       "6 0   0 "
      ]
     },
     "metadata": {},
     "output_type": "display_data"
    }
   ],
   "source": [
    "head(avian)"
   ]
  },
  {
   "cell_type": "code",
   "execution_count": 24,
   "id": "be4e434c",
   "metadata": {},
   "outputs": [
    {
     "name": "stdout",
     "output_type": "stream",
     "text": [
      "'data.frame':\t1070 obs. of  17 variables:\n",
      " $ Site    : chr  \"BunkerHill27\" \"BunkerHill27\" \"BunkerHill27\" \"BunkerHill27\" ...\n",
      " $ Observer: chr  \"RA\" \"RA\" \"RA\" \"RA\" ...\n",
      " $ Subpoint: int  1 2 3 4 5 6 7 8 9 10 ...\n",
      " $ VOR     : num  6 4.5 2 2.5 4 2 5.5 4 3.5 3.5 ...\n",
      " $ PDB     : int  3 2 4 3 4 3 3 2 2 2 ...\n",
      " $ DBHt    : num  5.2 3.1 5.5 6.2 5.4 4 5.2 4.4 5.7 4.8 ...\n",
      " $ PW      : int  0 3 1 0 0 0 2 1 1 0 ...\n",
      " $ WHt     : num  0 4.7 5.8 0 0 0 6.3 4.1 5.7 0 ...\n",
      " $ PE      : int  4 3 3 3 3 3 2 2 2 1 ...\n",
      " $ EHt     : num  2.9 4.1 3.9 4 3.5 4.1 2.6 4.3 5.2 1.7 ...\n",
      " $ PA      : int  0 0 0 0 0 0 0 0 0 0 ...\n",
      " $ AHt     : num  0 0 0 0 0 0 0 0 0 0 ...\n",
      " $ PH      : int  4 3 3 4 4 2 4 5 4 5 ...\n",
      " $ HHt     : num  3 3.5 7.5 5 3.7 3.5 5.8 8.2 6.9 5.7 ...\n",
      " $ PL      : int  0 2 0 0 0 0 0 0 0 0 ...\n",
      " $ LHt     : num  0 1 0 0 0 0 0 0 0 0 ...\n",
      " $ PB      : int  0 0 0 0 0 0 0 0 0 0 ...\n"
     ]
    }
   ],
   "source": [
    "str(avian)"
   ]
  },
  {
   "cell_type": "code",
   "execution_count": 25,
   "id": "b7fe67bb",
   "metadata": {},
   "outputs": [],
   "source": [
    "avian$Observer <- as.factor(avian$Observer)"
   ]
  },
  {
   "cell_type": "code",
   "execution_count": 26,
   "id": "8064df3b",
   "metadata": {},
   "outputs": [
    {
     "name": "stdout",
     "output_type": "stream",
     "text": [
      "'data.frame':\t1070 obs. of  17 variables:\n",
      " $ Site    : chr  \"BunkerHill27\" \"BunkerHill27\" \"BunkerHill27\" \"BunkerHill27\" ...\n",
      " $ Observer: Factor w/ 3 levels \"JT\",\"RA\",\"RR\": 2 2 2 2 2 1 1 1 1 1 ...\n",
      " $ Subpoint: int  1 2 3 4 5 6 7 8 9 10 ...\n",
      " $ VOR     : num  6 4.5 2 2.5 4 2 5.5 4 3.5 3.5 ...\n",
      " $ PDB     : int  3 2 4 3 4 3 3 2 2 2 ...\n",
      " $ DBHt    : num  5.2 3.1 5.5 6.2 5.4 4 5.2 4.4 5.7 4.8 ...\n",
      " $ PW      : int  0 3 1 0 0 0 2 1 1 0 ...\n",
      " $ WHt     : num  0 4.7 5.8 0 0 0 6.3 4.1 5.7 0 ...\n",
      " $ PE      : int  4 3 3 3 3 3 2 2 2 1 ...\n",
      " $ EHt     : num  2.9 4.1 3.9 4 3.5 4.1 2.6 4.3 5.2 1.7 ...\n",
      " $ PA      : int  0 0 0 0 0 0 0 0 0 0 ...\n",
      " $ AHt     : num  0 0 0 0 0 0 0 0 0 0 ...\n",
      " $ PH      : int  4 3 3 4 4 2 4 5 4 5 ...\n",
      " $ HHt     : num  3 3.5 7.5 5 3.7 3.5 5.8 8.2 6.9 5.7 ...\n",
      " $ PL      : int  0 2 0 0 0 0 0 0 0 0 ...\n",
      " $ LHt     : num  0 1 0 0 0 0 0 0 0 0 ...\n",
      " $ PB      : int  0 0 0 0 0 0 0 0 0 0 ...\n"
     ]
    }
   ],
   "source": [
    "str(avian)"
   ]
  },
  {
   "cell_type": "code",
   "execution_count": 14,
   "id": "cb6dc2df",
   "metadata": {},
   "outputs": [
    {
     "data": {
      "text/html": [
       "<ol class=list-inline>\n",
       "\t<li>'1.2 Переменные, глобальное окружение, справка.ipynb'</li>\n",
       "\t<li>'1.3 Векторы (часть 1).ipynb'</li>\n",
       "\t<li>'1.4 Управляющие конструкции, работа с пакетами.ipynb'</li>\n",
       "\t<li>'1.5 Векторы (часть 2).ipynb'</li>\n",
       "\t<li>'2.1 Матрицы и списки.ipynb'</li>\n",
       "\t<li>'2.2 Дата фреймы.ipynb'</li>\n",
       "\t<li>'2.3 Факторы и строки.ipynb'</li>\n",
       "\t<li>'avianHabitat.csv'</li>\n",
       "\t<li>'avianHabitat2.csv'</li>\n",
       "\t<li>'help.ipynb'</li>\n",
       "\t<li>'input.csv'</li>\n",
       "\t<li>'test.csv'</li>\n",
       "</ol>\n"
      ],
      "text/latex": [
       "\\begin{enumerate*}\n",
       "\\item '1.2 Переменные, глобальное окружение, справка.ipynb'\n",
       "\\item '1.3 Векторы (часть 1).ipynb'\n",
       "\\item '1.4 Управляющие конструкции, работа с пакетами.ipynb'\n",
       "\\item '1.5 Векторы (часть 2).ipynb'\n",
       "\\item '2.1 Матрицы и списки.ipynb'\n",
       "\\item '2.2 Дата фреймы.ipynb'\n",
       "\\item '2.3 Факторы и строки.ipynb'\n",
       "\\item 'avianHabitat.csv'\n",
       "\\item 'avianHabitat2.csv'\n",
       "\\item 'help.ipynb'\n",
       "\\item 'input.csv'\n",
       "\\item 'test.csv'\n",
       "\\end{enumerate*}\n"
      ],
      "text/markdown": [
       "1. '1.2 Переменные, глобальное окружение, справка.ipynb'\n",
       "2. '1.3 Векторы (часть 1).ipynb'\n",
       "3. '1.4 Управляющие конструкции, работа с пакетами.ipynb'\n",
       "4. '1.5 Векторы (часть 2).ipynb'\n",
       "5. '2.1 Матрицы и списки.ipynb'\n",
       "6. '2.2 Дата фреймы.ipynb'\n",
       "7. '2.3 Факторы и строки.ipynb'\n",
       "8. 'avianHabitat.csv'\n",
       "9. 'avianHabitat2.csv'\n",
       "10. 'help.ipynb'\n",
       "11. 'input.csv'\n",
       "12. 'test.csv'\n",
       "\n",
       "\n"
      ],
      "text/plain": [
       " [1] \"1.2 Переменные, глобальное окружение, справка.ipynb\" \n",
       " [2] \"1.3 Векторы (часть 1).ipynb\"                         \n",
       " [3] \"1.4 Управляющие конструкции, работа с пакетами.ipynb\"\n",
       " [4] \"1.5 Векторы (часть 2).ipynb\"                         \n",
       " [5] \"2.1 Матрицы и списки.ipynb\"                          \n",
       " [6] \"2.2 Дата фреймы.ipynb\"                               \n",
       " [7] \"2.3 Факторы и строки.ipynb\"                          \n",
       " [8] \"avianHabitat.csv\"                                    \n",
       " [9] \"avianHabitat2.csv\"                                   \n",
       "[10] \"help.ipynb\"                                          \n",
       "[11] \"input.csv\"                                           \n",
       "[12] \"test.csv\"                                            "
      ]
     },
     "metadata": {},
     "output_type": "display_data"
    }
   ],
   "source": [
    "list.files()"
   ]
  },
  {
   "cell_type": "code",
   "execution_count": 16,
   "id": "6c095d2f",
   "metadata": {},
   "outputs": [
    {
     "data": {
      "text/html": [
       "<ol class=list-inline>\n",
       "\t<li>'avianHabitat.csv'</li>\n",
       "\t<li>'avianHabitat2.csv'</li>\n",
       "\t<li>'input.csv'</li>\n",
       "\t<li>'test.csv'</li>\n",
       "</ol>\n"
      ],
      "text/latex": [
       "\\begin{enumerate*}\n",
       "\\item 'avianHabitat.csv'\n",
       "\\item 'avianHabitat2.csv'\n",
       "\\item 'input.csv'\n",
       "\\item 'test.csv'\n",
       "\\end{enumerate*}\n"
      ],
      "text/markdown": [
       "1. 'avianHabitat.csv'\n",
       "2. 'avianHabitat2.csv'\n",
       "3. 'input.csv'\n",
       "4. 'test.csv'\n",
       "\n",
       "\n"
      ],
      "text/plain": [
       "[1] \"avianHabitat.csv\"  \"avianHabitat2.csv\" \"input.csv\"        \n",
       "[4] \"test.csv\"         "
      ]
     },
     "metadata": {},
     "output_type": "display_data"
    }
   ],
   "source": [
    "list.files(pattern = \".*\\\\.csv$\")"
   ]
  },
  {
   "cell_type": "code",
   "execution_count": 17,
   "id": "8938dfb7",
   "metadata": {},
   "outputs": [
    {
     "data": {
      "text/html": [
       "<ol class=list-inline>\n",
       "\t<li>'Site,Observer,Subpoint,VOR,PDB,DBHt,PW,WHt,PE,EHt,PA,AHt,PH,HHt,PL,LHt,PB'</li>\n",
       "\t<li>'BunkerHill27,RA,1,6,3,5.2,0,0,4,2.9,0,0,4,3,0,0,0'</li>\n",
       "\t<li>'BunkerHill27,RA,2,4.5,2,3.1,3,4.7,3,4.1,0,0,3,3.5,2,1,0'</li>\n",
       "\t<li>'BunkerHill27,RA,3,2,4,5.5,1,5.8,3,3.9,0,0,3,7.5,0,0,0'</li>\n",
       "\t<li>'BunkerHill27,RA,4,2.5,3,6.2,0,0,3,4,0,0,4,5,0,0,0'</li>\n",
       "</ol>\n"
      ],
      "text/latex": [
       "\\begin{enumerate*}\n",
       "\\item 'Site,Observer,Subpoint,VOR,PDB,DBHt,PW,WHt,PE,EHt,PA,AHt,PH,HHt,PL,LHt,PB'\n",
       "\\item 'BunkerHill27,RA,1,6,3,5.2,0,0,4,2.9,0,0,4,3,0,0,0'\n",
       "\\item 'BunkerHill27,RA,2,4.5,2,3.1,3,4.7,3,4.1,0,0,3,3.5,2,1,0'\n",
       "\\item 'BunkerHill27,RA,3,2,4,5.5,1,5.8,3,3.9,0,0,3,7.5,0,0,0'\n",
       "\\item 'BunkerHill27,RA,4,2.5,3,6.2,0,0,3,4,0,0,4,5,0,0,0'\n",
       "\\end{enumerate*}\n"
      ],
      "text/markdown": [
       "1. 'Site,Observer,Subpoint,VOR,PDB,DBHt,PW,WHt,PE,EHt,PA,AHt,PH,HHt,PL,LHt,PB'\n",
       "2. 'BunkerHill27,RA,1,6,3,5.2,0,0,4,2.9,0,0,4,3,0,0,0'\n",
       "3. 'BunkerHill27,RA,2,4.5,2,3.1,3,4.7,3,4.1,0,0,3,3.5,2,1,0'\n",
       "4. 'BunkerHill27,RA,3,2,4,5.5,1,5.8,3,3.9,0,0,3,7.5,0,0,0'\n",
       "5. 'BunkerHill27,RA,4,2.5,3,6.2,0,0,3,4,0,0,4,5,0,0,0'\n",
       "\n",
       "\n"
      ],
      "text/plain": [
       "[1] \"Site,Observer,Subpoint,VOR,PDB,DBHt,PW,WHt,PE,EHt,PA,AHt,PH,HHt,PL,LHt,PB\"\n",
       "[2] \"BunkerHill27,RA,1,6,3,5.2,0,0,4,2.9,0,0,4,3,0,0,0\"                        \n",
       "[3] \"BunkerHill27,RA,2,4.5,2,3.1,3,4.7,3,4.1,0,0,3,3.5,2,1,0\"                  \n",
       "[4] \"BunkerHill27,RA,3,2,4,5.5,1,5.8,3,3.9,0,0,3,7.5,0,0,0\"                    \n",
       "[5] \"BunkerHill27,RA,4,2.5,3,6.2,0,0,3,4,0,0,4,5,0,0,0\"                        "
      ]
     },
     "metadata": {},
     "output_type": "display_data"
    }
   ],
   "source": [
    "readLines(\"avianHabitat.csv\",5)"
   ]
  },
  {
   "cell_type": "code",
   "execution_count": 27,
   "id": "36dc455e",
   "metadata": {},
   "outputs": [
    {
     "data": {
      "text/html": [
       "<table>\n",
       "<thead><tr><th scope=col>Site</th><th scope=col>Observer</th><th scope=col>Subpoint</th><th scope=col>VOR</th><th scope=col>PDB</th><th scope=col>DBHt</th><th scope=col>PW</th><th scope=col>WHt</th><th scope=col>PE</th><th scope=col>EHt</th><th scope=col>PA</th><th scope=col>AHt</th><th scope=col>PH</th><th scope=col>HHt</th><th scope=col>PL</th><th scope=col>LHt</th><th scope=col>PB</th></tr></thead>\n",
       "<tbody>\n",
       "\t<tr><td>BunkerHill27</td><td>RA          </td><td>1           </td><td>6.0         </td><td>3           </td><td>5.2         </td><td>0           </td><td>0.0         </td><td>4           </td><td>2.9         </td><td>0           </td><td>0           </td><td>4           </td><td>3.0         </td><td>0           </td><td>0           </td><td>0           </td></tr>\n",
       "\t<tr><td>BunkerHill27</td><td>RA          </td><td>2           </td><td>4.5         </td><td>2           </td><td>3.1         </td><td>3           </td><td>4.7         </td><td>3           </td><td>4.1         </td><td>0           </td><td>0           </td><td>3           </td><td>3.5         </td><td>2           </td><td>1           </td><td>0           </td></tr>\n",
       "\t<tr><td>BunkerHill27</td><td>RA          </td><td>3           </td><td>2.0         </td><td>4           </td><td>5.5         </td><td>1           </td><td>5.8         </td><td>3           </td><td>3.9         </td><td>0           </td><td>0           </td><td>3           </td><td>7.5         </td><td>0           </td><td>0           </td><td>0           </td></tr>\n",
       "\t<tr><td>BunkerHill27</td><td>RA          </td><td>4           </td><td>2.5         </td><td>3           </td><td>6.2         </td><td>0           </td><td>0.0         </td><td>3           </td><td>4.0         </td><td>0           </td><td>0           </td><td>4           </td><td>5.0         </td><td>0           </td><td>0           </td><td>0           </td></tr>\n",
       "\t<tr><td>BunkerHill27</td><td>RA          </td><td>5           </td><td>4.0         </td><td>4           </td><td>5.4         </td><td>0           </td><td>0.0         </td><td>3           </td><td>3.5         </td><td>0           </td><td>0           </td><td>4           </td><td>3.7         </td><td>0           </td><td>0           </td><td>0           </td></tr>\n",
       "\t<tr><td>BunkerHill27</td><td>JT          </td><td>6           </td><td>2.0         </td><td>3           </td><td>4.0         </td><td>0           </td><td>0.0         </td><td>3           </td><td>4.1         </td><td>0           </td><td>0           </td><td>2           </td><td>3.5         </td><td>0           </td><td>0           </td><td>0           </td></tr>\n",
       "</tbody>\n",
       "</table>\n"
      ],
      "text/latex": [
       "\\begin{tabular}{r|lllllllllllllllll}\n",
       " Site & Observer & Subpoint & VOR & PDB & DBHt & PW & WHt & PE & EHt & PA & AHt & PH & HHt & PL & LHt & PB\\\\\n",
       "\\hline\n",
       "\t BunkerHill27 & RA           & 1            & 6.0          & 3            & 5.2          & 0            & 0.0          & 4            & 2.9          & 0            & 0            & 4            & 3.0          & 0            & 0            & 0           \\\\\n",
       "\t BunkerHill27 & RA           & 2            & 4.5          & 2            & 3.1          & 3            & 4.7          & 3            & 4.1          & 0            & 0            & 3            & 3.5          & 2            & 1            & 0           \\\\\n",
       "\t BunkerHill27 & RA           & 3            & 2.0          & 4            & 5.5          & 1            & 5.8          & 3            & 3.9          & 0            & 0            & 3            & 7.5          & 0            & 0            & 0           \\\\\n",
       "\t BunkerHill27 & RA           & 4            & 2.5          & 3            & 6.2          & 0            & 0.0          & 3            & 4.0          & 0            & 0            & 4            & 5.0          & 0            & 0            & 0           \\\\\n",
       "\t BunkerHill27 & RA           & 5            & 4.0          & 4            & 5.4          & 0            & 0.0          & 3            & 3.5          & 0            & 0            & 4            & 3.7          & 0            & 0            & 0           \\\\\n",
       "\t BunkerHill27 & JT           & 6            & 2.0          & 3            & 4.0          & 0            & 0.0          & 3            & 4.1          & 0            & 0            & 2            & 3.5          & 0            & 0            & 0           \\\\\n",
       "\\end{tabular}\n"
      ],
      "text/markdown": [
       "\n",
       "| Site | Observer | Subpoint | VOR | PDB | DBHt | PW | WHt | PE | EHt | PA | AHt | PH | HHt | PL | LHt | PB |\n",
       "|---|---|---|---|---|---|---|---|---|---|---|---|---|---|---|---|---|\n",
       "| BunkerHill27 | RA           | 1            | 6.0          | 3            | 5.2          | 0            | 0.0          | 4            | 2.9          | 0            | 0            | 4            | 3.0          | 0            | 0            | 0            |\n",
       "| BunkerHill27 | RA           | 2            | 4.5          | 2            | 3.1          | 3            | 4.7          | 3            | 4.1          | 0            | 0            | 3            | 3.5          | 2            | 1            | 0            |\n",
       "| BunkerHill27 | RA           | 3            | 2.0          | 4            | 5.5          | 1            | 5.8          | 3            | 3.9          | 0            | 0            | 3            | 7.5          | 0            | 0            | 0            |\n",
       "| BunkerHill27 | RA           | 4            | 2.5          | 3            | 6.2          | 0            | 0.0          | 3            | 4.0          | 0            | 0            | 4            | 5.0          | 0            | 0            | 0            |\n",
       "| BunkerHill27 | RA           | 5            | 4.0          | 4            | 5.4          | 0            | 0.0          | 3            | 3.5          | 0            | 0            | 4            | 3.7          | 0            | 0            | 0            |\n",
       "| BunkerHill27 | JT           | 6            | 2.0          | 3            | 4.0          | 0            | 0.0          | 3            | 4.1          | 0            | 0            | 2            | 3.5          | 0            | 0            | 0            |\n",
       "\n"
      ],
      "text/plain": [
       "  Site         Observer Subpoint VOR PDB DBHt PW WHt PE EHt PA AHt PH HHt PL\n",
       "1 BunkerHill27 RA       1        6.0 3   5.2  0  0.0 4  2.9 0  0   4  3.0 0 \n",
       "2 BunkerHill27 RA       2        4.5 2   3.1  3  4.7 3  4.1 0  0   3  3.5 2 \n",
       "3 BunkerHill27 RA       3        2.0 4   5.5  1  5.8 3  3.9 0  0   3  7.5 0 \n",
       "4 BunkerHill27 RA       4        2.5 3   6.2  0  0.0 3  4.0 0  0   4  5.0 0 \n",
       "5 BunkerHill27 RA       5        4.0 4   5.4  0  0.0 3  3.5 0  0   4  3.7 0 \n",
       "6 BunkerHill27 JT       6        2.0 3   4.0  0  0.0 3  4.1 0  0   2  3.5 0 \n",
       "  LHt PB\n",
       "1 0   0 \n",
       "2 1   0 \n",
       "3 0   0 \n",
       "4 0   0 \n",
       "5 0   0 \n",
       "6 0   0 "
      ]
     },
     "metadata": {},
     "output_type": "display_data"
    }
   ],
   "source": [
    "head(avian)"
   ]
  },
  {
   "cell_type": "code",
   "execution_count": 30,
   "id": "a46dea8e",
   "metadata": {},
   "outputs": [
    {
     "data": {
      "text/html": [
       "FALSE"
      ],
      "text/latex": [
       "FALSE"
      ],
      "text/markdown": [
       "FALSE"
      ],
      "text/plain": [
       "[1] FALSE"
      ]
     },
     "metadata": {},
     "output_type": "display_data"
    }
   ],
   "source": [
    "any(!complete.cases(avian))"
   ]
  },
  {
   "cell_type": "code",
   "execution_count": 31,
   "id": "80bd8fb5",
   "metadata": {},
   "outputs": [
    {
     "data": {
      "text/html": [
       "FALSE"
      ],
      "text/latex": [
       "FALSE"
      ],
      "text/markdown": [
       "FALSE"
      ],
      "text/plain": [
       "[1] FALSE"
      ]
     },
     "metadata": {},
     "output_type": "display_data"
    }
   ],
   "source": [
    "any(avian$PDB < 0)"
   ]
  },
  {
   "cell_type": "code",
   "execution_count": 32,
   "id": "96e14f78",
   "metadata": {},
   "outputs": [
    {
     "data": {
      "text/html": [
       "FALSE"
      ],
      "text/latex": [
       "FALSE"
      ],
      "text/markdown": [
       "FALSE"
      ],
      "text/plain": [
       "[1] FALSE"
      ]
     },
     "metadata": {},
     "output_type": "display_data"
    }
   ],
   "source": [
    "any(avian$PDB > 100)"
   ]
  },
  {
   "cell_type": "code",
   "execution_count": 35,
   "id": "da138e84",
   "metadata": {},
   "outputs": [],
   "source": [
    "check_percent_range <- function(x) {\n",
    "    any(x < 0 | x > 100)\n",
    "}"
   ]
  },
  {
   "cell_type": "code",
   "execution_count": 36,
   "id": "59df6bc1",
   "metadata": {},
   "outputs": [
    {
     "data": {
      "text/html": [
       "FALSE"
      ],
      "text/latex": [
       "FALSE"
      ],
      "text/markdown": [
       "FALSE"
      ],
      "text/plain": [
       "[1] FALSE"
      ]
     },
     "metadata": {},
     "output_type": "display_data"
    }
   ],
   "source": [
    "check_percent_range(avian$PW)"
   ]
  },
  {
   "cell_type": "code",
   "execution_count": 37,
   "id": "60814ce7",
   "metadata": {},
   "outputs": [],
   "source": [
    "# coverage_variables <- names(avian)[-c(1:4)][c(T, F)]"
   ]
  },
  {
   "cell_type": "code",
   "execution_count": 38,
   "id": "c7f70afc",
   "metadata": {},
   "outputs": [],
   "source": [
    "library(stringr)"
   ]
  },
  {
   "cell_type": "code",
   "execution_count": 39,
   "id": "600482d7",
   "metadata": {},
   "outputs": [
    {
     "data": {
      "text/html": [
       "<ol class=list-inline>\n",
       "\t<li>'PDB'</li>\n",
       "\t<li>'PW'</li>\n",
       "\t<li>'PE'</li>\n",
       "\t<li>'PA'</li>\n",
       "\t<li>'PH'</li>\n",
       "\t<li>'PL'</li>\n",
       "\t<li>'PB'</li>\n",
       "</ol>\n"
      ],
      "text/latex": [
       "\\begin{enumerate*}\n",
       "\\item 'PDB'\n",
       "\\item 'PW'\n",
       "\\item 'PE'\n",
       "\\item 'PA'\n",
       "\\item 'PH'\n",
       "\\item 'PL'\n",
       "\\item 'PB'\n",
       "\\end{enumerate*}\n"
      ],
      "text/markdown": [
       "1. 'PDB'\n",
       "2. 'PW'\n",
       "3. 'PE'\n",
       "4. 'PA'\n",
       "5. 'PH'\n",
       "6. 'PL'\n",
       "7. 'PB'\n",
       "\n",
       "\n"
      ],
      "text/plain": [
       "[1] \"PDB\" \"PW\"  \"PE\"  \"PA\"  \"PH\"  \"PL\"  \"PB\" "
      ]
     },
     "metadata": {},
     "output_type": "display_data"
    }
   ],
   "source": [
    "coverage_variables <- names(avian)[str_detect(names(avian), \"^P\")];coverage_variables"
   ]
  },
  {
   "cell_type": "code",
   "execution_count": 44,
   "id": "9f132b09",
   "metadata": {},
   "outputs": [
    {
     "data": {
      "text/html": [
       "<dl class=dl-horizontal>\n",
       "\t<dt>PDB</dt>\n",
       "\t\t<dd>FALSE</dd>\n",
       "\t<dt>PW</dt>\n",
       "\t\t<dd>FALSE</dd>\n",
       "\t<dt>PE</dt>\n",
       "\t\t<dd>FALSE</dd>\n",
       "\t<dt>PA</dt>\n",
       "\t\t<dd>FALSE</dd>\n",
       "\t<dt>PH</dt>\n",
       "\t\t<dd>FALSE</dd>\n",
       "\t<dt>PL</dt>\n",
       "\t\t<dd>FALSE</dd>\n",
       "\t<dt>PB</dt>\n",
       "\t\t<dd>FALSE</dd>\n",
       "</dl>\n"
      ],
      "text/latex": [
       "\\begin{description*}\n",
       "\\item[PDB] FALSE\n",
       "\\item[PW] FALSE\n",
       "\\item[PE] FALSE\n",
       "\\item[PA] FALSE\n",
       "\\item[PH] FALSE\n",
       "\\item[PL] FALSE\n",
       "\\item[PB] FALSE\n",
       "\\end{description*}\n"
      ],
      "text/markdown": [
       "PDB\n",
       ":   FALSEPW\n",
       ":   FALSEPE\n",
       ":   FALSEPA\n",
       ":   FALSEPH\n",
       ":   FALSEPL\n",
       ":   FALSEPB\n",
       ":   FALSE\n",
       "\n"
      ],
      "text/plain": [
       "  PDB    PW    PE    PA    PH    PL    PB \n",
       "FALSE FALSE FALSE FALSE FALSE FALSE FALSE "
      ]
     },
     "metadata": {},
     "output_type": "display_data"
    }
   ],
   "source": [
    "sapply(coverage_variables, function(name) check_percent_range(avian[[name]]))"
   ]
  },
  {
   "cell_type": "code",
   "execution_count": 46,
   "id": "877650f7",
   "metadata": {},
   "outputs": [
    {
     "name": "stdout",
     "output_type": "stream",
     "text": [
      "  [1] \"BunkerHill27\"       \"BunkerHill26\"       \"BunkerHill25\"      \n",
      "  [4] \"BunkerHill12\"       \"BunkerHill13\"       \"BunkerHill14\"      \n",
      "  [7] \"BunkerHill15\"       \"BunkerHill16\"       \"BunkerHill17\"      \n",
      " [10] \"BunkerHill24\"       \"BunkerHill23\"       \"BunkerHill22\"      \n",
      " [13] \"BunkerHill21\"       \"BunkerHill11\"       \"CreteCreek18\"      \n",
      " [16] \"CreteCreek16\"       \"CreteCreek14\"       \"CreteCreek12\"      \n",
      " [19] \"CreteCreek24\"       \"CreteCreek22\"       \"CreteCreek120\"     \n",
      " [22] \"CreteCreek118\"      \"CreteCreek116\"      \"CreteCreek114\"     \n",
      " [25] \"CreteCreek112\"      \"CreteCreek110\"      \"CreteCreek21\"      \n",
      " [28] \"CreteCreek23\"       \"CreteCreek29\"       \"CreteCreek28\"      \n",
      " [31] \"CreteCreek25\"       \"CreteCreek26\"       \"CreteCreek27\"      \n",
      " [34] \"HortonCreek16\"      \"HortonCreek15\"      \"HortonCreek14\"     \n",
      " [37] \"HortonCreek13\"      \"HortonCreek12\"      \"HortonCreek11\"     \n",
      " [40] \"HortonCreek17\"      \"HortonCreek18\"      \"HortonCreek19\"     \n",
      " [43] \"HortonCreek110\"     \"HortonCreek111\"     \"HortonCreek113\"    \n",
      " [46] \"HortonCreek114\"     \"HortonCreek115\"     \"HortonCreek116\"    \n",
      " [49] \"HortonCreek126\"     \"HortonCreek125\"     \"HortonCreek124\"    \n",
      " [52] \"HortonCreek123\"     \"HortonCreek122\"     \"HortonCreek121\"    \n",
      " [55] \"HortonCreek120\"     \"HortonCreek119\"     \"HortonCreek118\"    \n",
      " [58] \"HortonCreek117\"     \"HortonCreek112\"     \"LivingstonCreek112\"\n",
      " [61] \"LivingstonCreek113\" \"LivingstonCreek114\" \"LivingstonCreek115\"\n",
      " [64] \"LivingstonCreek116\" \"LivingstonCreek211\" \"LivingstonCreek210\"\n",
      " [67] \"LivingstonCreek29\"  \"LivingstonCreek13\"  \"LivingstonCreek14\" \n",
      " [70] \"LivingstonCreek15\"  \"LivingstonCreek16\"  \"LivingstonCreek17\" \n",
      " [73] \"LivingstonCreek28\"  \"LivingstonCreek27\"  \"LivingstonCreek26\" \n",
      " [76] \"LivingstonCreek25\"  \"LivingstonCreek18\"  \"LivingstonCreek12\" \n",
      " [79] \"LivingstonCreek11\"  \"LivingstonCreek19\"  \"LivingstonCreek110\"\n",
      " [82] \"LivingstonCreek111\" \"LivingstonCreek24\"  \"LivingstonCreek23\" \n",
      " [85] \"LivingstonCreek22\"  \"LivingstonCreek21\"  \"McAdamCreek18\"     \n",
      " [88] \"McAdamCreek17\"      \"McAdamCreek16\"      \"McAdamCreek15\"     \n",
      " [91] \"McAdamCreek14\"      \"McAdamCreek13\"      \"McAdamCreek12\"     \n",
      " [94] \"McAdamCreek11\"      \"McAdamCreek27\"      \"McAdamCreek26\"     \n",
      " [97] \"McAdamCreek25\"      \"McAdamCreek24\"      \"McAdamCreek23\"     \n",
      "[100] \"McAdamCreek22\"      \"McAdamCreek21\"     \n"
     ]
    }
   ],
   "source": [
    "print(unique(avian$Site))"
   ]
  },
  {
   "cell_type": "code",
   "execution_count": 49,
   "id": "813cad03",
   "metadata": {},
   "outputs": [],
   "source": [
    "avian$site_name <- factor(str_replace(avian$Site, \"[:digit:]+\", \"\"))"
   ]
  },
  {
   "cell_type": "code",
   "execution_count": 51,
   "id": "cc5267ef",
   "metadata": {},
   "outputs": [
    {
     "data": {
      "text/html": [
       "<table>\n",
       "<thead><tr><th scope=col>Site</th><th scope=col>Observer</th><th scope=col>Subpoint</th><th scope=col>VOR</th><th scope=col>PDB</th><th scope=col>DBHt</th><th scope=col>PW</th><th scope=col>WHt</th><th scope=col>PE</th><th scope=col>EHt</th><th scope=col>PA</th><th scope=col>AHt</th><th scope=col>PH</th><th scope=col>HHt</th><th scope=col>PL</th><th scope=col>LHt</th><th scope=col>PB</th><th scope=col>site_name</th></tr></thead>\n",
       "<tbody>\n",
       "\t<tr><td>BunkerHill27</td><td>RA          </td><td>1           </td><td>6.0         </td><td>3           </td><td>5.2         </td><td>0           </td><td>0.0         </td><td>4           </td><td>2.9         </td><td>0           </td><td>0           </td><td>4           </td><td>3.0         </td><td>0           </td><td>0           </td><td>0           </td><td>BunkerHill  </td></tr>\n",
       "\t<tr><td>BunkerHill27</td><td>RA          </td><td>2           </td><td>4.5         </td><td>2           </td><td>3.1         </td><td>3           </td><td>4.7         </td><td>3           </td><td>4.1         </td><td>0           </td><td>0           </td><td>3           </td><td>3.5         </td><td>2           </td><td>1           </td><td>0           </td><td>BunkerHill  </td></tr>\n",
       "\t<tr><td>BunkerHill27</td><td>RA          </td><td>3           </td><td>2.0         </td><td>4           </td><td>5.5         </td><td>1           </td><td>5.8         </td><td>3           </td><td>3.9         </td><td>0           </td><td>0           </td><td>3           </td><td>7.5         </td><td>0           </td><td>0           </td><td>0           </td><td>BunkerHill  </td></tr>\n",
       "\t<tr><td>BunkerHill27</td><td>RA          </td><td>4           </td><td>2.5         </td><td>3           </td><td>6.2         </td><td>0           </td><td>0.0         </td><td>3           </td><td>4.0         </td><td>0           </td><td>0           </td><td>4           </td><td>5.0         </td><td>0           </td><td>0           </td><td>0           </td><td>BunkerHill  </td></tr>\n",
       "\t<tr><td>BunkerHill27</td><td>RA          </td><td>5           </td><td>4.0         </td><td>4           </td><td>5.4         </td><td>0           </td><td>0.0         </td><td>3           </td><td>3.5         </td><td>0           </td><td>0           </td><td>4           </td><td>3.7         </td><td>0           </td><td>0           </td><td>0           </td><td>BunkerHill  </td></tr>\n",
       "\t<tr><td>BunkerHill27</td><td>JT          </td><td>6           </td><td>2.0         </td><td>3           </td><td>4.0         </td><td>0           </td><td>0.0         </td><td>3           </td><td>4.1         </td><td>0           </td><td>0           </td><td>2           </td><td>3.5         </td><td>0           </td><td>0           </td><td>0           </td><td>BunkerHill  </td></tr>\n",
       "</tbody>\n",
       "</table>\n"
      ],
      "text/latex": [
       "\\begin{tabular}{r|llllllllllllllllll}\n",
       " Site & Observer & Subpoint & VOR & PDB & DBHt & PW & WHt & PE & EHt & PA & AHt & PH & HHt & PL & LHt & PB & site\\_name\\\\\n",
       "\\hline\n",
       "\t BunkerHill27 & RA           & 1            & 6.0          & 3            & 5.2          & 0            & 0.0          & 4            & 2.9          & 0            & 0            & 4            & 3.0          & 0            & 0            & 0            & BunkerHill  \\\\\n",
       "\t BunkerHill27 & RA           & 2            & 4.5          & 2            & 3.1          & 3            & 4.7          & 3            & 4.1          & 0            & 0            & 3            & 3.5          & 2            & 1            & 0            & BunkerHill  \\\\\n",
       "\t BunkerHill27 & RA           & 3            & 2.0          & 4            & 5.5          & 1            & 5.8          & 3            & 3.9          & 0            & 0            & 3            & 7.5          & 0            & 0            & 0            & BunkerHill  \\\\\n",
       "\t BunkerHill27 & RA           & 4            & 2.5          & 3            & 6.2          & 0            & 0.0          & 3            & 4.0          & 0            & 0            & 4            & 5.0          & 0            & 0            & 0            & BunkerHill  \\\\\n",
       "\t BunkerHill27 & RA           & 5            & 4.0          & 4            & 5.4          & 0            & 0.0          & 3            & 3.5          & 0            & 0            & 4            & 3.7          & 0            & 0            & 0            & BunkerHill  \\\\\n",
       "\t BunkerHill27 & JT           & 6            & 2.0          & 3            & 4.0          & 0            & 0.0          & 3            & 4.1          & 0            & 0            & 2            & 3.5          & 0            & 0            & 0            & BunkerHill  \\\\\n",
       "\\end{tabular}\n"
      ],
      "text/markdown": [
       "\n",
       "| Site | Observer | Subpoint | VOR | PDB | DBHt | PW | WHt | PE | EHt | PA | AHt | PH | HHt | PL | LHt | PB | site_name |\n",
       "|---|---|---|---|---|---|---|---|---|---|---|---|---|---|---|---|---|---|\n",
       "| BunkerHill27 | RA           | 1            | 6.0          | 3            | 5.2          | 0            | 0.0          | 4            | 2.9          | 0            | 0            | 4            | 3.0          | 0            | 0            | 0            | BunkerHill   |\n",
       "| BunkerHill27 | RA           | 2            | 4.5          | 2            | 3.1          | 3            | 4.7          | 3            | 4.1          | 0            | 0            | 3            | 3.5          | 2            | 1            | 0            | BunkerHill   |\n",
       "| BunkerHill27 | RA           | 3            | 2.0          | 4            | 5.5          | 1            | 5.8          | 3            | 3.9          | 0            | 0            | 3            | 7.5          | 0            | 0            | 0            | BunkerHill   |\n",
       "| BunkerHill27 | RA           | 4            | 2.5          | 3            | 6.2          | 0            | 0.0          | 3            | 4.0          | 0            | 0            | 4            | 5.0          | 0            | 0            | 0            | BunkerHill   |\n",
       "| BunkerHill27 | RA           | 5            | 4.0          | 4            | 5.4          | 0            | 0.0          | 3            | 3.5          | 0            | 0            | 4            | 3.7          | 0            | 0            | 0            | BunkerHill   |\n",
       "| BunkerHill27 | JT           | 6            | 2.0          | 3            | 4.0          | 0            | 0.0          | 3            | 4.1          | 0            | 0            | 2            | 3.5          | 0            | 0            | 0            | BunkerHill   |\n",
       "\n"
      ],
      "text/plain": [
       "  Site         Observer Subpoint VOR PDB DBHt PW WHt PE EHt PA AHt PH HHt PL\n",
       "1 BunkerHill27 RA       1        6.0 3   5.2  0  0.0 4  2.9 0  0   4  3.0 0 \n",
       "2 BunkerHill27 RA       2        4.5 2   3.1  3  4.7 3  4.1 0  0   3  3.5 2 \n",
       "3 BunkerHill27 RA       3        2.0 4   5.5  1  5.8 3  3.9 0  0   3  7.5 0 \n",
       "4 BunkerHill27 RA       4        2.5 3   6.2  0  0.0 3  4.0 0  0   4  5.0 0 \n",
       "5 BunkerHill27 RA       5        4.0 4   5.4  0  0.0 3  3.5 0  0   4  3.7 0 \n",
       "6 BunkerHill27 JT       6        2.0 3   4.0  0  0.0 3  4.1 0  0   2  3.5 0 \n",
       "  LHt PB site_name \n",
       "1 0   0  BunkerHill\n",
       "2 1   0  BunkerHill\n",
       "3 0   0  BunkerHill\n",
       "4 0   0  BunkerHill\n",
       "5 0   0  BunkerHill\n",
       "6 0   0  BunkerHill"
      ]
     },
     "metadata": {},
     "output_type": "display_data"
    }
   ],
   "source": [
    "head(avian)"
   ]
  },
  {
   "cell_type": "code",
   "execution_count": 52,
   "id": "29c3d781",
   "metadata": {},
   "outputs": [
    {
     "name": "stdout",
     "output_type": "stream",
     "text": [
      "'data.frame':\t1070 obs. of  18 variables:\n",
      " $ Site     : chr  \"BunkerHill27\" \"BunkerHill27\" \"BunkerHill27\" \"BunkerHill27\" ...\n",
      " $ Observer : Factor w/ 3 levels \"JT\",\"RA\",\"RR\": 2 2 2 2 2 1 1 1 1 1 ...\n",
      " $ Subpoint : int  1 2 3 4 5 6 7 8 9 10 ...\n",
      " $ VOR      : num  6 4.5 2 2.5 4 2 5.5 4 3.5 3.5 ...\n",
      " $ PDB      : int  3 2 4 3 4 3 3 2 2 2 ...\n",
      " $ DBHt     : num  5.2 3.1 5.5 6.2 5.4 4 5.2 4.4 5.7 4.8 ...\n",
      " $ PW       : int  0 3 1 0 0 0 2 1 1 0 ...\n",
      " $ WHt      : num  0 4.7 5.8 0 0 0 6.3 4.1 5.7 0 ...\n",
      " $ PE       : int  4 3 3 3 3 3 2 2 2 1 ...\n",
      " $ EHt      : num  2.9 4.1 3.9 4 3.5 4.1 2.6 4.3 5.2 1.7 ...\n",
      " $ PA       : int  0 0 0 0 0 0 0 0 0 0 ...\n",
      " $ AHt      : num  0 0 0 0 0 0 0 0 0 0 ...\n",
      " $ PH       : int  4 3 3 4 4 2 4 5 4 5 ...\n",
      " $ HHt      : num  3 3.5 7.5 5 3.7 3.5 5.8 8.2 6.9 5.7 ...\n",
      " $ PL       : int  0 2 0 0 0 0 0 0 0 0 ...\n",
      " $ LHt      : num  0 1 0 0 0 0 0 0 0 0 ...\n",
      " $ PB       : int  0 0 0 0 0 0 0 0 0 0 ...\n",
      " $ site_name: Factor w/ 5 levels \"BunkerHill\",\"CreteCreek\",..: 1 1 1 1 1 1 1 1 1 1 ...\n"
     ]
    }
   ],
   "source": [
    "str(avian)"
   ]
  },
  {
   "cell_type": "code",
   "execution_count": 53,
   "id": "a8592eeb",
   "metadata": {},
   "outputs": [
    {
     "data": {
      "text/html": [
       "<dl class=dl-horizontal>\n",
       "\t<dt>BunkerHill</dt>\n",
       "\t\t<dd>2.25785714285714</dd>\n",
       "\t<dt>CreteCreek</dt>\n",
       "\t\t<dd>0.616842105263158</dd>\n",
       "\t<dt>HortonCreek</dt>\n",
       "\t\t<dd>0.375384615384615</dd>\n",
       "\t<dt>LivingstonCreek</dt>\n",
       "\t\t<dd>0.464827586206897</dd>\n",
       "\t<dt>McAdamCreek</dt>\n",
       "\t\t<dd>0.904210526315789</dd>\n",
       "</dl>\n"
      ],
      "text/latex": [
       "\\begin{description*}\n",
       "\\item[BunkerHill] 2.25785714285714\n",
       "\\item[CreteCreek] 0.616842105263158\n",
       "\\item[HortonCreek] 0.375384615384615\n",
       "\\item[LivingstonCreek] 0.464827586206897\n",
       "\\item[McAdamCreek] 0.904210526315789\n",
       "\\end{description*}\n"
      ],
      "text/markdown": [
       "BunkerHill\n",
       ":   2.25785714285714CreteCreek\n",
       ":   0.616842105263158HortonCreek\n",
       ":   0.375384615384615LivingstonCreek\n",
       ":   0.464827586206897McAdamCreek\n",
       ":   0.904210526315789\n",
       "\n"
      ],
      "text/plain": [
       "     BunkerHill      CreteCreek     HortonCreek LivingstonCreek     McAdamCreek \n",
       "      2.2578571       0.6168421       0.3753846       0.4648276       0.9042105 "
      ]
     },
     "metadata": {},
     "output_type": "display_data"
    }
   ],
   "source": [
    "tapply(avian$DBHt, avian$site_name, mean)"
   ]
  },
  {
   "cell_type": "code",
   "execution_count": 68,
   "id": "93676ab2",
   "metadata": {},
   "outputs": [
    {
     "data": {
      "text/html": [
       "<dl class=dl-horizontal>\n",
       "\t<dt>HortonCreek</dt>\n",
       "\t\t<dd>10.1384615384615</dd>\n",
       "\t<dt>CreteCreek</dt>\n",
       "\t\t<dd>10.0210526315789</dd>\n",
       "\t<dt>LivingstonCreek</dt>\n",
       "\t\t<dd>9.47931034482759</dd>\n",
       "\t<dt>BunkerHill</dt>\n",
       "\t\t<dd>9.23571428571429</dd>\n",
       "\t<dt>McAdamCreek</dt>\n",
       "\t\t<dd>8.62631578947368</dd>\n",
       "</dl>\n"
      ],
      "text/latex": [
       "\\begin{description*}\n",
       "\\item[HortonCreek] 10.1384615384615\n",
       "\\item[CreteCreek] 10.0210526315789\n",
       "\\item[LivingstonCreek] 9.47931034482759\n",
       "\\item[BunkerHill] 9.23571428571429\n",
       "\\item[McAdamCreek] 8.62631578947368\n",
       "\\end{description*}\n"
      ],
      "text/markdown": [
       "HortonCreek\n",
       ":   10.1384615384615CreteCreek\n",
       ":   10.0210526315789LivingstonCreek\n",
       ":   9.47931034482759BunkerHill\n",
       ":   9.23571428571429McAdamCreek\n",
       ":   8.62631578947368\n",
       "\n"
      ],
      "text/plain": [
       "    HortonCreek      CreteCreek LivingstonCreek      BunkerHill     McAdamCreek \n",
       "      10.138462       10.021053        9.479310        9.235714        8.626316 "
      ]
     },
     "metadata": {},
     "output_type": "display_data"
    }
   ],
   "source": [
    "sort(tapply(rowSums(avian[coverage_variables]), avian$site_name, mean), d = T)"
   ]
  },
  {
   "cell_type": "code",
   "execution_count": 58,
   "id": "0045b614",
   "metadata": {},
   "outputs": [
    {
     "data": {
      "text/html": [
       "<ol class=list-inline>\n",
       "\t<li>11</li>\n",
       "\t<li>13</li>\n",
       "\t<li>11</li>\n",
       "\t<li>10</li>\n",
       "\t<li>11</li>\n",
       "\t<li>8</li>\n",
       "</ol>\n"
      ],
      "text/latex": [
       "\\begin{enumerate*}\n",
       "\\item 11\n",
       "\\item 13\n",
       "\\item 11\n",
       "\\item 10\n",
       "\\item 11\n",
       "\\item 8\n",
       "\\end{enumerate*}\n"
      ],
      "text/markdown": [
       "1. 11\n",
       "2. 13\n",
       "3. 11\n",
       "4. 10\n",
       "5. 11\n",
       "6. 8\n",
       "\n",
       "\n"
      ],
      "text/plain": [
       "[1] 11 13 11 10 11  8"
      ]
     },
     "metadata": {},
     "output_type": "display_data"
    }
   ],
   "source": [
    "head(rowSums(avian[coverage_variables]))"
   ]
  },
  {
   "cell_type": "code",
   "execution_count": 267,
   "id": "592a2456",
   "metadata": {},
   "outputs": [],
   "source": [
    "heigts <- names(avian)[-c(1:5)][c(T, F)][1:6]"
   ]
  },
  {
   "cell_type": "code",
   "execution_count": 268,
   "id": "ee53bdde",
   "metadata": {},
   "outputs": [],
   "source": [
    "maxs <- sapply(avian[heigts], max)"
   ]
  },
  {
   "cell_type": "code",
   "execution_count": 269,
   "id": "761faa2a",
   "metadata": {},
   "outputs": [],
   "source": [
    "check_max <- function(x) {\n",
    "    max(x)\n",
    "}\n",
    "\n"
   ]
  },
  {
   "cell_type": "code",
   "execution_count": 317,
   "id": "87ed57a9",
   "metadata": {},
   "outputs": [
    {
     "data": {
      "text/html": [
       "<dl class=dl-horizontal>\n",
       "\t<dt>DBHt</dt>\n",
       "\t\t<dd>'RA Max: 10'</dd>\n",
       "\t<dt>WHt</dt>\n",
       "\t\t<dd>'JT Max: 24.5'</dd>\n",
       "\t<dt>EHt</dt>\n",
       "\t\t<dd>'JT Max: 5.3'</dd>\n",
       "\t<dt>AHt</dt>\n",
       "\t\t<dd>'JT Max: 31.5'</dd>\n",
       "\t<dt>HHt</dt>\n",
       "\t\t<dd>'JT Max: 8.2'</dd>\n",
       "\t<dt>LHt</dt>\n",
       "\t\t<dd>'RA Max: 1.3'</dd>\n",
       "</dl>\n"
      ],
      "text/latex": [
       "\\begin{description*}\n",
       "\\item[DBHt] 'RA Max: 10'\n",
       "\\item[WHt] 'JT Max: 24.5'\n",
       "\\item[EHt] 'JT Max: 5.3'\n",
       "\\item[AHt] 'JT Max: 31.5'\n",
       "\\item[HHt] 'JT Max: 8.2'\n",
       "\\item[LHt] 'RA Max: 1.3'\n",
       "\\end{description*}\n"
      ],
      "text/markdown": [
       "DBHt\n",
       ":   'RA Max: 10'WHt\n",
       ":   'JT Max: 24.5'EHt\n",
       ":   'JT Max: 5.3'AHt\n",
       ":   'JT Max: 31.5'HHt\n",
       ":   'JT Max: 8.2'LHt\n",
       ":   'RA Max: 1.3'\n",
       "\n"
      ],
      "text/plain": [
       "          DBHt            WHt            EHt            AHt            HHt \n",
       "  \"RA Max: 10\" \"JT Max: 24.5\"  \"JT Max: 5.3\" \"JT Max: 31.5\"  \"JT Max: 8.2\" \n",
       "           LHt \n",
       " \"RA Max: 1.3\" "
      ]
     },
     "metadata": {},
     "output_type": "display_data"
    }
   ],
   "source": [
    "check_max <- function(x) {\n",
    "    max(x)\n",
    "}\n",
    "\n",
    "\n",
    "sapply(heigts, function(name){\n",
    "    i <- check_max(avian[[name]])\n",
    "    paste(avian[which(avian[[name]]==i),2], max(avian[[name]]), sep = \" Max: \")\n",
    "} )"
   ]
  },
  {
   "cell_type": "code",
   "execution_count": 323,
   "id": "a135dc41",
   "metadata": {},
   "outputs": [
    {
     "data": {
      "text/html": [
       "<dl class=dl-horizontal>\n",
       "\t<dt>DBHt</dt>\n",
       "\t\t<dd>RA</dd>\n",
       "\t<dt>WHt</dt>\n",
       "\t\t<dd>JT</dd>\n",
       "\t<dt>EHt</dt>\n",
       "\t\t<dd>JT</dd>\n",
       "\t<dt>AHt</dt>\n",
       "\t\t<dd>JT</dd>\n",
       "\t<dt>HHt</dt>\n",
       "\t\t<dd>JT</dd>\n",
       "\t<dt>LHt</dt>\n",
       "\t\t<dd>RA</dd>\n",
       "</dl>\n",
       "\n",
       "<details>\n",
       "\t<summary style=display:list-item;cursor:pointer>\n",
       "\t\t<strong>Levels</strong>:\n",
       "\t</summary>\n",
       "\t<ol class=list-inline>\n",
       "\t\t<li>'JT'</li>\n",
       "\t\t<li>'RA'</li>\n",
       "\t\t<li>'RR'</li>\n",
       "\t</ol>\n",
       "</details>"
      ],
      "text/latex": [
       "\\begin{description*}\n",
       "\\item[DBHt] RA\n",
       "\\item[WHt] JT\n",
       "\\item[EHt] JT\n",
       "\\item[AHt] JT\n",
       "\\item[HHt] JT\n",
       "\\item[LHt] RA\n",
       "\\end{description*}\n",
       "\n",
       "\\emph{Levels}: \\begin{enumerate*}\n",
       "\\item 'JT'\n",
       "\\item 'RA'\n",
       "\\item 'RR'\n",
       "\\end{enumerate*}\n"
      ],
      "text/markdown": [
       "DBHt\n",
       ":   RAWHt\n",
       ":   JTEHt\n",
       ":   JTAHt\n",
       ":   JTHHt\n",
       ":   JTLHt\n",
       ":   RA\n",
       "\n",
       "\n",
       "**Levels**: 1. 'JT'\n",
       "2. 'RA'\n",
       "3. 'RR'\n",
       "\n",
       "\n"
      ],
      "text/plain": [
       "DBHt  WHt  EHt  AHt  HHt  LHt \n",
       "  RA   JT   JT   JT   JT   RA \n",
       "Levels: JT RA RR"
      ]
     },
     "metadata": {},
     "output_type": "display_data"
    }
   ],
   "source": [
    "check_max <- function(x) {\n",
    "    max(x)\n",
    "}\n",
    "\n",
    "heigts <- names(avian)[-c(1:5)][c(T, F)][1:6]\n",
    "\n",
    "sapply(heigts, function(name){\n",
    "    i <- check_max(avian[[name]])\n",
    "    avian[which(avian[[name]]==i),2]\n",
    "} )"
   ]
  },
  {
   "cell_type": "code",
   "execution_count": 322,
   "id": "65ad8f8a",
   "metadata": {},
   "outputs": [
    {
     "data": {
      "text/html": [
       "<table>\n",
       "<thead><tr><th scope=col>Group.1</th><th scope=col>DBHt</th><th scope=col>WHt</th><th scope=col>EHt</th><th scope=col>AHt</th><th scope=col>HHt</th><th scope=col>LHt</th></tr></thead>\n",
       "<tbody>\n",
       "\t<tr><td>JT  </td><td> 9.9</td><td>24.5</td><td>5.3 </td><td>31.5</td><td>8.2 </td><td>0.8 </td></tr>\n",
       "\t<tr><td>RA  </td><td>10.0</td><td>18.5</td><td>4.9 </td><td>19.2</td><td>7.5 </td><td>1.3 </td></tr>\n",
       "\t<tr><td>RR  </td><td> 5.0</td><td>22.0</td><td>4.2 </td><td> 0.2</td><td>7.3 </td><td>1.1 </td></tr>\n",
       "</tbody>\n",
       "</table>\n"
      ],
      "text/latex": [
       "\\begin{tabular}{r|lllllll}\n",
       " Group.1 & DBHt & WHt & EHt & AHt & HHt & LHt\\\\\n",
       "\\hline\n",
       "\t JT   &  9.9 & 24.5 & 5.3  & 31.5 & 8.2  & 0.8 \\\\\n",
       "\t RA   & 10.0 & 18.5 & 4.9  & 19.2 & 7.5  & 1.3 \\\\\n",
       "\t RR   &  5.0 & 22.0 & 4.2  &  0.2 & 7.3  & 1.1 \\\\\n",
       "\\end{tabular}\n"
      ],
      "text/markdown": [
       "\n",
       "| Group.1 | DBHt | WHt | EHt | AHt | HHt | LHt |\n",
       "|---|---|---|---|---|---|---|\n",
       "| JT   |  9.9 | 24.5 | 5.3  | 31.5 | 8.2  | 0.8  |\n",
       "| RA   | 10.0 | 18.5 | 4.9  | 19.2 | 7.5  | 1.3  |\n",
       "| RR   |  5.0 | 22.0 | 4.2  |  0.2 | 7.3  | 1.1  |\n",
       "\n"
      ],
      "text/plain": [
       "  Group.1 DBHt WHt  EHt AHt  HHt LHt\n",
       "1 JT       9.9 24.5 5.3 31.5 8.2 0.8\n",
       "2 RA      10.0 18.5 4.9 19.2 7.5 1.3\n",
       "3 RR       5.0 22.0 4.2  0.2 7.3 1.1"
      ]
     },
     "metadata": {},
     "output_type": "display_data"
    }
   ],
   "source": [
    "aggregate(avian[heigts],by=list(avian$Observer), max)"
   ]
  },
  {
   "cell_type": "code",
   "execution_count": 327,
   "id": "1fac0a2f",
   "metadata": {},
   "outputs": [],
   "source": [
    "# Общий глоссарий для этого урока:\n",
    "\n",
    "# ?paste(?paste0), ?atrsplit\n",
    "# Regular expressions\n",
    "# ?grep(?grepl,?gsub)\n",
    "# library(stringr):?str_extract, ?str_replace\n",
    "# ?tolower, ?toupper\n",
    "# ?getwd, ?setwd, ?list.files, ?list.dirs\n",
    "# ?formatC, ?cat\n",
    "# ?factor\n",
    "# ?levels, ?nlevels, ?droplevels\n",
    "# ?ordered\n",
    "# ?cut, ?table\n",
    "# ?options\n",
    "# ?tapply"
   ]
  },
  {
   "cell_type": "code",
   "execution_count": 328,
   "id": "d7651c3a",
   "metadata": {},
   "outputs": [
    {
     "data": {
      "text/html": [
       "<ol class=list-inline>\n",
       "\t<li>'1.2 Переменные, глобальное окружение, справка.ipynb'</li>\n",
       "\t<li>'1.3 Векторы (часть 1).ipynb'</li>\n",
       "\t<li>'1.4 Управляющие конструкции, работа с пакетами.ipynb'</li>\n",
       "\t<li>'1.5 Векторы (часть 2).ipynb'</li>\n",
       "\t<li>'2.1 Матрицы и списки.ipynb'</li>\n",
       "\t<li>'2.2 Дата фреймы.ipynb'</li>\n",
       "\t<li>'2.3 Факторы и строки.ipynb'</li>\n",
       "\t<li>'avianHabitat.csv'</li>\n",
       "\t<li>'avianHabitat2.csv'</li>\n",
       "\t<li>'help.ipynb'</li>\n",
       "\t<li>'input.csv'</li>\n",
       "\t<li>'test.csv'</li>\n",
       "</ol>\n"
      ],
      "text/latex": [
       "\\begin{enumerate*}\n",
       "\\item '1.2 Переменные, глобальное окружение, справка.ipynb'\n",
       "\\item '1.3 Векторы (часть 1).ipynb'\n",
       "\\item '1.4 Управляющие конструкции, работа с пакетами.ipynb'\n",
       "\\item '1.5 Векторы (часть 2).ipynb'\n",
       "\\item '2.1 Матрицы и списки.ipynb'\n",
       "\\item '2.2 Дата фреймы.ipynb'\n",
       "\\item '2.3 Факторы и строки.ipynb'\n",
       "\\item 'avianHabitat.csv'\n",
       "\\item 'avianHabitat2.csv'\n",
       "\\item 'help.ipynb'\n",
       "\\item 'input.csv'\n",
       "\\item 'test.csv'\n",
       "\\end{enumerate*}\n"
      ],
      "text/markdown": [
       "1. '1.2 Переменные, глобальное окружение, справка.ipynb'\n",
       "2. '1.3 Векторы (часть 1).ipynb'\n",
       "3. '1.4 Управляющие конструкции, работа с пакетами.ipynb'\n",
       "4. '1.5 Векторы (часть 2).ipynb'\n",
       "5. '2.1 Матрицы и списки.ipynb'\n",
       "6. '2.2 Дата фреймы.ipynb'\n",
       "7. '2.3 Факторы и строки.ipynb'\n",
       "8. 'avianHabitat.csv'\n",
       "9. 'avianHabitat2.csv'\n",
       "10. 'help.ipynb'\n",
       "11. 'input.csv'\n",
       "12. 'test.csv'\n",
       "\n",
       "\n"
      ],
      "text/plain": [
       " [1] \"1.2 Переменные, глобальное окружение, справка.ipynb\" \n",
       " [2] \"1.3 Векторы (часть 1).ipynb\"                         \n",
       " [3] \"1.4 Управляющие конструкции, работа с пакетами.ipynb\"\n",
       " [4] \"1.5 Векторы (часть 2).ipynb\"                         \n",
       " [5] \"2.1 Матрицы и списки.ipynb\"                          \n",
       " [6] \"2.2 Дата фреймы.ipynb\"                               \n",
       " [7] \"2.3 Факторы и строки.ipynb\"                          \n",
       " [8] \"avianHabitat.csv\"                                    \n",
       " [9] \"avianHabitat2.csv\"                                   \n",
       "[10] \"help.ipynb\"                                          \n",
       "[11] \"input.csv\"                                           \n",
       "[12] \"test.csv\"                                            "
      ]
     },
     "metadata": {},
     "output_type": "display_data"
    }
   ],
   "source": [
    "list.files()"
   ]
  }
 ],
 "metadata": {
  "kernelspec": {
   "display_name": "R",
   "language": "R",
   "name": "ir"
  },
  "language_info": {
   "codemirror_mode": "r",
   "file_extension": ".r",
   "mimetype": "text/x-r-source",
   "name": "R",
   "pygments_lexer": "r",
   "version": "3.6.1"
  }
 },
 "nbformat": 4,
 "nbformat_minor": 5
}
