{
 "cells": [
  {
   "cell_type": "code",
   "execution_count": 4,
   "id": "03c12e94",
   "metadata": {},
   "outputs": [
    {
     "data": {
      "text/html": [
       "<ol>\n",
       "\t<li><pre class=language-r><code>function (x, ...) \n",
       "UseMethod(\"mean\")</code></pre></li>\n",
       "\t<li><pre class=language-r><code>.Primitive(\"max\")</code></pre></li>\n",
       "</ol>\n"
      ],
      "text/latex": [
       "\\begin{enumerate}\n",
       "\\item \\begin{minted}{r}\n",
       "function (x, ...) \n",
       "UseMethod(\"mean\")\n",
       "\\end{minted}\n",
       "\\item \\begin{minted}{r}\n",
       ".Primitive(\"max\")\n",
       "\\end{minted}\n",
       "\\end{enumerate}\n"
      ],
      "text/markdown": [
       "1. ```r\n",
       "function (x, ...) \n",
       "UseMethod(\"mean\")\n",
       "```\n",
       "2. ```r\n",
       ".Primitive(\"max\")\n",
       "```\n",
       "\n",
       "\n"
      ],
      "text/plain": [
       "[[1]]\n",
       "function (x, ...) \n",
       "UseMethod(\"mean\")\n",
       "<bytecode: 0x558ef7e2c178>\n",
       "<environment: namespace:base>\n",
       "\n",
       "[[2]]\n",
       "function (..., na.rm = FALSE)  .Primitive(\"max\")\n"
      ]
     },
     "metadata": {},
     "output_type": "display_data"
    }
   ],
   "source": [
    "# список функций\n",
    "c(mean, max)"
   ]
  },
  {
   "cell_type": "code",
   "execution_count": 5,
   "id": "8d0e630c",
   "metadata": {},
   "outputs": [
    {
     "name": "stdout",
     "output_type": "stream",
     "text": [
      "List of 2\n",
      " $ :function (x, ...)  \n",
      " $ :function (..., na.rm = FALSE)  \n"
     ]
    }
   ],
   "source": [
    "str(c(mean, max))"
   ]
  },
  {
   "cell_type": "code",
   "execution_count": 6,
   "id": "8e65e1f0",
   "metadata": {},
   "outputs": [
    {
     "data": {
      "text/html": [
       "<ol class=list-inline>\n",
       "\t<li>50.5</li>\n",
       "\t<li>100</li>\n",
       "</ol>\n"
      ],
      "text/latex": [
       "\\begin{enumerate*}\n",
       "\\item 50.5\n",
       "\\item 100\n",
       "\\end{enumerate*}\n"
      ],
      "text/markdown": [
       "1. 50.5\n",
       "2. 100\n",
       "\n",
       "\n"
      ],
      "text/plain": [
       "[1]  50.5 100.0"
      ]
     },
     "metadata": {},
     "output_type": "display_data"
    }
   ],
   "source": [
    "# использование списка функций в качестве аргумента\n",
    "fun_list <- c(mean, max)\n",
    "sapply(fun_list, function(f) f(1:100))"
   ]
  },
  {
   "cell_type": "code",
   "execution_count": 7,
   "id": "722c8c0d",
   "metadata": {},
   "outputs": [
    {
     "data": {
      "text/html": [
       "<ol class=list-inline>\n",
       "\t<li>50.5</li>\n",
       "\t<li>100</li>\n",
       "</ol>\n"
      ],
      "text/latex": [
       "\\begin{enumerate*}\n",
       "\\item 50.5\n",
       "\\item 100\n",
       "\\end{enumerate*}\n"
      ],
      "text/markdown": [
       "1. 50.5\n",
       "2. 100\n",
       "\n",
       "\n"
      ],
      "text/plain": [
       "[1]  50.5 100.0"
      ]
     },
     "metadata": {},
     "output_type": "display_data"
    }
   ],
   "source": [
    "# функция как аргумент другой функции\n",
    "apply_f <- function(f, x) f(x)\n",
    "sapply(fun_list, apply_f, x = 1:100)"
   ]
  },
  {
   "cell_type": "code",
   "execution_count": 9,
   "id": "5ba4bb3e",
   "metadata": {},
   "outputs": [
    {
     "data": {
      "text/html": [
       "385"
      ],
      "text/latex": [
       "385"
      ],
      "text/markdown": [
       "385"
      ],
      "text/plain": [
       "[1] 385"
      ]
     },
     "metadata": {},
     "output_type": "display_data"
    }
   ],
   "source": [
    "# пример анонимной функции\n",
    "apply_f(function(x) sum(x^2), 1:10)"
   ]
  },
  {
   "cell_type": "code",
   "execution_count": 10,
   "id": "c3983a06",
   "metadata": {},
   "outputs": [],
   "source": [
    "# функция как return value"
   ]
  },
  {
   "cell_type": "code",
   "execution_count": 11,
   "id": "0e9d4d6a",
   "metadata": {},
   "outputs": [],
   "source": [
    "square <- function() function(x) x^2"
   ]
  },
  {
   "cell_type": "code",
   "execution_count": 14,
   "id": "a94b3f0b",
   "metadata": {},
   "outputs": [
    {
     "data": {
      "text/html": [
       "25"
      ],
      "text/latex": [
       "25"
      ],
      "text/markdown": [
       "25"
      ],
      "text/plain": [
       "[1] 25"
      ]
     },
     "metadata": {},
     "output_type": "display_data"
    }
   ],
   "source": [
    "square()(5)"
   ]
  },
  {
   "cell_type": "code",
   "execution_count": 17,
   "id": "afe3c8f4",
   "metadata": {},
   "outputs": [],
   "source": [
    "# функции внутри функций\n",
    "f <- function(x) {\n",
    "    g <- function(y) if (y > 0) 1 else if (y < 0) -1 else 0\n",
    "    sapply(x, g)\n",
    "}"
   ]
  },
  {
   "cell_type": "code",
   "execution_count": 18,
   "id": "0ee748b6",
   "metadata": {},
   "outputs": [
    {
     "data": {
      "text/html": [
       "TRUE"
      ],
      "text/latex": [
       "TRUE"
      ],
      "text/markdown": [
       "TRUE"
      ],
      "text/plain": [
       "[1] TRUE"
      ]
     },
     "metadata": {},
     "output_type": "display_data"
    }
   ],
   "source": [
    "all.equal(f(-100:100), sign(-100:100))"
   ]
  },
  {
   "cell_type": "code",
   "execution_count": 22,
   "id": "6a161bb5",
   "metadata": {},
   "outputs": [
    {
     "data": {
      "text/html": [
       "<pre class=language-r><code>function (x) \n",
       "{\n",
       "<span style=white-space:pre-wrap>    g &lt;- function(y) if (y &gt; 0) </span>\n",
       "<span style=white-space:pre-wrap>        1</span>\n",
       "<span style=white-space:pre-wrap>    else if (y &lt; 0) </span>\n",
       "<span style=white-space:pre-wrap>        -1</span>\n",
       "<span style=white-space:pre-wrap>    else 0</span>\n",
       "<span style=white-space:pre-wrap>    sapply(x, g)</span>\n",
       "}</code></pre>"
      ],
      "text/latex": [
       "\\begin{minted}{r}\n",
       "function (x) \n",
       "\\{\n",
       "    g <- function(y) if (y > 0) \n",
       "        1\n",
       "    else if (y < 0) \n",
       "        -1\n",
       "    else 0\n",
       "    sapply(x, g)\n",
       "\\}\n",
       "\\end{minted}"
      ],
      "text/markdown": [
       "```r\n",
       "function (x) \n",
       "{\n",
       "    g <- function(y) if (y > 0) \n",
       "        1\n",
       "    else if (y < 0) \n",
       "        -1\n",
       "    else 0\n",
       "    sapply(x, g)\n",
       "}\n",
       "```"
      ],
      "text/plain": [
       "function(x) {\n",
       "    g <- function(y) if (y > 0) 1 else if (y < 0) -1 else 0\n",
       "    sapply(x, g)\n",
       "}\n",
       "<bytecode: 0x558ef9d7d148>"
      ]
     },
     "metadata": {},
     "output_type": "display_data"
    }
   ],
   "source": [
    "# посмотреть саму функцию\n",
    "f"
   ]
  },
  {
   "cell_type": "code",
   "execution_count": 23,
   "id": "74c4db7e",
   "metadata": {},
   "outputs": [
    {
     "data": {
      "text/html": [
       "<pre class=language-r><code>function (x, na.rm = FALSE) \n",
       "sqrt(var(if (is.vector(x) || is.factor(x)) x else as.double(x), \n",
       "<span style=white-space:pre-wrap>    na.rm = na.rm))</span></code></pre>"
      ],
      "text/latex": [
       "\\begin{minted}{r}\n",
       "function (x, na.rm = FALSE) \n",
       "sqrt(var(if (is.vector(x) \\textbar{}\\textbar{} is.factor(x)) x else as.double(x), \n",
       "    na.rm = na.rm))\n",
       "\\end{minted}"
      ],
      "text/markdown": [
       "```r\n",
       "function (x, na.rm = FALSE) \n",
       "sqrt(var(if (is.vector(x) || is.factor(x)) x else as.double(x), \n",
       "    na.rm = na.rm))\n",
       "```"
      ],
      "text/plain": [
       "function (x, na.rm = FALSE) \n",
       "sqrt(var(if (is.vector(x) || is.factor(x)) x else as.double(x), \n",
       "    na.rm = na.rm))\n",
       "<bytecode: 0x558efb16cd80>\n",
       "<environment: namespace:stats>"
      ]
     },
     "metadata": {},
     "output_type": "display_data"
    }
   ],
   "source": [
    "sd"
   ]
  },
  {
   "cell_type": "code",
   "execution_count": 27,
   "id": "4b3f846e",
   "metadata": {},
   "outputs": [
    {
     "data": {
      "text/html": [
       "<ol class=list-inline>\n",
       "\t<li>'plot.acf'</li>\n",
       "\t<li>'plot.data.frame'</li>\n",
       "\t<li>'plot.decomposed.ts'</li>\n",
       "\t<li>'plot.default'</li>\n",
       "\t<li>'plot.dendrogram'</li>\n",
       "\t<li>'plot.density'</li>\n",
       "\t<li>'plot.ecdf'</li>\n",
       "\t<li>'plot.factor'</li>\n",
       "\t<li>'plot.formula'</li>\n",
       "\t<li>'plot.function'</li>\n",
       "\t<li>'plot.hclust'</li>\n",
       "\t<li>'plot.histogram'</li>\n",
       "\t<li>'plot.HoltWinters'</li>\n",
       "\t<li>'plot.isoreg'</li>\n",
       "\t<li>'plot.lm'</li>\n",
       "\t<li>'plot.medpolish'</li>\n",
       "\t<li>'plot.mlm'</li>\n",
       "\t<li>'plot.ppr'</li>\n",
       "\t<li>'plot.prcomp'</li>\n",
       "\t<li>'plot.princomp'</li>\n",
       "</ol>\n"
      ],
      "text/latex": [
       "\\begin{enumerate*}\n",
       "\\item 'plot.acf'\n",
       "\\item 'plot.data.frame'\n",
       "\\item 'plot.decomposed.ts'\n",
       "\\item 'plot.default'\n",
       "\\item 'plot.dendrogram'\n",
       "\\item 'plot.density'\n",
       "\\item 'plot.ecdf'\n",
       "\\item 'plot.factor'\n",
       "\\item 'plot.formula'\n",
       "\\item 'plot.function'\n",
       "\\item 'plot.hclust'\n",
       "\\item 'plot.histogram'\n",
       "\\item 'plot.HoltWinters'\n",
       "\\item 'plot.isoreg'\n",
       "\\item 'plot.lm'\n",
       "\\item 'plot.medpolish'\n",
       "\\item 'plot.mlm'\n",
       "\\item 'plot.ppr'\n",
       "\\item 'plot.prcomp'\n",
       "\\item 'plot.princomp'\n",
       "\\end{enumerate*}\n"
      ],
      "text/markdown": [
       "1. 'plot.acf'\n",
       "2. 'plot.data.frame'\n",
       "3. 'plot.decomposed.ts'\n",
       "4. 'plot.default'\n",
       "5. 'plot.dendrogram'\n",
       "6. 'plot.density'\n",
       "7. 'plot.ecdf'\n",
       "8. 'plot.factor'\n",
       "9. 'plot.formula'\n",
       "10. 'plot.function'\n",
       "11. 'plot.hclust'\n",
       "12. 'plot.histogram'\n",
       "13. 'plot.HoltWinters'\n",
       "14. 'plot.isoreg'\n",
       "15. 'plot.lm'\n",
       "16. 'plot.medpolish'\n",
       "17. 'plot.mlm'\n",
       "18. 'plot.ppr'\n",
       "19. 'plot.prcomp'\n",
       "20. 'plot.princomp'\n",
       "\n",
       "\n"
      ],
      "text/plain": [
       " [1] \"plot.acf\"           \"plot.data.frame\"    \"plot.decomposed.ts\"\n",
       " [4] \"plot.default\"       \"plot.dendrogram\"    \"plot.density\"      \n",
       " [7] \"plot.ecdf\"          \"plot.factor\"        \"plot.formula\"      \n",
       "[10] \"plot.function\"      \"plot.hclust\"        \"plot.histogram\"    \n",
       "[13] \"plot.HoltWinters\"   \"plot.isoreg\"        \"plot.lm\"           \n",
       "[16] \"plot.medpolish\"     \"plot.mlm\"           \"plot.ppr\"          \n",
       "[19] \"plot.prcomp\"        \"plot.princomp\"     "
      ]
     },
     "metadata": {},
     "output_type": "display_data"
    }
   ],
   "source": [
    "methods(plot)[1:20]"
   ]
  },
  {
   "cell_type": "code",
   "execution_count": 29,
   "id": "f05c5abd",
   "metadata": {},
   "outputs": [],
   "source": [
    "# аргументы по умолчанию"
   ]
  },
  {
   "cell_type": "code",
   "execution_count": 31,
   "id": "725dcb6d",
   "metadata": {},
   "outputs": [
    {
     "data": {
      "text/html": [
       "1"
      ],
      "text/latex": [
       "1"
      ],
      "text/markdown": [
       "1"
      ],
      "text/plain": [
       "[1] 1"
      ]
     },
     "metadata": {},
     "output_type": "display_data"
    }
   ],
   "source": [
    "seq() # from = 1, to = 1, by = 1"
   ]
  },
  {
   "cell_type": "code",
   "execution_count": 32,
   "id": "85a964fd",
   "metadata": {},
   "outputs": [
    {
     "data": {
      "text/html": [
       "<ol class=list-inline>\n",
       "\t<li>1</li>\n",
       "\t<li>1.4</li>\n",
       "\t<li>1.8</li>\n",
       "\t<li>2.2</li>\n",
       "\t<li>2.6</li>\n",
       "\t<li>3</li>\n",
       "\t<li>3.4</li>\n",
       "\t<li>3.8</li>\n",
       "\t<li>4.2</li>\n",
       "\t<li>4.6</li>\n",
       "\t<li>5</li>\n",
       "</ol>\n"
      ],
      "text/latex": [
       "\\begin{enumerate*}\n",
       "\\item 1\n",
       "\\item 1.4\n",
       "\\item 1.8\n",
       "\\item 2.2\n",
       "\\item 2.6\n",
       "\\item 3\n",
       "\\item 3.4\n",
       "\\item 3.8\n",
       "\\item 4.2\n",
       "\\item 4.6\n",
       "\\item 5\n",
       "\\end{enumerate*}\n"
      ],
      "text/markdown": [
       "1. 1\n",
       "2. 1.4\n",
       "3. 1.8\n",
       "4. 2.2\n",
       "5. 2.6\n",
       "6. 3\n",
       "7. 3.4\n",
       "8. 3.8\n",
       "9. 4.2\n",
       "10. 4.6\n",
       "11. 5\n",
       "\n",
       "\n"
      ],
      "text/plain": [
       " [1] 1.0 1.4 1.8 2.2 2.6 3.0 3.4 3.8 4.2 4.6 5.0"
      ]
     },
     "metadata": {},
     "output_type": "display_data"
    }
   ],
   "source": [
    "# значени могут вычислять на лет\n",
    "seq(1, 5, length.out = 11) # by = (5 - 1)/(11 - 1)"
   ]
  },
  {
   "cell_type": "code",
   "execution_count": 35,
   "id": "0b78e057",
   "metadata": {},
   "outputs": [
    {
     "data": {
      "text/html": [
       "<ol class=list-inline>\n",
       "\t<li>1</li>\n",
       "\t<li>1.4</li>\n",
       "\t<li>1.8</li>\n",
       "\t<li>2.2</li>\n",
       "\t<li>2.6</li>\n",
       "\t<li>3</li>\n",
       "\t<li>3.4</li>\n",
       "\t<li>3.8</li>\n",
       "\t<li>4.2</li>\n",
       "\t<li>4.6</li>\n",
       "\t<li>5</li>\n",
       "</ol>\n"
      ],
      "text/latex": [
       "\\begin{enumerate*}\n",
       "\\item 1\n",
       "\\item 1.4\n",
       "\\item 1.8\n",
       "\\item 2.2\n",
       "\\item 2.6\n",
       "\\item 3\n",
       "\\item 3.4\n",
       "\\item 3.8\n",
       "\\item 4.2\n",
       "\\item 4.6\n",
       "\\item 5\n",
       "\\end{enumerate*}\n"
      ],
      "text/markdown": [
       "1. 1\n",
       "2. 1.4\n",
       "3. 1.8\n",
       "4. 2.2\n",
       "5. 2.6\n",
       "6. 3\n",
       "7. 3.4\n",
       "8. 3.8\n",
       "9. 4.2\n",
       "10. 4.6\n",
       "11. 5\n",
       "\n",
       "\n"
      ],
      "text/plain": [
       " [1] 1.0 1.4 1.8 2.2 2.6 3.0 3.4 3.8 4.2 4.6 5.0"
      ]
     },
     "metadata": {},
     "output_type": "display_data"
    }
   ],
   "source": [
    "seq(1, 5, by = (5 - 1)/(11 -1))"
   ]
  },
  {
   "cell_type": "code",
   "execution_count": 38,
   "id": "ad924954",
   "metadata": {},
   "outputs": [],
   "source": [
    "# ellipsis - произвольное число аргументов\n",
    "# sum, c, cbind, paste"
   ]
  },
  {
   "cell_type": "code",
   "execution_count": 40,
   "id": "06c9a626",
   "metadata": {},
   "outputs": [],
   "source": [
    "# другой случай - проброс аргументов"
   ]
  },
  {
   "cell_type": "code",
   "execution_count": 41,
   "id": "fb44937a",
   "metadata": {},
   "outputs": [],
   "source": [
    "f <- function(x, pow = 2) x ^ pow"
   ]
  },
  {
   "cell_type": "code",
   "execution_count": 45,
   "id": "0af0adc5",
   "metadata": {},
   "outputs": [
    {
     "data": {
      "text/plain": [
       "0.3333333 with absolute error < 3.7e-15"
      ]
     },
     "metadata": {},
     "output_type": "display_data"
    }
   ],
   "source": [
    "integrate(f, 0, 1) # lower = 0, upper = 1, pow = 2"
   ]
  },
  {
   "cell_type": "code",
   "execution_count": 46,
   "id": "a3f1209e",
   "metadata": {},
   "outputs": [
    {
     "data": {
      "text/plain": [
       "0.1666667 with absolute error < 1.9e-15"
      ]
     },
     "metadata": {},
     "output_type": "display_data"
    }
   ],
   "source": [
    "integrate(f, 0, 1, pow = 5)"
   ]
  },
  {
   "cell_type": "code",
   "execution_count": 47,
   "id": "c8ac2a67",
   "metadata": {},
   "outputs": [],
   "source": [
    "# бинарные операторы"
   ]
  },
  {
   "cell_type": "code",
   "execution_count": 48,
   "id": "fe28796b",
   "metadata": {},
   "outputs": [
    {
     "data": {
      "text/html": [
       "<ol class=list-inline>\n",
       "\t<li>TRUE</li>\n",
       "\t<li>TRUE</li>\n",
       "\t<li>FALSE</li>\n",
       "\t<li>FALSE</li>\n",
       "\t<li>TRUE</li>\n",
       "</ol>\n"
      ],
      "text/latex": [
       "\\begin{enumerate*}\n",
       "\\item TRUE\n",
       "\\item TRUE\n",
       "\\item FALSE\n",
       "\\item FALSE\n",
       "\\item TRUE\n",
       "\\end{enumerate*}\n"
      ],
      "text/markdown": [
       "1. TRUE\n",
       "2. TRUE\n",
       "3. FALSE\n",
       "4. FALSE\n",
       "5. TRUE\n",
       "\n",
       "\n"
      ],
      "text/plain": [
       "[1]  TRUE  TRUE FALSE FALSE  TRUE"
      ]
     },
     "metadata": {},
     "output_type": "display_data"
    }
   ],
   "source": [
    "1:5 %in% c(1, 2, 5)"
   ]
  },
  {
   "cell_type": "code",
   "execution_count": 49,
   "id": "5d080710",
   "metadata": {},
   "outputs": [],
   "source": [
    "# создание собственного бинарного оператора"
   ]
  },
  {
   "cell_type": "code",
   "execution_count": 52,
   "id": "a604a570",
   "metadata": {},
   "outputs": [
    {
     "data": {
      "text/html": [
       "<ol class=list-inline>\n",
       "\t<li>FALSE</li>\n",
       "\t<li>FALSE</li>\n",
       "\t<li>TRUE</li>\n",
       "\t<li>TRUE</li>\n",
       "\t<li>FALSE</li>\n",
       "</ol>\n"
      ],
      "text/latex": [
       "\\begin{enumerate*}\n",
       "\\item FALSE\n",
       "\\item FALSE\n",
       "\\item TRUE\n",
       "\\item TRUE\n",
       "\\item FALSE\n",
       "\\end{enumerate*}\n"
      ],
      "text/markdown": [
       "1. FALSE\n",
       "2. FALSE\n",
       "3. TRUE\n",
       "4. TRUE\n",
       "5. FALSE\n",
       "\n",
       "\n"
      ],
      "text/plain": [
       "[1] FALSE FALSE  TRUE  TRUE FALSE"
      ]
     },
     "metadata": {},
     "output_type": "display_data"
    }
   ],
   "source": [
    "\"%nin%\" <- function(x, y) !(x %in% y)\n",
    "1:5 %nin% c(1, 2, 5)"
   ]
  },
  {
   "cell_type": "code",
   "execution_count": 54,
   "id": "6ce1311d",
   "metadata": {},
   "outputs": [],
   "source": [
    "# Глоссарий\n",
    "\n",
    "# ?\"function\"\n",
    "# Source code for functions, ?methods\n",
    "# Argument matching, ellipsis(?\"...\")"
   ]
  },
  {
   "cell_type": "code",
   "execution_count": 206,
   "id": "c39ab1f1",
   "metadata": {},
   "outputs": [],
   "source": [
    "decorate_string <- function(pattern, ...) { \n",
    "  pattern_r = intToUtf8(rev(utf8ToInt(pattern)))\n",
    "  tmp = paste(...)\n",
    "  paste0(pattern, tmp, pattern_r)\n",
    "}"
   ]
  },
  {
   "cell_type": "code",
   "execution_count": 207,
   "id": "24ae4eb8",
   "metadata": {},
   "outputs": [
    {
     "data": {
      "text/html": [
       "'123abc def321'"
      ],
      "text/latex": [
       "'123abc def321'"
      ],
      "text/markdown": [
       "'123abc def321'"
      ],
      "text/plain": [
       "[1] \"123abc def321\""
      ]
     },
     "metadata": {},
     "output_type": "display_data"
    }
   ],
   "source": [
    "decorate_string(pattern = \"123\", \"abc\", \"def\")"
   ]
  },
  {
   "cell_type": "code",
   "execution_count": 203,
   "id": "67a98712",
   "metadata": {},
   "outputs": [
    {
     "data": {
      "text/html": [
       "'abc def'"
      ],
      "text/latex": [
       "'abc def'"
      ],
      "text/markdown": [
       "'abc def'"
      ],
      "text/plain": [
       "[1] \"abc def\""
      ]
     },
     "metadata": {},
     "output_type": "display_data"
    }
   ],
   "source": [
    "paste(\"abc\", \"def\")"
   ]
  },
  {
   "cell_type": "code",
   "execution_count": 204,
   "id": "5a39ec5f",
   "metadata": {},
   "outputs": [
    {
     "data": {
      "text/html": [
       "'123abc def321'"
      ],
      "text/latex": [
       "'123abc def321'"
      ],
      "text/markdown": [
       "'123abc def321'"
      ],
      "text/plain": [
       "[1] \"123abc def321\""
      ]
     },
     "metadata": {},
     "output_type": "display_data"
    }
   ],
   "source": [
    "paste0(\"123\", \"abc def\", \"321\")"
   ]
  },
  {
   "cell_type": "code",
   "execution_count": 208,
   "id": "0e9fdebd",
   "metadata": {},
   "outputs": [],
   "source": [
    "decorate_string2 <- function(pattern, ...) {\n",
    "    paste0(pattern, paste(...), intToUtf8(rev(utf8ToInt(pattern))))\n",
    "}"
   ]
  },
  {
   "cell_type": "code",
   "execution_count": 209,
   "id": "493463a9",
   "metadata": {},
   "outputs": [
    {
     "data": {
      "text/html": [
       "'123abc def321'"
      ],
      "text/latex": [
       "'123abc def321'"
      ],
      "text/markdown": [
       "'123abc def321'"
      ],
      "text/plain": [
       "[1] \"123abc def321\""
      ]
     },
     "metadata": {},
     "output_type": "display_data"
    }
   ],
   "source": [
    "decorate_string2(pattern = \"123\", \"abc\", \"def\")"
   ]
  },
  {
   "cell_type": "code",
   "execution_count": 210,
   "id": "0a372741",
   "metadata": {},
   "outputs": [],
   "source": [
    "# функция, которая возвращает функцию"
   ]
  },
  {
   "cell_type": "code",
   "execution_count": 211,
   "id": "29bf4a4c",
   "metadata": {},
   "outputs": [],
   "source": [
    "# генерация колоды карт"
   ]
  },
  {
   "cell_type": "code",
   "execution_count": 212,
   "id": "d6a9bef5",
   "metadata": {},
   "outputs": [],
   "source": [
    "# вектор из значений\n",
    "values <- c(\"Ace\", 2:10, \"Jack\", \"Queen\", \"King\")\n",
    "# вектор из мастей\n",
    "suits <- c(\"Clubs\", \"Diamonds\", \"Hearts\", \"Spades\")\n",
    "card_deck <- outer(values, suits, paste, sep = \" of \")"
   ]
  },
  {
   "cell_type": "code",
   "execution_count": 217,
   "id": "aa48e552",
   "metadata": {},
   "outputs": [
    {
     "data": {
      "text/html": [
       "<table>\n",
       "<tbody>\n",
       "\t<tr><td>Ace of Clubs     </td><td>Ace of Diamonds  </td><td>Ace of Hearts    </td><td>Ace of Spades    </td></tr>\n",
       "\t<tr><td>2 of Clubs       </td><td>2 of Diamonds    </td><td>2 of Hearts      </td><td>2 of Spades      </td></tr>\n",
       "\t<tr><td>3 of Clubs       </td><td>3 of Diamonds    </td><td>3 of Hearts      </td><td>3 of Spades      </td></tr>\n",
       "\t<tr><td>4 of Clubs       </td><td>4 of Diamonds    </td><td>4 of Hearts      </td><td>4 of Spades      </td></tr>\n",
       "\t<tr><td>5 of Clubs       </td><td>5 of Diamonds    </td><td>5 of Hearts      </td><td>5 of Spades      </td></tr>\n",
       "\t<tr><td>6 of Clubs       </td><td>6 of Diamonds    </td><td>6 of Hearts      </td><td>6 of Spades      </td></tr>\n",
       "\t<tr><td>7 of Clubs       </td><td>7 of Diamonds    </td><td>7 of Hearts      </td><td>7 of Spades      </td></tr>\n",
       "\t<tr><td>8 of Clubs       </td><td>8 of Diamonds    </td><td>8 of Hearts      </td><td>8 of Spades      </td></tr>\n",
       "\t<tr><td>9 of Clubs       </td><td>9 of Diamonds    </td><td>9 of Hearts      </td><td>9 of Spades      </td></tr>\n",
       "\t<tr><td>10 of Clubs      </td><td>10 of Diamonds   </td><td>10 of Hearts     </td><td>10 of Spades     </td></tr>\n",
       "\t<tr><td>Jack of Clubs    </td><td>Jack of Diamonds </td><td>Jack of Hearts   </td><td>Jack of Spades   </td></tr>\n",
       "\t<tr><td>Queen of Clubs   </td><td>Queen of Diamonds</td><td>Queen of Hearts  </td><td>Queen of Spades  </td></tr>\n",
       "\t<tr><td>King of Clubs    </td><td>King of Diamonds </td><td>King of Hearts   </td><td>King of Spades   </td></tr>\n",
       "</tbody>\n",
       "</table>\n"
      ],
      "text/latex": [
       "\\begin{tabular}{llll}\n",
       "\t Ace of Clubs      & Ace of Diamonds   & Ace of Hearts     & Ace of Spades    \\\\\n",
       "\t 2 of Clubs        & 2 of Diamonds     & 2 of Hearts       & 2 of Spades      \\\\\n",
       "\t 3 of Clubs        & 3 of Diamonds     & 3 of Hearts       & 3 of Spades      \\\\\n",
       "\t 4 of Clubs        & 4 of Diamonds     & 4 of Hearts       & 4 of Spades      \\\\\n",
       "\t 5 of Clubs        & 5 of Diamonds     & 5 of Hearts       & 5 of Spades      \\\\\n",
       "\t 6 of Clubs        & 6 of Diamonds     & 6 of Hearts       & 6 of Spades      \\\\\n",
       "\t 7 of Clubs        & 7 of Diamonds     & 7 of Hearts       & 7 of Spades      \\\\\n",
       "\t 8 of Clubs        & 8 of Diamonds     & 8 of Hearts       & 8 of Spades      \\\\\n",
       "\t 9 of Clubs        & 9 of Diamonds     & 9 of Hearts       & 9 of Spades      \\\\\n",
       "\t 10 of Clubs       & 10 of Diamonds    & 10 of Hearts      & 10 of Spades     \\\\\n",
       "\t Jack of Clubs     & Jack of Diamonds  & Jack of Hearts    & Jack of Spades   \\\\\n",
       "\t Queen of Clubs    & Queen of Diamonds & Queen of Hearts   & Queen of Spades  \\\\\n",
       "\t King of Clubs     & King of Diamonds  & King of Hearts    & King of Spades   \\\\\n",
       "\\end{tabular}\n"
      ],
      "text/markdown": [
       "\n",
       "| Ace of Clubs      | Ace of Diamonds   | Ace of Hearts     | Ace of Spades     |\n",
       "| 2 of Clubs        | 2 of Diamonds     | 2 of Hearts       | 2 of Spades       |\n",
       "| 3 of Clubs        | 3 of Diamonds     | 3 of Hearts       | 3 of Spades       |\n",
       "| 4 of Clubs        | 4 of Diamonds     | 4 of Hearts       | 4 of Spades       |\n",
       "| 5 of Clubs        | 5 of Diamonds     | 5 of Hearts       | 5 of Spades       |\n",
       "| 6 of Clubs        | 6 of Diamonds     | 6 of Hearts       | 6 of Spades       |\n",
       "| 7 of Clubs        | 7 of Diamonds     | 7 of Hearts       | 7 of Spades       |\n",
       "| 8 of Clubs        | 8 of Diamonds     | 8 of Hearts       | 8 of Spades       |\n",
       "| 9 of Clubs        | 9 of Diamonds     | 9 of Hearts       | 9 of Spades       |\n",
       "| 10 of Clubs       | 10 of Diamonds    | 10 of Hearts      | 10 of Spades      |\n",
       "| Jack of Clubs     | Jack of Diamonds  | Jack of Hearts    | Jack of Spades    |\n",
       "| Queen of Clubs    | Queen of Diamonds | Queen of Hearts   | Queen of Spades   |\n",
       "| King of Clubs     | King of Diamonds  | King of Hearts    | King of Spades    |\n",
       "\n"
      ],
      "text/plain": [
       "      [,1]           [,2]              [,3]            [,4]           \n",
       " [1,] Ace of Clubs   Ace of Diamonds   Ace of Hearts   Ace of Spades  \n",
       " [2,] 2 of Clubs     2 of Diamonds     2 of Hearts     2 of Spades    \n",
       " [3,] 3 of Clubs     3 of Diamonds     3 of Hearts     3 of Spades    \n",
       " [4,] 4 of Clubs     4 of Diamonds     4 of Hearts     4 of Spades    \n",
       " [5,] 5 of Clubs     5 of Diamonds     5 of Hearts     5 of Spades    \n",
       " [6,] 6 of Clubs     6 of Diamonds     6 of Hearts     6 of Spades    \n",
       " [7,] 7 of Clubs     7 of Diamonds     7 of Hearts     7 of Spades    \n",
       " [8,] 8 of Clubs     8 of Diamonds     8 of Hearts     8 of Spades    \n",
       " [9,] 9 of Clubs     9 of Diamonds     9 of Hearts     9 of Spades    \n",
       "[10,] 10 of Clubs    10 of Diamonds    10 of Hearts    10 of Spades   \n",
       "[11,] Jack of Clubs  Jack of Diamonds  Jack of Hearts  Jack of Spades \n",
       "[12,] Queen of Clubs Queen of Diamonds Queen of Hearts Queen of Spades\n",
       "[13,] King of Clubs  King of Diamonds  King of Hearts  King of Spades "
      ]
     },
     "metadata": {},
     "output_type": "display_data"
    }
   ],
   "source": [
    "(card_deck)"
   ]
  },
  {
   "cell_type": "code",
   "execution_count": 218,
   "id": "bf76ae0e",
   "metadata": {},
   "outputs": [
    {
     "data": {
      "text/html": [
       "52"
      ],
      "text/latex": [
       "52"
      ],
      "text/markdown": [
       "52"
      ],
      "text/plain": [
       "[1] 52"
      ]
     },
     "metadata": {},
     "output_type": "display_data"
    }
   ],
   "source": [
    "length(card_deck)"
   ]
  },
  {
   "cell_type": "code",
   "execution_count": 220,
   "id": "1001d017",
   "metadata": {},
   "outputs": [],
   "source": [
    "# фабрика функций"
   ]
  },
  {
   "cell_type": "code",
   "execution_count": 221,
   "id": "8bba1613",
   "metadata": {},
   "outputs": [],
   "source": [
    "generator <- function(set) function(n) sample(set, n, replace = T)"
   ]
  },
  {
   "cell_type": "code",
   "execution_count": 226,
   "id": "46c83b20",
   "metadata": {},
   "outputs": [],
   "source": [
    "# генератор карт\n",
    "card_generator <- generator(card_deck)\n",
    "# генератор орла и решки\n",
    "coin_generator <- generator(c(\"Heads\", \"Tails\"))"
   ]
  },
  {
   "cell_type": "code",
   "execution_count": 240,
   "id": "f2eb7d65",
   "metadata": {},
   "outputs": [
    {
     "data": {
      "text/html": [
       "<ol class=list-inline>\n",
       "\t<li>'Ace of Spades'</li>\n",
       "\t<li>'Ace of Hearts'</li>\n",
       "\t<li>'Jack of Diamonds'</li>\n",
       "\t<li>'7 of Spades'</li>\n",
       "\t<li>'10 of Clubs'</li>\n",
       "\t<li>'6 of Hearts'</li>\n",
       "\t<li>'Jack of Clubs'</li>\n",
       "\t<li>'6 of Hearts'</li>\n",
       "\t<li>'9 of Diamonds'</li>\n",
       "\t<li>'6 of Diamonds'</li>\n",
       "</ol>\n"
      ],
      "text/latex": [
       "\\begin{enumerate*}\n",
       "\\item 'Ace of Spades'\n",
       "\\item 'Ace of Hearts'\n",
       "\\item 'Jack of Diamonds'\n",
       "\\item '7 of Spades'\n",
       "\\item '10 of Clubs'\n",
       "\\item '6 of Hearts'\n",
       "\\item 'Jack of Clubs'\n",
       "\\item '6 of Hearts'\n",
       "\\item '9 of Diamonds'\n",
       "\\item '6 of Diamonds'\n",
       "\\end{enumerate*}\n"
      ],
      "text/markdown": [
       "1. 'Ace of Spades'\n",
       "2. 'Ace of Hearts'\n",
       "3. 'Jack of Diamonds'\n",
       "4. '7 of Spades'\n",
       "5. '10 of Clubs'\n",
       "6. '6 of Hearts'\n",
       "7. 'Jack of Clubs'\n",
       "8. '6 of Hearts'\n",
       "9. '9 of Diamonds'\n",
       "10. '6 of Diamonds'\n",
       "\n",
       "\n"
      ],
      "text/plain": [
       " [1] \"Ace of Spades\"    \"Ace of Hearts\"    \"Jack of Diamonds\" \"7 of Spades\"     \n",
       " [5] \"10 of Clubs\"      \"6 of Hearts\"      \"Jack of Clubs\"    \"6 of Hearts\"     \n",
       " [9] \"9 of Diamonds\"    \"6 of Diamonds\"   "
      ]
     },
     "metadata": {},
     "output_type": "display_data"
    }
   ],
   "source": [
    "card_generator(10)"
   ]
  },
  {
   "cell_type": "code",
   "execution_count": 243,
   "id": "be052acf",
   "metadata": {},
   "outputs": [
    {
     "data": {
      "text/html": [
       "<ol class=list-inline>\n",
       "\t<li>'Tails'</li>\n",
       "\t<li>'Heads'</li>\n",
       "\t<li>'Tails'</li>\n",
       "\t<li>'Tails'</li>\n",
       "\t<li>'Tails'</li>\n",
       "</ol>\n"
      ],
      "text/latex": [
       "\\begin{enumerate*}\n",
       "\\item 'Tails'\n",
       "\\item 'Heads'\n",
       "\\item 'Tails'\n",
       "\\item 'Tails'\n",
       "\\item 'Tails'\n",
       "\\end{enumerate*}\n"
      ],
      "text/markdown": [
       "1. 'Tails'\n",
       "2. 'Heads'\n",
       "3. 'Tails'\n",
       "4. 'Tails'\n",
       "5. 'Tails'\n",
       "\n",
       "\n"
      ],
      "text/plain": [
       "[1] \"Tails\" \"Heads\" \"Tails\" \"Tails\" \"Tails\""
      ]
     },
     "metadata": {},
     "output_type": "display_data"
    }
   ],
   "source": [
    "coin_generator(5)"
   ]
  },
  {
   "cell_type": "code",
   "execution_count": 1229,
   "id": "543a3fa4",
   "metadata": {},
   "outputs": [],
   "source": [
    "generator <- function(set, prob = rep(1/length(set), length(set))) {\n",
    "    function(n) sample(set, n, replace = T, prob)\n",
    "\n",
    "} \n",
    "\n",
    "roulette_values <- c(\"Zero!\", 1:36)\n",
    "fair_roulette <- generator(roulette_values)\n",
    "p <- c(rep(2/(length(roulette_values)+1),1),\n",
    "     rep(1/(length(roulette_values) +1), (length(roulette_values)-1)))\n",
    "rigged_roulette <- generator(roulette_values, prob = p)"
   ]
  },
  {
   "cell_type": "code",
   "execution_count": 1230,
   "id": "7cba6ac3",
   "metadata": {},
   "outputs": [
    {
     "data": {
      "text/html": [
       "<ol class=list-inline>\n",
       "\t<li>'11'</li>\n",
       "\t<li>'31'</li>\n",
       "\t<li>'31'</li>\n",
       "\t<li>'32'</li>\n",
       "\t<li>'Zero!'</li>\n",
       "\t<li>'34'</li>\n",
       "\t<li>'20'</li>\n",
       "\t<li>'2'</li>\n",
       "\t<li>'27'</li>\n",
       "\t<li>'25'</li>\n",
       "</ol>\n"
      ],
      "text/latex": [
       "\\begin{enumerate*}\n",
       "\\item '11'\n",
       "\\item '31'\n",
       "\\item '31'\n",
       "\\item '32'\n",
       "\\item 'Zero!'\n",
       "\\item '34'\n",
       "\\item '20'\n",
       "\\item '2'\n",
       "\\item '27'\n",
       "\\item '25'\n",
       "\\end{enumerate*}\n"
      ],
      "text/markdown": [
       "1. '11'\n",
       "2. '31'\n",
       "3. '31'\n",
       "4. '32'\n",
       "5. 'Zero!'\n",
       "6. '34'\n",
       "7. '20'\n",
       "8. '2'\n",
       "9. '27'\n",
       "10. '25'\n",
       "\n",
       "\n"
      ],
      "text/plain": [
       " [1] \"11\"    \"31\"    \"31\"    \"32\"    \"Zero!\" \"34\"    \"20\"    \"2\"     \"27\"   \n",
       "[10] \"25\"   "
      ]
     },
     "metadata": {},
     "output_type": "display_data"
    }
   ],
   "source": [
    "rigged_roulette(10)"
   ]
  },
  {
   "cell_type": "code",
   "execution_count": 1231,
   "id": "3b0033de",
   "metadata": {},
   "outputs": [
    {
     "data": {
      "text/html": [
       "<pre class=language-r><code>function (x, type = c(\"O\", \"I\", \"F\", \"M\", \"2\")) \n",
       "{\n",
       "<span style=white-space:pre-wrap>    if (identical(\"2\", type)) {</span>\n",
       "<span style=white-space:pre-wrap>        svd(x, nu = 0L, nv = 0L)$d[1L]</span>\n",
       "<span style=white-space:pre-wrap>    }</span>\n",
       "<span style=white-space:pre-wrap>    else .Internal(La_dlange(x, type))</span>\n",
       "}</code></pre>"
      ],
      "text/latex": [
       "\\begin{minted}{r}\n",
       "function (x, type = c(\"O\", \"I\", \"F\", \"M\", \"2\")) \n",
       "\\{\n",
       "    if (identical(\"2\", type)) \\{\n",
       "        svd(x, nu = 0L, nv = 0L)\\$d{[}1L{]}\n",
       "    \\}\n",
       "    else .Internal(La\\_dlange(x, type))\n",
       "\\}\n",
       "\\end{minted}"
      ],
      "text/markdown": [
       "```r\n",
       "function (x, type = c(\"O\", \"I\", \"F\", \"M\", \"2\")) \n",
       "{\n",
       "    if (identical(\"2\", type)) {\n",
       "        svd(x, nu = 0L, nv = 0L)$d[1L]\n",
       "    }\n",
       "    else .Internal(La_dlange(x, type))\n",
       "}\n",
       "```"
      ],
      "text/plain": [
       "function (x, type = c(\"O\", \"I\", \"F\", \"M\", \"2\")) \n",
       "{\n",
       "    if (identical(\"2\", type)) {\n",
       "        svd(x, nu = 0L, nv = 0L)$d[1L]\n",
       "    }\n",
       "    else .Internal(La_dlange(x, type))\n",
       "}\n",
       "<bytecode: 0x558efa8ab078>\n",
       "<environment: namespace:base>"
      ]
     },
     "metadata": {},
     "output_type": "display_data"
    }
   ],
   "source": [
    "norm"
   ]
  },
  {
   "cell_type": "code",
   "execution_count": 1232,
   "id": "35336e3c",
   "metadata": {},
   "outputs": [],
   "source": [
    "a <- c(1:5)\n",
    "b <- c(1:2)"
   ]
  },
  {
   "cell_type": "code",
   "execution_count": 1268,
   "id": "9bb5847e",
   "metadata": {},
   "outputs": [],
   "source": [
    "\"%+%\" <- function(x, y) {\n",
    "    v <- c()\n",
    "    if (length(x) > length(y)){\n",
    "        for (i in 1:length(x)) {\n",
    "           v <- append(v, x[i] + y[i])\n",
    "        }\n",
    "    }else{\n",
    "        for (i in 1:length(y)) {\n",
    "           v <- append(v, x[i] + y[i])\n",
    "            }\n",
    "    }\n",
    "    return(v)\n",
    "}\n"
   ]
  },
  {
   "cell_type": "code",
   "execution_count": 1279,
   "id": "2d019d8b",
   "metadata": {},
   "outputs": [],
   "source": [
    "\"%+%\" <- function(x, y) {\n",
    "    if (length(x) > length(y)) {\n",
    "        length(y) <- length(x)\n",
    "        return(x + y)\n",
    "    }else{\n",
    "        length(x) <- length(y)\n",
    "        return(x + y)\n",
    "    }\n",
    "}"
   ]
  },
  {
   "cell_type": "code",
   "execution_count": 1282,
   "id": "db4c0a7b",
   "metadata": {},
   "outputs": [],
   "source": [
    "'%+%' <- function(x, y) {\n",
    "    length(x) <- length(y) <- max(length(x), length(y))\n",
    "    x + y\n",
    "}"
   ]
  },
  {
   "cell_type": "code",
   "execution_count": 1283,
   "id": "cf75e74d",
   "metadata": {},
   "outputs": [
    {
     "data": {
      "text/html": [
       "<ol class=list-inline>\n",
       "\t<li>2</li>\n",
       "\t<li>4</li>\n",
       "\t<li>&lt;NA&gt;</li>\n",
       "\t<li>&lt;NA&gt;</li>\n",
       "\t<li>&lt;NA&gt;</li>\n",
       "</ol>\n"
      ],
      "text/latex": [
       "\\begin{enumerate*}\n",
       "\\item 2\n",
       "\\item 4\n",
       "\\item <NA>\n",
       "\\item <NA>\n",
       "\\item <NA>\n",
       "\\end{enumerate*}\n"
      ],
      "text/markdown": [
       "1. 2\n",
       "2. 4\n",
       "3. &lt;NA&gt;\n",
       "4. &lt;NA&gt;\n",
       "5. &lt;NA&gt;\n",
       "\n",
       "\n"
      ],
      "text/plain": [
       "[1]  2  4 NA NA NA"
      ]
     },
     "metadata": {},
     "output_type": "display_data"
    }
   ],
   "source": [
    "1:5 %+% 1:2"
   ]
  },
  {
   "cell_type": "code",
   "execution_count": 1285,
   "id": "ae968f10",
   "metadata": {},
   "outputs": [],
   "source": [
    "# Общий глоссарий для этого урока\n",
    "\n",
    "# ?function\n",
    "# Source code of function\n",
    "# ?Methods\n",
    "# Argument matching\n",
    "# ?\"...\""
   ]
  }
 ],
 "metadata": {
  "kernelspec": {
   "display_name": "R",
   "language": "R",
   "name": "ir"
  },
  "language_info": {
   "codemirror_mode": "r",
   "file_extension": ".r",
   "mimetype": "text/x-r-source",
   "name": "R",
   "pygments_lexer": "r",
   "version": "3.6.1"
  }
 },
 "nbformat": 4,
 "nbformat_minor": 5
}
